{
 "cells": [
  {
   "cell_type": "markdown",
   "id": "d5415fa3",
   "metadata": {},
   "source": [
    "## Load the relevant data"
   ]
  },
  {
   "cell_type": "markdown",
   "id": "69c23f49",
   "metadata": {},
   "source": [
    "Load the libraries needed to work with the data"
   ]
  },
  {
   "cell_type": "code",
   "execution_count": 1,
   "id": "08128fa2",
   "metadata": {},
   "outputs": [],
   "source": [
    "import constants\n",
    "import pandas as pd\n",
    "import os\n",
    "from IPython.display import display\n",
    "%config Completer.use_jedi = False"
   ]
  },
  {
   "cell_type": "markdown",
   "id": "fd2ce9a7",
   "metadata": {},
   "source": [
    "Set up the paths to data"
   ]
  },
  {
   "cell_type": "code",
   "execution_count": 2,
   "id": "77323b50",
   "metadata": {},
   "outputs": [],
   "source": [
    "input_directory = constants.output_data_markov_modelling\n",
    "\n",
    "path = os.getcwd()\n",
    "parent = os.path.abspath(os.path.join(path, os.pardir))\n",
    "input_directory = parent +'/'+ constants.input_directory\n",
    "feature_original = pd.read_csv(parent+'/'+ constants.segment_keyword_matrix_original_feature_index )\n",
    "feature_map = pd.read_csv(parent+'/'+ constants.feature_map )"
   ]
  },
  {
   "cell_type": "code",
   "execution_count": 4,
   "id": "4f5163f5",
   "metadata": {},
   "outputs": [
    {
     "data": {
      "text/plain": [
       "'data/input/feature_map_no_friends_no_food_sharing_2.csv'"
      ]
     },
     "execution_count": 4,
     "metadata": {},
     "output_type": "execute_result"
    }
   ],
   "source": [
    "constants.feature_map"
   ]
  },
  {
   "cell_type": "markdown",
   "id": "00dadb9e",
   "metadata": {},
   "source": [
    "## Compare them"
   ]
  },
  {
   "cell_type": "code",
   "execution_count": 3,
   "id": "a75bfd9c",
   "metadata": {},
   "outputs": [],
   "source": [
    "for element in feature_original.KeywordLabel.to_list():\n",
    "    if element not in feature_map.KeywordLabel.to_list():\n",
    "        if 'camp '+ element not in feature_map.KeywordLabel.to_list():\n",
    "            print (element)"
   ]
  }
 ],
 "metadata": {
  "kernelspec": {
   "display_name": "Python 3",
   "language": "python",
   "name": "python3"
  },
  "language_info": {
   "codemirror_mode": {
    "name": "ipython",
    "version": 3
   },
   "file_extension": ".py",
   "mimetype": "text/x-python",
   "name": "python",
   "nbconvert_exporter": "python",
   "pygments_lexer": "ipython3",
   "version": "3.7.2"
  }
 },
 "nbformat": 4,
 "nbformat_minor": 5
}

{
 "cells": [
  {
   "cell_type": "markdown",
   "metadata": {},
   "source": [
    "# Topics of Sociability and Solidarity in Recollections of men and women of different nationalities"
   ]
  },
  {
   "cell_type": "markdown",
   "metadata": {},
   "source": [
    "\n",
    "\n",
    " ### Research Question:"
   ]
  },
  {
   "cell_type": "markdown",
   "metadata": {},
   "source": [
    "In Birkenau people of different nationalities were together; is it possible that women of one nationality give rise to the general trend that women are more likely to discuss memories of sociability and solidarity? Can we observe this phenomenon with different nationalities?"
   ]
  },
  {
   "cell_type": "markdown",
   "metadata": {},
   "source": [
    "### Further considerations:`"
   ]
  },
  {
   "cell_type": "markdown",
   "metadata": {},
   "source": [
    "- Nationality is somewhat intangible in the context of the data; hence, by nationality we mean the country of birth"
   ]
  },
  {
   "cell_type": "markdown",
   "metadata": {},
   "source": [
    "- In dataset, 13 different nationalities are present;"
   ]
  },
  {
   "cell_type": "code",
   "execution_count": 204,
   "metadata": {},
   "outputs": [],
   "source": [
    "import constants\n",
    "import pandas as pd\n",
    "import os\n",
    "from IPython.display import display\n",
    "import json"
   ]
  },
  {
   "cell_type": "code",
   "execution_count": 205,
   "metadata": {},
   "outputs": [
    {
     "data": {
      "text/plain": [
       "13"
      ]
     },
     "execution_count": 205,
     "metadata": {},
     "output_type": "execute_result"
    }
   ],
   "source": [
    "\n",
    "path = os.getcwd()\n",
    "parent = os.path.abspath(os.path.join(path, os.pardir))\n",
    "with open(parent+'/'+constants.output_data_segment_keyword_matrix + \"metadata_partitions.json\") as read_file:\n",
    "        metadata_partitions = json.load(read_file)\n",
    "nationalities = [element for element in metadata_partitions.keys() if (element[0].isupper()) and (element[-2] !=\"_\")]\n",
    "len(nationalities)"
   ]
  },
  {
   "cell_type": "markdown",
   "metadata": {},
   "source": [
    "- But majority of victims were born in 5 countries, here we will focus on those who were born in these five countries; the number of victims is not enough with other countries"
   ]
  },
  {
   "cell_type": "code",
   "execution_count": 206,
   "metadata": {},
   "outputs": [],
   "source": [
    "countries = []\n",
    "for country in nationalities:\n",
    "    countries.append({'country':country,'total':len(metadata_partitions[country]),'women':len(metadata_partitions[country+'_w']),'men':len(metadata_partitions[country+'_m'])})\n",
    "    \n",
    "countries = pd.DataFrame(countries)\n",
    "    "
   ]
  },
  {
   "cell_type": "code",
   "execution_count": 207,
   "metadata": {},
   "outputs": [
    {
     "data": {
      "text/html": [
       "<div>\n",
       "<style scoped>\n",
       "    .dataframe tbody tr th:only-of-type {\n",
       "        vertical-align: middle;\n",
       "    }\n",
       "\n",
       "    .dataframe tbody tr th {\n",
       "        vertical-align: top;\n",
       "    }\n",
       "\n",
       "    .dataframe thead th {\n",
       "        text-align: right;\n",
       "    }\n",
       "</style>\n",
       "<table border=\"1\" class=\"dataframe\">\n",
       "  <thead>\n",
       "    <tr style=\"text-align: right;\">\n",
       "      <th></th>\n",
       "      <th>country</th>\n",
       "      <th>total</th>\n",
       "      <th>women</th>\n",
       "      <th>men</th>\n",
       "    </tr>\n",
       "  </thead>\n",
       "  <tbody>\n",
       "    <tr>\n",
       "      <th>2</th>\n",
       "      <td>Czechoslovakia (historical)</td>\n",
       "      <td>1817</td>\n",
       "      <td>1317</td>\n",
       "      <td>500</td>\n",
       "    </tr>\n",
       "    <tr>\n",
       "      <th>9</th>\n",
       "      <td>Poland</td>\n",
       "      <td>1404</td>\n",
       "      <td>849</td>\n",
       "      <td>555</td>\n",
       "    </tr>\n",
       "    <tr>\n",
       "      <th>6</th>\n",
       "      <td>Hungary</td>\n",
       "      <td>1030</td>\n",
       "      <td>832</td>\n",
       "      <td>198</td>\n",
       "    </tr>\n",
       "    <tr>\n",
       "      <th>10</th>\n",
       "      <td>Romania</td>\n",
       "      <td>948</td>\n",
       "      <td>690</td>\n",
       "      <td>258</td>\n",
       "    </tr>\n",
       "    <tr>\n",
       "      <th>1</th>\n",
       "      <td>Austria-Hungary (historical)</td>\n",
       "      <td>478</td>\n",
       "      <td>358</td>\n",
       "      <td>120</td>\n",
       "    </tr>\n",
       "    <tr>\n",
       "      <th>11</th>\n",
       "      <td>Russia</td>\n",
       "      <td>199</td>\n",
       "      <td>81</td>\n",
       "      <td>118</td>\n",
       "    </tr>\n",
       "    <tr>\n",
       "      <th>4</th>\n",
       "      <td>Germany</td>\n",
       "      <td>147</td>\n",
       "      <td>82</td>\n",
       "      <td>65</td>\n",
       "    </tr>\n",
       "    <tr>\n",
       "      <th>5</th>\n",
       "      <td>Greece</td>\n",
       "      <td>129</td>\n",
       "      <td>68</td>\n",
       "      <td>61</td>\n",
       "    </tr>\n",
       "    <tr>\n",
       "      <th>12</th>\n",
       "      <td>Yugoslavia (historical)</td>\n",
       "      <td>100</td>\n",
       "      <td>84</td>\n",
       "      <td>16</td>\n",
       "    </tr>\n",
       "    <tr>\n",
       "      <th>8</th>\n",
       "      <td>Netherlands</td>\n",
       "      <td>90</td>\n",
       "      <td>53</td>\n",
       "      <td>37</td>\n",
       "    </tr>\n",
       "    <tr>\n",
       "      <th>3</th>\n",
       "      <td>France</td>\n",
       "      <td>86</td>\n",
       "      <td>59</td>\n",
       "      <td>27</td>\n",
       "    </tr>\n",
       "    <tr>\n",
       "      <th>0</th>\n",
       "      <td>Austria</td>\n",
       "      <td>62</td>\n",
       "      <td>42</td>\n",
       "      <td>20</td>\n",
       "    </tr>\n",
       "    <tr>\n",
       "      <th>7</th>\n",
       "      <td>Italy</td>\n",
       "      <td>53</td>\n",
       "      <td>29</td>\n",
       "      <td>24</td>\n",
       "    </tr>\n",
       "  </tbody>\n",
       "</table>\n",
       "</div>"
      ],
      "text/plain": [
       "                         country  total  women  men\n",
       "2    Czechoslovakia (historical)   1817   1317  500\n",
       "9                         Poland   1404    849  555\n",
       "6                        Hungary   1030    832  198\n",
       "10                       Romania    948    690  258\n",
       "1   Austria-Hungary (historical)    478    358  120\n",
       "11                        Russia    199     81  118\n",
       "4                        Germany    147     82   65\n",
       "5                         Greece    129     68   61\n",
       "12       Yugoslavia (historical)    100     84   16\n",
       "8                    Netherlands     90     53   37\n",
       "3                         France     86     59   27\n",
       "0                        Austria     62     42   20\n",
       "7                          Italy     53     29   24"
      ]
     },
     "execution_count": 207,
     "metadata": {},
     "output_type": "execute_result"
    }
   ],
   "source": [
    "countries.sort_values('total',ascending=False)"
   ]
  },
  {
   "cell_type": "code",
   "execution_count": 208,
   "metadata": {},
   "outputs": [
    {
     "data": {
      "text/plain": [
       "5677"
      ]
     },
     "execution_count": 208,
     "metadata": {},
     "output_type": "execute_result"
    }
   ],
   "source": [
    "countries.sort_values('total',ascending=False)[0:5].total.sum()"
   ]
  },
  {
   "cell_type": "code",
   "execution_count": 209,
   "metadata": {},
   "outputs": [
    {
     "data": {
      "text/plain": [
       "866"
      ]
     },
     "execution_count": 209,
     "metadata": {},
     "output_type": "execute_result"
    }
   ],
   "source": [
    "countries.sort_values('total',ascending=False)[5:].total.sum()"
   ]
  },
  {
   "cell_type": "code",
   "execution_count": 210,
   "metadata": {},
   "outputs": [
    {
     "data": {
      "text/plain": [
       "2      Czechoslovakia (historical)\n",
       "9                           Poland\n",
       "6                          Hungary\n",
       "10                         Romania\n",
       "1     Austria-Hungary (historical)\n",
       "Name: country, dtype: object"
      ]
     },
     "execution_count": 210,
     "metadata": {},
     "output_type": "execute_result"
    }
   ],
   "source": [
    "countries.sort_values('total',ascending=False)[0:5].country"
   ]
  },
  {
   "cell_type": "code",
   "execution_count": 211,
   "metadata": {},
   "outputs": [],
   "source": [
    "countries_to_study = countries.sort_values('total',ascending=False).country.to_list()[0:5]"
   ]
  },
  {
   "cell_type": "markdown",
   "metadata": {},
   "source": [
    "## Load the relevant data"
   ]
  },
  {
   "cell_type": "markdown",
   "metadata": {},
   "source": [
    "Load interview"
   ]
  },
  {
   "cell_type": "markdown",
   "metadata": {},
   "source": [
    "Set up the paths to data"
   ]
  },
  {
   "cell_type": "markdown",
   "metadata": {},
   "source": [
    "Two different datasets were created. In Dataset 1, the topic 'social bonds' include 'friendship' as well; similarly the topic 'aid giving' includes 'food sharing'. In Dataset 2, 'friendship' and 'food sharing' are distinguished, and they are different topics."
   ]
  },
  {
   "cell_type": "markdown",
   "metadata": {},
   "source": [
    "First, load Dataset 1"
   ]
  },
  {
   "cell_type": "code",
   "execution_count": 212,
   "metadata": {},
   "outputs": [],
   "source": [
    "input_directory = constants.output_data_markov_modelling\n",
    "\n",
    "path = os.getcwd()\n",
    "parent = os.path.abspath(os.path.join(path, os.pardir))\n",
    "input_directory = parent +'/'+ constants.output_data_markov_modelling\n",
    "input_directory_fisher = parent +'/'+ constants.output_data_report_statistical_analysis\n",
    "input_file_fisher = 'strength_of_association_odds_ratio'"
   ]
  },
  {
   "cell_type": "code",
   "execution_count": 213,
   "metadata": {},
   "outputs": [],
   "source": [
    "data_sets_1 = {}\n",
    "for country in countries_to_study:\n",
    "    data_sets_1[country+'_w']= pd.read_csv(input_directory+country+'_w'+'/'+'stationary_probs.csv')\n",
    "    data_sets_1[country+'_m']= pd.read_csv(input_directory+country+'_m'+'/'+'stationary_probs.csv')\n",
    "    match ='strength_of_association_odds_ratio_Czechoslovakia (historical)_w_Czechoslovakia (historical)_m.csv'\n",
    "    fisher_input_file_name = input_directory_fisher+input_file_fisher+'_'+country+'_w_'+country+'_m.csv'\n",
    "    data_sets_1[country+'_fisher']= pd.read_csv(fisher_input_file_name)"
   ]
  },
  {
   "cell_type": "markdown",
   "metadata": {},
   "source": [
    "Second,load Dataset 2"
   ]
  },
  {
   "cell_type": "code",
   "execution_count": 214,
   "metadata": {},
   "outputs": [],
   "source": [
    "input_directory = 'data/output_aid_giving_sociability_expanded/output/markov_modelling/'\n",
    "\n",
    "path = os.getcwd()\n",
    "parent = os.path.abspath(os.path.join(path, os.pardir))\n",
    "input_directory_fisher = parent +'/'+ 'data/output_aid_giving_sociability_expanded/output/reports_statistical_analysis/'\n",
    "input_directory = parent +'/'+ input_directory "
   ]
  },
  {
   "cell_type": "code",
   "execution_count": 215,
   "metadata": {},
   "outputs": [],
   "source": [
    "data_sets_2 = {}\n",
    "for country in countries_to_study:\n",
    "    data_sets_2[country+'_w']= pd.read_csv(input_directory+country+'_w'+'/'+'stationary_probs.csv')\n",
    "    data_sets_2[country+'_m']= pd.read_csv(input_directory+country+'_m'+'/'+'stationary_probs.csv')\n",
    "    fisher_input_file_name = input_directory_fisher+input_file_fisher+'_'+country+'_w_'+country+'_m.csv'\n",
    "    data_sets_2[country+'_fisher']= pd.read_csv(fisher_input_file_name)"
   ]
  },
  {
   "cell_type": "markdown",
   "metadata": {},
   "source": [
    "## Observation 1"
   ]
  },
  {
   "cell_type": "markdown",
   "metadata": {},
   "source": [
    "## Qualitative description"
   ]
  },
  {
   "cell_type": "markdown",
   "metadata": {},
   "source": [
    "some text"
   ]
  },
  {
   "cell_type": "markdown",
   "metadata": {},
   "source": [
    "## Quantitative proof"
   ]
  },
  {
   "cell_type": "code",
   "execution_count": 216,
   "metadata": {},
   "outputs": [
    {
     "data": {
      "text/plain": [
       "dict_keys(['Czechoslovakia (historical)_w', 'Czechoslovakia (historical)_m', 'Czechoslovakia (historical)_fisher', 'Poland_w', 'Poland_m', 'Poland_fisher', 'Hungary_w', 'Hungary_m', 'Hungary_fisher', 'Romania_w', 'Romania_m', 'Romania_fisher', 'Austria-Hungary (historical)_w', 'Austria-Hungary (historical)_m', 'Austria-Hungary (historical)_fisher'])"
      ]
     },
     "execution_count": 216,
     "metadata": {},
     "output_type": "execute_result"
    }
   ],
   "source": [
    "data_sets_1.keys()"
   ]
  },
  {
   "cell_type": "code",
   "execution_count": 217,
   "metadata": {},
   "outputs": [
    {
     "name": "stdout",
     "output_type": "stream",
     "text": [
      "\n",
      "\n",
      "Czechoslovakia (historical)\n",
      "Probability of women talking about social bonds\n",
      "18.89457777370193\n",
      "Probability of men talking about social bonds\n",
      "17.756734251024444\n",
      "Women to man ratio\n",
      "1.0640795490089534\n",
      "Result of Fisher test and odds ratio analysis:\n"
     ]
    },
    {
     "data": {
      "text/html": [
       "<div>\n",
       "<style scoped>\n",
       "    .dataframe tbody tr th:only-of-type {\n",
       "        vertical-align: middle;\n",
       "    }\n",
       "\n",
       "    .dataframe tbody tr th {\n",
       "        vertical-align: top;\n",
       "    }\n",
       "\n",
       "    .dataframe thead th {\n",
       "        text-align: right;\n",
       "    }\n",
       "</style>\n",
       "<table border=\"1\" class=\"dataframe\">\n",
       "  <thead>\n",
       "    <tr style=\"text-align: right;\">\n",
       "      <th></th>\n",
       "      <th>Unnamed: 0</th>\n",
       "      <th>topic_word</th>\n",
       "      <th>p_value</th>\n",
       "      <th>Czechoslovakia (historical)_w</th>\n",
       "      <th>Czechoslovakia (historical)_m</th>\n",
       "      <th>count_Czechoslovakia (historical)_w</th>\n",
       "      <th>count_Czechoslovakia (historical)_m</th>\n",
       "      <th>significance_Bonferroni_corrected</th>\n",
       "      <th>significance</th>\n",
       "    </tr>\n",
       "  </thead>\n",
       "  <tbody>\n",
       "    <tr>\n",
       "      <th>16</th>\n",
       "      <td>97</td>\n",
       "      <td>social bonds</td>\n",
       "      <td>0.00345</td>\n",
       "      <td>1.5328</td>\n",
       "      <td>0.652401</td>\n",
       "      <td>263</td>\n",
       "      <td>70</td>\n",
       "      <td>False</td>\n",
       "      <td>True</td>\n",
       "    </tr>\n",
       "  </tbody>\n",
       "</table>\n",
       "</div>"
      ],
      "text/plain": [
       "    Unnamed: 0    topic_word  p_value  Czechoslovakia (historical)_w  \\\n",
       "16          97  social bonds  0.00345                         1.5328   \n",
       "\n",
       "    Czechoslovakia (historical)_m  count_Czechoslovakia (historical)_w  \\\n",
       "16                       0.652401                                  263   \n",
       "\n",
       "    count_Czechoslovakia (historical)_m  significance_Bonferroni_corrected  \\\n",
       "16                                   70                              False   \n",
       "\n",
       "    significance  \n",
       "16          True  "
      ]
     },
     "metadata": {},
     "output_type": "display_data"
    },
    {
     "name": "stdout",
     "output_type": "stream",
     "text": [
      "\n",
      "\n",
      "Poland\n",
      "Probability of women talking about social bonds\n",
      "13.773455036227158\n",
      "Probability of men talking about social bonds\n",
      "16.64552719950897\n",
      "Women to man ratio\n",
      "0.827456821952354\n",
      "Result of Fisher test and odds ratio analysis:\n"
     ]
    },
    {
     "data": {
      "text/html": [
       "<div>\n",
       "<style scoped>\n",
       "    .dataframe tbody tr th:only-of-type {\n",
       "        vertical-align: middle;\n",
       "    }\n",
       "\n",
       "    .dataframe tbody tr th {\n",
       "        vertical-align: top;\n",
       "    }\n",
       "\n",
       "    .dataframe thead th {\n",
       "        text-align: right;\n",
       "    }\n",
       "</style>\n",
       "<table border=\"1\" class=\"dataframe\">\n",
       "  <thead>\n",
       "    <tr style=\"text-align: right;\">\n",
       "      <th></th>\n",
       "      <th>Unnamed: 0</th>\n",
       "      <th>topic_word</th>\n",
       "      <th>p_value</th>\n",
       "      <th>Poland_w</th>\n",
       "      <th>Poland_m</th>\n",
       "      <th>count_Poland_w</th>\n",
       "      <th>count_Poland_m</th>\n",
       "      <th>significance_Bonferroni_corrected</th>\n",
       "      <th>significance</th>\n",
       "    </tr>\n",
       "  </thead>\n",
       "  <tbody>\n",
       "    <tr>\n",
       "      <th>38</th>\n",
       "      <td>97</td>\n",
       "      <td>social bonds</td>\n",
       "      <td>0.149723</td>\n",
       "      <td>1.263752</td>\n",
       "      <td>0.791295</td>\n",
       "      <td>140</td>\n",
       "      <td>75</td>\n",
       "      <td>False</td>\n",
       "      <td>False</td>\n",
       "    </tr>\n",
       "  </tbody>\n",
       "</table>\n",
       "</div>"
      ],
      "text/plain": [
       "    Unnamed: 0    topic_word   p_value  Poland_w  Poland_m  count_Poland_w  \\\n",
       "38          97  social bonds  0.149723  1.263752  0.791295             140   \n",
       "\n",
       "    count_Poland_m  significance_Bonferroni_corrected  significance  \n",
       "38              75                              False         False  "
      ]
     },
     "metadata": {},
     "output_type": "display_data"
    },
    {
     "name": "stdout",
     "output_type": "stream",
     "text": [
      "\n",
      "\n",
      "Hungary\n",
      "Probability of women talking about social bonds\n",
      "15.37529012361197\n",
      "Probability of men talking about social bonds\n",
      "8.338377766441337\n",
      "Women to man ratio\n",
      "1.8439186319299916\n",
      "Result of Fisher test and odds ratio analysis:\n"
     ]
    },
    {
     "data": {
      "text/html": [
       "<div>\n",
       "<style scoped>\n",
       "    .dataframe tbody tr th:only-of-type {\n",
       "        vertical-align: middle;\n",
       "    }\n",
       "\n",
       "    .dataframe tbody tr th {\n",
       "        vertical-align: top;\n",
       "    }\n",
       "\n",
       "    .dataframe thead th {\n",
       "        text-align: right;\n",
       "    }\n",
       "</style>\n",
       "<table border=\"1\" class=\"dataframe\">\n",
       "  <thead>\n",
       "    <tr style=\"text-align: right;\">\n",
       "      <th></th>\n",
       "      <th>Unnamed: 0</th>\n",
       "      <th>topic_word</th>\n",
       "      <th>p_value</th>\n",
       "      <th>Hungary_w</th>\n",
       "      <th>Hungary_m</th>\n",
       "      <th>count_Hungary_w</th>\n",
       "      <th>count_Hungary_m</th>\n",
       "      <th>significance_Bonferroni_corrected</th>\n",
       "      <th>significance</th>\n",
       "    </tr>\n",
       "  </thead>\n",
       "  <tbody>\n",
       "    <tr>\n",
       "      <th>44</th>\n",
       "      <td>97</td>\n",
       "      <td>social bonds</td>\n",
       "      <td>0.196021</td>\n",
       "      <td>1.322304</td>\n",
       "      <td>0.756256</td>\n",
       "      <td>169</td>\n",
       "      <td>32</td>\n",
       "      <td>False</td>\n",
       "      <td>False</td>\n",
       "    </tr>\n",
       "  </tbody>\n",
       "</table>\n",
       "</div>"
      ],
      "text/plain": [
       "    Unnamed: 0    topic_word   p_value  Hungary_w  Hungary_m  count_Hungary_w  \\\n",
       "44          97  social bonds  0.196021   1.322304   0.756256              169   \n",
       "\n",
       "    count_Hungary_m  significance_Bonferroni_corrected  significance  \n",
       "44               32                              False         False  "
      ]
     },
     "metadata": {},
     "output_type": "display_data"
    },
    {
     "name": "stdout",
     "output_type": "stream",
     "text": [
      "\n",
      "\n",
      "Romania\n",
      "Probability of women talking about social bonds\n",
      "16.422038409405726\n",
      "Probability of men talking about social bonds\n",
      "20.654119977184987\n",
      "Women to man ratio\n",
      "0.795097463728587\n",
      "Result of Fisher test and odds ratio analysis:\n"
     ]
    },
    {
     "data": {
      "text/html": [
       "<div>\n",
       "<style scoped>\n",
       "    .dataframe tbody tr th:only-of-type {\n",
       "        vertical-align: middle;\n",
       "    }\n",
       "\n",
       "    .dataframe tbody tr th {\n",
       "        vertical-align: top;\n",
       "    }\n",
       "\n",
       "    .dataframe thead th {\n",
       "        text-align: right;\n",
       "    }\n",
       "</style>\n",
       "<table border=\"1\" class=\"dataframe\">\n",
       "  <thead>\n",
       "    <tr style=\"text-align: right;\">\n",
       "      <th></th>\n",
       "      <th>Unnamed: 0</th>\n",
       "      <th>topic_word</th>\n",
       "      <th>p_value</th>\n",
       "      <th>Romania_w</th>\n",
       "      <th>Romania_m</th>\n",
       "      <th>count_Romania_w</th>\n",
       "      <th>count_Romania_m</th>\n",
       "      <th>significance_Bonferroni_corrected</th>\n",
       "      <th>significance</th>\n",
       "    </tr>\n",
       "  </thead>\n",
       "  <tbody>\n",
       "    <tr>\n",
       "      <th>54</th>\n",
       "      <td>97</td>\n",
       "      <td>social bonds</td>\n",
       "      <td>0.361234</td>\n",
       "      <td>1.204833</td>\n",
       "      <td>0.829991</td>\n",
       "      <td>143</td>\n",
       "      <td>46</td>\n",
       "      <td>False</td>\n",
       "      <td>False</td>\n",
       "    </tr>\n",
       "  </tbody>\n",
       "</table>\n",
       "</div>"
      ],
      "text/plain": [
       "    Unnamed: 0    topic_word   p_value  Romania_w  Romania_m  count_Romania_w  \\\n",
       "54          97  social bonds  0.361234   1.204833   0.829991              143   \n",
       "\n",
       "    count_Romania_m  significance_Bonferroni_corrected  significance  \n",
       "54               46                              False         False  "
      ]
     },
     "metadata": {},
     "output_type": "display_data"
    },
    {
     "name": "stdout",
     "output_type": "stream",
     "text": [
      "\n",
      "\n",
      "Austria-Hungary (historical)\n",
      "Probability of women talking about social bonds\n",
      "10.441562900870723\n",
      "Probability of men talking about social bonds\n",
      "12.57901203333953\n",
      "Women to man ratio\n",
      "0.8300781391413179\n",
      "Result of Fisher test and odds ratio analysis:\n"
     ]
    },
    {
     "data": {
      "text/html": [
       "<div>\n",
       "<style scoped>\n",
       "    .dataframe tbody tr th:only-of-type {\n",
       "        vertical-align: middle;\n",
       "    }\n",
       "\n",
       "    .dataframe tbody tr th {\n",
       "        vertical-align: top;\n",
       "    }\n",
       "\n",
       "    .dataframe thead th {\n",
       "        text-align: right;\n",
       "    }\n",
       "</style>\n",
       "<table border=\"1\" class=\"dataframe\">\n",
       "  <thead>\n",
       "    <tr style=\"text-align: right;\">\n",
       "      <th></th>\n",
       "      <th>Unnamed: 0</th>\n",
       "      <th>topic_word</th>\n",
       "      <th>p_value</th>\n",
       "      <th>Austria-Hungary (historical)_w</th>\n",
       "      <th>Austria-Hungary (historical)_m</th>\n",
       "      <th>count_Austria-Hungary (historical)_w</th>\n",
       "      <th>count_Austria-Hungary (historical)_m</th>\n",
       "      <th>significance_Bonferroni_corrected</th>\n",
       "      <th>significance</th>\n",
       "    </tr>\n",
       "  </thead>\n",
       "  <tbody>\n",
       "    <tr>\n",
       "      <th>50</th>\n",
       "      <td>97</td>\n",
       "      <td>social bonds</td>\n",
       "      <td>0.442039</td>\n",
       "      <td>0.783738</td>\n",
       "      <td>1.275936</td>\n",
       "      <td>46</td>\n",
       "      <td>19</td>\n",
       "      <td>False</td>\n",
       "      <td>False</td>\n",
       "    </tr>\n",
       "  </tbody>\n",
       "</table>\n",
       "</div>"
      ],
      "text/plain": [
       "    Unnamed: 0    topic_word   p_value  Austria-Hungary (historical)_w  \\\n",
       "50          97  social bonds  0.442039                        0.783738   \n",
       "\n",
       "    Austria-Hungary (historical)_m  count_Austria-Hungary (historical)_w  \\\n",
       "50                        1.275936                                    46   \n",
       "\n",
       "    count_Austria-Hungary (historical)_m  significance_Bonferroni_corrected  \\\n",
       "50                                    19                              False   \n",
       "\n",
       "    significance  \n",
       "50         False  "
      ]
     },
     "metadata": {},
     "output_type": "display_data"
    }
   ],
   "source": [
    "topic_word = \"social bonds\"\n",
    "for country in countries_to_study:\n",
    "    print ('\\n')\n",
    "    print (country)\n",
    "     \n",
    "    men = data_sets_1[country+'_m']\n",
    "    topic_m = men[men.topic_name==topic_word]['stationary_prob'].values[0]\n",
    "    women = data_sets_1[country+'_w']\n",
    "    topic_w = women[women.topic_name==topic_word]['stationary_prob'].values[0]\n",
    "    print (\"Probability of women talking about \"+topic_word)\n",
    "    print(topic_w*1000)\n",
    "    print (\"Probability of men talking about \"+topic_word)\n",
    "    print(topic_m*1000)\n",
    "    print (\"Women to man ratio\")\n",
    "    print (topic_w/topic_m)\n",
    "    print ('Result of Fisher test and odds ratio analysis:')\n",
    "    df = data_sets_1[country+'_fisher']\n",
    "    display(df[df.topic_word==topic_word])\n"
   ]
  },
  {
   "cell_type": "markdown",
   "metadata": {},
   "source": [
    "## Observation 2"
   ]
  },
  {
   "cell_type": "markdown",
   "metadata": {},
   "source": [
    "## Qualitative description"
   ]
  },
  {
   "cell_type": "markdown",
   "metadata": {},
   "source": [
    "some text"
   ]
  },
  {
   "cell_type": "markdown",
   "metadata": {},
   "source": [
    "## Quantitative proof"
   ]
  },
  {
   "cell_type": "code",
   "execution_count": 218,
   "metadata": {},
   "outputs": [
    {
     "name": "stdout",
     "output_type": "stream",
     "text": [
      "Czechoslovakia (historical)\n",
      "\n",
      "\n",
      "Probability of women talking about aid giving\n",
      "26.269648492339737\n",
      "Probability of men talking about aid giving\n",
      "29.608854889439225\n",
      "Women to man ratio\n",
      "0.8872227105854573\n",
      "Result of Fisher test and odds ratio analysis:\n"
     ]
    },
    {
     "data": {
      "text/html": [
       "<div>\n",
       "<style scoped>\n",
       "    .dataframe tbody tr th:only-of-type {\n",
       "        vertical-align: middle;\n",
       "    }\n",
       "\n",
       "    .dataframe tbody tr th {\n",
       "        vertical-align: top;\n",
       "    }\n",
       "\n",
       "    .dataframe thead th {\n",
       "        text-align: right;\n",
       "    }\n",
       "</style>\n",
       "<table border=\"1\" class=\"dataframe\">\n",
       "  <thead>\n",
       "    <tr style=\"text-align: right;\">\n",
       "      <th></th>\n",
       "      <th>Unnamed: 0</th>\n",
       "      <th>topic_word</th>\n",
       "      <th>p_value</th>\n",
       "      <th>Czechoslovakia (historical)_w</th>\n",
       "      <th>Czechoslovakia (historical)_m</th>\n",
       "      <th>count_Czechoslovakia (historical)_w</th>\n",
       "      <th>count_Czechoslovakia (historical)_m</th>\n",
       "      <th>significance_Bonferroni_corrected</th>\n",
       "      <th>significance</th>\n",
       "    </tr>\n",
       "  </thead>\n",
       "  <tbody>\n",
       "    <tr>\n",
       "      <th>11</th>\n",
       "      <td>8</td>\n",
       "      <td>aid giving</td>\n",
       "      <td>0.00069</td>\n",
       "      <td>1.499115</td>\n",
       "      <td>0.66706</td>\n",
       "      <td>420</td>\n",
       "      <td>119</td>\n",
       "      <td>False</td>\n",
       "      <td>True</td>\n",
       "    </tr>\n",
       "  </tbody>\n",
       "</table>\n",
       "</div>"
      ],
      "text/plain": [
       "    Unnamed: 0  topic_word  p_value  Czechoslovakia (historical)_w  \\\n",
       "11           8  aid giving  0.00069                       1.499115   \n",
       "\n",
       "    Czechoslovakia (historical)_m  count_Czechoslovakia (historical)_w  \\\n",
       "11                        0.66706                                  420   \n",
       "\n",
       "    count_Czechoslovakia (historical)_m  significance_Bonferroni_corrected  \\\n",
       "11                                  119                              False   \n",
       "\n",
       "    significance  \n",
       "11          True  "
      ]
     },
     "metadata": {},
     "output_type": "display_data"
    },
    {
     "name": "stdout",
     "output_type": "stream",
     "text": [
      "Poland\n",
      "\n",
      "\n",
      "Probability of women talking about aid giving\n",
      "31.094530625167906\n",
      "Probability of men talking about aid giving\n",
      "23.42668691426436\n",
      "Women to man ratio\n",
      "1.3273123399380322\n",
      "Result of Fisher test and odds ratio analysis:\n"
     ]
    },
    {
     "data": {
      "text/html": [
       "<div>\n",
       "<style scoped>\n",
       "    .dataframe tbody tr th:only-of-type {\n",
       "        vertical-align: middle;\n",
       "    }\n",
       "\n",
       "    .dataframe tbody tr th {\n",
       "        vertical-align: top;\n",
       "    }\n",
       "\n",
       "    .dataframe thead th {\n",
       "        text-align: right;\n",
       "    }\n",
       "</style>\n",
       "<table border=\"1\" class=\"dataframe\">\n",
       "  <thead>\n",
       "    <tr style=\"text-align: right;\">\n",
       "      <th></th>\n",
       "      <th>Unnamed: 0</th>\n",
       "      <th>topic_word</th>\n",
       "      <th>p_value</th>\n",
       "      <th>Poland_w</th>\n",
       "      <th>Poland_m</th>\n",
       "      <th>count_Poland_w</th>\n",
       "      <th>count_Poland_m</th>\n",
       "      <th>significance_Bonferroni_corrected</th>\n",
       "      <th>significance</th>\n",
       "    </tr>\n",
       "  </thead>\n",
       "  <tbody>\n",
       "    <tr>\n",
       "      <th>20</th>\n",
       "      <td>8</td>\n",
       "      <td>aid giving</td>\n",
       "      <td>0.016001</td>\n",
       "      <td>1.345095</td>\n",
       "      <td>0.743442</td>\n",
       "      <td>265</td>\n",
       "      <td>140</td>\n",
       "      <td>False</td>\n",
       "      <td>True</td>\n",
       "    </tr>\n",
       "  </tbody>\n",
       "</table>\n",
       "</div>"
      ],
      "text/plain": [
       "    Unnamed: 0  topic_word   p_value  Poland_w  Poland_m  count_Poland_w  \\\n",
       "20           8  aid giving  0.016001  1.345095  0.743442             265   \n",
       "\n",
       "    count_Poland_m  significance_Bonferroni_corrected  significance  \n",
       "20             140                              False          True  "
      ]
     },
     "metadata": {},
     "output_type": "display_data"
    },
    {
     "name": "stdout",
     "output_type": "stream",
     "text": [
      "Hungary\n",
      "\n",
      "\n",
      "Probability of women talking about aid giving\n",
      "15.80533691824304\n",
      "Probability of men talking about aid giving\n",
      "13.283920012275592\n",
      "Women to man ratio\n",
      "1.1898097025303842\n",
      "Result of Fisher test and odds ratio analysis:\n"
     ]
    },
    {
     "data": {
      "text/html": [
       "<div>\n",
       "<style scoped>\n",
       "    .dataframe tbody tr th:only-of-type {\n",
       "        vertical-align: middle;\n",
       "    }\n",
       "\n",
       "    .dataframe tbody tr th {\n",
       "        vertical-align: top;\n",
       "    }\n",
       "\n",
       "    .dataframe thead th {\n",
       "        text-align: right;\n",
       "    }\n",
       "</style>\n",
       "<table border=\"1\" class=\"dataframe\">\n",
       "  <thead>\n",
       "    <tr style=\"text-align: right;\">\n",
       "      <th></th>\n",
       "      <th>Unnamed: 0</th>\n",
       "      <th>topic_word</th>\n",
       "      <th>p_value</th>\n",
       "      <th>Hungary_w</th>\n",
       "      <th>Hungary_m</th>\n",
       "      <th>count_Hungary_w</th>\n",
       "      <th>count_Hungary_m</th>\n",
       "      <th>significance_Bonferroni_corrected</th>\n",
       "      <th>significance</th>\n",
       "    </tr>\n",
       "  </thead>\n",
       "  <tbody>\n",
       "    <tr>\n",
       "      <th>110</th>\n",
       "      <td>8</td>\n",
       "      <td>aid giving</td>\n",
       "      <td>1.0</td>\n",
       "      <td>0.998096</td>\n",
       "      <td>1.001907</td>\n",
       "      <td>214</td>\n",
       "      <td>51</td>\n",
       "      <td>False</td>\n",
       "      <td>False</td>\n",
       "    </tr>\n",
       "  </tbody>\n",
       "</table>\n",
       "</div>"
      ],
      "text/plain": [
       "     Unnamed: 0  topic_word  p_value  Hungary_w  Hungary_m  count_Hungary_w  \\\n",
       "110           8  aid giving      1.0   0.998096   1.001907              214   \n",
       "\n",
       "     count_Hungary_m  significance_Bonferroni_corrected  significance  \n",
       "110               51                              False         False  "
      ]
     },
     "metadata": {},
     "output_type": "display_data"
    },
    {
     "name": "stdout",
     "output_type": "stream",
     "text": [
      "Romania\n",
      "\n",
      "\n",
      "Probability of women talking about aid giving\n",
      "19.146283172632263\n",
      "Probability of men talking about aid giving\n",
      "12.767930885335131\n",
      "Women to man ratio\n",
      "1.4995603707898448\n",
      "Result of Fisher test and odds ratio analysis:\n"
     ]
    },
    {
     "data": {
      "text/html": [
       "<div>\n",
       "<style scoped>\n",
       "    .dataframe tbody tr th:only-of-type {\n",
       "        vertical-align: middle;\n",
       "    }\n",
       "\n",
       "    .dataframe tbody tr th {\n",
       "        vertical-align: top;\n",
       "    }\n",
       "\n",
       "    .dataframe thead th {\n",
       "        text-align: right;\n",
       "    }\n",
       "</style>\n",
       "<table border=\"1\" class=\"dataframe\">\n",
       "  <thead>\n",
       "    <tr style=\"text-align: right;\">\n",
       "      <th></th>\n",
       "      <th>Unnamed: 0</th>\n",
       "      <th>topic_word</th>\n",
       "      <th>p_value</th>\n",
       "      <th>Romania_w</th>\n",
       "      <th>Romania_m</th>\n",
       "      <th>count_Romania_w</th>\n",
       "      <th>count_Romania_m</th>\n",
       "      <th>significance_Bonferroni_corrected</th>\n",
       "      <th>significance</th>\n",
       "    </tr>\n",
       "  </thead>\n",
       "  <tbody>\n",
       "    <tr>\n",
       "      <th>9</th>\n",
       "      <td>8</td>\n",
       "      <td>aid giving</td>\n",
       "      <td>0.014677</td>\n",
       "      <td>1.52173</td>\n",
       "      <td>0.657147</td>\n",
       "      <td>208</td>\n",
       "      <td>57</td>\n",
       "      <td>False</td>\n",
       "      <td>True</td>\n",
       "    </tr>\n",
       "  </tbody>\n",
       "</table>\n",
       "</div>"
      ],
      "text/plain": [
       "   Unnamed: 0  topic_word   p_value  Romania_w  Romania_m  count_Romania_w  \\\n",
       "9           8  aid giving  0.014677    1.52173   0.657147              208   \n",
       "\n",
       "   count_Romania_m  significance_Bonferroni_corrected  significance  \n",
       "9               57                              False          True  "
      ]
     },
     "metadata": {},
     "output_type": "display_data"
    },
    {
     "name": "stdout",
     "output_type": "stream",
     "text": [
      "Austria-Hungary (historical)\n",
      "\n",
      "\n",
      "Probability of women talking about aid giving\n",
      "23.20141368550154\n",
      "Probability of men talking about aid giving\n",
      "37.52611335502776\n",
      "Women to man ratio\n",
      "0.6182738261753132\n",
      "Result of Fisher test and odds ratio analysis:\n"
     ]
    },
    {
     "data": {
      "text/html": [
       "<div>\n",
       "<style scoped>\n",
       "    .dataframe tbody tr th:only-of-type {\n",
       "        vertical-align: middle;\n",
       "    }\n",
       "\n",
       "    .dataframe tbody tr th {\n",
       "        vertical-align: top;\n",
       "    }\n",
       "\n",
       "    .dataframe thead th {\n",
       "        text-align: right;\n",
       "    }\n",
       "</style>\n",
       "<table border=\"1\" class=\"dataframe\">\n",
       "  <thead>\n",
       "    <tr style=\"text-align: right;\">\n",
       "      <th></th>\n",
       "      <th>Unnamed: 0</th>\n",
       "      <th>topic_word</th>\n",
       "      <th>p_value</th>\n",
       "      <th>Austria-Hungary (historical)_w</th>\n",
       "      <th>Austria-Hungary (historical)_m</th>\n",
       "      <th>count_Austria-Hungary (historical)_w</th>\n",
       "      <th>count_Austria-Hungary (historical)_m</th>\n",
       "      <th>significance_Bonferroni_corrected</th>\n",
       "      <th>significance</th>\n",
       "    </tr>\n",
       "  </thead>\n",
       "  <tbody>\n",
       "    <tr>\n",
       "      <th>58</th>\n",
       "      <td>8</td>\n",
       "      <td>aid giving</td>\n",
       "      <td>0.547466</td>\n",
       "      <td>0.849429</td>\n",
       "      <td>1.177261</td>\n",
       "      <td>90</td>\n",
       "      <td>34</td>\n",
       "      <td>False</td>\n",
       "      <td>False</td>\n",
       "    </tr>\n",
       "  </tbody>\n",
       "</table>\n",
       "</div>"
      ],
      "text/plain": [
       "    Unnamed: 0  topic_word   p_value  Austria-Hungary (historical)_w  \\\n",
       "58           8  aid giving  0.547466                        0.849429   \n",
       "\n",
       "    Austria-Hungary (historical)_m  count_Austria-Hungary (historical)_w  \\\n",
       "58                        1.177261                                    90   \n",
       "\n",
       "    count_Austria-Hungary (historical)_m  significance_Bonferroni_corrected  \\\n",
       "58                                    34                              False   \n",
       "\n",
       "    significance  \n",
       "58         False  "
      ]
     },
     "metadata": {},
     "output_type": "display_data"
    }
   ],
   "source": [
    "topic_word = \"aid giving\"\n",
    "for country in countries_to_study:\n",
    "    print (country)\n",
    "    print ('\\n')\n",
    "    men = data_sets_1[country+'_m']\n",
    "    topic_m = men[men.topic_name==topic_word]['stationary_prob'].values[0]\n",
    "    women = data_sets_1[country+'_w']\n",
    "    topic_w = women[women.topic_name==topic_word]['stationary_prob'].values[0]\n",
    "    print (\"Probability of women talking about \"+topic_word)\n",
    "    print(topic_w*1000)\n",
    "    print (\"Probability of men talking about \"+topic_word)\n",
    "    print(topic_m*1000)\n",
    "    print (\"Women to man ratio\")\n",
    "    print (topic_w/topic_m)\n",
    "    print ('Result of Fisher test and odds ratio analysis:')\n",
    "    df = data_sets_1[country+'_fisher']\n",
    "    display(df[df.topic_word==topic_word])\n"
   ]
  },
  {
   "cell_type": "markdown",
   "metadata": {},
   "source": [
    "## Observation 3"
   ]
  },
  {
   "cell_type": "markdown",
   "metadata": {},
   "source": [
    "## Qualitative description"
   ]
  },
  {
   "cell_type": "markdown",
   "metadata": {},
   "source": [
    "some text"
   ]
  },
  {
   "cell_type": "markdown",
   "metadata": {},
   "source": [
    "## Quantitative proof"
   ]
  },
  {
   "cell_type": "code",
   "execution_count": 219,
   "metadata": {},
   "outputs": [
    {
     "name": "stdout",
     "output_type": "stream",
     "text": [
      "\n",
      "\n",
      "Czechoslovakia (historical)\n",
      "Probability of women talking about friends\n",
      "3.1888999230171216\n",
      "Probability of men talking about friends\n",
      "2.2688660869970105\n",
      "Women to man ratio\n",
      "1.4055038070747645\n",
      "Result of Fisher test and odds ratio analysis:\n"
     ]
    },
    {
     "data": {
      "text/html": [
       "<div>\n",
       "<style scoped>\n",
       "    .dataframe tbody tr th:only-of-type {\n",
       "        vertical-align: middle;\n",
       "    }\n",
       "\n",
       "    .dataframe tbody tr th {\n",
       "        vertical-align: top;\n",
       "    }\n",
       "\n",
       "    .dataframe thead th {\n",
       "        text-align: right;\n",
       "    }\n",
       "</style>\n",
       "<table border=\"1\" class=\"dataframe\">\n",
       "  <thead>\n",
       "    <tr style=\"text-align: right;\">\n",
       "      <th></th>\n",
       "      <th>Unnamed: 0</th>\n",
       "      <th>topic_word</th>\n",
       "      <th>p_value</th>\n",
       "      <th>Czechoslovakia (historical)_w</th>\n",
       "      <th>Czechoslovakia (historical)_m</th>\n",
       "      <th>count_Czechoslovakia (historical)_w</th>\n",
       "      <th>count_Czechoslovakia (historical)_m</th>\n",
       "      <th>significance_Bonferroni_corrected</th>\n",
       "      <th>significance</th>\n",
       "    </tr>\n",
       "  </thead>\n",
       "  <tbody>\n",
       "    <tr>\n",
       "      <th>48</th>\n",
       "      <td>53</td>\n",
       "      <td>friends</td>\n",
       "      <td>0.29959</td>\n",
       "      <td>1.35617</td>\n",
       "      <td>0.737371</td>\n",
       "      <td>60</td>\n",
       "      <td>17</td>\n",
       "      <td>False</td>\n",
       "      <td>False</td>\n",
       "    </tr>\n",
       "  </tbody>\n",
       "</table>\n",
       "</div>"
      ],
      "text/plain": [
       "    Unnamed: 0 topic_word  p_value  Czechoslovakia (historical)_w  \\\n",
       "48          53    friends  0.29959                        1.35617   \n",
       "\n",
       "    Czechoslovakia (historical)_m  count_Czechoslovakia (historical)_w  \\\n",
       "48                       0.737371                                   60   \n",
       "\n",
       "    count_Czechoslovakia (historical)_m  significance_Bonferroni_corrected  \\\n",
       "48                                   17                              False   \n",
       "\n",
       "    significance  \n",
       "48         False  "
      ]
     },
     "metadata": {},
     "output_type": "display_data"
    },
    {
     "name": "stdout",
     "output_type": "stream",
     "text": [
      "\n",
      "\n",
      "Poland\n",
      "Probability of women talking about friends\n",
      "2.962268393934973\n",
      "Probability of men talking about friends\n",
      "3.920707952346391\n",
      "Women to man ratio\n",
      "0.7555442613781449\n",
      "Result of Fisher test and odds ratio analysis:\n"
     ]
    },
    {
     "data": {
      "text/html": [
       "<div>\n",
       "<style scoped>\n",
       "    .dataframe tbody tr th:only-of-type {\n",
       "        vertical-align: middle;\n",
       "    }\n",
       "\n",
       "    .dataframe tbody tr th {\n",
       "        vertical-align: top;\n",
       "    }\n",
       "\n",
       "    .dataframe thead th {\n",
       "        text-align: right;\n",
       "    }\n",
       "</style>\n",
       "<table border=\"1\" class=\"dataframe\">\n",
       "  <thead>\n",
       "    <tr style=\"text-align: right;\">\n",
       "      <th></th>\n",
       "      <th>Unnamed: 0</th>\n",
       "      <th>topic_word</th>\n",
       "      <th>p_value</th>\n",
       "      <th>Poland_w</th>\n",
       "      <th>Poland_m</th>\n",
       "      <th>count_Poland_w</th>\n",
       "      <th>count_Poland_m</th>\n",
       "      <th>significance_Bonferroni_corrected</th>\n",
       "      <th>significance</th>\n",
       "    </tr>\n",
       "  </thead>\n",
       "  <tbody>\n",
       "    <tr>\n",
       "      <th>33</th>\n",
       "      <td>53</td>\n",
       "      <td>friends</td>\n",
       "      <td>0.116218</td>\n",
       "      <td>1.578947</td>\n",
       "      <td>0.633333</td>\n",
       "      <td>45</td>\n",
       "      <td>19</td>\n",
       "      <td>False</td>\n",
       "      <td>False</td>\n",
       "    </tr>\n",
       "  </tbody>\n",
       "</table>\n",
       "</div>"
      ],
      "text/plain": [
       "    Unnamed: 0 topic_word   p_value  Poland_w  Poland_m  count_Poland_w  \\\n",
       "33          53    friends  0.116218  1.578947  0.633333              45   \n",
       "\n",
       "    count_Poland_m  significance_Bonferroni_corrected  significance  \n",
       "33              19                              False         False  "
      ]
     },
     "metadata": {},
     "output_type": "display_data"
    },
    {
     "name": "stdout",
     "output_type": "stream",
     "text": [
      "\n",
      "\n",
      "Hungary\n",
      "Probability of women talking about friends\n",
      "5.808893849268422\n",
      "Probability of men talking about friends\n",
      "1.8935965906923489\n",
      "Women to man ratio\n",
      "3.0676511976315597\n",
      "Result of Fisher test and odds ratio analysis:\n"
     ]
    },
    {
     "data": {
      "text/html": [
       "<div>\n",
       "<style scoped>\n",
       "    .dataframe tbody tr th:only-of-type {\n",
       "        vertical-align: middle;\n",
       "    }\n",
       "\n",
       "    .dataframe tbody tr th {\n",
       "        vertical-align: top;\n",
       "    }\n",
       "\n",
       "    .dataframe thead th {\n",
       "        text-align: right;\n",
       "    }\n",
       "</style>\n",
       "<table border=\"1\" class=\"dataframe\">\n",
       "  <thead>\n",
       "    <tr style=\"text-align: right;\">\n",
       "      <th></th>\n",
       "      <th>Unnamed: 0</th>\n",
       "      <th>topic_word</th>\n",
       "      <th>p_value</th>\n",
       "      <th>Hungary_w</th>\n",
       "      <th>Hungary_m</th>\n",
       "      <th>count_Hungary_w</th>\n",
       "      <th>count_Hungary_m</th>\n",
       "      <th>significance_Bonferroni_corrected</th>\n",
       "      <th>significance</th>\n",
       "    </tr>\n",
       "  </thead>\n",
       "  <tbody>\n",
       "    <tr>\n",
       "      <th>86</th>\n",
       "      <td>53</td>\n",
       "      <td>friends</td>\n",
       "      <td>0.75418</td>\n",
       "      <td>1.161499</td>\n",
       "      <td>0.860957</td>\n",
       "      <td>58</td>\n",
       "      <td>12</td>\n",
       "      <td>False</td>\n",
       "      <td>False</td>\n",
       "    </tr>\n",
       "  </tbody>\n",
       "</table>\n",
       "</div>"
      ],
      "text/plain": [
       "    Unnamed: 0 topic_word  p_value  Hungary_w  Hungary_m  count_Hungary_w  \\\n",
       "86          53    friends  0.75418   1.161499   0.860957               58   \n",
       "\n",
       "    count_Hungary_m  significance_Bonferroni_corrected  significance  \n",
       "86               12                              False         False  "
      ]
     },
     "metadata": {},
     "output_type": "display_data"
    },
    {
     "name": "stdout",
     "output_type": "stream",
     "text": [
      "\n",
      "\n",
      "Romania\n",
      "Probability of women talking about friends\n",
      "3.1129282217935685\n",
      "Probability of men talking about friends\n",
      "1.0605430896203316\n",
      "Women to man ratio\n",
      "2.9352208809431577\n",
      "Result of Fisher test and odds ratio analysis:\n"
     ]
    },
    {
     "data": {
      "text/html": [
       "<div>\n",
       "<style scoped>\n",
       "    .dataframe tbody tr th:only-of-type {\n",
       "        vertical-align: middle;\n",
       "    }\n",
       "\n",
       "    .dataframe tbody tr th {\n",
       "        vertical-align: top;\n",
       "    }\n",
       "\n",
       "    .dataframe thead th {\n",
       "        text-align: right;\n",
       "    }\n",
       "</style>\n",
       "<table border=\"1\" class=\"dataframe\">\n",
       "  <thead>\n",
       "    <tr style=\"text-align: right;\">\n",
       "      <th></th>\n",
       "      <th>Unnamed: 0</th>\n",
       "      <th>topic_word</th>\n",
       "      <th>p_value</th>\n",
       "      <th>Romania_w</th>\n",
       "      <th>Romania_m</th>\n",
       "      <th>count_Romania_w</th>\n",
       "      <th>count_Romania_m</th>\n",
       "      <th>significance_Bonferroni_corrected</th>\n",
       "      <th>significance</th>\n",
       "    </tr>\n",
       "  </thead>\n",
       "  <tbody>\n",
       "    <tr>\n",
       "      <th>8</th>\n",
       "      <td>53</td>\n",
       "      <td>friends</td>\n",
       "      <td>0.009268</td>\n",
       "      <td>2.930233</td>\n",
       "      <td>0.34127</td>\n",
       "      <td>45</td>\n",
       "      <td>6</td>\n",
       "      <td>False</td>\n",
       "      <td>True</td>\n",
       "    </tr>\n",
       "  </tbody>\n",
       "</table>\n",
       "</div>"
      ],
      "text/plain": [
       "   Unnamed: 0 topic_word   p_value  Romania_w  Romania_m  count_Romania_w  \\\n",
       "8          53    friends  0.009268   2.930233    0.34127               45   \n",
       "\n",
       "   count_Romania_m  significance_Bonferroni_corrected  significance  \n",
       "8                6                              False          True  "
      ]
     },
     "metadata": {},
     "output_type": "display_data"
    },
    {
     "name": "stdout",
     "output_type": "stream",
     "text": [
      "\n",
      "\n",
      "Austria-Hungary (historical)\n",
      "Probability of women talking about friends\n",
      "2.822670551315358\n",
      "Probability of men talking about friends\n",
      "0.9288644723289476\n",
      "Women to man ratio\n",
      "3.0388400411505225\n",
      "Result of Fisher test and odds ratio analysis:\n"
     ]
    },
    {
     "data": {
      "text/html": [
       "<div>\n",
       "<style scoped>\n",
       "    .dataframe tbody tr th:only-of-type {\n",
       "        vertical-align: middle;\n",
       "    }\n",
       "\n",
       "    .dataframe tbody tr th {\n",
       "        vertical-align: top;\n",
       "    }\n",
       "\n",
       "    .dataframe thead th {\n",
       "        text-align: right;\n",
       "    }\n",
       "</style>\n",
       "<table border=\"1\" class=\"dataframe\">\n",
       "  <thead>\n",
       "    <tr style=\"text-align: right;\">\n",
       "      <th></th>\n",
       "      <th>Unnamed: 0</th>\n",
       "      <th>topic_word</th>\n",
       "      <th>p_value</th>\n",
       "      <th>Austria-Hungary (historical)_w</th>\n",
       "      <th>Austria-Hungary (historical)_m</th>\n",
       "      <th>count_Austria-Hungary (historical)_w</th>\n",
       "      <th>count_Austria-Hungary (historical)_m</th>\n",
       "      <th>significance_Bonferroni_corrected</th>\n",
       "      <th>significance</th>\n",
       "    </tr>\n",
       "  </thead>\n",
       "  <tbody>\n",
       "    <tr>\n",
       "      <th>73</th>\n",
       "      <td>53</td>\n",
       "      <td>friends</td>\n",
       "      <td>0.784171</td>\n",
       "      <td>0.866667</td>\n",
       "      <td>1.153846</td>\n",
       "      <td>13</td>\n",
       "      <td>5</td>\n",
       "      <td>False</td>\n",
       "      <td>False</td>\n",
       "    </tr>\n",
       "  </tbody>\n",
       "</table>\n",
       "</div>"
      ],
      "text/plain": [
       "    Unnamed: 0 topic_word   p_value  Austria-Hungary (historical)_w  \\\n",
       "73          53    friends  0.784171                        0.866667   \n",
       "\n",
       "    Austria-Hungary (historical)_m  count_Austria-Hungary (historical)_w  \\\n",
       "73                        1.153846                                    13   \n",
       "\n",
       "    count_Austria-Hungary (historical)_m  significance_Bonferroni_corrected  \\\n",
       "73                                     5                              False   \n",
       "\n",
       "    significance  \n",
       "73         False  "
      ]
     },
     "metadata": {},
     "output_type": "display_data"
    }
   ],
   "source": [
    "topic_word = \"friends\"\n",
    "for country in countries_to_study:\n",
    "    print ('\\n')\n",
    "    print (country)\n",
    "    try:\n",
    "        \n",
    "        men = data_sets_2[country+'_m']\n",
    "        topic_m = men[men.topic_name==topic_word]['stationary_prob'].values[0]\n",
    "        women = data_sets_2[country+'_w']\n",
    "        topic_w = women[women.topic_name==topic_word]['stationary_prob'].values[0]\n",
    "        print (\"Probability of women talking about \"+topic_word)\n",
    "        print(topic_w*1000)\n",
    "        print (\"Probability of men talking about \"+topic_word)\n",
    "        print(topic_m*1000)\n",
    "        print (\"Women to man ratio\")\n",
    "        print (topic_w/topic_m)\n",
    "        print ('Result of Fisher test and odds ratio analysis:')\n",
    "        df = data_sets_2[country+'_fisher']\n",
    "        display(df[df.topic_word==topic_word])\n",
    "    except:\n",
    "        topic_w = women[women.topic_name==topic_word]['stationary_prob'].values[0]\n",
    "        print (\"In case of this country, the probability of hearing a man talking about this topic is 0.\")\n",
    "        print ('Result of Fisher test and odds ratio analysis:')\n",
    "        df = data_sets_2[country+'_fisher']\n",
    "        display(df[df.topic_word==topic_word])\n",
    "        pass\n"
   ]
  },
  {
   "cell_type": "markdown",
   "metadata": {},
   "source": [
    "## Observation 4"
   ]
  },
  {
   "cell_type": "markdown",
   "metadata": {},
   "source": [
    "## Qualitative description"
   ]
  },
  {
   "cell_type": "markdown",
   "metadata": {},
   "source": [
    "some text"
   ]
  },
  {
   "cell_type": "markdown",
   "metadata": {},
   "source": [
    "## Quantitative proof"
   ]
  },
  {
   "cell_type": "code",
   "execution_count": 220,
   "metadata": {},
   "outputs": [
    {
     "name": "stdout",
     "output_type": "stream",
     "text": [
      "\n",
      "\n",
      "Czechoslovakia (historical)\n",
      "Probability of women talking about food sharing\n",
      "3.693490146222757\n",
      "Probability of men talking about food sharing\n",
      "1.6156618317275524\n",
      "Women to man ratio\n",
      "2.286053971005479\n",
      "Result of Fisher test and odds ratio analysis:\n"
     ]
    },
    {
     "data": {
      "text/html": [
       "<div>\n",
       "<style scoped>\n",
       "    .dataframe tbody tr th:only-of-type {\n",
       "        vertical-align: middle;\n",
       "    }\n",
       "\n",
       "    .dataframe tbody tr th {\n",
       "        vertical-align: top;\n",
       "    }\n",
       "\n",
       "    .dataframe thead th {\n",
       "        text-align: right;\n",
       "    }\n",
       "</style>\n",
       "<table border=\"1\" class=\"dataframe\">\n",
       "  <thead>\n",
       "    <tr style=\"text-align: right;\">\n",
       "      <th></th>\n",
       "      <th>Unnamed: 0</th>\n",
       "      <th>topic_word</th>\n",
       "      <th>p_value</th>\n",
       "      <th>Czechoslovakia (historical)_w</th>\n",
       "      <th>Czechoslovakia (historical)_m</th>\n",
       "      <th>count_Czechoslovakia (historical)_w</th>\n",
       "      <th>count_Czechoslovakia (historical)_m</th>\n",
       "      <th>significance_Bonferroni_corrected</th>\n",
       "      <th>significance</th>\n",
       "    </tr>\n",
       "  </thead>\n",
       "  <tbody>\n",
       "    <tr>\n",
       "      <th>17</th>\n",
       "      <td>49</td>\n",
       "      <td>food sharing</td>\n",
       "      <td>0.004992</td>\n",
       "      <td>2.146829</td>\n",
       "      <td>0.465803</td>\n",
       "      <td>82</td>\n",
       "      <td>15</td>\n",
       "      <td>False</td>\n",
       "      <td>True</td>\n",
       "    </tr>\n",
       "  </tbody>\n",
       "</table>\n",
       "</div>"
      ],
      "text/plain": [
       "    Unnamed: 0    topic_word   p_value  Czechoslovakia (historical)_w  \\\n",
       "17          49  food sharing  0.004992                       2.146829   \n",
       "\n",
       "    Czechoslovakia (historical)_m  count_Czechoslovakia (historical)_w  \\\n",
       "17                       0.465803                                   82   \n",
       "\n",
       "    count_Czechoslovakia (historical)_m  significance_Bonferroni_corrected  \\\n",
       "17                                   15                              False   \n",
       "\n",
       "    significance  \n",
       "17          True  "
      ]
     },
     "metadata": {},
     "output_type": "display_data"
    },
    {
     "name": "stdout",
     "output_type": "stream",
     "text": [
      "\n",
      "\n",
      "Poland\n",
      "Probability of women talking about food sharing\n",
      "3.848805566139485\n",
      "Probability of men talking about food sharing\n",
      "2.6100569301941414\n",
      "Women to man ratio\n",
      "1.474605983346579\n",
      "Result of Fisher test and odds ratio analysis:\n"
     ]
    },
    {
     "data": {
      "text/html": [
       "<div>\n",
       "<style scoped>\n",
       "    .dataframe tbody tr th:only-of-type {\n",
       "        vertical-align: middle;\n",
       "    }\n",
       "\n",
       "    .dataframe tbody tr th {\n",
       "        vertical-align: top;\n",
       "    }\n",
       "\n",
       "    .dataframe thead th {\n",
       "        text-align: right;\n",
       "    }\n",
       "</style>\n",
       "<table border=\"1\" class=\"dataframe\">\n",
       "  <thead>\n",
       "    <tr style=\"text-align: right;\">\n",
       "      <th></th>\n",
       "      <th>Unnamed: 0</th>\n",
       "      <th>topic_word</th>\n",
       "      <th>p_value</th>\n",
       "      <th>Poland_w</th>\n",
       "      <th>Poland_m</th>\n",
       "      <th>count_Poland_w</th>\n",
       "      <th>count_Poland_m</th>\n",
       "      <th>significance_Bonferroni_corrected</th>\n",
       "      <th>significance</th>\n",
       "    </tr>\n",
       "  </thead>\n",
       "  <tbody>\n",
       "    <tr>\n",
       "      <th>52</th>\n",
       "      <td>49</td>\n",
       "      <td>food sharing</td>\n",
       "      <td>0.365508</td>\n",
       "      <td>1.25947</td>\n",
       "      <td>0.793985</td>\n",
       "      <td>57</td>\n",
       "      <td>30</td>\n",
       "      <td>False</td>\n",
       "      <td>False</td>\n",
       "    </tr>\n",
       "  </tbody>\n",
       "</table>\n",
       "</div>"
      ],
      "text/plain": [
       "    Unnamed: 0    topic_word   p_value  Poland_w  Poland_m  count_Poland_w  \\\n",
       "52          49  food sharing  0.365508   1.25947  0.793985              57   \n",
       "\n",
       "    count_Poland_m  significance_Bonferroni_corrected  significance  \n",
       "52              30                              False         False  "
      ]
     },
     "metadata": {},
     "output_type": "display_data"
    },
    {
     "name": "stdout",
     "output_type": "stream",
     "text": [
      "\n",
      "\n",
      "Hungary\n",
      "Probability of women talking about food sharing\n",
      "1.97178151743768\n",
      "Probability of men talking about food sharing\n",
      "2.3524827794891485\n",
      "Women to man ratio\n",
      "0.8381704362001157\n",
      "Result of Fisher test and odds ratio analysis:\n"
     ]
    },
    {
     "data": {
      "text/html": [
       "<div>\n",
       "<style scoped>\n",
       "    .dataframe tbody tr th:only-of-type {\n",
       "        vertical-align: middle;\n",
       "    }\n",
       "\n",
       "    .dataframe tbody tr th {\n",
       "        vertical-align: top;\n",
       "    }\n",
       "\n",
       "    .dataframe thead th {\n",
       "        text-align: right;\n",
       "    }\n",
       "</style>\n",
       "<table border=\"1\" class=\"dataframe\">\n",
       "  <thead>\n",
       "    <tr style=\"text-align: right;\">\n",
       "      <th></th>\n",
       "      <th>Unnamed: 0</th>\n",
       "      <th>topic_word</th>\n",
       "      <th>p_value</th>\n",
       "      <th>Hungary_w</th>\n",
       "      <th>Hungary_m</th>\n",
       "      <th>count_Hungary_w</th>\n",
       "      <th>count_Hungary_m</th>\n",
       "      <th>significance_Bonferroni_corrected</th>\n",
       "      <th>significance</th>\n",
       "    </tr>\n",
       "  </thead>\n",
       "  <tbody>\n",
       "    <tr>\n",
       "      <th>79</th>\n",
       "      <td>49</td>\n",
       "      <td>food sharing</td>\n",
       "      <td>0.685378</td>\n",
       "      <td>0.84</td>\n",
       "      <td>1.190476</td>\n",
       "      <td>32</td>\n",
       "      <td>9</td>\n",
       "      <td>False</td>\n",
       "      <td>False</td>\n",
       "    </tr>\n",
       "  </tbody>\n",
       "</table>\n",
       "</div>"
      ],
      "text/plain": [
       "    Unnamed: 0    topic_word   p_value  Hungary_w  Hungary_m  count_Hungary_w  \\\n",
       "79          49  food sharing  0.685378       0.84   1.190476               32   \n",
       "\n",
       "    count_Hungary_m  significance_Bonferroni_corrected  significance  \n",
       "79                9                              False         False  "
      ]
     },
     "metadata": {},
     "output_type": "display_data"
    },
    {
     "name": "stdout",
     "output_type": "stream",
     "text": [
      "\n",
      "\n",
      "Romania\n",
      "Probability of women talking about food sharing\n",
      "2.773417770704684\n",
      "Probability of men talking about food sharing\n",
      "1.950553875902052\n",
      "Women to man ratio\n",
      "1.421861659382308\n",
      "Result of Fisher test and odds ratio analysis:\n"
     ]
    },
    {
     "data": {
      "text/html": [
       "<div>\n",
       "<style scoped>\n",
       "    .dataframe tbody tr th:only-of-type {\n",
       "        vertical-align: middle;\n",
       "    }\n",
       "\n",
       "    .dataframe tbody tr th {\n",
       "        vertical-align: top;\n",
       "    }\n",
       "\n",
       "    .dataframe thead th {\n",
       "        text-align: right;\n",
       "    }\n",
       "</style>\n",
       "<table border=\"1\" class=\"dataframe\">\n",
       "  <thead>\n",
       "    <tr style=\"text-align: right;\">\n",
       "      <th></th>\n",
       "      <th>Unnamed: 0</th>\n",
       "      <th>topic_word</th>\n",
       "      <th>p_value</th>\n",
       "      <th>Romania_w</th>\n",
       "      <th>Romania_m</th>\n",
       "      <th>count_Romania_w</th>\n",
       "      <th>count_Romania_m</th>\n",
       "      <th>significance_Bonferroni_corrected</th>\n",
       "      <th>significance</th>\n",
       "    </tr>\n",
       "  </thead>\n",
       "  <tbody>\n",
       "    <tr>\n",
       "      <th>58</th>\n",
       "      <td>49</td>\n",
       "      <td>food sharing</td>\n",
       "      <td>0.405055</td>\n",
       "      <td>1.445399</td>\n",
       "      <td>0.691851</td>\n",
       "      <td>38</td>\n",
       "      <td>10</td>\n",
       "      <td>False</td>\n",
       "      <td>False</td>\n",
       "    </tr>\n",
       "  </tbody>\n",
       "</table>\n",
       "</div>"
      ],
      "text/plain": [
       "    Unnamed: 0    topic_word   p_value  Romania_w  Romania_m  count_Romania_w  \\\n",
       "58          49  food sharing  0.405055   1.445399   0.691851               38   \n",
       "\n",
       "    count_Romania_m  significance_Bonferroni_corrected  significance  \n",
       "58               10                              False         False  "
      ]
     },
     "metadata": {},
     "output_type": "display_data"
    },
    {
     "name": "stdout",
     "output_type": "stream",
     "text": [
      "\n",
      "\n",
      "Austria-Hungary (historical)\n",
      "Probability of women talking about food sharing\n",
      "2.419846768742492\n",
      "Probability of men talking about food sharing\n",
      "1.392534376405766\n",
      "Women to man ratio\n",
      "1.7377285686751196\n",
      "Result of Fisher test and odds ratio analysis:\n"
     ]
    },
    {
     "data": {
      "text/html": [
       "<div>\n",
       "<style scoped>\n",
       "    .dataframe tbody tr th:only-of-type {\n",
       "        vertical-align: middle;\n",
       "    }\n",
       "\n",
       "    .dataframe tbody tr th {\n",
       "        vertical-align: top;\n",
       "    }\n",
       "\n",
       "    .dataframe thead th {\n",
       "        text-align: right;\n",
       "    }\n",
       "</style>\n",
       "<table border=\"1\" class=\"dataframe\">\n",
       "  <thead>\n",
       "    <tr style=\"text-align: right;\">\n",
       "      <th></th>\n",
       "      <th>Unnamed: 0</th>\n",
       "      <th>topic_word</th>\n",
       "      <th>p_value</th>\n",
       "      <th>Austria-Hungary (historical)_w</th>\n",
       "      <th>Austria-Hungary (historical)_m</th>\n",
       "      <th>count_Austria-Hungary (historical)_w</th>\n",
       "      <th>count_Austria-Hungary (historical)_m</th>\n",
       "      <th>significance_Bonferroni_corrected</th>\n",
       "      <th>significance</th>\n",
       "    </tr>\n",
       "  </thead>\n",
       "  <tbody>\n",
       "    <tr>\n",
       "      <th>61</th>\n",
       "      <td>49</td>\n",
       "      <td>food sharing</td>\n",
       "      <td>0.580167</td>\n",
       "      <td>1.587209</td>\n",
       "      <td>0.630037</td>\n",
       "      <td>14</td>\n",
       "      <td>3</td>\n",
       "      <td>False</td>\n",
       "      <td>False</td>\n",
       "    </tr>\n",
       "  </tbody>\n",
       "</table>\n",
       "</div>"
      ],
      "text/plain": [
       "    Unnamed: 0    topic_word   p_value  Austria-Hungary (historical)_w  \\\n",
       "61          49  food sharing  0.580167                        1.587209   \n",
       "\n",
       "    Austria-Hungary (historical)_m  count_Austria-Hungary (historical)_w  \\\n",
       "61                        0.630037                                    14   \n",
       "\n",
       "    count_Austria-Hungary (historical)_m  significance_Bonferroni_corrected  \\\n",
       "61                                     3                              False   \n",
       "\n",
       "    significance  \n",
       "61         False  "
      ]
     },
     "metadata": {},
     "output_type": "display_data"
    }
   ],
   "source": [
    "topic_word = \"food sharing\"\n",
    "for country in countries_to_study:\n",
    "    print ('\\n')\n",
    "    print (country)\n",
    "    try:\n",
    "        \n",
    "        men = data_sets_2[country+'_m']\n",
    "        topic_m = men[men.topic_name==topic_word]['stationary_prob'].values[0]\n",
    "        women = data_sets_2[country+'_w']\n",
    "        topic_w = women[women.topic_name==topic_word]['stationary_prob'].values[0]\n",
    "        print (\"Probability of women talking about \"+topic_word)\n",
    "        print(topic_w*1000)\n",
    "        print (\"Probability of men talking about \"+topic_word)\n",
    "        print(topic_m*1000)\n",
    "        print (\"Women to man ratio\")\n",
    "        print (topic_w/topic_m)\n",
    "        print ('Result of Fisher test and odds ratio analysis:')\n",
    "        df = data_sets_2[country+'_fisher']\n",
    "        display(df[df.topic_word==topic_word])\n",
    "    except:\n",
    "        topic_w = women[women.topic_name==topic_word]['stationary_prob'].values[0]\n",
    "        print (\"In case of this country, the probability of hearing a man talking about this topic is 0.\")\n",
    "        print ('Result of Fisher test and odds ratio analysis:')\n",
    "        df = data_sets_2[country+'_fisher']\n",
    "        display(df[df.topic_word==topic_word])\n",
    "        pass\n",
    "\n"
   ]
  },
  {
   "cell_type": "code",
   "execution_count": null,
   "metadata": {},
   "outputs": [],
   "source": []
  },
  {
   "cell_type": "code",
   "execution_count": null,
   "metadata": {},
   "outputs": [],
   "source": []
  },
  {
   "cell_type": "code",
   "execution_count": null,
   "metadata": {},
   "outputs": [],
   "source": []
  },
  {
   "cell_type": "code",
   "execution_count": null,
   "metadata": {},
   "outputs": [],
   "source": []
  }
 ],
 "metadata": {
  "kernelspec": {
   "display_name": "Python 3",
   "language": "python",
   "name": "python3"
  },
  "language_info": {
   "codemirror_mode": {
    "name": "ipython",
    "version": 3
   },
   "file_extension": ".py",
   "mimetype": "text/x-python",
   "name": "python",
   "nbconvert_exporter": "python",
   "pygments_lexer": "ipython3",
   "version": "3.7.2"
  }
 },
 "nbformat": 4,
 "nbformat_minor": 2
}

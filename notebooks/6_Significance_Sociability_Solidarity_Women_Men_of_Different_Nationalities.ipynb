{
 "cells": [
  {
   "cell_type": "markdown",
   "metadata": {},
   "source": [
    "# Topics of Sociability and Solidarity in Recollections of men and women of different nationalities"
   ]
  },
  {
   "cell_type": "markdown",
   "metadata": {},
   "source": [
    "\n",
    "\n",
    " ### Research Question:"
   ]
  },
  {
   "cell_type": "markdown",
   "metadata": {},
   "source": [
    "In Birkenau people of different nationalities were together; is it possible that women of one nationality give rise to the general trend that women are more likely to discuss memories of sociability and solidarity? Can we observe this phenomenon with different nationalities?"
   ]
  },
  {
   "cell_type": "markdown",
   "metadata": {},
   "source": [
    "### Further considerations:`"
   ]
  },
  {
   "cell_type": "markdown",
   "metadata": {},
   "source": [
    "- Nationality is somewhat intangible in the context of the data; hence, by nationality we mean the country of birth"
   ]
  },
  {
   "cell_type": "markdown",
   "metadata": {},
   "source": [
    "- In dataset, 13 different nationalities are present;"
   ]
  },
  {
   "cell_type": "code",
   "execution_count": 91,
   "metadata": {},
   "outputs": [],
   "source": [
    "import constants\n",
    "import pandas as pd\n",
    "import os\n",
    "from IPython.display import display\n",
    "import json"
   ]
  },
  {
   "cell_type": "code",
   "execution_count": 92,
   "metadata": {},
   "outputs": [
    {
     "data": {
      "text/plain": [
       "13"
      ]
     },
     "execution_count": 92,
     "metadata": {},
     "output_type": "execute_result"
    }
   ],
   "source": [
    "\n",
    "path = os.getcwd()\n",
    "parent = os.path.abspath(os.path.join(path, os.pardir))\n",
    "with open(parent+'/'+constants.output_data_segment_keyword_matrix + \"metadata_partitions.json\") as read_file:\n",
    "        metadata_partitions = json.load(read_file)\n",
    "nationalities = [element for element in metadata_partitions.keys() if (element[0].isupper()) and (element[-2] !=\"_\")]\n",
    "len(nationalities)"
   ]
  },
  {
   "cell_type": "markdown",
   "metadata": {},
   "source": [
    "- But majority of victims were born in 5 countries, here we will focus on those who were born in these five countries; the number of victims is not enough with other countries"
   ]
  },
  {
   "cell_type": "code",
   "execution_count": 93,
   "metadata": {},
   "outputs": [],
   "source": [
    "countries = []\n",
    "for country in nationalities:\n",
    "    countries.append({'country':country,'total':len(metadata_partitions[country]),'women':len(metadata_partitions[country+'_w']),'men':len(metadata_partitions[country+'_m'])})\n",
    "    \n",
    "countries = pd.DataFrame(countries)\n",
    "    "
   ]
  },
  {
   "cell_type": "code",
   "execution_count": 94,
   "metadata": {},
   "outputs": [
    {
     "data": {
      "text/html": [
       "<div>\n",
       "<style scoped>\n",
       "    .dataframe tbody tr th:only-of-type {\n",
       "        vertical-align: middle;\n",
       "    }\n",
       "\n",
       "    .dataframe tbody tr th {\n",
       "        vertical-align: top;\n",
       "    }\n",
       "\n",
       "    .dataframe thead th {\n",
       "        text-align: right;\n",
       "    }\n",
       "</style>\n",
       "<table border=\"1\" class=\"dataframe\">\n",
       "  <thead>\n",
       "    <tr style=\"text-align: right;\">\n",
       "      <th></th>\n",
       "      <th>country</th>\n",
       "      <th>total</th>\n",
       "      <th>women</th>\n",
       "      <th>men</th>\n",
       "    </tr>\n",
       "  </thead>\n",
       "  <tbody>\n",
       "    <tr>\n",
       "      <th>2</th>\n",
       "      <td>Czechoslovakia (historical)</td>\n",
       "      <td>1817</td>\n",
       "      <td>1317</td>\n",
       "      <td>500</td>\n",
       "    </tr>\n",
       "    <tr>\n",
       "      <th>9</th>\n",
       "      <td>Poland</td>\n",
       "      <td>1404</td>\n",
       "      <td>849</td>\n",
       "      <td>555</td>\n",
       "    </tr>\n",
       "    <tr>\n",
       "      <th>6</th>\n",
       "      <td>Hungary</td>\n",
       "      <td>1030</td>\n",
       "      <td>832</td>\n",
       "      <td>198</td>\n",
       "    </tr>\n",
       "    <tr>\n",
       "      <th>10</th>\n",
       "      <td>Romania</td>\n",
       "      <td>948</td>\n",
       "      <td>690</td>\n",
       "      <td>258</td>\n",
       "    </tr>\n",
       "    <tr>\n",
       "      <th>1</th>\n",
       "      <td>Austria-Hungary (historical)</td>\n",
       "      <td>478</td>\n",
       "      <td>358</td>\n",
       "      <td>120</td>\n",
       "    </tr>\n",
       "    <tr>\n",
       "      <th>11</th>\n",
       "      <td>Russia</td>\n",
       "      <td>199</td>\n",
       "      <td>81</td>\n",
       "      <td>118</td>\n",
       "    </tr>\n",
       "    <tr>\n",
       "      <th>4</th>\n",
       "      <td>Germany</td>\n",
       "      <td>147</td>\n",
       "      <td>82</td>\n",
       "      <td>65</td>\n",
       "    </tr>\n",
       "    <tr>\n",
       "      <th>5</th>\n",
       "      <td>Greece</td>\n",
       "      <td>129</td>\n",
       "      <td>68</td>\n",
       "      <td>61</td>\n",
       "    </tr>\n",
       "    <tr>\n",
       "      <th>12</th>\n",
       "      <td>Yugoslavia (historical)</td>\n",
       "      <td>100</td>\n",
       "      <td>84</td>\n",
       "      <td>16</td>\n",
       "    </tr>\n",
       "    <tr>\n",
       "      <th>8</th>\n",
       "      <td>Netherlands</td>\n",
       "      <td>90</td>\n",
       "      <td>53</td>\n",
       "      <td>37</td>\n",
       "    </tr>\n",
       "    <tr>\n",
       "      <th>3</th>\n",
       "      <td>France</td>\n",
       "      <td>86</td>\n",
       "      <td>59</td>\n",
       "      <td>27</td>\n",
       "    </tr>\n",
       "    <tr>\n",
       "      <th>0</th>\n",
       "      <td>Austria</td>\n",
       "      <td>62</td>\n",
       "      <td>42</td>\n",
       "      <td>20</td>\n",
       "    </tr>\n",
       "    <tr>\n",
       "      <th>7</th>\n",
       "      <td>Italy</td>\n",
       "      <td>53</td>\n",
       "      <td>29</td>\n",
       "      <td>24</td>\n",
       "    </tr>\n",
       "  </tbody>\n",
       "</table>\n",
       "</div>"
      ],
      "text/plain": [
       "                         country  total  women  men\n",
       "2    Czechoslovakia (historical)   1817   1317  500\n",
       "9                         Poland   1404    849  555\n",
       "6                        Hungary   1030    832  198\n",
       "10                       Romania    948    690  258\n",
       "1   Austria-Hungary (historical)    478    358  120\n",
       "11                        Russia    199     81  118\n",
       "4                        Germany    147     82   65\n",
       "5                         Greece    129     68   61\n",
       "12       Yugoslavia (historical)    100     84   16\n",
       "8                    Netherlands     90     53   37\n",
       "3                         France     86     59   27\n",
       "0                        Austria     62     42   20\n",
       "7                          Italy     53     29   24"
      ]
     },
     "execution_count": 94,
     "metadata": {},
     "output_type": "execute_result"
    }
   ],
   "source": [
    "countries.sort_values('total',ascending=False)"
   ]
  },
  {
   "cell_type": "code",
   "execution_count": 95,
   "metadata": {},
   "outputs": [
    {
     "data": {
      "text/plain": [
       "5677"
      ]
     },
     "execution_count": 95,
     "metadata": {},
     "output_type": "execute_result"
    }
   ],
   "source": [
    "countries.sort_values('total',ascending=False)[0:5].total.sum()"
   ]
  },
  {
   "cell_type": "code",
   "execution_count": 96,
   "metadata": {},
   "outputs": [
    {
     "data": {
      "text/plain": [
       "866"
      ]
     },
     "execution_count": 96,
     "metadata": {},
     "output_type": "execute_result"
    }
   ],
   "source": [
    "countries.sort_values('total',ascending=False)[5:].total.sum()"
   ]
  },
  {
   "cell_type": "code",
   "execution_count": 97,
   "metadata": {},
   "outputs": [
    {
     "data": {
      "text/plain": [
       "2      Czechoslovakia (historical)\n",
       "9                           Poland\n",
       "6                          Hungary\n",
       "10                         Romania\n",
       "1     Austria-Hungary (historical)\n",
       "Name: country, dtype: object"
      ]
     },
     "execution_count": 97,
     "metadata": {},
     "output_type": "execute_result"
    }
   ],
   "source": [
    "countries.sort_values('total',ascending=False)[0:5].country"
   ]
  },
  {
   "cell_type": "code",
   "execution_count": 98,
   "metadata": {},
   "outputs": [],
   "source": [
    "countries_to_study = countries.sort_values('total',ascending=False).country.to_list()"
   ]
  },
  {
   "cell_type": "code",
   "execution_count": 99,
   "metadata": {},
   "outputs": [
    {
     "data": {
      "text/plain": [
       "['Czechoslovakia (historical)',\n",
       " 'Poland',\n",
       " 'Hungary',\n",
       " 'Romania',\n",
       " 'Austria-Hungary (historical)',\n",
       " 'Russia',\n",
       " 'Germany',\n",
       " 'Greece',\n",
       " 'Yugoslavia (historical)',\n",
       " 'Netherlands',\n",
       " 'France',\n",
       " 'Austria',\n",
       " 'Italy']"
      ]
     },
     "execution_count": 99,
     "metadata": {},
     "output_type": "execute_result"
    }
   ],
   "source": [
    "countries_to_study"
   ]
  },
  {
   "cell_type": "code",
   "execution_count": 124,
   "metadata": {},
   "outputs": [
    {
     "name": "stdout",
     "output_type": "stream",
     "text": [
      "python statistical_analysis/measure_strength_of_assoc_odds_ratio.py --metadata_fields Czechoslovakia (historical)_w Czechoslovakia (historical)_m\n",
      "python statistical_analysis/measure_strength_of_assoc_odds_ratio.py --metadata_fields Poland_w Poland_m\n",
      "python statistical_analysis/measure_strength_of_assoc_odds_ratio.py --metadata_fields Hungary_w Hungary_m\n",
      "python statistical_analysis/measure_strength_of_assoc_odds_ratio.py --metadata_fields Romania_w Romania_m\n",
      "python statistical_analysis/measure_strength_of_assoc_odds_ratio.py --metadata_fields Austria-Hungary (historical)_w Austria-Hungary (historical)_m\n",
      "python statistical_analysis/measure_strength_of_assoc_odds_ratio.py --metadata_fields Russia_w Russia_m\n",
      "python statistical_analysis/measure_strength_of_assoc_odds_ratio.py --metadata_fields Germany_w Germany_m\n",
      "python statistical_analysis/measure_strength_of_assoc_odds_ratio.py --metadata_fields Greece_w Greece_m\n",
      "python statistical_analysis/measure_strength_of_assoc_odds_ratio.py --metadata_fields Yugoslavia (historical)_w Yugoslavia (historical)_m\n",
      "python statistical_analysis/measure_strength_of_assoc_odds_ratio.py --metadata_fields Netherlands_w Netherlands_m\n",
      "python statistical_analysis/measure_strength_of_assoc_odds_ratio.py --metadata_fields France_w France_m\n",
      "python statistical_analysis/measure_strength_of_assoc_odds_ratio.py --metadata_fields Austria_w Austria_m\n",
      "python statistical_analysis/measure_strength_of_assoc_odds_ratio.py --metadata_fields Italy_w Italy_m\n"
     ]
    }
   ],
   "source": [
    "for element in countries_to_study:\n",
    "    print ('python statistical_analysis/measure_strength_of_assoc_odds_ratio.py --metadata_fields '+element+'_w '+element+'_m')"
   ]
  },
  {
   "cell_type": "markdown",
   "metadata": {},
   "source": [
    "## Load the relevant data"
   ]
  },
  {
   "cell_type": "markdown",
   "metadata": {},
   "source": [
    "Load interview"
   ]
  },
  {
   "cell_type": "markdown",
   "metadata": {},
   "source": [
    "Set up the paths to data"
   ]
  },
  {
   "cell_type": "markdown",
   "metadata": {},
   "source": [
    "Two different datasets were created. In Dataset 1, the topic 'social bonds' include 'friendship' as well; similarly the topic 'aid giving' includes 'food sharing'. In Dataset 2, 'friendship' and 'food sharing' are distinguished, and they are different topics."
   ]
  },
  {
   "cell_type": "markdown",
   "metadata": {},
   "source": [
    "First, load Dataset 1"
   ]
  },
  {
   "cell_type": "code",
   "execution_count": 100,
   "metadata": {},
   "outputs": [],
   "source": [
    "input_directory = constants.output_data_markov_modelling\n",
    "\n",
    "path = os.getcwd()\n",
    "parent = os.path.abspath(os.path.join(path, os.pardir))\n",
    "input_directory = parent +'/'+ constants.output_data_markov_modelling"
   ]
  },
  {
   "cell_type": "code",
   "execution_count": 101,
   "metadata": {},
   "outputs": [],
   "source": [
    "data_sets_1 = {}\n",
    "for country in countries_to_study:\n",
    "    data_sets_1[country+'_w']= pd.read_csv(input_directory+country+'_w'+'/'+'stationary_probs.csv')\n",
    "    data_sets_1[country+'_m']= pd.read_csv(input_directory+country+'_m'+'/'+'stationary_probs.csv')"
   ]
  },
  {
   "cell_type": "code",
   "execution_count": 102,
   "metadata": {},
   "outputs": [],
   "source": [
    "#input_file = 'strength_of_association_odds_ratio_notwork_w_notwork_m.csv'\n",
    "#df_fisher_dataset_1 = pd.read_csv(input_directory+input_file)"
   ]
  },
  {
   "cell_type": "markdown",
   "metadata": {},
   "source": [
    "Second,load Dataset 2"
   ]
  },
  {
   "cell_type": "code",
   "execution_count": 103,
   "metadata": {},
   "outputs": [],
   "source": [
    "input_directory = 'data/output_aid_giving_sociability_expanded/output/markov_modelling/'\n",
    "\n",
    "path = os.getcwd()\n",
    "parent = os.path.abspath(os.path.join(path, os.pardir))\n",
    "input_directory = parent +'/'+ input_directory "
   ]
  },
  {
   "cell_type": "code",
   "execution_count": 104,
   "metadata": {},
   "outputs": [],
   "source": [
    "data_sets_2 = {}\n",
    "for country in countries_to_study:\n",
    "    data_sets_2[country+'_w']= pd.read_csv(input_directory+country+'_w'+'/'+'stationary_probs.csv')\n",
    "    data_sets_2[country+'_m']= pd.read_csv(input_directory+country+'_m'+'/'+'stationary_probs.csv')"
   ]
  },
  {
   "cell_type": "code",
   "execution_count": 105,
   "metadata": {},
   "outputs": [],
   "source": [
    "\n",
    "#df_fisher_data_2 = pd.read_csv(parent +'/'+input_directory+input_file)"
   ]
  },
  {
   "cell_type": "markdown",
   "metadata": {},
   "source": [
    "## Observation 1"
   ]
  },
  {
   "cell_type": "markdown",
   "metadata": {},
   "source": [
    "## Qualitative description"
   ]
  },
  {
   "cell_type": "markdown",
   "metadata": {},
   "source": [
    "some text"
   ]
  },
  {
   "cell_type": "markdown",
   "metadata": {},
   "source": [
    "## Quantitative proof"
   ]
  },
  {
   "cell_type": "code",
   "execution_count": 117,
   "metadata": {},
   "outputs": [
    {
     "name": "stdout",
     "output_type": "stream",
     "text": [
      "\n",
      "\n",
      "Czechoslovakia (historical)\n",
      "Probability of women talking about social bonds\n",
      "18.89457777370193\n",
      "Probability of men talking about social bonds\n",
      "17.756734251024444\n",
      "Women to man ratio\n",
      "1.0640795490089534\n",
      "\n",
      "\n",
      "Poland\n",
      "Probability of women talking about social bonds\n",
      "13.773455036227158\n",
      "Probability of men talking about social bonds\n",
      "16.64552719950897\n",
      "Women to man ratio\n",
      "0.827456821952354\n",
      "\n",
      "\n",
      "Hungary\n",
      "Probability of women talking about social bonds\n",
      "15.37529012361197\n",
      "Probability of men talking about social bonds\n",
      "8.338377766441337\n",
      "Women to man ratio\n",
      "1.8439186319299916\n",
      "\n",
      "\n",
      "Romania\n",
      "Probability of women talking about social bonds\n",
      "16.422038409405726\n",
      "Probability of men talking about social bonds\n",
      "20.654119977184987\n",
      "Women to man ratio\n",
      "0.795097463728587\n",
      "\n",
      "\n",
      "Austria-Hungary (historical)\n",
      "Probability of women talking about social bonds\n",
      "10.441562900870723\n",
      "Probability of men talking about social bonds\n",
      "12.57901203333953\n",
      "Women to man ratio\n",
      "0.8300781391413179\n",
      "\n",
      "\n",
      "Russia\n",
      "Probability of women talking about social bonds\n",
      "17.513406922495097\n",
      "Probability of men talking about social bonds\n",
      "11.88179522787616\n",
      "Women to man ratio\n",
      "1.4739697652259214\n",
      "\n",
      "\n",
      "Germany\n",
      "Probability of women talking about social bonds\n",
      "19.246561695062553\n",
      "Probability of men talking about social bonds\n",
      "1.9820640401205514\n",
      "Women to man ratio\n",
      "9.710363189825065\n",
      "\n",
      "\n",
      "Greece\n",
      "Probability of women talking about social bonds\n",
      "13.253408892300369\n",
      "Probability of men talking about social bonds\n",
      "11.366793866526516\n",
      "Women to man ratio\n",
      "1.1659760041333773\n",
      "\n",
      "\n",
      "Yugoslavia (historical)\n",
      "Probability of women talking about social bonds\n",
      "27.147559859472047\n",
      "Probability of men talking about social bonds\n",
      "13.145870552773994\n",
      "Women to man ratio\n",
      "2.065101717721043\n",
      "\n",
      "\n",
      "Netherlands\n",
      "Probability of women talking about social bonds\n",
      "31.595724436316612\n",
      "Probability of men talking about social bonds\n",
      "14.183443525698253\n",
      "Women to man ratio\n",
      "2.2276483407622374\n",
      "\n",
      "\n",
      "France\n",
      "Probability of women talking about social bonds\n",
      "15.34488069876679\n",
      "Probability of men talking about social bonds\n",
      "5.310724966203785\n",
      "Women to man ratio\n",
      "2.8894135539720156\n",
      "\n",
      "\n",
      "Austria\n",
      "Probability of women talking about social bonds\n",
      "8.489192235483094\n",
      "Probability of men talking about social bonds\n",
      "4.308237188389009\n",
      "Women to man ratio\n",
      "1.9704560970695952\n",
      "\n",
      "\n",
      "Italy\n",
      "Probability of women talking about social bonds\n",
      "32.89811760943014\n",
      "Probability of men talking about social bonds\n",
      "8.891129565284349\n",
      "Women to man ratio\n",
      "3.700105522911477\n"
     ]
    }
   ],
   "source": [
    "topic_word = \"social bonds\"\n",
    "for country in countries_to_study:\n",
    "    print ('\\n')\n",
    "    print (country)\n",
    "     \n",
    "    men = data_sets_1[country+'_m']\n",
    "    topic_m = men[men.topic_name==topic_word]['stationary_prob'].values[0]\n",
    "    women = data_sets_1[country+'_w']\n",
    "    topic_w = women[women.topic_name==topic_word]['stationary_prob'].values[0]\n",
    "    print (\"Probability of women talking about \"+topic_word)\n",
    "    print(topic_w*1000)\n",
    "    print (\"Probability of men talking about \"+topic_word)\n",
    "    print(topic_m*1000)\n",
    "    print (\"Women to man ratio\")\n",
    "    print (topic_w/topic_m)\n"
   ]
  },
  {
   "cell_type": "markdown",
   "metadata": {},
   "source": [
    "## Observation 2"
   ]
  },
  {
   "cell_type": "markdown",
   "metadata": {},
   "source": [
    "## Qualitative description"
   ]
  },
  {
   "cell_type": "markdown",
   "metadata": {},
   "source": [
    "some text"
   ]
  },
  {
   "cell_type": "markdown",
   "metadata": {},
   "source": [
    "## Quantitative proof"
   ]
  },
  {
   "cell_type": "code",
   "execution_count": 121,
   "metadata": {},
   "outputs": [
    {
     "name": "stdout",
     "output_type": "stream",
     "text": [
      "Czechoslovakia (historical)\n",
      "\n",
      "\n",
      "Probability of women talking about aid giving\n",
      "26.269648492339737\n",
      "Probability of men talking about aid giving\n",
      "29.608854889439225\n",
      "Women to man ratio\n",
      "0.8872227105854573\n",
      "Poland\n",
      "\n",
      "\n",
      "Probability of women talking about aid giving\n",
      "31.094530625167906\n",
      "Probability of men talking about aid giving\n",
      "23.42668691426436\n",
      "Women to man ratio\n",
      "1.3273123399380322\n",
      "Hungary\n",
      "\n",
      "\n",
      "Probability of women talking about aid giving\n",
      "15.80533691824304\n",
      "Probability of men talking about aid giving\n",
      "13.283920012275592\n",
      "Women to man ratio\n",
      "1.1898097025303842\n",
      "Romania\n",
      "\n",
      "\n",
      "Probability of women talking about aid giving\n",
      "19.146283172632263\n",
      "Probability of men talking about aid giving\n",
      "12.767930885335131\n",
      "Women to man ratio\n",
      "1.4995603707898448\n",
      "Austria-Hungary (historical)\n",
      "\n",
      "\n",
      "Probability of women talking about aid giving\n",
      "23.20141368550154\n",
      "Probability of men talking about aid giving\n",
      "37.52611335502776\n",
      "Women to man ratio\n",
      "0.6182738261753132\n",
      "Russia\n",
      "\n",
      "\n",
      "Probability of women talking about aid giving\n",
      "36.817528156176536\n",
      "Probability of men talking about aid giving\n",
      "17.211808092291694\n",
      "Women to man ratio\n",
      "2.1390854440600733\n",
      "Germany\n",
      "\n",
      "\n",
      "Probability of women talking about aid giving\n",
      "11.250307995005448\n",
      "Probability of men talking about aid giving\n",
      "12.397887426704365\n",
      "Women to man ratio\n",
      "0.9074375018741425\n",
      "Greece\n",
      "\n",
      "\n",
      "Probability of women talking about aid giving\n",
      "34.005366474680436\n",
      "Probability of men talking about aid giving\n",
      "23.522633119255758\n",
      "Women to man ratio\n",
      "1.445644554428877\n",
      "Yugoslavia (historical)\n",
      "\n",
      "\n",
      "Probability of women talking about aid giving\n",
      "21.447696942308887\n",
      "Probability of men talking about aid giving\n",
      "17.568017401405065\n",
      "Women to man ratio\n",
      "1.2208376421914025\n",
      "Netherlands\n",
      "\n",
      "\n",
      "Probability of women talking about aid giving\n",
      "9.211456651348703\n",
      "Probability of men talking about aid giving\n",
      "3.9138043456927902\n",
      "Women to man ratio\n",
      "2.353581282489522\n",
      "France\n",
      "\n",
      "\n",
      "Probability of women talking about aid giving\n",
      "35.58308490656589\n",
      "Probability of men talking about aid giving\n",
      "39.40163932359799\n",
      "Women to man ratio\n",
      "0.9030864075052547\n",
      "Austria\n",
      "\n",
      "\n",
      "Probability of women talking about aid giving\n",
      "36.85075159261615\n",
      "Probability of men talking about aid giving\n",
      "24.026040992776103\n",
      "Women to man ratio\n",
      "1.5337837641955263\n",
      "Italy\n",
      "\n",
      "\n",
      "Probability of women talking about aid giving\n",
      "21.513842903008392\n",
      "Probability of men talking about aid giving\n",
      "19.710414312535782\n",
      "Women to man ratio\n",
      "1.0914962294488977\n"
     ]
    }
   ],
   "source": [
    "topic_word = \"aid giving\"\n",
    "for country in countries_to_study:\n",
    "    print (country)\n",
    "    print ('\\n')\n",
    "    men = data_sets_1[country+'_m']\n",
    "    topic_m = men[men.topic_name==topic_word]['stationary_prob'].values[0]\n",
    "    women = data_sets_1[country+'_w']\n",
    "    topic_w = women[women.topic_name==topic_word]['stationary_prob'].values[0]\n",
    "    print (\"Probability of women talking about \"+topic_word)\n",
    "    print(topic_w*1000)\n",
    "    print (\"Probability of men talking about \"+topic_word)\n",
    "    print(topic_m*1000)\n",
    "    print (\"Women to man ratio\")\n",
    "    print (topic_w/topic_m)\n"
   ]
  },
  {
   "cell_type": "markdown",
   "metadata": {},
   "source": [
    "## Observation 3"
   ]
  },
  {
   "cell_type": "markdown",
   "metadata": {},
   "source": [
    "## Qualitative description"
   ]
  },
  {
   "cell_type": "markdown",
   "metadata": {},
   "source": [
    "some text"
   ]
  },
  {
   "cell_type": "markdown",
   "metadata": {},
   "source": [
    "## Quantitative proof"
   ]
  },
  {
   "cell_type": "code",
   "execution_count": 122,
   "metadata": {},
   "outputs": [
    {
     "name": "stdout",
     "output_type": "stream",
     "text": [
      "\n",
      "\n",
      "Czechoslovakia (historical)\n",
      "Probability of women talking about friends\n",
      "3.1888999230171216\n",
      "Probability of men talking about friends\n",
      "2.2688660869970105\n",
      "Women to man ratio\n",
      "1.4055038070747645\n",
      "\n",
      "\n",
      "Poland\n",
      "Probability of women talking about friends\n",
      "2.962268393934973\n",
      "Probability of men talking about friends\n",
      "3.920707952346391\n",
      "Women to man ratio\n",
      "0.7555442613781449\n",
      "\n",
      "\n",
      "Hungary\n",
      "Probability of women talking about friends\n",
      "5.808893849268422\n",
      "Probability of men talking about friends\n",
      "1.8935965906923489\n",
      "Women to man ratio\n",
      "3.0676511976315597\n",
      "\n",
      "\n",
      "Romania\n",
      "Probability of women talking about friends\n",
      "3.1129282217935685\n",
      "Probability of men talking about friends\n",
      "1.0605430896203316\n",
      "Women to man ratio\n",
      "2.9352208809431577\n",
      "\n",
      "\n",
      "Austria-Hungary (historical)\n",
      "Probability of women talking about friends\n",
      "2.822670551315358\n",
      "Probability of men talking about friends\n",
      "0.9288644723289476\n",
      "Women to man ratio\n",
      "3.0388400411505225\n",
      "\n",
      "\n",
      "Russia\n",
      "Probability of women talking about friends\n",
      "1.8956612935826387\n",
      "Probability of men talking about friends\n",
      "0.08638929237030633\n",
      "Women to man ratio\n",
      "21.94324367720153\n",
      "\n",
      "\n",
      "Germany\n",
      "In case of this country, the probability of hearing a man talking about this topic is 0.\n",
      "\n",
      "\n",
      "Greece\n",
      "Probability of women talking about friends\n",
      "1.7442730046244581\n",
      "Probability of men talking about friends\n",
      "1.1369029010578908\n",
      "Women to man ratio\n",
      "1.5342321696966452\n",
      "\n",
      "\n",
      "Yugoslavia (historical)\n",
      "Probability of women talking about friends\n",
      "23.89073513645682\n",
      "Probability of men talking about friends\n",
      "7.364554631392129\n",
      "Women to man ratio\n",
      "3.2440162823452\n",
      "\n",
      "\n",
      "Netherlands\n",
      "In case of this country, the probability of hearing a man talking about this topic is 0.\n",
      "\n",
      "\n",
      "France\n",
      "In case of this country, the probability of hearing a man talking about this topic is 0.\n",
      "\n",
      "\n",
      "Austria\n",
      "Probability of women talking about friends\n",
      "4.519808734668114\n",
      "Probability of men talking about friends\n",
      "4.404740069683302\n",
      "Women to man ratio\n",
      "1.0261238264152748\n",
      "\n",
      "\n",
      "Italy\n",
      "Probability of women talking about friends\n",
      "7.127229631914287\n",
      "Probability of men talking about friends\n",
      "0.7998316015721098\n",
      "Women to man ratio\n",
      "8.910912769519678\n"
     ]
    }
   ],
   "source": [
    "topic_word = \"friends\"\n",
    "for country in countries_to_study:\n",
    "    print ('\\n')\n",
    "    print (country)\n",
    "    try:\n",
    "        \n",
    "        men = data_sets_2[country+'_m']\n",
    "        topic_m = men[men.topic_name==topic_word]['stationary_prob'].values[0]\n",
    "        women = data_sets_2[country+'_w']\n",
    "        topic_w = women[women.topic_name==topic_word]['stationary_prob'].values[0]\n",
    "        print (\"Probability of women talking about \"+topic_word)\n",
    "        print(topic_w*1000)\n",
    "        print (\"Probability of men talking about \"+topic_word)\n",
    "        print(topic_m*1000)\n",
    "        print (\"Women to man ratio\")\n",
    "        print (topic_w/topic_m)\n",
    "    except:\n",
    "        topic_w = women[women.topic_name==topic_word]['stationary_prob'].values[0]\n",
    "        print (\"In case of this country, the probability of hearing a man talking about this topic is 0.\")\n",
    "        pass\n"
   ]
  },
  {
   "cell_type": "markdown",
   "metadata": {},
   "source": [
    "## Observation 4"
   ]
  },
  {
   "cell_type": "markdown",
   "metadata": {},
   "source": [
    "## Qualitative description"
   ]
  },
  {
   "cell_type": "markdown",
   "metadata": {},
   "source": [
    "some text"
   ]
  },
  {
   "cell_type": "markdown",
   "metadata": {},
   "source": [
    "## Quantitative proof"
   ]
  },
  {
   "cell_type": "code",
   "execution_count": 123,
   "metadata": {},
   "outputs": [
    {
     "name": "stdout",
     "output_type": "stream",
     "text": [
      "\n",
      "\n",
      "Czechoslovakia (historical)\n",
      "Probability of women talking about food sharing\n",
      "3.693490146222757\n",
      "Probability of men talking about food sharing\n",
      "1.6156618317275524\n",
      "Women to man ratio\n",
      "2.286053971005479\n",
      "\n",
      "\n",
      "Poland\n",
      "Probability of women talking about food sharing\n",
      "3.848805566139485\n",
      "Probability of men talking about food sharing\n",
      "2.6100569301941414\n",
      "Women to man ratio\n",
      "1.474605983346579\n",
      "\n",
      "\n",
      "Hungary\n",
      "Probability of women talking about food sharing\n",
      "1.97178151743768\n",
      "Probability of men talking about food sharing\n",
      "2.3524827794891485\n",
      "Women to man ratio\n",
      "0.8381704362001157\n",
      "\n",
      "\n",
      "Romania\n",
      "Probability of women talking about food sharing\n",
      "2.773417770704684\n",
      "Probability of men talking about food sharing\n",
      "1.950553875902052\n",
      "Women to man ratio\n",
      "1.421861659382308\n",
      "\n",
      "\n",
      "Austria-Hungary (historical)\n",
      "Probability of women talking about food sharing\n",
      "2.419846768742492\n",
      "Probability of men talking about food sharing\n",
      "1.392534376405766\n",
      "Women to man ratio\n",
      "1.7377285686751196\n",
      "\n",
      "\n",
      "Russia\n",
      "Probability of women talking about food sharing\n",
      "5.697843768341601\n",
      "Probability of men talking about food sharing\n",
      "3.325336357922545\n",
      "Women to man ratio\n",
      "1.7134638890789518\n",
      "\n",
      "\n",
      "Germany\n",
      "Probability of women talking about food sharing\n",
      "0.9548891388300093\n",
      "Probability of men talking about food sharing\n",
      "0.9338503798154283\n",
      "Women to man ratio\n",
      "1.0225290469108543\n",
      "\n",
      "\n",
      "Greece\n",
      "Probability of women talking about food sharing\n",
      "2.8347507977002135\n",
      "Probability of men talking about food sharing\n",
      "1.977053722703606\n",
      "Women to man ratio\n",
      "1.4338258819915695\n",
      "\n",
      "\n",
      "Yugoslavia (historical)\n",
      "In case of this country, the probability of hearing a man talking about this topic is 0.\n",
      "\n",
      "\n",
      "Netherlands\n",
      "Probability of women talking about food sharing\n",
      "2.0840388729403427\n",
      "Probability of men talking about food sharing\n",
      "0.3013291913548213\n",
      "Women to man ratio\n",
      "6.916153272672292\n",
      "\n",
      "\n",
      "France\n",
      "In case of this country, the probability of hearing a man talking about this topic is 0.\n",
      "\n",
      "\n",
      "Austria\n",
      "In case of this country, the probability of hearing a man talking about this topic is 0.\n",
      "\n",
      "\n",
      "Italy\n",
      "Probability of women talking about food sharing\n",
      "1.8434042003724307\n",
      "Probability of men talking about food sharing\n",
      "2.072382758900781\n",
      "Women to man ratio\n",
      "0.8895095234966134\n"
     ]
    }
   ],
   "source": [
    "topic_word = \"food sharing\"\n",
    "for country in countries_to_study:\n",
    "    print ('\\n')\n",
    "    print (country)\n",
    "    try:\n",
    "        \n",
    "        men = data_sets_2[country+'_m']\n",
    "        topic_m = men[men.topic_name==topic_word]['stationary_prob'].values[0]\n",
    "        women = data_sets_2[country+'_w']\n",
    "        topic_w = women[women.topic_name==topic_word]['stationary_prob'].values[0]\n",
    "        print (\"Probability of women talking about \"+topic_word)\n",
    "        print(topic_w*1000)\n",
    "        print (\"Probability of men talking about \"+topic_word)\n",
    "        print(topic_m*1000)\n",
    "        print (\"Women to man ratio\")\n",
    "        print (topic_w/topic_m)\n",
    "    except:\n",
    "        topic_w = women[women.topic_name==topic_word]['stationary_prob'].values[0]\n",
    "        print (\"In case of this country, the probability of hearing a man talking about this topic is 0.\")\n",
    "        pass\n",
    "\n"
   ]
  },
  {
   "cell_type": "code",
   "execution_count": null,
   "metadata": {},
   "outputs": [],
   "source": []
  },
  {
   "cell_type": "code",
   "execution_count": null,
   "metadata": {},
   "outputs": [],
   "source": []
  },
  {
   "cell_type": "code",
   "execution_count": null,
   "metadata": {},
   "outputs": [],
   "source": []
  }
 ],
 "metadata": {
  "kernelspec": {
   "display_name": "Python 3",
   "language": "python",
   "name": "python3"
  },
  "language_info": {
   "codemirror_mode": {
    "name": "ipython",
    "version": 3
   },
   "file_extension": ".py",
   "mimetype": "text/x-python",
   "name": "python",
   "nbconvert_exporter": "python",
   "pygments_lexer": "ipython3",
   "version": "3.7.2"
  }
 },
 "nbformat": 4,
 "nbformat_minor": 2
}

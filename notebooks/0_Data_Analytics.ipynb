{
 "cells": [
  {
   "cell_type": "markdown",
   "metadata": {},
   "source": [
    "# Some characteristics of the dataset underlying this project"
   ]
  },
  {
   "cell_type": "markdown",
   "metadata": {},
   "source": [
    "The goal of this notebook is to print some characteristics of the data that are included in the introduction of the paper"
   ]
  },
  {
   "cell_type": "markdown",
   "metadata": {},
   "source": [
    "### Load the relevant data"
   ]
  },
  {
   "cell_type": "markdown",
   "metadata": {},
   "source": [
    "Note that not all Birkenau survivors could be included included; some of them could not be included because there were problems with them during the data processing"
   ]
  },
  {
   "cell_type": "code",
   "execution_count": 1,
   "metadata": {},
   "outputs": [],
   "source": [
    "import constants\n",
    "import pandas as pd\n",
    "import os\n",
    "from IPython.display import display\n",
    "import json\n",
    "path = os.getcwd()\n",
    "parent = os.path.abspath(os.path.join(path, os.pardir))\n",
    "input_directory = parent + '/'+constants.output_data_segment_keyword_matrix\n",
    "segment_df = pd.read_csv(input_directory + constants.output_segment_keyword_matrix_document_index)\n",
    "int_codes = segment_df['IntCode'].to_list()\n",
    "with open(parent+'/'+constants.output_data_segment_keyword_matrix + \"metadata_partitions.json\") as read_file:\n",
    "        metadata_partitions = json.load(read_file)\n",
    "input_folder = parent+'/'+constants.input_data\n",
    "input_file = constants.input_files_biodata_birkenau\n",
    "df_biodata = pd.read_csv(input_folder+input_file)\n",
    "df_biodata = df_biodata[df_biodata.IntCode.isin(int_codes)]"
   ]
  },
  {
   "cell_type": "code",
   "execution_count": 2,
   "metadata": {},
   "outputs": [],
   "source": [
    "assert len(metadata_partitions['complete']) == len(df_biodata[df_biodata.IntCode.isin(int_codes)])"
   ]
  },
  {
   "cell_type": "markdown",
   "metadata": {},
   "source": [
    "### Total number of interviews included"
   ]
  },
  {
   "cell_type": "code",
   "execution_count": 3,
   "metadata": {},
   "outputs": [
    {
     "name": "stdout",
     "output_type": "stream",
     "text": [
      "6628\n"
     ]
    }
   ],
   "source": [
    "print (len(metadata_partitions['complete']))"
   ]
  },
  {
   "cell_type": "markdown",
   "metadata": {},
   "source": [
    "### Total number of women survivors"
   ]
  },
  {
   "cell_type": "code",
   "execution_count": 4,
   "metadata": {},
   "outputs": [
    {
     "name": "stdout",
     "output_type": "stream",
     "text": [
      "4595\n"
     ]
    }
   ],
   "source": [
    "print (len(metadata_partitions['complete_w']))"
   ]
  },
  {
   "cell_type": "markdown",
   "metadata": {},
   "source": [
    "### Total number of men survivors"
   ]
  },
  {
   "cell_type": "code",
   "execution_count": 5,
   "metadata": {},
   "outputs": [
    {
     "name": "stdout",
     "output_type": "stream",
     "text": [
      "2033\n"
     ]
    }
   ],
   "source": [
    "print (len(metadata_partitions['complete_m']))"
   ]
  },
  {
   "cell_type": "markdown",
   "metadata": {},
   "source": [
    "### Number of different birthplaces"
   ]
  },
  {
   "cell_type": "code",
   "execution_count": 6,
   "metadata": {},
   "outputs": [
    {
     "data": {
      "text/plain": [
       "13"
      ]
     },
     "execution_count": 6,
     "metadata": {},
     "output_type": "execute_result"
    }
   ],
   "source": [
    "nationalities = [element for element in metadata_partitions.keys() if (element[0].isupper()) and (element[-2] !=\"_\")]\n",
    "len(nationalities)"
   ]
  },
  {
   "cell_type": "markdown",
   "metadata": {},
   "source": [
    "Majority of victims were born in 5 countries, here we will focus on those who were born in these five countries; the number of victims is not enough with other countries"
   ]
  },
  {
   "cell_type": "code",
   "execution_count": 7,
   "metadata": {},
   "outputs": [],
   "source": [
    "countries = []\n",
    "for country in nationalities:\n",
    "    countries.append({'country':country,'total':len(metadata_partitions[country]),'women':len(metadata_partitions[country+'_w']),'men':len(metadata_partitions[country+'_m'])})\n",
    "    \n",
    "countries = pd.DataFrame(countries)\n",
    "    "
   ]
  },
  {
   "cell_type": "code",
   "execution_count": 8,
   "metadata": {},
   "outputs": [
    {
     "data": {
      "text/html": [
       "<div>\n",
       "<style scoped>\n",
       "    .dataframe tbody tr th:only-of-type {\n",
       "        vertical-align: middle;\n",
       "    }\n",
       "\n",
       "    .dataframe tbody tr th {\n",
       "        vertical-align: top;\n",
       "    }\n",
       "\n",
       "    .dataframe thead th {\n",
       "        text-align: right;\n",
       "    }\n",
       "</style>\n",
       "<table border=\"1\" class=\"dataframe\">\n",
       "  <thead>\n",
       "    <tr style=\"text-align: right;\">\n",
       "      <th></th>\n",
       "      <th>country</th>\n",
       "      <th>total</th>\n",
       "      <th>women</th>\n",
       "      <th>men</th>\n",
       "    </tr>\n",
       "  </thead>\n",
       "  <tbody>\n",
       "    <tr>\n",
       "      <th>2</th>\n",
       "      <td>Czechoslovakia (historical)</td>\n",
       "      <td>1817</td>\n",
       "      <td>1317</td>\n",
       "      <td>500</td>\n",
       "    </tr>\n",
       "    <tr>\n",
       "      <th>9</th>\n",
       "      <td>Poland</td>\n",
       "      <td>1404</td>\n",
       "      <td>849</td>\n",
       "      <td>555</td>\n",
       "    </tr>\n",
       "    <tr>\n",
       "      <th>6</th>\n",
       "      <td>Hungary</td>\n",
       "      <td>1030</td>\n",
       "      <td>832</td>\n",
       "      <td>198</td>\n",
       "    </tr>\n",
       "    <tr>\n",
       "      <th>10</th>\n",
       "      <td>Romania</td>\n",
       "      <td>948</td>\n",
       "      <td>690</td>\n",
       "      <td>258</td>\n",
       "    </tr>\n",
       "    <tr>\n",
       "      <th>1</th>\n",
       "      <td>Austria-Hungary (historical)</td>\n",
       "      <td>478</td>\n",
       "      <td>358</td>\n",
       "      <td>120</td>\n",
       "    </tr>\n",
       "    <tr>\n",
       "      <th>11</th>\n",
       "      <td>Russia</td>\n",
       "      <td>199</td>\n",
       "      <td>81</td>\n",
       "      <td>118</td>\n",
       "    </tr>\n",
       "    <tr>\n",
       "      <th>4</th>\n",
       "      <td>Germany</td>\n",
       "      <td>147</td>\n",
       "      <td>82</td>\n",
       "      <td>65</td>\n",
       "    </tr>\n",
       "    <tr>\n",
       "      <th>5</th>\n",
       "      <td>Greece</td>\n",
       "      <td>129</td>\n",
       "      <td>68</td>\n",
       "      <td>61</td>\n",
       "    </tr>\n",
       "    <tr>\n",
       "      <th>12</th>\n",
       "      <td>Yugoslavia (historical)</td>\n",
       "      <td>100</td>\n",
       "      <td>84</td>\n",
       "      <td>16</td>\n",
       "    </tr>\n",
       "    <tr>\n",
       "      <th>8</th>\n",
       "      <td>Netherlands</td>\n",
       "      <td>90</td>\n",
       "      <td>53</td>\n",
       "      <td>37</td>\n",
       "    </tr>\n",
       "    <tr>\n",
       "      <th>3</th>\n",
       "      <td>France</td>\n",
       "      <td>86</td>\n",
       "      <td>59</td>\n",
       "      <td>27</td>\n",
       "    </tr>\n",
       "    <tr>\n",
       "      <th>0</th>\n",
       "      <td>Austria</td>\n",
       "      <td>62</td>\n",
       "      <td>42</td>\n",
       "      <td>20</td>\n",
       "    </tr>\n",
       "    <tr>\n",
       "      <th>7</th>\n",
       "      <td>Italy</td>\n",
       "      <td>53</td>\n",
       "      <td>29</td>\n",
       "      <td>24</td>\n",
       "    </tr>\n",
       "  </tbody>\n",
       "</table>\n",
       "</div>"
      ],
      "text/plain": [
       "                         country  total  women  men\n",
       "2    Czechoslovakia (historical)   1817   1317  500\n",
       "9                         Poland   1404    849  555\n",
       "6                        Hungary   1030    832  198\n",
       "10                       Romania    948    690  258\n",
       "1   Austria-Hungary (historical)    478    358  120\n",
       "11                        Russia    199     81  118\n",
       "4                        Germany    147     82   65\n",
       "5                         Greece    129     68   61\n",
       "12       Yugoslavia (historical)    100     84   16\n",
       "8                    Netherlands     90     53   37\n",
       "3                         France     86     59   27\n",
       "0                        Austria     62     42   20\n",
       "7                          Italy     53     29   24"
      ]
     },
     "execution_count": 8,
     "metadata": {},
     "output_type": "execute_result"
    }
   ],
   "source": [
    "countries.sort_values('total',ascending=False)"
   ]
  },
  {
   "cell_type": "code",
   "execution_count": 9,
   "metadata": {},
   "outputs": [
    {
     "data": {
      "text/plain": [
       "5677"
      ]
     },
     "execution_count": 9,
     "metadata": {},
     "output_type": "execute_result"
    }
   ],
   "source": [
    "countries.sort_values('total',ascending=False)[0:5].total.sum()"
   ]
  },
  {
   "cell_type": "code",
   "execution_count": 10,
   "metadata": {},
   "outputs": [
    {
     "data": {
      "text/plain": [
       "866"
      ]
     },
     "execution_count": 10,
     "metadata": {},
     "output_type": "execute_result"
    }
   ],
   "source": [
    "countries.sort_values('total',ascending=False)[5:].total.sum()"
   ]
  },
  {
   "cell_type": "code",
   "execution_count": 11,
   "metadata": {},
   "outputs": [
    {
     "data": {
      "text/plain": [
       "2      Czechoslovakia (historical)\n",
       "9                           Poland\n",
       "6                          Hungary\n",
       "10                         Romania\n",
       "1     Austria-Hungary (historical)\n",
       "Name: country, dtype: object"
      ]
     },
     "execution_count": 11,
     "metadata": {},
     "output_type": "execute_result"
    }
   ],
   "source": [
    "countries.sort_values('total',ascending=False)[0:5].country"
   ]
  },
  {
   "cell_type": "markdown",
   "metadata": {},
   "source": [
    "### Number of different countries where interviews were recorded"
   ]
  },
  {
   "cell_type": "code",
   "execution_count": 12,
   "metadata": {},
   "outputs": [
    {
     "data": {
      "text/plain": [
       "43"
      ]
     },
     "execution_count": 12,
     "metadata": {},
     "output_type": "execute_result"
    }
   ],
   "source": [
    "df_biodata.InterviewCountry.unique().shape[0]"
   ]
  },
  {
   "cell_type": "code",
   "execution_count": 13,
   "metadata": {},
   "outputs": [],
   "source": [
    "interview_countries = df_biodata.groupby('InterviewCountry')['IntCode'].unique().to_frame().reset_index()"
   ]
  },
  {
   "cell_type": "code",
   "execution_count": 14,
   "metadata": {},
   "outputs": [],
   "source": [
    "interview_countries['count']= interview_countries.IntCode.apply(lambda x: len(x))"
   ]
  },
  {
   "cell_type": "code",
   "execution_count": 15,
   "metadata": {},
   "outputs": [
    {
     "data": {
      "text/html": [
       "<div>\n",
       "<style scoped>\n",
       "    .dataframe tbody tr th:only-of-type {\n",
       "        vertical-align: middle;\n",
       "    }\n",
       "\n",
       "    .dataframe tbody tr th {\n",
       "        vertical-align: top;\n",
       "    }\n",
       "\n",
       "    .dataframe thead th {\n",
       "        text-align: right;\n",
       "    }\n",
       "</style>\n",
       "<table border=\"1\" class=\"dataframe\">\n",
       "  <thead>\n",
       "    <tr style=\"text-align: right;\">\n",
       "      <th></th>\n",
       "      <th>InterviewCountry</th>\n",
       "      <th>IntCode</th>\n",
       "      <th>count</th>\n",
       "    </tr>\n",
       "  </thead>\n",
       "  <tbody>\n",
       "    <tr>\n",
       "      <th>36</th>\n",
       "      <td>U.S.A.</td>\n",
       "      <td>[2, 3, 7, 8, 16, 21, 33, 39, 47, 61, 64, 65, 6...</td>\n",
       "      <td>2536</td>\n",
       "    </tr>\n",
       "    <tr>\n",
       "      <th>19</th>\n",
       "      <td>Israel</td>\n",
       "      <td>[3651, 4712, 4722, 5099, 5709, 5770, 5780, 591...</td>\n",
       "      <td>1666</td>\n",
       "    </tr>\n",
       "    <tr>\n",
       "      <th>7</th>\n",
       "      <td>Canada</td>\n",
       "      <td>[160, 246, 285, 364, 368, 430, 434, 466, 474, ...</td>\n",
       "      <td>662</td>\n",
       "    </tr>\n",
       "    <tr>\n",
       "      <th>1</th>\n",
       "      <td>Australia</td>\n",
       "      <td>[1089, 1095, 1101, 1103, 1275, 1302, 1323, 133...</td>\n",
       "      <td>314</td>\n",
       "    </tr>\n",
       "    <tr>\n",
       "      <th>18</th>\n",
       "      <td>Hungary</td>\n",
       "      <td>[48475, 48476, 48478, 48480, 48982, 49010, 490...</td>\n",
       "      <td>192</td>\n",
       "    </tr>\n",
       "    <tr>\n",
       "      <th>15</th>\n",
       "      <td>France</td>\n",
       "      <td>[2610, 2613, 2961, 2981, 3152, 3320, 3325, 333...</td>\n",
       "      <td>184</td>\n",
       "    </tr>\n",
       "    <tr>\n",
       "      <th>12</th>\n",
       "      <td>Czech Republic</td>\n",
       "      <td>[6809, 7552, 7573, 7634, 7636, 7943, 7959, 803...</td>\n",
       "      <td>152</td>\n",
       "    </tr>\n",
       "    <tr>\n",
       "      <th>5</th>\n",
       "      <td>Brazil</td>\n",
       "      <td>[14524, 16683, 16807, 16869, 17096, 17309, 177...</td>\n",
       "      <td>86</td>\n",
       "    </tr>\n",
       "    <tr>\n",
       "      <th>30</th>\n",
       "      <td>Slovakia</td>\n",
       "      <td>[12463, 14031, 14043, 14764, 14874, 15765, 164...</td>\n",
       "      <td>84</td>\n",
       "    </tr>\n",
       "    <tr>\n",
       "      <th>23</th>\n",
       "      <td>Netherlands</td>\n",
       "      <td>[3440, 3496, 4195, 4201, 4213, 4261, 4435, 444...</td>\n",
       "      <td>77</td>\n",
       "    </tr>\n",
       "    <tr>\n",
       "      <th>16</th>\n",
       "      <td>Germany</td>\n",
       "      <td>[6466, 8108, 8207, 8663, 8910, 9320, 9384, 950...</td>\n",
       "      <td>67</td>\n",
       "    </tr>\n",
       "    <tr>\n",
       "      <th>0</th>\n",
       "      <td>Argentina</td>\n",
       "      <td>[9563, 10530, 13140, 13145, 13546, 13558, 1384...</td>\n",
       "      <td>62</td>\n",
       "    </tr>\n",
       "    <tr>\n",
       "      <th>17</th>\n",
       "      <td>Greece</td>\n",
       "      <td>[7799, 12135, 17393, 18781, 35270, 37299, 3730...</td>\n",
       "      <td>60</td>\n",
       "    </tr>\n",
       "    <tr>\n",
       "      <th>38</th>\n",
       "      <td>United Kingdom</td>\n",
       "      <td>[4710, 5791, 6966, 7093, 7296, 7951, 8622, 926...</td>\n",
       "      <td>59</td>\n",
       "    </tr>\n",
       "    <tr>\n",
       "      <th>28</th>\n",
       "      <td>Romania</td>\n",
       "      <td>[41579, 47669, 47683, 47778, 47863, 49496, 494...</td>\n",
       "      <td>47</td>\n",
       "    </tr>\n",
       "    <tr>\n",
       "      <th>20</th>\n",
       "      <td>Italy</td>\n",
       "      <td>[34396, 34434, 36179, 38354, 38355, 38356, 387...</td>\n",
       "      <td>44</td>\n",
       "    </tr>\n",
       "    <tr>\n",
       "      <th>34</th>\n",
       "      <td>Sweden</td>\n",
       "      <td>[7779, 12934, 17957, 22008, 22351, 24762, 2540...</td>\n",
       "      <td>41</td>\n",
       "    </tr>\n",
       "    <tr>\n",
       "      <th>40</th>\n",
       "      <td>Venezuela</td>\n",
       "      <td>[8930, 10212, 11966, 12355, 12645, 13906, 1394...</td>\n",
       "      <td>32</td>\n",
       "    </tr>\n",
       "    <tr>\n",
       "      <th>26</th>\n",
       "      <td>Poland</td>\n",
       "      <td>[621, 627, 631, 633, 635, 636, 637, 647, 653, ...</td>\n",
       "      <td>31</td>\n",
       "    </tr>\n",
       "    <tr>\n",
       "      <th>41</th>\n",
       "      <td>Yugoslavia</td>\n",
       "      <td>[43040, 45663, 45872, 46019, 46026, 46053, 460...</td>\n",
       "      <td>31</td>\n",
       "    </tr>\n",
       "    <tr>\n",
       "      <th>37</th>\n",
       "      <td>Ukraine</td>\n",
       "      <td>[30793, 31757, 32455, 33180, 33188, 35084, 358...</td>\n",
       "      <td>30</td>\n",
       "    </tr>\n",
       "    <tr>\n",
       "      <th>2</th>\n",
       "      <td>Austria</td>\n",
       "      <td>[21078, 22636, 23236, 24732, 24773, 25934, 263...</td>\n",
       "      <td>26</td>\n",
       "    </tr>\n",
       "    <tr>\n",
       "      <th>4</th>\n",
       "      <td>Belgium</td>\n",
       "      <td>[9337, 16167, 22365, 26345, 27024, 27654, 2911...</td>\n",
       "      <td>25</td>\n",
       "    </tr>\n",
       "    <tr>\n",
       "      <th>39</th>\n",
       "      <td>Uruguay</td>\n",
       "      <td>[9526, 11806, 11903, 16456, 16487, 16794, 1699...</td>\n",
       "      <td>20</td>\n",
       "    </tr>\n",
       "    <tr>\n",
       "      <th>32</th>\n",
       "      <td>South Africa</td>\n",
       "      <td>[4488, 5054, 5970, 6032, 6712, 6730, 7897, 793...</td>\n",
       "      <td>18</td>\n",
       "    </tr>\n",
       "    <tr>\n",
       "      <th>35</th>\n",
       "      <td>Switzerland</td>\n",
       "      <td>[4352, 4356, 18921, 19105, 21870, 22554, 26775...</td>\n",
       "      <td>17</td>\n",
       "    </tr>\n",
       "    <tr>\n",
       "      <th>8</th>\n",
       "      <td>Chile</td>\n",
       "      <td>[21800, 21826, 21828, 21843, 21877, 21883, 218...</td>\n",
       "      <td>16</td>\n",
       "    </tr>\n",
       "    <tr>\n",
       "      <th>11</th>\n",
       "      <td>Croatia</td>\n",
       "      <td>[4303, 4305, 4321, 4773, 5219, 8888, 15818, 16...</td>\n",
       "      <td>11</td>\n",
       "    </tr>\n",
       "    <tr>\n",
       "      <th>22</th>\n",
       "      <td>Mexico</td>\n",
       "      <td>[13141, 13148, 14666, 15098, 16267, 18958, 229...</td>\n",
       "      <td>9</td>\n",
       "    </tr>\n",
       "    <tr>\n",
       "      <th>29</th>\n",
       "      <td>Russia</td>\n",
       "      <td>[2323, 8494, 20062, 21403, 36547]</td>\n",
       "      <td>5</td>\n",
       "    </tr>\n",
       "    <tr>\n",
       "      <th>14</th>\n",
       "      <td>Ecuador</td>\n",
       "      <td>[14096, 14280, 14657]</td>\n",
       "      <td>3</td>\n",
       "    </tr>\n",
       "    <tr>\n",
       "      <th>24</th>\n",
       "      <td>New Zealand</td>\n",
       "      <td>[38036, 38330, 38809]</td>\n",
       "      <td>3</td>\n",
       "    </tr>\n",
       "    <tr>\n",
       "      <th>3</th>\n",
       "      <td>Belarus</td>\n",
       "      <td>[29484, 30334, 30974]</td>\n",
       "      <td>3</td>\n",
       "    </tr>\n",
       "    <tr>\n",
       "      <th>31</th>\n",
       "      <td>Slovenia</td>\n",
       "      <td>[16005, 16019, 44427]</td>\n",
       "      <td>3</td>\n",
       "    </tr>\n",
       "    <tr>\n",
       "      <th>21</th>\n",
       "      <td>Lithuania</td>\n",
       "      <td>[4699, 37302]</td>\n",
       "      <td>2</td>\n",
       "    </tr>\n",
       "    <tr>\n",
       "      <th>13</th>\n",
       "      <td>Denmark</td>\n",
       "      <td>[27066, 31974]</td>\n",
       "      <td>2</td>\n",
       "    </tr>\n",
       "    <tr>\n",
       "      <th>10</th>\n",
       "      <td>Costa Rica</td>\n",
       "      <td>[20099, 22787]</td>\n",
       "      <td>2</td>\n",
       "    </tr>\n",
       "    <tr>\n",
       "      <th>33</th>\n",
       "      <td>Spain</td>\n",
       "      <td>[47502]</td>\n",
       "      <td>1</td>\n",
       "    </tr>\n",
       "    <tr>\n",
       "      <th>27</th>\n",
       "      <td>Poland and Sweden</td>\n",
       "      <td>[29635]</td>\n",
       "      <td>1</td>\n",
       "    </tr>\n",
       "    <tr>\n",
       "      <th>25</th>\n",
       "      <td>Norway</td>\n",
       "      <td>[42840]</td>\n",
       "      <td>1</td>\n",
       "    </tr>\n",
       "    <tr>\n",
       "      <th>9</th>\n",
       "      <td>Colombia</td>\n",
       "      <td>[6634]</td>\n",
       "      <td>1</td>\n",
       "    </tr>\n",
       "    <tr>\n",
       "      <th>6</th>\n",
       "      <td>Bulgaria</td>\n",
       "      <td>[24404]</td>\n",
       "      <td>1</td>\n",
       "    </tr>\n",
       "    <tr>\n",
       "      <th>42</th>\n",
       "      <td>Zimbabwe</td>\n",
       "      <td>[34151]</td>\n",
       "      <td>1</td>\n",
       "    </tr>\n",
       "  </tbody>\n",
       "</table>\n",
       "</div>"
      ],
      "text/plain": [
       "     InterviewCountry                                            IntCode  \\\n",
       "36             U.S.A.  [2, 3, 7, 8, 16, 21, 33, 39, 47, 61, 64, 65, 6...   \n",
       "19             Israel  [3651, 4712, 4722, 5099, 5709, 5770, 5780, 591...   \n",
       "7              Canada  [160, 246, 285, 364, 368, 430, 434, 466, 474, ...   \n",
       "1           Australia  [1089, 1095, 1101, 1103, 1275, 1302, 1323, 133...   \n",
       "18            Hungary  [48475, 48476, 48478, 48480, 48982, 49010, 490...   \n",
       "15             France  [2610, 2613, 2961, 2981, 3152, 3320, 3325, 333...   \n",
       "12     Czech Republic  [6809, 7552, 7573, 7634, 7636, 7943, 7959, 803...   \n",
       "5              Brazil  [14524, 16683, 16807, 16869, 17096, 17309, 177...   \n",
       "30           Slovakia  [12463, 14031, 14043, 14764, 14874, 15765, 164...   \n",
       "23        Netherlands  [3440, 3496, 4195, 4201, 4213, 4261, 4435, 444...   \n",
       "16            Germany  [6466, 8108, 8207, 8663, 8910, 9320, 9384, 950...   \n",
       "0           Argentina  [9563, 10530, 13140, 13145, 13546, 13558, 1384...   \n",
       "17             Greece  [7799, 12135, 17393, 18781, 35270, 37299, 3730...   \n",
       "38     United Kingdom  [4710, 5791, 6966, 7093, 7296, 7951, 8622, 926...   \n",
       "28            Romania  [41579, 47669, 47683, 47778, 47863, 49496, 494...   \n",
       "20              Italy  [34396, 34434, 36179, 38354, 38355, 38356, 387...   \n",
       "34             Sweden  [7779, 12934, 17957, 22008, 22351, 24762, 2540...   \n",
       "40          Venezuela  [8930, 10212, 11966, 12355, 12645, 13906, 1394...   \n",
       "26             Poland  [621, 627, 631, 633, 635, 636, 637, 647, 653, ...   \n",
       "41         Yugoslavia  [43040, 45663, 45872, 46019, 46026, 46053, 460...   \n",
       "37            Ukraine  [30793, 31757, 32455, 33180, 33188, 35084, 358...   \n",
       "2             Austria  [21078, 22636, 23236, 24732, 24773, 25934, 263...   \n",
       "4             Belgium  [9337, 16167, 22365, 26345, 27024, 27654, 2911...   \n",
       "39            Uruguay  [9526, 11806, 11903, 16456, 16487, 16794, 1699...   \n",
       "32       South Africa  [4488, 5054, 5970, 6032, 6712, 6730, 7897, 793...   \n",
       "35        Switzerland  [4352, 4356, 18921, 19105, 21870, 22554, 26775...   \n",
       "8               Chile  [21800, 21826, 21828, 21843, 21877, 21883, 218...   \n",
       "11            Croatia  [4303, 4305, 4321, 4773, 5219, 8888, 15818, 16...   \n",
       "22             Mexico  [13141, 13148, 14666, 15098, 16267, 18958, 229...   \n",
       "29             Russia                  [2323, 8494, 20062, 21403, 36547]   \n",
       "14            Ecuador                              [14096, 14280, 14657]   \n",
       "24        New Zealand                              [38036, 38330, 38809]   \n",
       "3             Belarus                              [29484, 30334, 30974]   \n",
       "31           Slovenia                              [16005, 16019, 44427]   \n",
       "21          Lithuania                                      [4699, 37302]   \n",
       "13            Denmark                                     [27066, 31974]   \n",
       "10         Costa Rica                                     [20099, 22787]   \n",
       "33              Spain                                            [47502]   \n",
       "27  Poland and Sweden                                            [29635]   \n",
       "25             Norway                                            [42840]   \n",
       "9            Colombia                                             [6634]   \n",
       "6            Bulgaria                                            [24404]   \n",
       "42           Zimbabwe                                            [34151]   \n",
       "\n",
       "    count  \n",
       "36   2536  \n",
       "19   1666  \n",
       "7     662  \n",
       "1     314  \n",
       "18    192  \n",
       "15    184  \n",
       "12    152  \n",
       "5      86  \n",
       "30     84  \n",
       "23     77  \n",
       "16     67  \n",
       "0      62  \n",
       "17     60  \n",
       "38     59  \n",
       "28     47  \n",
       "20     44  \n",
       "34     41  \n",
       "40     32  \n",
       "26     31  \n",
       "41     31  \n",
       "37     30  \n",
       "2      26  \n",
       "4      25  \n",
       "39     20  \n",
       "32     18  \n",
       "35     17  \n",
       "8      16  \n",
       "11     11  \n",
       "22      9  \n",
       "29      5  \n",
       "14      3  \n",
       "24      3  \n",
       "3       3  \n",
       "31      3  \n",
       "21      2  \n",
       "13      2  \n",
       "10      2  \n",
       "33      1  \n",
       "27      1  \n",
       "25      1  \n",
       "9       1  \n",
       "6       1  \n",
       "42      1  "
      ]
     },
     "execution_count": 15,
     "metadata": {},
     "output_type": "execute_result"
    }
   ],
   "source": [
    "interview_countries.sort_values('count',ascending=False)"
   ]
  },
  {
   "cell_type": "markdown",
   "metadata": {},
   "source": [
    "### Number of different interview languages"
   ]
  },
  {
   "cell_type": "code",
   "execution_count": 16,
   "metadata": {},
   "outputs": [
    {
     "data": {
      "text/plain": [
       "40"
      ]
     },
     "execution_count": 16,
     "metadata": {},
     "output_type": "execute_result"
    }
   ],
   "source": [
    "df_biodata.InterviewLanguage.unique().shape[0]"
   ]
  },
  {
   "cell_type": "code",
   "execution_count": 17,
   "metadata": {},
   "outputs": [],
   "source": [
    "interview_languages = df_biodata.groupby('InterviewLanguage')['IntCode'].unique().to_frame().reset_index()"
   ]
  },
  {
   "cell_type": "code",
   "execution_count": 18,
   "metadata": {},
   "outputs": [],
   "source": [
    "interview_languages['count']= interview_languages.IntCode.apply(lambda x: len(x))"
   ]
  },
  {
   "cell_type": "code",
   "execution_count": 19,
   "metadata": {},
   "outputs": [
    {
     "data": {
      "text/html": [
       "<div>\n",
       "<style scoped>\n",
       "    .dataframe tbody tr th:only-of-type {\n",
       "        vertical-align: middle;\n",
       "    }\n",
       "\n",
       "    .dataframe tbody tr th {\n",
       "        vertical-align: top;\n",
       "    }\n",
       "\n",
       "    .dataframe thead th {\n",
       "        text-align: right;\n",
       "    }\n",
       "</style>\n",
       "<table border=\"1\" class=\"dataframe\">\n",
       "  <thead>\n",
       "    <tr style=\"text-align: right;\">\n",
       "      <th></th>\n",
       "      <th>InterviewLanguage</th>\n",
       "      <th>IntCode</th>\n",
       "      <th>count</th>\n",
       "    </tr>\n",
       "  </thead>\n",
       "  <tbody>\n",
       "    <tr>\n",
       "      <th>5</th>\n",
       "      <td>English</td>\n",
       "      <td>[2, 3, 7, 8, 16, 21, 33, 39, 47, 61, 64, 65, 6...</td>\n",
       "      <td>3472</td>\n",
       "    </tr>\n",
       "    <tr>\n",
       "      <th>18</th>\n",
       "      <td>Hebrew</td>\n",
       "      <td>[604, 621, 627, 631, 633, 2176, 3651, 4712, 47...</td>\n",
       "      <td>1490</td>\n",
       "    </tr>\n",
       "    <tr>\n",
       "      <th>20</th>\n",
       "      <td>Hungarian</td>\n",
       "      <td>[77, 109, 279, 351, 538, 600, 675, 699, 701, 7...</td>\n",
       "      <td>444</td>\n",
       "    </tr>\n",
       "    <tr>\n",
       "      <th>13</th>\n",
       "      <td>French</td>\n",
       "      <td>[2610, 2613, 2961, 2981, 3152, 3320, 3325, 333...</td>\n",
       "      <td>206</td>\n",
       "    </tr>\n",
       "    <tr>\n",
       "      <th>2</th>\n",
       "      <td>Czech</td>\n",
       "      <td>[829, 6809, 7552, 7573, 7634, 7636, 7943, 7959...</td>\n",
       "      <td>152</td>\n",
       "    </tr>\n",
       "    <tr>\n",
       "      <th>36</th>\n",
       "      <td>Spanish</td>\n",
       "      <td>[2202, 5208, 6634, 8672, 8930, 9526, 9563, 102...</td>\n",
       "      <td>150</td>\n",
       "    </tr>\n",
       "    <tr>\n",
       "      <th>14</th>\n",
       "      <td>German</td>\n",
       "      <td>[4352, 4356, 6466, 8108, 8207, 8663, 8910, 932...</td>\n",
       "      <td>104</td>\n",
       "    </tr>\n",
       "    <tr>\n",
       "      <th>27</th>\n",
       "      <td>Portuguese</td>\n",
       "      <td>[14524, 16683, 16807, 16869, 17096, 17309, 177...</td>\n",
       "      <td>84</td>\n",
       "    </tr>\n",
       "    <tr>\n",
       "      <th>4</th>\n",
       "      <td>Dutch</td>\n",
       "      <td>[3440, 3496, 4195, 4201, 4213, 4261, 4435, 444...</td>\n",
       "      <td>81</td>\n",
       "    </tr>\n",
       "    <tr>\n",
       "      <th>30</th>\n",
       "      <td>Russian</td>\n",
       "      <td>[254, 2323, 4699, 7689, 8494, 10145, 10368, 10...</td>\n",
       "      <td>66</td>\n",
       "    </tr>\n",
       "    <tr>\n",
       "      <th>17</th>\n",
       "      <td>Greek</td>\n",
       "      <td>[1436, 7799, 12135, 17393, 18781, 35270, 37299...</td>\n",
       "      <td>59</td>\n",
       "    </tr>\n",
       "    <tr>\n",
       "      <th>22</th>\n",
       "      <td>Italian</td>\n",
       "      <td>[34396, 34434, 34470, 36179, 38354, 38355, 383...</td>\n",
       "      <td>45</td>\n",
       "    </tr>\n",
       "    <tr>\n",
       "      <th>34</th>\n",
       "      <td>Slovak</td>\n",
       "      <td>[11364, 12928, 14031, 14874, 15765, 17541, 177...</td>\n",
       "      <td>43</td>\n",
       "    </tr>\n",
       "    <tr>\n",
       "      <th>25</th>\n",
       "      <td>Polish</td>\n",
       "      <td>[635, 647, 670, 702, 3732, 5472, 7896, 9014, 9...</td>\n",
       "      <td>40</td>\n",
       "    </tr>\n",
       "    <tr>\n",
       "      <th>39</th>\n",
       "      <td>Yiddish</td>\n",
       "      <td>[1227, 1566, 1613, 3448, 4230, 5881, 10647, 13...</td>\n",
       "      <td>40</td>\n",
       "    </tr>\n",
       "    <tr>\n",
       "      <th>29</th>\n",
       "      <td>Romanian</td>\n",
       "      <td>[2607, 10347, 14531, 17688, 17735, 18109, 4157...</td>\n",
       "      <td>35</td>\n",
       "    </tr>\n",
       "    <tr>\n",
       "      <th>33</th>\n",
       "      <td>Serbian</td>\n",
       "      <td>[20237, 20996, 21510, 23169, 43040, 44427, 456...</td>\n",
       "      <td>35</td>\n",
       "    </tr>\n",
       "    <tr>\n",
       "      <th>37</th>\n",
       "      <td>Swedish</td>\n",
       "      <td>[7779, 12934, 17957, 22008, 24762, 28328, 2832...</td>\n",
       "      <td>22</td>\n",
       "    </tr>\n",
       "    <tr>\n",
       "      <th>1</th>\n",
       "      <td>Croatian</td>\n",
       "      <td>[4303, 4305, 4321, 4773, 5219, 8888, 15818, 16...</td>\n",
       "      <td>11</td>\n",
       "    </tr>\n",
       "    <tr>\n",
       "      <th>38</th>\n",
       "      <td>Ukrainian</td>\n",
       "      <td>[8238, 13248, 21711, 41159, 42901, 44453, 45199]</td>\n",
       "      <td>7</td>\n",
       "    </tr>\n",
       "    <tr>\n",
       "      <th>11</th>\n",
       "      <td>English and Yiddish</td>\n",
       "      <td>[11496, 24217, 34097, 40775, 44065, 45022, 55579]</td>\n",
       "      <td>7</td>\n",
       "    </tr>\n",
       "    <tr>\n",
       "      <th>23</th>\n",
       "      <td>Ladino</td>\n",
       "      <td>[7897, 7933, 13688, 18282, 20446, 43683, 45043]</td>\n",
       "      <td>7</td>\n",
       "    </tr>\n",
       "    <tr>\n",
       "      <th>9</th>\n",
       "      <td>English and Hungarian</td>\n",
       "      <td>[2214, 11608, 12532, 52198]</td>\n",
       "      <td>4</td>\n",
       "    </tr>\n",
       "    <tr>\n",
       "      <th>26</th>\n",
       "      <td>Polish and Swedish</td>\n",
       "      <td>[25405, 25897, 29635]</td>\n",
       "      <td>3</td>\n",
       "    </tr>\n",
       "    <tr>\n",
       "      <th>15</th>\n",
       "      <td>German and Hungarian</td>\n",
       "      <td>[637, 13984]</td>\n",
       "      <td>2</td>\n",
       "    </tr>\n",
       "    <tr>\n",
       "      <th>35</th>\n",
       "      <td>Slovenian</td>\n",
       "      <td>[16005, 16019]</td>\n",
       "      <td>2</td>\n",
       "    </tr>\n",
       "    <tr>\n",
       "      <th>31</th>\n",
       "      <td>Russian and Ukrainian</td>\n",
       "      <td>[31757, 35322]</td>\n",
       "      <td>2</td>\n",
       "    </tr>\n",
       "    <tr>\n",
       "      <th>8</th>\n",
       "      <td>English and Hebrew</td>\n",
       "      <td>[15187, 49052]</td>\n",
       "      <td>2</td>\n",
       "    </tr>\n",
       "    <tr>\n",
       "      <th>16</th>\n",
       "      <td>German and Yiddish</td>\n",
       "      <td>[28922, 35272]</td>\n",
       "      <td>2</td>\n",
       "    </tr>\n",
       "    <tr>\n",
       "      <th>28</th>\n",
       "      <td>Portuguese and Spanish</td>\n",
       "      <td>[42118]</td>\n",
       "      <td>1</td>\n",
       "    </tr>\n",
       "    <tr>\n",
       "      <th>7</th>\n",
       "      <td>English and German</td>\n",
       "      <td>[19936]</td>\n",
       "      <td>1</td>\n",
       "    </tr>\n",
       "    <tr>\n",
       "      <th>24</th>\n",
       "      <td>Norwegian</td>\n",
       "      <td>[42840]</td>\n",
       "      <td>1</td>\n",
       "    </tr>\n",
       "    <tr>\n",
       "      <th>32</th>\n",
       "      <td>Russian and Yiddish</td>\n",
       "      <td>[26859]</td>\n",
       "      <td>1</td>\n",
       "    </tr>\n",
       "    <tr>\n",
       "      <th>10</th>\n",
       "      <td>English and Sign</td>\n",
       "      <td>[46848]</td>\n",
       "      <td>1</td>\n",
       "    </tr>\n",
       "    <tr>\n",
       "      <th>6</th>\n",
       "      <td>English and French</td>\n",
       "      <td>[54772]</td>\n",
       "      <td>1</td>\n",
       "    </tr>\n",
       "    <tr>\n",
       "      <th>21</th>\n",
       "      <td>Hungarian and Swedish</td>\n",
       "      <td>[26295]</td>\n",
       "      <td>1</td>\n",
       "    </tr>\n",
       "    <tr>\n",
       "      <th>3</th>\n",
       "      <td>Danish</td>\n",
       "      <td>[27066]</td>\n",
       "      <td>1</td>\n",
       "    </tr>\n",
       "    <tr>\n",
       "      <th>19</th>\n",
       "      <td>Hebrew and Yiddish</td>\n",
       "      <td>[35914]</td>\n",
       "      <td>1</td>\n",
       "    </tr>\n",
       "    <tr>\n",
       "      <th>12</th>\n",
       "      <td>Flemish</td>\n",
       "      <td>[16167]</td>\n",
       "      <td>1</td>\n",
       "    </tr>\n",
       "    <tr>\n",
       "      <th>0</th>\n",
       "      <td>Bulgarian</td>\n",
       "      <td>[24404]</td>\n",
       "      <td>1</td>\n",
       "    </tr>\n",
       "  </tbody>\n",
       "</table>\n",
       "</div>"
      ],
      "text/plain": [
       "         InterviewLanguage                                            IntCode  \\\n",
       "5                  English  [2, 3, 7, 8, 16, 21, 33, 39, 47, 61, 64, 65, 6...   \n",
       "18                  Hebrew  [604, 621, 627, 631, 633, 2176, 3651, 4712, 47...   \n",
       "20               Hungarian  [77, 109, 279, 351, 538, 600, 675, 699, 701, 7...   \n",
       "13                  French  [2610, 2613, 2961, 2981, 3152, 3320, 3325, 333...   \n",
       "2                    Czech  [829, 6809, 7552, 7573, 7634, 7636, 7943, 7959...   \n",
       "36                 Spanish  [2202, 5208, 6634, 8672, 8930, 9526, 9563, 102...   \n",
       "14                  German  [4352, 4356, 6466, 8108, 8207, 8663, 8910, 932...   \n",
       "27              Portuguese  [14524, 16683, 16807, 16869, 17096, 17309, 177...   \n",
       "4                    Dutch  [3440, 3496, 4195, 4201, 4213, 4261, 4435, 444...   \n",
       "30                 Russian  [254, 2323, 4699, 7689, 8494, 10145, 10368, 10...   \n",
       "17                   Greek  [1436, 7799, 12135, 17393, 18781, 35270, 37299...   \n",
       "22                 Italian  [34396, 34434, 34470, 36179, 38354, 38355, 383...   \n",
       "34                  Slovak  [11364, 12928, 14031, 14874, 15765, 17541, 177...   \n",
       "25                  Polish  [635, 647, 670, 702, 3732, 5472, 7896, 9014, 9...   \n",
       "39                 Yiddish  [1227, 1566, 1613, 3448, 4230, 5881, 10647, 13...   \n",
       "29                Romanian  [2607, 10347, 14531, 17688, 17735, 18109, 4157...   \n",
       "33                 Serbian  [20237, 20996, 21510, 23169, 43040, 44427, 456...   \n",
       "37                 Swedish  [7779, 12934, 17957, 22008, 24762, 28328, 2832...   \n",
       "1                 Croatian  [4303, 4305, 4321, 4773, 5219, 8888, 15818, 16...   \n",
       "38               Ukrainian   [8238, 13248, 21711, 41159, 42901, 44453, 45199]   \n",
       "11     English and Yiddish  [11496, 24217, 34097, 40775, 44065, 45022, 55579]   \n",
       "23                  Ladino    [7897, 7933, 13688, 18282, 20446, 43683, 45043]   \n",
       "9    English and Hungarian                        [2214, 11608, 12532, 52198]   \n",
       "26      Polish and Swedish                              [25405, 25897, 29635]   \n",
       "15    German and Hungarian                                       [637, 13984]   \n",
       "35               Slovenian                                     [16005, 16019]   \n",
       "31   Russian and Ukrainian                                     [31757, 35322]   \n",
       "8       English and Hebrew                                     [15187, 49052]   \n",
       "16      German and Yiddish                                     [28922, 35272]   \n",
       "28  Portuguese and Spanish                                            [42118]   \n",
       "7       English and German                                            [19936]   \n",
       "24               Norwegian                                            [42840]   \n",
       "32     Russian and Yiddish                                            [26859]   \n",
       "10        English and Sign                                            [46848]   \n",
       "6       English and French                                            [54772]   \n",
       "21   Hungarian and Swedish                                            [26295]   \n",
       "3                   Danish                                            [27066]   \n",
       "19      Hebrew and Yiddish                                            [35914]   \n",
       "12                 Flemish                                            [16167]   \n",
       "0                Bulgarian                                            [24404]   \n",
       "\n",
       "    count  \n",
       "5    3472  \n",
       "18   1490  \n",
       "20    444  \n",
       "13    206  \n",
       "2     152  \n",
       "36    150  \n",
       "14    104  \n",
       "27     84  \n",
       "4      81  \n",
       "30     66  \n",
       "17     59  \n",
       "22     45  \n",
       "34     43  \n",
       "25     40  \n",
       "39     40  \n",
       "29     35  \n",
       "33     35  \n",
       "37     22  \n",
       "1      11  \n",
       "38      7  \n",
       "11      7  \n",
       "23      7  \n",
       "9       4  \n",
       "26      3  \n",
       "15      2  \n",
       "35      2  \n",
       "31      2  \n",
       "8       2  \n",
       "16      2  \n",
       "28      1  \n",
       "7       1  \n",
       "24      1  \n",
       "32      1  \n",
       "10      1  \n",
       "6       1  \n",
       "21      1  \n",
       "3       1  \n",
       "19      1  \n",
       "12      1  \n",
       "0       1  "
      ]
     },
     "execution_count": 19,
     "metadata": {},
     "output_type": "execute_result"
    }
   ],
   "source": [
    "interview_languages.sort_values('count',ascending=False)"
   ]
  },
  {
   "cell_type": "markdown",
   "metadata": {},
   "source": [
    "### Total length of the dataset"
   ]
  },
  {
   "cell_type": "code",
   "execution_count": 20,
   "metadata": {},
   "outputs": [
    {
     "data": {
      "text/plain": [
       "2442.6"
      ]
     },
     "execution_count": 20,
     "metadata": {},
     "output_type": "execute_result"
    }
   ],
   "source": [
    "df_biodata.length_in_minutes.sum()/60"
   ]
  },
  {
   "cell_type": "markdown",
   "metadata": {},
   "source": [
    "### Average time an interviewer speaks"
   ]
  },
  {
   "cell_type": "code",
   "execution_count": 21,
   "metadata": {},
   "outputs": [
    {
     "data": {
      "text/plain": [
       "22.11164755582378"
      ]
     },
     "execution_count": 21,
     "metadata": {},
     "output_type": "execute_result"
    }
   ],
   "source": [
    "df_biodata.length_in_minutes.mean()"
   ]
  },
  {
   "cell_type": "markdown",
   "metadata": {},
   "source": [
    "### Average time a man speaks "
   ]
  },
  {
   "cell_type": "code",
   "execution_count": 22,
   "metadata": {},
   "outputs": [
    {
     "data": {
      "text/plain": [
       "20.087555336940483"
      ]
     },
     "execution_count": 22,
     "metadata": {},
     "output_type": "execute_result"
    }
   ],
   "source": [
    "df_biodata[df_biodata.Gender==\"M\"].length_in_minutes.mean()"
   ]
  },
  {
   "cell_type": "markdown",
   "metadata": {},
   "source": [
    "### Average time a woman speaks "
   ]
  },
  {
   "cell_type": "code",
   "execution_count": 23,
   "metadata": {},
   "outputs": [
    {
     "data": {
      "text/plain": [
       "23.007181719260064"
      ]
     },
     "execution_count": 23,
     "metadata": {},
     "output_type": "execute_result"
    }
   ],
   "source": [
    "df_biodata[df_biodata.Gender==\"F\"].length_in_minutes.mean()"
   ]
  },
  {
   "cell_type": "markdown",
   "metadata": {},
   "source": [
    "### Chronological extremes"
   ]
  },
  {
   "cell_type": "code",
   "execution_count": 24,
   "metadata": {},
   "outputs": [
    {
     "data": {
      "text/plain": [
       "6647             0\n",
       "6574    1981-08-06\n",
       "6575    1981-10-22\n",
       "6576    1981-10-22\n",
       "6577    1981-10-25\n",
       "           ...    \n",
       "6819    2017-03-02\n",
       "6820    2018-12-13\n",
       "6821    2019-01-18\n",
       "6827    2019-06-07\n",
       "6828    2019-09-19\n",
       "Name: InterviewDate, Length: 6628, dtype: object"
      ]
     },
     "execution_count": 24,
     "metadata": {},
     "output_type": "execute_result"
    }
   ],
   "source": [
    "df_biodata.sort_values('InterviewDate')['InterviewDate']"
   ]
  },
  {
   "cell_type": "code",
   "execution_count": 25,
   "metadata": {},
   "outputs": [],
   "source": [
    "df_biodata['dates'] = pd.to_datetime(df_biodata.InterviewDate,format=\"%Y-%m-%d\",errors=\"coerce\")"
   ]
  },
  {
   "cell_type": "code",
   "execution_count": 26,
   "metadata": {},
   "outputs": [
    {
     "data": {
      "text/plain": [
       "count                             6627\n",
       "mean     1996-12-20 05:10:30.692621184\n",
       "min                1981-08-06 00:00:00\n",
       "25%                1995-12-27 00:00:00\n",
       "50%                1996-10-28 00:00:00\n",
       "75%                1997-11-23 00:00:00\n",
       "max                2019-09-19 00:00:00\n",
       "Name: dates, dtype: object"
      ]
     },
     "execution_count": 26,
     "metadata": {},
     "output_type": "execute_result"
    }
   ],
   "source": [
    "df_biodata['dates'].describe(datetime_is_numeric=True)"
   ]
  },
  {
   "cell_type": "code",
   "execution_count": 27,
   "metadata": {},
   "outputs": [
    {
     "data": {
      "text/plain": [
       "(4967, 35)"
      ]
     },
     "execution_count": 27,
     "metadata": {},
     "output_type": "execute_result"
    }
   ],
   "source": [
    "df_biodata[df_biodata['dates']>'1995-12-27'].shape"
   ]
  },
  {
   "cell_type": "code",
   "execution_count": null,
   "metadata": {},
   "outputs": [],
   "source": []
  }
 ],
 "metadata": {
  "kernelspec": {
   "display_name": "Python 3",
   "language": "python",
   "name": "python3"
  },
  "language_info": {
   "codemirror_mode": {
    "name": "ipython",
    "version": 3
   },
   "file_extension": ".py",
   "mimetype": "text/x-python",
   "name": "python",
   "nbconvert_exporter": "python",
   "pygments_lexer": "ipython3",
   "version": "3.7.2"
  }
 },
 "nbformat": 4,
 "nbformat_minor": 2
}

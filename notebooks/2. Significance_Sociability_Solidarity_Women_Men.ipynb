{
 "cells": [
  {
   "cell_type": "markdown",
   "metadata": {},
   "source": [
    "# Topics of Sociability and Solidarity in Recollections of  Men and Women who survived Auschwitz-Birkenau"
   ]
  },
  {
   "cell_type": "markdown",
   "metadata": {},
   "source": [
    "\n",
    "\n",
    " ### Hypothesis:"
   ]
  },
  {
   "cell_type": "markdown",
   "metadata": {},
   "source": [
    "Internal solidarity and sociability were more prevailing among women than among men in Auschwitz-Birkenau"
   ]
  },
  {
   "cell_type": "markdown",
   "metadata": {},
   "source": [
    " ### Assumptions:"
   ]
  },
  {
   "cell_type": "markdown",
   "metadata": {},
   "source": [
    "If the hypothesis above is true, then:"
   ]
  },
  {
   "cell_type": "markdown",
   "metadata": {},
   "source": [
    "- recollections of solidarity and sociability must be more significant topics in the recollections of women than men.\n",
    "- women are more likely to recall moments of solidarity and social activity than men do"
   ]
  },
  {
   "cell_type": "markdown",
   "metadata": {},
   "source": [
    "## Load the relevant data"
   ]
  },
  {
   "cell_type": "markdown",
   "metadata": {},
   "source": [
    "Load the libraries needed to work with the data"
   ]
  },
  {
   "cell_type": "code",
   "execution_count": 68,
   "metadata": {},
   "outputs": [],
   "source": [
    "import constants\n",
    "import pandas as pd\n",
    "import os\n",
    "from IPython.display import display"
   ]
  },
  {
   "cell_type": "markdown",
   "metadata": {},
   "source": [
    "Set up the paths to data"
   ]
  },
  {
   "cell_type": "markdown",
   "metadata": {},
   "source": [
    "Two different datasets were created. In Dataset 1, the topic 'social bonds' include 'friendship' as well; similarly the topic 'aid giving' includes 'food sharing'. In Dataset 2, 'friendship' and 'food sharing' are distinguished."
   ]
  },
  {
   "cell_type": "markdown",
   "metadata": {},
   "source": [
    "First, load Dataset 1"
   ]
  },
  {
   "cell_type": "code",
   "execution_count": 69,
   "metadata": {},
   "outputs": [],
   "source": [
    "input_directory = constants.output_data_markov_modelling\n",
    "\n",
    "path = os.getcwd()\n",
    "parent = os.path.abspath(os.path.join(path, os.pardir))\n",
    "input_directory = parent +'/'+ constants.output_data_markov_modelling"
   ]
  },
  {
   "cell_type": "code",
   "execution_count": 70,
   "metadata": {},
   "outputs": [],
   "source": [
    "p_women = pd.read_csv(input_directory+'complete_w'+'/'+'stationary_probs.csv')\n",
    "\n",
    "p_men = pd.read_csv(input_directory+'/'+'complete_m'+'/'+'stationary_probs.csv')\n",
    "\n",
    "p_complete = pd.read_csv(input_directory+'/'+'complete'+'/'+'stationary_probs.csv')\n",
    "\n",
    "input_directory = parent +'/'+ constants.output_data_report_statistical_analysis\n",
    "input_file = 'strength_of_association_odds_ratio_complete_w_complete_m.csv'\n",
    "df_fisher = pd.read_csv(input_directory+input_file)"
   ]
  },
  {
   "cell_type": "markdown",
   "metadata": {},
   "source": [
    "Second,load Dataset 2"
   ]
  },
  {
   "cell_type": "code",
   "execution_count": 71,
   "metadata": {},
   "outputs": [],
   "source": [
    "input_directory = 'data/output_aid_giving_sociability_expanded/output/markov_modelling/'\n",
    "\n",
    "path = os.getcwd()\n",
    "parent = os.path.abspath(os.path.join(path, os.pardir))\n",
    "input_directory = parent +'/'+ input_directory "
   ]
  },
  {
   "cell_type": "code",
   "execution_count": 72,
   "metadata": {},
   "outputs": [],
   "source": [
    "p_women_data_2 = pd.read_csv(input_directory+'complete_w'+'/'+'stationary_probs.csv')\n",
    "\n",
    "p_men_data_2 = pd.read_csv(input_directory+'/'+'complete_m'+'/'+'stationary_probs.csv')\n",
    "\n",
    "p_complete_data_2 = pd.read_csv(input_directory+'/'+'complete'+'/'+'stationary_probs.csv')\n",
    "\n",
    "input_directory = \"data/output_aid_giving_sociability_expanded/output/reports_statistical_analysis/\"\n",
    "input_file = 'strength_of_association_odds_ratio_complete_w_complete_m.csv'\n",
    "df_fisher_data_2 = pd.read_csv(parent +'/'+input_directory+input_file)"
   ]
  },
  {
   "cell_type": "markdown",
   "metadata": {},
   "source": [
    "### Identify topics related to sociability in Dataset 1"
   ]
  },
  {
   "cell_type": "markdown",
   "metadata": {},
   "source": [
    "Identify the topic relating to social relations"
   ]
  },
  {
   "cell_type": "code",
   "execution_count": 73,
   "metadata": {},
   "outputs": [],
   "source": [
    "social_bonds_w = p_women[p_women.topic_name=='social bonds']['stationary_prob'].values[0]\n",
    "social_bonds_m = p_men[p_men.topic_name=='social bonds']['stationary_prob'].values[0]"
   ]
  },
  {
   "cell_type": "markdown",
   "metadata": {},
   "source": [
    "Identify the topic relating to family"
   ]
  },
  {
   "cell_type": "code",
   "execution_count": 74,
   "metadata": {},
   "outputs": [],
   "source": [
    "family = p_women[p_women.topic_name=='family']['stationary_prob'].values[0]\n",
    "family = p_men[p_men.topic_name=='family']['stationary_prob'].values[0]"
   ]
  },
  {
   "cell_type": "markdown",
   "metadata": {},
   "source": [
    "### Identify friendship in Dataset 2"
   ]
  },
  {
   "cell_type": "code",
   "execution_count": 75,
   "metadata": {},
   "outputs": [],
   "source": [
    "friends_w = p_women_data_2[p_women_data_2.topic_name=='friends']['stationary_prob'].values[0]\n",
    "friends_m = p_men_data_2[p_men_data_2.topic_name=='friends']['stationary_prob'].values[0]"
   ]
  },
  {
   "cell_type": "markdown",
   "metadata": {},
   "source": [
    "### Identify topics related to acts of solidarity in Dataset 1"
   ]
  },
  {
   "cell_type": "code",
   "execution_count": 76,
   "metadata": {},
   "outputs": [],
   "source": [
    "aid_giving_w = p_women[p_women.topic_name=='aid giving']['stationary_prob'].values[0]\n",
    "aid_giving_m = p_men[p_men.topic_name=='aid giving']['stationary_prob'].values[0]"
   ]
  },
  {
   "cell_type": "code",
   "execution_count": 77,
   "metadata": {},
   "outputs": [],
   "source": [
    "preferential_treatment_m = p_men[p_men.topic_name=='preferential treatment']['stationary_prob'].values[0]\n",
    "preferential_treatment_w = p_women[p_women.topic_name=='preferential treatment']['stationary_prob'].values[0]"
   ]
  },
  {
   "cell_type": "markdown",
   "metadata": {},
   "source": [
    "### Identify topics related to food sharing in Dataset 2"
   ]
  },
  {
   "cell_type": "code",
   "execution_count": 78,
   "metadata": {},
   "outputs": [],
   "source": [
    "food_sharing_w = p_women_data_2[p_women_data_2.topic_name=='food sharing']['stationary_prob'].values[0]\n",
    "food_sharing_m = p_men_data_2[p_men_data_2.topic_name=='food sharing']['stationary_prob'].values[0]"
   ]
  },
  {
   "cell_type": "markdown",
   "metadata": {},
   "source": [
    "## Observation 1"
   ]
  },
  {
   "cell_type": "markdown",
   "metadata": {},
   "source": [
    "### Qualitative description:"
   ]
  },
  {
   "cell_type": "raw",
   "metadata": {},
   "source": [
    "The topic describing various forms of solidarity (\"aid giving\") is more significant for women than for men if studied through the Markovian framework. It is also more significant for women if looked with the traditional Fisher test."
   ]
  },
  {
   "cell_type": "markdown",
   "metadata": {},
   "source": [
    "### Quantitative evidence"
   ]
  },
  {
   "cell_type": "code",
   "execution_count": 79,
   "metadata": {},
   "outputs": [
    {
     "name": "stdout",
     "output_type": "stream",
     "text": [
      "1.103436765073535\n"
     ]
    }
   ],
   "source": [
    "print (aid_giving_w/aid_giving_m)"
   ]
  },
  {
   "cell_type": "markdown",
   "metadata": {},
   "source": [
    "### Significance"
   ]
  },
  {
   "cell_type": "markdown",
   "metadata": {},
   "source": [
    "![title](output/markov_modelling/bootstrap/complete_m_complete_w/aid%20giving.png)"
   ]
  },
  {
   "cell_type": "markdown",
   "metadata": {},
   "source": [
    "### Load the results of Fisher test and odds ratio analysis"
   ]
  },
  {
   "cell_type": "code",
   "execution_count": 80,
   "metadata": {},
   "outputs": [
    {
     "data": {
      "text/html": [
       "<div>\n",
       "<style scoped>\n",
       "    .dataframe tbody tr th:only-of-type {\n",
       "        vertical-align: middle;\n",
       "    }\n",
       "\n",
       "    .dataframe tbody tr th {\n",
       "        vertical-align: top;\n",
       "    }\n",
       "\n",
       "    .dataframe thead th {\n",
       "        text-align: right;\n",
       "    }\n",
       "</style>\n",
       "<table border=\"1\" class=\"dataframe\">\n",
       "  <thead>\n",
       "    <tr style=\"text-align: right;\">\n",
       "      <th></th>\n",
       "      <th>Unnamed: 0</th>\n",
       "      <th>topic_word</th>\n",
       "      <th>p_value</th>\n",
       "      <th>complete_w</th>\n",
       "      <th>complete_m</th>\n",
       "      <th>count_complete_w</th>\n",
       "      <th>count_complete_m</th>\n",
       "      <th>significance_Bonferroni_corrected</th>\n",
       "      <th>significance</th>\n",
       "    </tr>\n",
       "  </thead>\n",
       "  <tbody>\n",
       "    <tr>\n",
       "      <th>19</th>\n",
       "      <td>8</td>\n",
       "      <td>aid giving</td>\n",
       "      <td>0.000024</td>\n",
       "      <td>1.291328</td>\n",
       "      <td>0.774397</td>\n",
       "      <td>1377</td>\n",
       "      <td>506</td>\n",
       "      <td>True</td>\n",
       "      <td>True</td>\n",
       "    </tr>\n",
       "  </tbody>\n",
       "</table>\n",
       "</div>"
      ],
      "text/plain": [
       "    Unnamed: 0  topic_word   p_value  complete_w  complete_m  \\\n",
       "19           8  aid giving  0.000024    1.291328    0.774397   \n",
       "\n",
       "    count_complete_w  count_complete_m  significance_Bonferroni_corrected  \\\n",
       "19              1377               506                               True   \n",
       "\n",
       "    significance  \n",
       "19          True  "
      ]
     },
     "metadata": {},
     "output_type": "display_data"
    }
   ],
   "source": [
    "display (df_fisher[df_fisher.topic_word==\"aid giving\"])"
   ]
  },
  {
   "cell_type": "markdown",
   "metadata": {},
   "source": [
    "## Observation 2"
   ]
  },
  {
   "cell_type": "markdown",
   "metadata": {},
   "source": [
    "### Qualitative description:"
   ]
  },
  {
   "cell_type": "markdown",
   "metadata": {},
   "source": [
    "The topic describing food sharing is more significant for women than for men."
   ]
  },
  {
   "cell_type": "markdown",
   "metadata": {},
   "source": [
    "### Quantitative evidence"
   ]
  },
  {
   "cell_type": "code",
   "execution_count": 81,
   "metadata": {},
   "outputs": [
    {
     "name": "stdout",
     "output_type": "stream",
     "text": [
      "1.4875890008278176\n"
     ]
    }
   ],
   "source": [
    "print (food_sharing_w/food_sharing_m)"
   ]
  },
  {
   "cell_type": "markdown",
   "metadata": {},
   "source": [
    "### Significance"
   ]
  },
  {
   "cell_type": "markdown",
   "metadata": {},
   "source": [
    "![title](output_aid_giving_sociability_expanded/output/markov_modelling/bootstrap/complete_m_complete_w/food%20sharing.png)"
   ]
  },
  {
   "cell_type": "markdown",
   "metadata": {},
   "source": [
    "# Load the results of Fisher test and odds ratio analysis"
   ]
  },
  {
   "cell_type": "code",
   "execution_count": 82,
   "metadata": {},
   "outputs": [
    {
     "data": {
      "text/html": [
       "<div>\n",
       "<style scoped>\n",
       "    .dataframe tbody tr th:only-of-type {\n",
       "        vertical-align: middle;\n",
       "    }\n",
       "\n",
       "    .dataframe tbody tr th {\n",
       "        vertical-align: top;\n",
       "    }\n",
       "\n",
       "    .dataframe thead th {\n",
       "        text-align: right;\n",
       "    }\n",
       "</style>\n",
       "<table border=\"1\" class=\"dataframe\">\n",
       "  <thead>\n",
       "    <tr style=\"text-align: right;\">\n",
       "      <th></th>\n",
       "      <th>Unnamed: 0</th>\n",
       "      <th>topic_word</th>\n",
       "      <th>p_value</th>\n",
       "      <th>complete_w</th>\n",
       "      <th>complete_m</th>\n",
       "      <th>count_complete_w</th>\n",
       "      <th>count_complete_m</th>\n",
       "      <th>significance_Bonferroni_corrected</th>\n",
       "      <th>significance</th>\n",
       "    </tr>\n",
       "  </thead>\n",
       "  <tbody>\n",
       "    <tr>\n",
       "      <th>38</th>\n",
       "      <td>49</td>\n",
       "      <td>food sharing</td>\n",
       "      <td>0.012936</td>\n",
       "      <td>1.380406</td>\n",
       "      <td>0.724424</td>\n",
       "      <td>255</td>\n",
       "      <td>83</td>\n",
       "      <td>False</td>\n",
       "      <td>True</td>\n",
       "    </tr>\n",
       "  </tbody>\n",
       "</table>\n",
       "</div>"
      ],
      "text/plain": [
       "    Unnamed: 0    topic_word   p_value  complete_w  complete_m  \\\n",
       "38          49  food sharing  0.012936    1.380406    0.724424   \n",
       "\n",
       "    count_complete_w  count_complete_m  significance_Bonferroni_corrected  \\\n",
       "38               255                83                              False   \n",
       "\n",
       "    significance  \n",
       "38          True  "
      ]
     },
     "metadata": {},
     "output_type": "display_data"
    }
   ],
   "source": [
    "display (df_fisher_data_2[df_fisher_data_2.topic_word==\"food sharing\"])"
   ]
  },
  {
   "cell_type": "markdown",
   "metadata": {},
   "source": [
    "## Observation 3"
   ]
  },
  {
   "cell_type": "markdown",
   "metadata": {},
   "source": [
    "### Qualitative description:"
   ]
  },
  {
   "cell_type": "markdown",
   "metadata": {},
   "source": [
    "The topic describing friendship is more significant for women than for men."
   ]
  },
  {
   "cell_type": "markdown",
   "metadata": {},
   "source": [
    "### Quantitative evidence"
   ]
  },
  {
   "cell_type": "code",
   "execution_count": 83,
   "metadata": {},
   "outputs": [
    {
     "name": "stdout",
     "output_type": "stream",
     "text": [
      "1.699521072523357\n"
     ]
    }
   ],
   "source": [
    "print (friends_w/friends_m)"
   ]
  },
  {
   "cell_type": "markdown",
   "metadata": {},
   "source": [
    "### Significance"
   ]
  },
  {
   "cell_type": "markdown",
   "metadata": {},
   "source": [
    "![title](output_aid_giving_sociability_expanded/output/markov_modelling/bootstrap/complete_m_complete_w/friends.png)"
   ]
  },
  {
   "cell_type": "markdown",
   "metadata": {},
   "source": [
    "# Load the results of Fisher test and odds ratio analysis"
   ]
  },
  {
   "cell_type": "code",
   "execution_count": 84,
   "metadata": {},
   "outputs": [
    {
     "data": {
      "text/html": [
       "<div>\n",
       "<style scoped>\n",
       "    .dataframe tbody tr th:only-of-type {\n",
       "        vertical-align: middle;\n",
       "    }\n",
       "\n",
       "    .dataframe tbody tr th {\n",
       "        vertical-align: top;\n",
       "    }\n",
       "\n",
       "    .dataframe thead th {\n",
       "        text-align: right;\n",
       "    }\n",
       "</style>\n",
       "<table border=\"1\" class=\"dataframe\">\n",
       "  <thead>\n",
       "    <tr style=\"text-align: right;\">\n",
       "      <th></th>\n",
       "      <th>Unnamed: 0</th>\n",
       "      <th>topic_word</th>\n",
       "      <th>p_value</th>\n",
       "      <th>complete_w</th>\n",
       "      <th>complete_m</th>\n",
       "      <th>count_complete_w</th>\n",
       "      <th>count_complete_m</th>\n",
       "      <th>significance_Bonferroni_corrected</th>\n",
       "      <th>significance</th>\n",
       "    </tr>\n",
       "  </thead>\n",
       "  <tbody>\n",
       "    <tr>\n",
       "      <th>18</th>\n",
       "      <td>53</td>\n",
       "      <td>friends</td>\n",
       "      <td>0.000013</td>\n",
       "      <td>1.795836</td>\n",
       "      <td>0.556844</td>\n",
       "      <td>265</td>\n",
       "      <td>67</td>\n",
       "      <td>True</td>\n",
       "      <td>True</td>\n",
       "    </tr>\n",
       "  </tbody>\n",
       "</table>\n",
       "</div>"
      ],
      "text/plain": [
       "    Unnamed: 0 topic_word   p_value  complete_w  complete_m  count_complete_w  \\\n",
       "18          53    friends  0.000013    1.795836    0.556844               265   \n",
       "\n",
       "    count_complete_m  significance_Bonferroni_corrected  significance  \n",
       "18                67                               True          True  "
      ]
     },
     "metadata": {},
     "output_type": "display_data"
    }
   ],
   "source": [
    "display (df_fisher_data_2[df_fisher_data_2.topic_word==\"friends\"])"
   ]
  },
  {
   "cell_type": "markdown",
   "metadata": {},
   "source": [
    "## Observation 4"
   ]
  },
  {
   "cell_type": "markdown",
   "metadata": {},
   "source": [
    "### Qualitative description:"
   ]
  },
  {
   "cell_type": "markdown",
   "metadata": {},
   "source": [
    "The topic describing social bonds is more significant for women than for men."
   ]
  },
  {
   "cell_type": "markdown",
   "metadata": {},
   "source": [
    "### Quantitative evidence"
   ]
  },
  {
   "cell_type": "code",
   "execution_count": 85,
   "metadata": {},
   "outputs": [
    {
     "name": "stdout",
     "output_type": "stream",
     "text": [
      "1.1729198184243772\n"
     ]
    }
   ],
   "source": [
    "print (social_bonds_w/social_bonds_m)"
   ]
  },
  {
   "cell_type": "markdown",
   "metadata": {},
   "source": [
    "### Significance"
   ]
  },
  {
   "cell_type": "markdown",
   "metadata": {},
   "source": [
    "![title](output/markov_modelling/bootstrap/complete_m_complete_w/social%20bonds.png)"
   ]
  },
  {
   "cell_type": "markdown",
   "metadata": {},
   "source": [
    "# Load the results of Fisher test and odds ratio analysis"
   ]
  },
  {
   "cell_type": "code",
   "execution_count": 86,
   "metadata": {},
   "outputs": [
    {
     "data": {
      "text/html": [
       "<div>\n",
       "<style scoped>\n",
       "    .dataframe tbody tr th:only-of-type {\n",
       "        vertical-align: middle;\n",
       "    }\n",
       "\n",
       "    .dataframe tbody tr th {\n",
       "        vertical-align: top;\n",
       "    }\n",
       "\n",
       "    .dataframe thead th {\n",
       "        text-align: right;\n",
       "    }\n",
       "</style>\n",
       "<table border=\"1\" class=\"dataframe\">\n",
       "  <thead>\n",
       "    <tr style=\"text-align: right;\">\n",
       "      <th></th>\n",
       "      <th>Unnamed: 0</th>\n",
       "      <th>topic_word</th>\n",
       "      <th>p_value</th>\n",
       "      <th>complete_w</th>\n",
       "      <th>complete_m</th>\n",
       "      <th>count_complete_w</th>\n",
       "      <th>count_complete_m</th>\n",
       "      <th>significance_Bonferroni_corrected</th>\n",
       "      <th>significance</th>\n",
       "    </tr>\n",
       "  </thead>\n",
       "  <tbody>\n",
       "    <tr>\n",
       "      <th>18</th>\n",
       "      <td>97</td>\n",
       "      <td>social bonds</td>\n",
       "      <td>0.000016</td>\n",
       "      <td>1.363893</td>\n",
       "      <td>0.733195</td>\n",
       "      <td>886</td>\n",
       "      <td>303</td>\n",
       "      <td>True</td>\n",
       "      <td>True</td>\n",
       "    </tr>\n",
       "  </tbody>\n",
       "</table>\n",
       "</div>"
      ],
      "text/plain": [
       "    Unnamed: 0    topic_word   p_value  complete_w  complete_m  \\\n",
       "18          97  social bonds  0.000016    1.363893    0.733195   \n",
       "\n",
       "    count_complete_w  count_complete_m  significance_Bonferroni_corrected  \\\n",
       "18               886               303                               True   \n",
       "\n",
       "    significance  \n",
       "18          True  "
      ]
     },
     "metadata": {},
     "output_type": "display_data"
    }
   ],
   "source": [
    "display (df_fisher[df_fisher.topic_word==\"social bonds\"])"
   ]
  },
  {
   "cell_type": "code",
   "execution_count": null,
   "metadata": {},
   "outputs": [],
   "source": []
  },
  {
   "cell_type": "code",
   "execution_count": null,
   "metadata": {},
   "outputs": [],
   "source": []
  },
  {
   "cell_type": "code",
   "execution_count": null,
   "metadata": {},
   "outputs": [],
   "source": []
  },
  {
   "cell_type": "code",
   "execution_count": null,
   "metadata": {},
   "outputs": [],
   "source": []
  }
 ],
 "metadata": {
  "kernelspec": {
   "display_name": "Python 3",
   "language": "python",
   "name": "python3"
  },
  "language_info": {
   "codemirror_mode": {
    "name": "ipython",
    "version": 3
   },
   "file_extension": ".py",
   "mimetype": "text/x-python",
   "name": "python",
   "nbconvert_exporter": "python",
   "pygments_lexer": "ipython3",
   "version": "3.7.2"
  }
 },
 "nbformat": 4,
 "nbformat_minor": 2
}

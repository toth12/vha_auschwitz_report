{
 "cells": [
  {
   "cell_type": "markdown",
   "metadata": {},
   "source": [
    "# Topics of Sociability and Solidarity in Recollections of  Men and Women who survived Auschwitz-Birkenau"
   ]
  },
  {
   "cell_type": "markdown",
   "metadata": {},
   "source": [
    "\n",
    "\n",
    " ### Research Question:"
   ]
  },
  {
   "cell_type": "markdown",
   "metadata": {},
   "source": [
    "- Were men or women more likely to recall acts of solidarity and sociability when recalling life in Birkenau?"
   ]
  },
  {
   "cell_type": "markdown",
   "metadata": {},
   "source": [
    "## Load the relevant data"
   ]
  },
  {
   "cell_type": "markdown",
   "metadata": {},
   "source": [
    "Load the libraries needed to work with the data"
   ]
  },
  {
   "cell_type": "code",
   "execution_count": 1,
   "metadata": {},
   "outputs": [],
   "source": [
    "import constants\n",
    "import pandas as pd\n",
    "import os\n",
    "from IPython.display import display"
   ]
  },
  {
   "cell_type": "markdown",
   "metadata": {},
   "source": [
    "Set up the paths to data"
   ]
  },
  {
   "cell_type": "markdown",
   "metadata": {},
   "source": [
    "Two different datasets were created. In Dataset 1, the topic 'social bonds' include 'friendship' as well; similarly the topic 'aid giving' includes 'food sharing'. In Dataset 2, 'friendship' and 'food sharing' are distinguished."
   ]
  },
  {
   "cell_type": "markdown",
   "metadata": {},
   "source": [
    "First, load Dataset 1"
   ]
  },
  {
   "cell_type": "code",
   "execution_count": 2,
   "metadata": {},
   "outputs": [],
   "source": [
    "input_directory = constants.output_data_markov_modelling\n",
    "\n",
    "path = os.getcwd()\n",
    "parent = os.path.abspath(os.path.join(path, os.pardir))\n",
    "input_directory = parent +'/'+ constants.output_data_markov_modelling"
   ]
  },
  {
   "cell_type": "code",
   "execution_count": 3,
   "metadata": {},
   "outputs": [],
   "source": [
    "p_women = pd.read_csv(input_directory+'complete_w'+'/'+'stationary_probs.csv')\n",
    "\n",
    "p_men = pd.read_csv(input_directory+'/'+'complete_m'+'/'+'stationary_probs.csv')\n",
    "\n",
    "p_complete = pd.read_csv(input_directory+'/'+'complete'+'/'+'stationary_probs.csv')\n",
    "\n",
    "input_directory = parent +'/'+ constants.output_data_report_statistical_analysis\n",
    "input_file = 'strength_of_association_odds_ratio_complete_w_complete_m.csv'\n",
    "df_fisher = pd.read_csv(input_directory+input_file)"
   ]
  },
  {
   "cell_type": "markdown",
   "metadata": {},
   "source": [
    "### Identify topics related to sociability in Dataset 1"
   ]
  },
  {
   "cell_type": "markdown",
   "metadata": {},
   "source": [
    "Identify the topic relating to social relations"
   ]
  },
  {
   "cell_type": "code",
   "execution_count": 4,
   "metadata": {},
   "outputs": [],
   "source": [
    "social_bonds_w = p_women[p_women.topic_name=='social relations']['stationary_prob'].values[0]\n",
    "social_bonds_m = p_men[p_men.topic_name=='social relations']['stationary_prob'].values[0]"
   ]
  },
  {
   "cell_type": "markdown",
   "metadata": {},
   "source": [
    "Identify the topic relating to family"
   ]
  },
  {
   "cell_type": "markdown",
   "metadata": {},
   "source": [
    "### Identify friendship in Dataset 2"
   ]
  },
  {
   "cell_type": "code",
   "execution_count": 8,
   "metadata": {},
   "outputs": [],
   "source": [
    "friends_w = p_women[p_women.topic_name=='friends']['stationary_prob'].values[0]\n",
    "friends_m = p_men[p_men.topic_name=='friends']['stationary_prob'].values[0]"
   ]
  },
  {
   "cell_type": "markdown",
   "metadata": {},
   "source": [
    "### Identify topics related to acts of solidarity in Dataset 1"
   ]
  },
  {
   "cell_type": "code",
   "execution_count": 9,
   "metadata": {},
   "outputs": [],
   "source": [
    "aid_giving_w = p_women[p_women.topic_name=='aid giving']['stationary_prob'].values[0]\n",
    "aid_giving_m = p_men[p_men.topic_name=='aid giving']['stationary_prob'].values[0]"
   ]
  },
  {
   "cell_type": "code",
   "execution_count": 10,
   "metadata": {},
   "outputs": [],
   "source": [
    "preferential_treatment_m = p_men[p_men.topic_name=='preferential treatment']['stationary_prob'].values[0]\n",
    "preferential_treatment_w = p_women[p_women.topic_name=='preferential treatment']['stationary_prob'].values[0]"
   ]
  },
  {
   "cell_type": "markdown",
   "metadata": {},
   "source": [
    "### Identify topics related to food sharing in Dataset 2"
   ]
  },
  {
   "cell_type": "code",
   "execution_count": 11,
   "metadata": {},
   "outputs": [],
   "source": [
    "food_sharing_w = p_women[p_women.topic_name=='food sharing']['stationary_prob'].values[0]\n",
    "food_sharing_m = p_men[p_men.topic_name=='food sharing']['stationary_prob'].values[0]"
   ]
  },
  {
   "cell_type": "markdown",
   "metadata": {},
   "source": [
    "## Verify that menstruation is more probable for women"
   ]
  },
  {
   "cell_type": "code",
   "execution_count": 12,
   "metadata": {},
   "outputs": [],
   "source": [
    "mens_w = p_women[p_women.topic_name=='menstruation']['stationary_prob'].values[0]\n",
    "mens_m = p_men[p_men.topic_name=='menstruation']['stationary_prob'].values[0]"
   ]
  },
  {
   "cell_type": "code",
   "execution_count": 13,
   "metadata": {},
   "outputs": [
    {
     "data": {
      "text/plain": [
       "True"
      ]
     },
     "execution_count": 13,
     "metadata": {},
     "output_type": "execute_result"
    }
   ],
   "source": [
    "mens_w>mens_m"
   ]
  },
  {
   "cell_type": "code",
   "execution_count": 14,
   "metadata": {},
   "outputs": [
    {
     "data": {
      "text/plain": [
       "229.5276586692036"
      ]
     },
     "execution_count": 14,
     "metadata": {},
     "output_type": "execute_result"
    }
   ],
   "source": [
    "mens_w / mens_m"
   ]
  },
  {
   "cell_type": "markdown",
   "metadata": {},
   "source": [
    "## Observation 1"
   ]
  },
  {
   "cell_type": "markdown",
   "metadata": {},
   "source": [
    "### Qualitative description:"
   ]
  },
  {
   "cell_type": "raw",
   "metadata": {},
   "source": [
    "The topic describing various forms of solidarity (\"aid giving\") is slightly more probable for women than for men if studied through the Markovian framework. Overall, women tend to discuss it more than men. It is more significant for women if looked through the traditional Fisher test that compares raw probabilities. "
   ]
  },
  {
   "cell_type": "markdown",
   "metadata": {},
   "source": [
    "# Comments\n",
    "## Gabor\n",
    "\n",
    "- what do you think based on the plot below? Perhaps this can be a good example to compare probability understood as count normalized to the total population (this is what the Fisher test and odds ratio analysis uses) with the estimation of stationary probability. To me, the plot below does not say that women de facto were more likely to speak about aid giving, it rather suggests that there is a strong tendency.\n",
    "\n",
    "## Tim\n",
    "\n",
    "- Yes, I agree. This is not a significant difference.\n",
    "- check if histogram analysis to be preferred over MSM\n",
    "- What exactly is the outcome of the histogram (count normalized to total population) analysis?\n",
    "\n",
    "## Gabor\n",
    "\n",
    "- My suggestion is to say that something like \"we can see a strong tendency of women discussing aid giving more than men\". To me the plot shows that women consistently outperform men\n",
    "- I strongly advocate MSM, see my memo about this"
   ]
  },
  {
   "cell_type": "code",
   "execution_count": 15,
   "metadata": {},
   "outputs": [],
   "source": [
    "import json\n",
    "path = os.getcwd()\n",
    "parent = os.path.abspath(os.path.join(path, os.pardir))\n",
    "with open(parent+'/'+constants.output_data_segment_keyword_matrix + \"metadata_partitions.json\") as read_file:\n",
    "        metadata_partitions = json.load(read_file)\n",
    "        \n",
    "total_number_of_women = len(metadata_partitions['complete_w'])\n",
    "total_number_of_men = len(metadata_partitions['complete_m'])"
   ]
  },
  {
   "cell_type": "markdown",
   "metadata": {},
   "source": [
    "Probability of women discussing aid giving"
   ]
  },
  {
   "cell_type": "code",
   "execution_count": 16,
   "metadata": {},
   "outputs": [
    {
     "data": {
      "text/plain": [
       "0.25832426550598475"
      ]
     },
     "execution_count": 16,
     "metadata": {},
     "output_type": "execute_result"
    }
   ],
   "source": [
    "df_fisher[df_fisher.topic_word==\"aid giving\"].count_complete_w.values[0] / total_number_of_women"
   ]
  },
  {
   "cell_type": "markdown",
   "metadata": {},
   "source": [
    "Probability of men discussing aid giving"
   ]
  },
  {
   "cell_type": "code",
   "execution_count": 39,
   "metadata": {},
   "outputs": [
    {
     "data": {
      "text/plain": [
       "0.24889326119035907"
      ]
     },
     "execution_count": 39,
     "metadata": {},
     "output_type": "execute_result"
    }
   ],
   "source": [
    "df_fisher[df_fisher.topic_word==\"aid giving\"].count_complete_m.values[0] / total_number_of_men"
   ]
  },
  {
   "cell_type": "markdown",
   "metadata": {},
   "source": [
    "### Quantitative evidence"
   ]
  },
  {
   "cell_type": "code",
   "execution_count": 17,
   "metadata": {},
   "outputs": [
    {
     "name": "stdout",
     "output_type": "stream",
     "text": [
      "1.1167561359091998\n"
     ]
    }
   ],
   "source": [
    "print (aid_giving_w/aid_giving_m)"
   ]
  },
  {
   "cell_type": "markdown",
   "metadata": {},
   "source": [
    "### Significance"
   ]
  },
  {
   "cell_type": "markdown",
   "metadata": {},
   "source": [
    "![title](output/markov_modelling/bootstrap/complete_m_complete_w/aid%20giving.png)"
   ]
  },
  {
   "cell_type": "markdown",
   "metadata": {},
   "source": [
    "### Load the results of Fisher test and odds ratio analysis"
   ]
  },
  {
   "cell_type": "code",
   "execution_count": 18,
   "metadata": {},
   "outputs": [
    {
     "data": {
      "text/html": [
       "<div>\n",
       "<style scoped>\n",
       "    .dataframe tbody tr th:only-of-type {\n",
       "        vertical-align: middle;\n",
       "    }\n",
       "\n",
       "    .dataframe tbody tr th {\n",
       "        vertical-align: top;\n",
       "    }\n",
       "\n",
       "    .dataframe thead th {\n",
       "        text-align: right;\n",
       "    }\n",
       "</style>\n",
       "<table border=\"1\" class=\"dataframe\">\n",
       "  <thead>\n",
       "    <tr style=\"text-align: right;\">\n",
       "      <th></th>\n",
       "      <th>Unnamed: 0</th>\n",
       "      <th>topic_word</th>\n",
       "      <th>p_value</th>\n",
       "      <th>complete_w</th>\n",
       "      <th>complete_m</th>\n",
       "      <th>count_complete_w</th>\n",
       "      <th>count_complete_m</th>\n",
       "      <th>significance_Bonferroni_corrected</th>\n",
       "      <th>significance</th>\n",
       "    </tr>\n",
       "  </thead>\n",
       "  <tbody>\n",
       "    <tr>\n",
       "      <th>62</th>\n",
       "      <td>157</td>\n",
       "      <td>aid giving</td>\n",
       "      <td>0.000107</td>\n",
       "      <td>1.279495</td>\n",
       "      <td>0.781558</td>\n",
       "      <td>1187</td>\n",
       "      <td>435</td>\n",
       "      <td>False</td>\n",
       "      <td>True</td>\n",
       "    </tr>\n",
       "  </tbody>\n",
       "</table>\n",
       "</div>"
      ],
      "text/plain": [
       "    Unnamed: 0  topic_word   p_value  complete_w  complete_m  \\\n",
       "62         157  aid giving  0.000107    1.279495    0.781558   \n",
       "\n",
       "    count_complete_w  count_complete_m  significance_Bonferroni_corrected  \\\n",
       "62              1187               435                              False   \n",
       "\n",
       "    significance  \n",
       "62          True  "
      ]
     },
     "metadata": {},
     "output_type": "display_data"
    }
   ],
   "source": [
    "display (df_fisher[df_fisher.topic_word==\"aid giving\"])"
   ]
  },
  {
   "cell_type": "markdown",
   "metadata": {},
   "source": [
    "## Observation 2"
   ]
  },
  {
   "cell_type": "markdown",
   "metadata": {},
   "source": [
    "### Qualitative description:"
   ]
  },
  {
   "cell_type": "markdown",
   "metadata": {},
   "source": [
    "The topic describing food sharing is more significant for women than for men. The probability that women discuss food sharing is by 50% higher."
   ]
  },
  {
   "cell_type": "markdown",
   "metadata": {},
   "source": [
    "### Quantitative evidence"
   ]
  },
  {
   "cell_type": "code",
   "execution_count": 19,
   "metadata": {},
   "outputs": [
    {
     "name": "stdout",
     "output_type": "stream",
     "text": [
      "1.279516884279095\n"
     ]
    }
   ],
   "source": [
    "print (food_sharing_w/food_sharing_m)"
   ]
  },
  {
   "cell_type": "markdown",
   "metadata": {},
   "source": [
    "### Significance"
   ]
  },
  {
   "cell_type": "markdown",
   "metadata": {},
   "source": [
    "![title](output/markov_modelling/bootstrap/complete_m_complete_w/food%20sharing.png)"
   ]
  },
  {
   "cell_type": "markdown",
   "metadata": {},
   "source": [
    "### Load the results of Fisher test and odds ratio analysis"
   ]
  },
  {
   "cell_type": "code",
   "execution_count": 21,
   "metadata": {},
   "outputs": [
    {
     "data": {
      "text/html": [
       "<div>\n",
       "<style scoped>\n",
       "    .dataframe tbody tr th:only-of-type {\n",
       "        vertical-align: middle;\n",
       "    }\n",
       "\n",
       "    .dataframe tbody tr th {\n",
       "        vertical-align: top;\n",
       "    }\n",
       "\n",
       "    .dataframe thead th {\n",
       "        text-align: right;\n",
       "    }\n",
       "</style>\n",
       "<table border=\"1\" class=\"dataframe\">\n",
       "  <thead>\n",
       "    <tr style=\"text-align: right;\">\n",
       "      <th></th>\n",
       "      <th>Unnamed: 0</th>\n",
       "      <th>topic_word</th>\n",
       "      <th>p_value</th>\n",
       "      <th>complete_w</th>\n",
       "      <th>complete_m</th>\n",
       "      <th>count_complete_w</th>\n",
       "      <th>count_complete_m</th>\n",
       "      <th>significance_Bonferroni_corrected</th>\n",
       "      <th>significance</th>\n",
       "    </tr>\n",
       "  </thead>\n",
       "  <tbody>\n",
       "    <tr>\n",
       "      <th>145</th>\n",
       "      <td>357</td>\n",
       "      <td>food sharing</td>\n",
       "      <td>0.012936</td>\n",
       "      <td>1.380406</td>\n",
       "      <td>0.724424</td>\n",
       "      <td>255</td>\n",
       "      <td>83</td>\n",
       "      <td>False</td>\n",
       "      <td>True</td>\n",
       "    </tr>\n",
       "  </tbody>\n",
       "</table>\n",
       "</div>"
      ],
      "text/plain": [
       "     Unnamed: 0    topic_word   p_value  complete_w  complete_m  \\\n",
       "145         357  food sharing  0.012936    1.380406    0.724424   \n",
       "\n",
       "     count_complete_w  count_complete_m  significance_Bonferroni_corrected  \\\n",
       "145               255                83                              False   \n",
       "\n",
       "     significance  \n",
       "145          True  "
      ]
     },
     "metadata": {},
     "output_type": "display_data"
    }
   ],
   "source": [
    "display (df_fisher[df_fisher.topic_word==\"food sharing\"])"
   ]
  },
  {
   "cell_type": "markdown",
   "metadata": {},
   "source": [
    "## Observation 3"
   ]
  },
  {
   "cell_type": "markdown",
   "metadata": {},
   "source": [
    "### Qualitative description:"
   ]
  },
  {
   "cell_type": "markdown",
   "metadata": {},
   "source": [
    "The topic describing friendship is more significant for women than for men."
   ]
  },
  {
   "cell_type": "markdown",
   "metadata": {},
   "source": [
    "### Quantitative evidence"
   ]
  },
  {
   "cell_type": "code",
   "execution_count": 24,
   "metadata": {},
   "outputs": [
    {
     "name": "stdout",
     "output_type": "stream",
     "text": [
      "1.8014881300180454\n"
     ]
    }
   ],
   "source": [
    "print (friends_w/friends_m)"
   ]
  },
  {
   "cell_type": "markdown",
   "metadata": {},
   "source": [
    "### Significance"
   ]
  },
  {
   "cell_type": "markdown",
   "metadata": {},
   "source": [
    "![title](output/markov_modelling/bootstrap/complete_m_complete_w/friends.png)"
   ]
  },
  {
   "cell_type": "markdown",
   "metadata": {},
   "source": [
    "### Load the results of Fisher test and odds ratio analysis"
   ]
  },
  {
   "cell_type": "code",
   "execution_count": 25,
   "metadata": {},
   "outputs": [
    {
     "data": {
      "text/html": [
       "<div>\n",
       "<style scoped>\n",
       "    .dataframe tbody tr th:only-of-type {\n",
       "        vertical-align: middle;\n",
       "    }\n",
       "\n",
       "    .dataframe tbody tr th {\n",
       "        vertical-align: top;\n",
       "    }\n",
       "\n",
       "    .dataframe thead th {\n",
       "        text-align: right;\n",
       "    }\n",
       "</style>\n",
       "<table border=\"1\" class=\"dataframe\">\n",
       "  <thead>\n",
       "    <tr style=\"text-align: right;\">\n",
       "      <th></th>\n",
       "      <th>Unnamed: 0</th>\n",
       "      <th>topic_word</th>\n",
       "      <th>p_value</th>\n",
       "      <th>complete_w</th>\n",
       "      <th>complete_m</th>\n",
       "      <th>count_complete_w</th>\n",
       "      <th>count_complete_m</th>\n",
       "      <th>significance_Bonferroni_corrected</th>\n",
       "      <th>significance</th>\n",
       "    </tr>\n",
       "  </thead>\n",
       "  <tbody>\n",
       "    <tr>\n",
       "      <th>51</th>\n",
       "      <td>389</td>\n",
       "      <td>friends</td>\n",
       "      <td>0.000013</td>\n",
       "      <td>1.795836</td>\n",
       "      <td>0.556844</td>\n",
       "      <td>265</td>\n",
       "      <td>67</td>\n",
       "      <td>True</td>\n",
       "      <td>True</td>\n",
       "    </tr>\n",
       "  </tbody>\n",
       "</table>\n",
       "</div>"
      ],
      "text/plain": [
       "    Unnamed: 0 topic_word   p_value  complete_w  complete_m  count_complete_w  \\\n",
       "51         389    friends  0.000013    1.795836    0.556844               265   \n",
       "\n",
       "    count_complete_m  significance_Bonferroni_corrected  significance  \n",
       "51                67                               True          True  "
      ]
     },
     "metadata": {},
     "output_type": "display_data"
    }
   ],
   "source": [
    "display (df_fisher[df_fisher.topic_word==\"friends\"])"
   ]
  },
  {
   "cell_type": "markdown",
   "metadata": {},
   "source": [
    "## Observation 4"
   ]
  },
  {
   "cell_type": "markdown",
   "metadata": {},
   "source": [
    "### Qualitative description:"
   ]
  },
  {
   "cell_type": "markdown",
   "metadata": {},
   "source": [
    "The topic describing social bonds is more significant for women than for men."
   ]
  },
  {
   "cell_type": "markdown",
   "metadata": {},
   "source": [
    "### Quantitative evidence"
   ]
  },
  {
   "cell_type": "code",
   "execution_count": 26,
   "metadata": {},
   "outputs": [
    {
     "name": "stdout",
     "output_type": "stream",
     "text": [
      "1.1764714373441056\n"
     ]
    }
   ],
   "source": [
    "print (social_bonds_w/social_bonds_m)"
   ]
  },
  {
   "cell_type": "markdown",
   "metadata": {},
   "source": [
    "### Significance"
   ]
  },
  {
   "cell_type": "markdown",
   "metadata": {},
   "source": [
    "![title](output/markov_modelling/bootstrap/complete_m_complete_w/social%20relations.png)"
   ]
  },
  {
   "cell_type": "markdown",
   "metadata": {},
   "source": [
    "### Load the results of Fisher test and odds ratio analysis"
   ]
  },
  {
   "cell_type": "code",
   "execution_count": 27,
   "metadata": {},
   "outputs": [
    {
     "data": {
      "text/html": [
       "<div>\n",
       "<style scoped>\n",
       "    .dataframe tbody tr th:only-of-type {\n",
       "        vertical-align: middle;\n",
       "    }\n",
       "\n",
       "    .dataframe tbody tr th {\n",
       "        vertical-align: top;\n",
       "    }\n",
       "\n",
       "    .dataframe thead th {\n",
       "        text-align: right;\n",
       "    }\n",
       "</style>\n",
       "<table border=\"1\" class=\"dataframe\">\n",
       "  <thead>\n",
       "    <tr style=\"text-align: right;\">\n",
       "      <th></th>\n",
       "      <th>Unnamed: 0</th>\n",
       "      <th>topic_word</th>\n",
       "      <th>p_value</th>\n",
       "      <th>complete_w</th>\n",
       "      <th>complete_m</th>\n",
       "      <th>count_complete_w</th>\n",
       "      <th>count_complete_m</th>\n",
       "      <th>significance_Bonferroni_corrected</th>\n",
       "      <th>significance</th>\n",
       "    </tr>\n",
       "  </thead>\n",
       "  <tbody>\n",
       "    <tr>\n",
       "      <th>131</th>\n",
       "      <td>668</td>\n",
       "      <td>social relations</td>\n",
       "      <td>0.009308</td>\n",
       "      <td>1.223801</td>\n",
       "      <td>0.817127</td>\n",
       "      <td>707</td>\n",
       "      <td>263</td>\n",
       "      <td>False</td>\n",
       "      <td>True</td>\n",
       "    </tr>\n",
       "  </tbody>\n",
       "</table>\n",
       "</div>"
      ],
      "text/plain": [
       "     Unnamed: 0        topic_word   p_value  complete_w  complete_m  \\\n",
       "131         668  social relations  0.009308    1.223801    0.817127   \n",
       "\n",
       "     count_complete_w  count_complete_m  significance_Bonferroni_corrected  \\\n",
       "131               707               263                              False   \n",
       "\n",
       "     significance  \n",
       "131          True  "
      ]
     },
     "metadata": {},
     "output_type": "display_data"
    }
   ],
   "source": [
    "display (df_fisher[df_fisher.topic_word==\"social relations\"])"
   ]
  },
  {
   "cell_type": "markdown",
   "metadata": {},
   "source": [
    "## Visualization"
   ]
  },
  {
   "cell_type": "markdown",
   "metadata": {},
   "source": [
    "todo: create a bar plot showing the stationary probabilities"
   ]
  },
  {
   "cell_type": "markdown",
   "metadata": {},
   "source": [
    "todo: create a bar plot showing the odds ratios"
   ]
  },
  {
   "cell_type": "markdown",
   "metadata": {},
   "source": [
    "## Interpretation"
   ]
  },
  {
   "cell_type": "markdown",
   "metadata": {},
   "source": [
    "The probabilities that we hear women recalling memories of solidarity and sociability are higher than the probabilities that we hear men discussing these topics. The measuring of the strength of association between these topics and gender produced the similar result. Topics of solidarity and sociability are significantly more associated with women than with men.\n",
    "\n",
    "Interestingly, topics expressing more intimate forms of solidarity and sociability (food sharing and friendship) are also more likely to be mentioned by women and men. The probability that we hear a woman discussing friendship when recalling her stay in Birkenau is by 70% higher. The probability that we hear a woman discussing food sharing when recalling her stay in Birkenau is by 50% higher. The measurement of strength of association between gender and these topics also brought about similar results.\n",
    "\n",
    "All this suggests that acts of solidarity and social interactions were more likely to take place among women than among men in Birkenau. Specifically, more intimate forms of sociability and solidarity were more likely among women than among men."
   ]
  },
  {
   "cell_type": "markdown",
   "metadata": {},
   "source": [
    "# Comments\n",
    "\n",
    "## Tim:\n",
    " - The last paragraph (first sentence) doesn't seem straight forward to me. Is there evidence  that talking about social topics increases solidarity, e.g. from psychology/socioligy? \n",
    " \n",
    "## Gabor:\n",
    "\n",
    "- I am describing this in the memo (https://docs.google.com/document/d/16E8laCneHs0ZU7y0z-D13Hddu8AyBgWUz3DoC5hn5i0/edit?usp=sharing ), i.e. the fact that women are more likely to remember about solidarity and social bonds suggests that there were more solidary and social bonds among them? But this can be problematic and it is to be addressed in the Discussions part of the paper"
   ]
  }
 ],
 "metadata": {
  "kernelspec": {
   "display_name": "Python 3",
   "language": "python",
   "name": "python3"
  },
  "language_info": {
   "codemirror_mode": {
    "name": "ipython",
    "version": 3
   },
   "file_extension": ".py",
   "mimetype": "text/x-python",
   "name": "python",
   "nbconvert_exporter": "python",
   "pygments_lexer": "ipython3",
   "version": "3.7.2"
  }
 },
 "nbformat": 4,
 "nbformat_minor": 2
}

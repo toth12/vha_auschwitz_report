{
 "cells": [
  {
   "cell_type": "markdown",
   "metadata": {},
   "source": [
    "# Topics of Sociability and Solidarity in Recollections of  Men and Women who survived Auschwitz-Birkenau"
   ]
  },
  {
   "cell_type": "markdown",
   "metadata": {},
   "source": [
    "\n",
    "\n",
    " ### Research Question:"
   ]
  },
  {
   "cell_type": "markdown",
   "metadata": {},
   "source": [
    "- Were men or women more likely to recall acts of solidarity and sociability when recalling life in Birkenau?"
   ]
  },
  {
   "cell_type": "markdown",
   "metadata": {},
   "source": [
    "## Load the relevant data"
   ]
  },
  {
   "cell_type": "markdown",
   "metadata": {},
   "source": [
    "Load the libraries needed to work with the data"
   ]
  },
  {
   "cell_type": "code",
   "execution_count": 1,
   "metadata": {},
   "outputs": [],
   "source": [
    "import constants\n",
    "import pandas as pd\n",
    "import os\n",
    "from IPython.display import display\n",
    "%config Completer.use_jedi = False"
   ]
  },
  {
   "cell_type": "markdown",
   "metadata": {},
   "source": [
    "Set up the paths to data"
   ]
  },
  {
   "cell_type": "code",
   "execution_count": 2,
   "metadata": {},
   "outputs": [],
   "source": [
    "input_directory = constants.output_data_markov_modelling\n",
    "\n",
    "path = os.getcwd()\n",
    "parent = os.path.abspath(os.path.join(path, os.pardir))\n",
    "input_directory = parent +'/'+ constants.output_data_markov_modelling"
   ]
  },
  {
   "cell_type": "code",
   "execution_count": 3,
   "metadata": {},
   "outputs": [],
   "source": [
    "p_women = pd.read_csv(input_directory+'complete_w'+'/'+'stationary_probs.csv')\n",
    "\n",
    "p_men = pd.read_csv(input_directory+'/'+'complete_m'+'/'+'stationary_probs.csv')\n",
    "\n",
    "p_complete = pd.read_csv(input_directory+'/'+'complete'+'/'+'stationary_probs.csv')\n",
    "\n",
    "input_directory = parent +'/'+ constants.output_data_report_statistical_analysis\n",
    "input_file = 'strength_of_association_odds_ratio_complete_w_complete_m.csv'\n",
    "df_fisher = pd.read_csv(input_directory+input_file)"
   ]
  },
  {
   "cell_type": "markdown",
   "metadata": {},
   "source": [
    "### Identify topics related to sociability in Dataset 1"
   ]
  },
  {
   "cell_type": "markdown",
   "metadata": {},
   "source": [
    "Identify the topic relating to social relations"
   ]
  },
  {
   "cell_type": "code",
   "execution_count": 4,
   "metadata": {},
   "outputs": [],
   "source": [
    "social_bonds_w = p_women[p_women.topic_name=='social bonds']['stationary_prob'].values[0]\n",
    "social_bonds_m = p_men[p_men.topic_name=='social bonds']['stationary_prob'].values[0]"
   ]
  },
  {
   "cell_type": "markdown",
   "metadata": {},
   "source": [
    "Identify the topic relating to friendship"
   ]
  },
  {
   "cell_type": "markdown",
   "metadata": {},
   "source": [
    "friends_w = p_women[p_women.topic_name=='friends']['stationary_prob'].values[0]\n",
    "friends_m = p_men[p_men.topic_name=='friends']['stationary_prob'].values[0]"
   ]
  },
  {
   "cell_type": "markdown",
   "metadata": {},
   "source": [
    "### Identify topics related to acts of solidarity"
   ]
  },
  {
   "cell_type": "code",
   "execution_count": 5,
   "metadata": {},
   "outputs": [],
   "source": [
    "aid_giving_w = p_women[p_women.topic_name=='aid giving']['stationary_prob'].values[0]\n",
    "aid_giving_m = p_men[p_men.topic_name=='aid giving']['stationary_prob'].values[0]"
   ]
  },
  {
   "cell_type": "markdown",
   "metadata": {},
   "source": [
    "food_sharing_w = p_women[p_women.topic_name=='food sharing']['stationary_prob'].values[0]\n",
    "food_sharing_m = p_men[p_men.topic_name=='food sharing']['stationary_prob'].values[0]"
   ]
  },
  {
   "cell_type": "markdown",
   "metadata": {},
   "source": [
    "clothing_provision_w = p_women[p_women.topic_name=='clothing provision']['stationary_prob'].values[0]\n",
    "clothing_provision_m = p_men[p_men.topic_name=='clothing provision']['stationary_prob'].values[0]"
   ]
  },
  {
   "cell_type": "markdown",
   "metadata": {},
   "source": [
    "## Verify that menstruation is more probable for women"
   ]
  },
  {
   "cell_type": "code",
   "execution_count": 6,
   "metadata": {},
   "outputs": [],
   "source": [
    "mens_w = p_women[p_women.topic_name=='menstruation']['stationary_prob'].values[0]\n",
    "mens_m = p_men[p_men.topic_name=='menstruation']['stationary_prob'].values[0]"
   ]
  },
  {
   "cell_type": "code",
   "execution_count": 7,
   "metadata": {},
   "outputs": [
    {
     "data": {
      "text/plain": [
       "True"
      ]
     },
     "execution_count": 7,
     "metadata": {},
     "output_type": "execute_result"
    }
   ],
   "source": [
    "mens_w>mens_m"
   ]
  },
  {
   "cell_type": "code",
   "execution_count": 8,
   "metadata": {},
   "outputs": [
    {
     "data": {
      "text/plain": [
       "675.0236625070487"
      ]
     },
     "execution_count": 8,
     "metadata": {},
     "output_type": "execute_result"
    }
   ],
   "source": [
    "mens_w / mens_m"
   ]
  },
  {
   "cell_type": "markdown",
   "metadata": {},
   "source": [
    "## Observation 1"
   ]
  },
  {
   "cell_type": "markdown",
   "metadata": {},
   "source": [
    "### Qualitative description:"
   ]
  },
  {
   "cell_type": "markdown",
   "metadata": {},
   "source": [
    "The topic describing various forms of solidarity (\"aid giving\") is slightly more probable for women than for men if studied through the Markovian framework. Overall, women tend to discuss it more than men. Overall we can see a strong tendency of women discussing aid giving more than men do. It is more significant for women if looked through the traditional Fisher test that compares raw probabilities. "
   ]
  },
  {
   "cell_type": "markdown",
   "metadata": {},
   "source": [
    "### Quantitative evidence"
   ]
  },
  {
   "cell_type": "code",
   "execution_count": 9,
   "metadata": {},
   "outputs": [
    {
     "name": "stdout",
     "output_type": "stream",
     "text": [
      "1.082679057915836\n"
     ]
    }
   ],
   "source": [
    "print (aid_giving_w/aid_giving_m)"
   ]
  },
  {
   "cell_type": "markdown",
   "metadata": {},
   "source": [
    "### Significance"
   ]
  },
  {
   "cell_type": "markdown",
   "metadata": {},
   "source": [
    "![title](output/markov_modelling/bootstrap/complete_m_complete_w/aid%20giving.png)"
   ]
  },
  {
   "cell_type": "markdown",
   "metadata": {},
   "source": [
    "### Load the results of Fisher test and odds ratio analysis"
   ]
  },
  {
   "cell_type": "code",
   "execution_count": 10,
   "metadata": {},
   "outputs": [
    {
     "data": {
      "text/html": [
       "<div>\n",
       "<style scoped>\n",
       "    .dataframe tbody tr th:only-of-type {\n",
       "        vertical-align: middle;\n",
       "    }\n",
       "\n",
       "    .dataframe tbody tr th {\n",
       "        vertical-align: top;\n",
       "    }\n",
       "\n",
       "    .dataframe thead th {\n",
       "        text-align: right;\n",
       "    }\n",
       "</style>\n",
       "<table border=\"1\" class=\"dataframe\">\n",
       "  <thead>\n",
       "    <tr style=\"text-align: right;\">\n",
       "      <th></th>\n",
       "      <th>Unnamed: 0</th>\n",
       "      <th>topic_word</th>\n",
       "      <th>p_value</th>\n",
       "      <th>complete_w</th>\n",
       "      <th>complete_m</th>\n",
       "      <th>count_complete_w</th>\n",
       "      <th>count_complete_m</th>\n",
       "      <th>significance</th>\n",
       "    </tr>\n",
       "  </thead>\n",
       "  <tbody>\n",
       "    <tr>\n",
       "      <th>19</th>\n",
       "      <td>8</td>\n",
       "      <td>aid giving</td>\n",
       "      <td>0.000024</td>\n",
       "      <td>1.291328</td>\n",
       "      <td>0.774397</td>\n",
       "      <td>1377</td>\n",
       "      <td>506</td>\n",
       "      <td>True</td>\n",
       "    </tr>\n",
       "  </tbody>\n",
       "</table>\n",
       "</div>"
      ],
      "text/plain": [
       "    Unnamed: 0  topic_word   p_value  complete_w  complete_m  \\\n",
       "19           8  aid giving  0.000024    1.291328    0.774397   \n",
       "\n",
       "    count_complete_w  count_complete_m  significance  \n",
       "19              1377               506          True  "
      ]
     },
     "metadata": {},
     "output_type": "display_data"
    }
   ],
   "source": [
    "display (df_fisher[df_fisher.topic_word==\"aid giving\"])"
   ]
  },
  {
   "cell_type": "markdown",
   "metadata": {},
   "source": [
    "## Observation 2"
   ]
  },
  {
   "cell_type": "markdown",
   "metadata": {},
   "source": [
    "### Qualitative description:"
   ]
  },
  {
   "cell_type": "markdown",
   "metadata": {},
   "source": [
    "The topic describing food sharing is more significant for women than for men. The probability that women discuss food sharing is by 20% higher. Fisher test also confirms this."
   ]
  },
  {
   "cell_type": "markdown",
   "metadata": {},
   "source": [
    "### Quantitative evidence"
   ]
  },
  {
   "cell_type": "markdown",
   "metadata": {},
   "source": [
    "print (food_sharing_w/food_sharing_m)"
   ]
  },
  {
   "cell_type": "markdown",
   "metadata": {},
   "source": [
    "### Significance"
   ]
  },
  {
   "cell_type": "markdown",
   "metadata": {},
   "source": [
    "![title](output/markov_modelling/bootstrap/complete_m_complete_w/food%20sharing.png)"
   ]
  },
  {
   "cell_type": "markdown",
   "metadata": {},
   "source": [
    "### Load the results of Fisher test and odds ratio analysis"
   ]
  },
  {
   "cell_type": "markdown",
   "metadata": {},
   "source": [
    "display (df_fisher[df_fisher.topic_word==\"food sharing\"])"
   ]
  },
  {
   "cell_type": "markdown",
   "metadata": {},
   "source": [
    "## Observation 3"
   ]
  },
  {
   "cell_type": "markdown",
   "metadata": {},
   "source": [
    "### Qualitative description:"
   ]
  },
  {
   "cell_type": "markdown",
   "metadata": {},
   "source": [
    "The topic describing friendship is more significant for women than for men. This is confirmed by the Fisher test. This where we find the biggest difference."
   ]
  },
  {
   "cell_type": "markdown",
   "metadata": {},
   "source": [
    "### Quantitative evidence"
   ]
  },
  {
   "cell_type": "markdown",
   "metadata": {},
   "source": [
    "print (friends_w/friends_m)"
   ]
  },
  {
   "cell_type": "markdown",
   "metadata": {},
   "source": [
    "### Significance"
   ]
  },
  {
   "cell_type": "markdown",
   "metadata": {},
   "source": [
    "![title](output/markov_modelling/bootstrap/complete_m_complete_w/friends.png)"
   ]
  },
  {
   "cell_type": "markdown",
   "metadata": {},
   "source": [
    "### Load the results of Fisher test and odds ratio analysis"
   ]
  },
  {
   "cell_type": "markdown",
   "metadata": {},
   "source": [
    "display (df_fisher[df_fisher.topic_word==\"friends\"])"
   ]
  },
  {
   "cell_type": "markdown",
   "metadata": {},
   "source": [
    "## Observation 4"
   ]
  },
  {
   "cell_type": "markdown",
   "metadata": {},
   "source": [
    "### Qualitative description:"
   ]
  },
  {
   "cell_type": "markdown",
   "metadata": {},
   "source": [
    "The topic describing social bonds is more significant for women than for men."
   ]
  },
  {
   "cell_type": "markdown",
   "metadata": {},
   "source": [
    "### Quantitative evidence"
   ]
  },
  {
   "cell_type": "code",
   "execution_count": 11,
   "metadata": {},
   "outputs": [
    {
     "name": "stdout",
     "output_type": "stream",
     "text": [
      "1.2978576445159742\n"
     ]
    }
   ],
   "source": [
    "print (social_bonds_w/social_bonds_m)"
   ]
  },
  {
   "cell_type": "markdown",
   "metadata": {},
   "source": [
    "### Significance"
   ]
  },
  {
   "cell_type": "markdown",
   "metadata": {},
   "source": [
    "![title](output/markov_modelling/bootstrap/complete_m_complete_w/social%20bonds.png)"
   ]
  },
  {
   "cell_type": "markdown",
   "metadata": {},
   "source": [
    "### Load the results of Fisher test and odds ratio analysis"
   ]
  },
  {
   "cell_type": "code",
   "execution_count": 12,
   "metadata": {},
   "outputs": [
    {
     "data": {
      "text/html": [
       "<div>\n",
       "<style scoped>\n",
       "    .dataframe tbody tr th:only-of-type {\n",
       "        vertical-align: middle;\n",
       "    }\n",
       "\n",
       "    .dataframe tbody tr th {\n",
       "        vertical-align: top;\n",
       "    }\n",
       "\n",
       "    .dataframe thead th {\n",
       "        text-align: right;\n",
       "    }\n",
       "</style>\n",
       "<table border=\"1\" class=\"dataframe\">\n",
       "  <thead>\n",
       "    <tr style=\"text-align: right;\">\n",
       "      <th></th>\n",
       "      <th>Unnamed: 0</th>\n",
       "      <th>topic_word</th>\n",
       "      <th>p_value</th>\n",
       "      <th>complete_w</th>\n",
       "      <th>complete_m</th>\n",
       "      <th>count_complete_w</th>\n",
       "      <th>count_complete_m</th>\n",
       "      <th>significance</th>\n",
       "    </tr>\n",
       "  </thead>\n",
       "  <tbody>\n",
       "    <tr>\n",
       "      <th>18</th>\n",
       "      <td>97</td>\n",
       "      <td>social bonds</td>\n",
       "      <td>0.000016</td>\n",
       "      <td>1.363893</td>\n",
       "      <td>0.733195</td>\n",
       "      <td>886</td>\n",
       "      <td>303</td>\n",
       "      <td>True</td>\n",
       "    </tr>\n",
       "  </tbody>\n",
       "</table>\n",
       "</div>"
      ],
      "text/plain": [
       "    Unnamed: 0    topic_word   p_value  complete_w  complete_m  \\\n",
       "18          97  social bonds  0.000016    1.363893    0.733195   \n",
       "\n",
       "    count_complete_w  count_complete_m  significance  \n",
       "18               886               303          True  "
      ]
     },
     "metadata": {},
     "output_type": "display_data"
    }
   ],
   "source": [
    "display (df_fisher[df_fisher.topic_word==\"social bonds\"])"
   ]
  },
  {
   "cell_type": "markdown",
   "metadata": {},
   "source": [
    "## Observation 5"
   ]
  },
  {
   "cell_type": "markdown",
   "metadata": {},
   "source": [
    "### Qualitative description:"
   ]
  },
  {
   "cell_type": "markdown",
   "metadata": {},
   "source": [
    "The topic describing clothing provisions is more significant for women than for men."
   ]
  },
  {
   "cell_type": "markdown",
   "metadata": {},
   "source": [
    "### Quantitative evidence"
   ]
  },
  {
   "cell_type": "markdown",
   "metadata": {},
   "source": [
    "print (clothing_provision_w/clothing_provision_m)"
   ]
  },
  {
   "cell_type": "markdown",
   "metadata": {},
   "source": [
    "### Significance"
   ]
  },
  {
   "cell_type": "markdown",
   "metadata": {},
   "source": [
    "![title](output/markov_modelling/bootstrap/complete_m_complete_w/clothing%20provision.png)"
   ]
  },
  {
   "cell_type": "markdown",
   "metadata": {},
   "source": [
    "### Load the results of Fisher test and odds ratio analysis"
   ]
  },
  {
   "cell_type": "markdown",
   "metadata": {},
   "source": [
    "display (df_fisher[df_fisher.topic_word==\"clothing provision\"])"
   ]
  },
  {
   "cell_type": "markdown",
   "metadata": {},
   "source": [
    "## Visualization"
   ]
  },
  {
   "cell_type": "code",
   "execution_count": 13,
   "metadata": {},
   "outputs": [],
   "source": [
    "#relevant_terms = [\"food sharing\",\"friends\",\"social relations\",\"aid giving\",\"clothing provision\",\"rumors\",\"cultural activities\"]\n",
    "relevant_terms = [\"social bonds\",\"aid giving\",\"rumors\",\"cultural activities\"]\n",
    "plot_table = df_fisher[df_fisher.topic_word.isin(relevant_terms)][['topic_word','complete_w','complete_m']]"
   ]
  },
  {
   "cell_type": "code",
   "execution_count": 14,
   "metadata": {},
   "outputs": [
    {
     "data": {
      "text/html": [
       "<div>\n",
       "<style scoped>\n",
       "    .dataframe tbody tr th:only-of-type {\n",
       "        vertical-align: middle;\n",
       "    }\n",
       "\n",
       "    .dataframe tbody tr th {\n",
       "        vertical-align: top;\n",
       "    }\n",
       "\n",
       "    .dataframe thead th {\n",
       "        text-align: right;\n",
       "    }\n",
       "</style>\n",
       "<table border=\"1\" class=\"dataframe\">\n",
       "  <thead>\n",
       "    <tr style=\"text-align: right;\">\n",
       "      <th></th>\n",
       "      <th>topic_word</th>\n",
       "      <th>complete_w</th>\n",
       "      <th>complete_m</th>\n",
       "    </tr>\n",
       "  </thead>\n",
       "  <tbody>\n",
       "    <tr>\n",
       "      <th>18</th>\n",
       "      <td>social bonds</td>\n",
       "      <td>1.363893</td>\n",
       "      <td>0.733195</td>\n",
       "    </tr>\n",
       "    <tr>\n",
       "      <th>19</th>\n",
       "      <td>aid giving</td>\n",
       "      <td>1.291328</td>\n",
       "      <td>0.774397</td>\n",
       "    </tr>\n",
       "    <tr>\n",
       "      <th>39</th>\n",
       "      <td>rumors</td>\n",
       "      <td>1.421063</td>\n",
       "      <td>0.703698</td>\n",
       "    </tr>\n",
       "  </tbody>\n",
       "</table>\n",
       "</div>"
      ],
      "text/plain": [
       "      topic_word  complete_w  complete_m\n",
       "18  social bonds    1.363893    0.733195\n",
       "19    aid giving    1.291328    0.774397\n",
       "39        rumors    1.421063    0.703698"
      ]
     },
     "execution_count": 14,
     "metadata": {},
     "output_type": "execute_result"
    }
   ],
   "source": [
    "plot_table"
   ]
  },
  {
   "cell_type": "code",
   "execution_count": 15,
   "metadata": {},
   "outputs": [],
   "source": [
    "plot_table = plot_table.rename(columns={\"complete_w\": \"women\", \"complete_m\": \"men\"})"
   ]
  },
  {
   "cell_type": "code",
   "execution_count": 16,
   "metadata": {},
   "outputs": [],
   "source": [
    "plot_table = pd.melt(plot_table, id_vars=['topic_word'], value_vars=['women','men'])"
   ]
  },
  {
   "cell_type": "code",
   "execution_count": 17,
   "metadata": {},
   "outputs": [],
   "source": [
    "plot_table = plot_table.rename(columns={\"variable\": \"Gender\"})"
   ]
  },
  {
   "cell_type": "code",
   "execution_count": 18,
   "metadata": {},
   "outputs": [
    {
     "name": "stderr",
     "output_type": "stream",
     "text": [
      "/miniconda3/envs/au_env/lib/python3.7/site-packages/statsmodels/tools/_testing.py:19: FutureWarning: pandas.util.testing is deprecated. Use the functions in the public API at pandas.testing instead.\n",
      "  import pandas.util.testing as tm\n"
     ]
    }
   ],
   "source": [
    "import seaborn as sns\n",
    "import matplotlib.pyplot as plt\n",
    "\n",
    "palette ={\"women\": \"#ff7f0e\", \"men\": \"#1f77b4\"}\n",
    "sns.set(font_scale=2) \n",
    "plt.figure(figsize=(25, 24))\n",
    "chart = sns.barplot(x=\"topic_word\", \n",
    "            y=\"value\", \n",
    "            hue=\"Gender\", \n",
    "            data=plot_table,palette=palette)\n",
    "\n",
    "#ax1, ax2 = chart.axes\n",
    "\n",
    "chart.axhline(1,linestyle=\"--\",linewidth=6,c='black')\n",
    "plt.ylabel(\"Strength of association\", size=28)\n",
    "plt.xlabel(\"Topic words\", size=28)\n",
    "\n",
    "plt.setp(chart.get_legend().get_texts(), fontsize='32') # for legend text\n",
    "plt.setp(chart.get_legend().get_title(), fontsize='40')\n",
    "chart = chart.set_xticklabels(chart.get_xticklabels(), rotation=45,fontsize=28)\n",
    "plt.savefig(\"Figure_2.png\")"
   ]
  },
  {
   "cell_type": "code",
   "execution_count": 19,
   "metadata": {},
   "outputs": [
    {
     "data": {
      "image/png": "[encoded data removed]",
      "text/plain": [
       "<Figure size 1800x1728 with 1 Axes>"
      ]
     },
     "metadata": {},
     "output_type": "display_data"
    }
   ],
   "source": [
    "#relevant_terms = [\"black market activities\",\"covert economic activities\",\"bribery\",\"smuggling\",\"resistance activities\",\"hangings\",\"covert activities\"]\n",
    "relevant_terms = [\"covert activities\",\"resistance\",\"killings\"]\n",
    "\n",
    "plot_table = df_fisher[df_fisher.topic_word.isin(relevant_terms)][['topic_word','complete_w','complete_m']]\n",
    "\n",
    "plot_table = plot_table.rename(columns={\"complete_w\": \"women\", \"complete_m\": \"men\"})\n",
    "\n",
    "plot_table = pd.melt(plot_table, id_vars=['topic_word'], value_vars=['women','men'])\n",
    "\n",
    "plot_table = plot_table.rename(columns={\"variable\": \"Gender\"})\n",
    "\n",
    "\n",
    "\n",
    "import seaborn as sns\n",
    "import matplotlib.pyplot as plt\n",
    "sns.set(font_scale=2) \n",
    "plt.figure(figsize=(25, 24))\n",
    "chart = sns.barplot(x=\"topic_word\", \n",
    "            y=\"value\", \n",
    "            hue=\"Gender\", \n",
    "            data=plot_table,palette=palette)\n",
    "plt.ylabel(\"Strength of association\", size=28)\n",
    "plt.xlabel(\"Topic words\", size=28)\n",
    "chart.axhline(1,linestyle=\"--\",linewidth=6)\n",
    "plt.setp(chart.get_legend().get_texts(), fontsize='28') # for legend text\n",
    "plt.setp(chart.get_legend().get_title(), fontsize='40')\n",
    "chart = chart.set_xticklabels(chart.get_xticklabels(), rotation=45,fontsize=20)\n",
    "\n"
   ]
  },
  {
   "cell_type": "markdown",
   "metadata": {},
   "source": [
    "## Interpretation"
   ]
  },
  {
   "cell_type": "markdown",
   "metadata": {},
   "source": [
    "The probabilities that we hear women recalling memories of solidarity and sociability are higher than the probabilities that we hear men discussing these topics. The measuring of the strength of association between these topics and gender produced the similar result. Topics of solidarity and sociability are significantly more associated with women than with men.\n",
    "\n",
    "Interestingly, topics expressing more intimate forms of solidarity and sociability (food sharing and friendship) are also more likely to be mentioned by women and men. The probability that we hear a woman discussing friendship when recalling her stay in Birkenau is by 73% higher. The probability that we hear a woman discussing food sharing when recalling her stay in Birkenau is by 30% higher. The measurement of strength of association between gender and these topics also brought about similar results.\n",
    "\n",
    "All this suggests that acts of solidarity and social interactions were more likely to take place among women than among men in Birkenau. Specifically, more intimate forms of sociability and solidarity were more likely among women than among men."
   ]
  },
  {
   "cell_type": "code",
   "execution_count": null,
   "metadata": {},
   "outputs": [],
   "source": []
  }
 ],
 "metadata": {
  "kernelspec": {
   "display_name": "Python 3",
   "language": "python",
   "name": "python3"
  },
  "language_info": {
   "codemirror_mode": {
    "name": "ipython",
    "version": 3
   },
   "file_extension": ".py",
   "mimetype": "text/x-python",
   "name": "python",
   "nbconvert_exporter": "python",
   "pygments_lexer": "ipython3",
   "version": "3.7.2"
  }
 },
 "nbformat": 4,
 "nbformat_minor": 2
}

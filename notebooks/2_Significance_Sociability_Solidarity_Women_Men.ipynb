{
 "cells": [
  {
   "cell_type": "markdown",
   "metadata": {},
   "source": [
    "# Topics of Sociability and Solidarity in Recollections of  Men and Women who survived Auschwitz-Birkenau"
   ]
  },
  {
   "cell_type": "markdown",
   "metadata": {},
   "source": [
    "\n",
    "\n",
    " ### Research Question:"
   ]
  },
  {
   "cell_type": "markdown",
   "metadata": {},
   "source": [
    "- Were men or women more likely to recall acts of solidarity and sociability when recalling life in Birkenau?"
   ]
  },
  {
   "cell_type": "markdown",
   "metadata": {},
   "source": [
    "## Load the relevant data"
   ]
  },
  {
   "cell_type": "markdown",
   "metadata": {},
   "source": [
    "Load the libraries needed to work with the data"
   ]
  },
  {
   "cell_type": "code",
   "execution_count": 76,
   "metadata": {},
   "outputs": [],
   "source": [
    "import constants\n",
    "import pandas as pd\n",
    "import os\n",
    "from IPython.display import display\n",
    "%config Completer.use_jedi = False\n",
    "from tables import *\n",
    "import pyemma\n",
    "import networkx as nx\n",
    "import numpy as np"
   ]
  },
  {
   "cell_type": "markdown",
   "metadata": {},
   "source": [
    "Set up the paths to data"
   ]
  },
  {
   "cell_type": "code",
   "execution_count": 77,
   "metadata": {},
   "outputs": [],
   "source": [
    "path = os.getcwd()\n",
    "parent = os.path.abspath(os.path.join(path, os.pardir))\n",
    "input_directory = constants.input_directory\n",
    "feature_map = pd.read_csv(parent+'/'+constants.feature_map)"
   ]
  },
  {
   "cell_type": "code",
   "execution_count": 78,
   "metadata": {},
   "outputs": [],
   "source": [
    "input_directory = constants.output_data_markov_modelling\n",
    "input_directory = parent +'/'+ constants.output_data_markov_modelling"
   ]
  },
  {
   "cell_type": "code",
   "execution_count": 79,
   "metadata": {},
   "outputs": [],
   "source": [
    "p_women = pd.read_csv(input_directory+'complete_w'+'/'+'stationary_probs.csv')\n",
    "p_men = pd.read_csv(input_directory+'/'+'complete_m'+'/'+'stationary_probs.csv')\n",
    "\n",
    "pm_model_m = pyemma.load('output/markov_modelling/complete_m'+'/'+'pyemma_model','simple')\n",
    "state_index_m = pd.read_csv('output/markov_modelling/complete_m/state_index.csv')\n",
    "\n",
    "pm_model_w = pyemma.load('output/markov_modelling/complete_w'+'/'+'pyemma_model','simple')\n",
    "state_index_w = pd.read_csv('output/markov_modelling/complete_w/state_index.csv')\n",
    "\n",
    "\n",
    "p_complete = pd.read_csv(input_directory+'/'+'complete'+'/'+'stationary_probs.csv')\n",
    "\n",
    "input_directory = parent +'/'+ constants.output_data_report_statistical_analysis\n",
    "input_file = 'strength_of_association_odds_ratio_complete_w_complete_m.csv'\n",
    "df_fisher = pd.read_csv(input_directory+input_file)\n",
    "\n",
    "input_directory_expanded = parent +'/'+ constants.output_data_report_statistical_analysis_expanded\n",
    "df_fisher_expanded = pd.read_csv(input_directory_expanded+input_file)"
   ]
  },
  {
   "cell_type": "code",
   "execution_count": 5,
   "metadata": {},
   "outputs": [],
   "source": [
    "def measure_centrality(pm_model,state_index,state_label,centrality_measure_type):\n",
    "    P = pm_model.P\n",
    "    gP = nx.from_numpy_array(P, create_using=nx.DiGraph)\n",
    "    index = state_index[state_index.KeywordLabel==state_label].index[0]\n",
    "    if centrality_measure_type == \"degree\":\n",
    "        centrality = nx.degree_centrality(gP)\n",
    "    elif (centrality_measure_type==\"closeness\"):\n",
    "        centrality = nx.closeness_centrality(gP)\n",
    "    return ['%s %0.2f'%(node,centrality[node]) for node in centrality][index]\n"
   ]
  },
  {
   "cell_type": "markdown",
   "metadata": {},
   "source": [
    "### Identify topics related to sociability in Dataset 1"
   ]
  },
  {
   "cell_type": "markdown",
   "metadata": {},
   "source": [
    "Identify the topic relating to social relations"
   ]
  },
  {
   "cell_type": "code",
   "execution_count": 6,
   "metadata": {},
   "outputs": [],
   "source": [
    "social_bonds_w = p_women[p_women.topic_name=='social bonds']['stationary_prob'].values[0]\n",
    "social_bonds_m = p_men[p_men.topic_name=='social bonds']['stationary_prob'].values[0]"
   ]
  },
  {
   "cell_type": "markdown",
   "metadata": {},
   "source": [
    "Identify the topic relating to friendship"
   ]
  },
  {
   "cell_type": "markdown",
   "metadata": {},
   "source": [
    "friends_w = p_women[p_women.topic_name=='friends']['stationary_prob'].values[0]\n",
    "friends_m = p_men[p_men.topic_name=='friends']['stationary_prob'].values[0]"
   ]
  },
  {
   "cell_type": "markdown",
   "metadata": {},
   "source": [
    "### Identify topics related to acts of solidarity"
   ]
  },
  {
   "cell_type": "code",
   "execution_count": 7,
   "metadata": {},
   "outputs": [],
   "source": [
    "aid_giving_w = p_women[p_women.topic_name=='aid giving']['stationary_prob'].values[0]\n",
    "aid_giving_m = p_men[p_men.topic_name=='aid giving']['stationary_prob'].values[0]"
   ]
  },
  {
   "cell_type": "markdown",
   "metadata": {},
   "source": [
    "food_sharing_w = p_women[p_women.topic_name=='food sharing']['stationary_prob'].values[0]\n",
    "food_sharing_m = p_men[p_men.topic_name=='food sharing']['stationary_prob'].values[0]"
   ]
  },
  {
   "cell_type": "markdown",
   "metadata": {},
   "source": [
    "clothing_provision_w = p_women[p_women.topic_name=='clothing provision']['stationary_prob'].values[0]\n",
    "clothing_provision_m = p_men[p_men.topic_name=='clothing provision']['stationary_prob'].values[0]"
   ]
  },
  {
   "cell_type": "markdown",
   "metadata": {},
   "source": [
    "## Verify that menstruation is more probable for women"
   ]
  },
  {
   "cell_type": "code",
   "execution_count": 8,
   "metadata": {},
   "outputs": [],
   "source": [
    "mens_w = p_women[p_women.topic_name=='menstruation']['stationary_prob'].values[0]\n",
    "mens_m = p_men[p_men.topic_name=='menstruation']['stationary_prob'].values[0]"
   ]
  },
  {
   "cell_type": "code",
   "execution_count": 9,
   "metadata": {},
   "outputs": [
    {
     "data": {
      "text/plain": [
       "True"
      ]
     },
     "execution_count": 9,
     "metadata": {},
     "output_type": "execute_result"
    }
   ],
   "source": [
    "mens_w>mens_m"
   ]
  },
  {
   "cell_type": "code",
   "execution_count": 10,
   "metadata": {},
   "outputs": [
    {
     "data": {
      "text/plain": [
       "170.39619771289958"
      ]
     },
     "execution_count": 10,
     "metadata": {},
     "output_type": "execute_result"
    }
   ],
   "source": [
    "mens_w / mens_m"
   ]
  },
  {
   "cell_type": "markdown",
   "metadata": {},
   "source": [
    "## Observation 1"
   ]
  },
  {
   "cell_type": "markdown",
   "metadata": {},
   "source": [
    "### Qualitative description:"
   ]
  },
  {
   "cell_type": "markdown",
   "metadata": {},
   "source": [
    "The topic describing various forms of solidarity (\"aid giving\") is slightly more probable for women than for men if studied through the Markovian framework. Overall, women tend to discuss it more than men. Overall we can see a strong tendency of women discussing aid giving more than men do. It is more significant for women if looked through the traditional Fisher test that compares raw probabilities. "
   ]
  },
  {
   "cell_type": "markdown",
   "metadata": {},
   "source": [
    "### Quantitative evidence"
   ]
  },
  {
   "cell_type": "code",
   "execution_count": 11,
   "metadata": {},
   "outputs": [
    {
     "name": "stdout",
     "output_type": "stream",
     "text": [
      "1.061877652979738\n"
     ]
    }
   ],
   "source": [
    "print (aid_giving_w/aid_giving_m)"
   ]
  },
  {
   "cell_type": "code",
   "execution_count": 35,
   "metadata": {},
   "outputs": [
    {
     "name": "stdout",
     "output_type": "stream",
     "text": [
      "7 0.89\n"
     ]
    }
   ],
   "source": [
    "print (measure_centrality(pm_model_w,state_index_w,'aid giving','closeness'))"
   ]
  },
  {
   "cell_type": "code",
   "execution_count": 36,
   "metadata": {},
   "outputs": [
    {
     "name": "stdout",
     "output_type": "stream",
     "text": [
      "7 0.80\n"
     ]
    }
   ],
   "source": [
    "print (measure_centrality(pm_model_m,state_index_m,'aid giving','closeness'))"
   ]
  },
  {
   "cell_type": "markdown",
   "metadata": {},
   "source": [
    "### Significance"
   ]
  },
  {
   "cell_type": "markdown",
   "metadata": {},
   "source": [
    "![title](output/markov_modelling/bootstrap/complete_m_complete_w/aid%20giving.png)"
   ]
  },
  {
   "cell_type": "markdown",
   "metadata": {},
   "source": [
    "### Load the results of Fisher test and odds ratio analysis"
   ]
  },
  {
   "cell_type": "code",
   "execution_count": 14,
   "metadata": {},
   "outputs": [
    {
     "data": {
      "text/html": [
       "<div>\n",
       "<style scoped>\n",
       "    .dataframe tbody tr th:only-of-type {\n",
       "        vertical-align: middle;\n",
       "    }\n",
       "\n",
       "    .dataframe tbody tr th {\n",
       "        vertical-align: top;\n",
       "    }\n",
       "\n",
       "    .dataframe thead th {\n",
       "        text-align: right;\n",
       "    }\n",
       "</style>\n",
       "<table border=\"1\" class=\"dataframe\">\n",
       "  <thead>\n",
       "    <tr style=\"text-align: right;\">\n",
       "      <th></th>\n",
       "      <th>Unnamed: 0</th>\n",
       "      <th>topic_word</th>\n",
       "      <th>p_value</th>\n",
       "      <th>complete_w</th>\n",
       "      <th>complete_m</th>\n",
       "      <th>count_complete_w</th>\n",
       "      <th>count_complete_m</th>\n",
       "      <th>significance</th>\n",
       "    </tr>\n",
       "  </thead>\n",
       "  <tbody>\n",
       "    <tr>\n",
       "      <th>18</th>\n",
       "      <td>7</td>\n",
       "      <td>aid giving</td>\n",
       "      <td>0.000024</td>\n",
       "      <td>1.291328</td>\n",
       "      <td>0.774397</td>\n",
       "      <td>1377</td>\n",
       "      <td>506</td>\n",
       "      <td>True</td>\n",
       "    </tr>\n",
       "  </tbody>\n",
       "</table>\n",
       "</div>"
      ],
      "text/plain": [
       "    Unnamed: 0  topic_word   p_value  complete_w  complete_m  \\\n",
       "18           7  aid giving  0.000024    1.291328    0.774397   \n",
       "\n",
       "    count_complete_w  count_complete_m  significance  \n",
       "18              1377               506          True  "
      ]
     },
     "metadata": {},
     "output_type": "display_data"
    }
   ],
   "source": [
    "display (df_fisher[df_fisher.topic_word==\"aid giving\"])"
   ]
  },
  {
   "cell_type": "markdown",
   "metadata": {},
   "source": [
    "## Observation 2"
   ]
  },
  {
   "cell_type": "markdown",
   "metadata": {},
   "source": [
    "### Qualitative description:"
   ]
  },
  {
   "cell_type": "markdown",
   "metadata": {},
   "source": [
    "The topic describing food sharing is more significant for women than for men. The probability that women discuss food sharing is by 20% higher. Fisher test also confirms this."
   ]
  },
  {
   "cell_type": "markdown",
   "metadata": {},
   "source": [
    "### Quantitative evidence"
   ]
  },
  {
   "cell_type": "markdown",
   "metadata": {},
   "source": [
    "print (food_sharing_w/food_sharing_m)"
   ]
  },
  {
   "cell_type": "markdown",
   "metadata": {},
   "source": [
    "### Significance"
   ]
  },
  {
   "cell_type": "markdown",
   "metadata": {},
   "source": [
    "![title](output/markov_modelling/bootstrap/complete_m_complete_w/food%20sharing.png)"
   ]
  },
  {
   "cell_type": "markdown",
   "metadata": {},
   "source": [
    "### Load the results of Fisher test and odds ratio analysis"
   ]
  },
  {
   "cell_type": "code",
   "execution_count": 15,
   "metadata": {},
   "outputs": [
    {
     "data": {
      "text/html": [
       "<div>\n",
       "<style scoped>\n",
       "    .dataframe tbody tr th:only-of-type {\n",
       "        vertical-align: middle;\n",
       "    }\n",
       "\n",
       "    .dataframe tbody tr th {\n",
       "        vertical-align: top;\n",
       "    }\n",
       "\n",
       "    .dataframe thead th {\n",
       "        text-align: right;\n",
       "    }\n",
       "</style>\n",
       "<table border=\"1\" class=\"dataframe\">\n",
       "  <thead>\n",
       "    <tr style=\"text-align: right;\">\n",
       "      <th></th>\n",
       "      <th>Unnamed: 0</th>\n",
       "      <th>topic_word</th>\n",
       "      <th>p_value</th>\n",
       "      <th>complete_w</th>\n",
       "      <th>complete_m</th>\n",
       "      <th>count_complete_w</th>\n",
       "      <th>count_complete_m</th>\n",
       "      <th>significance</th>\n",
       "    </tr>\n",
       "  </thead>\n",
       "  <tbody>\n",
       "    <tr>\n",
       "      <th>142</th>\n",
       "      <td>353</td>\n",
       "      <td>food sharing</td>\n",
       "      <td>0.012936</td>\n",
       "      <td>1.380406</td>\n",
       "      <td>0.724424</td>\n",
       "      <td>255</td>\n",
       "      <td>83</td>\n",
       "      <td>True</td>\n",
       "    </tr>\n",
       "  </tbody>\n",
       "</table>\n",
       "</div>"
      ],
      "text/plain": [
       "     Unnamed: 0    topic_word   p_value  complete_w  complete_m  \\\n",
       "142         353  food sharing  0.012936    1.380406    0.724424   \n",
       "\n",
       "     count_complete_w  count_complete_m  significance  \n",
       "142               255                83          True  "
      ]
     },
     "metadata": {},
     "output_type": "display_data"
    }
   ],
   "source": [
    "display (df_fisher_expanded[df_fisher_expanded.topic_word==\"food sharing\"])"
   ]
  },
  {
   "cell_type": "markdown",
   "metadata": {},
   "source": [
    "## Observation 3"
   ]
  },
  {
   "cell_type": "markdown",
   "metadata": {},
   "source": [
    "### Qualitative description:"
   ]
  },
  {
   "cell_type": "markdown",
   "metadata": {},
   "source": [
    "The topic describing friendship is more significant for women than for men. This is confirmed by the Fisher test. This where we find the biggest difference."
   ]
  },
  {
   "cell_type": "markdown",
   "metadata": {},
   "source": [
    "### Quantitative evidence"
   ]
  },
  {
   "cell_type": "markdown",
   "metadata": {},
   "source": [
    "print (friends_w/friends_m)"
   ]
  },
  {
   "cell_type": "markdown",
   "metadata": {},
   "source": [
    "### Significance"
   ]
  },
  {
   "cell_type": "markdown",
   "metadata": {},
   "source": [
    "![title](output/markov_modelling/bootstrap/complete_m_complete_w/friends.png)"
   ]
  },
  {
   "cell_type": "markdown",
   "metadata": {},
   "source": [
    "### Load the results of Fisher test and odds ratio analysis"
   ]
  },
  {
   "cell_type": "code",
   "execution_count": 16,
   "metadata": {},
   "outputs": [
    {
     "data": {
      "text/html": [
       "<div>\n",
       "<style scoped>\n",
       "    .dataframe tbody tr th:only-of-type {\n",
       "        vertical-align: middle;\n",
       "    }\n",
       "\n",
       "    .dataframe tbody tr th {\n",
       "        vertical-align: top;\n",
       "    }\n",
       "\n",
       "    .dataframe thead th {\n",
       "        text-align: right;\n",
       "    }\n",
       "</style>\n",
       "<table border=\"1\" class=\"dataframe\">\n",
       "  <thead>\n",
       "    <tr style=\"text-align: right;\">\n",
       "      <th></th>\n",
       "      <th>Unnamed: 0</th>\n",
       "      <th>topic_word</th>\n",
       "      <th>p_value</th>\n",
       "      <th>complete_w</th>\n",
       "      <th>complete_m</th>\n",
       "      <th>count_complete_w</th>\n",
       "      <th>count_complete_m</th>\n",
       "      <th>significance</th>\n",
       "    </tr>\n",
       "  </thead>\n",
       "  <tbody>\n",
       "    <tr>\n",
       "      <th>49</th>\n",
       "      <td>385</td>\n",
       "      <td>friends</td>\n",
       "      <td>0.000013</td>\n",
       "      <td>1.795836</td>\n",
       "      <td>0.556844</td>\n",
       "      <td>265</td>\n",
       "      <td>67</td>\n",
       "      <td>True</td>\n",
       "    </tr>\n",
       "  </tbody>\n",
       "</table>\n",
       "</div>"
      ],
      "text/plain": [
       "    Unnamed: 0 topic_word   p_value  complete_w  complete_m  count_complete_w  \\\n",
       "49         385    friends  0.000013    1.795836    0.556844               265   \n",
       "\n",
       "    count_complete_m  significance  \n",
       "49                67          True  "
      ]
     },
     "metadata": {},
     "output_type": "display_data"
    }
   ],
   "source": [
    "display (df_fisher_expanded[df_fisher_expanded.topic_word==\"friends\"])"
   ]
  },
  {
   "cell_type": "markdown",
   "metadata": {},
   "source": [
    "## Observation 4"
   ]
  },
  {
   "cell_type": "markdown",
   "metadata": {},
   "source": [
    "### Qualitative description:"
   ]
  },
  {
   "cell_type": "markdown",
   "metadata": {},
   "source": [
    "The topic describing social bonds is more significant for women than for men."
   ]
  },
  {
   "cell_type": "markdown",
   "metadata": {},
   "source": [
    "### Quantitative evidence"
   ]
  },
  {
   "cell_type": "code",
   "execution_count": 17,
   "metadata": {},
   "outputs": [
    {
     "name": "stdout",
     "output_type": "stream",
     "text": [
      "1.2891914603894181\n"
     ]
    }
   ],
   "source": [
    "print (social_bonds_w/social_bonds_m)"
   ]
  },
  {
   "cell_type": "code",
   "execution_count": 18,
   "metadata": {},
   "outputs": [
    {
     "name": "stdout",
     "output_type": "stream",
     "text": [
      "91 1.66\n",
      "91 0.82\n"
     ]
    }
   ],
   "source": [
    "print (measure_centrality(pm_model_w,state_index_w,'social bonds','degree'))\n",
    "print (measure_centrality(pm_model_w,state_index_w,'social bonds','closeness'))"
   ]
  },
  {
   "cell_type": "code",
   "execution_count": 19,
   "metadata": {},
   "outputs": [
    {
     "name": "stdout",
     "output_type": "stream",
     "text": [
      "90 1.42\n",
      "90 0.77\n"
     ]
    }
   ],
   "source": [
    "print (measure_centrality(pm_model_m,state_index_m,'social bonds','degree'))\n",
    "print (measure_centrality(pm_model_m,state_index_m,'social bonds','closeness'))"
   ]
  },
  {
   "cell_type": "code",
   "execution_count": null,
   "metadata": {},
   "outputs": [],
   "source": []
  },
  {
   "cell_type": "markdown",
   "metadata": {},
   "source": [
    "### Significance"
   ]
  },
  {
   "cell_type": "markdown",
   "metadata": {},
   "source": [
    "![title](output/markov_modelling/bootstrap/complete_m_complete_w/social%20bonds.png)"
   ]
  },
  {
   "cell_type": "markdown",
   "metadata": {},
   "source": [
    "### Load the results of Fisher test and odds ratio analysis"
   ]
  },
  {
   "cell_type": "code",
   "execution_count": 20,
   "metadata": {},
   "outputs": [
    {
     "data": {
      "text/html": [
       "<div>\n",
       "<style scoped>\n",
       "    .dataframe tbody tr th:only-of-type {\n",
       "        vertical-align: middle;\n",
       "    }\n",
       "\n",
       "    .dataframe tbody tr th {\n",
       "        vertical-align: top;\n",
       "    }\n",
       "\n",
       "    .dataframe thead th {\n",
       "        text-align: right;\n",
       "    }\n",
       "</style>\n",
       "<table border=\"1\" class=\"dataframe\">\n",
       "  <thead>\n",
       "    <tr style=\"text-align: right;\">\n",
       "      <th></th>\n",
       "      <th>Unnamed: 0</th>\n",
       "      <th>topic_word</th>\n",
       "      <th>p_value</th>\n",
       "      <th>complete_w</th>\n",
       "      <th>complete_m</th>\n",
       "      <th>count_complete_w</th>\n",
       "      <th>count_complete_m</th>\n",
       "      <th>significance</th>\n",
       "    </tr>\n",
       "  </thead>\n",
       "  <tbody>\n",
       "    <tr>\n",
       "      <th>17</th>\n",
       "      <td>91</td>\n",
       "      <td>social bonds</td>\n",
       "      <td>0.000016</td>\n",
       "      <td>1.363893</td>\n",
       "      <td>0.733195</td>\n",
       "      <td>886</td>\n",
       "      <td>303</td>\n",
       "      <td>True</td>\n",
       "    </tr>\n",
       "  </tbody>\n",
       "</table>\n",
       "</div>"
      ],
      "text/plain": [
       "    Unnamed: 0    topic_word   p_value  complete_w  complete_m  \\\n",
       "17          91  social bonds  0.000016    1.363893    0.733195   \n",
       "\n",
       "    count_complete_w  count_complete_m  significance  \n",
       "17               886               303          True  "
      ]
     },
     "metadata": {},
     "output_type": "display_data"
    }
   ],
   "source": [
    "display (df_fisher[df_fisher.topic_word==\"social bonds\"])"
   ]
  },
  {
   "cell_type": "markdown",
   "metadata": {},
   "source": [
    "## Observation 5"
   ]
  },
  {
   "cell_type": "markdown",
   "metadata": {},
   "source": [
    "### Qualitative description:"
   ]
  },
  {
   "cell_type": "markdown",
   "metadata": {},
   "source": [
    "The topic describing clothing provisions is more significant for women than for men."
   ]
  },
  {
   "cell_type": "markdown",
   "metadata": {},
   "source": [
    "### Quantitative evidence"
   ]
  },
  {
   "cell_type": "markdown",
   "metadata": {},
   "source": [
    "print (clothing_provision_w/clothing_provision_m)"
   ]
  },
  {
   "cell_type": "markdown",
   "metadata": {},
   "source": [
    "### Significance"
   ]
  },
  {
   "cell_type": "markdown",
   "metadata": {},
   "source": [
    "![title](output/markov_modelling/bootstrap/complete_m_complete_w/clothing%20provision.png)"
   ]
  },
  {
   "cell_type": "markdown",
   "metadata": {},
   "source": [
    "### Load the results of Fisher test and odds ratio analysis"
   ]
  },
  {
   "cell_type": "code",
   "execution_count": 21,
   "metadata": {},
   "outputs": [
    {
     "data": {
      "text/html": [
       "<div>\n",
       "<style scoped>\n",
       "    .dataframe tbody tr th:only-of-type {\n",
       "        vertical-align: middle;\n",
       "    }\n",
       "\n",
       "    .dataframe tbody tr th {\n",
       "        vertical-align: top;\n",
       "    }\n",
       "\n",
       "    .dataframe thead th {\n",
       "        text-align: right;\n",
       "    }\n",
       "</style>\n",
       "<table border=\"1\" class=\"dataframe\">\n",
       "  <thead>\n",
       "    <tr style=\"text-align: right;\">\n",
       "      <th></th>\n",
       "      <th>Unnamed: 0</th>\n",
       "      <th>topic_word</th>\n",
       "      <th>p_value</th>\n",
       "      <th>complete_w</th>\n",
       "      <th>complete_m</th>\n",
       "      <th>count_complete_w</th>\n",
       "      <th>count_complete_m</th>\n",
       "      <th>significance</th>\n",
       "    </tr>\n",
       "  </thead>\n",
       "  <tbody>\n",
       "    <tr>\n",
       "      <th>95</th>\n",
       "      <td>211</td>\n",
       "      <td>clothing provision</td>\n",
       "      <td>0.002598</td>\n",
       "      <td>1.93847</td>\n",
       "      <td>0.515871</td>\n",
       "      <td>104</td>\n",
       "      <td>24</td>\n",
       "      <td>True</td>\n",
       "    </tr>\n",
       "  </tbody>\n",
       "</table>\n",
       "</div>"
      ],
      "text/plain": [
       "    Unnamed: 0          topic_word   p_value  complete_w  complete_m  \\\n",
       "95         211  clothing provision  0.002598     1.93847    0.515871   \n",
       "\n",
       "    count_complete_w  count_complete_m  significance  \n",
       "95               104                24          True  "
      ]
     },
     "metadata": {},
     "output_type": "display_data"
    }
   ],
   "source": [
    "display (df_fisher_expanded[df_fisher_expanded.topic_word==\"clothing provision\"])"
   ]
  },
  {
   "cell_type": "markdown",
   "metadata": {},
   "source": [
    "## Observation 5"
   ]
  },
  {
   "cell_type": "markdown",
   "metadata": {},
   "source": [
    "### Qualitative description:"
   ]
  },
  {
   "cell_type": "markdown",
   "metadata": {},
   "source": [
    "Women and men are equally likely to discuss preferential treatment."
   ]
  },
  {
   "cell_type": "markdown",
   "metadata": {},
   "source": [
    "### Quantitative evidence"
   ]
  },
  {
   "cell_type": "markdown",
   "metadata": {},
   "source": [
    "![title](output/markov_modelling/bootstrap/complete_m_complete_w/preferential%20treatment.png)"
   ]
  },
  {
   "cell_type": "code",
   "execution_count": 22,
   "metadata": {},
   "outputs": [
    {
     "data": {
      "text/html": [
       "<div>\n",
       "<style scoped>\n",
       "    .dataframe tbody tr th:only-of-type {\n",
       "        vertical-align: middle;\n",
       "    }\n",
       "\n",
       "    .dataframe tbody tr th {\n",
       "        vertical-align: top;\n",
       "    }\n",
       "\n",
       "    .dataframe thead th {\n",
       "        text-align: right;\n",
       "    }\n",
       "</style>\n",
       "<table border=\"1\" class=\"dataframe\">\n",
       "  <thead>\n",
       "    <tr style=\"text-align: right;\">\n",
       "      <th></th>\n",
       "      <th>Unnamed: 0</th>\n",
       "      <th>topic_word</th>\n",
       "      <th>p_value</th>\n",
       "      <th>complete_w</th>\n",
       "      <th>complete_m</th>\n",
       "      <th>count_complete_w</th>\n",
       "      <th>count_complete_m</th>\n",
       "      <th>significance</th>\n",
       "    </tr>\n",
       "  </thead>\n",
       "  <tbody>\n",
       "    <tr>\n",
       "      <th>202</th>\n",
       "      <td>572</td>\n",
       "      <td>preferential treatment</td>\n",
       "      <td>0.074166</td>\n",
       "      <td>1.186809</td>\n",
       "      <td>0.842595</td>\n",
       "      <td>449</td>\n",
       "      <td>170</td>\n",
       "      <td>False</td>\n",
       "    </tr>\n",
       "  </tbody>\n",
       "</table>\n",
       "</div>"
      ],
      "text/plain": [
       "     Unnamed: 0              topic_word   p_value  complete_w  complete_m  \\\n",
       "202         572  preferential treatment  0.074166    1.186809    0.842595   \n",
       "\n",
       "     count_complete_w  count_complete_m  significance  \n",
       "202               449               170         False  "
      ]
     },
     "metadata": {},
     "output_type": "display_data"
    }
   ],
   "source": [
    "display (df_fisher_expanded[df_fisher_expanded.topic_word==\"preferential treatment\"])"
   ]
  },
  {
   "cell_type": "markdown",
   "metadata": {},
   "source": [
    "## Observation 6"
   ]
  },
  {
   "cell_type": "markdown",
   "metadata": {},
   "source": [
    "### Qualitative description:"
   ]
  },
  {
   "cell_type": "markdown",
   "metadata": {},
   "source": [
    "Women and men are equally likely to discuss kapos."
   ]
  },
  {
   "cell_type": "markdown",
   "metadata": {},
   "source": [
    "### Quantitative evidence"
   ]
  },
  {
   "cell_type": "markdown",
   "metadata": {},
   "source": [
    "![title](output/markov_modelling/bootstrap/complete_m_complete_w/kapos.png)"
   ]
  },
  {
   "cell_type": "markdown",
   "metadata": {},
   "source": [
    "## Observation 7"
   ]
  },
  {
   "cell_type": "markdown",
   "metadata": {},
   "source": [
    "### Qualitative description:"
   ]
  },
  {
   "cell_type": "markdown",
   "metadata": {},
   "source": [
    "Women and men are equally likely to discuss stealing."
   ]
  },
  {
   "cell_type": "markdown",
   "metadata": {},
   "source": [
    "### Quantitative evidence"
   ]
  },
  {
   "cell_type": "markdown",
   "metadata": {},
   "source": [
    "![title](output/markov_modelling/bootstrap/complete_m_complete_w/stealing.png)"
   ]
  },
  {
   "cell_type": "code",
   "execution_count": 23,
   "metadata": {},
   "outputs": [
    {
     "data": {
      "text/html": [
       "<div>\n",
       "<style scoped>\n",
       "    .dataframe tbody tr th:only-of-type {\n",
       "        vertical-align: middle;\n",
       "    }\n",
       "\n",
       "    .dataframe tbody tr th {\n",
       "        vertical-align: top;\n",
       "    }\n",
       "\n",
       "    .dataframe thead th {\n",
       "        text-align: right;\n",
       "    }\n",
       "</style>\n",
       "<table border=\"1\" class=\"dataframe\">\n",
       "  <thead>\n",
       "    <tr style=\"text-align: right;\">\n",
       "      <th></th>\n",
       "      <th>Unnamed: 0</th>\n",
       "      <th>topic_word</th>\n",
       "      <th>p_value</th>\n",
       "      <th>complete_w</th>\n",
       "      <th>complete_m</th>\n",
       "      <th>count_complete_w</th>\n",
       "      <th>count_complete_m</th>\n",
       "      <th>significance</th>\n",
       "    </tr>\n",
       "  </thead>\n",
       "  <tbody>\n",
       "    <tr>\n",
       "      <th>74</th>\n",
       "      <td>92</td>\n",
       "      <td>stealing</td>\n",
       "      <td>0.331269</td>\n",
       "      <td>1.145131</td>\n",
       "      <td>0.873262</td>\n",
       "      <td>211</td>\n",
       "      <td>82</td>\n",
       "      <td>False</td>\n",
       "    </tr>\n",
       "  </tbody>\n",
       "</table>\n",
       "</div>"
      ],
      "text/plain": [
       "    Unnamed: 0 topic_word   p_value  complete_w  complete_m  count_complete_w  \\\n",
       "74          92   stealing  0.331269    1.145131    0.873262               211   \n",
       "\n",
       "    count_complete_m  significance  \n",
       "74                82         False  "
      ]
     },
     "metadata": {},
     "output_type": "display_data"
    }
   ],
   "source": [
    "display (df_fisher[df_fisher.topic_word==\"stealing\"])"
   ]
  },
  {
   "cell_type": "markdown",
   "metadata": {},
   "source": [
    "## Observation 9"
   ]
  },
  {
   "cell_type": "markdown",
   "metadata": {},
   "source": [
    "### Qualitative description:"
   ]
  },
  {
   "cell_type": "markdown",
   "metadata": {},
   "source": [
    "When we look at specific forms of aid giving there is no difference between men and women:\n",
    "    - employment assistance\n",
    "    - forced march-related aid giving\n",
    "    - hiding (aid giving)\n",
    "    - medical care provision\n",
    "    - sustenance provision\n",
    "    - shelter provision\n",
    "    \n",
    " There is difference:\n",
    "    - clothing provision\n",
    "    - sustenance provision\n",
    "    - food sharing\n",
    "\n",
    "No forms of aid giving is positively correlated with men."
   ]
  },
  {
   "cell_type": "markdown",
   "metadata": {},
   "source": [
    "### Quantitative evidence"
   ]
  },
  {
   "cell_type": "code",
   "execution_count": 24,
   "metadata": {},
   "outputs": [
    {
     "data": {
      "text/html": [
       "<div>\n",
       "<style scoped>\n",
       "    .dataframe tbody tr th:only-of-type {\n",
       "        vertical-align: middle;\n",
       "    }\n",
       "\n",
       "    .dataframe tbody tr th {\n",
       "        vertical-align: top;\n",
       "    }\n",
       "\n",
       "    .dataframe thead th {\n",
       "        text-align: right;\n",
       "    }\n",
       "</style>\n",
       "<table border=\"1\" class=\"dataframe\">\n",
       "  <thead>\n",
       "    <tr style=\"text-align: right;\">\n",
       "      <th></th>\n",
       "      <th>Unnamed: 0</th>\n",
       "      <th>topic_word</th>\n",
       "      <th>p_value</th>\n",
       "      <th>complete_w</th>\n",
       "      <th>complete_m</th>\n",
       "      <th>count_complete_w</th>\n",
       "      <th>count_complete_m</th>\n",
       "      <th>significance</th>\n",
       "    </tr>\n",
       "  </thead>\n",
       "  <tbody>\n",
       "    <tr>\n",
       "      <th>60</th>\n",
       "      <td>156</td>\n",
       "      <td>aid giving</td>\n",
       "      <td>0.000107</td>\n",
       "      <td>1.279495</td>\n",
       "      <td>0.781558</td>\n",
       "      <td>1187</td>\n",
       "      <td>435</td>\n",
       "      <td>True</td>\n",
       "    </tr>\n",
       "  </tbody>\n",
       "</table>\n",
       "</div>"
      ],
      "text/plain": [
       "    Unnamed: 0  topic_word   p_value  complete_w  complete_m  \\\n",
       "60         156  aid giving  0.000107    1.279495    0.781558   \n",
       "\n",
       "    count_complete_w  count_complete_m  significance  \n",
       "60              1187               435          True  "
      ]
     },
     "metadata": {},
     "output_type": "display_data"
    },
    {
     "data": {
      "text/html": [
       "<div>\n",
       "<style scoped>\n",
       "    .dataframe tbody tr th:only-of-type {\n",
       "        vertical-align: middle;\n",
       "    }\n",
       "\n",
       "    .dataframe tbody tr th {\n",
       "        vertical-align: top;\n",
       "    }\n",
       "\n",
       "    .dataframe thead th {\n",
       "        text-align: right;\n",
       "    }\n",
       "</style>\n",
       "<table border=\"1\" class=\"dataframe\">\n",
       "  <thead>\n",
       "    <tr style=\"text-align: right;\">\n",
       "      <th></th>\n",
       "      <th>Unnamed: 0</th>\n",
       "      <th>topic_word</th>\n",
       "      <th>p_value</th>\n",
       "      <th>complete_w</th>\n",
       "      <th>complete_m</th>\n",
       "      <th>count_complete_w</th>\n",
       "      <th>count_complete_m</th>\n",
       "      <th>significance</th>\n",
       "    </tr>\n",
       "  </thead>\n",
       "  <tbody>\n",
       "    <tr>\n",
       "      <th>431</th>\n",
       "      <td>158</td>\n",
       "      <td>aid recipients</td>\n",
       "      <td>0.465998</td>\n",
       "      <td>1.772439</td>\n",
       "      <td>0.564194</td>\n",
       "      <td>16</td>\n",
       "      <td>4</td>\n",
       "      <td>False</td>\n",
       "    </tr>\n",
       "  </tbody>\n",
       "</table>\n",
       "</div>"
      ],
      "text/plain": [
       "     Unnamed: 0      topic_word   p_value  complete_w  complete_m  \\\n",
       "431         158  aid recipients  0.465998    1.772439    0.564194   \n",
       "\n",
       "     count_complete_w  count_complete_m  significance  \n",
       "431                16                 4         False  "
      ]
     },
     "metadata": {},
     "output_type": "display_data"
    },
    {
     "data": {
      "text/html": [
       "<div>\n",
       "<style scoped>\n",
       "    .dataframe tbody tr th:only-of-type {\n",
       "        vertical-align: middle;\n",
       "    }\n",
       "\n",
       "    .dataframe tbody tr th {\n",
       "        vertical-align: top;\n",
       "    }\n",
       "\n",
       "    .dataframe thead th {\n",
       "        text-align: right;\n",
       "    }\n",
       "</style>\n",
       "<table border=\"1\" class=\"dataframe\">\n",
       "  <thead>\n",
       "    <tr style=\"text-align: right;\">\n",
       "      <th></th>\n",
       "      <th>Unnamed: 0</th>\n",
       "      <th>topic_word</th>\n",
       "      <th>p_value</th>\n",
       "      <th>complete_w</th>\n",
       "      <th>complete_m</th>\n",
       "      <th>count_complete_w</th>\n",
       "      <th>count_complete_m</th>\n",
       "      <th>significance</th>\n",
       "    </tr>\n",
       "  </thead>\n",
       "  <tbody>\n",
       "    <tr>\n",
       "      <th>105</th>\n",
       "      <td>207</td>\n",
       "      <td>civilian aid givers</td>\n",
       "      <td>0.003871</td>\n",
       "      <td>6.002299</td>\n",
       "      <td>0.166603</td>\n",
       "      <td>27</td>\n",
       "      <td>2</td>\n",
       "      <td>True</td>\n",
       "    </tr>\n",
       "  </tbody>\n",
       "</table>\n",
       "</div>"
      ],
      "text/plain": [
       "     Unnamed: 0           topic_word   p_value  complete_w  complete_m  \\\n",
       "105         207  civilian aid givers  0.003871    6.002299    0.166603   \n",
       "\n",
       "     count_complete_w  count_complete_m  significance  \n",
       "105                27                 2          True  "
      ]
     },
     "metadata": {},
     "output_type": "display_data"
    },
    {
     "data": {
      "text/html": [
       "<div>\n",
       "<style scoped>\n",
       "    .dataframe tbody tr th:only-of-type {\n",
       "        vertical-align: middle;\n",
       "    }\n",
       "\n",
       "    .dataframe tbody tr th {\n",
       "        vertical-align: top;\n",
       "    }\n",
       "\n",
       "    .dataframe thead th {\n",
       "        text-align: right;\n",
       "    }\n",
       "</style>\n",
       "<table border=\"1\" class=\"dataframe\">\n",
       "  <thead>\n",
       "    <tr style=\"text-align: right;\">\n",
       "      <th></th>\n",
       "      <th>Unnamed: 0</th>\n",
       "      <th>topic_word</th>\n",
       "      <th>p_value</th>\n",
       "      <th>complete_w</th>\n",
       "      <th>complete_m</th>\n",
       "      <th>count_complete_w</th>\n",
       "      <th>count_complete_m</th>\n",
       "      <th>significance</th>\n",
       "    </tr>\n",
       "  </thead>\n",
       "  <tbody>\n",
       "    <tr>\n",
       "      <th>95</th>\n",
       "      <td>211</td>\n",
       "      <td>clothing provision</td>\n",
       "      <td>0.002598</td>\n",
       "      <td>1.93847</td>\n",
       "      <td>0.515871</td>\n",
       "      <td>104</td>\n",
       "      <td>24</td>\n",
       "      <td>True</td>\n",
       "    </tr>\n",
       "  </tbody>\n",
       "</table>\n",
       "</div>"
      ],
      "text/plain": [
       "    Unnamed: 0          topic_word   p_value  complete_w  complete_m  \\\n",
       "95         211  clothing provision  0.002598     1.93847    0.515871   \n",
       "\n",
       "    count_complete_w  count_complete_m  significance  \n",
       "95               104                24          True  "
      ]
     },
     "metadata": {},
     "output_type": "display_data"
    },
    {
     "data": {
      "text/html": [
       "<div>\n",
       "<style scoped>\n",
       "    .dataframe tbody tr th:only-of-type {\n",
       "        vertical-align: middle;\n",
       "    }\n",
       "\n",
       "    .dataframe tbody tr th {\n",
       "        vertical-align: top;\n",
       "    }\n",
       "\n",
       "    .dataframe thead th {\n",
       "        text-align: right;\n",
       "    }\n",
       "</style>\n",
       "<table border=\"1\" class=\"dataframe\">\n",
       "  <thead>\n",
       "    <tr style=\"text-align: right;\">\n",
       "      <th></th>\n",
       "      <th>Unnamed: 0</th>\n",
       "      <th>topic_word</th>\n",
       "      <th>p_value</th>\n",
       "      <th>complete_w</th>\n",
       "      <th>complete_m</th>\n",
       "      <th>count_complete_w</th>\n",
       "      <th>count_complete_m</th>\n",
       "      <th>significance</th>\n",
       "    </tr>\n",
       "  </thead>\n",
       "  <tbody>\n",
       "    <tr>\n",
       "      <th>259</th>\n",
       "      <td>277</td>\n",
       "      <td>employment assistance</td>\n",
       "      <td>0.134882</td>\n",
       "      <td>0.490488</td>\n",
       "      <td>2.038785</td>\n",
       "      <td>10</td>\n",
       "      <td>9</td>\n",
       "      <td>False</td>\n",
       "    </tr>\n",
       "  </tbody>\n",
       "</table>\n",
       "</div>"
      ],
      "text/plain": [
       "     Unnamed: 0             topic_word   p_value  complete_w  complete_m  \\\n",
       "259         277  employment assistance  0.134882    0.490488    2.038785   \n",
       "\n",
       "     count_complete_w  count_complete_m  significance  \n",
       "259                10                 9         False  "
      ]
     },
     "metadata": {},
     "output_type": "display_data"
    },
    {
     "data": {
      "text/html": [
       "<div>\n",
       "<style scoped>\n",
       "    .dataframe tbody tr th:only-of-type {\n",
       "        vertical-align: middle;\n",
       "    }\n",
       "\n",
       "    .dataframe tbody tr th {\n",
       "        vertical-align: top;\n",
       "    }\n",
       "\n",
       "    .dataframe thead th {\n",
       "        text-align: right;\n",
       "    }\n",
       "</style>\n",
       "<table border=\"1\" class=\"dataframe\">\n",
       "  <thead>\n",
       "    <tr style=\"text-align: right;\">\n",
       "      <th></th>\n",
       "      <th>Unnamed: 0</th>\n",
       "      <th>topic_word</th>\n",
       "      <th>p_value</th>\n",
       "      <th>complete_w</th>\n",
       "      <th>complete_m</th>\n",
       "      <th>count_complete_w</th>\n",
       "      <th>count_complete_m</th>\n",
       "      <th>significance</th>\n",
       "    </tr>\n",
       "  </thead>\n",
       "  <tbody>\n",
       "    <tr>\n",
       "      <th>201</th>\n",
       "      <td>322</td>\n",
       "      <td>famous aid givers</td>\n",
       "      <td>0.065058</td>\n",
       "      <td>inf</td>\n",
       "      <td>0.0</td>\n",
       "      <td>9</td>\n",
       "      <td>0</td>\n",
       "      <td>False</td>\n",
       "    </tr>\n",
       "  </tbody>\n",
       "</table>\n",
       "</div>"
      ],
      "text/plain": [
       "     Unnamed: 0         topic_word   p_value  complete_w  complete_m  \\\n",
       "201         322  famous aid givers  0.065058         inf         0.0   \n",
       "\n",
       "     count_complete_w  count_complete_m  significance  \n",
       "201                 9                 0         False  "
      ]
     },
     "metadata": {},
     "output_type": "display_data"
    },
    {
     "data": {
      "text/html": [
       "<div>\n",
       "<style scoped>\n",
       "    .dataframe tbody tr th:only-of-type {\n",
       "        vertical-align: middle;\n",
       "    }\n",
       "\n",
       "    .dataframe tbody tr th {\n",
       "        vertical-align: top;\n",
       "    }\n",
       "\n",
       "    .dataframe thead th {\n",
       "        text-align: right;\n",
       "    }\n",
       "</style>\n",
       "<table border=\"1\" class=\"dataframe\">\n",
       "  <thead>\n",
       "    <tr style=\"text-align: right;\">\n",
       "      <th></th>\n",
       "      <th>Unnamed: 0</th>\n",
       "      <th>topic_word</th>\n",
       "      <th>p_value</th>\n",
       "      <th>complete_w</th>\n",
       "      <th>complete_m</th>\n",
       "      <th>count_complete_w</th>\n",
       "      <th>count_complete_m</th>\n",
       "      <th>significance</th>\n",
       "    </tr>\n",
       "  </thead>\n",
       "  <tbody>\n",
       "    <tr>\n",
       "      <th>142</th>\n",
       "      <td>353</td>\n",
       "      <td>food sharing</td>\n",
       "      <td>0.012936</td>\n",
       "      <td>1.380406</td>\n",
       "      <td>0.724424</td>\n",
       "      <td>255</td>\n",
       "      <td>83</td>\n",
       "      <td>True</td>\n",
       "    </tr>\n",
       "  </tbody>\n",
       "</table>\n",
       "</div>"
      ],
      "text/plain": [
       "     Unnamed: 0    topic_word   p_value  complete_w  complete_m  \\\n",
       "142         353  food sharing  0.012936    1.380406    0.724424   \n",
       "\n",
       "     count_complete_w  count_complete_m  significance  \n",
       "142               255                83          True  "
      ]
     },
     "metadata": {},
     "output_type": "display_data"
    },
    {
     "data": {
      "text/html": [
       "<div>\n",
       "<style scoped>\n",
       "    .dataframe tbody tr th:only-of-type {\n",
       "        vertical-align: middle;\n",
       "    }\n",
       "\n",
       "    .dataframe tbody tr th {\n",
       "        vertical-align: top;\n",
       "    }\n",
       "\n",
       "    .dataframe thead th {\n",
       "        text-align: right;\n",
       "    }\n",
       "</style>\n",
       "<table border=\"1\" class=\"dataframe\">\n",
       "  <thead>\n",
       "    <tr style=\"text-align: right;\">\n",
       "      <th></th>\n",
       "      <th>Unnamed: 0</th>\n",
       "      <th>topic_word</th>\n",
       "      <th>p_value</th>\n",
       "      <th>complete_w</th>\n",
       "      <th>complete_m</th>\n",
       "      <th>count_complete_w</th>\n",
       "      <th>count_complete_m</th>\n",
       "      <th>significance</th>\n",
       "    </tr>\n",
       "  </thead>\n",
       "  <tbody>\n",
       "    <tr>\n",
       "      <th>525</th>\n",
       "      <td>383</td>\n",
       "      <td>forced march-related aid giving</td>\n",
       "      <td>0.651481</td>\n",
       "      <td>1.202577</td>\n",
       "      <td>0.831548</td>\n",
       "      <td>38</td>\n",
       "      <td>14</td>\n",
       "      <td>False</td>\n",
       "    </tr>\n",
       "  </tbody>\n",
       "</table>\n",
       "</div>"
      ],
      "text/plain": [
       "     Unnamed: 0                       topic_word   p_value  complete_w  \\\n",
       "525         383  forced march-related aid giving  0.651481    1.202577   \n",
       "\n",
       "     complete_m  count_complete_w  count_complete_m  significance  \n",
       "525    0.831548                38                14         False  "
      ]
     },
     "metadata": {},
     "output_type": "display_data"
    },
    {
     "data": {
      "text/html": [
       "<div>\n",
       "<style scoped>\n",
       "    .dataframe tbody tr th:only-of-type {\n",
       "        vertical-align: middle;\n",
       "    }\n",
       "\n",
       "    .dataframe tbody tr th {\n",
       "        vertical-align: top;\n",
       "    }\n",
       "\n",
       "    .dataframe thead th {\n",
       "        text-align: right;\n",
       "    }\n",
       "</style>\n",
       "<table border=\"1\" class=\"dataframe\">\n",
       "  <thead>\n",
       "    <tr style=\"text-align: right;\">\n",
       "      <th></th>\n",
       "      <th>Unnamed: 0</th>\n",
       "      <th>topic_word</th>\n",
       "      <th>p_value</th>\n",
       "      <th>complete_w</th>\n",
       "      <th>complete_m</th>\n",
       "      <th>count_complete_w</th>\n",
       "      <th>count_complete_m</th>\n",
       "      <th>significance</th>\n",
       "    </tr>\n",
       "  </thead>\n",
       "  <tbody>\n",
       "    <tr>\n",
       "      <th>263</th>\n",
       "      <td>425</td>\n",
       "      <td>hiding (aid giving)</td>\n",
       "      <td>0.136551</td>\n",
       "      <td>1.441276</td>\n",
       "      <td>0.69383</td>\n",
       "      <td>81</td>\n",
       "      <td>25</td>\n",
       "      <td>False</td>\n",
       "    </tr>\n",
       "  </tbody>\n",
       "</table>\n",
       "</div>"
      ],
      "text/plain": [
       "     Unnamed: 0           topic_word   p_value  complete_w  complete_m  \\\n",
       "263         425  hiding (aid giving)  0.136551    1.441276     0.69383   \n",
       "\n",
       "     count_complete_w  count_complete_m  significance  \n",
       "263                81                25         False  "
      ]
     },
     "metadata": {},
     "output_type": "display_data"
    },
    {
     "data": {
      "text/html": [
       "<div>\n",
       "<style scoped>\n",
       "    .dataframe tbody tr th:only-of-type {\n",
       "        vertical-align: middle;\n",
       "    }\n",
       "\n",
       "    .dataframe tbody tr th {\n",
       "        vertical-align: top;\n",
       "    }\n",
       "\n",
       "    .dataframe thead th {\n",
       "        text-align: right;\n",
       "    }\n",
       "</style>\n",
       "<table border=\"1\" class=\"dataframe\">\n",
       "  <thead>\n",
       "    <tr style=\"text-align: right;\">\n",
       "      <th></th>\n",
       "      <th>Unnamed: 0</th>\n",
       "      <th>topic_word</th>\n",
       "      <th>p_value</th>\n",
       "      <th>complete_w</th>\n",
       "      <th>complete_m</th>\n",
       "      <th>count_complete_w</th>\n",
       "      <th>count_complete_m</th>\n",
       "      <th>significance</th>\n",
       "    </tr>\n",
       "  </thead>\n",
       "  <tbody>\n",
       "    <tr>\n",
       "      <th>300</th>\n",
       "      <td>439</td>\n",
       "      <td>identity concealment (aid giving)</td>\n",
       "      <td>0.211672</td>\n",
       "      <td>0.331392</td>\n",
       "      <td>3.017578</td>\n",
       "      <td>3</td>\n",
       "      <td>4</td>\n",
       "      <td>False</td>\n",
       "    </tr>\n",
       "  </tbody>\n",
       "</table>\n",
       "</div>"
      ],
      "text/plain": [
       "     Unnamed: 0                         topic_word   p_value  complete_w  \\\n",
       "300         439  identity concealment (aid giving)  0.211672    0.331392   \n",
       "\n",
       "     complete_m  count_complete_w  count_complete_m  significance  \n",
       "300    3.017578                 3                 4         False  "
      ]
     },
     "metadata": {},
     "output_type": "display_data"
    },
    {
     "data": {
      "text/html": [
       "<div>\n",
       "<style scoped>\n",
       "    .dataframe tbody tr th:only-of-type {\n",
       "        vertical-align: middle;\n",
       "    }\n",
       "\n",
       "    .dataframe tbody tr th {\n",
       "        vertical-align: top;\n",
       "    }\n",
       "\n",
       "    .dataframe thead th {\n",
       "        text-align: right;\n",
       "    }\n",
       "</style>\n",
       "<table border=\"1\" class=\"dataframe\">\n",
       "  <thead>\n",
       "    <tr style=\"text-align: right;\">\n",
       "      <th></th>\n",
       "      <th>Unnamed: 0</th>\n",
       "      <th>topic_word</th>\n",
       "      <th>p_value</th>\n",
       "      <th>complete_w</th>\n",
       "      <th>complete_m</th>\n",
       "      <th>count_complete_w</th>\n",
       "      <th>count_complete_m</th>\n",
       "      <th>significance</th>\n",
       "    </tr>\n",
       "  </thead>\n",
       "  <tbody>\n",
       "    <tr>\n",
       "      <th>566</th>\n",
       "      <td>459</td>\n",
       "      <td>liberation-related aid giving</td>\n",
       "      <td>0.808486</td>\n",
       "      <td>1.328384</td>\n",
       "      <td>0.752794</td>\n",
       "      <td>15</td>\n",
       "      <td>5</td>\n",
       "      <td>False</td>\n",
       "    </tr>\n",
       "  </tbody>\n",
       "</table>\n",
       "</div>"
      ],
      "text/plain": [
       "     Unnamed: 0                     topic_word   p_value  complete_w  \\\n",
       "566         459  liberation-related aid giving  0.808486    1.328384   \n",
       "\n",
       "     complete_m  count_complete_w  count_complete_m  significance  \n",
       "566    0.752794                15                 5         False  "
      ]
     },
     "metadata": {},
     "output_type": "display_data"
    },
    {
     "data": {
      "text/html": [
       "<div>\n",
       "<style scoped>\n",
       "    .dataframe tbody tr th:only-of-type {\n",
       "        vertical-align: middle;\n",
       "    }\n",
       "\n",
       "    .dataframe tbody tr th {\n",
       "        vertical-align: top;\n",
       "    }\n",
       "\n",
       "    .dataframe thead th {\n",
       "        text-align: right;\n",
       "    }\n",
       "</style>\n",
       "<table border=\"1\" class=\"dataframe\">\n",
       "  <thead>\n",
       "    <tr style=\"text-align: right;\">\n",
       "      <th></th>\n",
       "      <th>Unnamed: 0</th>\n",
       "      <th>topic_word</th>\n",
       "      <th>p_value</th>\n",
       "      <th>complete_w</th>\n",
       "      <th>complete_m</th>\n",
       "      <th>count_complete_w</th>\n",
       "      <th>count_complete_m</th>\n",
       "      <th>significance</th>\n",
       "    </tr>\n",
       "  </thead>\n",
       "  <tbody>\n",
       "    <tr>\n",
       "      <th>568</th>\n",
       "      <td>487</td>\n",
       "      <td>medical care provision</td>\n",
       "      <td>0.821</td>\n",
       "      <td>1.082702</td>\n",
       "      <td>0.923616</td>\n",
       "      <td>66</td>\n",
       "      <td>27</td>\n",
       "      <td>False</td>\n",
       "    </tr>\n",
       "  </tbody>\n",
       "</table>\n",
       "</div>"
      ],
      "text/plain": [
       "     Unnamed: 0              topic_word  p_value  complete_w  complete_m  \\\n",
       "568         487  medical care provision    0.821    1.082702    0.923616   \n",
       "\n",
       "     count_complete_w  count_complete_m  significance  \n",
       "568                66                27         False  "
      ]
     },
     "metadata": {},
     "output_type": "display_data"
    },
    {
     "data": {
      "text/html": [
       "<div>\n",
       "<style scoped>\n",
       "    .dataframe tbody tr th:only-of-type {\n",
       "        vertical-align: middle;\n",
       "    }\n",
       "\n",
       "    .dataframe tbody tr th {\n",
       "        vertical-align: top;\n",
       "    }\n",
       "\n",
       "    .dataframe thead th {\n",
       "        text-align: right;\n",
       "    }\n",
       "</style>\n",
       "<table border=\"1\" class=\"dataframe\">\n",
       "  <thead>\n",
       "    <tr style=\"text-align: right;\">\n",
       "      <th></th>\n",
       "      <th>Unnamed: 0</th>\n",
       "      <th>topic_word</th>\n",
       "      <th>p_value</th>\n",
       "      <th>complete_w</th>\n",
       "      <th>complete_m</th>\n",
       "      <th>count_complete_w</th>\n",
       "      <th>count_complete_m</th>\n",
       "      <th>significance</th>\n",
       "    </tr>\n",
       "  </thead>\n",
       "  <tbody>\n",
       "    <tr>\n",
       "      <th>354</th>\n",
       "      <td>604</td>\n",
       "      <td>protection</td>\n",
       "      <td>0.306729</td>\n",
       "      <td>0.0</td>\n",
       "      <td>inf</td>\n",
       "      <td>0</td>\n",
       "      <td>1</td>\n",
       "      <td>False</td>\n",
       "    </tr>\n",
       "  </tbody>\n",
       "</table>\n",
       "</div>"
      ],
      "text/plain": [
       "     Unnamed: 0  topic_word   p_value  complete_w  complete_m  \\\n",
       "354         604  protection  0.306729         0.0         inf   \n",
       "\n",
       "     count_complete_w  count_complete_m  significance  \n",
       "354                 0                 1         False  "
      ]
     },
     "metadata": {},
     "output_type": "display_data"
    },
    {
     "data": {
      "text/html": [
       "<div>\n",
       "<style scoped>\n",
       "    .dataframe tbody tr th:only-of-type {\n",
       "        vertical-align: middle;\n",
       "    }\n",
       "\n",
       "    .dataframe tbody tr th {\n",
       "        vertical-align: top;\n",
       "    }\n",
       "\n",
       "    .dataframe thead th {\n",
       "        text-align: right;\n",
       "    }\n",
       "</style>\n",
       "<table border=\"1\" class=\"dataframe\">\n",
       "  <thead>\n",
       "    <tr style=\"text-align: right;\">\n",
       "      <th></th>\n",
       "      <th>Unnamed: 0</th>\n",
       "      <th>topic_word</th>\n",
       "      <th>p_value</th>\n",
       "      <th>complete_w</th>\n",
       "      <th>complete_m</th>\n",
       "      <th>count_complete_w</th>\n",
       "      <th>count_complete_m</th>\n",
       "      <th>significance</th>\n",
       "    </tr>\n",
       "  </thead>\n",
       "  <tbody>\n",
       "    <tr>\n",
       "      <th>559</th>\n",
       "      <td>629</td>\n",
       "      <td>rescue</td>\n",
       "      <td>0.784977</td>\n",
       "      <td>0.884624</td>\n",
       "      <td>1.130424</td>\n",
       "      <td>10</td>\n",
       "      <td>5</td>\n",
       "      <td>False</td>\n",
       "    </tr>\n",
       "  </tbody>\n",
       "</table>\n",
       "</div>"
      ],
      "text/plain": [
       "     Unnamed: 0 topic_word   p_value  complete_w  complete_m  \\\n",
       "559         629     rescue  0.784977    0.884624    1.130424   \n",
       "\n",
       "     count_complete_w  count_complete_m  significance  \n",
       "559                10                 5         False  "
      ]
     },
     "metadata": {},
     "output_type": "display_data"
    },
    {
     "data": {
      "text/html": [
       "<div>\n",
       "<style scoped>\n",
       "    .dataframe tbody tr th:only-of-type {\n",
       "        vertical-align: middle;\n",
       "    }\n",
       "\n",
       "    .dataframe tbody tr th {\n",
       "        vertical-align: top;\n",
       "    }\n",
       "\n",
       "    .dataframe thead th {\n",
       "        text-align: right;\n",
       "    }\n",
       "</style>\n",
       "<table border=\"1\" class=\"dataframe\">\n",
       "  <thead>\n",
       "    <tr style=\"text-align: right;\">\n",
       "      <th></th>\n",
       "      <th>Unnamed: 0</th>\n",
       "      <th>topic_word</th>\n",
       "      <th>p_value</th>\n",
       "      <th>complete_w</th>\n",
       "      <th>complete_m</th>\n",
       "      <th>count_complete_w</th>\n",
       "      <th>count_complete_m</th>\n",
       "      <th>significance</th>\n",
       "    </tr>\n",
       "  </thead>\n",
       "  <tbody>\n",
       "    <tr>\n",
       "      <th>526</th>\n",
       "      <td>649</td>\n",
       "      <td>shelter provision</td>\n",
       "      <td>0.660814</td>\n",
       "      <td>1.3286</td>\n",
       "      <td>0.752672</td>\n",
       "      <td>18</td>\n",
       "      <td>6</td>\n",
       "      <td>False</td>\n",
       "    </tr>\n",
       "  </tbody>\n",
       "</table>\n",
       "</div>"
      ],
      "text/plain": [
       "     Unnamed: 0         topic_word   p_value  complete_w  complete_m  \\\n",
       "526         649  shelter provision  0.660814      1.3286    0.752672   \n",
       "\n",
       "     count_complete_w  count_complete_m  significance  \n",
       "526                18                 6         False  "
      ]
     },
     "metadata": {},
     "output_type": "display_data"
    },
    {
     "data": {
      "text/html": [
       "<div>\n",
       "<style scoped>\n",
       "    .dataframe tbody tr th:only-of-type {\n",
       "        vertical-align: middle;\n",
       "    }\n",
       "\n",
       "    .dataframe tbody tr th {\n",
       "        vertical-align: top;\n",
       "    }\n",
       "\n",
       "    .dataframe thead th {\n",
       "        text-align: right;\n",
       "    }\n",
       "</style>\n",
       "<table border=\"1\" class=\"dataframe\">\n",
       "  <thead>\n",
       "    <tr style=\"text-align: right;\">\n",
       "      <th></th>\n",
       "      <th>Unnamed: 0</th>\n",
       "      <th>topic_word</th>\n",
       "      <th>p_value</th>\n",
       "      <th>complete_w</th>\n",
       "      <th>complete_m</th>\n",
       "      <th>count_complete_w</th>\n",
       "      <th>count_complete_m</th>\n",
       "      <th>significance</th>\n",
       "    </tr>\n",
       "  </thead>\n",
       "  <tbody>\n",
       "    <tr>\n",
       "      <th>248</th>\n",
       "      <td>674</td>\n",
       "      <td>sustenance provision</td>\n",
       "      <td>0.119694</td>\n",
       "      <td>1.183135</td>\n",
       "      <td>0.845212</td>\n",
       "      <td>341</td>\n",
       "      <td>129</td>\n",
       "      <td>False</td>\n",
       "    </tr>\n",
       "  </tbody>\n",
       "</table>\n",
       "</div>"
      ],
      "text/plain": [
       "     Unnamed: 0            topic_word   p_value  complete_w  complete_m  \\\n",
       "248         674  sustenance provision  0.119694    1.183135    0.845212   \n",
       "\n",
       "     count_complete_w  count_complete_m  significance  \n",
       "248               341               129         False  "
      ]
     },
     "metadata": {},
     "output_type": "display_data"
    },
    {
     "data": {
      "text/html": [
       "<div>\n",
       "<style scoped>\n",
       "    .dataframe tbody tr th:only-of-type {\n",
       "        vertical-align: middle;\n",
       "    }\n",
       "\n",
       "    .dataframe tbody tr th {\n",
       "        vertical-align: top;\n",
       "    }\n",
       "\n",
       "    .dataframe thead th {\n",
       "        text-align: right;\n",
       "    }\n",
       "</style>\n",
       "<table border=\"1\" class=\"dataframe\">\n",
       "  <thead>\n",
       "    <tr style=\"text-align: right;\">\n",
       "      <th></th>\n",
       "      <th>Unnamed: 0</th>\n",
       "      <th>topic_word</th>\n",
       "      <th>p_value</th>\n",
       "      <th>complete_w</th>\n",
       "      <th>complete_m</th>\n",
       "      <th>count_complete_w</th>\n",
       "      <th>count_complete_m</th>\n",
       "      <th>significance</th>\n",
       "    </tr>\n",
       "  </thead>\n",
       "  <tbody>\n",
       "    <tr>\n",
       "      <th>639</th>\n",
       "      <td>707</td>\n",
       "      <td>transfer-related aid giving</td>\n",
       "      <td>1.0</td>\n",
       "      <td>0.977817</td>\n",
       "      <td>1.022686</td>\n",
       "      <td>42</td>\n",
       "      <td>19</td>\n",
       "      <td>False</td>\n",
       "    </tr>\n",
       "  </tbody>\n",
       "</table>\n",
       "</div>"
      ],
      "text/plain": [
       "     Unnamed: 0                   topic_word  p_value  complete_w  complete_m  \\\n",
       "639         707  transfer-related aid giving      1.0    0.977817    1.022686   \n",
       "\n",
       "     count_complete_w  count_complete_m  significance  \n",
       "639                42                19         False  "
      ]
     },
     "metadata": {},
     "output_type": "display_data"
    }
   ],
   "source": [
    "for row in feature_map[feature_map.CoverTerm=='aid giving'].iterrows():\n",
    "    label = row[1]['KeywordLabel']\n",
    "    if len(df_fisher_expanded[df_fisher_expanded.topic_word==label])>0:\n",
    "        display(df_fisher_expanded[df_fisher_expanded.topic_word==label])\n",
    "    "
   ]
  },
  {
   "cell_type": "markdown",
   "metadata": {},
   "source": [
    "## Observation 10"
   ]
  },
  {
   "cell_type": "markdown",
   "metadata": {},
   "source": [
    "### Qualitative description:"
   ]
  },
  {
   "cell_type": "markdown",
   "metadata": {},
   "source": [
    "No form of social bond is positively correlated with men; yet, there is no quantitative difference in terms of forced labor companion.\n"
   ]
  },
  {
   "cell_type": "markdown",
   "metadata": {},
   "source": [
    "### Quantitative evidence"
   ]
  },
  {
   "cell_type": "code",
   "execution_count": 25,
   "metadata": {},
   "outputs": [
    {
     "name": "stdout",
     "output_type": "stream",
     "text": [
      "camp social relations\n"
     ]
    },
    {
     "data": {
      "text/html": [
       "<div>\n",
       "<style scoped>\n",
       "    .dataframe tbody tr th:only-of-type {\n",
       "        vertical-align: middle;\n",
       "    }\n",
       "\n",
       "    .dataframe tbody tr th {\n",
       "        vertical-align: top;\n",
       "    }\n",
       "\n",
       "    .dataframe thead th {\n",
       "        text-align: right;\n",
       "    }\n",
       "</style>\n",
       "<table border=\"1\" class=\"dataframe\">\n",
       "  <thead>\n",
       "    <tr style=\"text-align: right;\">\n",
       "      <th></th>\n",
       "      <th>Unnamed: 0</th>\n",
       "      <th>topic_word</th>\n",
       "      <th>p_value</th>\n",
       "      <th>complete_w</th>\n",
       "      <th>complete_m</th>\n",
       "      <th>count_complete_w</th>\n",
       "      <th>count_complete_m</th>\n",
       "      <th>significance</th>\n",
       "    </tr>\n",
       "  </thead>\n",
       "  <tbody>\n",
       "  </tbody>\n",
       "</table>\n",
       "</div>"
      ],
      "text/plain": [
       "Empty DataFrame\n",
       "Columns: [Unnamed: 0, topic_word, p_value, complete_w, complete_m, count_complete_w, count_complete_m, significance]\n",
       "Index: []"
      ]
     },
     "metadata": {},
     "output_type": "display_data"
    },
    {
     "name": "stdout",
     "output_type": "stream",
     "text": [
      "friends\n"
     ]
    },
    {
     "data": {
      "text/html": [
       "<div>\n",
       "<style scoped>\n",
       "    .dataframe tbody tr th:only-of-type {\n",
       "        vertical-align: middle;\n",
       "    }\n",
       "\n",
       "    .dataframe tbody tr th {\n",
       "        vertical-align: top;\n",
       "    }\n",
       "\n",
       "    .dataframe thead th {\n",
       "        text-align: right;\n",
       "    }\n",
       "</style>\n",
       "<table border=\"1\" class=\"dataframe\">\n",
       "  <thead>\n",
       "    <tr style=\"text-align: right;\">\n",
       "      <th></th>\n",
       "      <th>Unnamed: 0</th>\n",
       "      <th>topic_word</th>\n",
       "      <th>p_value</th>\n",
       "      <th>complete_w</th>\n",
       "      <th>complete_m</th>\n",
       "      <th>count_complete_w</th>\n",
       "      <th>count_complete_m</th>\n",
       "      <th>significance</th>\n",
       "    </tr>\n",
       "  </thead>\n",
       "  <tbody>\n",
       "    <tr>\n",
       "      <th>49</th>\n",
       "      <td>385</td>\n",
       "      <td>friends</td>\n",
       "      <td>0.000013</td>\n",
       "      <td>1.795836</td>\n",
       "      <td>0.556844</td>\n",
       "      <td>265</td>\n",
       "      <td>67</td>\n",
       "      <td>True</td>\n",
       "    </tr>\n",
       "  </tbody>\n",
       "</table>\n",
       "</div>"
      ],
      "text/plain": [
       "    Unnamed: 0 topic_word   p_value  complete_w  complete_m  count_complete_w  \\\n",
       "49         385    friends  0.000013    1.795836    0.556844               265   \n",
       "\n",
       "    count_complete_m  significance  \n",
       "49                67          True  "
      ]
     },
     "metadata": {},
     "output_type": "display_data"
    },
    {
     "name": "stdout",
     "output_type": "stream",
     "text": [
      "friendships\n"
     ]
    },
    {
     "data": {
      "text/html": [
       "<div>\n",
       "<style scoped>\n",
       "    .dataframe tbody tr th:only-of-type {\n",
       "        vertical-align: middle;\n",
       "    }\n",
       "\n",
       "    .dataframe tbody tr th {\n",
       "        vertical-align: top;\n",
       "    }\n",
       "\n",
       "    .dataframe thead th {\n",
       "        text-align: right;\n",
       "    }\n",
       "</style>\n",
       "<table border=\"1\" class=\"dataframe\">\n",
       "  <thead>\n",
       "    <tr style=\"text-align: right;\">\n",
       "      <th></th>\n",
       "      <th>Unnamed: 0</th>\n",
       "      <th>topic_word</th>\n",
       "      <th>p_value</th>\n",
       "      <th>complete_w</th>\n",
       "      <th>complete_m</th>\n",
       "      <th>count_complete_w</th>\n",
       "      <th>count_complete_m</th>\n",
       "      <th>significance</th>\n",
       "    </tr>\n",
       "  </thead>\n",
       "  <tbody>\n",
       "  </tbody>\n",
       "</table>\n",
       "</div>"
      ],
      "text/plain": [
       "Empty DataFrame\n",
       "Columns: [Unnamed: 0, topic_word, p_value, complete_w, complete_m, count_complete_w, count_complete_m, significance]\n",
       "Index: []"
      ]
     },
     "metadata": {},
     "output_type": "display_data"
    },
    {
     "name": "stdout",
     "output_type": "stream",
     "text": [
      "inter-prisoner behavioral conduct\n"
     ]
    },
    {
     "data": {
      "text/html": [
       "<div>\n",
       "<style scoped>\n",
       "    .dataframe tbody tr th:only-of-type {\n",
       "        vertical-align: middle;\n",
       "    }\n",
       "\n",
       "    .dataframe tbody tr th {\n",
       "        vertical-align: top;\n",
       "    }\n",
       "\n",
       "    .dataframe thead th {\n",
       "        text-align: right;\n",
       "    }\n",
       "</style>\n",
       "<table border=\"1\" class=\"dataframe\">\n",
       "  <thead>\n",
       "    <tr style=\"text-align: right;\">\n",
       "      <th></th>\n",
       "      <th>Unnamed: 0</th>\n",
       "      <th>topic_word</th>\n",
       "      <th>p_value</th>\n",
       "      <th>complete_w</th>\n",
       "      <th>complete_m</th>\n",
       "      <th>count_complete_w</th>\n",
       "      <th>count_complete_m</th>\n",
       "      <th>significance</th>\n",
       "    </tr>\n",
       "  </thead>\n",
       "  <tbody>\n",
       "    <tr>\n",
       "      <th>182</th>\n",
       "      <td>446</td>\n",
       "      <td>inter-prisoner behavioral conduct</td>\n",
       "      <td>0.04209</td>\n",
       "      <td>0.25217</td>\n",
       "      <td>3.965573</td>\n",
       "      <td>4</td>\n",
       "      <td>7</td>\n",
       "      <td>True</td>\n",
       "    </tr>\n",
       "  </tbody>\n",
       "</table>\n",
       "</div>"
      ],
      "text/plain": [
       "     Unnamed: 0                         topic_word  p_value  complete_w  \\\n",
       "182         446  inter-prisoner behavioral conduct  0.04209     0.25217   \n",
       "\n",
       "     complete_m  count_complete_w  count_complete_m  significance  \n",
       "182    3.965573                 4                 7          True  "
      ]
     },
     "metadata": {},
     "output_type": "display_data"
    },
    {
     "name": "stdout",
     "output_type": "stream",
     "text": [
      "relationships\n"
     ]
    },
    {
     "data": {
      "text/html": [
       "<div>\n",
       "<style scoped>\n",
       "    .dataframe tbody tr th:only-of-type {\n",
       "        vertical-align: middle;\n",
       "    }\n",
       "\n",
       "    .dataframe tbody tr th {\n",
       "        vertical-align: top;\n",
       "    }\n",
       "\n",
       "    .dataframe thead th {\n",
       "        text-align: right;\n",
       "    }\n",
       "</style>\n",
       "<table border=\"1\" class=\"dataframe\">\n",
       "  <thead>\n",
       "    <tr style=\"text-align: right;\">\n",
       "      <th></th>\n",
       "      <th>Unnamed: 0</th>\n",
       "      <th>topic_word</th>\n",
       "      <th>p_value</th>\n",
       "      <th>complete_w</th>\n",
       "      <th>complete_m</th>\n",
       "      <th>count_complete_w</th>\n",
       "      <th>count_complete_m</th>\n",
       "      <th>significance</th>\n",
       "    </tr>\n",
       "  </thead>\n",
       "  <tbody>\n",
       "  </tbody>\n",
       "</table>\n",
       "</div>"
      ],
      "text/plain": [
       "Empty DataFrame\n",
       "Columns: [Unnamed: 0, topic_word, p_value, complete_w, complete_m, count_complete_w, count_complete_m, significance]\n",
       "Index: []"
      ]
     },
     "metadata": {},
     "output_type": "display_data"
    },
    {
     "name": "stdout",
     "output_type": "stream",
     "text": [
      "social relations\n"
     ]
    },
    {
     "data": {
      "text/html": [
       "<div>\n",
       "<style scoped>\n",
       "    .dataframe tbody tr th:only-of-type {\n",
       "        vertical-align: middle;\n",
       "    }\n",
       "\n",
       "    .dataframe tbody tr th {\n",
       "        vertical-align: top;\n",
       "    }\n",
       "\n",
       "    .dataframe thead th {\n",
       "        text-align: right;\n",
       "    }\n",
       "</style>\n",
       "<table border=\"1\" class=\"dataframe\">\n",
       "  <thead>\n",
       "    <tr style=\"text-align: right;\">\n",
       "      <th></th>\n",
       "      <th>Unnamed: 0</th>\n",
       "      <th>topic_word</th>\n",
       "      <th>p_value</th>\n",
       "      <th>complete_w</th>\n",
       "      <th>complete_m</th>\n",
       "      <th>count_complete_w</th>\n",
       "      <th>count_complete_m</th>\n",
       "      <th>significance</th>\n",
       "    </tr>\n",
       "  </thead>\n",
       "  <tbody>\n",
       "    <tr>\n",
       "      <th>127</th>\n",
       "      <td>660</td>\n",
       "      <td>social relations</td>\n",
       "      <td>0.009308</td>\n",
       "      <td>1.223801</td>\n",
       "      <td>0.817127</td>\n",
       "      <td>707</td>\n",
       "      <td>263</td>\n",
       "      <td>True</td>\n",
       "    </tr>\n",
       "  </tbody>\n",
       "</table>\n",
       "</div>"
      ],
      "text/plain": [
       "     Unnamed: 0        topic_word   p_value  complete_w  complete_m  \\\n",
       "127         660  social relations  0.009308    1.223801    0.817127   \n",
       "\n",
       "     count_complete_w  count_complete_m  significance  \n",
       "127               707               263          True  "
      ]
     },
     "metadata": {},
     "output_type": "display_data"
    },
    {
     "name": "stdout",
     "output_type": "stream",
     "text": [
      "transfer social relations\n"
     ]
    },
    {
     "data": {
      "text/html": [
       "<div>\n",
       "<style scoped>\n",
       "    .dataframe tbody tr th:only-of-type {\n",
       "        vertical-align: middle;\n",
       "    }\n",
       "\n",
       "    .dataframe tbody tr th {\n",
       "        vertical-align: top;\n",
       "    }\n",
       "\n",
       "    .dataframe thead th {\n",
       "        text-align: right;\n",
       "    }\n",
       "</style>\n",
       "<table border=\"1\" class=\"dataframe\">\n",
       "  <thead>\n",
       "    <tr style=\"text-align: right;\">\n",
       "      <th></th>\n",
       "      <th>Unnamed: 0</th>\n",
       "      <th>topic_word</th>\n",
       "      <th>p_value</th>\n",
       "      <th>complete_w</th>\n",
       "      <th>complete_m</th>\n",
       "      <th>count_complete_w</th>\n",
       "      <th>count_complete_m</th>\n",
       "      <th>significance</th>\n",
       "    </tr>\n",
       "  </thead>\n",
       "  <tbody>\n",
       "    <tr>\n",
       "      <th>444</th>\n",
       "      <td>702</td>\n",
       "      <td>transfer social relations</td>\n",
       "      <td>0.494992</td>\n",
       "      <td>1.50616</td>\n",
       "      <td>0.66394</td>\n",
       "      <td>17</td>\n",
       "      <td>5</td>\n",
       "      <td>False</td>\n",
       "    </tr>\n",
       "  </tbody>\n",
       "</table>\n",
       "</div>"
      ],
      "text/plain": [
       "     Unnamed: 0                 topic_word   p_value  complete_w  complete_m  \\\n",
       "444         702  transfer social relations  0.494992     1.50616     0.66394   \n",
       "\n",
       "     count_complete_w  count_complete_m  significance  \n",
       "444                17                 5         False  "
      ]
     },
     "metadata": {},
     "output_type": "display_data"
    }
   ],
   "source": [
    "for row in feature_map[feature_map.CoverTerm=='social bonds'].iterrows():\n",
    "    label = row[1]['KeywordLabel']\n",
    "    print (label)\n",
    "    if len(df_fisher_expanded[df_fisher_expanded.topic_word==label])>=0:\n",
    "        display(df_fisher_expanded[df_fisher_expanded.topic_word==label])\n",
    "    else:\n",
    "        display(df_fisher_expanded['camp '+df_fisher_expanded.topic_word==label])"
   ]
  },
  {
   "cell_type": "code",
   "execution_count": 26,
   "metadata": {},
   "outputs": [
    {
     "data": {
      "text/html": [
       "<div>\n",
       "<style scoped>\n",
       "    .dataframe tbody tr th:only-of-type {\n",
       "        vertical-align: middle;\n",
       "    }\n",
       "\n",
       "    .dataframe tbody tr th {\n",
       "        vertical-align: top;\n",
       "    }\n",
       "\n",
       "    .dataframe thead th {\n",
       "        text-align: right;\n",
       "    }\n",
       "</style>\n",
       "<table border=\"1\" class=\"dataframe\">\n",
       "  <thead>\n",
       "    <tr style=\"text-align: right;\">\n",
       "      <th></th>\n",
       "      <th>Unnamed: 0</th>\n",
       "      <th>topic_word</th>\n",
       "      <th>p_value</th>\n",
       "      <th>complete_w</th>\n",
       "      <th>complete_m</th>\n",
       "      <th>count_complete_w</th>\n",
       "      <th>count_complete_m</th>\n",
       "      <th>significance</th>\n",
       "    </tr>\n",
       "  </thead>\n",
       "  <tbody>\n",
       "    <tr>\n",
       "      <th>418</th>\n",
       "      <td>358</td>\n",
       "      <td>forced labor companies</td>\n",
       "      <td>0.442617</td>\n",
       "      <td>0.736248</td>\n",
       "      <td>1.358238</td>\n",
       "      <td>20</td>\n",
       "      <td>12</td>\n",
       "      <td>False</td>\n",
       "    </tr>\n",
       "  </tbody>\n",
       "</table>\n",
       "</div>"
      ],
      "text/plain": [
       "     Unnamed: 0              topic_word   p_value  complete_w  complete_m  \\\n",
       "418         358  forced labor companies  0.442617    0.736248    1.358238   \n",
       "\n",
       "     count_complete_w  count_complete_m  significance  \n",
       "418                20                12         False  "
      ]
     },
     "metadata": {},
     "output_type": "display_data"
    }
   ],
   "source": [
    "display(df_fisher_expanded[df_fisher_expanded.topic_word=='forced labor companies'])"
   ]
  },
  {
   "cell_type": "markdown",
   "metadata": {},
   "source": [
    "## Observation 11"
   ]
  },
  {
   "cell_type": "markdown",
   "metadata": {},
   "source": [
    "### Qualitative description:"
   ]
  },
  {
   "cell_type": "markdown",
   "metadata": {},
   "source": [
    "Women and men are equally likely to discuss warning."
   ]
  },
  {
   "cell_type": "markdown",
   "metadata": {},
   "source": [
    "### Quantitative evidence"
   ]
  },
  {
   "cell_type": "markdown",
   "metadata": {},
   "source": [
    "![title](output/markov_modelling/bootstrap/complete_m_complete_w/warnings.png)"
   ]
  },
  {
   "cell_type": "code",
   "execution_count": 27,
   "metadata": {},
   "outputs": [
    {
     "data": {
      "text/html": [
       "<div>\n",
       "<style scoped>\n",
       "    .dataframe tbody tr th:only-of-type {\n",
       "        vertical-align: middle;\n",
       "    }\n",
       "\n",
       "    .dataframe tbody tr th {\n",
       "        vertical-align: top;\n",
       "    }\n",
       "\n",
       "    .dataframe thead th {\n",
       "        text-align: right;\n",
       "    }\n",
       "</style>\n",
       "<table border=\"1\" class=\"dataframe\">\n",
       "  <thead>\n",
       "    <tr style=\"text-align: right;\">\n",
       "      <th></th>\n",
       "      <th>Unnamed: 0</th>\n",
       "      <th>topic_word</th>\n",
       "      <th>p_value</th>\n",
       "      <th>complete_w</th>\n",
       "      <th>complete_m</th>\n",
       "      <th>count_complete_w</th>\n",
       "      <th>count_complete_m</th>\n",
       "      <th>significance</th>\n",
       "    </tr>\n",
       "  </thead>\n",
       "  <tbody>\n",
       "    <tr>\n",
       "      <th>65</th>\n",
       "      <td>102</td>\n",
       "      <td>warnings</td>\n",
       "      <td>0.195548</td>\n",
       "      <td>1.150767</td>\n",
       "      <td>0.868985</td>\n",
       "      <td>340</td>\n",
       "      <td>132</td>\n",
       "      <td>False</td>\n",
       "    </tr>\n",
       "  </tbody>\n",
       "</table>\n",
       "</div>"
      ],
      "text/plain": [
       "    Unnamed: 0 topic_word   p_value  complete_w  complete_m  count_complete_w  \\\n",
       "65         102   warnings  0.195548    1.150767    0.868985               340   \n",
       "\n",
       "    count_complete_m  significance  \n",
       "65               132         False  "
      ]
     },
     "metadata": {},
     "output_type": "display_data"
    }
   ],
   "source": [
    "display (df_fisher[df_fisher.topic_word==\"warnings\"])"
   ]
  },
  {
   "cell_type": "markdown",
   "metadata": {},
   "source": [
    "## Visualization"
   ]
  },
  {
   "cell_type": "code",
   "execution_count": 103,
   "metadata": {},
   "outputs": [
    {
     "data": {
      "image/png": "[encoded data removed]",
      "text/plain": [
       "<Figure size 1800x1728 with 1 Axes>"
      ]
     },
     "metadata": {},
     "output_type": "display_data"
    }
   ],
   "source": [
    "relevant_terms = [\"food sharing\",\"friends\",\"social relations\",\"aid giving\",\"clothing provision\",\"rumors\",\"cultural activities\",\"metaphysical experiences\",\"humiliation\",\"suicides\",\"punishments\",\"sexual activities\",\"physical conditions\",]\n",
    "#relevant_terms = [\"social bonds\",\"aid giving\",\"rumors\",\"camp cultural activities\",\"living conditions\",\"separation\"]\n",
    "plot_table = df_fisher_expanded[df_fisher_expanded.topic_word.isin(relevant_terms)][['topic_word','complete_w','complete_m']]\n",
    "#plot_table = df_fisher[(df_fisher.complete_w>1)&(df_fisher.significance==True)][['topic_word','complete_w','complete_m']]\n",
    "\n",
    "plot_table = plot_table.rename(columns={\"complete_w\": \"women\", \"complete_m\": \"men\"})\n",
    "\n",
    "plot_table = pd.melt(plot_table, id_vars=['topic_word'], value_vars=['women','men'])\n",
    "\n",
    "plot_table = plot_table.rename(columns={\"variable\": \"Gender\"})\n",
    "\n",
    "import seaborn as sns\n",
    "import matplotlib.pyplot as plt\n",
    "\n",
    "palette ={\"women\": \"#ff7f0e\", \"men\": \"#1f77b4\"}\n",
    "sns.set(font_scale=2) \n",
    "plt.figure(figsize=(25, 24))\n",
    "chart = sns.barplot(x=\"topic_word\", \n",
    "            y=\"value\", \n",
    "            hue=\"Gender\", \n",
    "            data=plot_table,palette=palette)\n",
    "\n",
    "\n",
    "\n",
    "chart.axhline(1,linestyle=\"--\",linewidth=6,c='black')\n",
    "plt.ylabel(\"Strength of association\", size=28)\n",
    "plt.xlabel(\"Topic words\", size=28)\n",
    "\n",
    "plt.setp(chart.get_legend().get_texts(), fontsize='32') # for legend text\n",
    "plt.setp(chart.get_legend().get_title(), fontsize='40')\n",
    "#plt.bar(range(len(plot_table)), plot_table.topic_word.to_list(), align='edge', width=0.3)\n",
    "#plt.yscale(\"log\")\n",
    "chart = chart.set_xticklabels(chart.get_xticklabels(), rotation=45,fontsize=18)\n",
    "plt.savefig(\"Figure_2.png\")"
   ]
  },
  {
   "cell_type": "code",
   "execution_count": null,
   "metadata": {},
   "outputs": [],
   "source": [
    "relevant_terms =[\"uniforms\",\"Sonderkommando prisoners\",\"age deceptions\",\"escape attempts\",\"hangings\",\"executions\",\"beatings\",\"forced labor\",\"covert activities\"]"
   ]
  },
  {
   "cell_type": "code",
   "execution_count": 99,
   "metadata": {},
   "outputs": [
    {
     "data": {
      "text/html": [
       "<div>\n",
       "<style scoped>\n",
       "    .dataframe tbody tr th:only-of-type {\n",
       "        vertical-align: middle;\n",
       "    }\n",
       "\n",
       "    .dataframe tbody tr th {\n",
       "        vertical-align: top;\n",
       "    }\n",
       "\n",
       "    .dataframe thead th {\n",
       "        text-align: right;\n",
       "    }\n",
       "</style>\n",
       "<table border=\"1\" class=\"dataframe\">\n",
       "  <thead>\n",
       "    <tr style=\"text-align: right;\">\n",
       "      <th></th>\n",
       "      <th>Unnamed: 0</th>\n",
       "      <th>topic_word</th>\n",
       "      <th>p_value</th>\n",
       "      <th>complete_w</th>\n",
       "      <th>complete_m</th>\n",
       "      <th>count_complete_w</th>\n",
       "      <th>count_complete_m</th>\n",
       "      <th>significance</th>\n",
       "    </tr>\n",
       "  </thead>\n",
       "  <tbody>\n",
       "    <tr>\n",
       "      <th>148</th>\n",
       "      <td>111</td>\n",
       "      <td>Polish civilian laborers</td>\n",
       "      <td>0.016807</td>\n",
       "      <td>0.308653</td>\n",
       "      <td>3.239884</td>\n",
       "      <td>7</td>\n",
       "      <td>10</td>\n",
       "      <td>True</td>\n",
       "    </tr>\n",
       "    <tr>\n",
       "      <th>151</th>\n",
       "      <td>368</td>\n",
       "      <td>forced march deaths</td>\n",
       "      <td>0.017498</td>\n",
       "      <td>0.412868</td>\n",
       "      <td>2.422079</td>\n",
       "      <td>15</td>\n",
       "      <td>16</td>\n",
       "      <td>True</td>\n",
       "    </tr>\n",
       "    <tr>\n",
       "      <th>153</th>\n",
       "      <td>479</td>\n",
       "      <td>mass execution coverups</td>\n",
       "      <td>0.020052</td>\n",
       "      <td>0.367321</td>\n",
       "      <td>2.722415</td>\n",
       "      <td>10</td>\n",
       "      <td>12</td>\n",
       "      <td>True</td>\n",
       "    </tr>\n",
       "    <tr>\n",
       "      <th>154</th>\n",
       "      <td>62</td>\n",
       "      <td>Holocaust education</td>\n",
       "      <td>0.021698</td>\n",
       "      <td>0.294036</td>\n",
       "      <td>3.400939</td>\n",
       "      <td>6</td>\n",
       "      <td>9</td>\n",
       "      <td>True</td>\n",
       "    </tr>\n",
       "    <tr>\n",
       "      <th>155</th>\n",
       "      <td>438</td>\n",
       "      <td>identity concealment</td>\n",
       "      <td>0.022024</td>\n",
       "      <td>0.463388</td>\n",
       "      <td>2.158019</td>\n",
       "      <td>20</td>\n",
       "      <td>19</td>\n",
       "      <td>True</td>\n",
       "    </tr>\n",
       "    <tr>\n",
       "      <th>156</th>\n",
       "      <td>54</td>\n",
       "      <td>German prisoners</td>\n",
       "      <td>0.022378</td>\n",
       "      <td>0.513211</td>\n",
       "      <td>1.948517</td>\n",
       "      <td>28</td>\n",
       "      <td>24</td>\n",
       "      <td>True</td>\n",
       "    </tr>\n",
       "    <tr>\n",
       "      <th>157</th>\n",
       "      <td>89</td>\n",
       "      <td>Jewish religious holidays</td>\n",
       "      <td>0.022378</td>\n",
       "      <td>0.513211</td>\n",
       "      <td>1.948517</td>\n",
       "      <td>28</td>\n",
       "      <td>24</td>\n",
       "      <td>True</td>\n",
       "    </tr>\n",
       "    <tr>\n",
       "      <th>158</th>\n",
       "      <td>283</td>\n",
       "      <td>escape discussions</td>\n",
       "      <td>0.024097</td>\n",
       "      <td>0.411147</td>\n",
       "      <td>2.432217</td>\n",
       "      <td>14</td>\n",
       "      <td>15</td>\n",
       "      <td>True</td>\n",
       "    </tr>\n",
       "    <tr>\n",
       "      <th>159</th>\n",
       "      <td>179</td>\n",
       "      <td>body searches</td>\n",
       "      <td>0.025154</td>\n",
       "      <td>0.486664</td>\n",
       "      <td>2.054807</td>\n",
       "      <td>21</td>\n",
       "      <td>19</td>\n",
       "      <td>True</td>\n",
       "    </tr>\n",
       "    <tr>\n",
       "      <th>163</th>\n",
       "      <td>97</td>\n",
       "      <td>Jewish soldiers</td>\n",
       "      <td>0.028154</td>\n",
       "      <td>0.220710</td>\n",
       "      <td>4.530834</td>\n",
       "      <td>3</td>\n",
       "      <td>6</td>\n",
       "      <td>True</td>\n",
       "    </tr>\n",
       "    <tr>\n",
       "      <th>164</th>\n",
       "      <td>720</td>\n",
       "      <td>vocational training</td>\n",
       "      <td>0.028828</td>\n",
       "      <td>0.000000</td>\n",
       "      <td>inf</td>\n",
       "      <td>0</td>\n",
       "      <td>3</td>\n",
       "      <td>True</td>\n",
       "    </tr>\n",
       "    <tr>\n",
       "      <th>166</th>\n",
       "      <td>634</td>\n",
       "      <td>resistance fighters</td>\n",
       "      <td>0.029307</td>\n",
       "      <td>0.275735</td>\n",
       "      <td>3.626667</td>\n",
       "      <td>5</td>\n",
       "      <td>8</td>\n",
       "      <td>True</td>\n",
       "    </tr>\n",
       "    <tr>\n",
       "      <th>167</th>\n",
       "      <td>546</td>\n",
       "      <td>political prisoners</td>\n",
       "      <td>0.030296</td>\n",
       "      <td>0.602620</td>\n",
       "      <td>1.659420</td>\n",
       "      <td>48</td>\n",
       "      <td>35</td>\n",
       "      <td>True</td>\n",
       "    </tr>\n",
       "    <tr>\n",
       "      <th>171</th>\n",
       "      <td>21</td>\n",
       "      <td>Austrian kapos</td>\n",
       "      <td>0.031627</td>\n",
       "      <td>0.176617</td>\n",
       "      <td>5.661982</td>\n",
       "      <td>2</td>\n",
       "      <td>5</td>\n",
       "      <td>True</td>\n",
       "    </tr>\n",
       "    <tr>\n",
       "      <th>174</th>\n",
       "      <td>635</td>\n",
       "      <td>resistance groups</td>\n",
       "      <td>0.033344</td>\n",
       "      <td>0.110416</td>\n",
       "      <td>9.056678</td>\n",
       "      <td>1</td>\n",
       "      <td>4</td>\n",
       "      <td>True</td>\n",
       "    </tr>\n",
       "    <tr>\n",
       "      <th>176</th>\n",
       "      <td>182</td>\n",
       "      <td>brothers</td>\n",
       "      <td>0.035466</td>\n",
       "      <td>0.675015</td>\n",
       "      <td>1.481449</td>\n",
       "      <td>80</td>\n",
       "      <td>52</td>\n",
       "      <td>True</td>\n",
       "    </tr>\n",
       "    <tr>\n",
       "      <th>179</th>\n",
       "      <td>162</td>\n",
       "      <td>antisemitism</td>\n",
       "      <td>0.038527</td>\n",
       "      <td>0.404141</td>\n",
       "      <td>2.474383</td>\n",
       "      <td>11</td>\n",
       "      <td>12</td>\n",
       "      <td>True</td>\n",
       "    </tr>\n",
       "    <tr>\n",
       "      <th>180</th>\n",
       "      <td>681</td>\n",
       "      <td>transfer adaptation methods</td>\n",
       "      <td>0.039987</td>\n",
       "      <td>0.545206</td>\n",
       "      <td>1.834168</td>\n",
       "      <td>26</td>\n",
       "      <td>21</td>\n",
       "      <td>True</td>\n",
       "    </tr>\n",
       "    <tr>\n",
       "      <th>182</th>\n",
       "      <td>446</td>\n",
       "      <td>inter-prisoner behavioral conduct</td>\n",
       "      <td>0.042090</td>\n",
       "      <td>0.252170</td>\n",
       "      <td>3.965573</td>\n",
       "      <td>4</td>\n",
       "      <td>7</td>\n",
       "      <td>True</td>\n",
       "    </tr>\n",
       "    <tr>\n",
       "      <th>183</th>\n",
       "      <td>334</td>\n",
       "      <td>famous writers and publishers</td>\n",
       "      <td>0.042090</td>\n",
       "      <td>0.252170</td>\n",
       "      <td>3.965573</td>\n",
       "      <td>4</td>\n",
       "      <td>7</td>\n",
       "      <td>True</td>\n",
       "    </tr>\n",
       "    <tr>\n",
       "      <th>185</th>\n",
       "      <td>79</td>\n",
       "      <td>Jewish identity</td>\n",
       "      <td>0.044255</td>\n",
       "      <td>0.492390</td>\n",
       "      <td>2.030911</td>\n",
       "      <td>19</td>\n",
       "      <td>17</td>\n",
       "      <td>True</td>\n",
       "    </tr>\n",
       "    <tr>\n",
       "      <th>186</th>\n",
       "      <td>269</td>\n",
       "      <td>dwarf prisoners</td>\n",
       "      <td>0.046420</td>\n",
       "      <td>0.397013</td>\n",
       "      <td>2.518811</td>\n",
       "      <td>9</td>\n",
       "      <td>10</td>\n",
       "      <td>True</td>\n",
       "    </tr>\n",
       "  </tbody>\n",
       "</table>\n",
       "</div>"
      ],
      "text/plain": [
       "     Unnamed: 0                         topic_word   p_value  complete_w  \\\n",
       "148         111           Polish civilian laborers  0.016807    0.308653   \n",
       "151         368                forced march deaths  0.017498    0.412868   \n",
       "153         479            mass execution coverups  0.020052    0.367321   \n",
       "154          62                Holocaust education  0.021698    0.294036   \n",
       "155         438               identity concealment  0.022024    0.463388   \n",
       "156          54                   German prisoners  0.022378    0.513211   \n",
       "157          89          Jewish religious holidays  0.022378    0.513211   \n",
       "158         283                 escape discussions  0.024097    0.411147   \n",
       "159         179                      body searches  0.025154    0.486664   \n",
       "163          97                    Jewish soldiers  0.028154    0.220710   \n",
       "164         720                vocational training  0.028828    0.000000   \n",
       "166         634                resistance fighters  0.029307    0.275735   \n",
       "167         546                political prisoners  0.030296    0.602620   \n",
       "171          21                     Austrian kapos  0.031627    0.176617   \n",
       "174         635                  resistance groups  0.033344    0.110416   \n",
       "176         182                           brothers  0.035466    0.675015   \n",
       "179         162                       antisemitism  0.038527    0.404141   \n",
       "180         681        transfer adaptation methods  0.039987    0.545206   \n",
       "182         446  inter-prisoner behavioral conduct  0.042090    0.252170   \n",
       "183         334      famous writers and publishers  0.042090    0.252170   \n",
       "185          79                    Jewish identity  0.044255    0.492390   \n",
       "186         269                    dwarf prisoners  0.046420    0.397013   \n",
       "\n",
       "     complete_m  count_complete_w  count_complete_m  significance  \n",
       "148    3.239884                 7                10          True  \n",
       "151    2.422079                15                16          True  \n",
       "153    2.722415                10                12          True  \n",
       "154    3.400939                 6                 9          True  \n",
       "155    2.158019                20                19          True  \n",
       "156    1.948517                28                24          True  \n",
       "157    1.948517                28                24          True  \n",
       "158    2.432217                14                15          True  \n",
       "159    2.054807                21                19          True  \n",
       "163    4.530834                 3                 6          True  \n",
       "164         inf                 0                 3          True  \n",
       "166    3.626667                 5                 8          True  \n",
       "167    1.659420                48                35          True  \n",
       "171    5.661982                 2                 5          True  \n",
       "174    9.056678                 1                 4          True  \n",
       "176    1.481449                80                52          True  \n",
       "179    2.474383                11                12          True  \n",
       "180    1.834168                26                21          True  \n",
       "182    3.965573                 4                 7          True  \n",
       "183    3.965573                 4                 7          True  \n",
       "185    2.030911                19                17          True  \n",
       "186    2.518811                 9                10          True  "
      ]
     },
     "execution_count": 99,
     "metadata": {},
     "output_type": "execute_result"
    }
   ],
   "source": [
    "df_fisher_expanded[(df_fisher_expanded.complete_m>1)&(df_fisher_expanded.p_value<0.05)][75:150]"
   ]
  },
  {
   "cell_type": "code",
   "execution_count": 111,
   "metadata": {},
   "outputs": [
    {
     "data": {
      "image/png": "[encoded data removed]",
      "text/plain": [
       "<Figure size 1800x1728 with 1 Axes>"
      ]
     },
     "metadata": {},
     "output_type": "display_data"
    }
   ],
   "source": [
    "#relevant_terms = [\"black market activities\",\"covert economic activities\",\"bribery\",\"smuggling\",\"resistance activities\",\"hangings\",\"covert activities\"]\n",
    "relevant_terms = [\"bribery\",\"covert activities\",\"resistance\",\"killings\",\"uniforms\",\"Sonderkommando prisoners\",\"age deceptions\",\"escape attempts\",\"hangings\",\"executions\",\"beatings\",\"forced labor\",\"covert activities\"]\n",
    "\n",
    "plot_table = df_fisher_expanded[df_fisher_expanded.topic_word.isin(relevant_terms)][['topic_word','complete_w','complete_m']]\n",
    "\n",
    "plot_table = plot_table.rename(columns={\"complete_w\": \"women\", \"complete_m\": \"men\"})\n",
    "\n",
    "plot_table = pd.melt(plot_table, id_vars=['topic_word'], value_vars=['women','men'])\n",
    "\n",
    "plot_table = plot_table.rename(columns={\"variable\": \"Gender\"})\n",
    "\n",
    "\n",
    "\n",
    "import seaborn as sns\n",
    "import matplotlib.pyplot as plt\n",
    "sns.set(font_scale=2) \n",
    "plt.figure(figsize=(25, 24))\n",
    "chart = sns.barplot(x=\"topic_word\", \n",
    "            y=\"value\", \n",
    "            hue=\"Gender\", \n",
    "            data=plot_table,palette=palette)\n",
    "plt.ylabel(\"Strength of association\", size=28)\n",
    "plt.xlabel(\"Topic words\", size=28)\n",
    "chart.axhline(1,linestyle=\"--\",linewidth=6)\n",
    "plt.setp(chart.get_legend().get_texts(), fontsize='28') # for legend text\n",
    "plt.setp(chart.get_legend().get_title(), fontsize='40')\n",
    "chart = chart.set_xticklabels(chart.get_xticklabels(), rotation=45,fontsize=20)\n",
    "\n"
   ]
  },
  {
   "cell_type": "code",
   "execution_count": 102,
   "metadata": {},
   "outputs": [
    {
     "data": {
      "text/plain": [
       "12"
      ]
     },
     "execution_count": 102,
     "metadata": {},
     "output_type": "execute_result"
    }
   ],
   "source": [
    "len(relevant_terms)"
   ]
  },
  {
   "cell_type": "markdown",
   "metadata": {},
   "source": [
    "## Interpretation"
   ]
  },
  {
   "cell_type": "markdown",
   "metadata": {},
   "source": [
    "The probabilities that we hear women recalling memories of solidarity and sociability are higher than the probabilities that we hear men discussing these topics. The measuring of the strength of association between these topics and gender produced the similar result. Topics of solidarity and sociability are significantly more associated with women than with men.\n",
    "\n",
    "Interestingly, topics expressing more intimate forms of solidarity and sociability (food sharing and friendship) are also more likely to be mentioned by women and men. The probability that we hear a woman discussing friendship when recalling her stay in Birkenau is by 73% higher. The probability that we hear a woman discussing food sharing when recalling her stay in Birkenau is by 30% higher. The measurement of strength of association between gender and these topics also brought about similar results.\n",
    "\n",
    "All this suggests that acts of solidarity and social interactions were more likely to take place among women than among men in Birkenau. Specifically, more intimate forms of sociability and solidarity were more likely among women than among men."
   ]
  },
  {
   "cell_type": "code",
   "execution_count": null,
   "metadata": {},
   "outputs": [],
   "source": []
  }
 ],
 "metadata": {
  "kernelspec": {
   "display_name": "Python 3",
   "language": "python",
   "name": "python3"
  },
  "language_info": {
   "codemirror_mode": {
    "name": "ipython",
    "version": 3
   },
   "file_extension": ".py",
   "mimetype": "text/x-python",
   "name": "python",
   "nbconvert_exporter": "python",
   "pygments_lexer": "ipython3",
   "version": "3.7.2"
  }
 },
 "nbformat": 4,
 "nbformat_minor": 2
}

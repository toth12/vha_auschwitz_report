{
 "cells": [
  {
   "cell_type": "code",
   "execution_count": 261,
   "metadata": {},
   "outputs": [],
   "source": [
    "import constants\n",
    "import pandas as pd\n",
    "import os\n",
    "from IPython.display import display\n",
    "\n",
    "input_directory = constants.output_data_markov_modelling\n",
    "\n",
    "path = os.getcwd()\n",
    "parent = os.path.abspath(os.path.join(path, os.pardir))\n",
    "input_directory = parent +'/'+ constants.output_data_markov_modelling"
   ]
  },
  {
   "cell_type": "markdown",
   "metadata": {},
   "source": [
    "# Load the relevant datasets"
   ]
  },
  {
   "cell_type": "code",
   "execution_count": 262,
   "metadata": {},
   "outputs": [],
   "source": [
    "p_women = pd.read_csv(input_directory+'complete_w'+'/'+'stationary_probs.csv')"
   ]
  },
  {
   "cell_type": "code",
   "execution_count": 263,
   "metadata": {},
   "outputs": [],
   "source": [
    "p_men = pd.read_csv(input_directory+'/'+'complete_m'+'/'+'stationary_probs.csv')"
   ]
  },
  {
   "cell_type": "code",
   "execution_count": 264,
   "metadata": {},
   "outputs": [],
   "source": [
    "p_complete = pd.read_csv(input_directory+'/'+'complete'+'/'+'stationary_probs.csv')"
   ]
  },
  {
   "cell_type": "code",
   "execution_count": 265,
   "metadata": {},
   "outputs": [],
   "source": [
    "input_directory = parent +'/'+ constants.output_data_report_statistical_analysis\n",
    "input_file = 'strength_of_association_men_women_odds_ratio.csv'\n",
    "df_fisher = pd.read_csv(input_directory+input_file)"
   ]
  },
  {
   "cell_type": "markdown",
   "metadata": {},
   "source": [
    "# Read the stationary probabilities of __friend__"
   ]
  },
  {
   "cell_type": "code",
   "execution_count": 266,
   "metadata": {},
   "outputs": [],
   "source": [
    "topic=\"friends\""
   ]
  },
  {
   "cell_type": "code",
   "execution_count": 267,
   "metadata": {},
   "outputs": [],
   "source": [
    "topic_m = p_men[p_men.topic_name==topic]['stationary_prob'].values[0]"
   ]
  },
  {
   "cell_type": "code",
   "execution_count": 268,
   "metadata": {},
   "outputs": [],
   "source": [
    "topic_w = p_women[p_women.topic_name==topic]['stationary_prob'].values[0]"
   ]
  },
  {
   "cell_type": "code",
   "execution_count": 269,
   "metadata": {},
   "outputs": [
    {
     "name": "stdout",
     "output_type": "stream",
     "text": [
      "0.0042074702760114885\n",
      "0.002475679968924695\n"
     ]
    }
   ],
   "source": [
    "print (topic_w)\n",
    "print (topic_m)"
   ]
  },
  {
   "cell_type": "markdown",
   "metadata": {},
   "source": [
    "# Calculate how many times women more likely to discuss friends"
   ]
  },
  {
   "cell_type": "code",
   "execution_count": 270,
   "metadata": {},
   "outputs": [
    {
     "name": "stdout",
     "output_type": "stream",
     "text": [
      "1.699521072523357\n"
     ]
    }
   ],
   "source": [
    "print (topic_w/topic_m)"
   ]
  },
  {
   "cell_type": "markdown",
   "metadata": {},
   "source": [
    "# Show that this is statistically significant"
   ]
  },
  {
   "cell_type": "markdown",
   "metadata": {},
   "source": [
    "![title](output/markov_modelling/bootstrap/complete_m_complete_w/friends.png)"
   ]
  },
  {
   "cell_type": "markdown",
   "metadata": {},
   "source": [
    "# Load the results of Fisher test and odds ratio analysis"
   ]
  },
  {
   "cell_type": "code",
   "execution_count": 271,
   "metadata": {},
   "outputs": [
    {
     "data": {
      "text/html": [
       "<div>\n",
       "<style scoped>\n",
       "    .dataframe tbody tr th:only-of-type {\n",
       "        vertical-align: middle;\n",
       "    }\n",
       "\n",
       "    .dataframe tbody tr th {\n",
       "        vertical-align: top;\n",
       "    }\n",
       "\n",
       "    .dataframe thead th {\n",
       "        text-align: right;\n",
       "    }\n",
       "</style>\n",
       "<table border=\"1\" class=\"dataframe\">\n",
       "  <thead>\n",
       "    <tr style=\"text-align: right;\">\n",
       "      <th></th>\n",
       "      <th>Unnamed: 0</th>\n",
       "      <th>topic_word</th>\n",
       "      <th>p_value</th>\n",
       "      <th>women</th>\n",
       "      <th>men</th>\n",
       "      <th>count_w</th>\n",
       "      <th>count_m</th>\n",
       "      <th>significance_Bonferroni_corrected</th>\n",
       "      <th>significance</th>\n",
       "    </tr>\n",
       "  </thead>\n",
       "  <tbody>\n",
       "    <tr>\n",
       "      <th>18</th>\n",
       "      <td>53</td>\n",
       "      <td>friends</td>\n",
       "      <td>0.000013</td>\n",
       "      <td>1.795836</td>\n",
       "      <td>0.556844</td>\n",
       "      <td>265</td>\n",
       "      <td>67</td>\n",
       "      <td>True</td>\n",
       "      <td>True</td>\n",
       "    </tr>\n",
       "  </tbody>\n",
       "</table>\n",
       "</div>"
      ],
      "text/plain": [
       "    Unnamed: 0 topic_word   p_value     women       men  count_w  count_m  \\\n",
       "18          53    friends  0.000013  1.795836  0.556844      265       67   \n",
       "\n",
       "    significance_Bonferroni_corrected  significance  \n",
       "18                               True          True  "
      ]
     },
     "metadata": {},
     "output_type": "display_data"
    }
   ],
   "source": [
    "display (df_fisher[df_fisher.topic_word==topic])"
   ]
  },
  {
   "cell_type": "markdown",
   "metadata": {},
   "source": [
    "# Read the stationary probabilities of __social bonds__"
   ]
  },
  {
   "cell_type": "code",
   "execution_count": 272,
   "metadata": {},
   "outputs": [],
   "source": [
    "topic=\"social bonds\""
   ]
  },
  {
   "cell_type": "code",
   "execution_count": 273,
   "metadata": {},
   "outputs": [],
   "source": [
    "topic_m = p_men[p_men.topic_name==topic]['stationary_prob'].values[0]"
   ]
  },
  {
   "cell_type": "code",
   "execution_count": 274,
   "metadata": {},
   "outputs": [],
   "source": [
    "topic_w = p_women[p_women.topic_name==topic]['stationary_prob'].values[0]"
   ]
  },
  {
   "cell_type": "code",
   "execution_count": 275,
   "metadata": {},
   "outputs": [
    {
     "name": "stdout",
     "output_type": "stream",
     "text": [
      "0.013098760433497614\n",
      "0.01270872709421628\n"
     ]
    }
   ],
   "source": [
    "print (topic_w)\n",
    "print (topic_m)"
   ]
  },
  {
   "cell_type": "markdown",
   "metadata": {},
   "source": [
    "# Calculate how many times women more likely to discuss social bonds"
   ]
  },
  {
   "cell_type": "code",
   "execution_count": 276,
   "metadata": {},
   "outputs": [
    {
     "name": "stdout",
     "output_type": "stream",
     "text": [
      "1.0306901970897493\n"
     ]
    }
   ],
   "source": [
    "print (topic_w/topic_m)"
   ]
  },
  {
   "cell_type": "markdown",
   "metadata": {},
   "source": [
    "# Show that this is statistically significant"
   ]
  },
  {
   "cell_type": "markdown",
   "metadata": {},
   "source": [
    "![title](output/markov_modelling/bootstrap/complete_m_complete_w/social%20bonds.png)"
   ]
  },
  {
   "cell_type": "markdown",
   "metadata": {},
   "source": [
    "# Load the results of Fisher test and odds ratio analysis"
   ]
  },
  {
   "cell_type": "code",
   "execution_count": 277,
   "metadata": {},
   "outputs": [
    {
     "data": {
      "text/html": [
       "<div>\n",
       "<style scoped>\n",
       "    .dataframe tbody tr th:only-of-type {\n",
       "        vertical-align: middle;\n",
       "    }\n",
       "\n",
       "    .dataframe tbody tr th {\n",
       "        vertical-align: top;\n",
       "    }\n",
       "\n",
       "    .dataframe thead th {\n",
       "        text-align: right;\n",
       "    }\n",
       "</style>\n",
       "<table border=\"1\" class=\"dataframe\">\n",
       "  <thead>\n",
       "    <tr style=\"text-align: right;\">\n",
       "      <th></th>\n",
       "      <th>Unnamed: 0</th>\n",
       "      <th>topic_word</th>\n",
       "      <th>p_value</th>\n",
       "      <th>women</th>\n",
       "      <th>men</th>\n",
       "      <th>count_w</th>\n",
       "      <th>count_m</th>\n",
       "      <th>significance_Bonferroni_corrected</th>\n",
       "      <th>significance</th>\n",
       "    </tr>\n",
       "  </thead>\n",
       "  <tbody>\n",
       "    <tr>\n",
       "      <th>37</th>\n",
       "      <td>99</td>\n",
       "      <td>social bonds</td>\n",
       "      <td>0.01216</td>\n",
       "      <td>1.212433</td>\n",
       "      <td>0.824788</td>\n",
       "      <td>717</td>\n",
       "      <td>269</td>\n",
       "      <td>False</td>\n",
       "      <td>True</td>\n",
       "    </tr>\n",
       "  </tbody>\n",
       "</table>\n",
       "</div>"
      ],
      "text/plain": [
       "    Unnamed: 0    topic_word  p_value     women       men  count_w  count_m  \\\n",
       "37          99  social bonds  0.01216  1.212433  0.824788      717      269   \n",
       "\n",
       "    significance_Bonferroni_corrected  significance  \n",
       "37                              False          True  "
      ]
     },
     "metadata": {},
     "output_type": "display_data"
    }
   ],
   "source": [
    "display (df_fisher[df_fisher.topic_word==topic])"
   ]
  },
  {
   "cell_type": "markdown",
   "metadata": {},
   "source": [
    "# Read the stationary probabilities of __aid giving__"
   ]
  },
  {
   "cell_type": "code",
   "execution_count": 278,
   "metadata": {},
   "outputs": [],
   "source": [
    "topic=\"aid giving\""
   ]
  },
  {
   "cell_type": "code",
   "execution_count": 279,
   "metadata": {},
   "outputs": [],
   "source": [
    "topic_m = p_men[p_men.topic_name==topic]['stationary_prob'].values[0]"
   ]
  },
  {
   "cell_type": "code",
   "execution_count": 280,
   "metadata": {},
   "outputs": [],
   "source": [
    "topic_w = p_women[p_women.topic_name==topic]['stationary_prob'].values[0]"
   ]
  },
  {
   "cell_type": "code",
   "execution_count": 281,
   "metadata": {},
   "outputs": [
    {
     "name": "stdout",
     "output_type": "stream",
     "text": [
      "0.02059312304381102\n",
      "0.02023125618532132\n"
     ]
    }
   ],
   "source": [
    "print (topic_w)\n",
    "print (topic_m)"
   ]
  },
  {
   "cell_type": "markdown",
   "metadata": {},
   "source": [
    "Normalize these values in terms of tattoo"
   ]
  },
  {
   "cell_type": "code",
   "execution_count": 282,
   "metadata": {},
   "outputs": [
    {
     "name": "stdout",
     "output_type": "stream",
     "text": [
      "1.1856869375015888\n"
     ]
    }
   ],
   "source": [
    "print (p_complete[p_complete.topic_name=='tattoo'].values[0][2]/topic_w)"
   ]
  },
  {
   "cell_type": "code",
   "execution_count": 283,
   "metadata": {},
   "outputs": [
    {
     "name": "stdout",
     "output_type": "stream",
     "text": [
      "1.206894755903754\n"
     ]
    }
   ],
   "source": [
    "print (p_complete[p_complete.topic_name=='tattoo'].values[0][2]/topic_m)"
   ]
  },
  {
   "cell_type": "markdown",
   "metadata": {},
   "source": [
    "Normalize these values in terms of escape"
   ]
  },
  {
   "cell_type": "code",
   "execution_count": 284,
   "metadata": {},
   "outputs": [
    {
     "name": "stdout",
     "output_type": "stream",
     "text": [
      "0.3042764093930125\n"
     ]
    }
   ],
   "source": [
    "print (p_complete[p_complete.topic_name=='escapes'].values[0][2]/topic_w)"
   ]
  },
  {
   "cell_type": "code",
   "execution_count": 285,
   "metadata": {},
   "outputs": [
    {
     "name": "stdout",
     "output_type": "stream",
     "text": [
      "0.3097188568303329\n"
     ]
    }
   ],
   "source": [
    "print (p_complete[p_complete.topic_name=='escapes'].values[0][2]/topic_m)"
   ]
  },
  {
   "cell_type": "code",
   "execution_count": null,
   "metadata": {},
   "outputs": [],
   "source": []
  },
  {
   "cell_type": "markdown",
   "metadata": {},
   "source": [
    "# Calculate how many times women more likely to discuss social bonds"
   ]
  },
  {
   "cell_type": "code",
   "execution_count": 286,
   "metadata": {},
   "outputs": [
    {
     "name": "stdout",
     "output_type": "stream",
     "text": [
      "1.017886524453793\n"
     ]
    }
   ],
   "source": [
    "print (topic_w/topic_m)"
   ]
  },
  {
   "cell_type": "markdown",
   "metadata": {},
   "source": [
    "# Show that this is statistically significant"
   ]
  },
  {
   "cell_type": "markdown",
   "metadata": {},
   "source": [
    "![title](output/markov_modelling/bootstrap/complete_m_complete_w/aid%20giving.png)"
   ]
  },
  {
   "cell_type": "markdown",
   "metadata": {},
   "source": [
    "# Load the results of Fisher test and odds ratio analysis"
   ]
  },
  {
   "cell_type": "code",
   "execution_count": 287,
   "metadata": {},
   "outputs": [
    {
     "data": {
      "text/html": [
       "<div>\n",
       "<style scoped>\n",
       "    .dataframe tbody tr th:only-of-type {\n",
       "        vertical-align: middle;\n",
       "    }\n",
       "\n",
       "    .dataframe tbody tr th {\n",
       "        vertical-align: top;\n",
       "    }\n",
       "\n",
       "    .dataframe thead th {\n",
       "        text-align: right;\n",
       "    }\n",
       "</style>\n",
       "<table border=\"1\" class=\"dataframe\">\n",
       "  <thead>\n",
       "    <tr style=\"text-align: right;\">\n",
       "      <th></th>\n",
       "      <th>Unnamed: 0</th>\n",
       "      <th>topic_word</th>\n",
       "      <th>p_value</th>\n",
       "      <th>women</th>\n",
       "      <th>men</th>\n",
       "      <th>count_w</th>\n",
       "      <th>count_m</th>\n",
       "      <th>significance_Bonferroni_corrected</th>\n",
       "      <th>significance</th>\n",
       "    </tr>\n",
       "  </thead>\n",
       "  <tbody>\n",
       "    <tr>\n",
       "      <th>24</th>\n",
       "      <td>8</td>\n",
       "      <td>aid giving</td>\n",
       "      <td>0.000235</td>\n",
       "      <td>1.255865</td>\n",
       "      <td>0.796264</td>\n",
       "      <td>1252</td>\n",
       "      <td>467</td>\n",
       "      <td>True</td>\n",
       "      <td>True</td>\n",
       "    </tr>\n",
       "  </tbody>\n",
       "</table>\n",
       "</div>"
      ],
      "text/plain": [
       "    Unnamed: 0  topic_word   p_value     women       men  count_w  count_m  \\\n",
       "24           8  aid giving  0.000235  1.255865  0.796264     1252      467   \n",
       "\n",
       "    significance_Bonferroni_corrected  significance  \n",
       "24                               True          True  "
      ]
     },
     "metadata": {},
     "output_type": "display_data"
    }
   ],
   "source": [
    "display (df_fisher[df_fisher.topic_word==topic])"
   ]
  },
  {
   "cell_type": "markdown",
   "metadata": {},
   "source": [
    "# Read the stationary probabilities of __food sharing__"
   ]
  },
  {
   "cell_type": "code",
   "execution_count": 288,
   "metadata": {},
   "outputs": [],
   "source": [
    "topic=\"food sharing\""
   ]
  },
  {
   "cell_type": "code",
   "execution_count": 289,
   "metadata": {},
   "outputs": [],
   "source": [
    "topic_m = p_men[p_men.topic_name==topic]['stationary_prob'].values[0]"
   ]
  },
  {
   "cell_type": "code",
   "execution_count": 290,
   "metadata": {},
   "outputs": [],
   "source": [
    "topic_w = p_women[p_women.topic_name==topic]['stationary_prob'].values[0]"
   ]
  },
  {
   "cell_type": "code",
   "execution_count": 291,
   "metadata": {},
   "outputs": [
    {
     "name": "stdout",
     "output_type": "stream",
     "text": [
      "0.0029234307596010464\n",
      "0.001965214019446371\n"
     ]
    }
   ],
   "source": [
    "print (topic_w)\n",
    "print (topic_m)"
   ]
  },
  {
   "cell_type": "markdown",
   "metadata": {},
   "source": [
    "Normalize these values in terms of tattoo"
   ]
  },
  {
   "cell_type": "code",
   "execution_count": 292,
   "metadata": {},
   "outputs": [
    {
     "name": "stdout",
     "output_type": "stream",
     "text": [
      "8.35217215773628\n"
     ]
    }
   ],
   "source": [
    "print (p_complete[p_complete.topic_name=='tattoo'].values[0][2]/topic_w)"
   ]
  },
  {
   "cell_type": "code",
   "execution_count": 293,
   "metadata": {},
   "outputs": [
    {
     "name": "stdout",
     "output_type": "stream",
     "text": [
      "12.424599434868831\n"
     ]
    }
   ],
   "source": [
    "print (p_complete[p_complete.topic_name=='tattoo'].values[0][2]/topic_m)"
   ]
  },
  {
   "cell_type": "markdown",
   "metadata": {},
   "source": [
    "Normalize these values in terms of escape"
   ]
  },
  {
   "cell_type": "code",
   "execution_count": 294,
   "metadata": {},
   "outputs": [
    {
     "name": "stdout",
     "output_type": "stream",
     "text": [
      "2.1433726512525397\n"
     ]
    }
   ],
   "source": [
    "print (p_complete[p_complete.topic_name=='escapes'].values[0][2]/topic_w)"
   ]
  },
  {
   "cell_type": "code",
   "execution_count": 295,
   "metadata": {},
   "outputs": [
    {
     "name": "stdout",
     "output_type": "stream",
     "text": [
      "3.188457580678436\n"
     ]
    }
   ],
   "source": [
    "print (p_complete[p_complete.topic_name=='escapes'].values[0][2]/topic_m)"
   ]
  },
  {
   "cell_type": "markdown",
   "metadata": {},
   "source": [
    "# Calculate how many times women more likely to discuss food sharing"
   ]
  },
  {
   "cell_type": "code",
   "execution_count": 296,
   "metadata": {},
   "outputs": [
    {
     "name": "stdout",
     "output_type": "stream",
     "text": [
      "1.4875890008278176\n"
     ]
    }
   ],
   "source": [
    "print (topic_w/topic_m)"
   ]
  },
  {
   "cell_type": "markdown",
   "metadata": {},
   "source": [
    "# Show that this is statistically significant"
   ]
  },
  {
   "cell_type": "markdown",
   "metadata": {},
   "source": [
    "![title](output/markov_modelling/bootstrap/complete_m_complete_w/food%20sharing.png)"
   ]
  },
  {
   "cell_type": "markdown",
   "metadata": {},
   "source": [
    "# Load the results of Fisher test and odds ratio analysis"
   ]
  },
  {
   "cell_type": "code",
   "execution_count": 297,
   "metadata": {},
   "outputs": [
    {
     "data": {
      "text/html": [
       "<div>\n",
       "<style scoped>\n",
       "    .dataframe tbody tr th:only-of-type {\n",
       "        vertical-align: middle;\n",
       "    }\n",
       "\n",
       "    .dataframe tbody tr th {\n",
       "        vertical-align: top;\n",
       "    }\n",
       "\n",
       "    .dataframe thead th {\n",
       "        text-align: right;\n",
       "    }\n",
       "</style>\n",
       "<table border=\"1\" class=\"dataframe\">\n",
       "  <thead>\n",
       "    <tr style=\"text-align: right;\">\n",
       "      <th></th>\n",
       "      <th>Unnamed: 0</th>\n",
       "      <th>topic_word</th>\n",
       "      <th>p_value</th>\n",
       "      <th>women</th>\n",
       "      <th>men</th>\n",
       "      <th>count_w</th>\n",
       "      <th>count_m</th>\n",
       "      <th>significance_Bonferroni_corrected</th>\n",
       "      <th>significance</th>\n",
       "    </tr>\n",
       "  </thead>\n",
       "  <tbody>\n",
       "    <tr>\n",
       "      <th>38</th>\n",
       "      <td>49</td>\n",
       "      <td>food sharing</td>\n",
       "      <td>0.012936</td>\n",
       "      <td>1.380406</td>\n",
       "      <td>0.724424</td>\n",
       "      <td>255</td>\n",
       "      <td>83</td>\n",
       "      <td>False</td>\n",
       "      <td>True</td>\n",
       "    </tr>\n",
       "  </tbody>\n",
       "</table>\n",
       "</div>"
      ],
      "text/plain": [
       "    Unnamed: 0    topic_word   p_value     women       men  count_w  count_m  \\\n",
       "38          49  food sharing  0.012936  1.380406  0.724424      255       83   \n",
       "\n",
       "    significance_Bonferroni_corrected  significance  \n",
       "38                              False          True  "
      ]
     },
     "metadata": {},
     "output_type": "display_data"
    }
   ],
   "source": [
    "display (df_fisher[df_fisher.topic_word==topic])"
   ]
  },
  {
   "cell_type": "markdown",
   "metadata": {},
   "source": [
    "# Read the stationary probabilities of __rumours__"
   ]
  },
  {
   "cell_type": "code",
   "execution_count": 309,
   "metadata": {},
   "outputs": [],
   "source": [
    "topic=\"rumors\""
   ]
  },
  {
   "cell_type": "code",
   "execution_count": 311,
   "metadata": {},
   "outputs": [],
   "source": [
    "topic_m = p_men[p_men.topic_name==topic]['stationary_prob'].values[0]"
   ]
  },
  {
   "cell_type": "code",
   "execution_count": 312,
   "metadata": {},
   "outputs": [],
   "source": [
    "topic_w = p_women[p_women.topic_name==topic]['stationary_prob'].values[0]"
   ]
  },
  {
   "cell_type": "code",
   "execution_count": 313,
   "metadata": {},
   "outputs": [
    {
     "name": "stdout",
     "output_type": "stream",
     "text": [
      "0.002355416476473917\n",
      "0.0016431309548787373\n"
     ]
    }
   ],
   "source": [
    "print (topic_w)\n",
    "print (topic_m)"
   ]
  },
  {
   "cell_type": "markdown",
   "metadata": {},
   "source": [
    "Normalize these values in terms of tattoo"
   ]
  },
  {
   "cell_type": "code",
   "execution_count": 314,
   "metadata": {},
   "outputs": [
    {
     "name": "stdout",
     "output_type": "stream",
     "text": [
      "10.366318330235247\n"
     ]
    }
   ],
   "source": [
    "print (p_complete[p_complete.topic_name=='tattoo'].values[0][2]/topic_w)"
   ]
  },
  {
   "cell_type": "code",
   "execution_count": 315,
   "metadata": {},
   "outputs": [
    {
     "name": "stdout",
     "output_type": "stream",
     "text": [
      "14.860043213787336\n"
     ]
    }
   ],
   "source": [
    "print (p_complete[p_complete.topic_name=='tattoo'].values[0][2]/topic_m)"
   ]
  },
  {
   "cell_type": "markdown",
   "metadata": {},
   "source": [
    "Normalize these values in terms of escape"
   ]
  },
  {
   "cell_type": "code",
   "execution_count": 316,
   "metadata": {},
   "outputs": [
    {
     "name": "stdout",
     "output_type": "stream",
     "text": [
      "2.6602520618092944\n"
     ]
    }
   ],
   "source": [
    "print (p_complete[p_complete.topic_name=='escapes'].values[0][2]/topic_w)"
   ]
  },
  {
   "cell_type": "code",
   "execution_count": 306,
   "metadata": {},
   "outputs": [
    {
     "name": "stdout",
     "output_type": "stream",
     "text": [
      "3.188457580678436\n"
     ]
    }
   ],
   "source": [
    "print (p_complete[p_complete.topic_name=='escapes'].values[0][2]/topic_m)"
   ]
  },
  {
   "cell_type": "markdown",
   "metadata": {},
   "source": [
    "# Calculate how many times women more likely to discuss food sharing"
   ]
  },
  {
   "cell_type": "code",
   "execution_count": 319,
   "metadata": {},
   "outputs": [
    {
     "name": "stdout",
     "output_type": "stream",
     "text": [
      "1.4334928506338962\n"
     ]
    }
   ],
   "source": [
    "print (topic_w/topic_m)"
   ]
  },
  {
   "cell_type": "markdown",
   "metadata": {},
   "source": [
    "# Show that this is statistically significant"
   ]
  },
  {
   "cell_type": "markdown",
   "metadata": {},
   "source": [
    "![title](output/markov_modelling/bootstrap/complete_m_complete_w/rumors.png)"
   ]
  },
  {
   "cell_type": "markdown",
   "metadata": {},
   "source": [
    "# Load the results of Fisher test and odds ratio analysis"
   ]
  },
  {
   "cell_type": "code",
   "execution_count": 320,
   "metadata": {},
   "outputs": [
    {
     "data": {
      "text/html": [
       "<div>\n",
       "<style scoped>\n",
       "    .dataframe tbody tr th:only-of-type {\n",
       "        vertical-align: middle;\n",
       "    }\n",
       "\n",
       "    .dataframe tbody tr th {\n",
       "        vertical-align: top;\n",
       "    }\n",
       "\n",
       "    .dataframe thead th {\n",
       "        text-align: right;\n",
       "    }\n",
       "</style>\n",
       "<table border=\"1\" class=\"dataframe\">\n",
       "  <thead>\n",
       "    <tr style=\"text-align: right;\">\n",
       "      <th></th>\n",
       "      <th>Unnamed: 0</th>\n",
       "      <th>topic_word</th>\n",
       "      <th>p_value</th>\n",
       "      <th>women</th>\n",
       "      <th>men</th>\n",
       "      <th>count_w</th>\n",
       "      <th>count_m</th>\n",
       "      <th>significance_Bonferroni_corrected</th>\n",
       "      <th>significance</th>\n",
       "    </tr>\n",
       "  </thead>\n",
       "  <tbody>\n",
       "    <tr>\n",
       "      <th>39</th>\n",
       "      <td>95</td>\n",
       "      <td>rumors</td>\n",
       "      <td>0.015325</td>\n",
       "      <td>1.421063</td>\n",
       "      <td>0.703698</td>\n",
       "      <td>206</td>\n",
       "      <td>65</td>\n",
       "      <td>False</td>\n",
       "      <td>True</td>\n",
       "    </tr>\n",
       "  </tbody>\n",
       "</table>\n",
       "</div>"
      ],
      "text/plain": [
       "    Unnamed: 0 topic_word   p_value     women       men  count_w  count_m  \\\n",
       "39          95     rumors  0.015325  1.421063  0.703698      206       65   \n",
       "\n",
       "    significance_Bonferroni_corrected  significance  \n",
       "39                              False          True  "
      ]
     },
     "metadata": {},
     "output_type": "display_data"
    }
   ],
   "source": [
    "display (df_fisher[df_fisher.topic_word==topic])"
   ]
  },
  {
   "cell_type": "code",
   "execution_count": 322,
   "metadata": {},
   "outputs": [
    {
     "data": {
      "text/html": [
       "<div>\n",
       "<style scoped>\n",
       "    .dataframe tbody tr th:only-of-type {\n",
       "        vertical-align: middle;\n",
       "    }\n",
       "\n",
       "    .dataframe tbody tr th {\n",
       "        vertical-align: top;\n",
       "    }\n",
       "\n",
       "    .dataframe thead th {\n",
       "        text-align: right;\n",
       "    }\n",
       "</style>\n",
       "<table border=\"1\" class=\"dataframe\">\n",
       "  <thead>\n",
       "    <tr style=\"text-align: right;\">\n",
       "      <th></th>\n",
       "      <th>Unnamed: 0</th>\n",
       "      <th>topic_word</th>\n",
       "      <th>p_value</th>\n",
       "      <th>women</th>\n",
       "      <th>men</th>\n",
       "      <th>count_w</th>\n",
       "      <th>count_m</th>\n",
       "      <th>significance_Bonferroni_corrected</th>\n",
       "      <th>significance</th>\n",
       "    </tr>\n",
       "  </thead>\n",
       "  <tbody>\n",
       "    <tr>\n",
       "      <th>0</th>\n",
       "      <td>75</td>\n",
       "      <td>menstruation</td>\n",
       "      <td>1.091077e-41</td>\n",
       "      <td>124.360277</td>\n",
       "      <td>0.008041</td>\n",
       "      <td>265</td>\n",
       "      <td>1</td>\n",
       "      <td>True</td>\n",
       "      <td>True</td>\n",
       "    </tr>\n",
       "    <tr>\n",
       "      <th>1</th>\n",
       "      <td>24</td>\n",
       "      <td>childbearing</td>\n",
       "      <td>8.588823e-38</td>\n",
       "      <td>25.919333</td>\n",
       "      <td>0.038581</td>\n",
       "      <td>276</td>\n",
       "      <td>5</td>\n",
       "      <td>True</td>\n",
       "      <td>True</td>\n",
       "    </tr>\n",
       "    <tr>\n",
       "      <th>2</th>\n",
       "      <td>47</td>\n",
       "      <td>food additives</td>\n",
       "      <td>6.323706e-37</td>\n",
       "      <td>30.795649</td>\n",
       "      <td>0.032472</td>\n",
       "      <td>263</td>\n",
       "      <td>4</td>\n",
       "      <td>True</td>\n",
       "      <td>True</td>\n",
       "    </tr>\n",
       "    <tr>\n",
       "      <th>3</th>\n",
       "      <td>0</td>\n",
       "      <td>Appell</td>\n",
       "      <td>4.082711e-29</td>\n",
       "      <td>2.027713</td>\n",
       "      <td>0.493166</td>\n",
       "      <td>1448</td>\n",
       "      <td>376</td>\n",
       "      <td>True</td>\n",
       "      <td>True</td>\n",
       "    </tr>\n",
       "    <tr>\n",
       "      <th>4</th>\n",
       "      <td>66</td>\n",
       "      <td>living conditions</td>\n",
       "      <td>2.416511e-26</td>\n",
       "      <td>1.793491</td>\n",
       "      <td>0.557572</td>\n",
       "      <td>3165</td>\n",
       "      <td>1123</td>\n",
       "      <td>True</td>\n",
       "      <td>True</td>\n",
       "    </tr>\n",
       "    <tr>\n",
       "      <th>5</th>\n",
       "      <td>80</td>\n",
       "      <td>personal property seizure</td>\n",
       "      <td>8.456356e-18</td>\n",
       "      <td>0.358134</td>\n",
       "      <td>2.792249</td>\n",
       "      <td>140</td>\n",
       "      <td>164</td>\n",
       "      <td>True</td>\n",
       "      <td>True</td>\n",
       "    </tr>\n",
       "    <tr>\n",
       "      <th>6</th>\n",
       "      <td>69</td>\n",
       "      <td>loved ones' separations</td>\n",
       "      <td>1.141761e-17</td>\n",
       "      <td>1.631921</td>\n",
       "      <td>0.612775</td>\n",
       "      <td>1786</td>\n",
       "      <td>570</td>\n",
       "      <td>True</td>\n",
       "      <td>True</td>\n",
       "    </tr>\n",
       "    <tr>\n",
       "      <th>7</th>\n",
       "      <td>6</td>\n",
       "      <td>Mengele, Josef</td>\n",
       "      <td>6.074257e-16</td>\n",
       "      <td>1.694785</td>\n",
       "      <td>0.590045</td>\n",
       "      <td>1234</td>\n",
       "      <td>362</td>\n",
       "      <td>True</td>\n",
       "      <td>True</td>\n",
       "    </tr>\n",
       "    <tr>\n",
       "      <th>8</th>\n",
       "      <td>103</td>\n",
       "      <td>tattoo</td>\n",
       "      <td>5.485414e-15</td>\n",
       "      <td>0.640019</td>\n",
       "      <td>1.562454</td>\n",
       "      <td>1253</td>\n",
       "      <td>751</td>\n",
       "      <td>True</td>\n",
       "      <td>True</td>\n",
       "    </tr>\n",
       "    <tr>\n",
       "      <th>9</th>\n",
       "      <td>20</td>\n",
       "      <td>camp intake procedures</td>\n",
       "      <td>5.459251e-12</td>\n",
       "      <td>1.510127</td>\n",
       "      <td>0.662196</td>\n",
       "      <td>3525</td>\n",
       "      <td>1394</td>\n",
       "      <td>True</td>\n",
       "      <td>True</td>\n",
       "    </tr>\n",
       "    <tr>\n",
       "      <th>10</th>\n",
       "      <td>38</td>\n",
       "      <td>diseases</td>\n",
       "      <td>3.404357e-11</td>\n",
       "      <td>1.781267</td>\n",
       "      <td>0.561398</td>\n",
       "      <td>646</td>\n",
       "      <td>171</td>\n",
       "      <td>True</td>\n",
       "      <td>True</td>\n",
       "    </tr>\n",
       "    <tr>\n",
       "      <th>11</th>\n",
       "      <td>41</td>\n",
       "      <td>family</td>\n",
       "      <td>1.120004e-09</td>\n",
       "      <td>1.424837</td>\n",
       "      <td>0.701835</td>\n",
       "      <td>1599</td>\n",
       "      <td>554</td>\n",
       "      <td>True</td>\n",
       "      <td>True</td>\n",
       "    </tr>\n",
       "    <tr>\n",
       "      <th>12</th>\n",
       "      <td>34</td>\n",
       "      <td>deceptions</td>\n",
       "      <td>1.730146e-07</td>\n",
       "      <td>0.642100</td>\n",
       "      <td>1.557390</td>\n",
       "      <td>413</td>\n",
       "      <td>271</td>\n",
       "      <td>True</td>\n",
       "      <td>True</td>\n",
       "    </tr>\n",
       "    <tr>\n",
       "      <th>13</th>\n",
       "      <td>82</td>\n",
       "      <td>physical condition</td>\n",
       "      <td>3.104165e-07</td>\n",
       "      <td>1.626551</td>\n",
       "      <td>0.614798</td>\n",
       "      <td>517</td>\n",
       "      <td>147</td>\n",
       "      <td>True</td>\n",
       "      <td>True</td>\n",
       "    </tr>\n",
       "    <tr>\n",
       "      <th>14</th>\n",
       "      <td>67</td>\n",
       "      <td>loved ones' contacts</td>\n",
       "      <td>7.141355e-07</td>\n",
       "      <td>1.393079</td>\n",
       "      <td>0.717835</td>\n",
       "      <td>1068</td>\n",
       "      <td>363</td>\n",
       "      <td>True</td>\n",
       "      <td>True</td>\n",
       "    </tr>\n",
       "    <tr>\n",
       "      <th>15</th>\n",
       "      <td>90</td>\n",
       "      <td>psychological reactions</td>\n",
       "      <td>6.313559e-06</td>\n",
       "      <td>1.424860</td>\n",
       "      <td>0.701824</td>\n",
       "      <td>736</td>\n",
       "      <td>240</td>\n",
       "      <td>True</td>\n",
       "      <td>True</td>\n",
       "    </tr>\n",
       "    <tr>\n",
       "      <th>16</th>\n",
       "      <td>40</td>\n",
       "      <td>escapes</td>\n",
       "      <td>6.687205e-06</td>\n",
       "      <td>0.544843</td>\n",
       "      <td>1.835391</td>\n",
       "      <td>135</td>\n",
       "      <td>107</td>\n",
       "      <td>True</td>\n",
       "      <td>True</td>\n",
       "    </tr>\n",
       "    <tr>\n",
       "      <th>17</th>\n",
       "      <td>94</td>\n",
       "      <td>revenge acts</td>\n",
       "      <td>1.020223e-05</td>\n",
       "      <td>0.188026</td>\n",
       "      <td>5.318423</td>\n",
       "      <td>9</td>\n",
       "      <td>21</td>\n",
       "      <td>True</td>\n",
       "      <td>True</td>\n",
       "    </tr>\n",
       "    <tr>\n",
       "      <th>18</th>\n",
       "      <td>53</td>\n",
       "      <td>friends</td>\n",
       "      <td>1.333163e-05</td>\n",
       "      <td>1.795836</td>\n",
       "      <td>0.556844</td>\n",
       "      <td>265</td>\n",
       "      <td>67</td>\n",
       "      <td>True</td>\n",
       "      <td>True</td>\n",
       "    </tr>\n",
       "    <tr>\n",
       "      <th>19</th>\n",
       "      <td>48</td>\n",
       "      <td>food and thirst</td>\n",
       "      <td>2.443826e-05</td>\n",
       "      <td>1.265361</td>\n",
       "      <td>0.790289</td>\n",
       "      <td>1779</td>\n",
       "      <td>677</td>\n",
       "      <td>True</td>\n",
       "      <td>True</td>\n",
       "    </tr>\n",
       "    <tr>\n",
       "      <th>20</th>\n",
       "      <td>81</td>\n",
       "      <td>photographs</td>\n",
       "      <td>4.642028e-05</td>\n",
       "      <td>0.493492</td>\n",
       "      <td>2.026376</td>\n",
       "      <td>76</td>\n",
       "      <td>67</td>\n",
       "      <td>True</td>\n",
       "      <td>True</td>\n",
       "    </tr>\n",
       "    <tr>\n",
       "      <th>21</th>\n",
       "      <td>61</td>\n",
       "      <td>killings</td>\n",
       "      <td>7.508764e-05</td>\n",
       "      <td>0.750448</td>\n",
       "      <td>1.332537</td>\n",
       "      <td>650</td>\n",
       "      <td>366</td>\n",
       "      <td>True</td>\n",
       "      <td>True</td>\n",
       "    </tr>\n",
       "    <tr>\n",
       "      <th>22</th>\n",
       "      <td>57</td>\n",
       "      <td>humiliation</td>\n",
       "      <td>1.605442e-04</td>\n",
       "      <td>1.595060</td>\n",
       "      <td>0.626936</td>\n",
       "      <td>299</td>\n",
       "      <td>85</td>\n",
       "      <td>True</td>\n",
       "      <td>True</td>\n",
       "    </tr>\n",
       "    <tr>\n",
       "      <th>23</th>\n",
       "      <td>107</td>\n",
       "      <td>transfer</td>\n",
       "      <td>1.862783e-04</td>\n",
       "      <td>1.226349</td>\n",
       "      <td>0.815429</td>\n",
       "      <td>1954</td>\n",
       "      <td>765</td>\n",
       "      <td>True</td>\n",
       "      <td>True</td>\n",
       "    </tr>\n",
       "    <tr>\n",
       "      <th>24</th>\n",
       "      <td>8</td>\n",
       "      <td>aid giving</td>\n",
       "      <td>2.354317e-04</td>\n",
       "      <td>1.255865</td>\n",
       "      <td>0.796264</td>\n",
       "      <td>1252</td>\n",
       "      <td>467</td>\n",
       "      <td>True</td>\n",
       "      <td>True</td>\n",
       "    </tr>\n",
       "    <tr>\n",
       "      <th>25</th>\n",
       "      <td>42</td>\n",
       "      <td>famous Jewish leaders</td>\n",
       "      <td>2.692763e-04</td>\n",
       "      <td>0.362827</td>\n",
       "      <td>2.756134</td>\n",
       "      <td>24</td>\n",
       "      <td>29</td>\n",
       "      <td>True</td>\n",
       "      <td>True</td>\n",
       "    </tr>\n",
       "    <tr>\n",
       "      <th>26</th>\n",
       "      <td>25</td>\n",
       "      <td>children</td>\n",
       "      <td>2.720438e-04</td>\n",
       "      <td>0.686827</td>\n",
       "      <td>1.455970</td>\n",
       "      <td>271</td>\n",
       "      <td>170</td>\n",
       "      <td>True</td>\n",
       "      <td>True</td>\n",
       "    </tr>\n",
       "    <tr>\n",
       "      <th>27</th>\n",
       "      <td>77</td>\n",
       "      <td>military</td>\n",
       "      <td>4.653298e-04</td>\n",
       "      <td>0.425982</td>\n",
       "      <td>2.347514</td>\n",
       "      <td>36</td>\n",
       "      <td>37</td>\n",
       "      <td>False</td>\n",
       "      <td>True</td>\n",
       "    </tr>\n",
       "    <tr>\n",
       "      <th>28</th>\n",
       "      <td>70</td>\n",
       "      <td>loved ones' togetherness decisions</td>\n",
       "      <td>1.245265e-03</td>\n",
       "      <td>2.165667</td>\n",
       "      <td>0.461751</td>\n",
       "      <td>92</td>\n",
       "      <td>19</td>\n",
       "      <td>False</td>\n",
       "      <td>True</td>\n",
       "    </tr>\n",
       "    <tr>\n",
       "      <th>29</th>\n",
       "      <td>51</td>\n",
       "      <td>forced labor</td>\n",
       "      <td>3.956999e-03</td>\n",
       "      <td>0.844467</td>\n",
       "      <td>1.184179</td>\n",
       "      <td>1276</td>\n",
       "      <td>636</td>\n",
       "      <td>False</td>\n",
       "      <td>True</td>\n",
       "    </tr>\n",
       "    <tr>\n",
       "      <th>30</th>\n",
       "      <td>30</td>\n",
       "      <td>covert activities</td>\n",
       "      <td>4.108694e-03</td>\n",
       "      <td>0.738680</td>\n",
       "      <td>1.353767</td>\n",
       "      <td>271</td>\n",
       "      <td>159</td>\n",
       "      <td>False</td>\n",
       "      <td>True</td>\n",
       "    </tr>\n",
       "    <tr>\n",
       "      <th>31</th>\n",
       "      <td>96</td>\n",
       "      <td>selections</td>\n",
       "      <td>4.535035e-03</td>\n",
       "      <td>1.192401</td>\n",
       "      <td>0.838644</td>\n",
       "      <td>3538</td>\n",
       "      <td>1499</td>\n",
       "      <td>False</td>\n",
       "      <td>True</td>\n",
       "    </tr>\n",
       "    <tr>\n",
       "      <th>32</th>\n",
       "      <td>98</td>\n",
       "      <td>sexual activities</td>\n",
       "      <td>5.036461e-03</td>\n",
       "      <td>1.884606</td>\n",
       "      <td>0.530615</td>\n",
       "      <td>97</td>\n",
       "      <td>23</td>\n",
       "      <td>False</td>\n",
       "      <td>True</td>\n",
       "    </tr>\n",
       "    <tr>\n",
       "      <th>33</th>\n",
       "      <td>9</td>\n",
       "      <td>antisemitism</td>\n",
       "      <td>6.112559e-03</td>\n",
       "      <td>0.418839</td>\n",
       "      <td>2.387550</td>\n",
       "      <td>20</td>\n",
       "      <td>21</td>\n",
       "      <td>False</td>\n",
       "      <td>True</td>\n",
       "    </tr>\n",
       "    <tr>\n",
       "      <th>34</th>\n",
       "      <td>35</td>\n",
       "      <td>departure</td>\n",
       "      <td>7.393011e-03</td>\n",
       "      <td>1.155388</td>\n",
       "      <td>0.865510</td>\n",
       "      <td>2105</td>\n",
       "      <td>859</td>\n",
       "      <td>False</td>\n",
       "      <td>True</td>\n",
       "    </tr>\n",
       "    <tr>\n",
       "      <th>35</th>\n",
       "      <td>76</td>\n",
       "      <td>metaphysical experiences</td>\n",
       "      <td>8.579446e-03</td>\n",
       "      <td>2.734057</td>\n",
       "      <td>0.365757</td>\n",
       "      <td>43</td>\n",
       "      <td>7</td>\n",
       "      <td>False</td>\n",
       "      <td>True</td>\n",
       "    </tr>\n",
       "    <tr>\n",
       "      <th>36</th>\n",
       "      <td>105</td>\n",
       "      <td>time awareness</td>\n",
       "      <td>1.176582e-02</td>\n",
       "      <td>1.679063</td>\n",
       "      <td>0.595570</td>\n",
       "      <td>109</td>\n",
       "      <td>29</td>\n",
       "      <td>False</td>\n",
       "      <td>True</td>\n",
       "    </tr>\n",
       "    <tr>\n",
       "      <th>37</th>\n",
       "      <td>99</td>\n",
       "      <td>social bonds</td>\n",
       "      <td>1.216028e-02</td>\n",
       "      <td>1.212433</td>\n",
       "      <td>0.824788</td>\n",
       "      <td>717</td>\n",
       "      <td>269</td>\n",
       "      <td>False</td>\n",
       "      <td>True</td>\n",
       "    </tr>\n",
       "    <tr>\n",
       "      <th>38</th>\n",
       "      <td>49</td>\n",
       "      <td>food sharing</td>\n",
       "      <td>1.293556e-02</td>\n",
       "      <td>1.380406</td>\n",
       "      <td>0.724424</td>\n",
       "      <td>255</td>\n",
       "      <td>83</td>\n",
       "      <td>False</td>\n",
       "      <td>True</td>\n",
       "    </tr>\n",
       "    <tr>\n",
       "      <th>39</th>\n",
       "      <td>95</td>\n",
       "      <td>rumors</td>\n",
       "      <td>1.532473e-02</td>\n",
       "      <td>1.421063</td>\n",
       "      <td>0.703698</td>\n",
       "      <td>206</td>\n",
       "      <td>65</td>\n",
       "      <td>False</td>\n",
       "      <td>True</td>\n",
       "    </tr>\n",
       "    <tr>\n",
       "      <th>40</th>\n",
       "      <td>60</td>\n",
       "      <td>kapos</td>\n",
       "      <td>1.909604e-02</td>\n",
       "      <td>1.142246</td>\n",
       "      <td>0.875468</td>\n",
       "      <td>1657</td>\n",
       "      <td>672</td>\n",
       "      <td>False</td>\n",
       "      <td>True</td>\n",
       "    </tr>\n",
       "    <tr>\n",
       "      <th>41</th>\n",
       "      <td>74</td>\n",
       "      <td>medical experiments</td>\n",
       "      <td>2.133454e-02</td>\n",
       "      <td>0.320590</td>\n",
       "      <td>3.119251</td>\n",
       "      <td>8</td>\n",
       "      <td>11</td>\n",
       "      <td>False</td>\n",
       "      <td>True</td>\n",
       "    </tr>\n",
       "    <tr>\n",
       "      <th>42</th>\n",
       "      <td>15</td>\n",
       "      <td>body searches</td>\n",
       "      <td>2.515358e-02</td>\n",
       "      <td>0.486664</td>\n",
       "      <td>2.054807</td>\n",
       "      <td>21</td>\n",
       "      <td>19</td>\n",
       "      <td>False</td>\n",
       "      <td>True</td>\n",
       "    </tr>\n",
       "    <tr>\n",
       "      <th>43</th>\n",
       "      <td>19</td>\n",
       "      <td>camp cultural activities</td>\n",
       "      <td>2.527553e-02</td>\n",
       "      <td>1.356734</td>\n",
       "      <td>0.737064</td>\n",
       "      <td>227</td>\n",
       "      <td>75</td>\n",
       "      <td>False</td>\n",
       "      <td>True</td>\n",
       "    </tr>\n",
       "    <tr>\n",
       "      <th>44</th>\n",
       "      <td>28</td>\n",
       "      <td>contact</td>\n",
       "      <td>2.886592e-02</td>\n",
       "      <td>1.285835</td>\n",
       "      <td>0.777705</td>\n",
       "      <td>312</td>\n",
       "      <td>109</td>\n",
       "      <td>False</td>\n",
       "      <td>True</td>\n",
       "    </tr>\n",
       "    <tr>\n",
       "      <th>45</th>\n",
       "      <td>11</td>\n",
       "      <td>attitudes</td>\n",
       "      <td>3.244230e-02</td>\n",
       "      <td>0.729750</td>\n",
       "      <td>1.370332</td>\n",
       "      <td>130</td>\n",
       "      <td>78</td>\n",
       "      <td>False</td>\n",
       "      <td>True</td>\n",
       "    </tr>\n",
       "    <tr>\n",
       "      <th>46</th>\n",
       "      <td>101</td>\n",
       "      <td>suicides</td>\n",
       "      <td>3.649699e-02</td>\n",
       "      <td>1.299381</td>\n",
       "      <td>0.769597</td>\n",
       "      <td>258</td>\n",
       "      <td>89</td>\n",
       "      <td>False</td>\n",
       "      <td>True</td>\n",
       "    </tr>\n",
       "    <tr>\n",
       "      <th>47</th>\n",
       "      <td>84</td>\n",
       "      <td>post-conflict activity</td>\n",
       "      <td>3.763608e-02</td>\n",
       "      <td>0.745858</td>\n",
       "      <td>1.340737</td>\n",
       "      <td>150</td>\n",
       "      <td>88</td>\n",
       "      <td>False</td>\n",
       "      <td>True</td>\n",
       "    </tr>\n",
       "    <tr>\n",
       "      <th>48</th>\n",
       "      <td>91</td>\n",
       "      <td>punishments</td>\n",
       "      <td>4.300152e-02</td>\n",
       "      <td>1.190280</td>\n",
       "      <td>0.840139</td>\n",
       "      <td>567</td>\n",
       "      <td>215</td>\n",
       "      <td>False</td>\n",
       "      <td>True</td>\n",
       "    </tr>\n",
       "    <tr>\n",
       "      <th>49</th>\n",
       "      <td>72</td>\n",
       "      <td>mass murder awareness</td>\n",
       "      <td>4.601469e-02</td>\n",
       "      <td>1.117223</td>\n",
       "      <td>0.895077</td>\n",
       "      <td>1820</td>\n",
       "      <td>752</td>\n",
       "      <td>False</td>\n",
       "      <td>True</td>\n",
       "    </tr>\n",
       "  </tbody>\n",
       "</table>\n",
       "</div>"
      ],
      "text/plain": [
       "    Unnamed: 0                          topic_word       p_value       women  \\\n",
       "0           75                        menstruation  1.091077e-41  124.360277   \n",
       "1           24                        childbearing  8.588823e-38   25.919333   \n",
       "2           47                      food additives  6.323706e-37   30.795649   \n",
       "3            0                              Appell  4.082711e-29    2.027713   \n",
       "4           66                   living conditions  2.416511e-26    1.793491   \n",
       "5           80           personal property seizure  8.456356e-18    0.358134   \n",
       "6           69             loved ones' separations  1.141761e-17    1.631921   \n",
       "7            6                      Mengele, Josef  6.074257e-16    1.694785   \n",
       "8          103                              tattoo  5.485414e-15    0.640019   \n",
       "9           20              camp intake procedures  5.459251e-12    1.510127   \n",
       "10          38                            diseases  3.404357e-11    1.781267   \n",
       "11          41                              family  1.120004e-09    1.424837   \n",
       "12          34                          deceptions  1.730146e-07    0.642100   \n",
       "13          82                  physical condition  3.104165e-07    1.626551   \n",
       "14          67                loved ones' contacts  7.141355e-07    1.393079   \n",
       "15          90             psychological reactions  6.313559e-06    1.424860   \n",
       "16          40                             escapes  6.687205e-06    0.544843   \n",
       "17          94                        revenge acts  1.020223e-05    0.188026   \n",
       "18          53                             friends  1.333163e-05    1.795836   \n",
       "19          48                     food and thirst  2.443826e-05    1.265361   \n",
       "20          81                         photographs  4.642028e-05    0.493492   \n",
       "21          61                            killings  7.508764e-05    0.750448   \n",
       "22          57                         humiliation  1.605442e-04    1.595060   \n",
       "23         107                            transfer  1.862783e-04    1.226349   \n",
       "24           8                          aid giving  2.354317e-04    1.255865   \n",
       "25          42               famous Jewish leaders  2.692763e-04    0.362827   \n",
       "26          25                            children  2.720438e-04    0.686827   \n",
       "27          77                            military  4.653298e-04    0.425982   \n",
       "28          70  loved ones' togetherness decisions  1.245265e-03    2.165667   \n",
       "29          51                        forced labor  3.956999e-03    0.844467   \n",
       "30          30                   covert activities  4.108694e-03    0.738680   \n",
       "31          96                          selections  4.535035e-03    1.192401   \n",
       "32          98                   sexual activities  5.036461e-03    1.884606   \n",
       "33           9                        antisemitism  6.112559e-03    0.418839   \n",
       "34          35                           departure  7.393011e-03    1.155388   \n",
       "35          76            metaphysical experiences  8.579446e-03    2.734057   \n",
       "36         105                      time awareness  1.176582e-02    1.679063   \n",
       "37          99                        social bonds  1.216028e-02    1.212433   \n",
       "38          49                        food sharing  1.293556e-02    1.380406   \n",
       "39          95                              rumors  1.532473e-02    1.421063   \n",
       "40          60                               kapos  1.909604e-02    1.142246   \n",
       "41          74                 medical experiments  2.133454e-02    0.320590   \n",
       "42          15                       body searches  2.515358e-02    0.486664   \n",
       "43          19            camp cultural activities  2.527553e-02    1.356734   \n",
       "44          28                             contact  2.886592e-02    1.285835   \n",
       "45          11                           attitudes  3.244230e-02    0.729750   \n",
       "46         101                            suicides  3.649699e-02    1.299381   \n",
       "47          84              post-conflict activity  3.763608e-02    0.745858   \n",
       "48          91                         punishments  4.300152e-02    1.190280   \n",
       "49          72               mass murder awareness  4.601469e-02    1.117223   \n",
       "\n",
       "         men  count_w  count_m  significance_Bonferroni_corrected  \\\n",
       "0   0.008041      265        1                               True   \n",
       "1   0.038581      276        5                               True   \n",
       "2   0.032472      263        4                               True   \n",
       "3   0.493166     1448      376                               True   \n",
       "4   0.557572     3165     1123                               True   \n",
       "5   2.792249      140      164                               True   \n",
       "6   0.612775     1786      570                               True   \n",
       "7   0.590045     1234      362                               True   \n",
       "8   1.562454     1253      751                               True   \n",
       "9   0.662196     3525     1394                               True   \n",
       "10  0.561398      646      171                               True   \n",
       "11  0.701835     1599      554                               True   \n",
       "12  1.557390      413      271                               True   \n",
       "13  0.614798      517      147                               True   \n",
       "14  0.717835     1068      363                               True   \n",
       "15  0.701824      736      240                               True   \n",
       "16  1.835391      135      107                               True   \n",
       "17  5.318423        9       21                               True   \n",
       "18  0.556844      265       67                               True   \n",
       "19  0.790289     1779      677                               True   \n",
       "20  2.026376       76       67                               True   \n",
       "21  1.332537      650      366                               True   \n",
       "22  0.626936      299       85                               True   \n",
       "23  0.815429     1954      765                               True   \n",
       "24  0.796264     1252      467                               True   \n",
       "25  2.756134       24       29                               True   \n",
       "26  1.455970      271      170                               True   \n",
       "27  2.347514       36       37                              False   \n",
       "28  0.461751       92       19                              False   \n",
       "29  1.184179     1276      636                              False   \n",
       "30  1.353767      271      159                              False   \n",
       "31  0.838644     3538     1499                              False   \n",
       "32  0.530615       97       23                              False   \n",
       "33  2.387550       20       21                              False   \n",
       "34  0.865510     2105      859                              False   \n",
       "35  0.365757       43        7                              False   \n",
       "36  0.595570      109       29                              False   \n",
       "37  0.824788      717      269                              False   \n",
       "38  0.724424      255       83                              False   \n",
       "39  0.703698      206       65                              False   \n",
       "40  0.875468     1657      672                              False   \n",
       "41  3.119251        8       11                              False   \n",
       "42  2.054807       21       19                              False   \n",
       "43  0.737064      227       75                              False   \n",
       "44  0.777705      312      109                              False   \n",
       "45  1.370332      130       78                              False   \n",
       "46  0.769597      258       89                              False   \n",
       "47  1.340737      150       88                              False   \n",
       "48  0.840139      567      215                              False   \n",
       "49  0.895077     1820      752                              False   \n",
       "\n",
       "    significance  \n",
       "0           True  \n",
       "1           True  \n",
       "2           True  \n",
       "3           True  \n",
       "4           True  \n",
       "5           True  \n",
       "6           True  \n",
       "7           True  \n",
       "8           True  \n",
       "9           True  \n",
       "10          True  \n",
       "11          True  \n",
       "12          True  \n",
       "13          True  \n",
       "14          True  \n",
       "15          True  \n",
       "16          True  \n",
       "17          True  \n",
       "18          True  \n",
       "19          True  \n",
       "20          True  \n",
       "21          True  \n",
       "22          True  \n",
       "23          True  \n",
       "24          True  \n",
       "25          True  \n",
       "26          True  \n",
       "27          True  \n",
       "28          True  \n",
       "29          True  \n",
       "30          True  \n",
       "31          True  \n",
       "32          True  \n",
       "33          True  \n",
       "34          True  \n",
       "35          True  \n",
       "36          True  \n",
       "37          True  \n",
       "38          True  \n",
       "39          True  \n",
       "40          True  \n",
       "41          True  \n",
       "42          True  \n",
       "43          True  \n",
       "44          True  \n",
       "45          True  \n",
       "46          True  \n",
       "47          True  \n",
       "48          True  \n",
       "49          True  "
      ]
     },
     "execution_count": 322,
     "metadata": {},
     "output_type": "execute_result"
    }
   ],
   "source": [
    "df_fisher[df_fisher.significance==True]"
   ]
  },
  {
   "cell_type": "code",
   "execution_count": null,
   "metadata": {},
   "outputs": [],
   "source": []
  }
 ],
 "metadata": {
  "kernelspec": {
   "display_name": "Python 3",
   "language": "python",
   "name": "python3"
  },
  "language_info": {
   "codemirror_mode": {
    "name": "ipython",
    "version": 3
   },
   "file_extension": ".py",
   "mimetype": "text/x-python",
   "name": "python",
   "nbconvert_exporter": "python",
   "pygments_lexer": "ipython3",
   "version": "3.7.2"
  }
 },
 "nbformat": 4,
 "nbformat_minor": 2
}

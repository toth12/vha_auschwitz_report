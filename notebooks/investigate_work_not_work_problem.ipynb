{
 "cells": [
  {
   "cell_type": "markdown",
   "metadata": {},
   "source": [
    "# Investigate problems related to work not_work data"
   ]
  },
  {
   "cell_type": "markdown",
   "metadata": {},
   "source": [
    "## Gather data"
   ]
  },
  {
   "cell_type": "code",
   "execution_count": 412,
   "metadata": {},
   "outputs": [],
   "source": [
    "import constants\n",
    "import pandas as pd\n",
    "import os\n",
    "from IPython.display import display\n",
    "import json\n",
    "import numpy as np\n",
    "path = os.getcwd()\n",
    "parent = os.path.abspath(os.path.join(path, os.pardir))\n",
    "input_directory = parent + '/'+constants.output_data_segment_keyword_matrix\n",
    "segment_df = pd.read_csv(input_directory + constants.output_segment_keyword_matrix_document_index)\n",
    "int_codes = segment_df['IntCode'].to_list()\n",
    "with open(parent+'/'+constants.output_data_segment_keyword_matrix + \"metadata_partitions.json\") as read_file:\n",
    "        metadata_partitions = json.load(read_file)\n",
    "input_folder = parent+'/'+constants.input_data\n",
    "input_file = constants.input_files_biodata_birkenau\n",
    "df_biodata = pd.read_csv(input_folder+input_file)\n",
    "df_biodata = df_biodata[df_biodata.IntCode.isin(int_codes)]"
   ]
  },
  {
   "cell_type": "markdown",
   "metadata": {},
   "source": [
    "Load the very original segment data"
   ]
  },
  {
   "cell_type": "code",
   "execution_count": 413,
   "metadata": {},
   "outputs": [],
   "source": [
    "input_directory = constants.input_data\n",
    "input_files = constants.input_files_segments\n",
    "input_files = [parent+'/'+input_directory+i for i in input_files]\n",
    "df = pd.concat([pd.read_csv(el) for el in input_files])\n",
    "df = df.reset_index()"
   ]
  },
  {
   "cell_type": "markdown",
   "metadata": {},
   "source": [
    "Load the segment keyword matrix"
   ]
  },
  {
   "cell_type": "code",
   "execution_count": 414,
   "metadata": {},
   "outputs": [],
   "source": [
    " # Load the input data\n",
    "input_directory = parent +'/'+constants.output_data_segment_keyword_matrix\n",
    "# Read the segment index term matrix\n",
    "data = np.load(input_directory + constants.output_segment_keyword_matrix_data_file.replace('.txt', '.npy'),  allow_pickle=True)\n",
    "# Read the column index (index terms) of the matrix above\n",
    "features_df = pd.read_csv(input_directory + constants.output_segment_keyword_matrix_feature_index)"
   ]
  },
  {
   "cell_type": "markdown",
   "metadata": {},
   "source": [
    "## Check the original data"
   ]
  },
  {
   "cell_type": "markdown",
   "metadata": {},
   "source": [
    "Get the int code of those who worked and who did not work"
   ]
  },
  {
   "cell_type": "markdown",
   "metadata": {},
   "source": [
    "Not work first"
   ]
  },
  {
   "cell_type": "code",
   "execution_count": 415,
   "metadata": {},
   "outputs": [],
   "source": [
    "int_codes_notwork = []\n",
    "for element in metadata_partitions['notwork']:\n",
    "    int_codes_notwork.append(int_codes[element])\n",
    "    \n",
    "    "
   ]
  },
  {
   "cell_type": "markdown",
   "metadata": {},
   "source": [
    "Choose randomly from the list"
   ]
  },
  {
   "cell_type": "code",
   "execution_count": 416,
   "metadata": {},
   "outputs": [],
   "source": [
    "import random\n",
    "not_work_random = random.sample(int_codes_notwork,100)"
   ]
  },
  {
   "cell_type": "markdown",
   "metadata": {},
   "source": [
    "Check if contains work"
   ]
  },
  {
   "cell_type": "code",
   "execution_count": 417,
   "metadata": {},
   "outputs": [
    {
     "name": "stdout",
     "output_type": "stream",
     "text": [
      "10351\n",
      "239045    camp forced labor\n",
      "Name: KeywordLabel, dtype: object\n",
      "3716\n",
      "101155    German forced labor civilian supervisors\n",
      "Name: KeywordLabel, dtype: object\n",
      "54081\n",
      "1024562    camp forced labor\n",
      "1024607    camp forced labor\n",
      "Name: KeywordLabel, dtype: object\n",
      "35130\n",
      "701836    camp forced labor\n",
      "Name: KeywordLabel, dtype: object\n",
      "11031\n",
      "252898    camp forced labor\n",
      "Name: KeywordLabel, dtype: object\n"
     ]
    }
   ],
   "source": [
    "#df[df.IntCode==not_work_random].KeywordLabel.value_counts()\n",
    "for element in not_work_random:\n",
    "    random_df = df[df.IntCode==element]\n",
    "    if random_df[random_df['KeywordLabel'].str.contains('labor')].size >0:\n",
    "        print (element)\n",
    "        print (random_df[random_df['KeywordLabel'].str.contains('labor')]['KeywordLabel'])\n"
   ]
  },
  {
   "cell_type": "markdown",
   "metadata": {},
   "source": [
    "Work second"
   ]
  },
  {
   "cell_type": "code",
   "execution_count": 418,
   "metadata": {},
   "outputs": [],
   "source": [
    "int_codes_work = []\n",
    "for element in metadata_partitions['work']:\n",
    "    int_codes_work.append(int_codes[element])\n",
    "    \n",
    "    "
   ]
  },
  {
   "cell_type": "markdown",
   "metadata": {},
   "source": [
    "Choose randomly from the list"
   ]
  },
  {
   "cell_type": "code",
   "execution_count": 419,
   "metadata": {},
   "outputs": [],
   "source": [
    "import random\n",
    "work_random = random.sample(int_codes_work,100)"
   ]
  },
  {
   "cell_type": "markdown",
   "metadata": {},
   "source": [
    "Check if contains work"
   ]
  },
  {
   "cell_type": "code",
   "execution_count": 420,
   "metadata": {},
   "outputs": [
    {
     "name": "stdout",
     "output_type": "stream",
     "text": [
      "253\n",
      "6738                 camp forced labor\n",
      "6740    personal services forced labor\n",
      "6749                 camp forced labor\n",
      "6751    personal services forced labor\n",
      "6785                 camp forced labor\n",
      "6787    personal services forced labor\n",
      "6813                 camp forced labor\n",
      "6815    personal services forced labor\n",
      "Name: KeywordLabel, dtype: object\n",
      "10587\n",
      "244006      camp forced labor\n",
      "244009    quarry forced labor\n",
      "Name: KeywordLabel, dtype: object\n",
      "24366\n",
      "523131        camp forced labor\n",
      "523134    platform forced labor\n",
      "Name: KeywordLabel, dtype: object\n",
      "48660\n",
      "926528            camp forced labor\n",
      "926529    construction forced labor\n",
      "Name: KeywordLabel, dtype: object\n",
      "19230\n",
      "420570                        camp forced labor\n",
      "420571                  forced labor conditions\n",
      "420572    mobile construction crew forced labor\n",
      "420575                      quarry forced labor\n",
      "420595                        camp forced labor\n",
      "420596             corpse disposal forced labor\n",
      "420602                        camp forced labor\n",
      "420603      military fortification forced labor\n",
      "420609                        camp forced labor\n",
      "420610             corpse disposal forced labor\n",
      "Name: KeywordLabel, dtype: object\n",
      "48545\n",
      "923515    camp daily services forced labor\n",
      "923516                   camp forced labor\n",
      "923521           construction forced labor\n",
      "923525               forestry forced labor\n",
      "923637    camp daily services forced labor\n",
      "923638                   camp forced labor\n",
      "923768      camp construction forced labor\n",
      "923769    camp daily services forced labor\n",
      "923770                   camp forced labor\n",
      "923773                 quarry forced labor\n",
      "Name: KeywordLabel, dtype: object\n",
      "5924\n",
      "148000    camp daily services forced labor\n",
      "148001                   camp forced labor\n",
      "Name: KeywordLabel, dtype: object\n",
      "28685\n",
      "597943    camp daily services forced labor\n",
      "597944                   camp forced labor\n",
      "Name: KeywordLabel, dtype: object\n",
      "11042\n",
      "253165                         camp forced labor\n",
      "253168    personal property sorting forced labor\n",
      "Name: KeywordLabel, dtype: object\n",
      "2023\n",
      "56980        camp forced labor\n",
      "56982    platform forced labor\n",
      "Name: KeywordLabel, dtype: object\n",
      "1400\n",
      "37563                   camp forced labor\n",
      "37568    camp daily services forced labor\n",
      "37618                   camp forced labor\n",
      "Name: KeywordLabel, dtype: object\n",
      "22901\n",
      "494660           agricultural forced labor\n",
      "494664                   camp forced labor\n",
      "494665                factory forced labor\n",
      "494667               platform forced labor\n",
      "494704    camp daily services forced labor\n",
      "494705                   camp forced labor\n",
      "494733                   camp forced labor\n",
      "494734                factory forced labor\n",
      "Name: KeywordLabel, dtype: object\n",
      "627\n",
      "16159    camp daily services forced labor\n",
      "16160                   camp forced labor\n",
      "16281    camp daily services forced labor\n",
      "16282                   camp forced labor\n",
      "Name: KeywordLabel, dtype: object\n",
      "17261\n",
      "379353                         camp forced labor\n",
      "379354       military fortification forced labor\n",
      "379390                         camp forced labor\n",
      "379393    personal property sorting forced labor\n",
      "379458                     armament forced labor\n",
      "379460                         camp forced labor\n",
      "Name: KeywordLabel, dtype: object\n",
      "38601\n",
      "759368    camp daily services forced labor\n",
      "759369                   camp forced labor\n",
      "759521    camp daily services forced labor\n",
      "759522                   camp forced labor\n",
      "Name: KeywordLabel, dtype: object\n",
      "36361\n",
      "723559                camp forced labor\n",
      "723560    camp maintenance forced labor\n",
      "723576            armament forced labor\n",
      "723579                camp forced labor\n",
      "723602            armament forced labor\n",
      "723604                camp forced labor\n",
      "723608        forced labor compensation\n",
      "Name: KeywordLabel, dtype: object\n",
      "4616\n",
      "120776       camp forced labor\n",
      "120777    medical forced labor\n",
      "Name: KeywordLabel, dtype: object\n",
      "15248\n",
      "338347    camp daily services forced labor\n",
      "338349                   camp forced labor\n",
      "Name: KeywordLabel, dtype: object\n",
      "1729\n",
      "47204                    camp forced labor\n",
      "47208    waterway maintenance forced labor\n",
      "Name: KeywordLabel, dtype: object\n",
      "39294\n",
      "771122    camp daily services forced labor\n",
      "771123                   camp forced labor\n",
      "Name: KeywordLabel, dtype: object\n",
      "26859\n",
      "566355    camp daily services forced labor\n",
      "566356                   camp forced labor\n",
      "Name: KeywordLabel, dtype: object\n",
      "17278\n",
      "380018      camp forced labor\n",
      "380108      camp forced labor\n",
      "380112    quarry forced labor\n",
      "Name: KeywordLabel, dtype: object\n",
      "21848\n",
      "473161                         camp forced labor\n",
      "473163    personal property sorting forced labor\n",
      "473175                         camp forced labor\n",
      "473176       military fortification forced labor\n",
      "473187                         camp forced labor\n",
      "473219                         camp forced labor\n",
      "473220         gas chamber cleaning forced labor\n",
      "Name: KeywordLabel, dtype: object\n",
      "25521\n",
      "544971                         camp forced labor\n",
      "544973    personal property sorting forced labor\n",
      "Name: KeywordLabel, dtype: object\n",
      "898\n",
      "25021                   camp forced labor\n",
      "25029    camp daily services forced labor\n",
      "25030                   camp forced labor\n",
      "Name: KeywordLabel, dtype: object\n",
      "24414\n",
      "524291                 camp forced labor\n",
      "524292           forced labor conditions\n",
      "524294    personal services forced labor\n",
      "Name: KeywordLabel, dtype: object\n",
      "44448\n",
      "851255    camp daily services forced labor\n",
      "851256                   camp forced labor\n",
      "Name: KeywordLabel, dtype: object\n",
      "12785\n",
      "289713       camp forced labor\n",
      "289714    medical forced labor\n",
      "Name: KeywordLabel, dtype: object\n",
      "39968\n",
      "780947                 camp forced labor\n",
      "780950    road construction forced labor\n",
      "Name: KeywordLabel, dtype: object\n",
      "9262\n",
      "218256                   camp forced labor\n",
      "218260                 quarry forced labor\n",
      "218266      camp construction forced labor\n",
      "218267                   camp forced labor\n",
      "218287    camp daily services forced labor\n",
      "218289                   camp forced labor\n",
      "Name: KeywordLabel, dtype: object\n",
      "51486\n",
      "981551                         camp forced labor\n",
      "981553    personal property sorting forced labor\n",
      "981569                         camp forced labor\n",
      "981570                   forced labor conditions\n",
      "981572    personal property sorting forced labor\n",
      "Name: KeywordLabel, dtype: object\n",
      "26786\n",
      "565354         agricultural forced labor\n",
      "565356                 camp forced labor\n",
      "565363           forced labor conditions\n",
      "565393                 camp forced labor\n",
      "565395           forced labor conditions\n",
      "565397    personal services forced labor\n",
      "565428         agricultural forced labor\n",
      "565430                 camp forced labor\n",
      "565431           forced labor conditions\n",
      "Name: KeywordLabel, dtype: object\n",
      "917\n",
      "25402    camp daily services forced labor\n",
      "25403                   camp forced labor\n",
      "Name: KeywordLabel, dtype: object\n",
      "32713\n",
      "661054                 camp forced labor\n",
      "661057               quarry forced labor\n",
      "661066    personal services forced labor\n",
      "661079                 camp forced labor\n",
      "661080       daily services forced labor\n",
      "Name: KeywordLabel, dtype: object\n",
      "8036\n",
      "190142    camp daily services forced labor\n",
      "190143                   camp forced labor\n",
      "Name: KeywordLabel, dtype: object\n",
      "4435\n",
      "117118                         camp forced labor\n",
      "117121    personal property sorting forced labor\n",
      "117133                         camp forced labor\n",
      "117136                      skilled forced labor\n",
      "Name: KeywordLabel, dtype: object\n",
      "24773\n",
      "530375    camp daily services forced labor\n",
      "530376                   camp forced labor\n",
      "Name: KeywordLabel, dtype: object\n",
      "52346\n",
      "996016               armament forced labor\n",
      "996018    camp daily services forced labor\n",
      "996019                   camp forced labor\n",
      "996020                factory forced labor\n",
      "Name: KeywordLabel, dtype: object\n",
      "10841\n",
      "249078    camp daily services forced labor\n",
      "249079                   camp forced labor\n",
      "Name: KeywordLabel, dtype: object\n",
      "23241\n",
      "502662       camp forced labor\n",
      "502664    factory forced labor\n",
      "Name: KeywordLabel, dtype: object\n",
      "39279\n",
      "770858       camp forced labor\n",
      "770859    factory forced labor\n",
      "Name: KeywordLabel, dtype: object\n",
      "20323\n",
      "443961                camp forced labor\n",
      "443962    camp maintenance forced labor\n",
      "Name: KeywordLabel, dtype: object\n",
      "39376\n",
      "772430    personal services forced labor\n",
      "Name: KeywordLabel, dtype: object\n",
      "4326\n",
      "113540          camp forced labor\n",
      "113543        quarry forced labor\n",
      "113581          camp forced labor\n",
      "113584       skilled forced labor\n",
      "113586    forced labor conditions\n",
      "Name: KeywordLabel, dtype: object\n",
      "53590\n",
      "1014892          camp forced labor\n",
      "1014925       factory forced labor\n",
      "1014926    forced labor conditions\n",
      "Name: KeywordLabel, dtype: object\n",
      "6940\n",
      "170005                         camp forced labor\n",
      "170008    personal property sorting forced labor\n",
      "Name: KeywordLabel, dtype: object\n",
      "22554\n",
      "486763                  camp forced labor\n",
      "486765    medical experiment forced labor\n",
      "486771                  camp forced labor\n",
      "486772    medical experiment forced labor\n",
      "Name: KeywordLabel, dtype: object\n",
      "24594\n",
      "526536    camp daily services forced labor\n",
      "526537                   camp forced labor\n",
      "Name: KeywordLabel, dtype: object\n",
      "29783\n",
      "617424      camp forced labor\n",
      "617427    quarry forced labor\n",
      "Name: KeywordLabel, dtype: object\n",
      "36490\n",
      "725851    airfield forced labor\n",
      "725863        camp forced labor\n",
      "Name: KeywordLabel, dtype: object\n",
      "47581\n",
      "901851                       armament forced labor\n",
      "901853                           camp forced labor\n",
      "901862                     forced labor conditions\n",
      "901863    German forced labor civilian supervisors\n",
      "Name: KeywordLabel, dtype: object\n",
      "8568\n",
      "202483    camp daily services forced labor\n",
      "202484                   camp forced labor\n",
      "Name: KeywordLabel, dtype: object\n",
      "46294\n",
      "884597    agricultural forced labor\n",
      "884599            camp forced labor\n",
      "Name: KeywordLabel, dtype: object\n",
      "39619\n",
      "776618                camp forced labor\n",
      "776619    camp maintenance forced labor\n",
      "Name: KeywordLabel, dtype: object\n",
      "21491\n",
      "466726                         camp forced labor\n",
      "466732    personal property sorting forced labor\n",
      "Name: KeywordLabel, dtype: object\n",
      "1972\n",
      "55453                 camp forced labor\n",
      "55455         construction forced labor\n",
      "55468    camp construction forced labor\n",
      "Name: KeywordLabel, dtype: object\n",
      "19446\n",
      "425262                         camp forced labor\n",
      "425264    personal property sorting forced labor\n",
      "425271                         camp forced labor\n",
      "425272               daily services forced labor\n",
      "Name: KeywordLabel, dtype: object\n",
      "42707\n",
      "824973                    camp forced labor\n",
      "824974        camp maintenance forced labor\n",
      "824985                    camp forced labor\n",
      "824988    textiles and garment forced labor\n",
      "Name: KeywordLabel, dtype: object\n",
      "7131\n",
      "173423               camp forced labor\n",
      "173424    corpse disposal forced labor\n",
      "Name: KeywordLabel, dtype: object\n",
      "3536\n",
      "97371    camp daily services forced labor\n",
      "97372                   camp forced labor\n",
      "Name: KeywordLabel, dtype: object\n",
      "1258\n",
      "34134                   camp forced labor\n",
      "34152    camp daily services forced labor\n",
      "34153                   camp forced labor\n",
      "Name: KeywordLabel, dtype: object\n",
      "3325\n",
      "91132                   camp forced labor\n",
      "91135      road construction forced labor\n",
      "91175                   camp forced labor\n",
      "91177      personal services forced labor\n",
      "91217                   camp forced labor\n",
      "91221    camp daily services forced labor\n",
      "Name: KeywordLabel, dtype: object\n",
      "53928\n",
      "1021309                armament forced labor\n",
      "1021325                         forced labor\n",
      "1021338    forced labor civilian supervisors\n",
      "1021374                    camp forced labor\n",
      "Name: KeywordLabel, dtype: object\n",
      "24681\n",
      "527806        camp forced labor\n",
      "527808    platform forced labor\n",
      "Name: KeywordLabel, dtype: object\n"
     ]
    },
    {
     "name": "stdout",
     "output_type": "stream",
     "text": [
      "2355\n",
      "65493                    camp forced labor\n",
      "65496    textiles and garment forced labor\n",
      "Name: KeywordLabel, dtype: object\n",
      "40163\n",
      "783992      camp forced labor\n",
      "783996    quarry forced labor\n",
      "Name: KeywordLabel, dtype: object\n",
      "47991\n",
      "910134                camp forced labor\n",
      "910135    camp maintenance forced labor\n",
      "Name: KeywordLabel, dtype: object\n",
      "11287\n",
      "258026               camp forced labor\n",
      "258028    corpse disposal forced labor\n",
      "258126               camp forced labor\n",
      "258129             quarry forced labor\n",
      "Name: KeywordLabel, dtype: object\n",
      "25642\n",
      "547051               camp forced labor\n",
      "547052    corpse disposal forced labor\n",
      "Name: KeywordLabel, dtype: object\n",
      "55036\n",
      "1053068                         camp forced labor\n",
      "1053108                         camp forced labor\n",
      "1053137    personal property sorting forced labor\n",
      "1053180                         camp forced labor\n",
      "Name: KeywordLabel, dtype: object\n",
      "53025\n",
      "1003904                         camp forced labor\n",
      "1003906    personal property sorting forced labor\n",
      "1004120                         camp forced labor\n",
      "1004122    personal property sorting forced labor\n",
      "Name: KeywordLabel, dtype: object\n",
      "37716\n",
      "745769      camp forced labor\n",
      "745774    quarry forced labor\n",
      "Name: KeywordLabel, dtype: object\n",
      "28590\n",
      "596059    personal services forced labor\n",
      "Name: KeywordLabel, dtype: object\n",
      "3810\n",
      "103828       camp forced labor\n",
      "103829    factory forced labor\n",
      "Name: KeywordLabel, dtype: object\n",
      "10545\n",
      "242860    camp daily services forced labor\n",
      "242861                   camp forced labor\n",
      "Name: KeywordLabel, dtype: object\n",
      "25898\n",
      "550484      camp forced labor\n",
      "550489    quarry forced labor\n",
      "Name: KeywordLabel, dtype: object\n",
      "50183\n",
      "950240                         camp forced labor\n",
      "950259                         camp forced labor\n",
      "950283                         camp forced labor\n",
      "950286    personal property sorting forced labor\n",
      "950430                         camp forced labor\n",
      "Name: KeywordLabel, dtype: object\n",
      "32455\n",
      "657377    agricultural forced labor\n",
      "657379            camp forced labor\n",
      "657617    agricultural forced labor\n",
      "657619            camp forced labor\n",
      "Name: KeywordLabel, dtype: object\n",
      "3496\n",
      "96463    camp construction forced labor\n",
      "96464                 camp forced labor\n",
      "Name: KeywordLabel, dtype: object\n",
      "35871\n",
      "714155    camp daily services forced labor\n",
      "714156                   camp forced labor\n",
      "714157             forced labor conditions\n",
      "Name: KeywordLabel, dtype: object\n",
      "29268\n",
      "608435    camp daily services forced labor\n",
      "608436                   camp forced labor\n",
      "608457    camp daily services forced labor\n",
      "608458                   camp forced labor\n",
      "Name: KeywordLabel, dtype: object\n",
      "27540\n",
      "577480                    camp forced labor\n",
      "577484    textiles and garment forced labor\n",
      "Name: KeywordLabel, dtype: object\n",
      "5524\n",
      "137886    camp daily services forced labor\n",
      "137887                   camp forced labor\n",
      "Name: KeywordLabel, dtype: object\n",
      "4474\n",
      "118038                      camp forced labor\n",
      "118040    military fortification forced labor\n",
      "Name: KeywordLabel, dtype: object\n",
      "17219\n",
      "378914                         camp forced labor\n",
      "378916    personal property sorting forced labor\n",
      "Name: KeywordLabel, dtype: object\n",
      "22839\n",
      "493374                      camp forced labor\n",
      "493375    military fortification forced labor\n",
      "493382           corpse disposal forced labor\n",
      "493386                forced labor conditions\n",
      "Name: KeywordLabel, dtype: object\n",
      "16014\n",
      "354305                camp forced labor\n",
      "354306    camp maintenance forced labor\n",
      "Name: KeywordLabel, dtype: object\n",
      "51629\n",
      "985365    camp daily services forced labor\n",
      "985366                   camp forced labor\n",
      "985493    camp daily services forced labor\n",
      "985494                   camp forced labor\n",
      "Name: KeywordLabel, dtype: object\n",
      "48832\n",
      "931681    camp daily services forced labor\n",
      "931682                   camp forced labor\n",
      "931693    camp daily services forced labor\n",
      "931694                   camp forced labor\n",
      "Name: KeywordLabel, dtype: object\n",
      "45132\n",
      "862997                         camp forced labor\n",
      "863055          camp daily services forced labor\n",
      "863056                         camp forced labor\n",
      "863229                         camp forced labor\n",
      "863232    personal property sorting forced labor\n",
      "863409                         camp forced labor\n",
      "863411    personal property sorting forced labor\n",
      "863554                         camp forced labor\n",
      "863557    personal property sorting forced labor\n",
      "Name: KeywordLabel, dtype: object\n",
      "43518\n",
      "834176                   camp forced labor\n",
      "834177        corpse disposal forced labor\n",
      "834290    camp daily services forced labor\n",
      "Name: KeywordLabel, dtype: object\n",
      "29923\n",
      "619967    camp daily services forced labor\n",
      "619968                   camp forced labor\n",
      "Name: KeywordLabel, dtype: object\n",
      "27261\n",
      "573693       camp forced labor\n",
      "573694    factory forced labor\n",
      "Name: KeywordLabel, dtype: object\n",
      "6559\n",
      "161988    camp daily services forced labor\n",
      "161989                   camp forced labor\n",
      "162032    camp daily services forced labor\n",
      "162033                   camp forced labor\n",
      "Name: KeywordLabel, dtype: object\n",
      "3197\n",
      "86974                 camp forced labor\n",
      "86976    personal services forced labor\n",
      "86985           forced labor conditions\n",
      "Name: KeywordLabel, dtype: object\n",
      "39314\n",
      "771917          camp daily services forced labor\n",
      "771918                         camp forced labor\n",
      "771921                       quarry forced labor\n",
      "771944                         camp forced labor\n",
      "771948    personal property sorting forced labor\n",
      "771955                         camp forced labor\n",
      "771958    personal property sorting forced labor\n",
      "Name: KeywordLabel, dtype: object\n",
      "2176\n",
      "60717                 camp forced labor\n",
      "60735                 camp forced labor\n",
      "60736              factory forced labor\n",
      "60760    personal services forced labor\n",
      "60763              skilled forced labor\n",
      "Name: KeywordLabel, dtype: object\n",
      "34195\n",
      "685374                camp forced labor\n",
      "685375    camp maintenance forced labor\n",
      "Name: KeywordLabel, dtype: object\n",
      "21424\n",
      "465571        camp forced labor\n",
      "465573    forestry forced labor\n",
      "Name: KeywordLabel, dtype: object\n",
      "45053\n",
      "861849    camp daily services forced labor\n",
      "861850                   camp forced labor\n",
      "Name: KeywordLabel, dtype: object\n"
     ]
    }
   ],
   "source": [
    "#df[df.IntCode==not_work_random].KeywordLabel.value_counts()\n",
    "for element in work_random:\n",
    "    random_df = df[df.IntCode==element]\n",
    "    if random_df[random_df['KeywordLabel'].str.contains('labor')].size >0:\n",
    "        print (element)\n",
    "        print (random_df[random_df['KeywordLabel'].str.contains('labor')]['KeywordLabel'])\n"
   ]
  },
  {
   "cell_type": "markdown",
   "metadata": {},
   "source": [
    "## Check the segment keyword matrix"
   ]
  },
  {
   "cell_type": "code",
   "execution_count": 421,
   "metadata": {},
   "outputs": [],
   "source": [
    "index_social_bond = features_df.KeywordLabel.to_list().index('social bonds')"
   ]
  },
  {
   "cell_type": "markdown",
   "metadata": {},
   "source": [
    "First not work"
   ]
  },
  {
   "cell_type": "code",
   "execution_count": 422,
   "metadata": {},
   "outputs": [],
   "source": [
    "seg_keyword = np.take(data,metadata_partitions['notwork'])"
   ]
  },
  {
   "cell_type": "code",
   "execution_count": 423,
   "metadata": {},
   "outputs": [],
   "source": [
    "assert len(seg_keyword) == len(int_codes_notwork)"
   ]
  },
  {
   "cell_type": "markdown",
   "metadata": {},
   "source": [
    "Check how many times a person mentions social bonds on average"
   ]
  },
  {
   "cell_type": "code",
   "execution_count": 424,
   "metadata": {},
   "outputs": [],
   "source": [
    "counts = []\n",
    "for element in seg_keyword:\n",
    "    counts.append(np.nonzero(element[:,index_social_bond])[0].shape[0])\n",
    "df_counts = pd.DataFrame(counts)"
   ]
  },
  {
   "cell_type": "markdown",
   "metadata": {},
   "source": [
    "Percentage of those who mention it at least once"
   ]
  },
  {
   "cell_type": "code",
   "execution_count": 425,
   "metadata": {},
   "outputs": [
    {
     "data": {
      "text/plain": [
       "14.968279143536876"
      ]
     },
     "execution_count": 425,
     "metadata": {},
     "output_type": "execute_result"
    }
   ],
   "source": [
    "len(df_counts[df_counts[0]>0])/len(df_counts)*100"
   ]
  },
  {
   "cell_type": "code",
   "execution_count": 426,
   "metadata": {},
   "outputs": [
    {
     "data": {
      "text/plain": [
       "755"
      ]
     },
     "execution_count": 426,
     "metadata": {},
     "output_type": "execute_result"
    }
   ],
   "source": [
    "len(df_counts[df_counts[0]>0])"
   ]
  },
  {
   "cell_type": "code",
   "execution_count": 427,
   "metadata": {},
   "outputs": [],
   "source": [
    "percentage_mentioning_at_least_one_count_notwork=len(df_counts[df_counts[0]>0])/len(df_counts)*100"
   ]
  },
  {
   "cell_type": "markdown",
   "metadata": {},
   "source": [
    "Total number of mentioning social bonds"
   ]
  },
  {
   "cell_type": "code",
   "execution_count": 428,
   "metadata": {},
   "outputs": [
    {
     "data": {
      "text/plain": [
       "1013"
      ]
     },
     "execution_count": 428,
     "metadata": {},
     "output_type": "execute_result"
    }
   ],
   "source": [
    "df_counts[0].sum()"
   ]
  },
  {
   "cell_type": "code",
   "execution_count": 429,
   "metadata": {},
   "outputs": [],
   "source": [
    "total_n_mentioning_social_bonds_notwork = df_counts[0].sum()"
   ]
  },
  {
   "cell_type": "markdown",
   "metadata": {},
   "source": [
    "Then check work"
   ]
  },
  {
   "cell_type": "code",
   "execution_count": 430,
   "metadata": {},
   "outputs": [],
   "source": [
    "seg_keyword = np.take(data,metadata_partitions['work'])"
   ]
  },
  {
   "cell_type": "code",
   "execution_count": 431,
   "metadata": {},
   "outputs": [],
   "source": [
    "assert len(seg_keyword) == len(int_codes_work)"
   ]
  },
  {
   "cell_type": "markdown",
   "metadata": {},
   "source": [
    "Check how many times a person mentions social bonds on average"
   ]
  },
  {
   "cell_type": "code",
   "execution_count": 432,
   "metadata": {},
   "outputs": [],
   "source": [
    "counts = []\n",
    "for element in seg_keyword:\n",
    "    counts.append(np.nonzero(element[:,index_social_bond])[0].shape[0])\n",
    "df_counts = pd.DataFrame(counts)"
   ]
  },
  {
   "cell_type": "code",
   "execution_count": 433,
   "metadata": {},
   "outputs": [
    {
     "data": {
      "text/html": [
       "<div>\n",
       "<style scoped>\n",
       "    .dataframe tbody tr th:only-of-type {\n",
       "        vertical-align: middle;\n",
       "    }\n",
       "\n",
       "    .dataframe tbody tr th {\n",
       "        vertical-align: top;\n",
       "    }\n",
       "\n",
       "    .dataframe thead th {\n",
       "        text-align: right;\n",
       "    }\n",
       "</style>\n",
       "<table border=\"1\" class=\"dataframe\">\n",
       "  <thead>\n",
       "    <tr style=\"text-align: right;\">\n",
       "      <th></th>\n",
       "      <th>0</th>\n",
       "    </tr>\n",
       "  </thead>\n",
       "  <tbody>\n",
       "    <tr>\n",
       "      <th>count</th>\n",
       "      <td>1584.000000</td>\n",
       "    </tr>\n",
       "    <tr>\n",
       "      <th>mean</th>\n",
       "      <td>0.455808</td>\n",
       "    </tr>\n",
       "    <tr>\n",
       "      <th>std</th>\n",
       "      <td>0.965909</td>\n",
       "    </tr>\n",
       "    <tr>\n",
       "      <th>min</th>\n",
       "      <td>0.000000</td>\n",
       "    </tr>\n",
       "    <tr>\n",
       "      <th>25%</th>\n",
       "      <td>0.000000</td>\n",
       "    </tr>\n",
       "    <tr>\n",
       "      <th>50%</th>\n",
       "      <td>0.000000</td>\n",
       "    </tr>\n",
       "    <tr>\n",
       "      <th>75%</th>\n",
       "      <td>1.000000</td>\n",
       "    </tr>\n",
       "    <tr>\n",
       "      <th>max</th>\n",
       "      <td>10.000000</td>\n",
       "    </tr>\n",
       "  </tbody>\n",
       "</table>\n",
       "</div>"
      ],
      "text/plain": [
       "                 0\n",
       "count  1584.000000\n",
       "mean      0.455808\n",
       "std       0.965909\n",
       "min       0.000000\n",
       "25%       0.000000\n",
       "50%       0.000000\n",
       "75%       1.000000\n",
       "max      10.000000"
      ]
     },
     "execution_count": 433,
     "metadata": {},
     "output_type": "execute_result"
    }
   ],
   "source": [
    "df_counts.describe()"
   ]
  },
  {
   "cell_type": "markdown",
   "metadata": {},
   "source": [
    "Percentage of those who mention it at least once"
   ]
  },
  {
   "cell_type": "code",
   "execution_count": 434,
   "metadata": {},
   "outputs": [],
   "source": [
    "percentage_mentioning_at_least_one_count_work=len(df_counts[df_counts[0]>0])/len(df_counts)*100"
   ]
  },
  {
   "cell_type": "code",
   "execution_count": 435,
   "metadata": {},
   "outputs": [
    {
     "data": {
      "text/plain": [
       "434"
      ]
     },
     "execution_count": 435,
     "metadata": {},
     "output_type": "execute_result"
    }
   ],
   "source": [
    "len(df_counts[df_counts[0]>0])"
   ]
  },
  {
   "cell_type": "markdown",
   "metadata": {},
   "source": [
    "Total number of mentioning social bonds"
   ]
  },
  {
   "cell_type": "code",
   "execution_count": 436,
   "metadata": {},
   "outputs": [
    {
     "data": {
      "text/plain": [
       "722"
      ]
     },
     "execution_count": 436,
     "metadata": {},
     "output_type": "execute_result"
    }
   ],
   "source": [
    "df_counts[0].sum()"
   ]
  },
  {
   "cell_type": "code",
   "execution_count": 437,
   "metadata": {},
   "outputs": [],
   "source": [
    "total_n_mentioning_social_bonds_work = df_counts[0].sum()"
   ]
  },
  {
   "cell_type": "markdown",
   "metadata": {},
   "source": [
    "## Check the markov training"
   ]
  },
  {
   "cell_type": "code",
   "execution_count": 438,
   "metadata": {},
   "outputs": [],
   "source": [
    "from markov_modelling import markov_utils as mu"
   ]
  },
  {
   "cell_type": "markdown",
   "metadata": {},
   "source": [
    "First those who worked"
   ]
  },
  {
   "cell_type": "code",
   "execution_count": 439,
   "metadata": {},
   "outputs": [],
   "source": [
    "seg_keyword = np.take(data,metadata_partitions['work'])\n",
    "trajs = mu.estimate_fuzzy_trajectories(seg_keyword)"
   ]
  },
  {
   "cell_type": "markdown",
   "metadata": {},
   "source": [
    "Check how many times social bonds occur"
   ]
  },
  {
   "cell_type": "code",
   "execution_count": 440,
   "metadata": {},
   "outputs": [],
   "source": [
    "n=0\n",
    "row_occurrences_work = 0\n",
    "for traj in trajs:\n",
    "    if index_social_bond in traj:\n",
    "        n+=1\n",
    "        occurrences = np.count_nonzero(traj == index_social_bond)\n",
    "        row_occurrences_work = row_occurrences_work+occurrences\n",
    "\n",
    "    \n",
    "    "
   ]
  },
  {
   "cell_type": "markdown",
   "metadata": {},
   "source": [
    "Total number of trajectories where social bonds mentioned at least once  "
   ]
  },
  {
   "cell_type": "code",
   "execution_count": 441,
   "metadata": {},
   "outputs": [
    {
     "name": "stdout",
     "output_type": "stream",
     "text": [
      "0.18904040404040404\n"
     ]
    }
   ],
   "source": [
    "print (n/len(trajs))"
   ]
  },
  {
   "cell_type": "code",
   "execution_count": 442,
   "metadata": {},
   "outputs": [],
   "source": [
    "percentage_traj_mentionining_once_to_total_work = (n/len(trajs))*100"
   ]
  },
  {
   "cell_type": "code",
   "execution_count": 443,
   "metadata": {},
   "outputs": [
    {
     "data": {
      "text/plain": [
       "0.18904040404040404"
      ]
     },
     "execution_count": 443,
     "metadata": {},
     "output_type": "execute_result"
    }
   ],
   "source": [
    "n/len(trajs)"
   ]
  },
  {
   "cell_type": "markdown",
   "metadata": {},
   "source": [
    "Estimate the Markov model1"
   ]
  },
  {
   "cell_type": "code",
   "execution_count": 444,
   "metadata": {},
   "outputs": [],
   "source": [
    "msm_work = mu.estimate_markov_model_from_trajectories(trajs)"
   ]
  },
  {
   "cell_type": "markdown",
   "metadata": {},
   "source": [
    "Then those who did not work"
   ]
  },
  {
   "cell_type": "code",
   "execution_count": 445,
   "metadata": {},
   "outputs": [],
   "source": [
    "seg_keyword = np.take(data,metadata_partitions['notwork'])\n",
    "trajs = mu.estimate_fuzzy_trajectories(seg_keyword)\n",
    "msm_notwork = mu.estimate_markov_model_from_trajectories(trajs)"
   ]
  },
  {
   "cell_type": "markdown",
   "metadata": {},
   "source": [
    "Check how many times social bonds occur"
   ]
  },
  {
   "cell_type": "code",
   "execution_count": 446,
   "metadata": {},
   "outputs": [],
   "source": [
    "n=0\n",
    "row_occurrences_notwork = 0\n",
    "for traj in trajs:\n",
    "    if index_social_bond in traj:\n",
    "        n+=1\n",
    "        occurrences = np.count_nonzero(traj == index_social_bond)\n",
    "        row_occurrences_notwork = row_occurrences_notwork+occurrences\n",
    "\n",
    "    "
   ]
  },
  {
   "cell_type": "markdown",
   "metadata": {},
   "source": [
    "Total number of trajectories where social bonds mentioned at least once"
   ]
  },
  {
   "cell_type": "code",
   "execution_count": 447,
   "metadata": {},
   "outputs": [
    {
     "name": "stdout",
     "output_type": "stream",
     "text": [
      "13047\n"
     ]
    }
   ],
   "source": [
    "print (n)"
   ]
  },
  {
   "cell_type": "code",
   "execution_count": 448,
   "metadata": {},
   "outputs": [
    {
     "name": "stdout",
     "output_type": "stream",
     "text": [
      "0.10346550356859635\n"
     ]
    }
   ],
   "source": [
    "print (n/len(trajs))"
   ]
  },
  {
   "cell_type": "code",
   "execution_count": 449,
   "metadata": {},
   "outputs": [],
   "source": [
    "percentage_traj_mentionining_once_to_total_notwork = n/len(trajs)*100"
   ]
  },
  {
   "cell_type": "code",
   "execution_count": 450,
   "metadata": {},
   "outputs": [],
   "source": [
    "ratio_mentioning_trajs_total_trajs_not_work = n/len(trajs)"
   ]
  },
  {
   "cell_type": "code",
   "execution_count": 451,
   "metadata": {},
   "outputs": [
    {
     "data": {
      "text/plain": [
       "(110,)"
      ]
     },
     "execution_count": 451,
     "metadata": {},
     "output_type": "execute_result"
    }
   ],
   "source": [
    "msm_notwork.pi.shape"
   ]
  },
  {
   "cell_type": "code",
   "execution_count": 452,
   "metadata": {},
   "outputs": [
    {
     "data": {
      "text/plain": [
       "(111,)"
      ]
     },
     "execution_count": 452,
     "metadata": {},
     "output_type": "execute_result"
    }
   ],
   "source": [
    "msm_work.pi.shape"
   ]
  },
  {
   "cell_type": "code",
   "execution_count": 453,
   "metadata": {},
   "outputs": [
    {
     "data": {
      "text/plain": [
       "97"
      ]
     },
     "execution_count": 453,
     "metadata": {},
     "output_type": "execute_result"
    }
   ],
   "source": [
    "index_social_bond"
   ]
  },
  {
   "cell_type": "markdown",
   "metadata": {},
   "source": [
    "Compare stationary probabilities"
   ]
  },
  {
   "cell_type": "code",
   "execution_count": 454,
   "metadata": {},
   "outputs": [],
   "source": [
    "pi_social_bonds_work=msm_work.pi[msm_work._full2active[index_social_bond]]"
   ]
  },
  {
   "cell_type": "code",
   "execution_count": 455,
   "metadata": {},
   "outputs": [],
   "source": [
    "pi_social_bonds_notwork=msm_notwork.pi[msm_notwork._full2active[index_social_bond]]"
   ]
  },
  {
   "cell_type": "markdown",
   "metadata": {},
   "source": [
    "# Problem"
   ]
  },
  {
   "cell_type": "markdown",
   "metadata": {},
   "source": [
    "- 27% of the working people mention social bonds at least once\n",
    "- 15% of the non working people mention social bonds at least once\n",
    "- this explains why the Fisher test tells that 'social bonds' is more associated with the working people\n",
    "- 10.3% of the trajectories of those who did not work include 'social bonds' at least once\n",
    "- 18.8% of the trajectories of those who worked include 'social bonds' at least once\n",
    "- The ratios are more or less the same\n",
    " \n",
    "**BUT**\n",
    "\n",
    "- but when stationary probabilities are compared, the stationary probability of social bonds in the non working is higher than the stationary prob of work"
   ]
  },
  {
   "cell_type": "code",
   "execution_count": 461,
   "metadata": {},
   "outputs": [
    {
     "data": {
      "text/plain": [
       "27.3989898989899"
      ]
     },
     "execution_count": 461,
     "metadata": {},
     "output_type": "execute_result"
    }
   ],
   "source": [
    "percentage_mentioning_at_least_one_count_work"
   ]
  },
  {
   "cell_type": "code",
   "execution_count": 462,
   "metadata": {},
   "outputs": [
    {
     "data": {
      "text/plain": [
       "14.968279143536876"
      ]
     },
     "execution_count": 462,
     "metadata": {},
     "output_type": "execute_result"
    }
   ],
   "source": [
    "percentage_mentioning_at_least_one_count_notwork"
   ]
  },
  {
   "cell_type": "code",
   "execution_count": 463,
   "metadata": {},
   "outputs": [
    {
     "data": {
      "text/plain": [
       "10.346550356859636"
      ]
     },
     "execution_count": 463,
     "metadata": {},
     "output_type": "execute_result"
    }
   ],
   "source": [
    "percentage_traj_mentionining_once_to_total_notwork"
   ]
  },
  {
   "cell_type": "code",
   "execution_count": 464,
   "metadata": {},
   "outputs": [
    {
     "data": {
      "text/plain": [
       "18.904040404040405"
      ]
     },
     "execution_count": 464,
     "metadata": {},
     "output_type": "execute_result"
    }
   ],
   "source": [
    "percentage_traj_mentionining_once_to_total_work"
   ]
  },
  {
   "cell_type": "code",
   "execution_count": 465,
   "metadata": {},
   "outputs": [
    {
     "data": {
      "text/plain": [
       "True"
      ]
     },
     "execution_count": 465,
     "metadata": {},
     "output_type": "execute_result"
    }
   ],
   "source": [
    "percentage_mentioning_at_least_one_count_work > percentage_mentioning_at_least_one_count_notwork\n"
   ]
  },
  {
   "cell_type": "code",
   "execution_count": 466,
   "metadata": {},
   "outputs": [
    {
     "data": {
      "text/plain": [
       "True"
      ]
     },
     "execution_count": 466,
     "metadata": {},
     "output_type": "execute_result"
    }
   ],
   "source": [
    "percentage_traj_mentionining_once_to_total_work > percentage_traj_mentionining_once_to_total_notwork"
   ]
  },
  {
   "cell_type": "code",
   "execution_count": 467,
   "metadata": {},
   "outputs": [
    {
     "data": {
      "text/plain": [
       "1.8304702655696032"
      ]
     },
     "execution_count": 467,
     "metadata": {},
     "output_type": "execute_result"
    }
   ],
   "source": [
    "percentage_mentioning_at_least_one_count_work / percentage_mentioning_at_least_one_count_notwork"
   ]
  },
  {
   "cell_type": "code",
   "execution_count": 468,
   "metadata": {},
   "outputs": [
    {
     "data": {
      "text/plain": [
       "1.8270862994937496"
      ]
     },
     "execution_count": 468,
     "metadata": {},
     "output_type": "execute_result"
    }
   ],
   "source": [
    "percentage_traj_mentionining_once_to_total_work / percentage_traj_mentionining_once_to_total_notwork"
   ]
  },
  {
   "cell_type": "code",
   "execution_count": 471,
   "metadata": {},
   "outputs": [
    {
     "data": {
      "text/plain": [
       "True"
      ]
     },
     "execution_count": 471,
     "metadata": {},
     "output_type": "execute_result"
    }
   ],
   "source": [
    "pi_social_bonds_notwork > pi_social_bonds_work"
   ]
  },
  {
   "cell_type": "code",
   "execution_count": 472,
   "metadata": {},
   "outputs": [
    {
     "data": {
      "text/plain": [
       "1.0795553635776463"
      ]
     },
     "execution_count": 472,
     "metadata": {},
     "output_type": "execute_result"
    }
   ],
   "source": [
    "pi_social_bonds_notwork / pi_social_bonds_work"
   ]
  }
 ],
 "metadata": {
  "kernelspec": {
   "display_name": "Python 3",
   "language": "python",
   "name": "python3"
  },
  "language_info": {
   "codemirror_mode": {
    "name": "ipython",
    "version": 3
   },
   "file_extension": ".py",
   "mimetype": "text/x-python",
   "name": "python",
   "nbconvert_exporter": "python",
   "pygments_lexer": "ipython3",
   "version": "3.7.2"
  }
 },
 "nbformat": 4,
 "nbformat_minor": 2
}

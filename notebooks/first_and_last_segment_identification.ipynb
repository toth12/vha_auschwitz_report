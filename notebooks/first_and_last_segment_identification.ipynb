{
 "cells": [
  {
   "cell_type": "code",
   "execution_count": 29,
   "metadata": {},
   "outputs": [],
   "source": [
    "import pandas as pd\n",
    "import numpy as np\n",
    "import matplotlib.pyplot as plt"
   ]
  },
  {
   "cell_type": "code",
   "execution_count": 71,
   "metadata": {},
   "outputs": [
    {
     "data": {
      "text/plain": [
       "(1067267, 12)"
      ]
     },
     "execution_count": 71,
     "metadata": {},
     "output_type": "execute_result"
    }
   ],
   "source": [
    "rawdat = pd.concat([pd.read_csv('../data/input/Auschwitz_segments_03112020_1.csv'),\n",
    "                   pd.read_csv('../data/input/Auschwitz_segments_03112020_2.csv')])\n",
    "rawdat.shape"
   ]
  },
  {
   "cell_type": "code",
   "execution_count": 72,
   "metadata": {},
   "outputs": [],
   "source": [
    "biodata = pd.read_csv('../data/input/biodata_birkenau.csv')"
   ]
  },
  {
   "cell_type": "code",
   "execution_count": 73,
   "metadata": {},
   "outputs": [
    {
     "data": {
      "text/plain": [
       "(584447, 12)"
      ]
     },
     "execution_count": 73,
     "metadata": {},
     "output_type": "execute_result"
    }
   ],
   "source": [
    "# filter only used interviews from biodata_birkenau.csv\n",
    "relevant_rawdat = rawdat[rawdat.IntCode.isin(biodata['IntCode'])]\n",
    "relevant_rawdat.shape"
   ]
  },
  {
   "cell_type": "code",
   "execution_count": 47,
   "metadata": {},
   "outputs": [
    {
     "name": "stderr",
     "output_type": "stream",
     "text": [
      "/Users/thempel/miniconda3/envs/py37_mar20/lib/python3.7/site-packages/ipykernel_launcher.py:2: SettingWithCopyWarning: \n",
      "A value is trying to be set on a copy of a slice from a DataFrame\n",
      "\n",
      "See the caveats in the documentation: https://pandas.pydata.org/pandas-docs/stable/user_guide/indexing.html#returning-a-view-versus-a-copy\n",
      "  \n"
     ]
    }
   ],
   "source": [
    "# create a keyword ID - Label map\n",
    "kwID_kwLabel_map = relevant_rawdat[['KeywordID', 'KeywordLabel']]\n",
    "kwID_kwLabel_map.drop_duplicates(inplace=True)\n",
    "kwID_kwLabel_map.reset_index(inplace=True, drop=True)"
   ]
  },
  {
   "cell_type": "code",
   "execution_count": 48,
   "metadata": {},
   "outputs": [
    {
     "data": {
      "text/html": [
       "<div>\n",
       "<style scoped>\n",
       "    .dataframe tbody tr th:only-of-type {\n",
       "        vertical-align: middle;\n",
       "    }\n",
       "\n",
       "    .dataframe tbody tr th {\n",
       "        vertical-align: top;\n",
       "    }\n",
       "\n",
       "    .dataframe thead th {\n",
       "        text-align: right;\n",
       "    }\n",
       "</style>\n",
       "<table border=\"1\" class=\"dataframe\">\n",
       "  <thead>\n",
       "    <tr style=\"text-align: right;\">\n",
       "      <th></th>\n",
       "      <th>KeywordID</th>\n",
       "      <th>KeywordLabel</th>\n",
       "    </tr>\n",
       "  </thead>\n",
       "  <tbody>\n",
       "    <tr>\n",
       "      <th>0</th>\n",
       "      <td>7601</td>\n",
       "      <td>Auschwitz II-Birkenau (Poland : Death Camp)</td>\n",
       "    </tr>\n",
       "    <tr>\n",
       "      <th>1</th>\n",
       "      <td>13310</td>\n",
       "      <td>Oświęcim (Kraków, Poland)</td>\n",
       "    </tr>\n",
       "    <tr>\n",
       "      <th>2</th>\n",
       "      <td>14226</td>\n",
       "      <td>Poland 1944 (July 22) - 1945 (January 16)</td>\n",
       "    </tr>\n",
       "    <tr>\n",
       "      <th>3</th>\n",
       "      <td>12044</td>\n",
       "      <td>camp selections</td>\n",
       "    </tr>\n",
       "    <tr>\n",
       "      <th>4</th>\n",
       "      <td>14280</td>\n",
       "      <td>loved ones' separations</td>\n",
       "    </tr>\n",
       "    <tr>\n",
       "      <th>...</th>\n",
       "      <td>...</td>\n",
       "      <td>...</td>\n",
       "    </tr>\n",
       "    <tr>\n",
       "      <th>2334</th>\n",
       "      <td>83352</td>\n",
       "      <td>Christians</td>\n",
       "    </tr>\n",
       "    <tr>\n",
       "      <th>2335</th>\n",
       "      <td>59509</td>\n",
       "      <td>European history</td>\n",
       "    </tr>\n",
       "    <tr>\n",
       "      <th>2336</th>\n",
       "      <td>15692</td>\n",
       "      <td>attitudes toward Canada and/or Canadians</td>\n",
       "    </tr>\n",
       "    <tr>\n",
       "      <th>2337</th>\n",
       "      <td>62391</td>\n",
       "      <td>attitudes toward socialism and/or socialists</td>\n",
       "    </tr>\n",
       "    <tr>\n",
       "      <th>2338</th>\n",
       "      <td>82945</td>\n",
       "      <td>security (motivation)</td>\n",
       "    </tr>\n",
       "  </tbody>\n",
       "</table>\n",
       "<p>2339 rows × 2 columns</p>\n",
       "</div>"
      ],
      "text/plain": [
       "      KeywordID                                  KeywordLabel\n",
       "0          7601   Auschwitz II-Birkenau (Poland : Death Camp)\n",
       "1         13310                     Oświęcim (Kraków, Poland)\n",
       "2         14226     Poland 1944 (July 22) - 1945 (January 16)\n",
       "3         12044                               camp selections\n",
       "4         14280                       loved ones' separations\n",
       "...         ...                                           ...\n",
       "2334      83352                                    Christians\n",
       "2335      59509                              European history\n",
       "2336      15692      attitudes toward Canada and/or Canadians\n",
       "2337      62391  attitudes toward socialism and/or socialists\n",
       "2338      82945                         security (motivation)\n",
       "\n",
       "[2339 rows x 2 columns]"
      ]
     },
     "execution_count": 48,
     "metadata": {},
     "output_type": "execute_result"
    }
   ],
   "source": [
    "kwID_kwLabel_map"
   ]
  },
  {
   "cell_type": "code",
   "execution_count": 21,
   "metadata": {},
   "outputs": [],
   "source": [
    "# find kwIds, that are in the first and last segments of relevant interviews\n",
    "first_kwIDs = []\n",
    "last_kwIDs = []\n",
    "\n",
    "for intcode in pd.unique(relevant_rawdat.IntCode):\n",
    "    interview = relevant_rawdat[relevant_rawdat.IntCode==intcode]\n",
    "    \n",
    "    # identify first and alst segments\n",
    "    # extract KwID\n",
    "    first_kwID = interview[interview.SegmentNumber == interview.SegmentNumber.min()].KeywordID\n",
    "    last_kwID = interview[interview.SegmentNumber == interview.SegmentNumber.max()].KeywordID\n",
    "\n",
    "    first_kwIDs.append(first_kwID.to_numpy())\n",
    "    last_kwIDs.append(last_kwID.to_numpy())\n",
    "    \n",
    "# concatenate\n",
    "first_kwIDs = np.concatenate(first_kwIDs)\n",
    "last_kwIDs = np.concatenate(last_kwIDs)"
   ]
  },
  {
   "cell_type": "code",
   "execution_count": 49,
   "metadata": {
    "scrolled": false
   },
   "outputs": [],
   "source": [
    "# bincount (histogram topics in both cases)\n",
    "bc_first = np.bincount(first_kwIDs, minlength=kwID_kwLabel_map.KeywordID.max())\n",
    "bc_last = np.bincount(last_kwIDs, minlength=kwID_kwLabel_map.KeywordID.max())"
   ]
  },
  {
   "cell_type": "code",
   "execution_count": 74,
   "metadata": {},
   "outputs": [],
   "source": [
    "# argsort (backwards) to get highest populated states\n",
    "idx_first = bc_first.argsort()[::-1]\n",
    "idx_last = bc_last.argsort()[::-1]\n",
    "\n",
    "# printed number of topics (only printout)\n",
    "print_top_n = 15"
   ]
  },
  {
   "cell_type": "code",
   "execution_count": 76,
   "metadata": {},
   "outputs": [
    {
     "name": "stdout",
     "output_type": "stream",
     "text": [
      "first topics\n",
      "0.23: Oświęcim (Kraków, Poland)[KeywordID: 13310]\n",
      "0.21: Poland 1944[KeywordID: 14233]\n",
      "0.18: Auschwitz II-Birkenau (Poland : Death Camp)[KeywordID: 7601]\n",
      "0.05: Auschwitz (Poland : Concentration Camp)(generic)[KeywordID: 7528]\n",
      "0.04: camp selections[KeywordID: 12044]\n",
      "0.04: camp first impressions[KeywordID: 10983]\n",
      "0.02: camp intake procedures[KeywordID: 10853]\n",
      "0.02: deportation to Auschwitz II-Birkenau (Poland : Death Camp)[KeywordID: 16328]\n",
      "0.02: loved ones' separations[KeywordID: 14280]\n",
      "0.02: Poland 1943[KeywordID: 14232]\n",
      "0.01: Poland 1944 (July 22) - 1945 (January 16)[KeywordID: 14226]\n",
      "0.01: freight trains[KeywordID: 15774]\n",
      "0.01: loved ones' final contacts[KeywordID: 11672]\n",
      "0.01: Mengele, Josef[KeywordID: 4047]\n",
      "0.0: deportation to Auschwitz (Poland : Concentration Camp)(generic)[KeywordID: 16123]\n"
     ]
    }
   ],
   "source": [
    "# left is prevalence of a topic, i.e. fraction of first frames that have this topic\n",
    "# second is topic, followed by keywordID in brackets.\n",
    "print('first topics')\n",
    "for idx in idx_first[:print_top_n]:\n",
    "    print(f'{np.round(bc_first[idx]/bc_first.sum(), 2)}: '+\\\n",
    "          f'{kwID_kwLabel_map[kwID_kwLabel_map.KeywordID == idx].KeywordLabel.values[0]}' +\\\n",
    "          f'[KeywordID: {idx}]'\n",
    "         )"
   ]
  },
  {
   "cell_type": "code",
   "execution_count": 77,
   "metadata": {},
   "outputs": [
    {
     "name": "stdout",
     "output_type": "stream",
     "text": [
      "last topics\n",
      "0.25: Oświęcim (Kraków, Poland)[KeywordID: 13310]\n",
      "0.19: Auschwitz II-Birkenau (Poland : Death Camp)[KeywordID: 7601]\n",
      "0.19: Poland 1944[KeywordID: 14233]\n",
      "0.05: Auschwitz (Poland : Concentration Camp)(generic)[KeywordID: 7528]\n",
      "0.03: transfer from Auschwitz II-Birkenau (Poland : Death Camp)[KeywordID: 16297]\n",
      "0.02: Poland 1945 (January 1 - May 7)[KeywordID: 16192]\n",
      "0.01: transfers, means of transport[KeywordID: 15232]\n",
      "0.01: Germany 1944[KeywordID: 13929]\n",
      "0.01: Poland 1944 (July 22) - 1945 (January 16)[KeywordID: 14226]\n",
      "0.01: freight trains[KeywordID: 15774]\n",
      "0.01: Poland 1943[KeywordID: 14232]\n",
      "0.01: Germany 1945 (January 1 - May 7)[KeywordID: 13930]\n",
      "0.01: camp selections[KeywordID: 12044]\n",
      "0.01: transfer from Auschwitz (Poland : Concentration Camp)(generic)[KeywordID: 16162]\n",
      "0.01: transfer conditions[KeywordID: 12161]\n"
     ]
    }
   ],
   "source": [
    "print('last topics')\n",
    "for idx in idx_last[:print_top_n]:\n",
    "    print(f'{np.round(bc_last[idx]/bc_last.sum(), 2)}: '+\\\n",
    "          f'{kwID_kwLabel_map[kwID_kwLabel_map.KeywordID == idx].KeywordLabel.values[0]}' +\\\n",
    "          f'[KeywordID: {idx}]'\n",
    "         )"
   ]
  },
  {
   "cell_type": "code",
   "execution_count": null,
   "metadata": {},
   "outputs": [],
   "source": []
  }
 ],
 "metadata": {
  "kernelspec": {
   "display_name": "Python 3",
   "language": "python",
   "name": "python3"
  },
  "language_info": {
   "codemirror_mode": {
    "name": "ipython",
    "version": 3
   },
   "file_extension": ".py",
   "mimetype": "text/x-python",
   "name": "python",
   "nbconvert_exporter": "python",
   "pygments_lexer": "ipython3",
   "version": "3.7.6"
  }
 },
 "nbformat": 4,
 "nbformat_minor": 4
}

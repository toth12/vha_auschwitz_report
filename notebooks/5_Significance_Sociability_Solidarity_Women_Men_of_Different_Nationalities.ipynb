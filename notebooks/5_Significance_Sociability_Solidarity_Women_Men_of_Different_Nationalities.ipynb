{
 "cells": [
  {
   "cell_type": "markdown",
   "metadata": {},
   "source": [
    "# Topics of Sociability and Solidarity in Recollections of men and women of different nationalities"
   ]
  },
  {
   "cell_type": "markdown",
   "metadata": {},
   "source": [
    "\n",
    "\n",
    " ### Research Question:"
   ]
  },
  {
   "cell_type": "markdown",
   "metadata": {},
   "source": [
    "In Birkenau people of different nationalities were together; is it possible that women of one nationality give rise to the general trend that women are more likely to discuss memories of sociability and solidarity? Can we observe this phenomenon when men and women of the same nationalitities are compared?"
   ]
  },
  {
   "cell_type": "markdown",
   "metadata": {},
   "source": [
    "### Further considerations:"
   ]
  },
  {
   "cell_type": "markdown",
   "metadata": {},
   "source": [
    "- Nationality is somewhat intangible in the context of the data; hence, by nationality we mean the country of birth"
   ]
  },
  {
   "cell_type": "markdown",
   "metadata": {},
   "source": [
    "- In dataset, 13 different nationalities are present;"
   ]
  },
  {
   "cell_type": "code",
   "execution_count": 14,
   "metadata": {},
   "outputs": [],
   "source": [
    "import constants\n",
    "import pandas as pd\n",
    "import os\n",
    "from IPython.display import display\n",
    "import json"
   ]
  },
  {
   "cell_type": "code",
   "execution_count": 15,
   "metadata": {},
   "outputs": [
    {
     "data": {
      "text/plain": [
       "13"
      ]
     },
     "execution_count": 15,
     "metadata": {},
     "output_type": "execute_result"
    }
   ],
   "source": [
    "\n",
    "path = os.getcwd()\n",
    "parent = os.path.abspath(os.path.join(path, os.pardir))\n",
    "with open(parent+'/'+constants.input_directory + \"metadata_partitions.json\") as read_file:\n",
    "        metadata_partitions = json.load(read_file)\n",
    "nationalities = [element for element in metadata_partitions.keys() if (element[0].isupper()) and (element[-2] !=\"_\")]\n",
    "len(nationalities)"
   ]
  },
  {
   "cell_type": "markdown",
   "metadata": {},
   "source": [
    "- But majority of victims were born in 5 countries, here we will focus on those who were born in these five countries; the number of victims is not enough with other countries"
   ]
  },
  {
   "cell_type": "code",
   "execution_count": 16,
   "metadata": {},
   "outputs": [],
   "source": [
    "countries = []\n",
    "for country in nationalities:\n",
    "    countries.append({'country':country,'total':len(metadata_partitions[country]),'women':len(metadata_partitions[country+'_w']),'men':len(metadata_partitions[country+'_m'])})\n",
    "    \n",
    "countries = pd.DataFrame(countries)\n",
    "    "
   ]
  },
  {
   "cell_type": "code",
   "execution_count": 17,
   "metadata": {},
   "outputs": [
    {
     "data": {
      "text/html": [
       "<div>\n",
       "<style scoped>\n",
       "    .dataframe tbody tr th:only-of-type {\n",
       "        vertical-align: middle;\n",
       "    }\n",
       "\n",
       "    .dataframe tbody tr th {\n",
       "        vertical-align: top;\n",
       "    }\n",
       "\n",
       "    .dataframe thead th {\n",
       "        text-align: right;\n",
       "    }\n",
       "</style>\n",
       "<table border=\"1\" class=\"dataframe\">\n",
       "  <thead>\n",
       "    <tr style=\"text-align: right;\">\n",
       "      <th></th>\n",
       "      <th>country</th>\n",
       "      <th>total</th>\n",
       "      <th>women</th>\n",
       "      <th>men</th>\n",
       "    </tr>\n",
       "  </thead>\n",
       "  <tbody>\n",
       "    <tr>\n",
       "      <th>2</th>\n",
       "      <td>Czechoslovakia (historical)</td>\n",
       "      <td>1817</td>\n",
       "      <td>1317</td>\n",
       "      <td>500</td>\n",
       "    </tr>\n",
       "    <tr>\n",
       "      <th>9</th>\n",
       "      <td>Poland</td>\n",
       "      <td>1404</td>\n",
       "      <td>849</td>\n",
       "      <td>555</td>\n",
       "    </tr>\n",
       "    <tr>\n",
       "      <th>6</th>\n",
       "      <td>Hungary</td>\n",
       "      <td>1030</td>\n",
       "      <td>832</td>\n",
       "      <td>198</td>\n",
       "    </tr>\n",
       "    <tr>\n",
       "      <th>10</th>\n",
       "      <td>Romania</td>\n",
       "      <td>948</td>\n",
       "      <td>690</td>\n",
       "      <td>258</td>\n",
       "    </tr>\n",
       "    <tr>\n",
       "      <th>1</th>\n",
       "      <td>Austria-Hungary (historical)</td>\n",
       "      <td>478</td>\n",
       "      <td>358</td>\n",
       "      <td>120</td>\n",
       "    </tr>\n",
       "    <tr>\n",
       "      <th>11</th>\n",
       "      <td>Russia</td>\n",
       "      <td>199</td>\n",
       "      <td>81</td>\n",
       "      <td>118</td>\n",
       "    </tr>\n",
       "    <tr>\n",
       "      <th>4</th>\n",
       "      <td>Germany</td>\n",
       "      <td>147</td>\n",
       "      <td>82</td>\n",
       "      <td>65</td>\n",
       "    </tr>\n",
       "    <tr>\n",
       "      <th>5</th>\n",
       "      <td>Greece</td>\n",
       "      <td>129</td>\n",
       "      <td>68</td>\n",
       "      <td>61</td>\n",
       "    </tr>\n",
       "    <tr>\n",
       "      <th>12</th>\n",
       "      <td>Yugoslavia (historical)</td>\n",
       "      <td>100</td>\n",
       "      <td>84</td>\n",
       "      <td>16</td>\n",
       "    </tr>\n",
       "    <tr>\n",
       "      <th>8</th>\n",
       "      <td>Netherlands</td>\n",
       "      <td>90</td>\n",
       "      <td>53</td>\n",
       "      <td>37</td>\n",
       "    </tr>\n",
       "    <tr>\n",
       "      <th>3</th>\n",
       "      <td>France</td>\n",
       "      <td>86</td>\n",
       "      <td>59</td>\n",
       "      <td>27</td>\n",
       "    </tr>\n",
       "    <tr>\n",
       "      <th>0</th>\n",
       "      <td>Austria</td>\n",
       "      <td>62</td>\n",
       "      <td>42</td>\n",
       "      <td>20</td>\n",
       "    </tr>\n",
       "    <tr>\n",
       "      <th>7</th>\n",
       "      <td>Italy</td>\n",
       "      <td>53</td>\n",
       "      <td>29</td>\n",
       "      <td>24</td>\n",
       "    </tr>\n",
       "  </tbody>\n",
       "</table>\n",
       "</div>"
      ],
      "text/plain": [
       "                         country  total  women  men\n",
       "2    Czechoslovakia (historical)   1817   1317  500\n",
       "9                         Poland   1404    849  555\n",
       "6                        Hungary   1030    832  198\n",
       "10                       Romania    948    690  258\n",
       "1   Austria-Hungary (historical)    478    358  120\n",
       "11                        Russia    199     81  118\n",
       "4                        Germany    147     82   65\n",
       "5                         Greece    129     68   61\n",
       "12       Yugoslavia (historical)    100     84   16\n",
       "8                    Netherlands     90     53   37\n",
       "3                         France     86     59   27\n",
       "0                        Austria     62     42   20\n",
       "7                          Italy     53     29   24"
      ]
     },
     "execution_count": 17,
     "metadata": {},
     "output_type": "execute_result"
    }
   ],
   "source": [
    "countries.sort_values('total',ascending=False)"
   ]
  },
  {
   "cell_type": "code",
   "execution_count": 18,
   "metadata": {},
   "outputs": [
    {
     "data": {
      "text/plain": [
       "5677"
      ]
     },
     "execution_count": 18,
     "metadata": {},
     "output_type": "execute_result"
    }
   ],
   "source": [
    "countries.sort_values('total',ascending=False)[0:5].total.sum()"
   ]
  },
  {
   "cell_type": "code",
   "execution_count": 19,
   "metadata": {},
   "outputs": [
    {
     "data": {
      "text/plain": [
       "866"
      ]
     },
     "execution_count": 19,
     "metadata": {},
     "output_type": "execute_result"
    }
   ],
   "source": [
    "countries.sort_values('total',ascending=False)[5:].total.sum()"
   ]
  },
  {
   "cell_type": "code",
   "execution_count": 20,
   "metadata": {},
   "outputs": [
    {
     "data": {
      "text/plain": [
       "2      Czechoslovakia (historical)\n",
       "9                           Poland\n",
       "6                          Hungary\n",
       "10                         Romania\n",
       "1     Austria-Hungary (historical)\n",
       "Name: country, dtype: object"
      ]
     },
     "execution_count": 20,
     "metadata": {},
     "output_type": "execute_result"
    }
   ],
   "source": [
    "countries.sort_values('total',ascending=False)[0:5].country"
   ]
  },
  {
   "cell_type": "code",
   "execution_count": 21,
   "metadata": {},
   "outputs": [],
   "source": [
    "countries_to_study = countries.sort_values('total',ascending=False).country.to_list()"
   ]
  },
  {
   "cell_type": "markdown",
   "metadata": {},
   "source": [
    "## Load the relevant data"
   ]
  },
  {
   "cell_type": "code",
   "execution_count": 22,
   "metadata": {},
   "outputs": [],
   "source": [
    "input_directory = constants.output_data_markov_modelling\n",
    "\n",
    "path = os.getcwd()\n",
    "parent = os.path.abspath(os.path.join(path, os.pardir))\n",
    "input_directory = parent +'/'+ constants.output_data_markov_modelling\n",
    "input_directory_fisher = parent +'/'+ constants.output_data_report_statistical_analysis\n",
    "input_file_fisher = 'strength_of_association_odds_ratio'"
   ]
  },
  {
   "cell_type": "code",
   "execution_count": 23,
   "metadata": {},
   "outputs": [],
   "source": [
    "data_sets_1 = {}\n",
    "for country in countries_to_study:\n",
    "    data_sets_1[country+'_w']= pd.read_csv(input_directory+country+'_w'+'/'+'stationary_probs.csv')\n",
    "    data_sets_1[country+'_m']= pd.read_csv(input_directory+country+'_m'+'/'+'stationary_probs.csv')\n",
    "    match ='strength_of_association_odds_ratio_Czechoslovakia (historical)_w_Czechoslovakia (historical)_m.csv'\n",
    "    fisher_input_file_name = input_directory_fisher+input_file_fisher+'_'+country+'_w_'+country+'_m.csv'\n",
    "    data_sets_1[country+'_fisher']= pd.read_csv(fisher_input_file_name)"
   ]
  },
  {
   "cell_type": "markdown",
   "metadata": {},
   "source": [
    "## Observation 1"
   ]
  },
  {
   "cell_type": "markdown",
   "metadata": {},
   "source": [
    "## Qualitative description"
   ]
  },
  {
   "cell_type": "markdown",
   "metadata": {},
   "source": [
    "When comparing man and women of the same nationalities, we can see that women are either more likely to remember about social life in Birkenau or the difference between men and women is insignificant."
   ]
  },
  {
   "cell_type": "markdown",
   "metadata": {},
   "source": [
    "## Quantitative proof"
   ]
  },
  {
   "cell_type": "code",
   "execution_count": 11,
   "metadata": {
    "scrolled": false
   },
   "outputs": [
    {
     "name": "stdout",
     "output_type": "stream",
     "text": [
      "\n",
      "\n",
      "Czechoslovakia (historical)\n",
      "Probability of women talking about social relations\n",
      "0.013996883228215429\n",
      "Probability of men talking about social relations\n",
      "0.011489593190402068\n",
      "Women to man ratio\n",
      "1.2182226991211358\n",
      "Man to woman ratio\n",
      "0.8208679748960773\n",
      "Result of Fisher test and odds ratio analysis:\n"
     ]
    },
    {
     "data": {
      "text/html": [
       "<div>\n",
       "<style scoped>\n",
       "    .dataframe tbody tr th:only-of-type {\n",
       "        vertical-align: middle;\n",
       "    }\n",
       "\n",
       "    .dataframe tbody tr th {\n",
       "        vertical-align: top;\n",
       "    }\n",
       "\n",
       "    .dataframe thead th {\n",
       "        text-align: right;\n",
       "    }\n",
       "</style>\n",
       "<table border=\"1\" class=\"dataframe\">\n",
       "  <thead>\n",
       "    <tr style=\"text-align: right;\">\n",
       "      <th></th>\n",
       "      <th>Unnamed: 0</th>\n",
       "      <th>topic_word</th>\n",
       "      <th>p_value</th>\n",
       "      <th>Czechoslovakia (historical)_w</th>\n",
       "      <th>Czechoslovakia (historical)_m</th>\n",
       "      <th>count_Czechoslovakia (historical)_w</th>\n",
       "      <th>count_Czechoslovakia (historical)_m</th>\n",
       "      <th>significance_Bonferroni_corrected</th>\n",
       "      <th>significance</th>\n",
       "    </tr>\n",
       "  </thead>\n",
       "  <tbody>\n",
       "    <tr>\n",
       "      <th>36</th>\n",
       "      <td>660</td>\n",
       "      <td>social relations</td>\n",
       "      <td>0.005392</td>\n",
       "      <td>1.558637</td>\n",
       "      <td>0.641586</td>\n",
       "      <td>220</td>\n",
       "      <td>57</td>\n",
       "      <td>False</td>\n",
       "      <td>True</td>\n",
       "    </tr>\n",
       "  </tbody>\n",
       "</table>\n",
       "</div>"
      ],
      "text/plain": [
       "    Unnamed: 0        topic_word   p_value  Czechoslovakia (historical)_w  \\\n",
       "36         660  social relations  0.005392                       1.558637   \n",
       "\n",
       "    Czechoslovakia (historical)_m  count_Czechoslovakia (historical)_w  \\\n",
       "36                       0.641586                                  220   \n",
       "\n",
       "    count_Czechoslovakia (historical)_m  significance_Bonferroni_corrected  \\\n",
       "36                                   57                              False   \n",
       "\n",
       "    significance  \n",
       "36          True  "
      ]
     },
     "metadata": {},
     "output_type": "display_data"
    },
    {
     "name": "stdout",
     "output_type": "stream",
     "text": [
      "\n",
      "\n",
      "Poland\n",
      "Probability of women talking about social relations\n",
      "0.012415181110621159\n",
      "Probability of men talking about social relations\n",
      "0.012646334944623291\n",
      "Women to man ratio\n",
      "0.9817216739067622\n",
      "Man to woman ratio\n",
      "1.018618643734837\n",
      "Result of Fisher test and odds ratio analysis:\n"
     ]
    },
    {
     "data": {
      "text/html": [
       "<div>\n",
       "<style scoped>\n",
       "    .dataframe tbody tr th:only-of-type {\n",
       "        vertical-align: middle;\n",
       "    }\n",
       "\n",
       "    .dataframe tbody tr th {\n",
       "        vertical-align: top;\n",
       "    }\n",
       "\n",
       "    .dataframe thead th {\n",
       "        text-align: right;\n",
       "    }\n",
       "</style>\n",
       "<table border=\"1\" class=\"dataframe\">\n",
       "  <thead>\n",
       "    <tr style=\"text-align: right;\">\n",
       "      <th></th>\n",
       "      <th>Unnamed: 0</th>\n",
       "      <th>topic_word</th>\n",
       "      <th>p_value</th>\n",
       "      <th>Poland_w</th>\n",
       "      <th>Poland_m</th>\n",
       "      <th>count_Poland_w</th>\n",
       "      <th>count_Poland_m</th>\n",
       "      <th>significance_Bonferroni_corrected</th>\n",
       "      <th>significance</th>\n",
       "    </tr>\n",
       "  </thead>\n",
       "  <tbody>\n",
       "    <tr>\n",
       "      <th>282</th>\n",
       "      <td>660</td>\n",
       "      <td>social relations</td>\n",
       "      <td>0.456524</td>\n",
       "      <td>1.141957</td>\n",
       "      <td>0.87569</td>\n",
       "      <td>110</td>\n",
       "      <td>64</td>\n",
       "      <td>False</td>\n",
       "      <td>False</td>\n",
       "    </tr>\n",
       "  </tbody>\n",
       "</table>\n",
       "</div>"
      ],
      "text/plain": [
       "     Unnamed: 0        topic_word   p_value  Poland_w  Poland_m  \\\n",
       "282         660  social relations  0.456524  1.141957   0.87569   \n",
       "\n",
       "     count_Poland_w  count_Poland_m  significance_Bonferroni_corrected  \\\n",
       "282             110              64                              False   \n",
       "\n",
       "     significance  \n",
       "282         False  "
      ]
     },
     "metadata": {},
     "output_type": "display_data"
    },
    {
     "name": "stdout",
     "output_type": "stream",
     "text": [
      "\n",
      "\n",
      "Hungary\n",
      "Probability of women talking about social relations\n",
      "0.011776310484746585\n",
      "Probability of men talking about social relations\n",
      "0.008662454144909279\n",
      "Women to man ratio\n",
      "1.3594658381732672\n",
      "Man to woman ratio\n",
      "0.7355830296873909\n",
      "Result of Fisher test and odds ratio analysis:\n"
     ]
    },
    {
     "data": {
      "text/html": [
       "<div>\n",
       "<style scoped>\n",
       "    .dataframe tbody tr th:only-of-type {\n",
       "        vertical-align: middle;\n",
       "    }\n",
       "\n",
       "    .dataframe tbody tr th {\n",
       "        vertical-align: top;\n",
       "    }\n",
       "\n",
       "    .dataframe thead th {\n",
       "        text-align: right;\n",
       "    }\n",
       "</style>\n",
       "<table border=\"1\" class=\"dataframe\">\n",
       "  <thead>\n",
       "    <tr style=\"text-align: right;\">\n",
       "      <th></th>\n",
       "      <th>Unnamed: 0</th>\n",
       "      <th>topic_word</th>\n",
       "      <th>p_value</th>\n",
       "      <th>Hungary_w</th>\n",
       "      <th>Hungary_m</th>\n",
       "      <th>count_Hungary_w</th>\n",
       "      <th>count_Hungary_m</th>\n",
       "      <th>significance_Bonferroni_corrected</th>\n",
       "      <th>significance</th>\n",
       "    </tr>\n",
       "  </thead>\n",
       "  <tbody>\n",
       "    <tr>\n",
       "      <th>192</th>\n",
       "      <td>660</td>\n",
       "      <td>social relations</td>\n",
       "      <td>0.320803</td>\n",
       "      <td>1.293181</td>\n",
       "      <td>0.773287</td>\n",
       "      <td>131</td>\n",
       "      <td>25</td>\n",
       "      <td>False</td>\n",
       "      <td>False</td>\n",
       "    </tr>\n",
       "  </tbody>\n",
       "</table>\n",
       "</div>"
      ],
      "text/plain": [
       "     Unnamed: 0        topic_word   p_value  Hungary_w  Hungary_m  \\\n",
       "192         660  social relations  0.320803   1.293181   0.773287   \n",
       "\n",
       "     count_Hungary_w  count_Hungary_m  significance_Bonferroni_corrected  \\\n",
       "192              131               25                              False   \n",
       "\n",
       "     significance  \n",
       "192         False  "
      ]
     },
     "metadata": {},
     "output_type": "display_data"
    },
    {
     "name": "stdout",
     "output_type": "stream",
     "text": [
      "\n",
      "\n",
      "Romania\n",
      "Probability of women talking about social relations\n",
      "0.015551357299989032\n",
      "Probability of men talking about social relations\n",
      "0.011225185412384679\n",
      "Women to man ratio\n",
      "1.3853987019966114\n",
      "Man to woman ratio\n",
      "0.721813871024145\n",
      "Result of Fisher test and odds ratio analysis:\n"
     ]
    },
    {
     "data": {
      "text/html": [
       "<div>\n",
       "<style scoped>\n",
       "    .dataframe tbody tr th:only-of-type {\n",
       "        vertical-align: middle;\n",
       "    }\n",
       "\n",
       "    .dataframe tbody tr th {\n",
       "        vertical-align: top;\n",
       "    }\n",
       "\n",
       "    .dataframe thead th {\n",
       "        text-align: right;\n",
       "    }\n",
       "</style>\n",
       "<table border=\"1\" class=\"dataframe\">\n",
       "  <thead>\n",
       "    <tr style=\"text-align: right;\">\n",
       "      <th></th>\n",
       "      <th>Unnamed: 0</th>\n",
       "      <th>topic_word</th>\n",
       "      <th>p_value</th>\n",
       "      <th>Romania_w</th>\n",
       "      <th>Romania_m</th>\n",
       "      <th>count_Romania_w</th>\n",
       "      <th>count_Romania_m</th>\n",
       "      <th>significance_Bonferroni_corrected</th>\n",
       "      <th>significance</th>\n",
       "    </tr>\n",
       "  </thead>\n",
       "  <tbody>\n",
       "    <tr>\n",
       "      <th>334</th>\n",
       "      <td>660</td>\n",
       "      <td>social relations</td>\n",
       "      <td>0.843399</td>\n",
       "      <td>0.958549</td>\n",
       "      <td>1.043243</td>\n",
       "      <td>111</td>\n",
       "      <td>43</td>\n",
       "      <td>False</td>\n",
       "      <td>False</td>\n",
       "    </tr>\n",
       "  </tbody>\n",
       "</table>\n",
       "</div>"
      ],
      "text/plain": [
       "     Unnamed: 0        topic_word   p_value  Romania_w  Romania_m  \\\n",
       "334         660  social relations  0.843399   0.958549   1.043243   \n",
       "\n",
       "     count_Romania_w  count_Romania_m  significance_Bonferroni_corrected  \\\n",
       "334              111               43                              False   \n",
       "\n",
       "     significance  \n",
       "334         False  "
      ]
     },
     "metadata": {},
     "output_type": "display_data"
    },
    {
     "name": "stdout",
     "output_type": "stream",
     "text": [
      "\n",
      "\n",
      "Austria-Hungary (historical)\n",
      "Probability of women talking about social relations\n",
      "0.012401637350998078\n",
      "Probability of men talking about social relations\n",
      "0.01229148284952425\n",
      "Women to man ratio\n",
      "1.0089618561749114\n",
      "Man to woman ratio\n",
      "0.9911177453140926\n",
      "Result of Fisher test and odds ratio analysis:\n"
     ]
    },
    {
     "data": {
      "text/html": [
       "<div>\n",
       "<style scoped>\n",
       "    .dataframe tbody tr th:only-of-type {\n",
       "        vertical-align: middle;\n",
       "    }\n",
       "\n",
       "    .dataframe tbody tr th {\n",
       "        vertical-align: top;\n",
       "    }\n",
       "\n",
       "    .dataframe thead th {\n",
       "        text-align: right;\n",
       "    }\n",
       "</style>\n",
       "<table border=\"1\" class=\"dataframe\">\n",
       "  <thead>\n",
       "    <tr style=\"text-align: right;\">\n",
       "      <th></th>\n",
       "      <th>Unnamed: 0</th>\n",
       "      <th>topic_word</th>\n",
       "      <th>p_value</th>\n",
       "      <th>Austria-Hungary (historical)_w</th>\n",
       "      <th>Austria-Hungary (historical)_m</th>\n",
       "      <th>count_Austria-Hungary (historical)_w</th>\n",
       "      <th>count_Austria-Hungary (historical)_m</th>\n",
       "      <th>significance_Bonferroni_corrected</th>\n",
       "      <th>significance</th>\n",
       "    </tr>\n",
       "  </thead>\n",
       "  <tbody>\n",
       "    <tr>\n",
       "      <th>158</th>\n",
       "      <td>660</td>\n",
       "      <td>social relations</td>\n",
       "      <td>0.321441</td>\n",
       "      <td>0.719485</td>\n",
       "      <td>1.389882</td>\n",
       "      <td>38</td>\n",
       "      <td>17</td>\n",
       "      <td>False</td>\n",
       "      <td>False</td>\n",
       "    </tr>\n",
       "  </tbody>\n",
       "</table>\n",
       "</div>"
      ],
      "text/plain": [
       "     Unnamed: 0        topic_word   p_value  Austria-Hungary (historical)_w  \\\n",
       "158         660  social relations  0.321441                        0.719485   \n",
       "\n",
       "     Austria-Hungary (historical)_m  count_Austria-Hungary (historical)_w  \\\n",
       "158                        1.389882                                    38   \n",
       "\n",
       "     count_Austria-Hungary (historical)_m  significance_Bonferroni_corrected  \\\n",
       "158                                    17                              False   \n",
       "\n",
       "     significance  \n",
       "158         False  "
      ]
     },
     "metadata": {},
     "output_type": "display_data"
    },
    {
     "name": "stdout",
     "output_type": "stream",
     "text": [
      "\n",
      "\n",
      "Russia\n",
      "Probability of women talking about social relations\n",
      "0.01288090788065952\n",
      "Probability of men talking about social relations\n",
      "0.013007174352222005\n",
      "Women to man ratio\n",
      "0.990292551776173\n",
      "Man to woman ratio\n",
      "1.0098026065190693\n",
      "Result of Fisher test and odds ratio analysis:\n"
     ]
    },
    {
     "data": {
      "text/html": [
       "<div>\n",
       "<style scoped>\n",
       "    .dataframe tbody tr th:only-of-type {\n",
       "        vertical-align: middle;\n",
       "    }\n",
       "\n",
       "    .dataframe tbody tr th {\n",
       "        vertical-align: top;\n",
       "    }\n",
       "\n",
       "    .dataframe thead th {\n",
       "        text-align: right;\n",
       "    }\n",
       "</style>\n",
       "<table border=\"1\" class=\"dataframe\">\n",
       "  <thead>\n",
       "    <tr style=\"text-align: right;\">\n",
       "      <th></th>\n",
       "      <th>Unnamed: 0</th>\n",
       "      <th>topic_word</th>\n",
       "      <th>p_value</th>\n",
       "      <th>Russia_w</th>\n",
       "      <th>Russia_m</th>\n",
       "      <th>count_Russia_w</th>\n",
       "      <th>count_Russia_m</th>\n",
       "      <th>significance_Bonferroni_corrected</th>\n",
       "      <th>significance</th>\n",
       "    </tr>\n",
       "  </thead>\n",
       "  <tbody>\n",
       "    <tr>\n",
       "      <th>115</th>\n",
       "      <td>660</td>\n",
       "      <td>social relations</td>\n",
       "      <td>0.472576</td>\n",
       "      <td>1.521127</td>\n",
       "      <td>0.657407</td>\n",
       "      <td>10</td>\n",
       "      <td>10</td>\n",
       "      <td>False</td>\n",
       "      <td>False</td>\n",
       "    </tr>\n",
       "  </tbody>\n",
       "</table>\n",
       "</div>"
      ],
      "text/plain": [
       "     Unnamed: 0        topic_word   p_value  Russia_w  Russia_m  \\\n",
       "115         660  social relations  0.472576  1.521127  0.657407   \n",
       "\n",
       "     count_Russia_w  count_Russia_m  significance_Bonferroni_corrected  \\\n",
       "115              10              10                              False   \n",
       "\n",
       "     significance  \n",
       "115         False  "
      ]
     },
     "metadata": {},
     "output_type": "display_data"
    },
    {
     "name": "stdout",
     "output_type": "stream",
     "text": [
      "\n",
      "\n",
      "Germany\n",
      "Probability of women talking about social relations\n",
      "0.011967706660493559\n",
      "Probability of men talking about social relations\n",
      "0.002061562236042166\n",
      "Women to man ratio\n",
      "5.805163895255199\n",
      "Man to woman ratio\n",
      "0.172260425035948\n",
      "Result of Fisher test and odds ratio analysis:\n"
     ]
    },
    {
     "data": {
      "text/html": [
       "<div>\n",
       "<style scoped>\n",
       "    .dataframe tbody tr th:only-of-type {\n",
       "        vertical-align: middle;\n",
       "    }\n",
       "\n",
       "    .dataframe tbody tr th {\n",
       "        vertical-align: top;\n",
       "    }\n",
       "\n",
       "    .dataframe thead th {\n",
       "        text-align: right;\n",
       "    }\n",
       "</style>\n",
       "<table border=\"1\" class=\"dataframe\">\n",
       "  <thead>\n",
       "    <tr style=\"text-align: right;\">\n",
       "      <th></th>\n",
       "      <th>Unnamed: 0</th>\n",
       "      <th>topic_word</th>\n",
       "      <th>p_value</th>\n",
       "      <th>Germany_w</th>\n",
       "      <th>Germany_m</th>\n",
       "      <th>count_Germany_w</th>\n",
       "      <th>count_Germany_m</th>\n",
       "      <th>significance_Bonferroni_corrected</th>\n",
       "      <th>significance</th>\n",
       "    </tr>\n",
       "  </thead>\n",
       "  <tbody>\n",
       "    <tr>\n",
       "      <th>71</th>\n",
       "      <td>660</td>\n",
       "      <td>social relations</td>\n",
       "      <td>0.387706</td>\n",
       "      <td>1.880137</td>\n",
       "      <td>0.531876</td>\n",
       "      <td>9</td>\n",
       "      <td>4</td>\n",
       "      <td>False</td>\n",
       "      <td>False</td>\n",
       "    </tr>\n",
       "  </tbody>\n",
       "</table>\n",
       "</div>"
      ],
      "text/plain": [
       "    Unnamed: 0        topic_word   p_value  Germany_w  Germany_m  \\\n",
       "71         660  social relations  0.387706   1.880137   0.531876   \n",
       "\n",
       "    count_Germany_w  count_Germany_m  significance_Bonferroni_corrected  \\\n",
       "71                9                4                              False   \n",
       "\n",
       "    significance  \n",
       "71         False  "
      ]
     },
     "metadata": {},
     "output_type": "display_data"
    },
    {
     "name": "stdout",
     "output_type": "stream",
     "text": [
      "\n",
      "\n",
      "Greece\n",
      "Probability of women talking about social relations\n",
      "0.009449999078103032\n",
      "Probability of men talking about social relations\n",
      "0.011391323828737636\n",
      "Women to man ratio\n",
      "0.8295786530326618\n",
      "Man to woman ratio\n",
      "1.2054312105842344\n",
      "Result of Fisher test and odds ratio analysis:\n"
     ]
    },
    {
     "data": {
      "text/html": [
       "<div>\n",
       "<style scoped>\n",
       "    .dataframe tbody tr th:only-of-type {\n",
       "        vertical-align: middle;\n",
       "    }\n",
       "\n",
       "    .dataframe tbody tr th {\n",
       "        vertical-align: top;\n",
       "    }\n",
       "\n",
       "    .dataframe thead th {\n",
       "        text-align: right;\n",
       "    }\n",
       "</style>\n",
       "<table border=\"1\" class=\"dataframe\">\n",
       "  <thead>\n",
       "    <tr style=\"text-align: right;\">\n",
       "      <th></th>\n",
       "      <th>Unnamed: 0</th>\n",
       "      <th>topic_word</th>\n",
       "      <th>p_value</th>\n",
       "      <th>Greece_w</th>\n",
       "      <th>Greece_m</th>\n",
       "      <th>count_Greece_w</th>\n",
       "      <th>count_Greece_m</th>\n",
       "      <th>significance_Bonferroni_corrected</th>\n",
       "      <th>significance</th>\n",
       "    </tr>\n",
       "  </thead>\n",
       "  <tbody>\n",
       "    <tr>\n",
       "      <th>98</th>\n",
       "      <td>660</td>\n",
       "      <td>social relations</td>\n",
       "      <td>0.400165</td>\n",
       "      <td>0.664773</td>\n",
       "      <td>1.504274</td>\n",
       "      <td>13</td>\n",
       "      <td>16</td>\n",
       "      <td>False</td>\n",
       "      <td>False</td>\n",
       "    </tr>\n",
       "  </tbody>\n",
       "</table>\n",
       "</div>"
      ],
      "text/plain": [
       "    Unnamed: 0        topic_word   p_value  Greece_w  Greece_m  \\\n",
       "98         660  social relations  0.400165  0.664773  1.504274   \n",
       "\n",
       "    count_Greece_w  count_Greece_m  significance_Bonferroni_corrected  \\\n",
       "98              13              16                              False   \n",
       "\n",
       "    significance  \n",
       "98         False  "
      ]
     },
     "metadata": {},
     "output_type": "display_data"
    },
    {
     "name": "stdout",
     "output_type": "stream",
     "text": [
      "\n",
      "\n",
      "Yugoslavia (historical)\n",
      "Probability of women talking about social relations\n",
      "0.015847412551267547\n",
      "Probability of men talking about social relations\n",
      "0.009355064171538705\n",
      "Women to man ratio\n",
      "1.6939929283949522\n",
      "Man to woman ratio\n",
      "0.5903212364336691\n",
      "Result of Fisher test and odds ratio analysis:\n"
     ]
    },
    {
     "data": {
      "text/html": [
       "<div>\n",
       "<style scoped>\n",
       "    .dataframe tbody tr th:only-of-type {\n",
       "        vertical-align: middle;\n",
       "    }\n",
       "\n",
       "    .dataframe tbody tr th {\n",
       "        vertical-align: top;\n",
       "    }\n",
       "\n",
       "    .dataframe thead th {\n",
       "        text-align: right;\n",
       "    }\n",
       "</style>\n",
       "<table border=\"1\" class=\"dataframe\">\n",
       "  <thead>\n",
       "    <tr style=\"text-align: right;\">\n",
       "      <th></th>\n",
       "      <th>Unnamed: 0</th>\n",
       "      <th>topic_word</th>\n",
       "      <th>p_value</th>\n",
       "      <th>Yugoslavia (historical)_w</th>\n",
       "      <th>Yugoslavia (historical)_m</th>\n",
       "      <th>count_Yugoslavia (historical)_w</th>\n",
       "      <th>count_Yugoslavia (historical)_m</th>\n",
       "      <th>significance_Bonferroni_corrected</th>\n",
       "      <th>significance</th>\n",
       "    </tr>\n",
       "  </thead>\n",
       "  <tbody>\n",
       "    <tr>\n",
       "      <th>212</th>\n",
       "      <td>660</td>\n",
       "      <td>social relations</td>\n",
       "      <td>1.0</td>\n",
       "      <td>1.019608</td>\n",
       "      <td>0.980769</td>\n",
       "      <td>16</td>\n",
       "      <td>3</td>\n",
       "      <td>False</td>\n",
       "      <td>False</td>\n",
       "    </tr>\n",
       "  </tbody>\n",
       "</table>\n",
       "</div>"
      ],
      "text/plain": [
       "     Unnamed: 0        topic_word  p_value  Yugoslavia (historical)_w  \\\n",
       "212         660  social relations      1.0                   1.019608   \n",
       "\n",
       "     Yugoslavia (historical)_m  count_Yugoslavia (historical)_w  \\\n",
       "212                   0.980769                               16   \n",
       "\n",
       "     count_Yugoslavia (historical)_m  significance_Bonferroni_corrected  \\\n",
       "212                                3                              False   \n",
       "\n",
       "     significance  \n",
       "212         False  "
      ]
     },
     "metadata": {},
     "output_type": "display_data"
    },
    {
     "name": "stdout",
     "output_type": "stream",
     "text": [
      "\n",
      "\n",
      "Netherlands\n",
      "Probability of women talking about social relations\n",
      "0.028174032182249887\n",
      "Probability of men talking about social relations\n",
      "0.021892866748407274\n",
      "Women to man ratio\n",
      "1.2869046573948373\n",
      "Man to woman ratio\n",
      "0.7770583424760957\n",
      "Result of Fisher test and odds ratio analysis:\n"
     ]
    },
    {
     "data": {
      "text/html": [
       "<div>\n",
       "<style scoped>\n",
       "    .dataframe tbody tr th:only-of-type {\n",
       "        vertical-align: middle;\n",
       "    }\n",
       "\n",
       "    .dataframe tbody tr th {\n",
       "        vertical-align: top;\n",
       "    }\n",
       "\n",
       "    .dataframe thead th {\n",
       "        text-align: right;\n",
       "    }\n",
       "</style>\n",
       "<table border=\"1\" class=\"dataframe\">\n",
       "  <thead>\n",
       "    <tr style=\"text-align: right;\">\n",
       "      <th></th>\n",
       "      <th>Unnamed: 0</th>\n",
       "      <th>topic_word</th>\n",
       "      <th>p_value</th>\n",
       "      <th>Netherlands_w</th>\n",
       "      <th>Netherlands_m</th>\n",
       "      <th>count_Netherlands_w</th>\n",
       "      <th>count_Netherlands_m</th>\n",
       "      <th>significance_Bonferroni_corrected</th>\n",
       "      <th>significance</th>\n",
       "    </tr>\n",
       "  </thead>\n",
       "  <tbody>\n",
       "    <tr>\n",
       "      <th>239</th>\n",
       "      <td>660</td>\n",
       "      <td>social relations</td>\n",
       "      <td>1.0</td>\n",
       "      <td>1.060976</td>\n",
       "      <td>0.942529</td>\n",
       "      <td>12</td>\n",
       "      <td>8</td>\n",
       "      <td>False</td>\n",
       "      <td>False</td>\n",
       "    </tr>\n",
       "  </tbody>\n",
       "</table>\n",
       "</div>"
      ],
      "text/plain": [
       "     Unnamed: 0        topic_word  p_value  Netherlands_w  Netherlands_m  \\\n",
       "239         660  social relations      1.0       1.060976       0.942529   \n",
       "\n",
       "     count_Netherlands_w  count_Netherlands_m  \\\n",
       "239                   12                    8   \n",
       "\n",
       "     significance_Bonferroni_corrected  significance  \n",
       "239                              False         False  "
      ]
     },
     "metadata": {},
     "output_type": "display_data"
    },
    {
     "name": "stdout",
     "output_type": "stream",
     "text": [
      "\n",
      "\n",
      "France\n",
      "Probability of women talking about social relations\n",
      "0.010747800336578977\n",
      "Probability of men talking about social relations\n",
      "0.007015709544335696\n",
      "Women to man ratio\n",
      "1.5319619874024681\n",
      "Man to woman ratio\n",
      "0.6527577108460497\n",
      "Result of Fisher test and odds ratio analysis:\n"
     ]
    },
    {
     "data": {
      "text/html": [
       "<div>\n",
       "<style scoped>\n",
       "    .dataframe tbody tr th:only-of-type {\n",
       "        vertical-align: middle;\n",
       "    }\n",
       "\n",
       "    .dataframe tbody tr th {\n",
       "        vertical-align: top;\n",
       "    }\n",
       "\n",
       "    .dataframe thead th {\n",
       "        text-align: right;\n",
       "    }\n",
       "</style>\n",
       "<table border=\"1\" class=\"dataframe\">\n",
       "  <thead>\n",
       "    <tr style=\"text-align: right;\">\n",
       "      <th></th>\n",
       "      <th>Unnamed: 0</th>\n",
       "      <th>topic_word</th>\n",
       "      <th>p_value</th>\n",
       "      <th>France_w</th>\n",
       "      <th>France_m</th>\n",
       "      <th>count_France_w</th>\n",
       "      <th>count_France_m</th>\n",
       "      <th>significance_Bonferroni_corrected</th>\n",
       "      <th>significance</th>\n",
       "    </tr>\n",
       "  </thead>\n",
       "  <tbody>\n",
       "    <tr>\n",
       "      <th>75</th>\n",
       "      <td>660</td>\n",
       "      <td>social relations</td>\n",
       "      <td>0.370941</td>\n",
       "      <td>2.042553</td>\n",
       "      <td>0.489583</td>\n",
       "      <td>12</td>\n",
       "      <td>3</td>\n",
       "      <td>False</td>\n",
       "      <td>False</td>\n",
       "    </tr>\n",
       "  </tbody>\n",
       "</table>\n",
       "</div>"
      ],
      "text/plain": [
       "    Unnamed: 0        topic_word   p_value  France_w  France_m  \\\n",
       "75         660  social relations  0.370941  2.042553  0.489583   \n",
       "\n",
       "    count_France_w  count_France_m  significance_Bonferroni_corrected  \\\n",
       "75              12               3                              False   \n",
       "\n",
       "    significance  \n",
       "75         False  "
      ]
     },
     "metadata": {},
     "output_type": "display_data"
    },
    {
     "name": "stdout",
     "output_type": "stream",
     "text": [
      "\n",
      "\n",
      "Austria\n",
      "\n",
      "\n",
      "Italy\n",
      "Probability of women talking about social relations\n",
      "0.015848007067477132\n",
      "Probability of men talking about social relations\n",
      "0.017990537206496522\n",
      "Women to man ratio\n",
      "0.8809079398559757\n",
      "Man to woman ratio\n",
      "1.1351924017888808\n",
      "Result of Fisher test and odds ratio analysis:\n"
     ]
    },
    {
     "data": {
      "text/html": [
       "<div>\n",
       "<style scoped>\n",
       "    .dataframe tbody tr th:only-of-type {\n",
       "        vertical-align: middle;\n",
       "    }\n",
       "\n",
       "    .dataframe tbody tr th {\n",
       "        vertical-align: top;\n",
       "    }\n",
       "\n",
       "    .dataframe thead th {\n",
       "        text-align: right;\n",
       "    }\n",
       "</style>\n",
       "<table border=\"1\" class=\"dataframe\">\n",
       "  <thead>\n",
       "    <tr style=\"text-align: right;\">\n",
       "      <th></th>\n",
       "      <th>Unnamed: 0</th>\n",
       "      <th>topic_word</th>\n",
       "      <th>p_value</th>\n",
       "      <th>Italy_w</th>\n",
       "      <th>Italy_m</th>\n",
       "      <th>count_Italy_w</th>\n",
       "      <th>count_Italy_m</th>\n",
       "      <th>significance_Bonferroni_corrected</th>\n",
       "      <th>significance</th>\n",
       "    </tr>\n",
       "  </thead>\n",
       "  <tbody>\n",
       "    <tr>\n",
       "      <th>160</th>\n",
       "      <td>660</td>\n",
       "      <td>social relations</td>\n",
       "      <td>0.77202</td>\n",
       "      <td>1.278195</td>\n",
       "      <td>0.782353</td>\n",
       "      <td>10</td>\n",
       "      <td>7</td>\n",
       "      <td>False</td>\n",
       "      <td>False</td>\n",
       "    </tr>\n",
       "  </tbody>\n",
       "</table>\n",
       "</div>"
      ],
      "text/plain": [
       "     Unnamed: 0        topic_word  p_value   Italy_w   Italy_m  count_Italy_w  \\\n",
       "160         660  social relations  0.77202  1.278195  0.782353             10   \n",
       "\n",
       "     count_Italy_m  significance_Bonferroni_corrected  significance  \n",
       "160              7                              False         False  "
      ]
     },
     "metadata": {},
     "output_type": "display_data"
    }
   ],
   "source": [
    "topic_word = \"social bonds\"\n",
    "for country in countries_to_study:\n",
    "    try:\n",
    "        print ('\\n')\n",
    "        print (country)\n",
    "\n",
    "        men = data_sets_1[country+'_m']\n",
    "        topic_m = men[men.topic_name==topic_word]['stationary_prob'].values[0]\n",
    "        women = data_sets_1[country+'_w']\n",
    "        topic_w = women[women.topic_name==topic_word]['stationary_prob'].values[0]\n",
    "        print (\"Probability of women talking about \"+topic_word)\n",
    "        print(topic_w)\n",
    "        print (\"Probability of men talking about \"+topic_word)\n",
    "        print(topic_m)\n",
    "        print (\"Women to man ratio\")\n",
    "        print (topic_w/topic_m)\n",
    "        print (\"Man to woman ratio\")\n",
    "        print (topic_m/topic_w)\n",
    "        print ('Result of Fisher test and odds ratio analysis:')\n",
    "        df = data_sets_1[country+'_fisher']\n",
    "        display(df[df.topic_word==topic_word])\n",
    "    except:\n",
    "        pass\n"
   ]
  },
  {
   "cell_type": "markdown",
   "metadata": {},
   "source": [
    "![title](output/markov_modelling/bootstrap/Czechoslovakia%20(historical)_m_Czechoslovakia%20(historical)_w/social%20bonds.png)"
   ]
  },
  {
   "cell_type": "markdown",
   "metadata": {},
   "source": [
    "![title](output/markov_modelling/bootstrap/Poland_m_Poland_w/social%20bonds.png)"
   ]
  },
  {
   "cell_type": "markdown",
   "metadata": {},
   "source": [
    "![title](output/markov_modelling/bootstrap/Hungary_m_Hungary_w/social%20bonds.png)"
   ]
  },
  {
   "cell_type": "markdown",
   "metadata": {},
   "source": [
    "![title](output/markov_modelling/bootstrap/Romania_m_Romania_w/social%20bonds.png)"
   ]
  },
  {
   "cell_type": "markdown",
   "metadata": {},
   "source": [
    "![title](output/markov_modelling/bootstrap/Russia_m_Russia_w/social%20bonds.png)"
   ]
  },
  {
   "cell_type": "markdown",
   "metadata": {},
   "source": [
    "![title](output/markov_modelling/bootstrap/Germany_w_Germany_m/social%20bonds.png)"
   ]
  },
  {
   "cell_type": "markdown",
   "metadata": {},
   "source": [
    "![title](output/markov_modelling/bootstrap/Greece_m_Greece_w/social%20bonds.png)"
   ]
  },
  {
   "cell_type": "markdown",
   "metadata": {},
   "source": [
    "![title](output/markov_modelling/bootstrap/Yugoslavia%20(historical)_m_Yugoslavia%20(historical)_w/social%20bonds.png)"
   ]
  },
  {
   "cell_type": "markdown",
   "metadata": {},
   "source": [
    "![title](output/markov_modelling/bootstrap/Netherlands_m_Netherlands_w/social%20bonds.png)"
   ]
  },
  {
   "cell_type": "markdown",
   "metadata": {},
   "source": [
    "![title](output/markov_modelling/bootstrap/France_m_France_w/social%20bonds.png)"
   ]
  },
  {
   "cell_type": "markdown",
   "metadata": {},
   "source": [
    "![title](output/markov_modelling/bootstrap/Austria_m_Austria_w/social%20bonds.png)"
   ]
  },
  {
   "cell_type": "markdown",
   "metadata": {},
   "source": [
    "![title](output/markov_modelling/bootstrap/Italy_m_Italy_w/social%20bonds.png)"
   ]
  },
  {
   "cell_type": "markdown",
   "metadata": {},
   "source": [
    "## Observation 2"
   ]
  },
  {
   "cell_type": "markdown",
   "metadata": {},
   "source": [
    "## Qualitative description"
   ]
  },
  {
   "cell_type": "markdown",
   "metadata": {},
   "source": [
    "Just as above, women are either more likely to discuss aid giving or the difference between men and women is insignificant. There is no country in case of which men would outperform women with regards to aid giving; women of various nationalities generally tend to outperform men."
   ]
  },
  {
   "cell_type": "markdown",
   "metadata": {},
   "source": [
    "## Quantitative proof"
   ]
  },
  {
   "cell_type": "code",
   "execution_count": 24,
   "metadata": {},
   "outputs": [
    {
     "name": "stdout",
     "output_type": "stream",
     "text": [
      "Czechoslovakia (historical)\n",
      "\n",
      "\n",
      "Probability of women talking about aid giving\n",
      "26.964577466332297\n",
      "Probability of men talking about aid giving\n",
      "26.2988724778533\n",
      "Women to man ratio\n",
      "1.0253130619588198\n",
      "Result of Fisher test and odds ratio analysis:\n"
     ]
    },
    {
     "data": {
      "text/html": [
       "<div>\n",
       "<style scoped>\n",
       "    .dataframe tbody tr th:only-of-type {\n",
       "        vertical-align: middle;\n",
       "    }\n",
       "\n",
       "    .dataframe tbody tr th {\n",
       "        vertical-align: top;\n",
       "    }\n",
       "\n",
       "    .dataframe thead th {\n",
       "        text-align: right;\n",
       "    }\n",
       "</style>\n",
       "<table border=\"1\" class=\"dataframe\">\n",
       "  <thead>\n",
       "    <tr style=\"text-align: right;\">\n",
       "      <th></th>\n",
       "      <th>Unnamed: 0</th>\n",
       "      <th>topic_word</th>\n",
       "      <th>p_value</th>\n",
       "      <th>Czechoslovakia (historical)_w</th>\n",
       "      <th>Czechoslovakia (historical)_m</th>\n",
       "      <th>count_Czechoslovakia (historical)_w</th>\n",
       "      <th>count_Czechoslovakia (historical)_m</th>\n",
       "      <th>significance</th>\n",
       "    </tr>\n",
       "  </thead>\n",
       "  <tbody>\n",
       "    <tr>\n",
       "      <th>11</th>\n",
       "      <td>8</td>\n",
       "      <td>aid giving</td>\n",
       "      <td>0.00069</td>\n",
       "      <td>1.499115</td>\n",
       "      <td>0.66706</td>\n",
       "      <td>420</td>\n",
       "      <td>119</td>\n",
       "      <td>True</td>\n",
       "    </tr>\n",
       "  </tbody>\n",
       "</table>\n",
       "</div>"
      ],
      "text/plain": [
       "    Unnamed: 0  topic_word  p_value  Czechoslovakia (historical)_w  \\\n",
       "11           8  aid giving  0.00069                       1.499115   \n",
       "\n",
       "    Czechoslovakia (historical)_m  count_Czechoslovakia (historical)_w  \\\n",
       "11                        0.66706                                  420   \n",
       "\n",
       "    count_Czechoslovakia (historical)_m  significance  \n",
       "11                                  119          True  "
      ]
     },
     "metadata": {},
     "output_type": "display_data"
    },
    {
     "name": "stdout",
     "output_type": "stream",
     "text": [
      "Poland\n",
      "\n",
      "\n",
      "Probability of women talking about aid giving\n",
      "39.2647050716254\n",
      "Probability of men talking about aid giving\n",
      "26.9301209489735\n",
      "Women to man ratio\n",
      "1.4580218613211262\n",
      "Result of Fisher test and odds ratio analysis:\n"
     ]
    },
    {
     "data": {
      "text/html": [
       "<div>\n",
       "<style scoped>\n",
       "    .dataframe tbody tr th:only-of-type {\n",
       "        vertical-align: middle;\n",
       "    }\n",
       "\n",
       "    .dataframe tbody tr th {\n",
       "        vertical-align: top;\n",
       "    }\n",
       "\n",
       "    .dataframe thead th {\n",
       "        text-align: right;\n",
       "    }\n",
       "</style>\n",
       "<table border=\"1\" class=\"dataframe\">\n",
       "  <thead>\n",
       "    <tr style=\"text-align: right;\">\n",
       "      <th></th>\n",
       "      <th>Unnamed: 0</th>\n",
       "      <th>topic_word</th>\n",
       "      <th>p_value</th>\n",
       "      <th>Poland_w</th>\n",
       "      <th>Poland_m</th>\n",
       "      <th>count_Poland_w</th>\n",
       "      <th>count_Poland_m</th>\n",
       "      <th>significance</th>\n",
       "    </tr>\n",
       "  </thead>\n",
       "  <tbody>\n",
       "    <tr>\n",
       "      <th>20</th>\n",
       "      <td>8</td>\n",
       "      <td>aid giving</td>\n",
       "      <td>0.016001</td>\n",
       "      <td>1.345095</td>\n",
       "      <td>0.743442</td>\n",
       "      <td>265</td>\n",
       "      <td>140</td>\n",
       "      <td>True</td>\n",
       "    </tr>\n",
       "  </tbody>\n",
       "</table>\n",
       "</div>"
      ],
      "text/plain": [
       "    Unnamed: 0  topic_word   p_value  Poland_w  Poland_m  count_Poland_w  \\\n",
       "20           8  aid giving  0.016001  1.345095  0.743442             265   \n",
       "\n",
       "    count_Poland_m  significance  \n",
       "20             140          True  "
      ]
     },
     "metadata": {},
     "output_type": "display_data"
    },
    {
     "name": "stdout",
     "output_type": "stream",
     "text": [
      "Hungary\n",
      "\n",
      "\n",
      "Probability of women talking about aid giving\n",
      "20.8499623804929\n",
      "Probability of men talking about aid giving\n",
      "22.450935247039098\n",
      "Women to man ratio\n",
      "0.9286901481417198\n",
      "Result of Fisher test and odds ratio analysis:\n"
     ]
    },
    {
     "data": {
      "text/html": [
       "<div>\n",
       "<style scoped>\n",
       "    .dataframe tbody tr th:only-of-type {\n",
       "        vertical-align: middle;\n",
       "    }\n",
       "\n",
       "    .dataframe tbody tr th {\n",
       "        vertical-align: top;\n",
       "    }\n",
       "\n",
       "    .dataframe thead th {\n",
       "        text-align: right;\n",
       "    }\n",
       "</style>\n",
       "<table border=\"1\" class=\"dataframe\">\n",
       "  <thead>\n",
       "    <tr style=\"text-align: right;\">\n",
       "      <th></th>\n",
       "      <th>Unnamed: 0</th>\n",
       "      <th>topic_word</th>\n",
       "      <th>p_value</th>\n",
       "      <th>Hungary_w</th>\n",
       "      <th>Hungary_m</th>\n",
       "      <th>count_Hungary_w</th>\n",
       "      <th>count_Hungary_m</th>\n",
       "      <th>significance</th>\n",
       "    </tr>\n",
       "  </thead>\n",
       "  <tbody>\n",
       "    <tr>\n",
       "      <th>107</th>\n",
       "      <td>8</td>\n",
       "      <td>aid giving</td>\n",
       "      <td>1.0</td>\n",
       "      <td>0.998096</td>\n",
       "      <td>1.001907</td>\n",
       "      <td>214</td>\n",
       "      <td>51</td>\n",
       "      <td>False</td>\n",
       "    </tr>\n",
       "  </tbody>\n",
       "</table>\n",
       "</div>"
      ],
      "text/plain": [
       "     Unnamed: 0  topic_word  p_value  Hungary_w  Hungary_m  count_Hungary_w  \\\n",
       "107           8  aid giving      1.0   0.998096   1.001907              214   \n",
       "\n",
       "     count_Hungary_m  significance  \n",
       "107               51         False  "
      ]
     },
     "metadata": {},
     "output_type": "display_data"
    },
    {
     "name": "stdout",
     "output_type": "stream",
     "text": [
      "Romania\n",
      "\n",
      "\n",
      "Probability of women talking about aid giving\n",
      "23.683955376762302\n",
      "Probability of men talking about aid giving\n",
      "20.9704212037773\n",
      "Women to man ratio\n",
      "1.1293981721500295\n",
      "Result of Fisher test and odds ratio analysis:\n"
     ]
    },
    {
     "data": {
      "text/html": [
       "<div>\n",
       "<style scoped>\n",
       "    .dataframe tbody tr th:only-of-type {\n",
       "        vertical-align: middle;\n",
       "    }\n",
       "\n",
       "    .dataframe tbody tr th {\n",
       "        vertical-align: top;\n",
       "    }\n",
       "\n",
       "    .dataframe thead th {\n",
       "        text-align: right;\n",
       "    }\n",
       "</style>\n",
       "<table border=\"1\" class=\"dataframe\">\n",
       "  <thead>\n",
       "    <tr style=\"text-align: right;\">\n",
       "      <th></th>\n",
       "      <th>Unnamed: 0</th>\n",
       "      <th>topic_word</th>\n",
       "      <th>p_value</th>\n",
       "      <th>Romania_w</th>\n",
       "      <th>Romania_m</th>\n",
       "      <th>count_Romania_w</th>\n",
       "      <th>count_Romania_m</th>\n",
       "      <th>significance</th>\n",
       "    </tr>\n",
       "  </thead>\n",
       "  <tbody>\n",
       "    <tr>\n",
       "      <th>9</th>\n",
       "      <td>8</td>\n",
       "      <td>aid giving</td>\n",
       "      <td>0.014677</td>\n",
       "      <td>1.52173</td>\n",
       "      <td>0.657147</td>\n",
       "      <td>208</td>\n",
       "      <td>57</td>\n",
       "      <td>True</td>\n",
       "    </tr>\n",
       "  </tbody>\n",
       "</table>\n",
       "</div>"
      ],
      "text/plain": [
       "   Unnamed: 0  topic_word   p_value  Romania_w  Romania_m  count_Romania_w  \\\n",
       "9           8  aid giving  0.014677    1.52173   0.657147              208   \n",
       "\n",
       "   count_Romania_m  significance  \n",
       "9               57          True  "
      ]
     },
     "metadata": {},
     "output_type": "display_data"
    },
    {
     "name": "stdout",
     "output_type": "stream",
     "text": [
      "Austria-Hungary (historical)\n",
      "\n",
      "\n",
      "Probability of women talking about aid giving\n",
      "24.5660822271963\n",
      "Probability of men talking about aid giving\n",
      "34.6214594130378\n",
      "Women to man ratio\n",
      "0.7095622958616576\n",
      "Result of Fisher test and odds ratio analysis:\n"
     ]
    },
    {
     "data": {
      "text/html": [
       "<div>\n",
       "<style scoped>\n",
       "    .dataframe tbody tr th:only-of-type {\n",
       "        vertical-align: middle;\n",
       "    }\n",
       "\n",
       "    .dataframe tbody tr th {\n",
       "        vertical-align: top;\n",
       "    }\n",
       "\n",
       "    .dataframe thead th {\n",
       "        text-align: right;\n",
       "    }\n",
       "</style>\n",
       "<table border=\"1\" class=\"dataframe\">\n",
       "  <thead>\n",
       "    <tr style=\"text-align: right;\">\n",
       "      <th></th>\n",
       "      <th>Unnamed: 0</th>\n",
       "      <th>topic_word</th>\n",
       "      <th>p_value</th>\n",
       "      <th>Austria-Hungary (historical)_w</th>\n",
       "      <th>Austria-Hungary (historical)_m</th>\n",
       "      <th>count_Austria-Hungary (historical)_w</th>\n",
       "      <th>count_Austria-Hungary (historical)_m</th>\n",
       "      <th>significance</th>\n",
       "    </tr>\n",
       "  </thead>\n",
       "  <tbody>\n",
       "    <tr>\n",
       "      <th>57</th>\n",
       "      <td>8</td>\n",
       "      <td>aid giving</td>\n",
       "      <td>0.547466</td>\n",
       "      <td>0.849429</td>\n",
       "      <td>1.177261</td>\n",
       "      <td>90</td>\n",
       "      <td>34</td>\n",
       "      <td>False</td>\n",
       "    </tr>\n",
       "  </tbody>\n",
       "</table>\n",
       "</div>"
      ],
      "text/plain": [
       "    Unnamed: 0  topic_word   p_value  Austria-Hungary (historical)_w  \\\n",
       "57           8  aid giving  0.547466                        0.849429   \n",
       "\n",
       "    Austria-Hungary (historical)_m  count_Austria-Hungary (historical)_w  \\\n",
       "57                        1.177261                                    90   \n",
       "\n",
       "    count_Austria-Hungary (historical)_m  significance  \n",
       "57                                    34         False  "
      ]
     },
     "metadata": {},
     "output_type": "display_data"
    },
    {
     "name": "stdout",
     "output_type": "stream",
     "text": [
      "Russia\n",
      "\n",
      "\n",
      "Probability of women talking about aid giving\n",
      "34.3579180451233\n",
      "Probability of men talking about aid giving\n",
      "34.676791583315\n",
      "Women to man ratio\n",
      "0.9908044105687931\n",
      "Result of Fisher test and odds ratio analysis:\n"
     ]
    },
    {
     "data": {
      "text/html": [
       "<div>\n",
       "<style scoped>\n",
       "    .dataframe tbody tr th:only-of-type {\n",
       "        vertical-align: middle;\n",
       "    }\n",
       "\n",
       "    .dataframe tbody tr th {\n",
       "        vertical-align: top;\n",
       "    }\n",
       "\n",
       "    .dataframe thead th {\n",
       "        text-align: right;\n",
       "    }\n",
       "</style>\n",
       "<table border=\"1\" class=\"dataframe\">\n",
       "  <thead>\n",
       "    <tr style=\"text-align: right;\">\n",
       "      <th></th>\n",
       "      <th>Unnamed: 0</th>\n",
       "      <th>topic_word</th>\n",
       "      <th>p_value</th>\n",
       "      <th>Russia_w</th>\n",
       "      <th>Russia_m</th>\n",
       "      <th>count_Russia_w</th>\n",
       "      <th>count_Russia_m</th>\n",
       "      <th>significance</th>\n",
       "    </tr>\n",
       "  </thead>\n",
       "  <tbody>\n",
       "    <tr>\n",
       "      <th>63</th>\n",
       "      <td>8</td>\n",
       "      <td>aid giving</td>\n",
       "      <td>0.740137</td>\n",
       "      <td>1.125</td>\n",
       "      <td>0.888889</td>\n",
       "      <td>21</td>\n",
       "      <td>28</td>\n",
       "      <td>False</td>\n",
       "    </tr>\n",
       "  </tbody>\n",
       "</table>\n",
       "</div>"
      ],
      "text/plain": [
       "    Unnamed: 0  topic_word   p_value  Russia_w  Russia_m  count_Russia_w  \\\n",
       "63           8  aid giving  0.740137     1.125  0.888889              21   \n",
       "\n",
       "    count_Russia_m  significance  \n",
       "63              28         False  "
      ]
     },
     "metadata": {},
     "output_type": "display_data"
    },
    {
     "name": "stdout",
     "output_type": "stream",
     "text": [
      "Germany\n",
      "\n",
      "\n",
      "Probability of women talking about aid giving\n",
      "16.0433536695914\n",
      "Probability of men talking about aid giving\n",
      "14.7909434635593\n",
      "Women to man ratio\n",
      "1.084674125698451\n",
      "Result of Fisher test and odds ratio analysis:\n"
     ]
    },
    {
     "data": {
      "text/html": [
       "<div>\n",
       "<style scoped>\n",
       "    .dataframe tbody tr th:only-of-type {\n",
       "        vertical-align: middle;\n",
       "    }\n",
       "\n",
       "    .dataframe tbody tr th {\n",
       "        vertical-align: top;\n",
       "    }\n",
       "\n",
       "    .dataframe thead th {\n",
       "        text-align: right;\n",
       "    }\n",
       "</style>\n",
       "<table border=\"1\" class=\"dataframe\">\n",
       "  <thead>\n",
       "    <tr style=\"text-align: right;\">\n",
       "      <th></th>\n",
       "      <th>Unnamed: 0</th>\n",
       "      <th>topic_word</th>\n",
       "      <th>p_value</th>\n",
       "      <th>Germany_w</th>\n",
       "      <th>Germany_m</th>\n",
       "      <th>count_Germany_w</th>\n",
       "      <th>count_Germany_m</th>\n",
       "      <th>significance</th>\n",
       "    </tr>\n",
       "  </thead>\n",
       "  <tbody>\n",
       "    <tr>\n",
       "      <th>47</th>\n",
       "      <td>8</td>\n",
       "      <td>aid giving</td>\n",
       "      <td>0.545319</td>\n",
       "      <td>1.332011</td>\n",
       "      <td>0.750745</td>\n",
       "      <td>19</td>\n",
       "      <td>12</td>\n",
       "      <td>False</td>\n",
       "    </tr>\n",
       "  </tbody>\n",
       "</table>\n",
       "</div>"
      ],
      "text/plain": [
       "    Unnamed: 0  topic_word   p_value  Germany_w  Germany_m  count_Germany_w  \\\n",
       "47           8  aid giving  0.545319   1.332011   0.750745               19   \n",
       "\n",
       "    count_Germany_m  significance  \n",
       "47               12         False  "
      ]
     },
     "metadata": {},
     "output_type": "display_data"
    },
    {
     "name": "stdout",
     "output_type": "stream",
     "text": [
      "Greece\n",
      "\n",
      "\n",
      "Probability of women talking about aid giving\n",
      "33.8920825161262\n",
      "Probability of men talking about aid giving\n",
      "28.958828095475\n",
      "Women to man ratio\n",
      "1.1703540766355134\n",
      "Result of Fisher test and odds ratio analysis:\n"
     ]
    },
    {
     "data": {
      "text/html": [
       "<div>\n",
       "<style scoped>\n",
       "    .dataframe tbody tr th:only-of-type {\n",
       "        vertical-align: middle;\n",
       "    }\n",
       "\n",
       "    .dataframe tbody tr th {\n",
       "        vertical-align: top;\n",
       "    }\n",
       "\n",
       "    .dataframe thead th {\n",
       "        text-align: right;\n",
       "    }\n",
       "</style>\n",
       "<table border=\"1\" class=\"dataframe\">\n",
       "  <thead>\n",
       "    <tr style=\"text-align: right;\">\n",
       "      <th></th>\n",
       "      <th>Unnamed: 0</th>\n",
       "      <th>topic_word</th>\n",
       "      <th>p_value</th>\n",
       "      <th>Greece_w</th>\n",
       "      <th>Greece_m</th>\n",
       "      <th>count_Greece_w</th>\n",
       "      <th>count_Greece_m</th>\n",
       "      <th>significance</th>\n",
       "    </tr>\n",
       "  </thead>\n",
       "  <tbody>\n",
       "    <tr>\n",
       "      <th>12</th>\n",
       "      <td>8</td>\n",
       "      <td>aid giving</td>\n",
       "      <td>0.109725</td>\n",
       "      <td>1.880165</td>\n",
       "      <td>0.531868</td>\n",
       "      <td>35</td>\n",
       "      <td>22</td>\n",
       "      <td>False</td>\n",
       "    </tr>\n",
       "  </tbody>\n",
       "</table>\n",
       "</div>"
      ],
      "text/plain": [
       "    Unnamed: 0  topic_word   p_value  Greece_w  Greece_m  count_Greece_w  \\\n",
       "12           8  aid giving  0.109725  1.880165  0.531868              35   \n",
       "\n",
       "    count_Greece_m  significance  \n",
       "12              22         False  "
      ]
     },
     "metadata": {},
     "output_type": "display_data"
    },
    {
     "name": "stdout",
     "output_type": "stream",
     "text": [
      "Yugoslavia (historical)\n",
      "\n",
      "\n",
      "Probability of women talking about aid giving\n",
      "34.3514832774703\n",
      "Probability of men talking about aid giving\n",
      "39.0189058399054\n",
      "Women to man ratio\n",
      "0.8803804857679624\n",
      "Result of Fisher test and odds ratio analysis:\n"
     ]
    },
    {
     "data": {
      "text/html": [
       "<div>\n",
       "<style scoped>\n",
       "    .dataframe tbody tr th:only-of-type {\n",
       "        vertical-align: middle;\n",
       "    }\n",
       "\n",
       "    .dataframe tbody tr th {\n",
       "        vertical-align: top;\n",
       "    }\n",
       "\n",
       "    .dataframe thead th {\n",
       "        text-align: right;\n",
       "    }\n",
       "</style>\n",
       "<table border=\"1\" class=\"dataframe\">\n",
       "  <thead>\n",
       "    <tr style=\"text-align: right;\">\n",
       "      <th></th>\n",
       "      <th>Unnamed: 0</th>\n",
       "      <th>topic_word</th>\n",
       "      <th>p_value</th>\n",
       "      <th>Yugoslavia (historical)_w</th>\n",
       "      <th>Yugoslavia (historical)_m</th>\n",
       "      <th>count_Yugoslavia (historical)_w</th>\n",
       "      <th>count_Yugoslavia (historical)_m</th>\n",
       "      <th>significance</th>\n",
       "    </tr>\n",
       "  </thead>\n",
       "  <tbody>\n",
       "    <tr>\n",
       "      <th>8</th>\n",
       "      <td>8</td>\n",
       "      <td>aid giving</td>\n",
       "      <td>0.141039</td>\n",
       "      <td>3.315789</td>\n",
       "      <td>0.301587</td>\n",
       "      <td>27</td>\n",
       "      <td>2</td>\n",
       "      <td>False</td>\n",
       "    </tr>\n",
       "  </tbody>\n",
       "</table>\n",
       "</div>"
      ],
      "text/plain": [
       "   Unnamed: 0  topic_word   p_value  Yugoslavia (historical)_w  \\\n",
       "8           8  aid giving  0.141039                   3.315789   \n",
       "\n",
       "   Yugoslavia (historical)_m  count_Yugoslavia (historical)_w  \\\n",
       "8                   0.301587                               27   \n",
       "\n",
       "   count_Yugoslavia (historical)_m  significance  \n",
       "8                                2         False  "
      ]
     },
     "metadata": {},
     "output_type": "display_data"
    },
    {
     "name": "stdout",
     "output_type": "stream",
     "text": [
      "Netherlands\n",
      "\n",
      "\n",
      "Probability of women talking about aid giving\n",
      "18.4317866146301\n",
      "Probability of men talking about aid giving\n",
      "4.5596135404378\n",
      "Women to man ratio\n",
      "4.042401061222468\n",
      "Result of Fisher test and odds ratio analysis:\n"
     ]
    },
    {
     "data": {
      "text/html": [
       "<div>\n",
       "<style scoped>\n",
       "    .dataframe tbody tr th:only-of-type {\n",
       "        vertical-align: middle;\n",
       "    }\n",
       "\n",
       "    .dataframe tbody tr th {\n",
       "        vertical-align: top;\n",
       "    }\n",
       "\n",
       "    .dataframe thead th {\n",
       "        text-align: right;\n",
       "    }\n",
       "</style>\n",
       "<table border=\"1\" class=\"dataframe\">\n",
       "  <thead>\n",
       "    <tr style=\"text-align: right;\">\n",
       "      <th></th>\n",
       "      <th>Unnamed: 0</th>\n",
       "      <th>topic_word</th>\n",
       "      <th>p_value</th>\n",
       "      <th>Netherlands_w</th>\n",
       "      <th>Netherlands_m</th>\n",
       "      <th>count_Netherlands_w</th>\n",
       "      <th>count_Netherlands_m</th>\n",
       "      <th>significance</th>\n",
       "    </tr>\n",
       "  </thead>\n",
       "  <tbody>\n",
       "    <tr>\n",
       "      <th>4</th>\n",
       "      <td>8</td>\n",
       "      <td>aid giving</td>\n",
       "      <td>0.03204</td>\n",
       "      <td>4.068376</td>\n",
       "      <td>0.245798</td>\n",
       "      <td>14</td>\n",
       "      <td>3</td>\n",
       "      <td>True</td>\n",
       "    </tr>\n",
       "  </tbody>\n",
       "</table>\n",
       "</div>"
      ],
      "text/plain": [
       "   Unnamed: 0  topic_word  p_value  Netherlands_w  Netherlands_m  \\\n",
       "4           8  aid giving  0.03204       4.068376       0.245798   \n",
       "\n",
       "   count_Netherlands_w  count_Netherlands_m  significance  \n",
       "4                   14                    3          True  "
      ]
     },
     "metadata": {},
     "output_type": "display_data"
    },
    {
     "name": "stdout",
     "output_type": "stream",
     "text": [
      "France\n",
      "\n",
      "\n",
      "Probability of women talking about aid giving\n",
      "29.5984702620372\n",
      "Probability of men talking about aid giving\n",
      "36.7354109407284\n",
      "Women to man ratio\n",
      "0.8057204072058303\n",
      "Result of Fisher test and odds ratio analysis:\n"
     ]
    },
    {
     "data": {
      "text/html": [
       "<div>\n",
       "<style scoped>\n",
       "    .dataframe tbody tr th:only-of-type {\n",
       "        vertical-align: middle;\n",
       "    }\n",
       "\n",
       "    .dataframe tbody tr th {\n",
       "        vertical-align: top;\n",
       "    }\n",
       "\n",
       "    .dataframe thead th {\n",
       "        text-align: right;\n",
       "    }\n",
       "</style>\n",
       "<table border=\"1\" class=\"dataframe\">\n",
       "  <thead>\n",
       "    <tr style=\"text-align: right;\">\n",
       "      <th></th>\n",
       "      <th>Unnamed: 0</th>\n",
       "      <th>topic_word</th>\n",
       "      <th>p_value</th>\n",
       "      <th>France_w</th>\n",
       "      <th>France_m</th>\n",
       "      <th>count_France_w</th>\n",
       "      <th>count_France_m</th>\n",
       "      <th>significance</th>\n",
       "    </tr>\n",
       "  </thead>\n",
       "  <tbody>\n",
       "    <tr>\n",
       "      <th>19</th>\n",
       "      <td>8</td>\n",
       "      <td>aid giving</td>\n",
       "      <td>0.24863</td>\n",
       "      <td>1.806452</td>\n",
       "      <td>0.553571</td>\n",
       "      <td>28</td>\n",
       "      <td>9</td>\n",
       "      <td>False</td>\n",
       "    </tr>\n",
       "  </tbody>\n",
       "</table>\n",
       "</div>"
      ],
      "text/plain": [
       "    Unnamed: 0  topic_word  p_value  France_w  France_m  count_France_w  \\\n",
       "19           8  aid giving  0.24863  1.806452  0.553571              28   \n",
       "\n",
       "    count_France_m  significance  \n",
       "19               9         False  "
      ]
     },
     "metadata": {},
     "output_type": "display_data"
    },
    {
     "name": "stdout",
     "output_type": "stream",
     "text": [
      "Austria\n",
      "\n",
      "\n",
      "Probability of women talking about aid giving\n",
      "48.7975089775115\n",
      "Probability of men talking about aid giving\n",
      "38.3573473211581\n",
      "Women to man ratio\n",
      "1.2721815345816303\n",
      "Result of Fisher test and odds ratio analysis:\n"
     ]
    },
    {
     "data": {
      "text/html": [
       "<div>\n",
       "<style scoped>\n",
       "    .dataframe tbody tr th:only-of-type {\n",
       "        vertical-align: middle;\n",
       "    }\n",
       "\n",
       "    .dataframe tbody tr th {\n",
       "        vertical-align: top;\n",
       "    }\n",
       "\n",
       "    .dataframe thead th {\n",
       "        text-align: right;\n",
       "    }\n",
       "</style>\n",
       "<table border=\"1\" class=\"dataframe\">\n",
       "  <thead>\n",
       "    <tr style=\"text-align: right;\">\n",
       "      <th></th>\n",
       "      <th>Unnamed: 0</th>\n",
       "      <th>topic_word</th>\n",
       "      <th>p_value</th>\n",
       "      <th>Austria_w</th>\n",
       "      <th>Austria_m</th>\n",
       "      <th>count_Austria_w</th>\n",
       "      <th>count_Austria_m</th>\n",
       "      <th>significance</th>\n",
       "    </tr>\n",
       "  </thead>\n",
       "  <tbody>\n",
       "    <tr>\n",
       "      <th>27</th>\n",
       "      <td>8</td>\n",
       "      <td>aid giving</td>\n",
       "      <td>0.35255</td>\n",
       "      <td>0.506494</td>\n",
       "      <td>1.974359</td>\n",
       "      <td>9</td>\n",
       "      <td>7</td>\n",
       "      <td>False</td>\n",
       "    </tr>\n",
       "  </tbody>\n",
       "</table>\n",
       "</div>"
      ],
      "text/plain": [
       "    Unnamed: 0  topic_word  p_value  Austria_w  Austria_m  count_Austria_w  \\\n",
       "27           8  aid giving  0.35255   0.506494   1.974359                9   \n",
       "\n",
       "    count_Austria_m  significance  \n",
       "27                7         False  "
      ]
     },
     "metadata": {},
     "output_type": "display_data"
    },
    {
     "name": "stdout",
     "output_type": "stream",
     "text": [
      "Italy\n",
      "\n",
      "\n",
      "Probability of women talking about aid giving\n",
      "29.0663295231594\n",
      "Probability of men talking about aid giving\n",
      "45.709279165553596\n",
      "Women to man ratio\n",
      "0.635895600494696\n",
      "Result of Fisher test and odds ratio analysis:\n"
     ]
    },
    {
     "data": {
      "text/html": [
       "<div>\n",
       "<style scoped>\n",
       "    .dataframe tbody tr th:only-of-type {\n",
       "        vertical-align: middle;\n",
       "    }\n",
       "\n",
       "    .dataframe tbody tr th {\n",
       "        vertical-align: top;\n",
       "    }\n",
       "\n",
       "    .dataframe thead th {\n",
       "        text-align: right;\n",
       "    }\n",
       "</style>\n",
       "<table border=\"1\" class=\"dataframe\">\n",
       "  <thead>\n",
       "    <tr style=\"text-align: right;\">\n",
       "      <th></th>\n",
       "      <th>Unnamed: 0</th>\n",
       "      <th>topic_word</th>\n",
       "      <th>p_value</th>\n",
       "      <th>Italy_w</th>\n",
       "      <th>Italy_m</th>\n",
       "      <th>count_Italy_w</th>\n",
       "      <th>count_Italy_m</th>\n",
       "      <th>significance</th>\n",
       "    </tr>\n",
       "  </thead>\n",
       "  <tbody>\n",
       "    <tr>\n",
       "      <th>8</th>\n",
       "      <td>8</td>\n",
       "      <td>aid giving</td>\n",
       "      <td>0.102315</td>\n",
       "      <td>2.66</td>\n",
       "      <td>0.37594</td>\n",
       "      <td>19</td>\n",
       "      <td>10</td>\n",
       "      <td>False</td>\n",
       "    </tr>\n",
       "  </tbody>\n",
       "</table>\n",
       "</div>"
      ],
      "text/plain": [
       "   Unnamed: 0  topic_word   p_value  Italy_w  Italy_m  count_Italy_w  \\\n",
       "8           8  aid giving  0.102315     2.66  0.37594             19   \n",
       "\n",
       "   count_Italy_m  significance  \n",
       "8             10         False  "
      ]
     },
     "metadata": {},
     "output_type": "display_data"
    }
   ],
   "source": [
    "topic_word = \"aid giving\"\n",
    "for country in countries_to_study:\n",
    "    print (country)\n",
    "    print ('\\n')\n",
    "    men = data_sets_1[country+'_m']\n",
    "    topic_m = men[men.topic_name==topic_word]['stationary_prob'].values[0]\n",
    "    women = data_sets_1[country+'_w']\n",
    "    topic_w = women[women.topic_name==topic_word]['stationary_prob'].values[0]\n",
    "    print (\"Probability of women talking about \"+topic_word)\n",
    "    print(topic_w*1000)\n",
    "    print (\"Probability of men talking about \"+topic_word)\n",
    "    print(topic_m*1000)\n",
    "    print (\"Women to man ratio\")\n",
    "    print (topic_w/topic_m)\n",
    "    print ('Result of Fisher test and odds ratio analysis:')\n",
    "    df = data_sets_1[country+'_fisher']\n",
    "    display(df[df.topic_word==topic_word])\n"
   ]
  },
  {
   "cell_type": "markdown",
   "metadata": {},
   "source": [
    "![title](output/markov_modelling/bootstrap/Czechoslovakia%20(historical)_m_Czechoslovakia%20(historical)_w/aid%20giving.png)\n",
    "\n",
    "![title](output/markov_modelling/bootstrap/Poland_m_Poland_w/aid%20giving.png)\n",
    "\n",
    "![title](output/markov_modelling/bootstrap/Hungary_m_Hungary_w/aid%20giving.png)\n",
    "\n",
    "![title](output/markov_modelling/bootstrap/Romania_m_Romania_w/aid%20giving.png)\n",
    "\n",
    "![title](output/markov_modelling/bootstrap/Russia_m_Russia_w/aid%20giving.png)\n",
    "\n",
    "![title](output/markov_modelling/bootstrap/Germany_m_Germany_w/aid%20giving.png)\n",
    "\n",
    "![title](output/markov_modelling/bootstrap/Greece_m_Greece_w/aid%20giving.png)\n",
    "\n",
    "![title](output/markov_modelling/bootstrap/Yugoslavia%20(historical)_m_Yugoslavia%20(historical)_w/aid%20giving.png)\n",
    "\n",
    "![title](output/markov_modelling/bootstrap/Netherlands_m_Netherlands_w/aid%20giving.png)\n",
    "\n",
    "![title](output/markov_modelling/bootstrap/France_m_France_w/aid%20giving.png)\n",
    "\n",
    "![title](output/markov_modelling/bootstrap/Austria_m_Austria_w/aid%20giving.png)\n",
    "\n",
    "![title](output/markov_modelling/bootstrap/Italy_m_Italy_w/aid%20giving.png)"
   ]
  },
  {
   "cell_type": "markdown",
   "metadata": {},
   "source": [
    "## Observation 3"
   ]
  },
  {
   "cell_type": "markdown",
   "metadata": {},
   "source": [
    "## Qualitative description"
   ]
  },
  {
   "cell_type": "markdown",
   "metadata": {},
   "source": [
    "In case of friendship, women of various nationalities tend to outperform men or the difference is insignificant in case of some nationalities. In some cases men do not even mention friendship (Germany, France). We do not find women of any nationality not mentioning friendship."
   ]
  },
  {
   "cell_type": "markdown",
   "metadata": {},
   "source": [
    "## Quantitative proof"
   ]
  },
  {
   "cell_type": "markdown",
   "metadata": {},
   "source": [
    "topic_word = \"friends\"\n",
    "for country in countries_to_study:\n",
    "    print ('\\n')\n",
    "    print (country)\n",
    "    try:\n",
    "        \n",
    "        men = data_sets_1[country+'_m']\n",
    "        topic_m = men[men.topic_name==topic_word]['stationary_prob'].values[0]\n",
    "        women = data_sets_1[country+'_w']\n",
    "        topic_w = women[women.topic_name==topic_word]['stationary_prob'].values[0]\n",
    "        print (\"Probability of women talking about \"+topic_word)\n",
    "        print(topic_w*1000)\n",
    "        print (\"Probability of men talking about \"+topic_word)\n",
    "        print(topic_m*1000)\n",
    "        print (\"Women to man ratio\")\n",
    "        print (topic_w/topic_m)\n",
    "        print ('Result of Fisher test and odds ratio analysis:')\n",
    "        df = data_sets_2[country+'_fisher']\n",
    "        display(df[df.topic_word==topic_word])\n",
    "    except:\n",
    "        topic_w = women[women.topic_name==topic_word]['stationary_prob'].values[0]\n",
    "        print (\"In case of this country, the probability of hearing a man talking about this topic is 0.\")\n",
    "        print ('Result of Fisher test and odds ratio analysis:')\n",
    "        df = data_sets_1[country+'_fisher']\n",
    "        display(df[df.topic_word==topic_word])\n",
    "        pass\n"
   ]
  },
  {
   "cell_type": "markdown",
   "metadata": {},
   "source": [
    "![title](output/markov_modelling/bootstrap/Czechoslovakia%20(historical)_w_Czechoslovakia%20(historical)_m/friends.png)\n",
    "\n",
    "![title](output/markov_modelling/bootstrap/Poland_w_Poland_m/friends.png)\n",
    "\n",
    "![title](output/markov_modelling/bootstrap/Hungary_w_Hungary_m/friends.png)\n",
    "\n",
    "![title](output/markov_modelling/bootstrap/Romania_w_Romania_m/friends.png)\n",
    "\n",
    "![title](output/markov_modelling/bootstrap/Russia_w_Russia_m/friends.png)\n",
    "\n",
    "![title](output/markov_modelling/bootstrap/Germany_w_Germany_m/friends.png)\n",
    "\n",
    "![title](output/markov_modelling/bootstrap/Greece_w_Greece_m/friends.png)\n",
    "\n",
    "![title](output/markov_modelling/bootstrap/Yugoslavia%20(historical)_w_Yugoslavia%20(historical)_m/friends.png)\n",
    "\n",
    "![title](output/markov_modelling/bootstrap/Netherlands_w_Netherlands_m/friends.png)\n",
    "\n",
    "![title](output/markov_modelling/bootstrap/France_w_France_m/friends.png)\n",
    "\n",
    "![title](output/markov_modelling/bootstrap/Austria_w_Austria_m/friends.png)\n",
    "\n",
    "![title](output/markov_modelling/bootstrap/Italy_w_Italy_m/friends.png)"
   ]
  },
  {
   "cell_type": "markdown",
   "metadata": {},
   "source": [
    "## Observation 4"
   ]
  },
  {
   "cell_type": "markdown",
   "metadata": {},
   "source": [
    "## Qualitative description"
   ]
  },
  {
   "cell_type": "markdown",
   "metadata": {},
   "source": [
    "In terms of the probability of addressing food sharing, women outperform men or the difference between them is insignificant."
   ]
  },
  {
   "cell_type": "markdown",
   "metadata": {},
   "source": [
    "## Quantitative proof"
   ]
  },
  {
   "cell_type": "markdown",
   "metadata": {},
   "source": [
    "topic_word = \"food sharing\"\n",
    "for country in countries_to_study:\n",
    "    print ('\\n')\n",
    "    print (country)\n",
    "    try:\n",
    "        \n",
    "        men = data_sets_1[country+'_m']\n",
    "        topic_m = men[men.topic_name==topic_word]['stationary_prob'].values[0]\n",
    "        women = data_sets_1[country+'_w']\n",
    "        topic_w = women[women.topic_name==topic_word]['stationary_prob'].values[0]\n",
    "        print (\"Probability of women talking about \"+topic_word)\n",
    "        print(topic_w*1000)\n",
    "        print (\"Probability of men talking about \"+topic_word)\n",
    "        print(topic_m*1000)\n",
    "        print (\"Women to man ratio\")\n",
    "        print (topic_w/topic_m)\n",
    "        print ('Result of Fisher test and odds ratio analysis:')\n",
    "        df = data_sets_1[country+'_fisher']\n",
    "        display(df[df.topic_word==topic_word])\n",
    "    except:\n",
    "        topic_w = women[women.topic_name==topic_word]['stationary_prob'].values[0]\n",
    "        print (\"In case of this country, the probability of hearing a man talking about this topic is 0.\")\n",
    "        print ('Result of Fisher test and odds ratio analysis:')\n",
    "        df = data_sets_1[country+'_fisher']\n",
    "        display(df[df.topic_word==topic_word])\n",
    "        pass\n",
    "\n"
   ]
  },
  {
   "cell_type": "markdown",
   "metadata": {},
   "source": []
  },
  {
   "cell_type": "markdown",
   "metadata": {},
   "source": [
    "![title](output/markov_modelling/bootstrap/Czechoslovakia%20(historical)_w_Czechoslovakia%20(historical)_m/food%20sharing.png)\n",
    "\n",
    "![title](output/markov_modelling/bootstrap/Poland_w_Poland_m/food%20sharing.png)\n",
    "\n",
    "![title](output/markov_modelling/bootstrap/Hungary_w_Hungary_m/food%20sharing.png)\n",
    "\n",
    "![title](output/markov_modelling/bootstrap/Romania_w_Romania_m/food%20sharing.png)\n",
    "\n",
    "![title](output/markov_modelling/bootstrap/Russia_w_Russia_m/food%20sharing.png)\n",
    "\n",
    "![title](output/markov_modelling/bootstrap/Germany_w_Germany_m/food%20sharing.png)\n",
    "\n",
    "![title](output/markov_modelling/bootstrap/Greece_w_Greece_m/food%20sharing.png)\n",
    "\n",
    "![title](output/markov_modelling/bootstrap/Yugoslavia%20(historical)_w_Yugoslavia%20(historical)_m/food%20sharing.png)\n",
    "\n",
    "![title](output/markov_modelling/bootstrap/Netherlands_w_Netherlands_m/food%20sharing.png)\n",
    "\n",
    "![title](output/markov_modelling/bootstrap/France_w_France_m/food%20sharing.png)\n",
    "\n",
    "![title](output/markov_modelling/bootstrap/Austria_w_Austria_m/food%20sharing.png)\n",
    "\n",
    "![title](output/markov_modelling/bootstrap/Italy_w_Italy_m/food%20sharing.png)"
   ]
  },
  {
   "cell_type": "markdown",
   "metadata": {},
   "source": [
    "![title](output/markov_modelling/bootstrap/Germany_w_Germany_m/departure.png)"
   ]
  },
  {
   "cell_type": "markdown",
   "metadata": {},
   "source": [
    "### Interpretation"
   ]
  },
  {
   "cell_type": "markdown",
   "metadata": {},
   "source": [
    "Generally, when women and men of the same nationality are compared, women tend to discuss social bonds and solidarity more than men."
   ]
  }
 ],
 "metadata": {
  "kernelspec": {
   "display_name": "Python 3",
   "language": "python",
   "name": "python3"
  },
  "language_info": {
   "codemirror_mode": {
    "name": "ipython",
    "version": 3
   },
   "file_extension": ".py",
   "mimetype": "text/x-python",
   "name": "python",
   "nbconvert_exporter": "python",
   "pygments_lexer": "ipython3",
   "version": "3.7.2"
  }
 },
 "nbformat": 4,
 "nbformat_minor": 2
}

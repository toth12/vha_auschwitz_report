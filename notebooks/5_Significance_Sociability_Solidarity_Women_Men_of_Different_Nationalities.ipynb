{
 "cells": [
  {
   "cell_type": "markdown",
   "metadata": {},
   "source": [
    "# Topics of Sociability and Solidarity in Recollections of men and women of different nationalities"
   ]
  },
  {
   "cell_type": "markdown",
   "metadata": {},
   "source": [
    "\n",
    "\n",
    " ### Research Question:"
   ]
  },
  {
   "cell_type": "markdown",
   "metadata": {},
   "source": [
    "In Birkenau people of different nationalities were together; is it possible that women of one nationality give rise to the general trend that women are more likely to discuss memories of sociability and solidarity? Can we observe this phenomenon when men and women of the same nationalitities are compared?"
   ]
  },
  {
   "cell_type": "markdown",
   "metadata": {},
   "source": [
    "### Further considerations:"
   ]
  },
  {
   "cell_type": "markdown",
   "metadata": {},
   "source": [
    "- Nationality is somewhat intangible in the context of the data; hence, by nationality we mean the country of birth"
   ]
  },
  {
   "cell_type": "markdown",
   "metadata": {},
   "source": [
    "- In dataset, 13 different nationalities are present;"
   ]
  },
  {
   "cell_type": "code",
   "execution_count": 1,
   "metadata": {},
   "outputs": [],
   "source": [
    "import constants\n",
    "import pandas as pd\n",
    "import os\n",
    "from IPython.display import display\n",
    "import json"
   ]
  },
  {
   "cell_type": "code",
   "execution_count": 2,
   "metadata": {},
   "outputs": [
    {
     "data": {
      "text/plain": [
       "13"
      ]
     },
     "execution_count": 2,
     "metadata": {},
     "output_type": "execute_result"
    }
   ],
   "source": [
    "\n",
    "path = os.getcwd()\n",
    "parent = os.path.abspath(os.path.join(path, os.pardir))\n",
    "with open(parent+'/'+constants.input_directory + \"metadata_partitions.json\") as read_file:\n",
    "        metadata_partitions = json.load(read_file)\n",
    "nationalities = [element for element in metadata_partitions.keys() if (element[0].isupper()) and (element[-2] !=\"_\")]\n",
    "len(nationalities)"
   ]
  },
  {
   "cell_type": "markdown",
   "metadata": {},
   "source": [
    "- But majority of victims were born in 5 countries, here we will focus on those who were born in these five countries; the number of victims is not enough with other countries"
   ]
  },
  {
   "cell_type": "code",
   "execution_count": 3,
   "metadata": {},
   "outputs": [],
   "source": [
    "countries = []\n",
    "for country in nationalities:\n",
    "    countries.append({'country':country,'total':len(metadata_partitions[country]),'women':len(metadata_partitions[country+'_w']),'men':len(metadata_partitions[country+'_m'])})\n",
    "    \n",
    "countries = pd.DataFrame(countries)\n",
    "    "
   ]
  },
  {
   "cell_type": "code",
   "execution_count": 4,
   "metadata": {},
   "outputs": [
    {
     "data": {
      "text/html": [
       "<div>\n",
       "<style scoped>\n",
       "    .dataframe tbody tr th:only-of-type {\n",
       "        vertical-align: middle;\n",
       "    }\n",
       "\n",
       "    .dataframe tbody tr th {\n",
       "        vertical-align: top;\n",
       "    }\n",
       "\n",
       "    .dataframe thead th {\n",
       "        text-align: right;\n",
       "    }\n",
       "</style>\n",
       "<table border=\"1\" class=\"dataframe\">\n",
       "  <thead>\n",
       "    <tr style=\"text-align: right;\">\n",
       "      <th></th>\n",
       "      <th>country</th>\n",
       "      <th>total</th>\n",
       "      <th>women</th>\n",
       "      <th>men</th>\n",
       "    </tr>\n",
       "  </thead>\n",
       "  <tbody>\n",
       "    <tr>\n",
       "      <th>2</th>\n",
       "      <td>Czechoslovakia (historical)</td>\n",
       "      <td>1817</td>\n",
       "      <td>1317</td>\n",
       "      <td>500</td>\n",
       "    </tr>\n",
       "    <tr>\n",
       "      <th>9</th>\n",
       "      <td>Poland</td>\n",
       "      <td>1404</td>\n",
       "      <td>849</td>\n",
       "      <td>555</td>\n",
       "    </tr>\n",
       "    <tr>\n",
       "      <th>6</th>\n",
       "      <td>Hungary</td>\n",
       "      <td>1030</td>\n",
       "      <td>832</td>\n",
       "      <td>198</td>\n",
       "    </tr>\n",
       "    <tr>\n",
       "      <th>10</th>\n",
       "      <td>Romania</td>\n",
       "      <td>948</td>\n",
       "      <td>690</td>\n",
       "      <td>258</td>\n",
       "    </tr>\n",
       "    <tr>\n",
       "      <th>1</th>\n",
       "      <td>Austria-Hungary (historical)</td>\n",
       "      <td>478</td>\n",
       "      <td>358</td>\n",
       "      <td>120</td>\n",
       "    </tr>\n",
       "    <tr>\n",
       "      <th>11</th>\n",
       "      <td>Russia</td>\n",
       "      <td>199</td>\n",
       "      <td>81</td>\n",
       "      <td>118</td>\n",
       "    </tr>\n",
       "    <tr>\n",
       "      <th>4</th>\n",
       "      <td>Germany</td>\n",
       "      <td>147</td>\n",
       "      <td>82</td>\n",
       "      <td>65</td>\n",
       "    </tr>\n",
       "    <tr>\n",
       "      <th>5</th>\n",
       "      <td>Greece</td>\n",
       "      <td>129</td>\n",
       "      <td>68</td>\n",
       "      <td>61</td>\n",
       "    </tr>\n",
       "    <tr>\n",
       "      <th>12</th>\n",
       "      <td>Yugoslavia (historical)</td>\n",
       "      <td>100</td>\n",
       "      <td>84</td>\n",
       "      <td>16</td>\n",
       "    </tr>\n",
       "    <tr>\n",
       "      <th>8</th>\n",
       "      <td>Netherlands</td>\n",
       "      <td>90</td>\n",
       "      <td>53</td>\n",
       "      <td>37</td>\n",
       "    </tr>\n",
       "    <tr>\n",
       "      <th>3</th>\n",
       "      <td>France</td>\n",
       "      <td>86</td>\n",
       "      <td>59</td>\n",
       "      <td>27</td>\n",
       "    </tr>\n",
       "    <tr>\n",
       "      <th>0</th>\n",
       "      <td>Austria</td>\n",
       "      <td>62</td>\n",
       "      <td>42</td>\n",
       "      <td>20</td>\n",
       "    </tr>\n",
       "    <tr>\n",
       "      <th>7</th>\n",
       "      <td>Italy</td>\n",
       "      <td>53</td>\n",
       "      <td>29</td>\n",
       "      <td>24</td>\n",
       "    </tr>\n",
       "  </tbody>\n",
       "</table>\n",
       "</div>"
      ],
      "text/plain": [
       "                         country  total  women  men\n",
       "2    Czechoslovakia (historical)   1817   1317  500\n",
       "9                         Poland   1404    849  555\n",
       "6                        Hungary   1030    832  198\n",
       "10                       Romania    948    690  258\n",
       "1   Austria-Hungary (historical)    478    358  120\n",
       "11                        Russia    199     81  118\n",
       "4                        Germany    147     82   65\n",
       "5                         Greece    129     68   61\n",
       "12       Yugoslavia (historical)    100     84   16\n",
       "8                    Netherlands     90     53   37\n",
       "3                         France     86     59   27\n",
       "0                        Austria     62     42   20\n",
       "7                          Italy     53     29   24"
      ]
     },
     "execution_count": 4,
     "metadata": {},
     "output_type": "execute_result"
    }
   ],
   "source": [
    "countries.sort_values('total',ascending=False)"
   ]
  },
  {
   "cell_type": "code",
   "execution_count": 5,
   "metadata": {},
   "outputs": [
    {
     "data": {
      "text/plain": [
       "5677"
      ]
     },
     "execution_count": 5,
     "metadata": {},
     "output_type": "execute_result"
    }
   ],
   "source": [
    "countries.sort_values('total',ascending=False)[0:5].total.sum()"
   ]
  },
  {
   "cell_type": "code",
   "execution_count": 6,
   "metadata": {},
   "outputs": [
    {
     "data": {
      "text/plain": [
       "866"
      ]
     },
     "execution_count": 6,
     "metadata": {},
     "output_type": "execute_result"
    }
   ],
   "source": [
    "countries.sort_values('total',ascending=False)[5:].total.sum()"
   ]
  },
  {
   "cell_type": "code",
   "execution_count": 7,
   "metadata": {},
   "outputs": [
    {
     "data": {
      "text/plain": [
       "2      Czechoslovakia (historical)\n",
       "9                           Poland\n",
       "6                          Hungary\n",
       "10                         Romania\n",
       "1     Austria-Hungary (historical)\n",
       "Name: country, dtype: object"
      ]
     },
     "execution_count": 7,
     "metadata": {},
     "output_type": "execute_result"
    }
   ],
   "source": [
    "countries.sort_values('total',ascending=False)[0:5].country"
   ]
  },
  {
   "cell_type": "code",
   "execution_count": 8,
   "metadata": {},
   "outputs": [],
   "source": [
    "countries_to_study = countries.sort_values('total',ascending=False).country.to_list()"
   ]
  },
  {
   "cell_type": "markdown",
   "metadata": {},
   "source": [
    "## Load the relevant data"
   ]
  },
  {
   "cell_type": "code",
   "execution_count": 9,
   "metadata": {},
   "outputs": [],
   "source": [
    "input_directory = constants.output_data_markov_modelling\n",
    "\n",
    "path = os.getcwd()\n",
    "parent = os.path.abspath(os.path.join(path, os.pardir))\n",
    "input_directory = parent +'/'+ constants.output_data_markov_modelling\n",
    "input_directory_fisher = parent +'/'+ constants.output_data_report_statistical_analysis\n",
    "input_file_fisher = 'strength_of_association_odds_ratio'"
   ]
  },
  {
   "cell_type": "code",
   "execution_count": 10,
   "metadata": {},
   "outputs": [],
   "source": [
    "data_sets_1 = {}\n",
    "for country in countries_to_study:\n",
    "    data_sets_1[country+'_w']= pd.read_csv(input_directory+country+'_w'+'/'+'stationary_probs.csv')\n",
    "    data_sets_1[country+'_m']= pd.read_csv(input_directory+country+'_m'+'/'+'stationary_probs.csv')\n",
    "    match ='strength_of_association_odds_ratio_Czechoslovakia (historical)_w_Czechoslovakia (historical)_m.csv'\n",
    "    fisher_input_file_name = input_directory_fisher+input_file_fisher+'_'+country+'_w_'+country+'_m.csv'\n",
    "    data_sets_1[country+'_fisher']= pd.read_csv(fisher_input_file_name)"
   ]
  },
  {
   "cell_type": "code",
   "execution_count": 19,
   "metadata": {},
   "outputs": [
    {
     "data": {
      "text/plain": [
       "'/Users/gabortoth/Dropbox/Documentary_Fondos/Nyitott_Fondok/Workspace/vha_auschwitz_report/data/output/markov_modelling/'"
      ]
     },
     "execution_count": 19,
     "metadata": {},
     "output_type": "execute_result"
    }
   ],
   "source": [
    "input_directory"
   ]
  },
  {
   "cell_type": "markdown",
   "metadata": {},
   "source": [
    "## Observation 1"
   ]
  },
  {
   "cell_type": "markdown",
   "metadata": {},
   "source": [
    "## Qualitative description"
   ]
  },
  {
   "cell_type": "markdown",
   "metadata": {},
   "source": [
    "When comparing man and women of the same nationalities, we can see that women are either more likely to remember about social life in Birkenau or the difference between men and women is insignificant."
   ]
  },
  {
   "cell_type": "markdown",
   "metadata": {},
   "source": [
    "## Quantitative proof"
   ]
  },
  {
   "cell_type": "code",
   "execution_count": 11,
   "metadata": {
    "scrolled": false
   },
   "outputs": [
    {
     "name": "stdout",
     "output_type": "stream",
     "text": [
      "\n",
      "\n",
      "Czechoslovakia (historical)\n",
      "Probability of women talking about social bonds\n",
      "0.0181180789764706\n",
      "Probability of men talking about social bonds\n",
      "0.0151968502320006\n",
      "Women to man ratio\n",
      "1.1922259349716204\n",
      "Man to woman ratio\n",
      "0.8387671922468319\n",
      "Result of Fisher test and odds ratio analysis:\n"
     ]
    },
    {
     "data": {
      "text/html": [
       "<div>\n",
       "<style scoped>\n",
       "    .dataframe tbody tr th:only-of-type {\n",
       "        vertical-align: middle;\n",
       "    }\n",
       "\n",
       "    .dataframe tbody tr th {\n",
       "        vertical-align: top;\n",
       "    }\n",
       "\n",
       "    .dataframe thead th {\n",
       "        text-align: right;\n",
       "    }\n",
       "</style>\n",
       "<table border=\"1\" class=\"dataframe\">\n",
       "  <thead>\n",
       "    <tr style=\"text-align: right;\">\n",
       "      <th></th>\n",
       "      <th>Unnamed: 0</th>\n",
       "      <th>topic_word</th>\n",
       "      <th>p_value</th>\n",
       "      <th>Czechoslovakia (historical)_w</th>\n",
       "      <th>Czechoslovakia (historical)_m</th>\n",
       "      <th>count_Czechoslovakia (historical)_w</th>\n",
       "      <th>count_Czechoslovakia (historical)_m</th>\n",
       "      <th>significance</th>\n",
       "    </tr>\n",
       "  </thead>\n",
       "  <tbody>\n",
       "    <tr>\n",
       "      <th>13</th>\n",
       "      <td>89</td>\n",
       "      <td>social bonds</td>\n",
       "      <td>0.00345</td>\n",
       "      <td>1.5328</td>\n",
       "      <td>0.652401</td>\n",
       "      <td>263</td>\n",
       "      <td>70</td>\n",
       "      <td>True</td>\n",
       "    </tr>\n",
       "  </tbody>\n",
       "</table>\n",
       "</div>"
      ],
      "text/plain": [
       "    Unnamed: 0    topic_word  p_value  Czechoslovakia (historical)_w  \\\n",
       "13          89  social bonds  0.00345                         1.5328   \n",
       "\n",
       "    Czechoslovakia (historical)_m  count_Czechoslovakia (historical)_w  \\\n",
       "13                       0.652401                                  263   \n",
       "\n",
       "    count_Czechoslovakia (historical)_m  significance  \n",
       "13                                   70          True  "
      ]
     },
     "metadata": {},
     "output_type": "display_data"
    },
    {
     "name": "stdout",
     "output_type": "stream",
     "text": [
      "\n",
      "\n",
      "Poland\n",
      "Probability of women talking about social bonds\n",
      "0.0197376855248692\n",
      "Probability of men talking about social bonds\n",
      "0.017466501096715\n",
      "Women to man ratio\n",
      "1.1300308754213717\n",
      "Man to woman ratio\n",
      "0.8849315728892052\n",
      "Result of Fisher test and odds ratio analysis:\n"
     ]
    },
    {
     "data": {
      "text/html": [
       "<div>\n",
       "<style scoped>\n",
       "    .dataframe tbody tr th:only-of-type {\n",
       "        vertical-align: middle;\n",
       "    }\n",
       "\n",
       "    .dataframe tbody tr th {\n",
       "        vertical-align: top;\n",
       "    }\n",
       "\n",
       "    .dataframe thead th {\n",
       "        text-align: right;\n",
       "    }\n",
       "</style>\n",
       "<table border=\"1\" class=\"dataframe\">\n",
       "  <thead>\n",
       "    <tr style=\"text-align: right;\">\n",
       "      <th></th>\n",
       "      <th>Unnamed: 0</th>\n",
       "      <th>topic_word</th>\n",
       "      <th>p_value</th>\n",
       "      <th>Poland_w</th>\n",
       "      <th>Poland_m</th>\n",
       "      <th>count_Poland_w</th>\n",
       "      <th>count_Poland_m</th>\n",
       "      <th>significance</th>\n",
       "    </tr>\n",
       "  </thead>\n",
       "  <tbody>\n",
       "    <tr>\n",
       "      <th>33</th>\n",
       "      <td>89</td>\n",
       "      <td>social bonds</td>\n",
       "      <td>0.149723</td>\n",
       "      <td>1.263752</td>\n",
       "      <td>0.791295</td>\n",
       "      <td>140</td>\n",
       "      <td>75</td>\n",
       "      <td>False</td>\n",
       "    </tr>\n",
       "  </tbody>\n",
       "</table>\n",
       "</div>"
      ],
      "text/plain": [
       "    Unnamed: 0    topic_word   p_value  Poland_w  Poland_m  count_Poland_w  \\\n",
       "33          89  social bonds  0.149723  1.263752  0.791295             140   \n",
       "\n",
       "    count_Poland_m  significance  \n",
       "33              75         False  "
      ]
     },
     "metadata": {},
     "output_type": "display_data"
    },
    {
     "name": "stdout",
     "output_type": "stream",
     "text": [
      "\n",
      "\n",
      "Hungary\n",
      "Probability of women talking about social bonds\n",
      "0.0176379623308897\n",
      "Probability of men talking about social bonds\n",
      "0.0116986188600417\n",
      "Women to man ratio\n",
      "1.5076961256627204\n",
      "Man to woman ratio\n",
      "0.6632636265218508\n",
      "Result of Fisher test and odds ratio analysis:\n"
     ]
    },
    {
     "data": {
      "text/html": [
       "<div>\n",
       "<style scoped>\n",
       "    .dataframe tbody tr th:only-of-type {\n",
       "        vertical-align: middle;\n",
       "    }\n",
       "\n",
       "    .dataframe tbody tr th {\n",
       "        vertical-align: top;\n",
       "    }\n",
       "\n",
       "    .dataframe thead th {\n",
       "        text-align: right;\n",
       "    }\n",
       "</style>\n",
       "<table border=\"1\" class=\"dataframe\">\n",
       "  <thead>\n",
       "    <tr style=\"text-align: right;\">\n",
       "      <th></th>\n",
       "      <th>Unnamed: 0</th>\n",
       "      <th>topic_word</th>\n",
       "      <th>p_value</th>\n",
       "      <th>Hungary_w</th>\n",
       "      <th>Hungary_m</th>\n",
       "      <th>count_Hungary_w</th>\n",
       "      <th>count_Hungary_m</th>\n",
       "      <th>significance</th>\n",
       "    </tr>\n",
       "  </thead>\n",
       "  <tbody>\n",
       "    <tr>\n",
       "      <th>40</th>\n",
       "      <td>89</td>\n",
       "      <td>social bonds</td>\n",
       "      <td>0.196021</td>\n",
       "      <td>1.322304</td>\n",
       "      <td>0.756256</td>\n",
       "      <td>169</td>\n",
       "      <td>32</td>\n",
       "      <td>False</td>\n",
       "    </tr>\n",
       "  </tbody>\n",
       "</table>\n",
       "</div>"
      ],
      "text/plain": [
       "    Unnamed: 0    topic_word   p_value  Hungary_w  Hungary_m  count_Hungary_w  \\\n",
       "40          89  social bonds  0.196021   1.322304   0.756256              169   \n",
       "\n",
       "    count_Hungary_m  significance  \n",
       "40               32         False  "
      ]
     },
     "metadata": {},
     "output_type": "display_data"
    },
    {
     "name": "stdout",
     "output_type": "stream",
     "text": [
      "\n",
      "\n",
      "Romania\n",
      "Probability of women talking about social bonds\n",
      "0.0186187217071838\n",
      "Probability of men talking about social bonds\n",
      "0.0133188388598979\n",
      "Women to man ratio\n",
      "1.3979237907324997\n",
      "Man to woman ratio\n",
      "0.7153465779962217\n",
      "Result of Fisher test and odds ratio analysis:\n"
     ]
    },
    {
     "data": {
      "text/html": [
       "<div>\n",
       "<style scoped>\n",
       "    .dataframe tbody tr th:only-of-type {\n",
       "        vertical-align: middle;\n",
       "    }\n",
       "\n",
       "    .dataframe tbody tr th {\n",
       "        vertical-align: top;\n",
       "    }\n",
       "\n",
       "    .dataframe thead th {\n",
       "        text-align: right;\n",
       "    }\n",
       "</style>\n",
       "<table border=\"1\" class=\"dataframe\">\n",
       "  <thead>\n",
       "    <tr style=\"text-align: right;\">\n",
       "      <th></th>\n",
       "      <th>Unnamed: 0</th>\n",
       "      <th>topic_word</th>\n",
       "      <th>p_value</th>\n",
       "      <th>Romania_w</th>\n",
       "      <th>Romania_m</th>\n",
       "      <th>count_Romania_w</th>\n",
       "      <th>count_Romania_m</th>\n",
       "      <th>significance</th>\n",
       "    </tr>\n",
       "  </thead>\n",
       "  <tbody>\n",
       "    <tr>\n",
       "      <th>45</th>\n",
       "      <td>89</td>\n",
       "      <td>social bonds</td>\n",
       "      <td>0.361234</td>\n",
       "      <td>1.204833</td>\n",
       "      <td>0.829991</td>\n",
       "      <td>143</td>\n",
       "      <td>46</td>\n",
       "      <td>False</td>\n",
       "    </tr>\n",
       "  </tbody>\n",
       "</table>\n",
       "</div>"
      ],
      "text/plain": [
       "    Unnamed: 0    topic_word   p_value  Romania_w  Romania_m  count_Romania_w  \\\n",
       "45          89  social bonds  0.361234   1.204833   0.829991              143   \n",
       "\n",
       "    count_Romania_m  significance  \n",
       "45               46         False  "
      ]
     },
     "metadata": {},
     "output_type": "display_data"
    },
    {
     "name": "stdout",
     "output_type": "stream",
     "text": [
      "\n",
      "\n",
      "Austria-Hungary (historical)\n",
      "Probability of women talking about social bonds\n",
      "0.0133632633198564\n",
      "Probability of men talking about social bonds\n",
      "0.0120563178319586\n",
      "Women to man ratio\n",
      "1.1084033704248721\n",
      "Man to woman ratio\n",
      "0.9021986279387447\n",
      "Result of Fisher test and odds ratio analysis:\n"
     ]
    },
    {
     "data": {
      "text/html": [
       "<div>\n",
       "<style scoped>\n",
       "    .dataframe tbody tr th:only-of-type {\n",
       "        vertical-align: middle;\n",
       "    }\n",
       "\n",
       "    .dataframe tbody tr th {\n",
       "        vertical-align: top;\n",
       "    }\n",
       "\n",
       "    .dataframe thead th {\n",
       "        text-align: right;\n",
       "    }\n",
       "</style>\n",
       "<table border=\"1\" class=\"dataframe\">\n",
       "  <thead>\n",
       "    <tr style=\"text-align: right;\">\n",
       "      <th></th>\n",
       "      <th>Unnamed: 0</th>\n",
       "      <th>topic_word</th>\n",
       "      <th>p_value</th>\n",
       "      <th>Austria-Hungary (historical)_w</th>\n",
       "      <th>Austria-Hungary (historical)_m</th>\n",
       "      <th>count_Austria-Hungary (historical)_w</th>\n",
       "      <th>count_Austria-Hungary (historical)_m</th>\n",
       "      <th>significance</th>\n",
       "    </tr>\n",
       "  </thead>\n",
       "  <tbody>\n",
       "    <tr>\n",
       "      <th>47</th>\n",
       "      <td>89</td>\n",
       "      <td>social bonds</td>\n",
       "      <td>0.442039</td>\n",
       "      <td>0.783738</td>\n",
       "      <td>1.275936</td>\n",
       "      <td>46</td>\n",
       "      <td>19</td>\n",
       "      <td>False</td>\n",
       "    </tr>\n",
       "  </tbody>\n",
       "</table>\n",
       "</div>"
      ],
      "text/plain": [
       "    Unnamed: 0    topic_word   p_value  Austria-Hungary (historical)_w  \\\n",
       "47          89  social bonds  0.442039                        0.783738   \n",
       "\n",
       "    Austria-Hungary (historical)_m  count_Austria-Hungary (historical)_w  \\\n",
       "47                        1.275936                                    46   \n",
       "\n",
       "    count_Austria-Hungary (historical)_m  significance  \n",
       "47                                    19         False  "
      ]
     },
     "metadata": {},
     "output_type": "display_data"
    },
    {
     "name": "stdout",
     "output_type": "stream",
     "text": [
      "\n",
      "\n",
      "Russia\n",
      "Probability of women talking about social bonds\n",
      "0.0149196301639434\n",
      "Probability of men talking about social bonds\n",
      "0.0116688942240482\n",
      "Women to man ratio\n",
      "1.2785813186305024\n",
      "Man to woman ratio\n",
      "0.7821168551649942\n",
      "Result of Fisher test and odds ratio analysis:\n"
     ]
    },
    {
     "data": {
      "text/html": [
       "<div>\n",
       "<style scoped>\n",
       "    .dataframe tbody tr th:only-of-type {\n",
       "        vertical-align: middle;\n",
       "    }\n",
       "\n",
       "    .dataframe tbody tr th {\n",
       "        vertical-align: top;\n",
       "    }\n",
       "\n",
       "    .dataframe thead th {\n",
       "        text-align: right;\n",
       "    }\n",
       "</style>\n",
       "<table border=\"1\" class=\"dataframe\">\n",
       "  <thead>\n",
       "    <tr style=\"text-align: right;\">\n",
       "      <th></th>\n",
       "      <th>Unnamed: 0</th>\n",
       "      <th>topic_word</th>\n",
       "      <th>p_value</th>\n",
       "      <th>Russia_w</th>\n",
       "      <th>Russia_m</th>\n",
       "      <th>count_Russia_w</th>\n",
       "      <th>count_Russia_m</th>\n",
       "      <th>significance</th>\n",
       "    </tr>\n",
       "  </thead>\n",
       "  <tbody>\n",
       "    <tr>\n",
       "      <th>6</th>\n",
       "      <td>89</td>\n",
       "      <td>social bonds</td>\n",
       "      <td>0.07661</td>\n",
       "      <td>2.256716</td>\n",
       "      <td>0.443122</td>\n",
       "      <td>14</td>\n",
       "      <td>10</td>\n",
       "      <td>False</td>\n",
       "    </tr>\n",
       "  </tbody>\n",
       "</table>\n",
       "</div>"
      ],
      "text/plain": [
       "   Unnamed: 0    topic_word  p_value  Russia_w  Russia_m  count_Russia_w  \\\n",
       "6          89  social bonds  0.07661  2.256716  0.443122              14   \n",
       "\n",
       "   count_Russia_m  significance  \n",
       "6              10         False  "
      ]
     },
     "metadata": {},
     "output_type": "display_data"
    },
    {
     "name": "stdout",
     "output_type": "stream",
     "text": [
      "\n",
      "\n",
      "Germany\n",
      "Probability of women talking about social bonds\n",
      "0.0287745858260351\n",
      "Probability of men talking about social bonds\n",
      "0.0019396388583694\n",
      "Women to man ratio\n",
      "14.835022355772502\n",
      "Man to woman ratio\n",
      "0.06740805480558558\n",
      "Result of Fisher test and odds ratio analysis:\n"
     ]
    },
    {
     "data": {
      "text/html": [
       "<div>\n",
       "<style scoped>\n",
       "    .dataframe tbody tr th:only-of-type {\n",
       "        vertical-align: middle;\n",
       "    }\n",
       "\n",
       "    .dataframe tbody tr th {\n",
       "        vertical-align: top;\n",
       "    }\n",
       "\n",
       "    .dataframe thead th {\n",
       "        text-align: right;\n",
       "    }\n",
       "</style>\n",
       "<table border=\"1\" class=\"dataframe\">\n",
       "  <thead>\n",
       "    <tr style=\"text-align: right;\">\n",
       "      <th></th>\n",
       "      <th>Unnamed: 0</th>\n",
       "      <th>topic_word</th>\n",
       "      <th>p_value</th>\n",
       "      <th>Germany_w</th>\n",
       "      <th>Germany_m</th>\n",
       "      <th>count_Germany_w</th>\n",
       "      <th>count_Germany_m</th>\n",
       "      <th>significance</th>\n",
       "    </tr>\n",
       "  </thead>\n",
       "  <tbody>\n",
       "    <tr>\n",
       "      <th>3</th>\n",
       "      <td>89</td>\n",
       "      <td>social bonds</td>\n",
       "      <td>0.027591</td>\n",
       "      <td>3.69697</td>\n",
       "      <td>0.270492</td>\n",
       "      <td>16</td>\n",
       "      <td>4</td>\n",
       "      <td>True</td>\n",
       "    </tr>\n",
       "  </tbody>\n",
       "</table>\n",
       "</div>"
      ],
      "text/plain": [
       "   Unnamed: 0    topic_word   p_value  Germany_w  Germany_m  count_Germany_w  \\\n",
       "3          89  social bonds  0.027591    3.69697   0.270492               16   \n",
       "\n",
       "   count_Germany_m  significance  \n",
       "3                4          True  "
      ]
     },
     "metadata": {},
     "output_type": "display_data"
    },
    {
     "name": "stdout",
     "output_type": "stream",
     "text": [
      "\n",
      "\n",
      "Greece\n",
      "Probability of women talking about social bonds\n",
      "0.0121116413222249\n",
      "Probability of men talking about social bonds\n",
      "0.0136833403123719\n",
      "Women to man ratio\n",
      "0.8851377694139541\n",
      "Man to woman ratio\n",
      "1.1297676300290471\n",
      "Result of Fisher test and odds ratio analysis:\n"
     ]
    },
    {
     "data": {
      "text/html": [
       "<div>\n",
       "<style scoped>\n",
       "    .dataframe tbody tr th:only-of-type {\n",
       "        vertical-align: middle;\n",
       "    }\n",
       "\n",
       "    .dataframe tbody tr th {\n",
       "        vertical-align: top;\n",
       "    }\n",
       "\n",
       "    .dataframe thead th {\n",
       "        text-align: right;\n",
       "    }\n",
       "</style>\n",
       "<table border=\"1\" class=\"dataframe\">\n",
       "  <thead>\n",
       "    <tr style=\"text-align: right;\">\n",
       "      <th></th>\n",
       "      <th>Unnamed: 0</th>\n",
       "      <th>topic_word</th>\n",
       "      <th>p_value</th>\n",
       "      <th>Greece_w</th>\n",
       "      <th>Greece_m</th>\n",
       "      <th>count_Greece_w</th>\n",
       "      <th>count_Greece_m</th>\n",
       "      <th>significance</th>\n",
       "    </tr>\n",
       "  </thead>\n",
       "  <tbody>\n",
       "    <tr>\n",
       "      <th>26</th>\n",
       "      <td>89</td>\n",
       "      <td>social bonds</td>\n",
       "      <td>0.307961</td>\n",
       "      <td>0.619342</td>\n",
       "      <td>1.614618</td>\n",
       "      <td>14</td>\n",
       "      <td>18</td>\n",
       "      <td>False</td>\n",
       "    </tr>\n",
       "  </tbody>\n",
       "</table>\n",
       "</div>"
      ],
      "text/plain": [
       "    Unnamed: 0    topic_word   p_value  Greece_w  Greece_m  count_Greece_w  \\\n",
       "26          89  social bonds  0.307961  0.619342  1.614618              14   \n",
       "\n",
       "    count_Greece_m  significance  \n",
       "26              18         False  "
      ]
     },
     "metadata": {},
     "output_type": "display_data"
    },
    {
     "name": "stdout",
     "output_type": "stream",
     "text": [
      "\n",
      "\n",
      "Yugoslavia (historical)\n",
      "Probability of women talking about social bonds\n",
      "0.0213720798434555\n",
      "Probability of men talking about social bonds\n",
      "0.0297282726024247\n",
      "Women to man ratio\n",
      "0.718914285040307\n",
      "Man to woman ratio\n",
      "1.3909864093797129\n",
      "Result of Fisher test and odds ratio analysis:\n"
     ]
    },
    {
     "data": {
      "text/html": [
       "<div>\n",
       "<style scoped>\n",
       "    .dataframe tbody tr th:only-of-type {\n",
       "        vertical-align: middle;\n",
       "    }\n",
       "\n",
       "    .dataframe tbody tr th {\n",
       "        vertical-align: top;\n",
       "    }\n",
       "\n",
       "    .dataframe thead th {\n",
       "        text-align: right;\n",
       "    }\n",
       "</style>\n",
       "<table border=\"1\" class=\"dataframe\">\n",
       "  <thead>\n",
       "    <tr style=\"text-align: right;\">\n",
       "      <th></th>\n",
       "      <th>Unnamed: 0</th>\n",
       "      <th>topic_word</th>\n",
       "      <th>p_value</th>\n",
       "      <th>Yugoslavia (historical)_w</th>\n",
       "      <th>Yugoslavia (historical)_m</th>\n",
       "      <th>count_Yugoslavia (historical)_w</th>\n",
       "      <th>count_Yugoslavia (historical)_m</th>\n",
       "      <th>significance</th>\n",
       "    </tr>\n",
       "  </thead>\n",
       "  <tbody>\n",
       "    <tr>\n",
       "      <th>59</th>\n",
       "      <td>89</td>\n",
       "      <td>social bonds</td>\n",
       "      <td>1.0</td>\n",
       "      <td>1.266667</td>\n",
       "      <td>0.789474</td>\n",
       "      <td>19</td>\n",
       "      <td>3</td>\n",
       "      <td>False</td>\n",
       "    </tr>\n",
       "  </tbody>\n",
       "</table>\n",
       "</div>"
      ],
      "text/plain": [
       "    Unnamed: 0    topic_word  p_value  Yugoslavia (historical)_w  \\\n",
       "59          89  social bonds      1.0                   1.266667   \n",
       "\n",
       "    Yugoslavia (historical)_m  count_Yugoslavia (historical)_w  \\\n",
       "59                   0.789474                               19   \n",
       "\n",
       "    count_Yugoslavia (historical)_m  significance  \n",
       "59                                3         False  "
      ]
     },
     "metadata": {},
     "output_type": "display_data"
    },
    {
     "name": "stdout",
     "output_type": "stream",
     "text": [
      "\n",
      "\n",
      "Netherlands\n",
      "Probability of women talking about social bonds\n",
      "0.0366174655572725\n",
      "Probability of men talking about social bonds\n",
      "0.0177240541182657\n",
      "Women to man ratio\n",
      "2.065975725019707\n",
      "Man to woman ratio\n",
      "0.48403279278146466\n",
      "Result of Fisher test and odds ratio analysis:\n"
     ]
    },
    {
     "data": {
      "text/html": [
       "<div>\n",
       "<style scoped>\n",
       "    .dataframe tbody tr th:only-of-type {\n",
       "        vertical-align: middle;\n",
       "    }\n",
       "\n",
       "    .dataframe tbody tr th {\n",
       "        vertical-align: top;\n",
       "    }\n",
       "\n",
       "    .dataframe thead th {\n",
       "        text-align: right;\n",
       "    }\n",
       "</style>\n",
       "<table border=\"1\" class=\"dataframe\">\n",
       "  <thead>\n",
       "    <tr style=\"text-align: right;\">\n",
       "      <th></th>\n",
       "      <th>Unnamed: 0</th>\n",
       "      <th>topic_word</th>\n",
       "      <th>p_value</th>\n",
       "      <th>Netherlands_w</th>\n",
       "      <th>Netherlands_m</th>\n",
       "      <th>count_Netherlands_w</th>\n",
       "      <th>count_Netherlands_m</th>\n",
       "      <th>significance</th>\n",
       "    </tr>\n",
       "  </thead>\n",
       "  <tbody>\n",
       "    <tr>\n",
       "      <th>49</th>\n",
       "      <td>89</td>\n",
       "      <td>social bonds</td>\n",
       "      <td>0.804698</td>\n",
       "      <td>1.178125</td>\n",
       "      <td>0.848806</td>\n",
       "      <td>13</td>\n",
       "      <td>8</td>\n",
       "      <td>False</td>\n",
       "    </tr>\n",
       "  </tbody>\n",
       "</table>\n",
       "</div>"
      ],
      "text/plain": [
       "    Unnamed: 0    topic_word   p_value  Netherlands_w  Netherlands_m  \\\n",
       "49          89  social bonds  0.804698       1.178125       0.848806   \n",
       "\n",
       "    count_Netherlands_w  count_Netherlands_m  significance  \n",
       "49                   13                    8         False  "
      ]
     },
     "metadata": {},
     "output_type": "display_data"
    },
    {
     "name": "stdout",
     "output_type": "stream",
     "text": [
      "\n",
      "\n",
      "France\n",
      "Probability of women talking about social bonds\n",
      "0.0204015060092794\n",
      "Probability of men talking about social bonds\n",
      "0.0039344381388003\n",
      "Women to man ratio\n",
      "5.185367081537158\n",
      "Man to woman ratio\n",
      "0.19285037766382368\n",
      "Result of Fisher test and odds ratio analysis:\n"
     ]
    },
    {
     "data": {
      "text/html": [
       "<div>\n",
       "<style scoped>\n",
       "    .dataframe tbody tr th:only-of-type {\n",
       "        vertical-align: middle;\n",
       "    }\n",
       "\n",
       "    .dataframe tbody tr th {\n",
       "        vertical-align: top;\n",
       "    }\n",
       "\n",
       "    .dataframe thead th {\n",
       "        text-align: right;\n",
       "    }\n",
       "</style>\n",
       "<table border=\"1\" class=\"dataframe\">\n",
       "  <thead>\n",
       "    <tr style=\"text-align: right;\">\n",
       "      <th></th>\n",
       "      <th>Unnamed: 0</th>\n",
       "      <th>topic_word</th>\n",
       "      <th>p_value</th>\n",
       "      <th>France_w</th>\n",
       "      <th>France_m</th>\n",
       "      <th>count_France_w</th>\n",
       "      <th>count_France_m</th>\n",
       "      <th>significance</th>\n",
       "    </tr>\n",
       "  </thead>\n",
       "  <tbody>\n",
       "    <tr>\n",
       "      <th>2</th>\n",
       "      <td>89</td>\n",
       "      <td>social bonds</td>\n",
       "      <td>0.061829</td>\n",
       "      <td>3.512195</td>\n",
       "      <td>0.284722</td>\n",
       "      <td>18</td>\n",
       "      <td>3</td>\n",
       "      <td>False</td>\n",
       "    </tr>\n",
       "  </tbody>\n",
       "</table>\n",
       "</div>"
      ],
      "text/plain": [
       "   Unnamed: 0    topic_word   p_value  France_w  France_m  count_France_w  \\\n",
       "2          89  social bonds  0.061829  3.512195  0.284722              18   \n",
       "\n",
       "   count_France_m  significance  \n",
       "2               3         False  "
      ]
     },
     "metadata": {},
     "output_type": "display_data"
    },
    {
     "name": "stdout",
     "output_type": "stream",
     "text": [
      "\n",
      "\n",
      "Austria\n",
      "Probability of women talking about social bonds\n",
      "0.0164918115940389\n",
      "Probability of men talking about social bonds\n",
      "0.0082676573373385\n",
      "Women to man ratio\n",
      "1.9947381611425004\n",
      "Man to woman ratio\n",
      "0.5013189297121798\n",
      "Result of Fisher test and odds ratio analysis:\n"
     ]
    },
    {
     "data": {
      "text/html": [
       "<div>\n",
       "<style scoped>\n",
       "    .dataframe tbody tr th:only-of-type {\n",
       "        vertical-align: middle;\n",
       "    }\n",
       "\n",
       "    .dataframe tbody tr th {\n",
       "        vertical-align: top;\n",
       "    }\n",
       "\n",
       "    .dataframe thead th {\n",
       "        text-align: right;\n",
       "    }\n",
       "</style>\n",
       "<table border=\"1\" class=\"dataframe\">\n",
       "  <thead>\n",
       "    <tr style=\"text-align: right;\">\n",
       "      <th></th>\n",
       "      <th>Unnamed: 0</th>\n",
       "      <th>topic_word</th>\n",
       "      <th>p_value</th>\n",
       "      <th>Austria_w</th>\n",
       "      <th>Austria_m</th>\n",
       "      <th>count_Austria_w</th>\n",
       "      <th>count_Austria_m</th>\n",
       "      <th>significance</th>\n",
       "    </tr>\n",
       "  </thead>\n",
       "  <tbody>\n",
       "    <tr>\n",
       "      <th>62</th>\n",
       "      <td>89</td>\n",
       "      <td>social bonds</td>\n",
       "      <td>1.0</td>\n",
       "      <td>2.0</td>\n",
       "      <td>0.5</td>\n",
       "      <td>4</td>\n",
       "      <td>1</td>\n",
       "      <td>False</td>\n",
       "    </tr>\n",
       "  </tbody>\n",
       "</table>\n",
       "</div>"
      ],
      "text/plain": [
       "    Unnamed: 0    topic_word  p_value  Austria_w  Austria_m  count_Austria_w  \\\n",
       "62          89  social bonds      1.0        2.0        0.5                4   \n",
       "\n",
       "    count_Austria_m  significance  \n",
       "62                1         False  "
      ]
     },
     "metadata": {},
     "output_type": "display_data"
    },
    {
     "name": "stdout",
     "output_type": "stream",
     "text": [
      "\n",
      "\n",
      "Italy\n",
      "Probability of women talking about social bonds\n",
      "0.0311550739205021\n",
      "Probability of men talking about social bonds\n",
      "0.0195671193280708\n",
      "Women to man ratio\n",
      "1.5922156653793864\n",
      "Man to woman ratio\n",
      "0.6280556219510153\n",
      "Result of Fisher test and odds ratio analysis:\n"
     ]
    },
    {
     "data": {
      "text/html": [
       "<div>\n",
       "<style scoped>\n",
       "    .dataframe tbody tr th:only-of-type {\n",
       "        vertical-align: middle;\n",
       "    }\n",
       "\n",
       "    .dataframe tbody tr th {\n",
       "        vertical-align: top;\n",
       "    }\n",
       "\n",
       "    .dataframe thead th {\n",
       "        text-align: right;\n",
       "    }\n",
       "</style>\n",
       "<table border=\"1\" class=\"dataframe\">\n",
       "  <thead>\n",
       "    <tr style=\"text-align: right;\">\n",
       "      <th></th>\n",
       "      <th>Unnamed: 0</th>\n",
       "      <th>topic_word</th>\n",
       "      <th>p_value</th>\n",
       "      <th>Italy_w</th>\n",
       "      <th>Italy_m</th>\n",
       "      <th>count_Italy_w</th>\n",
       "      <th>count_Italy_m</th>\n",
       "      <th>significance</th>\n",
       "    </tr>\n",
       "  </thead>\n",
       "  <tbody>\n",
       "    <tr>\n",
       "      <th>10</th>\n",
       "      <td>89</td>\n",
       "      <td>social bonds</td>\n",
       "      <td>0.173864</td>\n",
       "      <td>2.266667</td>\n",
       "      <td>0.441176</td>\n",
       "      <td>14</td>\n",
       "      <td>7</td>\n",
       "      <td>False</td>\n",
       "    </tr>\n",
       "  </tbody>\n",
       "</table>\n",
       "</div>"
      ],
      "text/plain": [
       "    Unnamed: 0    topic_word   p_value   Italy_w   Italy_m  count_Italy_w  \\\n",
       "10          89  social bonds  0.173864  2.266667  0.441176             14   \n",
       "\n",
       "    count_Italy_m  significance  \n",
       "10              7         False  "
      ]
     },
     "metadata": {},
     "output_type": "display_data"
    }
   ],
   "source": [
    "topic_word = \"social bonds\"\n",
    "for country in countries_to_study:\n",
    "    try:\n",
    "        print ('\\n')\n",
    "        print (country)\n",
    "\n",
    "        men = data_sets_1[country+'_m']\n",
    "        topic_m = men[men.topic_name==topic_word]['stationary_prob'].values[0]\n",
    "        women = data_sets_1[country+'_w']\n",
    "        topic_w = women[women.topic_name==topic_word]['stationary_prob'].values[0]\n",
    "        print (\"Probability of women talking about \"+topic_word)\n",
    "        print(topic_w)\n",
    "        print (\"Probability of men talking about \"+topic_word)\n",
    "        print(topic_m)\n",
    "        print (\"Women to man ratio\")\n",
    "        print (topic_w/topic_m)\n",
    "        print (\"Man to woman ratio\")\n",
    "        print (topic_m/topic_w)\n",
    "        print ('Result of Fisher test and odds ratio analysis:')\n",
    "        df = data_sets_1[country+'_fisher']\n",
    "        display(df[df.topic_word==topic_word])\n",
    "    except:\n",
    "        pass\n"
   ]
  },
  {
   "cell_type": "markdown",
   "metadata": {},
   "source": [
    "![title](output/markov_modelling/bootstrap/Czechoslovakia%20(historical)_m_Czechoslovakia%20(historical)_w/social%20bonds.png)"
   ]
  },
  {
   "cell_type": "markdown",
   "metadata": {},
   "source": [
    "![title](output/markov_modelling/bootstrap/Poland_m_Poland_w/social%20bonds.png)"
   ]
  },
  {
   "cell_type": "markdown",
   "metadata": {},
   "source": [
    "![title](output/markov_modelling/bootstrap/Hungary_m_Hungary_w/social%20bonds.png)"
   ]
  },
  {
   "cell_type": "markdown",
   "metadata": {},
   "source": [
    "![title](output/markov_modelling/bootstrap/Romania_m_Romania_w/social%20bonds.png)"
   ]
  },
  {
   "cell_type": "markdown",
   "metadata": {},
   "source": [
    "![title](output/markov_modelling/bootstrap/Russia_m_Russia_w/social%20bonds.png)"
   ]
  },
  {
   "cell_type": "markdown",
   "metadata": {},
   "source": [
    "![title](output/markov_modelling/bootstrap/Germany_w_Germany_m/social%20bonds.png)"
   ]
  },
  {
   "cell_type": "markdown",
   "metadata": {},
   "source": [
    "![title](output/markov_modelling/bootstrap/Greece_m_Greece_w/social%20bonds.png)"
   ]
  },
  {
   "cell_type": "markdown",
   "metadata": {},
   "source": [
    "![title](output/markov_modelling/bootstrap/Yugoslavia%20(historical)_m_Yugoslavia%20(historical)_w/social%20bonds.png)"
   ]
  },
  {
   "cell_type": "markdown",
   "metadata": {},
   "source": [
    "![title](output/markov_modelling/bootstrap/Netherlands_m_Netherlands_w/social%20bonds.png)"
   ]
  },
  {
   "cell_type": "markdown",
   "metadata": {},
   "source": [
    "![title](output/markov_modelling/bootstrap/France_m_France_w/social%20bonds.png)"
   ]
  },
  {
   "cell_type": "markdown",
   "metadata": {},
   "source": [
    "![title](output/markov_modelling/bootstrap/Austria_m_Austria_w/social%20bonds.png)"
   ]
  },
  {
   "cell_type": "markdown",
   "metadata": {},
   "source": [
    "![title](output/markov_modelling/bootstrap/Italy_m_Italy_w/social%20bonds.png)"
   ]
  },
  {
   "cell_type": "markdown",
   "metadata": {},
   "source": [
    "## Observation 2"
   ]
  },
  {
   "cell_type": "markdown",
   "metadata": {},
   "source": [
    "## Qualitative description"
   ]
  },
  {
   "cell_type": "markdown",
   "metadata": {},
   "source": [
    "Just as above, women are either more likely to discuss aid giving or the difference between men and women is insignificant. There is no country in case of which men would outperform women with regards to aid giving; women of various nationalities generally tend to outperform men."
   ]
  },
  {
   "cell_type": "markdown",
   "metadata": {},
   "source": [
    "## Quantitative proof"
   ]
  },
  {
   "cell_type": "code",
   "execution_count": 12,
   "metadata": {},
   "outputs": [
    {
     "name": "stdout",
     "output_type": "stream",
     "text": [
      "Czechoslovakia (historical)\n",
      "\n",
      "\n",
      "Probability of women talking about aid giving\n",
      "27.107725038552\n",
      "Probability of men talking about aid giving\n",
      "25.310350347539\n",
      "Women to man ratio\n",
      "1.0710134259831676\n",
      "Result of Fisher test and odds ratio analysis:\n"
     ]
    },
    {
     "data": {
      "text/html": [
       "<div>\n",
       "<style scoped>\n",
       "    .dataframe tbody tr th:only-of-type {\n",
       "        vertical-align: middle;\n",
       "    }\n",
       "\n",
       "    .dataframe tbody tr th {\n",
       "        vertical-align: top;\n",
       "    }\n",
       "\n",
       "    .dataframe thead th {\n",
       "        text-align: right;\n",
       "    }\n",
       "</style>\n",
       "<table border=\"1\" class=\"dataframe\">\n",
       "  <thead>\n",
       "    <tr style=\"text-align: right;\">\n",
       "      <th></th>\n",
       "      <th>Unnamed: 0</th>\n",
       "      <th>topic_word</th>\n",
       "      <th>p_value</th>\n",
       "      <th>Czechoslovakia (historical)_w</th>\n",
       "      <th>Czechoslovakia (historical)_m</th>\n",
       "      <th>count_Czechoslovakia (historical)_w</th>\n",
       "      <th>count_Czechoslovakia (historical)_m</th>\n",
       "      <th>significance</th>\n",
       "    </tr>\n",
       "  </thead>\n",
       "  <tbody>\n",
       "    <tr>\n",
       "      <th>9</th>\n",
       "      <td>7</td>\n",
       "      <td>aid giving</td>\n",
       "      <td>0.00069</td>\n",
       "      <td>1.499115</td>\n",
       "      <td>0.66706</td>\n",
       "      <td>420</td>\n",
       "      <td>119</td>\n",
       "      <td>True</td>\n",
       "    </tr>\n",
       "  </tbody>\n",
       "</table>\n",
       "</div>"
      ],
      "text/plain": [
       "   Unnamed: 0  topic_word  p_value  Czechoslovakia (historical)_w  \\\n",
       "9           7  aid giving  0.00069                       1.499115   \n",
       "\n",
       "   Czechoslovakia (historical)_m  count_Czechoslovakia (historical)_w  \\\n",
       "9                        0.66706                                  420   \n",
       "\n",
       "   count_Czechoslovakia (historical)_m  significance  \n",
       "9                                  119          True  "
      ]
     },
     "metadata": {},
     "output_type": "display_data"
    },
    {
     "name": "stdout",
     "output_type": "stream",
     "text": [
      "Poland\n",
      "\n",
      "\n",
      "Probability of women talking about aid giving\n",
      "38.125524551734\n",
      "Probability of men talking about aid giving\n",
      "27.689854370908698\n",
      "Women to man ratio\n",
      "1.3768770337697818\n",
      "Result of Fisher test and odds ratio analysis:\n"
     ]
    },
    {
     "data": {
      "text/html": [
       "<div>\n",
       "<style scoped>\n",
       "    .dataframe tbody tr th:only-of-type {\n",
       "        vertical-align: middle;\n",
       "    }\n",
       "\n",
       "    .dataframe tbody tr th {\n",
       "        vertical-align: top;\n",
       "    }\n",
       "\n",
       "    .dataframe thead th {\n",
       "        text-align: right;\n",
       "    }\n",
       "</style>\n",
       "<table border=\"1\" class=\"dataframe\">\n",
       "  <thead>\n",
       "    <tr style=\"text-align: right;\">\n",
       "      <th></th>\n",
       "      <th>Unnamed: 0</th>\n",
       "      <th>topic_word</th>\n",
       "      <th>p_value</th>\n",
       "      <th>Poland_w</th>\n",
       "      <th>Poland_m</th>\n",
       "      <th>count_Poland_w</th>\n",
       "      <th>count_Poland_m</th>\n",
       "      <th>significance</th>\n",
       "    </tr>\n",
       "  </thead>\n",
       "  <tbody>\n",
       "    <tr>\n",
       "      <th>16</th>\n",
       "      <td>7</td>\n",
       "      <td>aid giving</td>\n",
       "      <td>0.016001</td>\n",
       "      <td>1.345095</td>\n",
       "      <td>0.743442</td>\n",
       "      <td>265</td>\n",
       "      <td>140</td>\n",
       "      <td>True</td>\n",
       "    </tr>\n",
       "  </tbody>\n",
       "</table>\n",
       "</div>"
      ],
      "text/plain": [
       "    Unnamed: 0  topic_word   p_value  Poland_w  Poland_m  count_Poland_w  \\\n",
       "16           7  aid giving  0.016001  1.345095  0.743442             265   \n",
       "\n",
       "    count_Poland_m  significance  \n",
       "16             140          True  "
      ]
     },
     "metadata": {},
     "output_type": "display_data"
    },
    {
     "name": "stdout",
     "output_type": "stream",
     "text": [
      "Hungary\n",
      "\n",
      "\n",
      "Probability of women talking about aid giving\n",
      "20.721350101534302\n",
      "Probability of men talking about aid giving\n",
      "21.8764794297409\n",
      "Women to man ratio\n",
      "0.9471976589324419\n",
      "Result of Fisher test and odds ratio analysis:\n"
     ]
    },
    {
     "data": {
      "text/html": [
       "<div>\n",
       "<style scoped>\n",
       "    .dataframe tbody tr th:only-of-type {\n",
       "        vertical-align: middle;\n",
       "    }\n",
       "\n",
       "    .dataframe tbody tr th {\n",
       "        vertical-align: top;\n",
       "    }\n",
       "\n",
       "    .dataframe thead th {\n",
       "        text-align: right;\n",
       "    }\n",
       "</style>\n",
       "<table border=\"1\" class=\"dataframe\">\n",
       "  <thead>\n",
       "    <tr style=\"text-align: right;\">\n",
       "      <th></th>\n",
       "      <th>Unnamed: 0</th>\n",
       "      <th>topic_word</th>\n",
       "      <th>p_value</th>\n",
       "      <th>Hungary_w</th>\n",
       "      <th>Hungary_m</th>\n",
       "      <th>count_Hungary_w</th>\n",
       "      <th>count_Hungary_m</th>\n",
       "      <th>significance</th>\n",
       "    </tr>\n",
       "  </thead>\n",
       "  <tbody>\n",
       "    <tr>\n",
       "      <th>92</th>\n",
       "      <td>7</td>\n",
       "      <td>aid giving</td>\n",
       "      <td>1.0</td>\n",
       "      <td>0.998096</td>\n",
       "      <td>1.001907</td>\n",
       "      <td>214</td>\n",
       "      <td>51</td>\n",
       "      <td>False</td>\n",
       "    </tr>\n",
       "  </tbody>\n",
       "</table>\n",
       "</div>"
      ],
      "text/plain": [
       "    Unnamed: 0  topic_word  p_value  Hungary_w  Hungary_m  count_Hungary_w  \\\n",
       "92           7  aid giving      1.0   0.998096   1.001907              214   \n",
       "\n",
       "    count_Hungary_m  significance  \n",
       "92               51         False  "
      ]
     },
     "metadata": {},
     "output_type": "display_data"
    },
    {
     "name": "stdout",
     "output_type": "stream",
     "text": [
      "Romania\n",
      "\n",
      "\n",
      "Probability of women talking about aid giving\n",
      "23.8392151709322\n",
      "Probability of men talking about aid giving\n",
      "20.2658480778707\n",
      "Women to man ratio\n",
      "1.1763245771571456\n",
      "Result of Fisher test and odds ratio analysis:\n"
     ]
    },
    {
     "data": {
      "text/html": [
       "<div>\n",
       "<style scoped>\n",
       "    .dataframe tbody tr th:only-of-type {\n",
       "        vertical-align: middle;\n",
       "    }\n",
       "\n",
       "    .dataframe tbody tr th {\n",
       "        vertical-align: top;\n",
       "    }\n",
       "\n",
       "    .dataframe thead th {\n",
       "        text-align: right;\n",
       "    }\n",
       "</style>\n",
       "<table border=\"1\" class=\"dataframe\">\n",
       "  <thead>\n",
       "    <tr style=\"text-align: right;\">\n",
       "      <th></th>\n",
       "      <th>Unnamed: 0</th>\n",
       "      <th>topic_word</th>\n",
       "      <th>p_value</th>\n",
       "      <th>Romania_w</th>\n",
       "      <th>Romania_m</th>\n",
       "      <th>count_Romania_w</th>\n",
       "      <th>count_Romania_m</th>\n",
       "      <th>significance</th>\n",
       "    </tr>\n",
       "  </thead>\n",
       "  <tbody>\n",
       "    <tr>\n",
       "      <th>7</th>\n",
       "      <td>7</td>\n",
       "      <td>aid giving</td>\n",
       "      <td>0.014677</td>\n",
       "      <td>1.52173</td>\n",
       "      <td>0.657147</td>\n",
       "      <td>208</td>\n",
       "      <td>57</td>\n",
       "      <td>True</td>\n",
       "    </tr>\n",
       "  </tbody>\n",
       "</table>\n",
       "</div>"
      ],
      "text/plain": [
       "   Unnamed: 0  topic_word   p_value  Romania_w  Romania_m  count_Romania_w  \\\n",
       "7           7  aid giving  0.014677    1.52173   0.657147              208   \n",
       "\n",
       "   count_Romania_m  significance  \n",
       "7               57          True  "
      ]
     },
     "metadata": {},
     "output_type": "display_data"
    },
    {
     "name": "stdout",
     "output_type": "stream",
     "text": [
      "Austria-Hungary (historical)\n",
      "\n",
      "\n",
      "Probability of women talking about aid giving\n",
      "24.2713532775721\n",
      "Probability of men talking about aid giving\n",
      "36.283666524512896\n",
      "Women to man ratio\n",
      "0.6689333135937242\n",
      "Result of Fisher test and odds ratio analysis:\n"
     ]
    },
    {
     "data": {
      "text/html": [
       "<div>\n",
       "<style scoped>\n",
       "    .dataframe tbody tr th:only-of-type {\n",
       "        vertical-align: middle;\n",
       "    }\n",
       "\n",
       "    .dataframe tbody tr th {\n",
       "        vertical-align: top;\n",
       "    }\n",
       "\n",
       "    .dataframe thead th {\n",
       "        text-align: right;\n",
       "    }\n",
       "</style>\n",
       "<table border=\"1\" class=\"dataframe\">\n",
       "  <thead>\n",
       "    <tr style=\"text-align: right;\">\n",
       "      <th></th>\n",
       "      <th>Unnamed: 0</th>\n",
       "      <th>topic_word</th>\n",
       "      <th>p_value</th>\n",
       "      <th>Austria-Hungary (historical)_w</th>\n",
       "      <th>Austria-Hungary (historical)_m</th>\n",
       "      <th>count_Austria-Hungary (historical)_w</th>\n",
       "      <th>count_Austria-Hungary (historical)_m</th>\n",
       "      <th>significance</th>\n",
       "    </tr>\n",
       "  </thead>\n",
       "  <tbody>\n",
       "    <tr>\n",
       "      <th>54</th>\n",
       "      <td>7</td>\n",
       "      <td>aid giving</td>\n",
       "      <td>0.547466</td>\n",
       "      <td>0.849429</td>\n",
       "      <td>1.177261</td>\n",
       "      <td>90</td>\n",
       "      <td>34</td>\n",
       "      <td>False</td>\n",
       "    </tr>\n",
       "  </tbody>\n",
       "</table>\n",
       "</div>"
      ],
      "text/plain": [
       "    Unnamed: 0  topic_word   p_value  Austria-Hungary (historical)_w  \\\n",
       "54           7  aid giving  0.547466                        0.849429   \n",
       "\n",
       "    Austria-Hungary (historical)_m  count_Austria-Hungary (historical)_w  \\\n",
       "54                        1.177261                                    90   \n",
       "\n",
       "    count_Austria-Hungary (historical)_m  significance  \n",
       "54                                    34         False  "
      ]
     },
     "metadata": {},
     "output_type": "display_data"
    },
    {
     "name": "stdout",
     "output_type": "stream",
     "text": [
      "Russia\n",
      "\n",
      "\n",
      "Probability of women talking about aid giving\n",
      "36.684754423291295\n",
      "Probability of men talking about aid giving\n",
      "32.2065603775725\n",
      "Women to man ratio\n",
      "1.13904602022752\n",
      "Result of Fisher test and odds ratio analysis:\n"
     ]
    },
    {
     "data": {
      "text/html": [
       "<div>\n",
       "<style scoped>\n",
       "    .dataframe tbody tr th:only-of-type {\n",
       "        vertical-align: middle;\n",
       "    }\n",
       "\n",
       "    .dataframe tbody tr th {\n",
       "        vertical-align: top;\n",
       "    }\n",
       "\n",
       "    .dataframe thead th {\n",
       "        text-align: right;\n",
       "    }\n",
       "</style>\n",
       "<table border=\"1\" class=\"dataframe\">\n",
       "  <thead>\n",
       "    <tr style=\"text-align: right;\">\n",
       "      <th></th>\n",
       "      <th>Unnamed: 0</th>\n",
       "      <th>topic_word</th>\n",
       "      <th>p_value</th>\n",
       "      <th>Russia_w</th>\n",
       "      <th>Russia_m</th>\n",
       "      <th>count_Russia_w</th>\n",
       "      <th>count_Russia_m</th>\n",
       "      <th>significance</th>\n",
       "    </tr>\n",
       "  </thead>\n",
       "  <tbody>\n",
       "    <tr>\n",
       "      <th>55</th>\n",
       "      <td>7</td>\n",
       "      <td>aid giving</td>\n",
       "      <td>0.740137</td>\n",
       "      <td>1.125</td>\n",
       "      <td>0.888889</td>\n",
       "      <td>21</td>\n",
       "      <td>28</td>\n",
       "      <td>False</td>\n",
       "    </tr>\n",
       "  </tbody>\n",
       "</table>\n",
       "</div>"
      ],
      "text/plain": [
       "    Unnamed: 0  topic_word   p_value  Russia_w  Russia_m  count_Russia_w  \\\n",
       "55           7  aid giving  0.740137     1.125  0.888889              21   \n",
       "\n",
       "    count_Russia_m  significance  \n",
       "55              28         False  "
      ]
     },
     "metadata": {},
     "output_type": "display_data"
    },
    {
     "name": "stdout",
     "output_type": "stream",
     "text": [
      "Germany\n",
      "\n",
      "\n",
      "Probability of women talking about aid giving\n",
      "16.689811270247798\n",
      "Probability of men talking about aid giving\n",
      "13.442520881226201\n",
      "Women to man ratio\n",
      "1.2415685582870664\n",
      "Result of Fisher test and odds ratio analysis:\n"
     ]
    },
    {
     "data": {
      "text/html": [
       "<div>\n",
       "<style scoped>\n",
       "    .dataframe tbody tr th:only-of-type {\n",
       "        vertical-align: middle;\n",
       "    }\n",
       "\n",
       "    .dataframe tbody tr th {\n",
       "        vertical-align: top;\n",
       "    }\n",
       "\n",
       "    .dataframe thead th {\n",
       "        text-align: right;\n",
       "    }\n",
       "</style>\n",
       "<table border=\"1\" class=\"dataframe\">\n",
       "  <thead>\n",
       "    <tr style=\"text-align: right;\">\n",
       "      <th></th>\n",
       "      <th>Unnamed: 0</th>\n",
       "      <th>topic_word</th>\n",
       "      <th>p_value</th>\n",
       "      <th>Germany_w</th>\n",
       "      <th>Germany_m</th>\n",
       "      <th>count_Germany_w</th>\n",
       "      <th>count_Germany_m</th>\n",
       "      <th>significance</th>\n",
       "    </tr>\n",
       "  </thead>\n",
       "  <tbody>\n",
       "    <tr>\n",
       "      <th>39</th>\n",
       "      <td>7</td>\n",
       "      <td>aid giving</td>\n",
       "      <td>0.545319</td>\n",
       "      <td>1.332011</td>\n",
       "      <td>0.750745</td>\n",
       "      <td>19</td>\n",
       "      <td>12</td>\n",
       "      <td>False</td>\n",
       "    </tr>\n",
       "  </tbody>\n",
       "</table>\n",
       "</div>"
      ],
      "text/plain": [
       "    Unnamed: 0  topic_word   p_value  Germany_w  Germany_m  count_Germany_w  \\\n",
       "39           7  aid giving  0.545319   1.332011   0.750745               19   \n",
       "\n",
       "    count_Germany_m  significance  \n",
       "39               12         False  "
      ]
     },
     "metadata": {},
     "output_type": "display_data"
    },
    {
     "name": "stdout",
     "output_type": "stream",
     "text": [
      "Greece\n",
      "\n",
      "\n",
      "Probability of women talking about aid giving\n",
      "32.6439570139578\n",
      "Probability of men talking about aid giving\n",
      "28.353113786385602\n",
      "Women to man ratio\n",
      "1.151335873015561\n",
      "Result of Fisher test and odds ratio analysis:\n"
     ]
    },
    {
     "data": {
      "text/html": [
       "<div>\n",
       "<style scoped>\n",
       "    .dataframe tbody tr th:only-of-type {\n",
       "        vertical-align: middle;\n",
       "    }\n",
       "\n",
       "    .dataframe tbody tr th {\n",
       "        vertical-align: top;\n",
       "    }\n",
       "\n",
       "    .dataframe thead th {\n",
       "        text-align: right;\n",
       "    }\n",
       "</style>\n",
       "<table border=\"1\" class=\"dataframe\">\n",
       "  <thead>\n",
       "    <tr style=\"text-align: right;\">\n",
       "      <th></th>\n",
       "      <th>Unnamed: 0</th>\n",
       "      <th>topic_word</th>\n",
       "      <th>p_value</th>\n",
       "      <th>Greece_w</th>\n",
       "      <th>Greece_m</th>\n",
       "      <th>count_Greece_w</th>\n",
       "      <th>count_Greece_m</th>\n",
       "      <th>significance</th>\n",
       "    </tr>\n",
       "  </thead>\n",
       "  <tbody>\n",
       "    <tr>\n",
       "      <th>11</th>\n",
       "      <td>7</td>\n",
       "      <td>aid giving</td>\n",
       "      <td>0.109725</td>\n",
       "      <td>1.880165</td>\n",
       "      <td>0.531868</td>\n",
       "      <td>35</td>\n",
       "      <td>22</td>\n",
       "      <td>False</td>\n",
       "    </tr>\n",
       "  </tbody>\n",
       "</table>\n",
       "</div>"
      ],
      "text/plain": [
       "    Unnamed: 0  topic_word   p_value  Greece_w  Greece_m  count_Greece_w  \\\n",
       "11           7  aid giving  0.109725  1.880165  0.531868              35   \n",
       "\n",
       "    count_Greece_m  significance  \n",
       "11              22         False  "
      ]
     },
     "metadata": {},
     "output_type": "display_data"
    },
    {
     "name": "stdout",
     "output_type": "stream",
     "text": [
      "Yugoslavia (historical)\n",
      "\n",
      "\n",
      "Probability of women talking about aid giving\n",
      "36.1616265968797\n",
      "Probability of men talking about aid giving\n",
      "31.0453328019616\n",
      "Women to man ratio\n",
      "1.1648007392143283\n",
      "Result of Fisher test and odds ratio analysis:\n"
     ]
    },
    {
     "data": {
      "text/html": [
       "<div>\n",
       "<style scoped>\n",
       "    .dataframe tbody tr th:only-of-type {\n",
       "        vertical-align: middle;\n",
       "    }\n",
       "\n",
       "    .dataframe tbody tr th {\n",
       "        vertical-align: top;\n",
       "    }\n",
       "\n",
       "    .dataframe thead th {\n",
       "        text-align: right;\n",
       "    }\n",
       "</style>\n",
       "<table border=\"1\" class=\"dataframe\">\n",
       "  <thead>\n",
       "    <tr style=\"text-align: right;\">\n",
       "      <th></th>\n",
       "      <th>Unnamed: 0</th>\n",
       "      <th>topic_word</th>\n",
       "      <th>p_value</th>\n",
       "      <th>Yugoslavia (historical)_w</th>\n",
       "      <th>Yugoslavia (historical)_m</th>\n",
       "      <th>count_Yugoslavia (historical)_w</th>\n",
       "      <th>count_Yugoslavia (historical)_m</th>\n",
       "      <th>significance</th>\n",
       "    </tr>\n",
       "  </thead>\n",
       "  <tbody>\n",
       "    <tr>\n",
       "      <th>7</th>\n",
       "      <td>7</td>\n",
       "      <td>aid giving</td>\n",
       "      <td>0.141039</td>\n",
       "      <td>3.315789</td>\n",
       "      <td>0.301587</td>\n",
       "      <td>27</td>\n",
       "      <td>2</td>\n",
       "      <td>False</td>\n",
       "    </tr>\n",
       "  </tbody>\n",
       "</table>\n",
       "</div>"
      ],
      "text/plain": [
       "   Unnamed: 0  topic_word   p_value  Yugoslavia (historical)_w  \\\n",
       "7           7  aid giving  0.141039                   3.315789   \n",
       "\n",
       "   Yugoslavia (historical)_m  count_Yugoslavia (historical)_w  \\\n",
       "7                   0.301587                               27   \n",
       "\n",
       "   count_Yugoslavia (historical)_m  significance  \n",
       "7                                2         False  "
      ]
     },
     "metadata": {},
     "output_type": "display_data"
    },
    {
     "name": "stdout",
     "output_type": "stream",
     "text": [
      "Netherlands\n",
      "\n",
      "\n",
      "Probability of women talking about aid giving\n",
      "17.4479252921629\n",
      "Probability of men talking about aid giving\n",
      "5.3117340903052\n",
      "Women to man ratio\n",
      "3.284788921193979\n",
      "Result of Fisher test and odds ratio analysis:\n"
     ]
    },
    {
     "data": {
      "text/html": [
       "<div>\n",
       "<style scoped>\n",
       "    .dataframe tbody tr th:only-of-type {\n",
       "        vertical-align: middle;\n",
       "    }\n",
       "\n",
       "    .dataframe tbody tr th {\n",
       "        vertical-align: top;\n",
       "    }\n",
       "\n",
       "    .dataframe thead th {\n",
       "        text-align: right;\n",
       "    }\n",
       "</style>\n",
       "<table border=\"1\" class=\"dataframe\">\n",
       "  <thead>\n",
       "    <tr style=\"text-align: right;\">\n",
       "      <th></th>\n",
       "      <th>Unnamed: 0</th>\n",
       "      <th>topic_word</th>\n",
       "      <th>p_value</th>\n",
       "      <th>Netherlands_w</th>\n",
       "      <th>Netherlands_m</th>\n",
       "      <th>count_Netherlands_w</th>\n",
       "      <th>count_Netherlands_m</th>\n",
       "      <th>significance</th>\n",
       "    </tr>\n",
       "  </thead>\n",
       "  <tbody>\n",
       "    <tr>\n",
       "      <th>4</th>\n",
       "      <td>7</td>\n",
       "      <td>aid giving</td>\n",
       "      <td>0.03204</td>\n",
       "      <td>4.068376</td>\n",
       "      <td>0.245798</td>\n",
       "      <td>14</td>\n",
       "      <td>3</td>\n",
       "      <td>True</td>\n",
       "    </tr>\n",
       "  </tbody>\n",
       "</table>\n",
       "</div>"
      ],
      "text/plain": [
       "   Unnamed: 0  topic_word  p_value  Netherlands_w  Netherlands_m  \\\n",
       "4           7  aid giving  0.03204       4.068376       0.245798   \n",
       "\n",
       "   count_Netherlands_w  count_Netherlands_m  significance  \n",
       "4                   14                    3          True  "
      ]
     },
     "metadata": {},
     "output_type": "display_data"
    },
    {
     "name": "stdout",
     "output_type": "stream",
     "text": [
      "France\n",
      "\n",
      "\n",
      "Probability of women talking about aid giving\n",
      "31.0341012479065\n",
      "Probability of men talking about aid giving\n",
      "32.0190050861949\n",
      "Women to man ratio\n",
      "0.9692400236785293\n",
      "Result of Fisher test and odds ratio analysis:\n"
     ]
    },
    {
     "data": {
      "text/html": [
       "<div>\n",
       "<style scoped>\n",
       "    .dataframe tbody tr th:only-of-type {\n",
       "        vertical-align: middle;\n",
       "    }\n",
       "\n",
       "    .dataframe tbody tr th {\n",
       "        vertical-align: top;\n",
       "    }\n",
       "\n",
       "    .dataframe thead th {\n",
       "        text-align: right;\n",
       "    }\n",
       "</style>\n",
       "<table border=\"1\" class=\"dataframe\">\n",
       "  <thead>\n",
       "    <tr style=\"text-align: right;\">\n",
       "      <th></th>\n",
       "      <th>Unnamed: 0</th>\n",
       "      <th>topic_word</th>\n",
       "      <th>p_value</th>\n",
       "      <th>France_w</th>\n",
       "      <th>France_m</th>\n",
       "      <th>count_France_w</th>\n",
       "      <th>count_France_m</th>\n",
       "      <th>significance</th>\n",
       "    </tr>\n",
       "  </thead>\n",
       "  <tbody>\n",
       "    <tr>\n",
       "      <th>20</th>\n",
       "      <td>7</td>\n",
       "      <td>aid giving</td>\n",
       "      <td>0.24863</td>\n",
       "      <td>1.806452</td>\n",
       "      <td>0.553571</td>\n",
       "      <td>28</td>\n",
       "      <td>9</td>\n",
       "      <td>False</td>\n",
       "    </tr>\n",
       "  </tbody>\n",
       "</table>\n",
       "</div>"
      ],
      "text/plain": [
       "    Unnamed: 0  topic_word  p_value  France_w  France_m  count_France_w  \\\n",
       "20           7  aid giving  0.24863  1.806452  0.553571              28   \n",
       "\n",
       "    count_France_m  significance  \n",
       "20               9         False  "
      ]
     },
     "metadata": {},
     "output_type": "display_data"
    },
    {
     "name": "stdout",
     "output_type": "stream",
     "text": [
      "Austria\n",
      "\n",
      "\n",
      "Probability of women talking about aid giving\n",
      "43.4126464250318\n",
      "Probability of men talking about aid giving\n",
      "40.106245331218304\n",
      "Women to man ratio\n",
      "1.082441052920998\n",
      "Result of Fisher test and odds ratio analysis:\n"
     ]
    },
    {
     "data": {
      "text/html": [
       "<div>\n",
       "<style scoped>\n",
       "    .dataframe tbody tr th:only-of-type {\n",
       "        vertical-align: middle;\n",
       "    }\n",
       "\n",
       "    .dataframe tbody tr th {\n",
       "        vertical-align: top;\n",
       "    }\n",
       "\n",
       "    .dataframe thead th {\n",
       "        text-align: right;\n",
       "    }\n",
       "</style>\n",
       "<table border=\"1\" class=\"dataframe\">\n",
       "  <thead>\n",
       "    <tr style=\"text-align: right;\">\n",
       "      <th></th>\n",
       "      <th>Unnamed: 0</th>\n",
       "      <th>topic_word</th>\n",
       "      <th>p_value</th>\n",
       "      <th>Austria_w</th>\n",
       "      <th>Austria_m</th>\n",
       "      <th>count_Austria_w</th>\n",
       "      <th>count_Austria_m</th>\n",
       "      <th>significance</th>\n",
       "    </tr>\n",
       "  </thead>\n",
       "  <tbody>\n",
       "    <tr>\n",
       "      <th>24</th>\n",
       "      <td>7</td>\n",
       "      <td>aid giving</td>\n",
       "      <td>0.35255</td>\n",
       "      <td>0.506494</td>\n",
       "      <td>1.974359</td>\n",
       "      <td>9</td>\n",
       "      <td>7</td>\n",
       "      <td>False</td>\n",
       "    </tr>\n",
       "  </tbody>\n",
       "</table>\n",
       "</div>"
      ],
      "text/plain": [
       "    Unnamed: 0  topic_word  p_value  Austria_w  Austria_m  count_Austria_w  \\\n",
       "24           7  aid giving  0.35255   0.506494   1.974359                9   \n",
       "\n",
       "    count_Austria_m  significance  \n",
       "24                7         False  "
      ]
     },
     "metadata": {},
     "output_type": "display_data"
    },
    {
     "name": "stdout",
     "output_type": "stream",
     "text": [
      "Italy\n",
      "\n",
      "\n",
      "Probability of women talking about aid giving\n",
      "29.1095246586287\n",
      "Probability of men talking about aid giving\n",
      "35.204360276234304\n",
      "Women to man ratio\n",
      "0.8268727063982443\n",
      "Result of Fisher test and odds ratio analysis:\n"
     ]
    },
    {
     "data": {
      "text/html": [
       "<div>\n",
       "<style scoped>\n",
       "    .dataframe tbody tr th:only-of-type {\n",
       "        vertical-align: middle;\n",
       "    }\n",
       "\n",
       "    .dataframe tbody tr th {\n",
       "        vertical-align: top;\n",
       "    }\n",
       "\n",
       "    .dataframe thead th {\n",
       "        text-align: right;\n",
       "    }\n",
       "</style>\n",
       "<table border=\"1\" class=\"dataframe\">\n",
       "  <thead>\n",
       "    <tr style=\"text-align: right;\">\n",
       "      <th></th>\n",
       "      <th>Unnamed: 0</th>\n",
       "      <th>topic_word</th>\n",
       "      <th>p_value</th>\n",
       "      <th>Italy_w</th>\n",
       "      <th>Italy_m</th>\n",
       "      <th>count_Italy_w</th>\n",
       "      <th>count_Italy_m</th>\n",
       "      <th>significance</th>\n",
       "    </tr>\n",
       "  </thead>\n",
       "  <tbody>\n",
       "    <tr>\n",
       "      <th>8</th>\n",
       "      <td>7</td>\n",
       "      <td>aid giving</td>\n",
       "      <td>0.102315</td>\n",
       "      <td>2.66</td>\n",
       "      <td>0.37594</td>\n",
       "      <td>19</td>\n",
       "      <td>10</td>\n",
       "      <td>False</td>\n",
       "    </tr>\n",
       "  </tbody>\n",
       "</table>\n",
       "</div>"
      ],
      "text/plain": [
       "   Unnamed: 0  topic_word   p_value  Italy_w  Italy_m  count_Italy_w  \\\n",
       "8           7  aid giving  0.102315     2.66  0.37594             19   \n",
       "\n",
       "   count_Italy_m  significance  \n",
       "8             10         False  "
      ]
     },
     "metadata": {},
     "output_type": "display_data"
    }
   ],
   "source": [
    "topic_word = \"aid giving\"\n",
    "for country in countries_to_study:\n",
    "    print (country)\n",
    "    print ('\\n')\n",
    "    men = data_sets_1[country+'_m']\n",
    "    topic_m = men[men.topic_name==topic_word]['stationary_prob'].values[0]\n",
    "    women = data_sets_1[country+'_w']\n",
    "    topic_w = women[women.topic_name==topic_word]['stationary_prob'].values[0]\n",
    "    print (\"Probability of women talking about \"+topic_word)\n",
    "    print(topic_w*1000)\n",
    "    print (\"Probability of men talking about \"+topic_word)\n",
    "    print(topic_m*1000)\n",
    "    print (\"Women to man ratio\")\n",
    "    print (topic_w/topic_m)\n",
    "    print ('Result of Fisher test and odds ratio analysis:')\n",
    "    df = data_sets_1[country+'_fisher']\n",
    "    display(df[df.topic_word==topic_word])\n"
   ]
  },
  {
   "cell_type": "markdown",
   "metadata": {},
   "source": [
    "![title](output/markov_modelling/bootstrap/Czechoslovakia%20(historical)_m_Czechoslovakia%20(historical)_w/aid%20giving.png)\n",
    "\n",
    "![title](output/markov_modelling/bootstrap/Poland_m_Poland_w/aid%20giving.png)\n",
    "\n",
    "![title](output/markov_modelling/bootstrap/Hungary_m_Hungary_w/aid%20giving.png)\n",
    "\n",
    "![title](output/markov_modelling/bootstrap/Romania_m_Romania_w/aid%20giving.png)\n",
    "\n",
    "![title](output/markov_modelling/bootstrap/Russia_m_Russia_w/aid%20giving.png)\n",
    "\n",
    "![title](output/markov_modelling/bootstrap/Germany_m_Germany_w/aid%20giving.png)\n",
    "\n",
    "![title](output/markov_modelling/bootstrap/Greece_m_Greece_w/aid%20giving.png)\n",
    "\n",
    "![title](output/markov_modelling/bootstrap/Yugoslavia%20(historical)_m_Yugoslavia%20(historical)_w/aid%20giving.png)\n",
    "\n",
    "![title](output/markov_modelling/bootstrap/Netherlands_m_Netherlands_w/aid%20giving.png)\n",
    "\n",
    "![title](output/markov_modelling/bootstrap/France_m_France_w/aid%20giving.png)\n",
    "\n",
    "![title](output/markov_modelling/bootstrap/Austria_m_Austria_w/aid%20giving.png)\n",
    "\n",
    "![title](output/markov_modelling/bootstrap/Italy_m_Italy_w/aid%20giving.png)"
   ]
  },
  {
   "cell_type": "markdown",
   "metadata": {},
   "source": [
    "### Interpretation"
   ]
  },
  {
   "cell_type": "markdown",
   "metadata": {},
   "source": [
    "Generally, when women and men of the same nationality are compared, women tend to discuss social bonds and solidarity more than men."
   ]
  }
 ],
 "metadata": {
  "kernelspec": {
   "display_name": "Python 3 (ipykernel)",
   "language": "python",
   "name": "python3"
  },
  "language_info": {
   "codemirror_mode": {
    "name": "ipython",
    "version": 3
   },
   "file_extension": ".py",
   "mimetype": "text/x-python",
   "name": "python",
   "nbconvert_exporter": "python",
   "pygments_lexer": "ipython3",
   "version": "3.10.6"
  },
  "varInspector": {
   "cols": {
    "lenName": 16,
    "lenType": 16,
    "lenVar": 40
   },
   "kernels_config": {
    "python": {
     "delete_cmd_postfix": "",
     "delete_cmd_prefix": "del ",
     "library": "var_list.py",
     "varRefreshCmd": "print(var_dic_list())"
    },
    "r": {
     "delete_cmd_postfix": ") ",
     "delete_cmd_prefix": "rm(",
     "library": "var_list.r",
     "varRefreshCmd": "cat(var_dic_list()) "
    }
   },
   "types_to_exclude": [
    "module",
    "function",
    "builtin_function_or_method",
    "instance",
    "_Feature"
   ],
   "window_display": false
  }
 },
 "nbformat": 4,
 "nbformat_minor": 2
}

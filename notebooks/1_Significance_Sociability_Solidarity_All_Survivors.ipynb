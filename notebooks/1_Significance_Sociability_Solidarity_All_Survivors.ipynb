{
 "cells": [
  {
   "cell_type": "markdown",
   "metadata": {},
   "source": [
    "# Topics of Sociability and Solidarity in Recollections of *All* Survivors of Auschwitz-Birkenau"
   ]
  },
  {
   "cell_type": "markdown",
   "metadata": {},
   "source": [
    "### Research Questions:"
   ]
  },
  {
   "cell_type": "markdown",
   "metadata": {},
   "source": [
    "- If one watches testimonies of Birkenau survivors for long, what is the probability that she hears survivors speaking about solidarity and sociability? Are they frequent and recurrent elements of survivors' recollections? Or are they rare topics and survivors rather focus their attention on other topics?\n",
    "- Compared to the probability of other rare or frequent events in Birkenau, are topics related to solidarity and sociability more or less probable in the narration of survivors?"
   ]
  },
  {
   "cell_type": "markdown",
   "metadata": {},
   "source": [
    "## Load the relevant data"
   ]
  },
  {
   "cell_type": "markdown",
   "metadata": {},
   "source": [
    "Load the libraries needed to work with the data"
   ]
  },
  {
   "cell_type": "code",
   "execution_count": 74,
   "metadata": {},
   "outputs": [
    {
     "name": "stdout",
     "output_type": "stream",
     "text": [
      "The history saving thread hit an unexpected error (OperationalError('attempt to write a readonly database')).History will not be written to the database.\n"
     ]
    }
   ],
   "source": [
    "import constants\n",
    "import pandas as pd\n",
    "import os\n",
    "from IPython.display import display\n",
    "%config Completer.use_jedi = False"
   ]
  },
  {
   "cell_type": "markdown",
   "metadata": {},
   "source": [
    "Set up the paths to data"
   ]
  },
  {
   "cell_type": "code",
   "execution_count": 75,
   "metadata": {},
   "outputs": [],
   "source": [
    "input_directory = constants.output_data_markov_modelling\n",
    "\n",
    "path = os.getcwd()\n",
    "parent = os.path.abspath(os.path.join(path, os.pardir))\n",
    "input_directory = parent +'/'+ constants.output_data_markov_modelling"
   ]
  },
  {
   "cell_type": "markdown",
   "metadata": {},
   "source": [
    "Load the stationary probability of different topics in the recollections of survivors"
   ]
  },
  {
   "cell_type": "code",
   "execution_count": 76,
   "metadata": {},
   "outputs": [],
   "source": [
    "p_complete = pd.read_csv(input_directory+'/'+'complete'+'/'+'stationary_probs.csv')"
   ]
  },
  {
   "cell_type": "markdown",
   "metadata": {},
   "source": [
    "Use the line below for normalization"
   ]
  },
  {
   "cell_type": "code",
   "execution_count": 77,
   "metadata": {},
   "outputs": [],
   "source": [
    "p_complete['stationary_prob_normalized'] = p_complete[p_complete.topic_name=='selections']['stationary_prob'].values[0] / p_complete['stationary_prob']"
   ]
  },
  {
   "cell_type": "code",
   "execution_count": 78,
   "metadata": {},
   "outputs": [],
   "source": [
    "p_complete['stationary_prob_normalized_to_escape'] =  p_complete['stationary_prob']/p_complete[p_complete.topic_name=='escapes']['stationary_prob'].values[0]"
   ]
  },
  {
   "cell_type": "code",
   "execution_count": 79,
   "metadata": {},
   "outputs": [
    {
     "data": {
      "text/plain": [
       "count    640.000000\n",
       "mean       2.206031\n",
       "std        7.132887\n",
       "min        0.000710\n",
       "25%        0.093249\n",
       "50%        0.312036\n",
       "75%        1.212221\n",
       "max       82.773644\n",
       "Name: stationary_prob_normalized_to_escape, dtype: float64"
      ]
     },
     "execution_count": 79,
     "metadata": {},
     "output_type": "execute_result"
    }
   ],
   "source": [
    "p_complete['stationary_prob_normalized_to_escape'].describe()"
   ]
  },
  {
   "cell_type": "code",
   "execution_count": 80,
   "metadata": {},
   "outputs": [
    {
     "data": {
      "text/plain": [
       "count       640.000000\n",
       "mean       1424.411857\n",
       "std        6782.426096\n",
       "min           1.000000\n",
       "25%          68.283735\n",
       "50%         265.269121\n",
       "75%         887.663235\n",
       "max      116624.059295\n",
       "Name: stationary_prob_normalized, dtype: float64"
      ]
     },
     "execution_count": 80,
     "metadata": {},
     "output_type": "execute_result"
    }
   ],
   "source": [
    "p_complete['stationary_prob_normalized'].describe()"
   ]
  },
  {
   "cell_type": "markdown",
   "metadata": {},
   "source": [
    "Show the 25 most significant topics"
   ]
  },
  {
   "cell_type": "code",
   "execution_count": 81,
   "metadata": {},
   "outputs": [
    {
     "data": {
      "text/html": [
       "<div>\n",
       "<style scoped>\n",
       "    .dataframe tbody tr th:only-of-type {\n",
       "        vertical-align: middle;\n",
       "    }\n",
       "\n",
       "    .dataframe tbody tr th {\n",
       "        vertical-align: top;\n",
       "    }\n",
       "\n",
       "    .dataframe thead th {\n",
       "        text-align: right;\n",
       "    }\n",
       "</style>\n",
       "<table border=\"1\" class=\"dataframe\">\n",
       "  <thead>\n",
       "    <tr style=\"text-align: right;\">\n",
       "      <th></th>\n",
       "      <th>Unnamed: 0</th>\n",
       "      <th>topic_name</th>\n",
       "      <th>stationary_prob</th>\n",
       "      <th>stationary_prob_normalized</th>\n",
       "      <th>stationary_prob_normalized_to_escape</th>\n",
       "    </tr>\n",
       "  </thead>\n",
       "  <tbody>\n",
       "    <tr>\n",
       "      <th>0</th>\n",
       "      <td>0</td>\n",
       "      <td>selections</td>\n",
       "      <td>0.058627</td>\n",
       "      <td>1.000000</td>\n",
       "      <td>82.773644</td>\n",
       "    </tr>\n",
       "    <tr>\n",
       "      <th>1</th>\n",
       "      <td>1</td>\n",
       "      <td>intake procedures</td>\n",
       "      <td>0.052601</td>\n",
       "      <td>1.114572</td>\n",
       "      <td>74.264943</td>\n",
       "    </tr>\n",
       "    <tr>\n",
       "      <th>2</th>\n",
       "      <td>2</td>\n",
       "      <td>living conditions</td>\n",
       "      <td>0.046104</td>\n",
       "      <td>1.271637</td>\n",
       "      <td>65.092201</td>\n",
       "    </tr>\n",
       "    <tr>\n",
       "      <th>3</th>\n",
       "      <td>3</td>\n",
       "      <td>forced labor</td>\n",
       "      <td>0.041327</td>\n",
       "      <td>1.418622</td>\n",
       "      <td>58.347920</td>\n",
       "    </tr>\n",
       "    <tr>\n",
       "      <th>4</th>\n",
       "      <td>4</td>\n",
       "      <td>food</td>\n",
       "      <td>0.033895</td>\n",
       "      <td>1.729656</td>\n",
       "      <td>47.855561</td>\n",
       "    </tr>\n",
       "    <tr>\n",
       "      <th>5</th>\n",
       "      <td>5</td>\n",
       "      <td>mass murder awareness</td>\n",
       "      <td>0.031158</td>\n",
       "      <td>1.881597</td>\n",
       "      <td>43.991166</td>\n",
       "    </tr>\n",
       "    <tr>\n",
       "      <th>6</th>\n",
       "      <td>6</td>\n",
       "      <td>camp adaptation methods</td>\n",
       "      <td>0.024257</td>\n",
       "      <td>2.416958</td>\n",
       "      <td>34.247038</td>\n",
       "    </tr>\n",
       "    <tr>\n",
       "      <th>7</th>\n",
       "      <td>7</td>\n",
       "      <td>departure</td>\n",
       "      <td>0.023512</td>\n",
       "      <td>2.493475</td>\n",
       "      <td>33.196103</td>\n",
       "    </tr>\n",
       "    <tr>\n",
       "      <th>8</th>\n",
       "      <td>8</td>\n",
       "      <td>Appell</td>\n",
       "      <td>0.022992</td>\n",
       "      <td>2.549849</td>\n",
       "      <td>32.462171</td>\n",
       "    </tr>\n",
       "    <tr>\n",
       "      <th>9</th>\n",
       "      <td>9</td>\n",
       "      <td>housing conditions</td>\n",
       "      <td>0.018727</td>\n",
       "      <td>3.130665</td>\n",
       "      <td>26.439636</td>\n",
       "    </tr>\n",
       "    <tr>\n",
       "      <th>10</th>\n",
       "      <td>10</td>\n",
       "      <td>transfer to camps</td>\n",
       "      <td>0.015314</td>\n",
       "      <td>3.828318</td>\n",
       "      <td>21.621410</td>\n",
       "    </tr>\n",
       "    <tr>\n",
       "      <th>11</th>\n",
       "      <td>11</td>\n",
       "      <td>Mengele, Josef</td>\n",
       "      <td>0.015277</td>\n",
       "      <td>3.837544</td>\n",
       "      <td>21.569432</td>\n",
       "    </tr>\n",
       "    <tr>\n",
       "      <th>12</th>\n",
       "      <td>12</td>\n",
       "      <td>aid giving</td>\n",
       "      <td>0.014548</td>\n",
       "      <td>4.029878</td>\n",
       "      <td>20.539990</td>\n",
       "    </tr>\n",
       "    <tr>\n",
       "      <th>13</th>\n",
       "      <td>13</td>\n",
       "      <td>loved ones' fates</td>\n",
       "      <td>0.014236</td>\n",
       "      <td>4.118385</td>\n",
       "      <td>20.098566</td>\n",
       "    </tr>\n",
       "    <tr>\n",
       "      <th>14</th>\n",
       "      <td>14</td>\n",
       "      <td>family interactions</td>\n",
       "      <td>0.014100</td>\n",
       "      <td>4.158102</td>\n",
       "      <td>19.906594</td>\n",
       "    </tr>\n",
       "    <tr>\n",
       "      <th>15</th>\n",
       "      <td>15</td>\n",
       "      <td>loved ones' separations</td>\n",
       "      <td>0.013986</td>\n",
       "      <td>4.191739</td>\n",
       "      <td>19.746850</td>\n",
       "    </tr>\n",
       "    <tr>\n",
       "      <th>16</th>\n",
       "      <td>16</td>\n",
       "      <td>prisoner tattoos (stills)</td>\n",
       "      <td>0.012932</td>\n",
       "      <td>4.533427</td>\n",
       "      <td>18.258517</td>\n",
       "    </tr>\n",
       "    <tr>\n",
       "      <th>17</th>\n",
       "      <td>17</td>\n",
       "      <td>social relations</td>\n",
       "      <td>0.012734</td>\n",
       "      <td>4.603898</td>\n",
       "      <td>17.979035</td>\n",
       "    </tr>\n",
       "    <tr>\n",
       "      <th>18</th>\n",
       "      <td>18</td>\n",
       "      <td>brutal treatment</td>\n",
       "      <td>0.011498</td>\n",
       "      <td>5.098920</td>\n",
       "      <td>16.233564</td>\n",
       "    </tr>\n",
       "    <tr>\n",
       "      <th>19</th>\n",
       "      <td>19</td>\n",
       "      <td>extended family members</td>\n",
       "      <td>0.011265</td>\n",
       "      <td>5.204499</td>\n",
       "      <td>15.904248</td>\n",
       "    </tr>\n",
       "    <tr>\n",
       "      <th>20</th>\n",
       "      <td>20</td>\n",
       "      <td>prisoner tattoos</td>\n",
       "      <td>0.009882</td>\n",
       "      <td>5.932662</td>\n",
       "      <td>13.952192</td>\n",
       "    </tr>\n",
       "    <tr>\n",
       "      <th>21</th>\n",
       "      <td>21</td>\n",
       "      <td>SS/SD personnel</td>\n",
       "      <td>0.009294</td>\n",
       "      <td>6.308301</td>\n",
       "      <td>13.121385</td>\n",
       "    </tr>\n",
       "    <tr>\n",
       "      <th>22</th>\n",
       "      <td>22</td>\n",
       "      <td>sanitary conditions</td>\n",
       "      <td>0.009283</td>\n",
       "      <td>6.315900</td>\n",
       "      <td>13.105598</td>\n",
       "    </tr>\n",
       "    <tr>\n",
       "      <th>23</th>\n",
       "      <td>23</td>\n",
       "      <td>Blockälteste</td>\n",
       "      <td>0.009251</td>\n",
       "      <td>6.337590</td>\n",
       "      <td>13.060745</td>\n",
       "    </tr>\n",
       "    <tr>\n",
       "      <th>24</th>\n",
       "      <td>24</td>\n",
       "      <td>camp procedures</td>\n",
       "      <td>0.008716</td>\n",
       "      <td>6.726314</td>\n",
       "      <td>12.305945</td>\n",
       "    </tr>\n",
       "  </tbody>\n",
       "</table>\n",
       "</div>"
      ],
      "text/plain": [
       "    Unnamed: 0                 topic_name  stationary_prob  \\\n",
       "0            0                 selections         0.058627   \n",
       "1            1          intake procedures         0.052601   \n",
       "2            2          living conditions         0.046104   \n",
       "3            3               forced labor         0.041327   \n",
       "4            4                       food         0.033895   \n",
       "5            5      mass murder awareness         0.031158   \n",
       "6            6    camp adaptation methods         0.024257   \n",
       "7            7                  departure         0.023512   \n",
       "8            8                     Appell         0.022992   \n",
       "9            9         housing conditions         0.018727   \n",
       "10          10          transfer to camps         0.015314   \n",
       "11          11             Mengele, Josef         0.015277   \n",
       "12          12                 aid giving         0.014548   \n",
       "13          13          loved ones' fates         0.014236   \n",
       "14          14        family interactions         0.014100   \n",
       "15          15    loved ones' separations         0.013986   \n",
       "16          16  prisoner tattoos (stills)         0.012932   \n",
       "17          17           social relations         0.012734   \n",
       "18          18           brutal treatment         0.011498   \n",
       "19          19    extended family members         0.011265   \n",
       "20          20           prisoner tattoos         0.009882   \n",
       "21          21            SS/SD personnel         0.009294   \n",
       "22          22        sanitary conditions         0.009283   \n",
       "23          23               Blockälteste         0.009251   \n",
       "24          24            camp procedures         0.008716   \n",
       "\n",
       "    stationary_prob_normalized  stationary_prob_normalized_to_escape  \n",
       "0                     1.000000                             82.773644  \n",
       "1                     1.114572                             74.264943  \n",
       "2                     1.271637                             65.092201  \n",
       "3                     1.418622                             58.347920  \n",
       "4                     1.729656                             47.855561  \n",
       "5                     1.881597                             43.991166  \n",
       "6                     2.416958                             34.247038  \n",
       "7                     2.493475                             33.196103  \n",
       "8                     2.549849                             32.462171  \n",
       "9                     3.130665                             26.439636  \n",
       "10                    3.828318                             21.621410  \n",
       "11                    3.837544                             21.569432  \n",
       "12                    4.029878                             20.539990  \n",
       "13                    4.118385                             20.098566  \n",
       "14                    4.158102                             19.906594  \n",
       "15                    4.191739                             19.746850  \n",
       "16                    4.533427                             18.258517  \n",
       "17                    4.603898                             17.979035  \n",
       "18                    5.098920                             16.233564  \n",
       "19                    5.204499                             15.904248  \n",
       "20                    5.932662                             13.952192  \n",
       "21                    6.308301                             13.121385  \n",
       "22                    6.315900                             13.105598  \n",
       "23                    6.337590                             13.060745  \n",
       "24                    6.726314                             12.305945  "
      ]
     },
     "metadata": {},
     "output_type": "display_data"
    }
   ],
   "source": [
    "display(p_complete[0:25])"
   ]
  },
  {
   "cell_type": "markdown",
   "metadata": {},
   "source": [
    "## Identify relevant topics"
   ]
  },
  {
   "cell_type": "markdown",
   "metadata": {},
   "source": [
    "### Identify the facto significant and everyday events"
   ]
  },
  {
   "cell_type": "markdown",
   "metadata": {},
   "source": [
    "Identify \"selection\""
   ]
  },
  {
   "cell_type": "code",
   "execution_count": 82,
   "metadata": {},
   "outputs": [],
   "source": [
    "selection = p_complete[p_complete.topic_name=='selections']['stationary_prob'].values[0]"
   ]
  },
  {
   "cell_type": "markdown",
   "metadata": {},
   "source": [
    "Identify \"Appell\""
   ]
  },
  {
   "cell_type": "code",
   "execution_count": 83,
   "metadata": {},
   "outputs": [],
   "source": [
    "Appell = p_complete[p_complete.topic_name=='Appell']['stationary_prob'].values[0]"
   ]
  },
  {
   "cell_type": "markdown",
   "metadata": {},
   "source": [
    "Identify \"clothes\""
   ]
  },
  {
   "cell_type": "code",
   "execution_count": 84,
   "metadata": {},
   "outputs": [],
   "source": [
    "clothes = p_complete[p_complete.topic_name=='clothing']['stationary_prob'].values[0]"
   ]
  },
  {
   "cell_type": "markdown",
   "metadata": {},
   "source": [
    "Identify \"tattoo\""
   ]
  },
  {
   "cell_type": "code",
   "execution_count": 85,
   "metadata": {},
   "outputs": [],
   "source": [
    "tattoo = p_complete[p_complete.topic_name=='prisoner tattoos']['stationary_prob'].values[0]"
   ]
  },
  {
   "cell_type": "markdown",
   "metadata": {},
   "source": [
    "### Identify the facto rare events"
   ]
  },
  {
   "cell_type": "code",
   "execution_count": 86,
   "metadata": {},
   "outputs": [],
   "source": [
    "escapes = p_complete[p_complete.topic_name=='escapes']['stationary_prob'].values[0]"
   ]
  },
  {
   "cell_type": "markdown",
   "metadata": {},
   "source": [
    "### Identify topics related to sociability"
   ]
  },
  {
   "cell_type": "markdown",
   "metadata": {},
   "source": [
    "Identify the topic relating to social relations"
   ]
  },
  {
   "cell_type": "code",
   "execution_count": 87,
   "metadata": {},
   "outputs": [],
   "source": [
    "social_bonds = p_complete[p_complete.topic_name=='social relations']['stationary_prob'].values[0]"
   ]
  },
  {
   "cell_type": "code",
   "execution_count": 88,
   "metadata": {},
   "outputs": [],
   "source": [
    "friends = p_complete[p_complete.topic_name=='friends']['stationary_prob'].values[0]"
   ]
  },
  {
   "cell_type": "code",
   "execution_count": null,
   "metadata": {},
   "outputs": [],
   "source": []
  },
  {
   "cell_type": "markdown",
   "metadata": {},
   "source": [
    "### Identify topics related to acts of solidarity"
   ]
  },
  {
   "cell_type": "code",
   "execution_count": 89,
   "metadata": {},
   "outputs": [],
   "source": [
    "aid_giving = p_complete[p_complete.topic_name=='aid giving']['stationary_prob'].values[0]"
   ]
  },
  {
   "cell_type": "code",
   "execution_count": 90,
   "metadata": {},
   "outputs": [],
   "source": [
    "food_sharing = p_complete[p_complete.topic_name=='food sharing']['stationary_prob'].values[0]"
   ]
  },
  {
   "cell_type": "markdown",
   "metadata": {},
   "source": [
    "## Observation 1"
   ]
  },
  {
   "cell_type": "markdown",
   "metadata": {},
   "source": [
    "### Qualitative description:"
   ]
  },
  {
   "cell_type": "markdown",
   "metadata": {},
   "source": [
    "The topic describing various forms of solidarity (\"aid giving\") is more probable than \"tattoos\"; yet is the 13th most probable topic. It is therefore part of the upper quartile that contains the most probable topics addressed by survivors."
   ]
  },
  {
   "cell_type": "markdown",
   "metadata": {},
   "source": [
    "### Quantitative evidence"
   ]
  },
  {
   "cell_type": "code",
   "execution_count": 91,
   "metadata": {},
   "outputs": [
    {
     "name": "stdout",
     "output_type": "stream",
     "text": [
      "0.014548180249024982\n"
     ]
    }
   ],
   "source": [
    "print (aid_giving)"
   ]
  },
  {
   "cell_type": "code",
   "execution_count": 92,
   "metadata": {},
   "outputs": [
    {
     "name": "stdout",
     "output_type": "stream",
     "text": [
      "4.029877597251516\n"
     ]
    }
   ],
   "source": [
    "print (selection/aid_giving)"
   ]
  },
  {
   "cell_type": "code",
   "execution_count": 93,
   "metadata": {},
   "outputs": [
    {
     "data": {
      "text/html": [
       "<div>\n",
       "<style scoped>\n",
       "    .dataframe tbody tr th:only-of-type {\n",
       "        vertical-align: middle;\n",
       "    }\n",
       "\n",
       "    .dataframe tbody tr th {\n",
       "        vertical-align: top;\n",
       "    }\n",
       "\n",
       "    .dataframe thead th {\n",
       "        text-align: right;\n",
       "    }\n",
       "</style>\n",
       "<table border=\"1\" class=\"dataframe\">\n",
       "  <thead>\n",
       "    <tr style=\"text-align: right;\">\n",
       "      <th></th>\n",
       "      <th>Unnamed: 0</th>\n",
       "      <th>topic_name</th>\n",
       "      <th>stationary_prob</th>\n",
       "      <th>stationary_prob_normalized</th>\n",
       "      <th>stationary_prob_normalized_to_escape</th>\n",
       "    </tr>\n",
       "  </thead>\n",
       "  <tbody>\n",
       "    <tr>\n",
       "      <th>12</th>\n",
       "      <td>12</td>\n",
       "      <td>aid giving</td>\n",
       "      <td>0.014548</td>\n",
       "      <td>4.029878</td>\n",
       "      <td>20.53999</td>\n",
       "    </tr>\n",
       "  </tbody>\n",
       "</table>\n",
       "</div>"
      ],
      "text/plain": [
       "    Unnamed: 0  topic_name  stationary_prob  stationary_prob_normalized  \\\n",
       "12          12  aid giving         0.014548                    4.029878   \n",
       "\n",
       "    stationary_prob_normalized_to_escape  \n",
       "12                              20.53999  "
      ]
     },
     "metadata": {},
     "output_type": "display_data"
    }
   ],
   "source": [
    "display(p_complete[p_complete.topic_name=='aid giving'])"
   ]
  },
  {
   "cell_type": "code",
   "execution_count": 94,
   "metadata": {},
   "outputs": [
    {
     "name": "stdout",
     "output_type": "stream",
     "text": [
      "0.009882137834325884\n"
     ]
    }
   ],
   "source": [
    "print (tattoo)"
   ]
  },
  {
   "cell_type": "code",
   "execution_count": 95,
   "metadata": {},
   "outputs": [
    {
     "name": "stdout",
     "output_type": "stream",
     "text": [
      "1.4721693314670707\n"
     ]
    }
   ],
   "source": [
    "print (aid_giving/tattoo)"
   ]
  },
  {
   "cell_type": "code",
   "execution_count": 96,
   "metadata": {},
   "outputs": [
    {
     "name": "stdout",
     "output_type": "stream",
     "text": [
      "0.000858599111778128\n"
     ]
    }
   ],
   "source": [
    "upper_quantile = p_complete.stationary_prob.quantile([0.75]).values[0]\n",
    "print (upper_quantile)"
   ]
  },
  {
   "cell_type": "code",
   "execution_count": 97,
   "metadata": {},
   "outputs": [
    {
     "name": "stdout",
     "output_type": "stream",
     "text": [
      "True\n"
     ]
    }
   ],
   "source": [
    "print (aid_giving>upper_quantile)"
   ]
  },
  {
   "cell_type": "markdown",
   "metadata": {},
   "source": [
    "## Observation 2"
   ]
  },
  {
   "cell_type": "markdown",
   "metadata": {},
   "source": [
    "### Qualitative description:"
   ]
  },
  {
   "cell_type": "markdown",
   "metadata": {},
   "source": [
    "The topic describing various forms of solidarity (\"aid giving\") is significantly more probable\n",
    "(20 times) than \"Escape\"."
   ]
  },
  {
   "cell_type": "markdown",
   "metadata": {},
   "source": [
    "### Quantitative evidence"
   ]
  },
  {
   "cell_type": "code",
   "execution_count": 98,
   "metadata": {},
   "outputs": [
    {
     "name": "stdout",
     "output_type": "stream",
     "text": [
      "0.014548180249024982\n"
     ]
    }
   ],
   "source": [
    "print (aid_giving)"
   ]
  },
  {
   "cell_type": "code",
   "execution_count": 99,
   "metadata": {},
   "outputs": [
    {
     "name": "stdout",
     "output_type": "stream",
     "text": [
      "0.0007082856710417836\n"
     ]
    }
   ],
   "source": [
    "print (escapes)"
   ]
  },
  {
   "cell_type": "code",
   "execution_count": 100,
   "metadata": {},
   "outputs": [
    {
     "name": "stdout",
     "output_type": "stream",
     "text": [
      "20.53998950399033\n"
     ]
    }
   ],
   "source": [
    "print (aid_giving/escapes)"
   ]
  },
  {
   "cell_type": "markdown",
   "metadata": {},
   "source": [
    "## Observation 3"
   ]
  },
  {
   "cell_type": "markdown",
   "metadata": {},
   "source": [
    "### Qualitative description:"
   ]
  },
  {
   "cell_type": "markdown",
   "metadata": {},
   "source": [
    "The topic describing various forms of social activity (\"social relations\") is more significant than tattoo; it is the 17th most probable topic, and it is also part of the upper quartile. It is also more probable (18 times) than escapes ."
   ]
  },
  {
   "cell_type": "markdown",
   "metadata": {},
   "source": [
    "### Quantitative evidence"
   ]
  },
  {
   "cell_type": "code",
   "execution_count": 101,
   "metadata": {},
   "outputs": [
    {
     "name": "stdout",
     "output_type": "stream",
     "text": [
      "0.01273429298561786\n"
     ]
    }
   ],
   "source": [
    "print (social_bonds)"
   ]
  },
  {
   "cell_type": "code",
   "execution_count": 102,
   "metadata": {},
   "outputs": [
    {
     "data": {
      "text/html": [
       "<div>\n",
       "<style scoped>\n",
       "    .dataframe tbody tr th:only-of-type {\n",
       "        vertical-align: middle;\n",
       "    }\n",
       "\n",
       "    .dataframe tbody tr th {\n",
       "        vertical-align: top;\n",
       "    }\n",
       "\n",
       "    .dataframe thead th {\n",
       "        text-align: right;\n",
       "    }\n",
       "</style>\n",
       "<table border=\"1\" class=\"dataframe\">\n",
       "  <thead>\n",
       "    <tr style=\"text-align: right;\">\n",
       "      <th></th>\n",
       "      <th>Unnamed: 0</th>\n",
       "      <th>topic_name</th>\n",
       "      <th>stationary_prob</th>\n",
       "      <th>stationary_prob_normalized</th>\n",
       "      <th>stationary_prob_normalized_to_escape</th>\n",
       "    </tr>\n",
       "  </thead>\n",
       "  <tbody>\n",
       "    <tr>\n",
       "      <th>0</th>\n",
       "      <td>0</td>\n",
       "      <td>selections</td>\n",
       "      <td>0.058627</td>\n",
       "      <td>1.000000</td>\n",
       "      <td>82.773644</td>\n",
       "    </tr>\n",
       "    <tr>\n",
       "      <th>1</th>\n",
       "      <td>1</td>\n",
       "      <td>intake procedures</td>\n",
       "      <td>0.052601</td>\n",
       "      <td>1.114572</td>\n",
       "      <td>74.264943</td>\n",
       "    </tr>\n",
       "    <tr>\n",
       "      <th>2</th>\n",
       "      <td>2</td>\n",
       "      <td>living conditions</td>\n",
       "      <td>0.046104</td>\n",
       "      <td>1.271637</td>\n",
       "      <td>65.092201</td>\n",
       "    </tr>\n",
       "    <tr>\n",
       "      <th>3</th>\n",
       "      <td>3</td>\n",
       "      <td>forced labor</td>\n",
       "      <td>0.041327</td>\n",
       "      <td>1.418622</td>\n",
       "      <td>58.347920</td>\n",
       "    </tr>\n",
       "    <tr>\n",
       "      <th>4</th>\n",
       "      <td>4</td>\n",
       "      <td>food</td>\n",
       "      <td>0.033895</td>\n",
       "      <td>1.729656</td>\n",
       "      <td>47.855561</td>\n",
       "    </tr>\n",
       "    <tr>\n",
       "      <th>5</th>\n",
       "      <td>5</td>\n",
       "      <td>mass murder awareness</td>\n",
       "      <td>0.031158</td>\n",
       "      <td>1.881597</td>\n",
       "      <td>43.991166</td>\n",
       "    </tr>\n",
       "    <tr>\n",
       "      <th>6</th>\n",
       "      <td>6</td>\n",
       "      <td>camp adaptation methods</td>\n",
       "      <td>0.024257</td>\n",
       "      <td>2.416958</td>\n",
       "      <td>34.247038</td>\n",
       "    </tr>\n",
       "    <tr>\n",
       "      <th>7</th>\n",
       "      <td>7</td>\n",
       "      <td>departure</td>\n",
       "      <td>0.023512</td>\n",
       "      <td>2.493475</td>\n",
       "      <td>33.196103</td>\n",
       "    </tr>\n",
       "    <tr>\n",
       "      <th>8</th>\n",
       "      <td>8</td>\n",
       "      <td>Appell</td>\n",
       "      <td>0.022992</td>\n",
       "      <td>2.549849</td>\n",
       "      <td>32.462171</td>\n",
       "    </tr>\n",
       "    <tr>\n",
       "      <th>9</th>\n",
       "      <td>9</td>\n",
       "      <td>housing conditions</td>\n",
       "      <td>0.018727</td>\n",
       "      <td>3.130665</td>\n",
       "      <td>26.439636</td>\n",
       "    </tr>\n",
       "    <tr>\n",
       "      <th>10</th>\n",
       "      <td>10</td>\n",
       "      <td>transfer to camps</td>\n",
       "      <td>0.015314</td>\n",
       "      <td>3.828318</td>\n",
       "      <td>21.621410</td>\n",
       "    </tr>\n",
       "    <tr>\n",
       "      <th>11</th>\n",
       "      <td>11</td>\n",
       "      <td>Mengele, Josef</td>\n",
       "      <td>0.015277</td>\n",
       "      <td>3.837544</td>\n",
       "      <td>21.569432</td>\n",
       "    </tr>\n",
       "    <tr>\n",
       "      <th>12</th>\n",
       "      <td>12</td>\n",
       "      <td>aid giving</td>\n",
       "      <td>0.014548</td>\n",
       "      <td>4.029878</td>\n",
       "      <td>20.539990</td>\n",
       "    </tr>\n",
       "    <tr>\n",
       "      <th>13</th>\n",
       "      <td>13</td>\n",
       "      <td>loved ones' fates</td>\n",
       "      <td>0.014236</td>\n",
       "      <td>4.118385</td>\n",
       "      <td>20.098566</td>\n",
       "    </tr>\n",
       "    <tr>\n",
       "      <th>14</th>\n",
       "      <td>14</td>\n",
       "      <td>family interactions</td>\n",
       "      <td>0.014100</td>\n",
       "      <td>4.158102</td>\n",
       "      <td>19.906594</td>\n",
       "    </tr>\n",
       "    <tr>\n",
       "      <th>15</th>\n",
       "      <td>15</td>\n",
       "      <td>loved ones' separations</td>\n",
       "      <td>0.013986</td>\n",
       "      <td>4.191739</td>\n",
       "      <td>19.746850</td>\n",
       "    </tr>\n",
       "    <tr>\n",
       "      <th>16</th>\n",
       "      <td>16</td>\n",
       "      <td>prisoner tattoos (stills)</td>\n",
       "      <td>0.012932</td>\n",
       "      <td>4.533427</td>\n",
       "      <td>18.258517</td>\n",
       "    </tr>\n",
       "    <tr>\n",
       "      <th>17</th>\n",
       "      <td>17</td>\n",
       "      <td>social relations</td>\n",
       "      <td>0.012734</td>\n",
       "      <td>4.603898</td>\n",
       "      <td>17.979035</td>\n",
       "    </tr>\n",
       "  </tbody>\n",
       "</table>\n",
       "</div>"
      ],
      "text/plain": [
       "    Unnamed: 0                 topic_name  stationary_prob  \\\n",
       "0            0                 selections         0.058627   \n",
       "1            1          intake procedures         0.052601   \n",
       "2            2          living conditions         0.046104   \n",
       "3            3               forced labor         0.041327   \n",
       "4            4                       food         0.033895   \n",
       "5            5      mass murder awareness         0.031158   \n",
       "6            6    camp adaptation methods         0.024257   \n",
       "7            7                  departure         0.023512   \n",
       "8            8                     Appell         0.022992   \n",
       "9            9         housing conditions         0.018727   \n",
       "10          10          transfer to camps         0.015314   \n",
       "11          11             Mengele, Josef         0.015277   \n",
       "12          12                 aid giving         0.014548   \n",
       "13          13          loved ones' fates         0.014236   \n",
       "14          14        family interactions         0.014100   \n",
       "15          15    loved ones' separations         0.013986   \n",
       "16          16  prisoner tattoos (stills)         0.012932   \n",
       "17          17           social relations         0.012734   \n",
       "\n",
       "    stationary_prob_normalized  stationary_prob_normalized_to_escape  \n",
       "0                     1.000000                             82.773644  \n",
       "1                     1.114572                             74.264943  \n",
       "2                     1.271637                             65.092201  \n",
       "3                     1.418622                             58.347920  \n",
       "4                     1.729656                             47.855561  \n",
       "5                     1.881597                             43.991166  \n",
       "6                     2.416958                             34.247038  \n",
       "7                     2.493475                             33.196103  \n",
       "8                     2.549849                             32.462171  \n",
       "9                     3.130665                             26.439636  \n",
       "10                    3.828318                             21.621410  \n",
       "11                    3.837544                             21.569432  \n",
       "12                    4.029878                             20.539990  \n",
       "13                    4.118385                             20.098566  \n",
       "14                    4.158102                             19.906594  \n",
       "15                    4.191739                             19.746850  \n",
       "16                    4.533427                             18.258517  \n",
       "17                    4.603898                             17.979035  "
      ]
     },
     "metadata": {},
     "output_type": "display_data"
    }
   ],
   "source": [
    "display(p_complete[0:18])"
   ]
  },
  {
   "cell_type": "code",
   "execution_count": 103,
   "metadata": {},
   "outputs": [
    {
     "name": "stdout",
     "output_type": "stream",
     "text": [
      "0.5538457388037695\n"
     ]
    }
   ],
   "source": [
    "print (social_bonds/Appell)"
   ]
  },
  {
   "cell_type": "code",
   "execution_count": 104,
   "metadata": {},
   "outputs": [
    {
     "name": "stdout",
     "output_type": "stream",
     "text": [
      "1.2886172201914585\n"
     ]
    }
   ],
   "source": [
    "print (social_bonds/tattoo)"
   ]
  },
  {
   "cell_type": "code",
   "execution_count": 105,
   "metadata": {},
   "outputs": [
    {
     "name": "stdout",
     "output_type": "stream",
     "text": [
      "4.603897973176576\n"
     ]
    }
   ],
   "source": [
    "print (selection/social_bonds)"
   ]
  },
  {
   "cell_type": "code",
   "execution_count": 106,
   "metadata": {},
   "outputs": [
    {
     "name": "stdout",
     "output_type": "stream",
     "text": [
      "True\n"
     ]
    }
   ],
   "source": [
    "print (social_bonds>upper_quantile)"
   ]
  },
  {
   "cell_type": "code",
   "execution_count": 107,
   "metadata": {},
   "outputs": [
    {
     "name": "stdout",
     "output_type": "stream",
     "text": [
      "17.979035163718045\n"
     ]
    }
   ],
   "source": [
    "print (social_bonds/escapes)"
   ]
  },
  {
   "cell_type": "markdown",
   "metadata": {},
   "source": [
    "## Observation 4"
   ]
  },
  {
   "cell_type": "markdown",
   "metadata": {},
   "source": [
    "### Qualitative description:"
   ]
  },
  {
   "cell_type": "markdown",
   "metadata": {},
   "source": [
    "The topic describing sociability is more significant (1.5 times) than memories related to clothes. Similarly, the topic describing acts of solidarity is more significant (1.7 times) than memories related to clothes."
   ]
  },
  {
   "cell_type": "markdown",
   "metadata": {},
   "source": [
    "# Comments\n",
    "## Tim\n",
    "- 1.2 is a low number, it would be important to know that it's actually  significant\n",
    "\n",
    "## Gabor\n",
    "- should we just say that \"topic describing sociability is slightly more probable as topic indicating memories related to clothes\", ie. leave out significance?\n",
    "- alternatively, someone suggested this method to resolve this problem: https://thomasleeper.com/Rcourse/Tutorials/permutationtests.html"
   ]
  },
  {
   "cell_type": "markdown",
   "metadata": {},
   "source": [
    "### Quantitative evidence"
   ]
  },
  {
   "cell_type": "code",
   "execution_count": 108,
   "metadata": {},
   "outputs": [
    {
     "data": {
      "text/plain": [
       "1.5049900279037864"
      ]
     },
     "execution_count": 108,
     "metadata": {},
     "output_type": "execute_result"
    }
   ],
   "source": [
    "social_bonds/clothes"
   ]
  },
  {
   "cell_type": "code",
   "execution_count": 109,
   "metadata": {},
   "outputs": [
    {
     "data": {
      "text/html": [
       "<div>\n",
       "<style scoped>\n",
       "    .dataframe tbody tr th:only-of-type {\n",
       "        vertical-align: middle;\n",
       "    }\n",
       "\n",
       "    .dataframe tbody tr th {\n",
       "        vertical-align: top;\n",
       "    }\n",
       "\n",
       "    .dataframe thead th {\n",
       "        text-align: right;\n",
       "    }\n",
       "</style>\n",
       "<table border=\"1\" class=\"dataframe\">\n",
       "  <thead>\n",
       "    <tr style=\"text-align: right;\">\n",
       "      <th></th>\n",
       "      <th>Unnamed: 0</th>\n",
       "      <th>topic_name</th>\n",
       "      <th>stationary_prob</th>\n",
       "      <th>stationary_prob_normalized</th>\n",
       "      <th>stationary_prob_normalized_to_escape</th>\n",
       "    </tr>\n",
       "  </thead>\n",
       "  <tbody>\n",
       "    <tr>\n",
       "      <th>25</th>\n",
       "      <td>25</td>\n",
       "      <td>clothing</td>\n",
       "      <td>0.008461</td>\n",
       "      <td>6.928821</td>\n",
       "      <td>11.946282</td>\n",
       "    </tr>\n",
       "  </tbody>\n",
       "</table>\n",
       "</div>"
      ],
      "text/plain": [
       "    Unnamed: 0 topic_name  stationary_prob  stationary_prob_normalized  \\\n",
       "25          25   clothing         0.008461                    6.928821   \n",
       "\n",
       "    stationary_prob_normalized_to_escape  \n",
       "25                             11.946282  "
      ]
     },
     "metadata": {},
     "output_type": "display_data"
    }
   ],
   "source": [
    "display(p_complete[p_complete.topic_name==\"clothing\"])"
   ]
  },
  {
   "cell_type": "code",
   "execution_count": 110,
   "metadata": {},
   "outputs": [
    {
     "data": {
      "text/html": [
       "<div>\n",
       "<style scoped>\n",
       "    .dataframe tbody tr th:only-of-type {\n",
       "        vertical-align: middle;\n",
       "    }\n",
       "\n",
       "    .dataframe tbody tr th {\n",
       "        vertical-align: top;\n",
       "    }\n",
       "\n",
       "    .dataframe thead th {\n",
       "        text-align: right;\n",
       "    }\n",
       "</style>\n",
       "<table border=\"1\" class=\"dataframe\">\n",
       "  <thead>\n",
       "    <tr style=\"text-align: right;\">\n",
       "      <th></th>\n",
       "      <th>Unnamed: 0</th>\n",
       "      <th>topic_name</th>\n",
       "      <th>stationary_prob</th>\n",
       "      <th>stationary_prob_normalized</th>\n",
       "      <th>stationary_prob_normalized_to_escape</th>\n",
       "    </tr>\n",
       "  </thead>\n",
       "  <tbody>\n",
       "  </tbody>\n",
       "</table>\n",
       "</div>"
      ],
      "text/plain": [
       "Empty DataFrame\n",
       "Columns: [Unnamed: 0, topic_name, stationary_prob, stationary_prob_normalized, stationary_prob_normalized_to_escape]\n",
       "Index: []"
      ]
     },
     "metadata": {},
     "output_type": "display_data"
    }
   ],
   "source": [
    "display(p_complete[p_complete.topic_name==\"social bonds\"])"
   ]
  },
  {
   "cell_type": "code",
   "execution_count": 111,
   "metadata": {},
   "outputs": [
    {
     "data": {
      "text/plain": [
       "1.7193625294829904"
      ]
     },
     "execution_count": 111,
     "metadata": {},
     "output_type": "execute_result"
    }
   ],
   "source": [
    "aid_giving/clothes"
   ]
  },
  {
   "cell_type": "markdown",
   "metadata": {},
   "source": [
    "## Observation 5"
   ]
  },
  {
   "cell_type": "markdown",
   "metadata": {},
   "source": [
    "### Qualitative description:"
   ]
  },
  {
   "cell_type": "markdown",
   "metadata": {},
   "source": [
    "The topic describing friendship is 5 times more significant than escapes. Selection is 15 times more significant than friends."
   ]
  },
  {
   "cell_type": "markdown",
   "metadata": {},
   "source": [
    "### Quantitative evidence"
   ]
  },
  {
   "cell_type": "code",
   "execution_count": 112,
   "metadata": {},
   "outputs": [
    {
     "name": "stdout",
     "output_type": "stream",
     "text": [
      "0.0037230619308905115\n"
     ]
    }
   ],
   "source": [
    "print (friends)"
   ]
  },
  {
   "cell_type": "code",
   "execution_count": 113,
   "metadata": {},
   "outputs": [
    {
     "name": "stdout",
     "output_type": "stream",
     "text": [
      "5.256441126945908\n"
     ]
    }
   ],
   "source": [
    "print (friends/escapes)"
   ]
  },
  {
   "cell_type": "code",
   "execution_count": 114,
   "metadata": {},
   "outputs": [
    {
     "name": "stdout",
     "output_type": "stream",
     "text": [
      "15.747088486465168\n"
     ]
    }
   ],
   "source": [
    "print (selection/friends)"
   ]
  },
  {
   "cell_type": "markdown",
   "metadata": {},
   "source": [
    "## Observation 6"
   ]
  },
  {
   "cell_type": "markdown",
   "metadata": {},
   "source": [
    "### Qualitative description:"
   ]
  },
  {
   "cell_type": "markdown",
   "metadata": {},
   "source": [
    "The topic describing friendship is 5 times more significant than escapes. Selection is 15 times more significant than friends."
   ]
  },
  {
   "cell_type": "markdown",
   "metadata": {},
   "source": [
    "### Quantitative evidence"
   ]
  },
  {
   "cell_type": "code",
   "execution_count": 115,
   "metadata": {},
   "outputs": [
    {
     "name": "stdout",
     "output_type": "stream",
     "text": [
      "0.003760254018838793\n"
     ]
    }
   ],
   "source": [
    "print (food_sharing)"
   ]
  },
  {
   "cell_type": "code",
   "execution_count": 116,
   "metadata": {},
   "outputs": [
    {
     "name": "stdout",
     "output_type": "stream",
     "text": [
      "5.308951137339847\n"
     ]
    }
   ],
   "source": [
    "print (food_sharing/escapes)"
   ]
  },
  {
   "cell_type": "code",
   "execution_count": 117,
   "metadata": {},
   "outputs": [
    {
     "name": "stdout",
     "output_type": "stream",
     "text": [
      "15.59133648221657\n"
     ]
    }
   ],
   "source": [
    "print (selection/food_sharing)"
   ]
  },
  {
   "cell_type": "code",
   "execution_count": null,
   "metadata": {},
   "outputs": [],
   "source": []
  },
  {
   "cell_type": "markdown",
   "metadata": {},
   "source": [
    "## Interpretation"
   ]
  },
  {
   "cell_type": "markdown",
   "metadata": {},
   "source": [
    "In the recollections of survivors of Birkenau, memories related to sociability and acts of solidarity are highly probable and recurrent topics. They do recur in the narrations of many victims independently from each other. Survivors speak about them as often as about other everyday aspects and events of life in Birkenau. This suggests that neither sociability nor acts of solidarity were rare events in Birkenau. If they had been rare and sporadic, survivors would not have addressed them very often in their recollections either. They would discuss these topics as often as topics related to de facto rare events such as for instance escape. \n",
    "\n",
    "It is important to underline that survivors were not asked by interviewers to address solidarity and sociability. It was their decision to address these topics. The stationary probability measured above actually describe the overall probability that interviews with survivors go towards these topics.\n",
    "\n",
    "Nevertheless this interpretation raises two questions to be addressed in the Discussion part:\n",
    "- The fact that survivors recall occasions of solidarity or sociability does not indicate that they were frequent events in the past; they are just frequent in their memories\n",
    "- They might recall them because they are always salient aspects of human life and not because they were frequent elements of everyday life in Birkenau\n"
   ]
  },
  {
   "cell_type": "markdown",
   "metadata": {},
   "source": [
    "## Visualization"
   ]
  },
  {
   "cell_type": "markdown",
   "metadata": {},
   "source": [
    "A word cloud rendering the stationary probability of key topics in recollections of Birkenau survivors. "
   ]
  },
  {
   "cell_type": "code",
   "execution_count": 197,
   "metadata": {},
   "outputs": [],
   "source": [
    "from wordcloud import WordCloud\n",
    "import matplotlib.pyplot as plt"
   ]
  },
  {
   "cell_type": "code",
   "execution_count": 198,
   "metadata": {},
   "outputs": [],
   "source": [
    "p_complete = pd.read_csv(input_directory+'/'+'complete'+'/'+'stationary_probs.csv')"
   ]
  },
  {
   "cell_type": "code",
   "execution_count": 199,
   "metadata": {},
   "outputs": [],
   "source": [
    "#p_complete['stationary_prob_normalized'] = 1/(p_complete[p_complete.topic_name=='living conditions']['stationary_prob'].values[0] / p_complete['stationary_prob']) \n",
    "p_complete =  p_complete[0:30].append(p_complete[p_complete.topic_name=='escapes'])\n",
    "wfreqs = p_complete.set_index('topic_name')['stationary_prob'].to_dict()"
   ]
  },
  {
   "cell_type": "code",
   "execution_count": 200,
   "metadata": {},
   "outputs": [],
   "source": [
    "def black(word, font_size, position, orientation,\n",
    "    font_path, random_state):\n",
    "    if (word ==\"social relations\") or (word ==\"aid giving\") or (word ==\"friends\") or (word ==\"food sharing\"):\n",
    "        return 'red'\n",
    "    elif (word ==\"prisoner tattoos\") or (word ==\"clothing\") or (word == \"escapes\"):\n",
    "        return 'blue'\n",
    "    else:\n",
    "        return 'black'"
   ]
  },
  {
   "cell_type": "code",
   "execution_count": 213,
   "metadata": {},
   "outputs": [],
   "source": [
    "wordcloud = WordCloud(width = 800, height = 800, \n",
    "                background_color ='white', color_func=black,\n",
    "                min_font_size = 10).generate_from_frequencies(wfreqs)"
   ]
  },
  {
   "cell_type": "code",
   "execution_count": 211,
   "metadata": {},
   "outputs": [
    {
     "data": {
      "text/plain": [
       "'/miniconda3/lib/python3.7/site-packages/wordcloud/DroidSansMono.ttf'"
      ]
     },
     "execution_count": 211,
     "metadata": {},
     "output_type": "execute_result"
    }
   ],
   "source": [
    "wordcloud.font_path"
   ]
  },
  {
   "cell_type": "code",
   "execution_count": 222,
   "metadata": {},
   "outputs": [
    {
     "data": {
      "image/png": "[encoded data removed]",
      "text/plain": [
       "<Figure size 2304x1152 with 2 Axes>"
      ]
     },
     "metadata": {
      "needs_background": "light"
     },
     "output_type": "display_data"
    }
   ],
   "source": [
    "# plot the WordCloud image\n",
    "fig, ax = plt.subplots(1, 2, figsize=(32, 16), facecolor=None,edgecolor=\"#04253a\",linewidth=10)\n",
    " \n",
    "ax[0].imshow(wordcloud)\n",
    "for _ax in ax:\n",
    "    _ax.axis(\"off\") \n",
    "plt.tight_layout(pad=0)\n",
    "plt.savefig(\"Figure_1.png\",edgecolor=fig.get_edgecolor())"
   ]
  },
  {
   "cell_type": "code",
   "execution_count": null,
   "metadata": {},
   "outputs": [],
   "source": []
  },
  {
   "cell_type": "code",
   "execution_count": null,
   "metadata": {},
   "outputs": [],
   "source": []
  },
  {
   "cell_type": "code",
   "execution_count": null,
   "metadata": {},
   "outputs": [],
   "source": []
  },
  {
   "cell_type": "code",
   "execution_count": null,
   "metadata": {},
   "outputs": [],
   "source": []
  }
 ],
 "metadata": {
  "kernelspec": {
   "display_name": "Python 3",
   "language": "python",
   "name": "python3"
  },
  "language_info": {
   "codemirror_mode": {
    "name": "ipython",
    "version": 3
   },
   "file_extension": ".py",
   "mimetype": "text/x-python",
   "name": "python",
   "nbconvert_exporter": "python",
   "pygments_lexer": "ipython3",
   "version": "3.7.2"
  }
 },
 "nbformat": 4,
 "nbformat_minor": 2
}

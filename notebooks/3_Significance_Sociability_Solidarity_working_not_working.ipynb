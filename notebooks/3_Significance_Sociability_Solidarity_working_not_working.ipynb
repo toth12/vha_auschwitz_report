{
 "cells": [
  {
   "cell_type": "markdown",
   "metadata": {},
   "source": [
    "# Topics of Sociability and Solidarity in Recollections of those who worked and who did not work in Auschwitz-Birkenau"
   ]
  },
  {
   "cell_type": "markdown",
   "metadata": {},
   "source": [
    "\n",
    "\n",
    " ### Research Question:"
   ]
  },
  {
   "cell_type": "markdown",
   "metadata": {},
   "source": [
    "Did solidarity and sociability thrive more among victims who were forced to work than those who did not work? Do victims who worked speak more about solidarity and sociability?"
   ]
  },
  {
   "cell_type": "markdown",
   "metadata": {},
   "source": [
    "### Further point to consider:"
   ]
  },
  {
   "cell_type": "markdown",
   "metadata": {},
   "source": [
    " - Majority of victims did not work"
   ]
  },
  {
   "cell_type": "code",
   "execution_count": 1,
   "metadata": {},
   "outputs": [],
   "source": [
    "import constants\n",
    "import pandas as pd\n",
    "import os\n",
    "from IPython.display import display\n",
    "import json\n",
    "import os\n",
    "path = os.getcwd()\n",
    "parent = os.path.abspath(os.path.join(path, os.pardir))\n",
    "with open(parent+'/'+constants.output_data_segment_keyword_matrix + \"metadata_partitions.json\") as read_file:\n",
    "        metadata_partitions = json.load(read_file)\n",
    "        \n",
    "total_number_of_persons = len(metadata_partitions['complete'])"
   ]
  },
  {
   "cell_type": "markdown",
   "metadata": {},
   "source": [
    "Percentage of those who did not work"
   ]
  },
  {
   "cell_type": "code",
   "execution_count": 2,
   "metadata": {},
   "outputs": [
    {
     "data": {
      "text/plain": [
       "5044"
      ]
     },
     "execution_count": 2,
     "metadata": {},
     "output_type": "execute_result"
    }
   ],
   "source": [
    "len(metadata_partitions['notwork'])"
   ]
  },
  {
   "cell_type": "code",
   "execution_count": 3,
   "metadata": {},
   "outputs": [
    {
     "data": {
      "text/plain": [
       "1584"
      ]
     },
     "execution_count": 3,
     "metadata": {},
     "output_type": "execute_result"
    }
   ],
   "source": [
    "(len(metadata_partitions['work']))"
   ]
  },
  {
   "cell_type": "code",
   "execution_count": 4,
   "metadata": {},
   "outputs": [
    {
     "data": {
      "text/plain": [
       "76.10138805069403"
      ]
     },
     "execution_count": 4,
     "metadata": {},
     "output_type": "execute_result"
    }
   ],
   "source": [
    "(len(metadata_partitions['notwork']) / total_number_of_persons)*100"
   ]
  },
  {
   "cell_type": "markdown",
   "metadata": {},
   "source": [
    "Percentage of those who worked"
   ]
  },
  {
   "cell_type": "code",
   "execution_count": 5,
   "metadata": {},
   "outputs": [
    {
     "data": {
      "text/plain": [
       "23.898611949305977"
      ]
     },
     "execution_count": 5,
     "metadata": {},
     "output_type": "execute_result"
    }
   ],
   "source": [
    "(len(metadata_partitions['work']) / total_number_of_persons)*100"
   ]
  },
  {
   "cell_type": "markdown",
   "metadata": {},
   "source": [
    "## Load the relevant data"
   ]
  },
  {
   "cell_type": "markdown",
   "metadata": {},
   "source": [
    "Set up the paths to data"
   ]
  },
  {
   "cell_type": "markdown",
   "metadata": {},
   "source": [
    "Two different datasets were created. In Dataset 1, the topic 'social bonds' include 'friendship' as well; similarly the topic 'aid giving' includes 'food sharing'. In Dataset 2, 'friendship' and 'food sharing' are distinguished, and they are different topics."
   ]
  },
  {
   "cell_type": "markdown",
   "metadata": {},
   "source": [
    "First, load Dataset 1"
   ]
  },
  {
   "cell_type": "code",
   "execution_count": 6,
   "metadata": {},
   "outputs": [],
   "source": [
    "input_directory = constants.output_data_markov_modelling\n",
    "\n",
    "path = os.getcwd()\n",
    "parent = os.path.abspath(os.path.join(path, os.pardir))\n",
    "input_directory = parent +'/'+ constants.output_data_markov_modelling"
   ]
  },
  {
   "cell_type": "code",
   "execution_count": 7,
   "metadata": {},
   "outputs": [],
   "source": [
    "p_work_dataset_1 = pd.read_csv(input_directory+'work'+'/'+'stationary_probs.csv')\n",
    "\n",
    "p_not_work_dataset_1 = pd.read_csv(input_directory+'notwork'+'/'+'stationary_probs.csv')\n",
    "\n",
    "input_directory = parent +'/'+ constants.output_data_report_statistical_analysis\n",
    "input_file = 'strength_of_association_odds_ratio_work_notwork.csv'\n",
    "df_fisher_dataset_1 = pd.read_csv(input_directory+input_file)"
   ]
  },
  {
   "cell_type": "markdown",
   "metadata": {},
   "source": [
    "Second,load Dataset 2"
   ]
  },
  {
   "cell_type": "code",
   "execution_count": 8,
   "metadata": {},
   "outputs": [],
   "source": [
    "input_directory = 'data/output_aid_giving_sociability_expanded/markov_modelling/'\n",
    "\n",
    "path = os.getcwd()\n",
    "parent = os.path.abspath(os.path.join(path, os.pardir))\n",
    "input_directory = parent +'/'+ input_directory "
   ]
  },
  {
   "cell_type": "code",
   "execution_count": 9,
   "metadata": {},
   "outputs": [],
   "source": [
    "p_work_dataset_2 = pd.read_csv(input_directory+'work'+'/'+'stationary_probs.csv')\n",
    "\n",
    "p_not_work_dataset_2 = pd.read_csv(input_directory+'notwork'+'/'+'stationary_probs.csv')\n",
    "\n",
    "input_directory = \"data/output_aid_giving_sociability_expanded/reports_statistical_analysis/\"\n",
    "input_file = 'strength_of_association_odds_ratio_work_notwork.csv'\n",
    "df_fisher_data_2 = pd.read_csv(parent +'/'+input_directory+input_file)"
   ]
  },
  {
   "cell_type": "markdown",
   "metadata": {},
   "source": [
    "## Observation 1"
   ]
  },
  {
   "cell_type": "markdown",
   "metadata": {},
   "source": [
    "## Qualitative description"
   ]
  },
  {
   "cell_type": "markdown",
   "metadata": {},
   "source": [
    "When the working and the non working population compared, interestingly the non working population is more likely to discuss social bonds."
   ]
  },
  {
   "cell_type": "markdown",
   "metadata": {},
   "source": [
    "## Quantitative proof"
   ]
  },
  {
   "cell_type": "code",
   "execution_count": 10,
   "metadata": {},
   "outputs": [],
   "source": [
    "social_bonds_working = p_work_dataset_1[p_work_dataset_1.topic_name=='social bonds']['stationary_prob'].values[0]\n",
    "social_bonds_not_working = p_not_work_dataset_1[p_not_work_dataset_1.topic_name=='social bonds']['stationary_prob'].values[0]"
   ]
  },
  {
   "cell_type": "code",
   "execution_count": 11,
   "metadata": {},
   "outputs": [
    {
     "data": {
      "text/plain": [
       "0.015701157990602004"
      ]
     },
     "execution_count": 11,
     "metadata": {},
     "output_type": "execute_result"
    }
   ],
   "source": [
    "social_bonds_working"
   ]
  },
  {
   "cell_type": "code",
   "execution_count": 12,
   "metadata": {},
   "outputs": [
    {
     "data": {
      "text/plain": [
       "0.017101598169156282"
      ]
     },
     "execution_count": 12,
     "metadata": {},
     "output_type": "execute_result"
    }
   ],
   "source": [
    "social_bonds_not_working"
   ]
  },
  {
   "cell_type": "code",
   "execution_count": 13,
   "metadata": {},
   "outputs": [
    {
     "data": {
      "text/plain": [
       "0.9181105669363666"
      ]
     },
     "execution_count": 13,
     "metadata": {},
     "output_type": "execute_result"
    }
   ],
   "source": [
    "social_bonds_working / social_bonds_not_working"
   ]
  },
  {
   "cell_type": "code",
   "execution_count": 14,
   "metadata": {},
   "outputs": [
    {
     "data": {
      "text/plain": [
       "1.0891934327004746"
      ]
     },
     "execution_count": 14,
     "metadata": {},
     "output_type": "execute_result"
    }
   ],
   "source": [
    " social_bonds_not_working / social_bonds_working"
   ]
  },
  {
   "cell_type": "markdown",
   "metadata": {},
   "source": [
    "![title](output/markov_modelling/bootstrap/work_notwork/social%20bonds.png)"
   ]
  },
  {
   "cell_type": "code",
   "execution_count": 15,
   "metadata": {},
   "outputs": [],
   "source": [
    "friends_working = p_work_dataset_2[p_work_dataset_2.topic_name=='friends']['stationary_prob'].values[0]\n",
    "friends_not_working = p_not_work_dataset_2[p_not_work_dataset_2.topic_name=='friends']['stationary_prob'].values[0]"
   ]
  },
  {
   "cell_type": "code",
   "execution_count": 16,
   "metadata": {},
   "outputs": [
    {
     "data": {
      "text/plain": [
       "1.0461575066456787"
      ]
     },
     "execution_count": 16,
     "metadata": {},
     "output_type": "execute_result"
    }
   ],
   "source": [
    "friends_not_working / friends_working"
   ]
  },
  {
   "cell_type": "code",
   "execution_count": 32,
   "metadata": {},
   "outputs": [
    {
     "data": {
      "text/plain": [
       "0.0036497199475916775"
      ]
     },
     "execution_count": 32,
     "metadata": {},
     "output_type": "execute_result"
    }
   ],
   "source": [
    "friends_working"
   ]
  },
  {
   "cell_type": "markdown",
   "metadata": {},
   "source": [
    "![title](output_aid_giving_sociability_expanded/markov_modelling/bootstrap/work_notwork/friends.png)"
   ]
  },
  {
   "cell_type": "markdown",
   "metadata": {},
   "source": [
    "### Comparison with results of Fisher test"
   ]
  },
  {
   "cell_type": "markdown",
   "metadata": {},
   "source": [
    "This is inconsistent with Fisher test"
   ]
  },
  {
   "cell_type": "code",
   "execution_count": 17,
   "metadata": {},
   "outputs": [
    {
     "data": {
      "text/html": [
       "<div>\n",
       "<style scoped>\n",
       "    .dataframe tbody tr th:only-of-type {\n",
       "        vertical-align: middle;\n",
       "    }\n",
       "\n",
       "    .dataframe tbody tr th {\n",
       "        vertical-align: top;\n",
       "    }\n",
       "\n",
       "    .dataframe thead th {\n",
       "        text-align: right;\n",
       "    }\n",
       "</style>\n",
       "<table border=\"1\" class=\"dataframe\">\n",
       "  <thead>\n",
       "    <tr style=\"text-align: right;\">\n",
       "      <th></th>\n",
       "      <th>Unnamed: 0</th>\n",
       "      <th>topic_word</th>\n",
       "      <th>p_value</th>\n",
       "      <th>work</th>\n",
       "      <th>notwork</th>\n",
       "      <th>count_work</th>\n",
       "      <th>count_notwork</th>\n",
       "      <th>significance_Bonferroni_corrected</th>\n",
       "      <th>significance</th>\n",
       "    </tr>\n",
       "  </thead>\n",
       "  <tbody>\n",
       "    <tr>\n",
       "      <th>64</th>\n",
       "      <td>53</td>\n",
       "      <td>friends</td>\n",
       "      <td>0.000001</td>\n",
       "      <td>1.816692</td>\n",
       "      <td>0.550451</td>\n",
       "      <td>118</td>\n",
       "      <td>214</td>\n",
       "      <td>True</td>\n",
       "      <td>True</td>\n",
       "    </tr>\n",
       "  </tbody>\n",
       "</table>\n",
       "</div>"
      ],
      "text/plain": [
       "    Unnamed: 0 topic_word   p_value      work   notwork  count_work  \\\n",
       "64          53    friends  0.000001  1.816692  0.550451         118   \n",
       "\n",
       "    count_notwork  significance_Bonferroni_corrected  significance  \n",
       "64            214                               True          True  "
      ]
     },
     "metadata": {},
     "output_type": "display_data"
    }
   ],
   "source": [
    "display(df_fisher_data_2[df_fisher_data_2.topic_word==\"friends\"])"
   ]
  },
  {
   "cell_type": "code",
   "execution_count": 18,
   "metadata": {},
   "outputs": [
    {
     "data": {
      "text/html": [
       "<div>\n",
       "<style scoped>\n",
       "    .dataframe tbody tr th:only-of-type {\n",
       "        vertical-align: middle;\n",
       "    }\n",
       "\n",
       "    .dataframe tbody tr th {\n",
       "        vertical-align: top;\n",
       "    }\n",
       "\n",
       "    .dataframe thead th {\n",
       "        text-align: right;\n",
       "    }\n",
       "</style>\n",
       "<table border=\"1\" class=\"dataframe\">\n",
       "  <thead>\n",
       "    <tr style=\"text-align: right;\">\n",
       "      <th></th>\n",
       "      <th>Unnamed: 0</th>\n",
       "      <th>topic_word</th>\n",
       "      <th>p_value</th>\n",
       "      <th>work</th>\n",
       "      <th>notwork</th>\n",
       "      <th>count_work</th>\n",
       "      <th>count_notwork</th>\n",
       "      <th>significance_Bonferroni_corrected</th>\n",
       "      <th>significance</th>\n",
       "    </tr>\n",
       "  </thead>\n",
       "  <tbody>\n",
       "    <tr>\n",
       "      <th>26</th>\n",
       "      <td>97</td>\n",
       "      <td>social bonds</td>\n",
       "      <td>2.433245e-27</td>\n",
       "      <td>2.143883</td>\n",
       "      <td>0.466443</td>\n",
       "      <td>434</td>\n",
       "      <td>755</td>\n",
       "      <td>True</td>\n",
       "      <td>True</td>\n",
       "    </tr>\n",
       "  </tbody>\n",
       "</table>\n",
       "</div>"
      ],
      "text/plain": [
       "    Unnamed: 0    topic_word       p_value      work   notwork  count_work  \\\n",
       "26          97  social bonds  2.433245e-27  2.143883  0.466443         434   \n",
       "\n",
       "    count_notwork  significance_Bonferroni_corrected  significance  \n",
       "26            755                               True          True  "
      ]
     },
     "metadata": {},
     "output_type": "display_data"
    }
   ],
   "source": [
    "display(df_fisher_dataset_1[df_fisher_dataset_1.topic_word==\"social bonds\"])"
   ]
  },
  {
   "cell_type": "markdown",
   "metadata": {},
   "source": [
    "## Observation 2"
   ]
  },
  {
   "cell_type": "markdown",
   "metadata": {},
   "source": [
    "## Qualitative description"
   ]
  },
  {
   "cell_type": "markdown",
   "metadata": {},
   "source": [
    "Those who worked are more likely to discuss acts of solidarity"
   ]
  },
  {
   "cell_type": "markdown",
   "metadata": {},
   "source": [
    "## Quantitative proof"
   ]
  },
  {
   "cell_type": "code",
   "execution_count": 19,
   "metadata": {},
   "outputs": [],
   "source": [
    "aid_giving_working =  p_work_dataset_1[p_work_dataset_1.topic_name=='aid giving']['stationary_prob'].values[0]\n",
    "aid_giving_not_working = p_not_work_dataset_1[p_not_work_dataset_1.topic_name=='aid giving']['stationary_prob'].values[0]"
   ]
  },
  {
   "cell_type": "code",
   "execution_count": 20,
   "metadata": {},
   "outputs": [
    {
     "data": {
      "text/plain": [
       "0.02028766816656424"
      ]
     },
     "execution_count": 20,
     "metadata": {},
     "output_type": "execute_result"
    }
   ],
   "source": [
    "aid_giving_not_working"
   ]
  },
  {
   "cell_type": "code",
   "execution_count": 21,
   "metadata": {},
   "outputs": [
    {
     "data": {
      "text/plain": [
       "0.02843131428761015"
      ]
     },
     "execution_count": 21,
     "metadata": {},
     "output_type": "execute_result"
    }
   ],
   "source": [
    "aid_giving_working"
   ]
  },
  {
   "cell_type": "code",
   "execution_count": 22,
   "metadata": {},
   "outputs": [
    {
     "data": {
      "text/plain": [
       "1.4014086810857502"
      ]
     },
     "execution_count": 22,
     "metadata": {},
     "output_type": "execute_result"
    }
   ],
   "source": [
    "aid_giving_working / aid_giving_not_working"
   ]
  },
  {
   "cell_type": "markdown",
   "metadata": {},
   "source": [
    "![title](output/markov_modelling/bootstrap/work_notwork/aid%20giving.png)"
   ]
  },
  {
   "cell_type": "code",
   "execution_count": 23,
   "metadata": {},
   "outputs": [],
   "source": [
    "food_sharing_working =  p_work_dataset_2[p_work_dataset_2.topic_name=='food sharing']['stationary_prob'].values[0]\n",
    "food_sharing_not_working = p_not_work_dataset_2[p_not_work_dataset_2.topic_name=='food sharing']['stationary_prob'].values[0]"
   ]
  },
  {
   "cell_type": "code",
   "execution_count": 24,
   "metadata": {},
   "outputs": [
    {
     "data": {
      "text/plain": [
       "1.2891521870291975"
      ]
     },
     "execution_count": 24,
     "metadata": {},
     "output_type": "execute_result"
    }
   ],
   "source": [
    "food_sharing_working / food_sharing_not_working"
   ]
  },
  {
   "cell_type": "markdown",
   "metadata": {},
   "source": [
    "![title](output_aid_giving_sociability_expanded/markov_modelling/bootstrap/work_notwork/food%20sharing.png)"
   ]
  },
  {
   "cell_type": "markdown",
   "metadata": {},
   "source": [
    "### Comparison with results of Fisher test"
   ]
  },
  {
   "cell_type": "code",
   "execution_count": 25,
   "metadata": {},
   "outputs": [
    {
     "data": {
      "text/html": [
       "<div>\n",
       "<style scoped>\n",
       "    .dataframe tbody tr th:only-of-type {\n",
       "        vertical-align: middle;\n",
       "    }\n",
       "\n",
       "    .dataframe tbody tr th {\n",
       "        vertical-align: top;\n",
       "    }\n",
       "\n",
       "    .dataframe thead th {\n",
       "        text-align: right;\n",
       "    }\n",
       "</style>\n",
       "<table border=\"1\" class=\"dataframe\">\n",
       "  <thead>\n",
       "    <tr style=\"text-align: right;\">\n",
       "      <th></th>\n",
       "      <th>Unnamed: 0</th>\n",
       "      <th>topic_word</th>\n",
       "      <th>p_value</th>\n",
       "      <th>work</th>\n",
       "      <th>notwork</th>\n",
       "      <th>count_work</th>\n",
       "      <th>count_notwork</th>\n",
       "      <th>significance_Bonferroni_corrected</th>\n",
       "      <th>significance</th>\n",
       "    </tr>\n",
       "  </thead>\n",
       "  <tbody>\n",
       "    <tr>\n",
       "      <th>37</th>\n",
       "      <td>49</td>\n",
       "      <td>food sharing</td>\n",
       "      <td>2.013416e-17</td>\n",
       "      <td>2.701861</td>\n",
       "      <td>0.370115</td>\n",
       "      <td>150</td>\n",
       "      <td>188</td>\n",
       "      <td>True</td>\n",
       "      <td>True</td>\n",
       "    </tr>\n",
       "  </tbody>\n",
       "</table>\n",
       "</div>"
      ],
      "text/plain": [
       "    Unnamed: 0    topic_word       p_value      work   notwork  count_work  \\\n",
       "37          49  food sharing  2.013416e-17  2.701861  0.370115         150   \n",
       "\n",
       "    count_notwork  significance_Bonferroni_corrected  significance  \n",
       "37            188                               True          True  "
      ]
     },
     "metadata": {},
     "output_type": "display_data"
    }
   ],
   "source": [
    "display(df_fisher_data_2[df_fisher_data_2.topic_word==\"food sharing\"])"
   ]
  },
  {
   "cell_type": "code",
   "execution_count": 26,
   "metadata": {},
   "outputs": [
    {
     "data": {
      "text/html": [
       "<div>\n",
       "<style scoped>\n",
       "    .dataframe tbody tr th:only-of-type {\n",
       "        vertical-align: middle;\n",
       "    }\n",
       "\n",
       "    .dataframe tbody tr th {\n",
       "        vertical-align: top;\n",
       "    }\n",
       "\n",
       "    .dataframe thead th {\n",
       "        text-align: right;\n",
       "    }\n",
       "</style>\n",
       "<table border=\"1\" class=\"dataframe\">\n",
       "  <thead>\n",
       "    <tr style=\"text-align: right;\">\n",
       "      <th></th>\n",
       "      <th>Unnamed: 0</th>\n",
       "      <th>topic_word</th>\n",
       "      <th>p_value</th>\n",
       "      <th>work</th>\n",
       "      <th>notwork</th>\n",
       "      <th>count_work</th>\n",
       "      <th>count_notwork</th>\n",
       "      <th>significance_Bonferroni_corrected</th>\n",
       "      <th>significance</th>\n",
       "    </tr>\n",
       "  </thead>\n",
       "  <tbody>\n",
       "    <tr>\n",
       "      <th>5</th>\n",
       "      <td>8</td>\n",
       "      <td>aid giving</td>\n",
       "      <td>5.124102e-68</td>\n",
       "      <td>2.895268</td>\n",
       "      <td>0.345391</td>\n",
       "      <td>731</td>\n",
       "      <td>1152</td>\n",
       "      <td>True</td>\n",
       "      <td>True</td>\n",
       "    </tr>\n",
       "  </tbody>\n",
       "</table>\n",
       "</div>"
      ],
      "text/plain": [
       "   Unnamed: 0  topic_word       p_value      work   notwork  count_work  \\\n",
       "5           8  aid giving  5.124102e-68  2.895268  0.345391         731   \n",
       "\n",
       "   count_notwork  significance_Bonferroni_corrected  significance  \n",
       "5           1152                               True          True  "
      ]
     },
     "metadata": {},
     "output_type": "display_data"
    }
   ],
   "source": [
    "display(df_fisher_dataset_1[df_fisher_dataset_1.topic_word==\"aid giving\"])"
   ]
  },
  {
   "cell_type": "markdown",
   "metadata": {},
   "source": [
    "## Interpretation"
   ]
  },
  {
   "cell_type": "markdown",
   "metadata": {},
   "source": [
    "The Markov framework signals  differences in terms of sociability when the working population compared to the non working population. This is however inconsistent with results of Fisher test. The reason might be that those who worked had less time and energy to socialize.\n",
    "\n",
    "However, in terms of acts of solidarity, there is a significant difference. Those who worked are more likely to discuss aid giving and food sharing by 40% and by 20%."
   ]
  },
  {
   "cell_type": "code",
   "execution_count": null,
   "metadata": {},
   "outputs": [],
   "source": []
  }
 ],
 "metadata": {
  "kernelspec": {
   "display_name": "Python 3",
   "language": "python",
   "name": "python3"
  },
  "language_info": {
   "codemirror_mode": {
    "name": "ipython",
    "version": 3
   },
   "file_extension": ".py",
   "mimetype": "text/x-python",
   "name": "python",
   "nbconvert_exporter": "python",
   "pygments_lexer": "ipython3",
   "version": "3.7.2"
  }
 },
 "nbformat": 4,
 "nbformat_minor": 2
}

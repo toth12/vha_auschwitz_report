{
 "cells": [
  {
   "cell_type": "markdown",
   "metadata": {},
   "source": [
    "# Investigate problems related to work not_work data"
   ]
  },
  {
   "cell_type": "markdown",
   "metadata": {},
   "source": [
    "## Gather data"
   ]
  },
  {
   "cell_type": "code",
   "execution_count": 1,
   "metadata": {},
   "outputs": [],
   "source": [
    "import constants\n",
    "import pandas as pd\n",
    "import os\n",
    "from IPython.display import display\n",
    "import json\n",
    "import numpy as np\n",
    "path = os.getcwd()\n",
    "parent = os.path.abspath(os.path.join(path, os.pardir))\n",
    "input_directory = parent + '/'+constants.output_data_segment_keyword_matrix\n",
    "segment_df = pd.read_csv(input_directory + constants.output_segment_keyword_matrix_document_index)\n",
    "int_codes = segment_df['IntCode'].to_list()\n",
    "with open(parent+'/'+constants.output_data_segment_keyword_matrix + \"metadata_partitions.json\") as read_file:\n",
    "        metadata_partitions = json.load(read_file)\n",
    "input_folder = parent+'/'+constants.input_data\n",
    "input_file = constants.input_files_biodata_birkenau\n",
    "df_biodata = pd.read_csv(input_folder+input_file)\n",
    "df_biodata = df_biodata[df_biodata.IntCode.isin(int_codes)]"
   ]
  },
  {
   "cell_type": "markdown",
   "metadata": {},
   "source": [
    "Load the very original segment data"
   ]
  },
  {
   "cell_type": "code",
   "execution_count": 2,
   "metadata": {},
   "outputs": [],
   "source": [
    "input_directory = constants.input_data\n",
    "input_files = constants.input_files_segments\n",
    "input_files = [parent+'/'+input_directory+i for i in input_files]\n",
    "df = pd.concat([pd.read_csv(el) for el in input_files])\n",
    "df = df.reset_index()"
   ]
  },
  {
   "cell_type": "markdown",
   "metadata": {},
   "source": [
    "Load the segment keyword matrix"
   ]
  },
  {
   "cell_type": "code",
   "execution_count": 3,
   "metadata": {},
   "outputs": [],
   "source": [
    " # Load the input data\n",
    "input_directory = parent +'/'+constants.output_data_segment_keyword_matrix\n",
    "# Read the segment index term matrix\n",
    "data = np.load(input_directory + constants.output_segment_keyword_matrix_data_file.replace('.txt', '.npy'),  allow_pickle=True)\n",
    "# Read the column index (index terms) of the matrix above\n",
    "features_df = pd.read_csv(input_directory + constants.output_segment_keyword_matrix_feature_index)"
   ]
  },
  {
   "cell_type": "markdown",
   "metadata": {},
   "source": [
    "## Check the original data"
   ]
  },
  {
   "cell_type": "markdown",
   "metadata": {},
   "source": [
    "Get the int code of those who worked and who did not work"
   ]
  },
  {
   "cell_type": "markdown",
   "metadata": {},
   "source": [
    "Not work first"
   ]
  },
  {
   "cell_type": "code",
   "execution_count": 4,
   "metadata": {},
   "outputs": [],
   "source": [
    "int_codes_notwork = []\n",
    "for element in metadata_partitions['notwork']:\n",
    "    int_codes_notwork.append(int_codes[element])\n",
    "    \n",
    "    "
   ]
  },
  {
   "cell_type": "markdown",
   "metadata": {},
   "source": [
    "Choose randomly from the list"
   ]
  },
  {
   "cell_type": "code",
   "execution_count": 5,
   "metadata": {},
   "outputs": [],
   "source": [
    "import random\n",
    "not_work_random = random.sample(int_codes_notwork,100)"
   ]
  },
  {
   "cell_type": "markdown",
   "metadata": {},
   "source": [
    "Check if contains work"
   ]
  },
  {
   "cell_type": "code",
   "execution_count": 6,
   "metadata": {},
   "outputs": [
    {
     "name": "stdout",
     "output_type": "stream",
     "text": [
      "41188\n",
      "802829          camp forced labor\n",
      "802834    forced labor conditions\n",
      "Name: KeywordLabel, dtype: object\n",
      "466\n",
      "11460    camp forced labor\n",
      "Name: KeywordLabel, dtype: object\n",
      "36992\n",
      "733749    camp forced labor\n",
      "Name: KeywordLabel, dtype: object\n",
      "1521\n",
      "40895    camp forced labor\n",
      "Name: KeywordLabel, dtype: object\n",
      "9026\n",
      "213173    camp forced labor\n",
      "Name: KeywordLabel, dtype: object\n",
      "38957\n",
      "766166    camp forced labor\n",
      "Name: KeywordLabel, dtype: object\n"
     ]
    }
   ],
   "source": [
    "#df[df.IntCode==not_work_random].KeywordLabel.value_counts()\n",
    "for element in not_work_random:\n",
    "    random_df = df[df.IntCode==element]\n",
    "    if random_df[random_df['KeywordLabel'].str.contains('labor')].size >0:\n",
    "        print (element)\n",
    "        print (random_df[random_df['KeywordLabel'].str.contains('labor')]['KeywordLabel'])\n"
   ]
  },
  {
   "cell_type": "markdown",
   "metadata": {},
   "source": [
    "Work second"
   ]
  },
  {
   "cell_type": "code",
   "execution_count": 7,
   "metadata": {},
   "outputs": [],
   "source": [
    "int_codes_work = []\n",
    "for element in metadata_partitions['work']:\n",
    "    int_codes_work.append(int_codes[element])\n",
    "    \n",
    "    "
   ]
  },
  {
   "cell_type": "markdown",
   "metadata": {},
   "source": [
    "Choose randomly from the list"
   ]
  },
  {
   "cell_type": "code",
   "execution_count": 8,
   "metadata": {},
   "outputs": [],
   "source": [
    "import random\n",
    "work_random = random.sample(int_codes_work,100)"
   ]
  },
  {
   "cell_type": "markdown",
   "metadata": {},
   "source": [
    "Check if contains work"
   ]
  },
  {
   "cell_type": "code",
   "execution_count": 9,
   "metadata": {},
   "outputs": [
    {
     "name": "stdout",
     "output_type": "stream",
     "text": [
      "14878\n",
      "330416    camp construction forced labor\n",
      "330417                 camp forced labor\n",
      "Name: KeywordLabel, dtype: object\n",
      "33563\n",
      "675050                       armament forced labor\n",
      "675052                           camp forced labor\n",
      "675057                       armament forced labor\n",
      "675059                           camp forced labor\n",
      "675061    German forced labor civilian supervisors\n",
      "Name: KeywordLabel, dtype: object\n",
      "272\n",
      "7720                         camp forced labor\n",
      "7722    personal property sorting forced labor\n",
      "Name: KeywordLabel, dtype: object\n",
      "54679\n",
      "1045254                 camp forced labor\n",
      "1045257    road construction forced labor\n",
      "Name: KeywordLabel, dtype: object\n",
      "53590\n",
      "1014892          camp forced labor\n",
      "1014925       factory forced labor\n",
      "1014926    forced labor conditions\n",
      "Name: KeywordLabel, dtype: object\n",
      "53607\n",
      "1015655    arts-related forced labor\n",
      "Name: KeywordLabel, dtype: object\n",
      "8083\n",
      "191080     camp daily services forced labor\n",
      "191081                    camp forced labor\n",
      "191120                    camp forced labor\n",
      "191123    textiles and garment forced labor\n",
      "Name: KeywordLabel, dtype: object\n",
      "23970\n",
      "517113               camp forced labor\n",
      "517114    corpse disposal forced labor\n",
      "Name: KeywordLabel, dtype: object\n",
      "34608\n",
      "695842      camp forced labor\n",
      "695845    quarry forced labor\n",
      "Name: KeywordLabel, dtype: object\n",
      "28813\n",
      "600169    camp daily services forced labor\n",
      "600170                   camp forced labor\n",
      "600177                   camp forced labor\n",
      "600178                factory forced labor\n",
      "Name: KeywordLabel, dtype: object\n",
      "1066\n",
      "29528                 camp forced labor\n",
      "29532    road construction forced labor\n",
      "29567                 camp forced labor\n",
      "29572    camp construction forced labor\n",
      "29651                 camp forced labor\n",
      "Name: KeywordLabel, dtype: object\n",
      "15548\n",
      "344927    camp daily services forced labor\n",
      "344928                   camp forced labor\n",
      "Name: KeywordLabel, dtype: object\n",
      "8789\n",
      "207697    armament forced labor\n",
      "207699        camp forced labor\n",
      "Name: KeywordLabel, dtype: object\n",
      "10923\n",
      "250521           camp forced labor\n",
      "250526    translation forced labor\n",
      "Name: KeywordLabel, dtype: object\n",
      "39312\n",
      "771845    camp daily services forced labor\n",
      "771846                   camp forced labor\n",
      "Name: KeywordLabel, dtype: object\n",
      "45944\n",
      "878472               camp forced labor\n",
      "878473    corpse disposal forced labor\n",
      "Name: KeywordLabel, dtype: object\n",
      "21512\n",
      "467129    camp daily services forced labor\n",
      "467130                   camp forced labor\n",
      "Name: KeywordLabel, dtype: object\n",
      "16116\n",
      "357110          camp forced labor\n",
      "357111    forced labor conditions\n",
      "357115        quarry forced labor\n",
      "Name: KeywordLabel, dtype: object\n",
      "2096\n",
      "58400    camp daily services forced labor\n",
      "58401                   camp forced labor\n",
      "Name: KeywordLabel, dtype: object\n",
      "18961\n",
      "416834                   camp forced labor\n",
      "416839    camp daily services forced labor\n",
      "416866                   camp forced labor\n",
      "Name: KeywordLabel, dtype: object\n",
      "20228\n",
      "442023       camp forced labor\n",
      "442028     quarry forced labor\n",
      "442090       camp forced labor\n",
      "442091    medical forced labor\n",
      "Name: KeywordLabel, dtype: object\n",
      "52413\n",
      "996693        camp forced labor\n",
      "996708    armament forced labor\n",
      "996710        camp forced labor\n",
      "Name: KeywordLabel, dtype: object\n",
      "45199\n",
      "865051          camp forced labor\n",
      "865053       factory forced labor\n",
      "865054    forced labor conditions\n",
      "865081          camp forced labor\n",
      "865085       skilled forced labor\n",
      "Name: KeywordLabel, dtype: object\n",
      "50103\n",
      "949137                 camp forced labor\n",
      "949141    road construction forced labor\n",
      "Name: KeywordLabel, dtype: object\n",
      "46128\n",
      "881605    armament forced labor\n",
      "881607        camp forced labor\n",
      "Name: KeywordLabel, dtype: object\n",
      "6182\n",
      "154804       camp forced labor\n",
      "154805    medical forced labor\n",
      "154856       camp forced labor\n",
      "154857    medical forced labor\n",
      "154883       camp forced labor\n",
      "154884    medical forced labor\n",
      "Name: KeywordLabel, dtype: object\n",
      "224\n",
      "5806        camp forced labor\n",
      "5810    platform forced labor\n",
      "Name: KeywordLabel, dtype: object\n",
      "12928\n",
      "292567    camp daily services forced labor\n",
      "292568                   camp forced labor\n",
      "292592    camp daily services forced labor\n",
      "292593                   camp forced labor\n",
      "Name: KeywordLabel, dtype: object\n",
      "54437\n",
      "1038410    camp daily services forced labor\n",
      "1038411                   camp forced labor\n",
      "1038413           forced labor compensation\n",
      "1038431                   camp forced labor\n",
      "1038434                 quarry forced labor\n",
      "Name: KeywordLabel, dtype: object\n",
      "45273\n",
      "866219    agricultural forced labor\n",
      "866221            camp forced labor\n",
      "866222                 forced labor\n",
      "866234        armament forced labor\n",
      "866236            camp forced labor\n",
      "866267            camp forced labor\n",
      "866282    arts-related forced labor\n",
      "Name: KeywordLabel, dtype: object\n",
      "15450\n",
      "343145                 camp forced labor\n",
      "343147    personal services forced labor\n",
      "343252                 camp forced labor\n",
      "343255             railroad forced labor\n",
      "Name: KeywordLabel, dtype: object\n",
      "55736\n",
      "1064194    gas chamber cleaning forced labor\n",
      "1064211    gas chamber cleaning forced labor\n",
      "1064262        camp maintenance forced labor\n",
      "1064328     camp daily services forced labor\n",
      "Name: KeywordLabel, dtype: object\n",
      "13982\n",
      "313219                         camp forced labor\n",
      "313220                      medical forced labor\n",
      "313225                         camp forced labor\n",
      "313231                       quarry forced labor\n",
      "313243                         camp forced labor\n",
      "313246    personal property sorting forced labor\n",
      "Name: KeywordLabel, dtype: object\n",
      "1626\n",
      "43789    camp daily services forced labor\n",
      "43790                   camp forced labor\n",
      "Name: KeywordLabel, dtype: object\n",
      "22746\n",
      "490975                         camp forced labor\n",
      "490977    personal property sorting forced labor\n",
      "Name: KeywordLabel, dtype: object\n",
      "25852\n",
      "549689            camp forced labor\n",
      "549690    construction forced labor\n",
      "Name: KeywordLabel, dtype: object\n",
      "46452\n",
      "886999                      camp forced labor\n",
      "887000    military fortification forced labor\n",
      "887038                  armament forced labor\n",
      "887040                      camp forced labor\n",
      "Name: KeywordLabel, dtype: object\n",
      "45443\n",
      "869464    agricultural forced labor\n",
      "869466            camp forced labor\n",
      "869526    agricultural forced labor\n",
      "869528            camp forced labor\n",
      "869529      forced labor conditions\n",
      "869549      forced labor conditions\n",
      "Name: KeywordLabel, dtype: object\n",
      "29663\n",
      "615414    agricultural forced labor\n",
      "Name: KeywordLabel, dtype: object\n",
      "6248\n",
      "156095                         camp forced labor\n",
      "156098    personal property sorting forced labor\n",
      "Name: KeywordLabel, dtype: object\n",
      "18561\n",
      "407248          collaborator treatment\n",
      "407295               camp forced labor\n",
      "407296    corpse disposal forced labor\n",
      "Name: KeywordLabel, dtype: object\n",
      "35516\n",
      "709120                 camp forced labor\n",
      "709122    personal services forced labor\n",
      "Name: KeywordLabel, dtype: object\n",
      "41280\n",
      "804270            camp forced labor\n",
      "804271    construction forced labor\n",
      "Name: KeywordLabel, dtype: object\n",
      "16484\n",
      "364171                camp forced labor\n",
      "364172    camp maintenance forced labor\n",
      "Name: KeywordLabel, dtype: object\n",
      "12167\n",
      "276829    armament forced labor\n",
      "276831        camp forced labor\n",
      "Name: KeywordLabel, dtype: object\n",
      "20237\n",
      "442639    camp daily services forced labor\n",
      "442640                   camp forced labor\n",
      "Name: KeywordLabel, dtype: object\n",
      "9820\n",
      "228754    camp daily services forced labor\n",
      "228755                   camp forced labor\n",
      "Name: KeywordLabel, dtype: object\n",
      "15938\n",
      "351821                         camp forced labor\n",
      "351824    personal property sorting forced labor\n",
      "351867                         camp forced labor\n",
      "351871    personal property sorting forced labor\n",
      "Name: KeywordLabel, dtype: object\n",
      "16131\n",
      "357179                      camp forced labor\n",
      "357180           corpse disposal forced labor\n",
      "357187    military fortification forced labor\n",
      "Name: KeywordLabel, dtype: object\n",
      "57711\n",
      "1067228    armament forced labor\n",
      "1067230        camp forced labor\n",
      "1067231     factory forced labor\n",
      "1067248    armament forced labor\n",
      "1067250        camp forced labor\n",
      "Name: KeywordLabel, dtype: object\n",
      "22485\n",
      "484922                    camp forced labor\n",
      "484925    textiles and garment forced labor\n",
      "484941     camp daily services forced labor\n",
      "484942                    camp forced labor\n",
      "484964                    camp forced labor\n",
      "Name: KeywordLabel, dtype: object\n",
      "54750\n",
      "1047346                    camp forced labor\n",
      "1047348              forced labor conditions\n",
      "1047353    waterway maintenance forced labor\n",
      "1047393                armament forced labor\n",
      "1047395                    camp forced labor\n",
      "1047397              forced labor conditions\n",
      "1047411                armament forced labor\n",
      "1047413                    camp forced labor\n",
      "1047416    forced labor civilian supervisors\n",
      "1047423              forced labor conditions\n",
      "1047436                armament forced labor\n",
      "1047438                    camp forced labor\n",
      "1047441              forced labor conditions\n",
      "1047471    forced labor civilian supervisors\n",
      "Name: KeywordLabel, dtype: object\n",
      "207\n",
      "5285                         camp forced labor\n",
      "5289    personal property sorting forced labor\n",
      "5329                         camp forced labor\n",
      "5332            road construction forced labor\n",
      "Name: KeywordLabel, dtype: object\n",
      "31815\n",
      "646333    prisoner hair cutting forced labor\n",
      "646356                     camp forced labor\n",
      "646367                     camp forced labor\n",
      "646368          corpse disposal forced labor\n",
      "Name: KeywordLabel, dtype: object\n",
      "48180\n",
      "914289                    camp forced labor\n",
      "914291    forced labor civilian supervisors\n",
      "914293                platform forced labor\n",
      "Name: KeywordLabel, dtype: object\n",
      "32982\n",
      "666244    air raid cleanup forced labor\n",
      "666246                camp forced labor\n",
      "Name: KeywordLabel, dtype: object\n",
      "54231\n",
      "1030709                         camp forced labor\n",
      "1030715    personal property sorting forced labor\n",
      "1030758                         camp forced labor\n",
      "1030763         textiles and garment forced labor\n",
      "1030769                         camp forced labor\n",
      "1030774         textiles and garment forced labor\n",
      "Name: KeywordLabel, dtype: object\n",
      "40646\n",
      "791982                     armament forced labor\n",
      "791984                         camp forced labor\n",
      "792026          camp daily services forced labor\n",
      "792027                         camp forced labor\n",
      "792041                         camp forced labor\n",
      "792043    personal property sorting forced labor\n",
      "Name: KeywordLabel, dtype: object\n",
      "50677\n",
      "962284                         camp forced labor\n",
      "962287        prisoner hair cutting forced labor\n",
      "962305                         camp forced labor\n",
      "962307    personal property sorting forced labor\n",
      "962330                         camp forced labor\n",
      "962334         textiles and garment forced labor\n",
      "Name: KeywordLabel, dtype: object\n",
      "41976\n",
      "813497    camp daily services forced labor\n",
      "813499                   camp forced labor\n",
      "Name: KeywordLabel, dtype: object\n",
      "22165\n",
      "479403    armament forced labor\n",
      "479405        camp forced labor\n",
      "Name: KeywordLabel, dtype: object\n",
      "22881\n",
      "494129        camp forced labor\n",
      "494131    platform forced labor\n",
      "Name: KeywordLabel, dtype: object\n",
      "54261\n",
      "1031758           camp forced labor\n",
      "1031769    translation forced labor\n",
      "Name: KeywordLabel, dtype: object\n",
      "38273\n",
      "753506    camp daily services forced labor\n",
      "753507                   camp forced labor\n",
      "Name: KeywordLabel, dtype: object\n",
      "22901\n",
      "494660           agricultural forced labor\n",
      "494664                   camp forced labor\n",
      "494665                factory forced labor\n",
      "494667               platform forced labor\n",
      "494704    camp daily services forced labor\n",
      "494705                   camp forced labor\n",
      "494733                   camp forced labor\n",
      "494734                factory forced labor\n",
      "Name: KeywordLabel, dtype: object\n",
      "18927\n",
      "416283    camp daily services forced labor\n",
      "416284                   camp forced labor\n",
      "Name: KeywordLabel, dtype: object\n",
      "49813\n",
      "944083    camp daily services forced labor\n",
      "944085                   camp forced labor\n",
      "944100               armament forced labor\n",
      "944104                   camp forced labor\n",
      "944118               armament forced labor\n",
      "944120                   camp forced labor\n",
      "Name: KeywordLabel, dtype: object\n"
     ]
    },
    {
     "name": "stdout",
     "output_type": "stream",
     "text": [
      "9902\n",
      "231018               camp forced labor\n",
      "231019       construction forced labor\n",
      "231046    forced labor business owners\n",
      "Name: KeywordLabel, dtype: object\n",
      "51069\n",
      "971866                    camp forced labor\n",
      "971871                  quarry forced labor\n",
      "971879    textiles and garment forced labor\n",
      "Name: KeywordLabel, dtype: object\n",
      "51631\n",
      "985619    camp daily services forced labor\n",
      "985620                   camp forced labor\n",
      "Name: KeywordLabel, dtype: object\n",
      "44316\n",
      "848345    personal property sorting forced labor\n",
      "848347                       quarry forced labor\n",
      "848348         textiles and garment forced labor\n",
      "Name: KeywordLabel, dtype: object\n",
      "13532\n",
      "302726                         camp forced labor\n",
      "302729                       quarry forced labor\n",
      "302752          camp daily services forced labor\n",
      "302753                         camp forced labor\n",
      "302763                         camp forced labor\n",
      "302766    personal property sorting forced labor\n",
      "Name: KeywordLabel, dtype: object\n",
      "20820\n",
      "452987                      camp forced labor\n",
      "452989    military fortification forced labor\n",
      "Name: KeywordLabel, dtype: object\n",
      "279\n",
      "7820    camp daily services forced labor\n",
      "7821                   camp forced labor\n",
      "Name: KeywordLabel, dtype: object\n",
      "13922\n",
      "310584                         camp forced labor\n",
      "310589                     railroad forced labor\n",
      "310609                         camp forced labor\n",
      "310612    personal property sorting forced labor\n",
      "310704                         camp forced labor\n",
      "310705                     forestry forced labor\n",
      "Name: KeywordLabel, dtype: object\n",
      "17667\n",
      "388746                 camp forced labor\n",
      "388749    personal services forced labor\n",
      "Name: KeywordLabel, dtype: object\n",
      "34096\n",
      "684115    camp construction forced labor\n",
      "684116                 camp forced labor\n",
      "Name: KeywordLabel, dtype: object\n",
      "19936\n",
      "434916    camp daily services forced labor\n",
      "434917                   camp forced labor\n",
      "Name: KeywordLabel, dtype: object\n",
      "48982\n",
      "933973               camp forced labor\n",
      "933974    corpse disposal forced labor\n",
      "933989               camp forced labor\n",
      "933990    corpse disposal forced labor\n",
      "Name: KeywordLabel, dtype: object\n",
      "45523\n",
      "871051    camp daily services forced labor\n",
      "871052                   camp forced labor\n",
      "Name: KeywordLabel, dtype: object\n",
      "780\n",
      "22395    camp daily services forced labor\n",
      "22396                   camp forced labor\n",
      "22433                   camp forced labor\n",
      "22435                 mining forced labor\n",
      "Name: KeywordLabel, dtype: object\n",
      "4884\n",
      "126712    armament forced labor\n",
      "126714        camp forced labor\n",
      "Name: KeywordLabel, dtype: object\n",
      "48563\n",
      "924205                 camp forced labor\n",
      "924208               quarry forced labor\n",
      "924209    road construction forced labor\n",
      "Name: KeywordLabel, dtype: object\n",
      "6123\n",
      "153204            camp forced labor\n",
      "153205    construction forced labor\n",
      "Name: KeywordLabel, dtype: object\n",
      "25032\n",
      "535707    armament forced labor\n",
      "535709        camp forced labor\n",
      "Name: KeywordLabel, dtype: object\n",
      "45560\n",
      "871947    camp daily services forced labor\n",
      "871948                   camp forced labor\n",
      "872050                   camp forced labor\n",
      "872057      personal services forced labor\n",
      "872076                   camp forced labor\n",
      "872081      personal services forced labor\n",
      "872093                   camp forced labor\n",
      "872098      personal services forced labor\n",
      "Name: KeywordLabel, dtype: object\n",
      "12003\n",
      "273516                    camp forced labor\n",
      "273519    textiles and garment forced labor\n",
      "Name: KeywordLabel, dtype: object\n",
      "9793\n",
      "228128                    camp forced labor\n",
      "228132    textiles and garment forced labor\n",
      "228149     camp daily services forced labor\n",
      "228150                    camp forced labor\n",
      "Name: KeywordLabel, dtype: object\n",
      "8036\n",
      "190142    camp daily services forced labor\n",
      "190143                   camp forced labor\n",
      "Name: KeywordLabel, dtype: object\n",
      "46308\n",
      "885002      armament forced labor\n",
      "885005          camp forced labor\n",
      "885014      armament forced labor\n",
      "885017          camp forced labor\n",
      "885018    forced labor conditions\n",
      "Name: KeywordLabel, dtype: object\n",
      "11302\n",
      "258657           agricultural forced labor\n",
      "258659                   camp forced labor\n",
      "258667             forced labor conditions\n",
      "258684    camp daily services forced labor\n",
      "258685                   camp forced labor\n",
      "258686             forced labor conditions\n",
      "258708    camp daily services forced labor\n",
      "258710                   camp forced labor\n",
      "258711             forced labor conditions\n",
      "Name: KeywordLabel, dtype: object\n",
      "54262\n",
      "1031936       camp forced labor\n",
      "1031939    medical forced labor\n",
      "Name: KeywordLabel, dtype: object\n",
      "48964\n",
      "933637            camp forced labor\n",
      "933638    construction forced labor\n",
      "933646            camp forced labor\n",
      "933647        forestry forced labor\n",
      "933676            camp forced labor\n",
      "933677      forced labor conditions\n",
      "Name: KeywordLabel, dtype: object\n",
      "55180\n",
      "1056494    armament forced labor\n",
      "1056496        camp forced labor\n",
      "Name: KeywordLabel, dtype: object\n",
      "28432\n",
      "593062        camp forced labor\n",
      "593066    railroad forced labor\n",
      "Name: KeywordLabel, dtype: object\n",
      "15526\n",
      "344663    agricultural forced labor\n",
      "344665            camp forced labor\n",
      "Name: KeywordLabel, dtype: object\n",
      "43821\n",
      "839463    camp daily services forced labor\n",
      "839464                   camp forced labor\n",
      "839506               armament forced labor\n",
      "839508                   camp forced labor\n",
      "Name: KeywordLabel, dtype: object\n",
      "38213\n",
      "752872    camp daily services forced labor\n",
      "752873                   camp forced labor\n",
      "752874             forced labor conditions\n",
      "752891               armament forced labor\n",
      "752893                   camp forced labor\n",
      "752900             forced labor conditions\n",
      "752913             forced labor conditions\n",
      "Name: KeywordLabel, dtype: object\n",
      "10831\n",
      "248841                         camp forced labor\n",
      "248843    personal property sorting forced labor\n",
      "Name: KeywordLabel, dtype: object\n",
      "39608\n",
      "776175    personal property sorting forced labor\n",
      "776308                         camp forced labor\n",
      "776311                       quarry forced labor\n",
      "Name: KeywordLabel, dtype: object\n"
     ]
    }
   ],
   "source": [
    "#df[df.IntCode==not_work_random].KeywordLabel.value_counts()\n",
    "for element in work_random:\n",
    "    random_df = df[df.IntCode==element]\n",
    "    if random_df[random_df['KeywordLabel'].str.contains('labor')].size >0:\n",
    "        print (element)\n",
    "        print (random_df[random_df['KeywordLabel'].str.contains('labor')]['KeywordLabel'])\n"
   ]
  },
  {
   "cell_type": "markdown",
   "metadata": {},
   "source": [
    "## Check the segment keyword matrix"
   ]
  },
  {
   "cell_type": "code",
   "execution_count": 10,
   "metadata": {},
   "outputs": [],
   "source": [
    "index_social_bond = features_df.KeywordLabel.to_list().index('social bonds')"
   ]
  },
  {
   "cell_type": "markdown",
   "metadata": {},
   "source": [
    "First not work"
   ]
  },
  {
   "cell_type": "code",
   "execution_count": 11,
   "metadata": {},
   "outputs": [],
   "source": [
    "seg_keyword = np.take(data,metadata_partitions['notwork'])"
   ]
  },
  {
   "cell_type": "code",
   "execution_count": 12,
   "metadata": {},
   "outputs": [],
   "source": [
    "assert len(seg_keyword) == len(int_codes_notwork)"
   ]
  },
  {
   "cell_type": "markdown",
   "metadata": {},
   "source": [
    "Check how many times a person mentions social bonds on average"
   ]
  },
  {
   "cell_type": "code",
   "execution_count": 13,
   "metadata": {},
   "outputs": [],
   "source": [
    "counts = []\n",
    "for element in seg_keyword:\n",
    "    counts.append(np.nonzero(element[:,index_social_bond])[0].shape[0])\n",
    "df_counts = pd.DataFrame(counts)"
   ]
  },
  {
   "cell_type": "markdown",
   "metadata": {},
   "source": [
    "Percentage of those who mention it at least once"
   ]
  },
  {
   "cell_type": "code",
   "execution_count": 14,
   "metadata": {},
   "outputs": [
    {
     "data": {
      "text/plain": [
       "14.968279143536876"
      ]
     },
     "execution_count": 14,
     "metadata": {},
     "output_type": "execute_result"
    }
   ],
   "source": [
    "len(df_counts[df_counts[0]>0])/len(df_counts)*100"
   ]
  },
  {
   "cell_type": "code",
   "execution_count": 15,
   "metadata": {},
   "outputs": [
    {
     "data": {
      "text/plain": [
       "755"
      ]
     },
     "execution_count": 15,
     "metadata": {},
     "output_type": "execute_result"
    }
   ],
   "source": [
    "len(df_counts[df_counts[0]>0])"
   ]
  },
  {
   "cell_type": "code",
   "execution_count": 16,
   "metadata": {},
   "outputs": [],
   "source": [
    "percentage_mentioning_at_least_one_count_notwork=len(df_counts[df_counts[0]>0])/len(df_counts)*100"
   ]
  },
  {
   "cell_type": "markdown",
   "metadata": {},
   "source": [
    "Total number of mentioning social bonds"
   ]
  },
  {
   "cell_type": "code",
   "execution_count": 17,
   "metadata": {},
   "outputs": [
    {
     "data": {
      "text/plain": [
       "1013"
      ]
     },
     "execution_count": 17,
     "metadata": {},
     "output_type": "execute_result"
    }
   ],
   "source": [
    "df_counts[0].sum()"
   ]
  },
  {
   "cell_type": "code",
   "execution_count": 18,
   "metadata": {},
   "outputs": [],
   "source": [
    "total_n_mentioning_social_bonds_notwork = df_counts[0].sum()"
   ]
  },
  {
   "cell_type": "markdown",
   "metadata": {},
   "source": [
    "Then check work"
   ]
  },
  {
   "cell_type": "code",
   "execution_count": 19,
   "metadata": {},
   "outputs": [],
   "source": [
    "seg_keyword = np.take(data,metadata_partitions['work'])"
   ]
  },
  {
   "cell_type": "code",
   "execution_count": 20,
   "metadata": {},
   "outputs": [],
   "source": [
    "assert len(seg_keyword) == len(int_codes_work)"
   ]
  },
  {
   "cell_type": "markdown",
   "metadata": {},
   "source": [
    "Check how many times a person mentions social bonds on average"
   ]
  },
  {
   "cell_type": "code",
   "execution_count": 21,
   "metadata": {},
   "outputs": [],
   "source": [
    "counts = []\n",
    "for element in seg_keyword:\n",
    "    counts.append(np.nonzero(element[:,index_social_bond])[0].shape[0])\n",
    "df_counts = pd.DataFrame(counts)"
   ]
  },
  {
   "cell_type": "code",
   "execution_count": 22,
   "metadata": {},
   "outputs": [
    {
     "data": {
      "text/html": [
       "<div>\n",
       "<style scoped>\n",
       "    .dataframe tbody tr th:only-of-type {\n",
       "        vertical-align: middle;\n",
       "    }\n",
       "\n",
       "    .dataframe tbody tr th {\n",
       "        vertical-align: top;\n",
       "    }\n",
       "\n",
       "    .dataframe thead th {\n",
       "        text-align: right;\n",
       "    }\n",
       "</style>\n",
       "<table border=\"1\" class=\"dataframe\">\n",
       "  <thead>\n",
       "    <tr style=\"text-align: right;\">\n",
       "      <th></th>\n",
       "      <th>0</th>\n",
       "    </tr>\n",
       "  </thead>\n",
       "  <tbody>\n",
       "    <tr>\n",
       "      <th>count</th>\n",
       "      <td>1584.000000</td>\n",
       "    </tr>\n",
       "    <tr>\n",
       "      <th>mean</th>\n",
       "      <td>0.455808</td>\n",
       "    </tr>\n",
       "    <tr>\n",
       "      <th>std</th>\n",
       "      <td>0.965909</td>\n",
       "    </tr>\n",
       "    <tr>\n",
       "      <th>min</th>\n",
       "      <td>0.000000</td>\n",
       "    </tr>\n",
       "    <tr>\n",
       "      <th>25%</th>\n",
       "      <td>0.000000</td>\n",
       "    </tr>\n",
       "    <tr>\n",
       "      <th>50%</th>\n",
       "      <td>0.000000</td>\n",
       "    </tr>\n",
       "    <tr>\n",
       "      <th>75%</th>\n",
       "      <td>1.000000</td>\n",
       "    </tr>\n",
       "    <tr>\n",
       "      <th>max</th>\n",
       "      <td>10.000000</td>\n",
       "    </tr>\n",
       "  </tbody>\n",
       "</table>\n",
       "</div>"
      ],
      "text/plain": [
       "                 0\n",
       "count  1584.000000\n",
       "mean      0.455808\n",
       "std       0.965909\n",
       "min       0.000000\n",
       "25%       0.000000\n",
       "50%       0.000000\n",
       "75%       1.000000\n",
       "max      10.000000"
      ]
     },
     "execution_count": 22,
     "metadata": {},
     "output_type": "execute_result"
    }
   ],
   "source": [
    "df_counts.describe()"
   ]
  },
  {
   "cell_type": "markdown",
   "metadata": {},
   "source": [
    "Percentage of those who mention it at least once"
   ]
  },
  {
   "cell_type": "code",
   "execution_count": 23,
   "metadata": {},
   "outputs": [],
   "source": [
    "percentage_mentioning_at_least_one_count_work=len(df_counts[df_counts[0]>0])/len(df_counts)*100"
   ]
  },
  {
   "cell_type": "code",
   "execution_count": 24,
   "metadata": {},
   "outputs": [
    {
     "data": {
      "text/plain": [
       "434"
      ]
     },
     "execution_count": 24,
     "metadata": {},
     "output_type": "execute_result"
    }
   ],
   "source": [
    "len(df_counts[df_counts[0]>0])"
   ]
  },
  {
   "cell_type": "markdown",
   "metadata": {},
   "source": [
    "Total number of mentioning social bonds"
   ]
  },
  {
   "cell_type": "code",
   "execution_count": 25,
   "metadata": {},
   "outputs": [
    {
     "data": {
      "text/plain": [
       "722"
      ]
     },
     "execution_count": 25,
     "metadata": {},
     "output_type": "execute_result"
    }
   ],
   "source": [
    "df_counts[0].sum()"
   ]
  },
  {
   "cell_type": "code",
   "execution_count": 26,
   "metadata": {},
   "outputs": [],
   "source": [
    "total_n_mentioning_social_bonds_work = df_counts[0].sum()"
   ]
  },
  {
   "cell_type": "markdown",
   "metadata": {},
   "source": [
    "## Check the markov training"
   ]
  },
  {
   "cell_type": "code",
   "execution_count": 27,
   "metadata": {},
   "outputs": [],
   "source": [
    "from markov_modelling import markov_utils as mu"
   ]
  },
  {
   "cell_type": "markdown",
   "metadata": {},
   "source": [
    "First those who worked"
   ]
  },
  {
   "cell_type": "code",
   "execution_count": 28,
   "metadata": {},
   "outputs": [],
   "source": [
    "seg_keyword = np.take(data,metadata_partitions['work'])\n",
    "trajs = mu.estimate_fuzzy_trajectories(seg_keyword)"
   ]
  },
  {
   "cell_type": "markdown",
   "metadata": {},
   "source": [
    "Check how many times social bonds occur"
   ]
  },
  {
   "cell_type": "code",
   "execution_count": 29,
   "metadata": {},
   "outputs": [],
   "source": [
    "n=0\n",
    "row_occurrences_work = 0\n",
    "for traj in trajs:\n",
    "    if index_social_bond in traj:\n",
    "        n+=1\n",
    "        occurrences = np.count_nonzero(traj == index_social_bond)\n",
    "        row_occurrences_work = row_occurrences_work+occurrences\n",
    "\n",
    "    \n",
    "    "
   ]
  },
  {
   "cell_type": "markdown",
   "metadata": {},
   "source": [
    "Total number of trajectories where social bonds mentioned at least once  "
   ]
  },
  {
   "cell_type": "code",
   "execution_count": 30,
   "metadata": {},
   "outputs": [
    {
     "name": "stdout",
     "output_type": "stream",
     "text": [
      "0.1905050505050505\n"
     ]
    }
   ],
   "source": [
    "print (n/len(trajs))"
   ]
  },
  {
   "cell_type": "code",
   "execution_count": 31,
   "metadata": {},
   "outputs": [],
   "source": [
    "percentage_traj_mentionining_once_to_total_work = (n/len(trajs))*100"
   ]
  },
  {
   "cell_type": "code",
   "execution_count": 32,
   "metadata": {},
   "outputs": [
    {
     "data": {
      "text/plain": [
       "0.1905050505050505"
      ]
     },
     "execution_count": 32,
     "metadata": {},
     "output_type": "execute_result"
    }
   ],
   "source": [
    "n/len(trajs)"
   ]
  },
  {
   "cell_type": "markdown",
   "metadata": {},
   "source": [
    "Estimate the Markov model1"
   ]
  },
  {
   "cell_type": "code",
   "execution_count": 33,
   "metadata": {},
   "outputs": [],
   "source": [
    "msm_work = mu.estimate_markov_model_from_trajectories(trajs)"
   ]
  },
  {
   "cell_type": "code",
   "execution_count": 188,
   "metadata": {},
   "outputs": [
    {
     "name": "stdout",
     "output_type": "stream",
     "text": [
      "64\n",
      "[  8  65  83  18 105  29  73  67  25  58  36  87  41 101  47 107  95 106\n",
      "  31  93   3  71  96  68  23  79  28  61  66  38  92   6  24  15  42  54\n",
      "  74  57  48  50  35 108  19   7  53   2  27  14   0  32 100  94  17  76\n",
      "  49  97  37  59  26 109  56  63  34  99  80  11  86  82  55  12  81   4\n",
      "  70  10  98  43  77  64  45 104  22  85  91  30  78  21  44  90  20  88\n",
      "  72  84  51  39  33  75 103   5  69  13 102   1   9  89  40  16 110  52\n",
      "  62  60  46]\n",
      "food acquisition\n"
     ]
    }
   ],
   "source": [
    "index = features_df.KeywordLabel.to_list().index('living conditions')\n",
    "print (index)\n",
    "initial = np.zeros(111)\n",
    "initial[index]=1\n",
    "result = msm_work.propagate(initial,1)[::-1]\n",
    "print(np.argsort(result))\n",
    "print(features_df.KeywordLabel.to_list()[np.argsort(result)[-1]])"
   ]
  },
  {
   "cell_type": "markdown",
   "metadata": {},
   "source": [
    "Then those who did not work"
   ]
  },
  {
   "cell_type": "code",
   "execution_count": 34,
   "metadata": {},
   "outputs": [],
   "source": [
    "seg_keyword = np.take(data,metadata_partitions['notwork'])\n",
    "trajs = mu.estimate_fuzzy_trajectories(seg_keyword)\n",
    "msm_notwork = mu.estimate_markov_model_from_trajectories(trajs)"
   ]
  },
  {
   "cell_type": "markdown",
   "metadata": {},
   "source": [
    "Check how many times social bonds occur"
   ]
  },
  {
   "cell_type": "code",
   "execution_count": 35,
   "metadata": {},
   "outputs": [],
   "source": [
    "n=0\n",
    "row_occurrences_notwork = 0\n",
    "for traj in trajs:\n",
    "    if index_social_bond in traj:\n",
    "        n+=1\n",
    "        occurrences = np.count_nonzero(traj == index_social_bond)\n",
    "        row_occurrences_notwork = row_occurrences_notwork+occurrences\n",
    "\n",
    "    "
   ]
  },
  {
   "cell_type": "markdown",
   "metadata": {},
   "source": [
    "Total number of trajectories where social bonds mentioned at least once"
   ]
  },
  {
   "cell_type": "code",
   "execution_count": 36,
   "metadata": {},
   "outputs": [
    {
     "name": "stdout",
     "output_type": "stream",
     "text": [
      "13009\n"
     ]
    }
   ],
   "source": [
    "print (n)"
   ]
  },
  {
   "cell_type": "code",
   "execution_count": 37,
   "metadata": {},
   "outputs": [
    {
     "name": "stdout",
     "output_type": "stream",
     "text": [
      "0.10316415543219667\n"
     ]
    }
   ],
   "source": [
    "print (n/len(trajs))"
   ]
  },
  {
   "cell_type": "code",
   "execution_count": 38,
   "metadata": {},
   "outputs": [],
   "source": [
    "percentage_traj_mentionining_once_to_total_notwork = n/len(trajs)*100"
   ]
  },
  {
   "cell_type": "code",
   "execution_count": 39,
   "metadata": {},
   "outputs": [],
   "source": [
    "ratio_mentioning_trajs_total_trajs_not_work = n/len(trajs)"
   ]
  },
  {
   "cell_type": "code",
   "execution_count": 40,
   "metadata": {},
   "outputs": [
    {
     "data": {
      "text/plain": [
       "(110,)"
      ]
     },
     "execution_count": 40,
     "metadata": {},
     "output_type": "execute_result"
    }
   ],
   "source": [
    "msm_notwork.pi.shape"
   ]
  },
  {
   "cell_type": "code",
   "execution_count": 41,
   "metadata": {},
   "outputs": [
    {
     "data": {
      "text/plain": [
       "(111,)"
      ]
     },
     "execution_count": 41,
     "metadata": {},
     "output_type": "execute_result"
    }
   ],
   "source": [
    "msm_work.pi.shape"
   ]
  },
  {
   "cell_type": "code",
   "execution_count": 42,
   "metadata": {},
   "outputs": [
    {
     "data": {
      "text/plain": [
       "97"
      ]
     },
     "execution_count": 42,
     "metadata": {},
     "output_type": "execute_result"
    }
   ],
   "source": [
    "index_social_bond"
   ]
  },
  {
   "cell_type": "markdown",
   "metadata": {},
   "source": [
    "Compare stationary probabilities"
   ]
  },
  {
   "cell_type": "code",
   "execution_count": 43,
   "metadata": {},
   "outputs": [],
   "source": [
    "pi_social_bonds_work=msm_work.pi[msm_work._full2active[index_social_bond]]"
   ]
  },
  {
   "cell_type": "code",
   "execution_count": 44,
   "metadata": {},
   "outputs": [],
   "source": [
    "pi_social_bonds_notwork=msm_notwork.pi[msm_notwork._full2active[index_social_bond]]"
   ]
  },
  {
   "cell_type": "markdown",
   "metadata": {},
   "source": [
    "# Problem"
   ]
  },
  {
   "cell_type": "markdown",
   "metadata": {},
   "source": [
    "- 27% of the working people mention social bonds at least once\n",
    "- 15% of the non working people mention social bonds at least once\n",
    "- this explains why the Fisher test tells that 'social bonds' is more associated with the working people\n",
    "- 10.3% of the trajectories of those who did not work include 'social bonds' at least once\n",
    "- 18.8% of the trajectories of those who worked include 'social bonds' at least once\n",
    "- The ratios are more or less the same\n",
    " \n",
    "**BUT**\n",
    "\n",
    "- but when stationary probabilities are compared, the stationary probability of social bonds in the non working is higher than the stationary prob of work"
   ]
  },
  {
   "cell_type": "code",
   "execution_count": 45,
   "metadata": {},
   "outputs": [
    {
     "data": {
      "text/plain": [
       "27.3989898989899"
      ]
     },
     "execution_count": 45,
     "metadata": {},
     "output_type": "execute_result"
    }
   ],
   "source": [
    "percentage_mentioning_at_least_one_count_work"
   ]
  },
  {
   "cell_type": "code",
   "execution_count": 46,
   "metadata": {},
   "outputs": [
    {
     "data": {
      "text/plain": [
       "14.968279143536876"
      ]
     },
     "execution_count": 46,
     "metadata": {},
     "output_type": "execute_result"
    }
   ],
   "source": [
    "percentage_mentioning_at_least_one_count_notwork"
   ]
  },
  {
   "cell_type": "code",
   "execution_count": 47,
   "metadata": {},
   "outputs": [
    {
     "data": {
      "text/plain": [
       "10.316415543219668"
      ]
     },
     "execution_count": 47,
     "metadata": {},
     "output_type": "execute_result"
    }
   ],
   "source": [
    "percentage_traj_mentionining_once_to_total_notwork"
   ]
  },
  {
   "cell_type": "code",
   "execution_count": 48,
   "metadata": {},
   "outputs": [
    {
     "data": {
      "text/plain": [
       "19.050505050505052"
      ]
     },
     "execution_count": 48,
     "metadata": {},
     "output_type": "execute_result"
    }
   ],
   "source": [
    "percentage_traj_mentionining_once_to_total_work"
   ]
  },
  {
   "cell_type": "code",
   "execution_count": 49,
   "metadata": {},
   "outputs": [
    {
     "data": {
      "text/plain": [
       "True"
      ]
     },
     "execution_count": 49,
     "metadata": {},
     "output_type": "execute_result"
    }
   ],
   "source": [
    "percentage_mentioning_at_least_one_count_work > percentage_mentioning_at_least_one_count_notwork\n"
   ]
  },
  {
   "cell_type": "code",
   "execution_count": 50,
   "metadata": {},
   "outputs": [
    {
     "data": {
      "text/plain": [
       "True"
      ]
     },
     "execution_count": 50,
     "metadata": {},
     "output_type": "execute_result"
    }
   ],
   "source": [
    "percentage_traj_mentionining_once_to_total_work > percentage_traj_mentionining_once_to_total_notwork"
   ]
  },
  {
   "cell_type": "code",
   "execution_count": 51,
   "metadata": {},
   "outputs": [
    {
     "data": {
      "text/plain": [
       "1.8304702655696032"
      ]
     },
     "execution_count": 51,
     "metadata": {},
     "output_type": "execute_result"
    }
   ],
   "source": [
    "percentage_mentioning_at_least_one_count_work / percentage_mentioning_at_least_one_count_notwork"
   ]
  },
  {
   "cell_type": "code",
   "execution_count": 52,
   "metadata": {},
   "outputs": [
    {
     "data": {
      "text/plain": [
       "1.8466205602803343"
      ]
     },
     "execution_count": 52,
     "metadata": {},
     "output_type": "execute_result"
    }
   ],
   "source": [
    "percentage_traj_mentionining_once_to_total_work / percentage_traj_mentionining_once_to_total_notwork"
   ]
  },
  {
   "cell_type": "code",
   "execution_count": 53,
   "metadata": {},
   "outputs": [
    {
     "data": {
      "text/plain": [
       "True"
      ]
     },
     "execution_count": 53,
     "metadata": {},
     "output_type": "execute_result"
    }
   ],
   "source": [
    "pi_social_bonds_notwork > pi_social_bonds_work"
   ]
  },
  {
   "cell_type": "code",
   "execution_count": 54,
   "metadata": {},
   "outputs": [
    {
     "data": {
      "text/plain": [
       "1.124636090653183"
      ]
     },
     "execution_count": 54,
     "metadata": {},
     "output_type": "execute_result"
    }
   ],
   "source": [
    "pi_social_bonds_notwork / pi_social_bonds_work"
   ]
  },
  {
   "cell_type": "code",
   "execution_count": null,
   "metadata": {},
   "outputs": [],
   "source": []
  }
 ],
 "metadata": {
  "kernelspec": {
   "display_name": "Python 3",
   "language": "python",
   "name": "python3"
  },
  "language_info": {
   "codemirror_mode": {
    "name": "ipython",
    "version": 3
   },
   "file_extension": ".py",
   "mimetype": "text/x-python",
   "name": "python",
   "nbconvert_exporter": "python",
   "pygments_lexer": "ipython3",
   "version": "3.7.2"
  }
 },
 "nbformat": 4,
 "nbformat_minor": 2
}

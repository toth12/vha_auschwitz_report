{
 "cells": [
  {
   "cell_type": "code",
   "execution_count": 66,
   "metadata": {},
   "outputs": [],
   "source": [
    "import pyemma\n",
    "import tables\n",
    "import numpy as np\n",
    "import pandas as pd\n",
    "import matplotlib.pyplot as plt\n",
    "import json\n",
    "from tqdm.auto import tqdm"
   ]
  },
  {
   "cell_type": "code",
   "execution_count": 67,
   "metadata": {},
   "outputs": [],
   "source": [
    "import sys"
   ]
  },
  {
   "cell_type": "code",
   "execution_count": 68,
   "metadata": {},
   "outputs": [],
   "source": [
    "sys.path.append('/Users/thempel/fustorage/projects/vha_auschwitz_report/')"
   ]
  },
  {
   "cell_type": "code",
   "execution_count": 69,
   "metadata": {},
   "outputs": [],
   "source": [
    "import constants"
   ]
  },
  {
   "cell_type": "code",
   "execution_count": 70,
   "metadata": {},
   "outputs": [],
   "source": [
    "from markov_modelling import markov_utils as mu"
   ]
  },
  {
   "cell_type": "code",
   "execution_count": 71,
   "metadata": {},
   "outputs": [],
   "source": [
    "# Load the input data\n",
    "input_directory = '../' + constants.output_data_segment_keyword_matrix\n",
    "\n",
    "# Read the segment index term matrix\n",
    "data = np.load(input_directory + constants.output_segment_keyword_matrix_data_file.replace('.txt', '.npy'), \n",
    "              allow_pickle=True)\n",
    "# Read the column index (index terms) of the matrix above\n",
    "features_df = pd.read_csv(input_directory + \n",
    "                      constants.output_segment_keyword_matrix_feature_index)\n",
    "\n",
    "# Create the row index  of the matrix above\n",
    "segment_df = pd.read_csv(input_directory + \n",
    "                     constants.output_segment_keyword_matrix_document_index)\n",
    "\n",
    "int_codes = segment_df['IntCode'].to_list()\n",
    "\n",
    "\n",
    "# Set the output directory\n",
    "output_directory_temp = constants.output_data_markov_modelling\n",
    "\n",
    "# Read the metadata partitions\n",
    "with open(input_directory + \"metadata_partitions.json\") as read_file:\n",
    "    metadata_partitions = json.load(read_file)"
   ]
  },
  {
   "cell_type": "code",
   "execution_count": 72,
   "metadata": {},
   "outputs": [],
   "source": [
    "def estimate_pi_error(dtrajs, orig_msm, ntrails=10, conf_interval=0.68, return_samples=False):\n",
    "    \"\"\"\n",
    "    Estimate boostrap error for stationary probability\n",
    "    \n",
    "    :param dtrajs: list of np.array, discrete trajectories\n",
    "    :param orig_msm: pyemma.msm.MarkovModel\n",
    "    Only used for reference of lag time and to incorporate ML \n",
    "    stationary distribution to data frame\n",
    "    :param ntrails: int, the number of bootstrap samples to draw. \n",
    "    :param conf_interval: float 0 < conf_interval < 1\n",
    "    \n",
    "    :return:\n",
    "    pandas.DataFrame instance containing ML MSM pi and bootstrap error\n",
    "    \"\"\"\n",
    "    from pyemma.util.statistics import confidence_interval\n",
    "    \n",
    "    pi_samples = np.zeros((ntrails, orig_msm.nstates))\n",
    "\n",
    "    for trial in tqdm(range(ntrails)):\n",
    "        try:\n",
    "            bs_sample = np.random.choice(len(dtrajs), \n",
    "                 size=len(dtrajs), \n",
    "                replace=True)\n",
    "            dtraj_sample = list(np.array(dtrajs)[bs_sample])\n",
    "\n",
    "            msm = pyemma.msm.estimate_markov_model(dtraj_sample, \n",
    "                                                    lag=orig_msm.lag)\n",
    "\n",
    "            pi_samples[trial, msm.active_set] = msm.pi\n",
    "        except Exception as e: \n",
    "            print(e)\n",
    "            \n",
    "    if return_samples:\n",
    "        return pi_samples\n",
    "    \n",
    "    \n",
    "    std = pi_samples.std(axis=0)\n",
    "    lower_confidence, upper_confidence = confidence_interval(pi_samples, conf_interval)\n",
    "    \n",
    "    probabilities = pd.DataFrame(np.array([orig_msm.active_set, \n",
    "                                           orig_msm.pi, \n",
    "                                           std, \n",
    "                                           lower_confidence, \n",
    "                                           upper_confidence]).T,\n",
    "                    columns=['State', 'StatDist', 'Std', 'LowerConf', 'UpperConf'], )\n",
    "    \n",
    "    # type cast to int\n",
    "    probabilities['State'] = probabilities['State'].astype(int)\n",
    "    \n",
    "    \n",
    "    return probabilities"
   ]
  },
  {
   "cell_type": "code",
   "execution_count": null,
   "metadata": {},
   "outputs": [
    {
     "data": {
      "application/vnd.jupyter.widget-view+json": {
       "model_id": "6f95c398c13e439895275bd27799b82d",
       "version_major": 2,
       "version_minor": 0
      },
      "text/plain": [
       "HBox(children=(FloatProgress(value=0.0, max=50.0), HTML(value='')))"
      ]
     },
     "metadata": {},
     "output_type": "display_data"
    },
    {
     "name": "stdout",
     "output_type": "stream",
     "text": [
      "21-12-20 15:34:05 pyemma.msm.estimators.maximum_likelihood_msm.MaximumLikelihoodMSM[103] WARNING  Empty core set while unassigned states (-1) in discrete trajectory. Defining core set automatically; check correctness by calling self.core_set.\n"
     ]
    },
    {
     "name": "stderr",
     "output_type": "stream",
     "text": [
      "/miniconda3/lib/python3.7/site-packages/ipykernel_launcher.py:24: VisibleDeprecationWarning: Creating an ndarray from ragged nested sequences (which is a list-or-tuple of lists-or-tuples-or ndarrays with different lengths or shapes) is deprecated. If you meant to do this, you must specify 'dtype=object' when creating the ndarray\n"
     ]
    },
    {
     "name": "stdout",
     "output_type": "stream",
     "text": [
      "21-12-20 15:34:24 pyemma.msm.estimators.maximum_likelihood_msm.MaximumLikelihoodMSM[104] WARNING  Empty core set while unassigned states (-1) in discrete trajectory. Defining core set automatically; check correctness by calling self.core_set.\n",
      "21-12-20 15:34:44 pyemma.msm.estimators.maximum_likelihood_msm.MaximumLikelihoodMSM[105] WARNING  Empty core set while unassigned states (-1) in discrete trajectory. Defining core set automatically; check correctness by calling self.core_set.\n",
      "21-12-20 15:35:06 pyemma.msm.estimators.maximum_likelihood_msm.MaximumLikelihoodMSM[106] WARNING  Empty core set while unassigned states (-1) in discrete trajectory. Defining core set automatically; check correctness by calling self.core_set.\n",
      "21-12-20 15:35:32 pyemma.msm.estimators.maximum_likelihood_msm.MaximumLikelihoodMSM[107] WARNING  Empty core set while unassigned states (-1) in discrete trajectory. Defining core set automatically; check correctness by calling self.core_set.\n",
      "21-12-20 15:36:09 pyemma.msm.estimators.maximum_likelihood_msm.MaximumLikelihoodMSM[108] WARNING  Empty core set while unassigned states (-1) in discrete trajectory. Defining core set automatically; check correctness by calling self.core_set.\n",
      "21-12-20 15:36:38 pyemma.msm.estimators.maximum_likelihood_msm.MaximumLikelihoodMSM[109] WARNING  Empty core set while unassigned states (-1) in discrete trajectory. Defining core set automatically; check correctness by calling self.core_set.\n",
      "21-12-20 15:36:59 pyemma.msm.estimators.maximum_likelihood_msm.MaximumLikelihoodMSM[110] WARNING  Empty core set while unassigned states (-1) in discrete trajectory. Defining core set automatically; check correctness by calling self.core_set.\n",
      "21-12-20 15:37:11 pyemma.msm.estimators.maximum_likelihood_msm.MaximumLikelihoodMSM[111] WARNING  Empty core set while unassigned states (-1) in discrete trajectory. Defining core set automatically; check correctness by calling self.core_set.\n",
      "21-12-20 15:37:22 pyemma.msm.estimators.maximum_likelihood_msm.MaximumLikelihoodMSM[112] WARNING  Empty core set while unassigned states (-1) in discrete trajectory. Defining core set automatically; check correctness by calling self.core_set.\n",
      "21-12-20 15:37:34 pyemma.msm.estimators.maximum_likelihood_msm.MaximumLikelihoodMSM[113] WARNING  Empty core set while unassigned states (-1) in discrete trajectory. Defining core set automatically; check correctness by calling self.core_set.\n",
      "21-12-20 15:37:45 pyemma.msm.estimators.maximum_likelihood_msm.MaximumLikelihoodMSM[114] WARNING  Empty core set while unassigned states (-1) in discrete trajectory. Defining core set automatically; check correctness by calling self.core_set.\n",
      "21-12-20 15:37:57 pyemma.msm.estimators.maximum_likelihood_msm.MaximumLikelihoodMSM[115] WARNING  Empty core set while unassigned states (-1) in discrete trajectory. Defining core set automatically; check correctness by calling self.core_set.\n",
      "21-12-20 15:38:08 pyemma.msm.estimators.maximum_likelihood_msm.MaximumLikelihoodMSM[116] WARNING  Empty core set while unassigned states (-1) in discrete trajectory. Defining core set automatically; check correctness by calling self.core_set.\n",
      "21-12-20 15:38:21 pyemma.msm.estimators.maximum_likelihood_msm.MaximumLikelihoodMSM[117] WARNING  Empty core set while unassigned states (-1) in discrete trajectory. Defining core set automatically; check correctness by calling self.core_set.\n",
      "21-12-20 15:38:33 pyemma.msm.estimators.maximum_likelihood_msm.MaximumLikelihoodMSM[118] WARNING  Empty core set while unassigned states (-1) in discrete trajectory. Defining core set automatically; check correctness by calling self.core_set.\n",
      "21-12-20 15:38:44 pyemma.msm.estimators.maximum_likelihood_msm.MaximumLikelihoodMSM[119] WARNING  Empty core set while unassigned states (-1) in discrete trajectory. Defining core set automatically; check correctness by calling self.core_set.\n",
      "21-12-20 15:38:57 pyemma.msm.estimators.maximum_likelihood_msm.MaximumLikelihoodMSM[120] WARNING  Empty core set while unassigned states (-1) in discrete trajectory. Defining core set automatically; check correctness by calling self.core_set.\n",
      "21-12-20 15:39:10 pyemma.msm.estimators.maximum_likelihood_msm.MaximumLikelihoodMSM[121] WARNING  Empty core set while unassigned states (-1) in discrete trajectory. Defining core set automatically; check correctness by calling self.core_set.\n",
      "21-12-20 15:39:22 pyemma.msm.estimators.maximum_likelihood_msm.MaximumLikelihoodMSM[122] WARNING  Empty core set while unassigned states (-1) in discrete trajectory. Defining core set automatically; check correctness by calling self.core_set.\n",
      "21-12-20 15:39:34 pyemma.msm.estimators.maximum_likelihood_msm.MaximumLikelihoodMSM[123] WARNING  Empty core set while unassigned states (-1) in discrete trajectory. Defining core set automatically; check correctness by calling self.core_set.\n",
      "21-12-20 15:39:46 pyemma.msm.estimators.maximum_likelihood_msm.MaximumLikelihoodMSM[124] WARNING  Empty core set while unassigned states (-1) in discrete trajectory. Defining core set automatically; check correctness by calling self.core_set.\n",
      "21-12-20 15:39:58 pyemma.msm.estimators.maximum_likelihood_msm.MaximumLikelihoodMSM[125] WARNING  Empty core set while unassigned states (-1) in discrete trajectory. Defining core set automatically; check correctness by calling self.core_set.\n",
      "21-12-20 15:40:10 pyemma.msm.estimators.maximum_likelihood_msm.MaximumLikelihoodMSM[126] WARNING  Empty core set while unassigned states (-1) in discrete trajectory. Defining core set automatically; check correctness by calling self.core_set.\n",
      "21-12-20 15:40:22 pyemma.msm.estimators.maximum_likelihood_msm.MaximumLikelihoodMSM[127] WARNING  Empty core set while unassigned states (-1) in discrete trajectory. Defining core set automatically; check correctness by calling self.core_set.\n",
      "21-12-20 15:40:34 pyemma.msm.estimators.maximum_likelihood_msm.MaximumLikelihoodMSM[128] WARNING  Empty core set while unassigned states (-1) in discrete trajectory. Defining core set automatically; check correctness by calling self.core_set.\n",
      "21-12-20 15:40:47 pyemma.msm.estimators.maximum_likelihood_msm.MaximumLikelihoodMSM[129] WARNING  Empty core set while unassigned states (-1) in discrete trajectory. Defining core set automatically; check correctness by calling self.core_set.\n",
      "21-12-20 15:41:09 pyemma.msm.estimators.maximum_likelihood_msm.MaximumLikelihoodMSM[130] WARNING  Empty core set while unassigned states (-1) in discrete trajectory. Defining core set automatically; check correctness by calling self.core_set.\n",
      "21-12-20 15:41:25 pyemma.msm.estimators.maximum_likelihood_msm.MaximumLikelihoodMSM[131] WARNING  Empty core set while unassigned states (-1) in discrete trajectory. Defining core set automatically; check correctness by calling self.core_set.\n",
      "21-12-20 15:41:48 pyemma.msm.estimators.maximum_likelihood_msm.MaximumLikelihoodMSM[132] WARNING  Empty core set while unassigned states (-1) in discrete trajectory. Defining core set automatically; check correctness by calling self.core_set.\n",
      "21-12-20 15:42:08 pyemma.msm.estimators.maximum_likelihood_msm.MaximumLikelihoodMSM[133] WARNING  Empty core set while unassigned states (-1) in discrete trajectory. Defining core set automatically; check correctness by calling self.core_set.\n",
      "21-12-20 15:42:22 pyemma.msm.estimators.maximum_likelihood_msm.MaximumLikelihoodMSM[134] WARNING  Empty core set while unassigned states (-1) in discrete trajectory. Defining core set automatically; check correctness by calling self.core_set.\n",
      "21-12-20 15:43:01 pyemma.msm.estimators.maximum_likelihood_msm.MaximumLikelihoodMSM[135] WARNING  Empty core set while unassigned states (-1) in discrete trajectory. Defining core set automatically; check correctness by calling self.core_set.\n",
      "21-12-20 15:43:15 pyemma.msm.estimators.maximum_likelihood_msm.MaximumLikelihoodMSM[136] WARNING  Empty core set while unassigned states (-1) in discrete trajectory. Defining core set automatically; check correctness by calling self.core_set.\n",
      "21-12-20 15:43:29 pyemma.msm.estimators.maximum_likelihood_msm.MaximumLikelihoodMSM[137] WARNING  Empty core set while unassigned states (-1) in discrete trajectory. Defining core set automatically; check correctness by calling self.core_set.\n"
     ]
    },
    {
     "name": "stdout",
     "output_type": "stream",
     "text": [
      "21-12-20 15:43:41 pyemma.msm.estimators.maximum_likelihood_msm.MaximumLikelihoodMSM[138] WARNING  Empty core set while unassigned states (-1) in discrete trajectory. Defining core set automatically; check correctness by calling self.core_set.\n",
      "21-12-20 15:43:53 pyemma.msm.estimators.maximum_likelihood_msm.MaximumLikelihoodMSM[139] WARNING  Empty core set while unassigned states (-1) in discrete trajectory. Defining core set automatically; check correctness by calling self.core_set.\n",
      "21-12-20 15:44:04 pyemma.msm.estimators.maximum_likelihood_msm.MaximumLikelihoodMSM[140] WARNING  Empty core set while unassigned states (-1) in discrete trajectory. Defining core set automatically; check correctness by calling self.core_set.\n",
      "21-12-20 15:44:16 pyemma.msm.estimators.maximum_likelihood_msm.MaximumLikelihoodMSM[141] WARNING  Empty core set while unassigned states (-1) in discrete trajectory. Defining core set automatically; check correctness by calling self.core_set.\n",
      "21-12-20 15:44:27 pyemma.msm.estimators.maximum_likelihood_msm.MaximumLikelihoodMSM[142] WARNING  Empty core set while unassigned states (-1) in discrete trajectory. Defining core set automatically; check correctness by calling self.core_set.\n",
      "21-12-20 15:44:38 pyemma.msm.estimators.maximum_likelihood_msm.MaximumLikelihoodMSM[143] WARNING  Empty core set while unassigned states (-1) in discrete trajectory. Defining core set automatically; check correctness by calling self.core_set.\n",
      "21-12-20 15:44:50 pyemma.msm.estimators.maximum_likelihood_msm.MaximumLikelihoodMSM[144] WARNING  Empty core set while unassigned states (-1) in discrete trajectory. Defining core set automatically; check correctness by calling self.core_set.\n",
      "21-12-20 15:45:01 pyemma.msm.estimators.maximum_likelihood_msm.MaximumLikelihoodMSM[145] WARNING  Empty core set while unassigned states (-1) in discrete trajectory. Defining core set automatically; check correctness by calling self.core_set.\n",
      "21-12-20 15:45:11 pyemma.msm.estimators.maximum_likelihood_msm.MaximumLikelihoodMSM[146] WARNING  Empty core set while unassigned states (-1) in discrete trajectory. Defining core set automatically; check correctness by calling self.core_set.\n",
      "21-12-20 15:45:23 pyemma.msm.estimators.maximum_likelihood_msm.MaximumLikelihoodMSM[147] WARNING  Empty core set while unassigned states (-1) in discrete trajectory. Defining core set automatically; check correctness by calling self.core_set.\n",
      "21-12-20 15:45:37 pyemma.msm.estimators.maximum_likelihood_msm.MaximumLikelihoodMSM[148] WARNING  Empty core set while unassigned states (-1) in discrete trajectory. Defining core set automatically; check correctness by calling self.core_set.\n",
      "21-12-20 15:45:50 pyemma.msm.estimators.maximum_likelihood_msm.MaximumLikelihoodMSM[149] WARNING  Empty core set while unassigned states (-1) in discrete trajectory. Defining core set automatically; check correctness by calling self.core_set.\n",
      "21-12-20 15:46:01 pyemma.msm.estimators.maximum_likelihood_msm.MaximumLikelihoodMSM[150] WARNING  Empty core set while unassigned states (-1) in discrete trajectory. Defining core set automatically; check correctness by calling self.core_set.\n",
      "21-12-20 15:46:12 pyemma.msm.estimators.maximum_likelihood_msm.MaximumLikelihoodMSM[151] WARNING  Empty core set while unassigned states (-1) in discrete trajectory. Defining core set automatically; check correctness by calling self.core_set.\n",
      "21-12-20 15:46:24 pyemma.msm.estimators.maximum_likelihood_msm.MaximumLikelihoodMSM[152] WARNING  Empty core set while unassigned states (-1) in discrete trajectory. Defining core set automatically; check correctness by calling self.core_set.\n",
      "\n"
     ]
    },
    {
     "data": {
      "application/vnd.jupyter.widget-view+json": {
       "model_id": "93fd8d8c9c864252b71b405d4ef57b3e",
       "version_major": 2,
       "version_minor": 0
      },
      "text/plain": [
       "HBox(children=(FloatProgress(value=0.0, max=50.0), HTML(value='')))"
      ]
     },
     "metadata": {},
     "output_type": "display_data"
    },
    {
     "name": "stdout",
     "output_type": "stream",
     "text": [
      "21-12-20 15:47:31 pyemma.msm.estimators.maximum_likelihood_msm.MaximumLikelihoodMSM[154] WARNING  Empty core set while unassigned states (-1) in discrete trajectory. Defining core set automatically; check correctness by calling self.core_set.\n",
      "21-12-20 15:48:30 pyemma.msm.estimators.maximum_likelihood_msm.MaximumLikelihoodMSM[155] WARNING  Empty core set while unassigned states (-1) in discrete trajectory. Defining core set automatically; check correctness by calling self.core_set.\n",
      "21-12-20 15:49:23 pyemma.msm.estimators.maximum_likelihood_msm.MaximumLikelihoodMSM[156] WARNING  Empty core set while unassigned states (-1) in discrete trajectory. Defining core set automatically; check correctness by calling self.core_set.\n",
      "21-12-20 15:50:02 pyemma.msm.estimators.maximum_likelihood_msm.MaximumLikelihoodMSM[157] WARNING  Empty core set while unassigned states (-1) in discrete trajectory. Defining core set automatically; check correctness by calling self.core_set.\n",
      "21-12-20 15:52:02 pyemma.msm.estimators.maximum_likelihood_msm.MaximumLikelihoodMSM[158] WARNING  Empty core set while unassigned states (-1) in discrete trajectory. Defining core set automatically; check correctness by calling self.core_set.\n",
      "21-12-20 15:52:33 pyemma.msm.estimators.maximum_likelihood_msm.MaximumLikelihoodMSM[159] WARNING  Empty core set while unassigned states (-1) in discrete trajectory. Defining core set automatically; check correctness by calling self.core_set.\n",
      "21-12-20 15:53:01 pyemma.msm.estimators.maximum_likelihood_msm.MaximumLikelihoodMSM[160] WARNING  Empty core set while unassigned states (-1) in discrete trajectory. Defining core set automatically; check correctness by calling self.core_set.\n",
      "21-12-20 15:53:28 pyemma.msm.estimators.maximum_likelihood_msm.MaximumLikelihoodMSM[161] WARNING  Empty core set while unassigned states (-1) in discrete trajectory. Defining core set automatically; check correctness by calling self.core_set.\n",
      "21-12-20 15:53:57 pyemma.msm.estimators.maximum_likelihood_msm.MaximumLikelihoodMSM[162] WARNING  Empty core set while unassigned states (-1) in discrete trajectory. Defining core set automatically; check correctness by calling self.core_set.\n",
      "21-12-20 15:54:26 pyemma.msm.estimators.maximum_likelihood_msm.MaximumLikelihoodMSM[163] WARNING  Empty core set while unassigned states (-1) in discrete trajectory. Defining core set automatically; check correctness by calling self.core_set.\n",
      "21-12-20 15:54:58 pyemma.msm.estimators.maximum_likelihood_msm.MaximumLikelihoodMSM[164] WARNING  Empty core set while unassigned states (-1) in discrete trajectory. Defining core set automatically; check correctness by calling self.core_set.\n",
      "21-12-20 15:55:29 pyemma.msm.estimators.maximum_likelihood_msm.MaximumLikelihoodMSM[165] WARNING  Empty core set while unassigned states (-1) in discrete trajectory. Defining core set automatically; check correctness by calling self.core_set.\n",
      "21-12-20 15:55:59 pyemma.msm.estimators.maximum_likelihood_msm.MaximumLikelihoodMSM[166] WARNING  Empty core set while unassigned states (-1) in discrete trajectory. Defining core set automatically; check correctness by calling self.core_set.\n",
      "21-12-20 15:56:31 pyemma.msm.estimators.maximum_likelihood_msm.MaximumLikelihoodMSM[167] WARNING  Empty core set while unassigned states (-1) in discrete trajectory. Defining core set automatically; check correctness by calling self.core_set.\n",
      "21-12-20 15:56:59 pyemma.msm.estimators.maximum_likelihood_msm.MaximumLikelihoodMSM[168] WARNING  Empty core set while unassigned states (-1) in discrete trajectory. Defining core set automatically; check correctness by calling self.core_set.\n",
      "21-12-20 15:57:28 pyemma.msm.estimators.maximum_likelihood_msm.MaximumLikelihoodMSM[169] WARNING  Empty core set while unassigned states (-1) in discrete trajectory. Defining core set automatically; check correctness by calling self.core_set.\n",
      "21-12-20 15:58:02 pyemma.msm.estimators.maximum_likelihood_msm.MaximumLikelihoodMSM[170] WARNING  Empty core set while unassigned states (-1) in discrete trajectory. Defining core set automatically; check correctness by calling self.core_set.\n",
      "21-12-20 15:58:34 pyemma.msm.estimators.maximum_likelihood_msm.MaximumLikelihoodMSM[171] WARNING  Empty core set while unassigned states (-1) in discrete trajectory. Defining core set automatically; check correctness by calling self.core_set.\n",
      "21-12-20 15:59:09 pyemma.msm.estimators.maximum_likelihood_msm.MaximumLikelihoodMSM[172] WARNING  Empty core set while unassigned states (-1) in discrete trajectory. Defining core set automatically; check correctness by calling self.core_set.\n",
      "21-12-20 15:59:39 pyemma.msm.estimators.maximum_likelihood_msm.MaximumLikelihoodMSM[173] WARNING  Empty core set while unassigned states (-1) in discrete trajectory. Defining core set automatically; check correctness by calling self.core_set.\n",
      "21-12-20 16:00:04 pyemma.msm.estimators.maximum_likelihood_msm.MaximumLikelihoodMSM[174] WARNING  Empty core set while unassigned states (-1) in discrete trajectory. Defining core set automatically; check correctness by calling self.core_set.\n",
      "21-12-20 16:00:29 pyemma.msm.estimators.maximum_likelihood_msm.MaximumLikelihoodMSM[175] WARNING  Empty core set while unassigned states (-1) in discrete trajectory. Defining core set automatically; check correctness by calling self.core_set.\n",
      "21-12-20 16:00:53 pyemma.msm.estimators.maximum_likelihood_msm.MaximumLikelihoodMSM[176] WARNING  Empty core set while unassigned states (-1) in discrete trajectory. Defining core set automatically; check correctness by calling self.core_set.\n",
      "21-12-20 16:01:18 pyemma.msm.estimators.maximum_likelihood_msm.MaximumLikelihoodMSM[177] WARNING  Empty core set while unassigned states (-1) in discrete trajectory. Defining core set automatically; check correctness by calling self.core_set.\n",
      "21-12-20 16:01:43 pyemma.msm.estimators.maximum_likelihood_msm.MaximumLikelihoodMSM[178] WARNING  Empty core set while unassigned states (-1) in discrete trajectory. Defining core set automatically; check correctness by calling self.core_set.\n",
      "21-12-20 16:02:08 pyemma.msm.estimators.maximum_likelihood_msm.MaximumLikelihoodMSM[179] WARNING  Empty core set while unassigned states (-1) in discrete trajectory. Defining core set automatically; check correctness by calling self.core_set.\n",
      "21-12-20 16:02:34 pyemma.msm.estimators.maximum_likelihood_msm.MaximumLikelihoodMSM[180] WARNING  Empty core set while unassigned states (-1) in discrete trajectory. Defining core set automatically; check correctness by calling self.core_set.\n",
      "21-12-20 16:02:59 pyemma.msm.estimators.maximum_likelihood_msm.MaximumLikelihoodMSM[181] WARNING  Empty core set while unassigned states (-1) in discrete trajectory. Defining core set automatically; check correctness by calling self.core_set.\n",
      "21-12-20 16:03:24 pyemma.msm.estimators.maximum_likelihood_msm.MaximumLikelihoodMSM[182] WARNING  Empty core set while unassigned states (-1) in discrete trajectory. Defining core set automatically; check correctness by calling self.core_set.\n"
     ]
    }
   ],
   "source": [
    "samples = {}\n",
    "msms = {}\n",
    "for key in ['complete_m', 'complete_w']:\n",
    "    indices = metadata_partitions[key]\n",
    "\n",
    "\n",
    "    input_data_set = np.take(data,indices)\n",
    "    # Make sure that interviews with only one segment are not included\n",
    "    for i in range(0,input_data_set.shape[0]):\n",
    "        assert (input_data_set[i].shape[0]>1)\n",
    "\n",
    "\n",
    "    # Estimate fuzzy trajectories\n",
    "    #empyt = [element[0] for element in input_data_set if element[0].sum()==0]\n",
    "    trajs = mu.estimate_fuzzy_trajectories(input_data_set)\n",
    "\n",
    "    # Estimate the Markov model from the trajectories\n",
    "    msm = mu.estimate_markov_model_from_trajectories(trajs)\n",
    "    \n",
    "    error_est = estimate_pi_error(trajs, msm, return_samples=True, ntrails=50)\n",
    "    \n",
    "    samples[key] = error_est\n",
    "    msms[key] = msm"
   ]
  },
  {
   "cell_type": "code",
   "execution_count": null,
   "metadata": {},
   "outputs": [],
   "source": [
    "from pyemma.util.statistics import confidence_interval"
   ]
  },
  {
   "cell_type": "code",
   "execution_count": null,
   "metadata": {},
   "outputs": [],
   "source": [
    "food_sharing_index = 34\n",
    "for n, k in enumerate(['complete_m', 'complete_w']):\n",
    "    state_samples = samples[k][:, food_sharing_index]\n",
    "    plt.hist(state_samples, bins=20, label=f'sample dist {k}', color=f'C{n}')\n",
    "    \n",
    "    lower_confidence, upper_confidence = confidence_interval(state_samples, 0.68)\n",
    "    plt.vlines(lower_confidence, 0, 10,  color=f'C{n}', linestyle=':', label=f'lower conf {k}')\n",
    "    plt.vlines(upper_confidence, 0, 10,  color=f'C{n}', linestyle='--', label=f'upper conf {k}')\n",
    "    plt.vlines(msms[k].pi[food_sharing_index], 0, 10, color='k', label='ML estimate' if n==1 else None)\n",
    "    \n",
    "plt.legend()\n",
    "plt.title('food sharing')"
   ]
  },
  {
   "cell_type": "code",
   "execution_count": null,
   "metadata": {},
   "outputs": [],
   "source": []
  },
  {
   "cell_type": "code",
   "execution_count": null,
   "metadata": {},
   "outputs": [],
   "source": [
    "### PLEASE IGNORE BELOW!"
   ]
  },
  {
   "cell_type": "code",
   "execution_count": null,
   "metadata": {},
   "outputs": [],
   "source": []
  },
  {
   "cell_type": "code",
   "execution_count": null,
   "metadata": {},
   "outputs": [],
   "source": [
    "msm.nstates"
   ]
  },
  {
   "cell_type": "code",
   "execution_count": null,
   "metadata": {},
   "outputs": [],
   "source": [
    "msms = {}\n",
    "bmsms = {}\n",
    "for l in labels:\n",
    "    msms[l] = pyemma.load(f'../data/output/markov_modelling/{l}/pyemma_model', \n",
    "                 model_name='simple')\n",
    "    bmsms[l] = pyemma.load(f'../data/output/markov_modelling/{l}/pyemma_model_bayes', \n",
    "                 model_name='simple')"
   ]
  },
  {
   "cell_type": "code",
   "execution_count": null,
   "metadata": {},
   "outputs": [],
   "source": []
  },
  {
   "cell_type": "code",
   "execution_count": null,
   "metadata": {},
   "outputs": [],
   "source": [
    "ntrails = 10\n",
    "msmlag=2"
   ]
  },
  {
   "cell_type": "code",
   "execution_count": null,
   "metadata": {},
   "outputs": [],
   "source": []
  },
  {
   "cell_type": "code",
   "execution_count": null,
   "metadata": {},
   "outputs": [],
   "source": [
    "bootstrapping_trajs = {}\n",
    "bootstrapping_asshmms = {}\n",
    "bootstrapping_samples = {}\n",
    "itses = {}\n",
    "pi_samples = {}\n",
    "\n",
    "for partition in tqdm(metadata_partitions):\n",
    "    print(partition)\n",
    "    \n",
    "    indices = metadata_partitions[key]\n",
    "    input_data_set = np.take(data,indices)\n",
    "\n",
    "\n",
    "    # Estimate fuzzy trajectories\n",
    "    dtrajs = mu.estimate_fuzzy_trajectories(input_data_set)\n",
    "    \n",
    "    bootstrapping_samples[partition] = []\n",
    "    itses[partition] = []\n",
    "    pi_samples[partition] = np.zeros((ntrails, np.concatenate(dtrajs).max() + 1))\n",
    "    \n",
    "    \n",
    "\n",
    "    for trial in tqdm(range(ntrails)):\n",
    "        ts = -1\n",
    "        try:\n",
    "            # DTRAJS = ....\n",
    "            \n",
    "            # attention, lagging outside bc of stride\n",
    "            bs_sample = np.random.choice(len(dtrajs), \n",
    "                 size=len(dtrajs), \n",
    "                replace=True)\n",
    "            dtraj_sample = list(np.array(dtrajs)[bs_sample])\n",
    "\n",
    "            msm = pyemma.msm.estimate_markov_model(dtraj_sample, \n",
    "                                                    lag=msmlag)\n",
    "            \n",
    "            itses[partition].append(msm.timescales().max())\n",
    "            #ratematrix = get_ratematrix(association_binding_model, association_binding_model.lag)\n",
    "            pi_samples[partition][trial, :] = msm.pi\n",
    "        except Exception as e: # was exception\n",
    "            print(e)\n",
    "            \n",
    "    break"
   ]
  },
  {
   "cell_type": "code",
   "execution_count": null,
   "metadata": {},
   "outputs": [],
   "source": []
  },
  {
   "cell_type": "code",
   "execution_count": null,
   "metadata": {},
   "outputs": [],
   "source": [
    "msm.active_set.shape"
   ]
  },
  {
   "cell_type": "code",
   "execution_count": null,
   "metadata": {},
   "outputs": [],
   "source": [
    "msm.pi.shape"
   ]
  },
  {
   "cell_type": "code",
   "execution_count": null,
   "metadata": {},
   "outputs": [],
   "source": [
    "lower_confidence.shape"
   ]
  },
  {
   "cell_type": "code",
   "execution_count": null,
   "metadata": {},
   "outputs": [],
   "source": [
    "std.shape"
   ]
  },
  {
   "cell_type": "code",
   "execution_count": null,
   "metadata": {},
   "outputs": [],
   "source": [
    "upper_confidence.shape"
   ]
  },
  {
   "cell_type": "code",
   "execution_count": null,
   "metadata": {},
   "outputs": [],
   "source": [
    "probabilities = pd.DataFrame(np.array([msm.active_set, msm.pi, std, lower_confidence, upper_confidence]).T,\n",
    "                    columns=['State', 'StatDist', 'Std', 'LowerConf', 'UpperConf'], )\n",
    "probabilities['State'] = probabilities['State'].astype(int)\n",
    "probabilities"
   ]
  },
  {
   "cell_type": "code",
   "execution_count": null,
   "metadata": {},
   "outputs": [],
   "source": [
    "probabilities.to_csv('')"
   ]
  },
  {
   "cell_type": "code",
   "execution_count": null,
   "metadata": {},
   "outputs": [],
   "source": []
  },
  {
   "cell_type": "code",
   "execution_count": null,
   "metadata": {},
   "outputs": [],
   "source": [
    "\n",
    "std = pi_samples['complete'].std(axis=0)\n",
    "lower_confidence, upper_confidence = confidence_interval(pi_samples['complete'])\n",
    "plt.plot(msm.pi)\n",
    "plt.plot(lower_confidence)\n",
    "plt.plot(upper_confidence)\n",
    "plt.plot(msm.pi + std)\n",
    "plt.plot(msm.pi - std)"
   ]
  },
  {
   "cell_type": "code",
   "execution_count": null,
   "metadata": {},
   "outputs": [],
   "source": [
    "pi_samples['complete']"
   ]
  },
  {
   "cell_type": "code",
   "execution_count": null,
   "metadata": {},
   "outputs": [],
   "source": [
    "fig, ax = plt.subplots(2, 3, figsize=(10, 4))\n",
    "for state in range(3):\n",
    "    for _n, d in enumerate(drugs):\n",
    "        #print(pi_samples[d][:, state].mean())\n",
    "        ax[0, state].hist(pi_samples[d][:, state], color=f'C{_n}', alpha=.5, \n",
    "                       label=d if state == 0 else None)\n",
    "        ax[0, state].vlines(association_binding_models[d].pi[state], 0, \n",
    "                    ax[0, state].get_ylim()[1], \n",
    "                    color=f'C{_n}', linestyle=':')\n",
    "fig.legend()"
   ]
  },
  {
   "cell_type": "code",
   "execution_count": null,
   "metadata": {},
   "outputs": [],
   "source": []
  }
 ],
 "metadata": {
  "kernelspec": {
   "display_name": "Python 3",
   "language": "python",
   "name": "python3"
  },
  "language_info": {
   "codemirror_mode": {
    "name": "ipython",
    "version": 3
   },
   "file_extension": ".py",
   "mimetype": "text/x-python",
   "name": "python",
   "nbconvert_exporter": "python",
   "pygments_lexer": "ipython3",
   "version": "3.7.2"
  }
 },
 "nbformat": 4,
 "nbformat_minor": 4
}

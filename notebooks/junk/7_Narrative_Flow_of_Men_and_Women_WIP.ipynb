{
 "cells": [
  {
   "cell_type": "markdown",
   "metadata": {},
   "source": [
    "# Narrative Flow of Men and Women"
   ]
  },
  {
   "cell_type": "markdown",
   "metadata": {},
   "source": [
    "\n",
    "\n",
    " ### Hypothesis:"
   ]
  },
  {
   "cell_type": "markdown",
   "metadata": {},
   "source": [
    "Men and women discuss sociability and solidarity in different ways, i.e. in different contexts. (..) Solidarity and social relations were different in the men and women section of Birkenau; men and women recall them in different ways and contexts. In practice, this means that they are primed and followed by different topics in the narratives of men and women."
   ]
  },
  {
   "cell_type": "markdown",
   "metadata": {},
   "source": [
    "If the hypothesis is true:\n",
    "- the story line (or narrative flow) leading to the discussion of sociability and solidarity is different in testimonies of men and women\n",
    "- the most likely sequences of topics (to be named narrative pathway) leading to topics describing solidarity and sociability are different\n",
    "- different amount of traffic is going through  similar pathways leading to solidarity and sociability\n",
    "- different nodes (to be named priming topics) are preceding and following (to be named exit topics) topics of solidarity and sociability\n"
   ]
  },
  {
   "cell_type": "markdown",
   "metadata": {},
   "source": [
    "Key research questions to be studied here:\n",
    "- What are the major pathways between the memory of arrival to Birkenau and leaving from Birkenau?\n",
    "- How are nodes related to solidarity (food sharing, aid giving) and social bonds (friends, social bonds, family) are situated along the major pathways? For women and men, are they peripheral or central? I.e. do a significant amount of narrative flow go towards them for men and women?\n",
    "- What are the exit and priming topics for solidarity (food sharing, aid giving) and social bonds for men and women?\n",
    "- How are these topics related to survival explanations?\n",
    "- How is friendship related to aid giving for men and for women? What are the transitory topics between them?\n",
    "- What are those topics that prime topics of solidarity and social bonds?\n",
    "- Where did solidarity take place? In what contexts did solidarity take place?\n",
    "- What topics do topics related to solidarity and social bonds prime for men and women?\n"
   ]
  },
  {
   "cell_type": "code",
   "execution_count": 1,
   "metadata": {},
   "outputs": [],
   "source": [
    "import constants\n",
    "import pandas as pd\n",
    "import os\n",
    "from IPython.display import display\n",
    "import json\n",
    "import pyemma\n",
    "from tables import *\n",
    "import sys; sys.path.insert(0, '..')\n",
    "from markov_modelling.markov_utils import *"
   ]
  },
  {
   "cell_type": "code",
   "execution_count": 2,
   "metadata": {},
   "outputs": [],
   "source": [
    "# define the Uwe\n",
    "edge_cmap = plt.matplotlib.colors.LinearSegmentedColormap.from_list(\"uwe\",\n",
    "                                                                    [(0, 0, 0, .1), (0, 0, 0, 1)])"
   ]
  },
  {
   "cell_type": "markdown",
   "metadata": {},
   "source": [
    "## Load the relevant data"
   ]
  },
  {
   "cell_type": "markdown",
   "metadata": {},
   "source": [
    "Load interview"
   ]
  },
  {
   "cell_type": "markdown",
   "metadata": {},
   "source": [
    "Set up the paths to data"
   ]
  },
  {
   "cell_type": "markdown",
   "metadata": {},
   "source": [
    "Two different datasets were created. In Dataset 1, the topic 'social bonds' include 'friendship' as well; similarly the topic 'aid giving' includes 'food sharing'. In Dataset 2, 'friendship' and 'food sharing' are distinguished, and they are different topics."
   ]
  },
  {
   "cell_type": "markdown",
   "metadata": {},
   "source": [
    "First, load Dataset 1"
   ]
  },
  {
   "cell_type": "code",
   "execution_count": 3,
   "metadata": {},
   "outputs": [],
   "source": [
    "input_directory = constants.output_data_markov_modelling\n",
    "path = os.getcwd()\n",
    "parent = os.path.abspath(os.path.join(path, os.pardir))\n",
    "input_directory = parent +'/'+ constants.output_data_markov_modelling\n",
    "data_set_1_w  = pyemma.load(input_directory+'complete_w'+'/'+'pyemma_model','simple')\n",
    "data_set_1_m = pyemma.load(input_directory+'complete_m'+'/'+'pyemma_model','simple')\n",
    "data_set_1_complete = pyemma.load(input_directory+'complete'+'/'+'pyemma_model','simple')\n",
    "input_directory = parent +'/'+ constants.output_data_segment_keyword_matrix\n",
    "features_df = pd.read_csv(input_directory+constants.output_segment_keyword_matrix_feature_index)\n",
    "features_df = features_df.drop(columns=['Unnamed: 0','index'])"
   ]
  },
  {
   "cell_type": "markdown",
   "metadata": {},
   "source": [
    "Load Dataset 2"
   ]
  },
  {
   "cell_type": "code",
   "execution_count": 4,
   "metadata": {},
   "outputs": [],
   "source": [
    "input_directory = 'data/output_aid_giving_sociability_expanded/markov_modelling/'\n",
    "\n",
    "path = os.getcwd()\n",
    "parent = os.path.abspath(os.path.join(path, os.pardir))\n",
    "input_directory = parent +'/'+ input_directory\n",
    "data_set_2_w  = pyemma.load(input_directory+'complete_w'+'/'+'pyemma_model','simple')\n",
    "data_set_2_m = pyemma.load(input_directory+'complete_m'+'/'+'pyemma_model','simple')\n",
    "data_set_2_complete = pyemma.load(input_directory+'complete'+'/'+'pyemma_model','simple')\n",
    "input_directory = parent +'/'+ 'data/output_aid_giving_sociability_expanded/segment_keyword_matrix/'\n",
    "features_df_2 = pd.read_csv(input_directory+constants.output_segment_keyword_matrix_feature_index)\n",
    "features_df_2 = features_df_2.drop(columns=['Unnamed: 0','index'])\n"
   ]
  },
  {
   "cell_type": "code",
   "execution_count": 5,
   "metadata": {},
   "outputs": [],
   "source": [
    "def get_graphs_msms(msm_stringformat, story_start, story_end, fraction=.95):\n",
    "    if msm_stringformat.find('1') > 0:\n",
    "        _features_df = features_df\n",
    "    else:\n",
    "        _features_df = features_df_2\n",
    "\n",
    "    msm = eval(msm_stringformat)\n",
    "    graph, tpt, pos = get_tpt_major_flux(msm, _features_df, story_start, story_end,\n",
    "                                         fraction=fraction,)\n",
    "\n",
    "    return graph, tpt, msm, _features_df\n",
    "\n",
    "def downsize_nodename_dict(_features_df, msm, subgraph):\n",
    "    nodename_dict = {i:_features_df.iloc[j].KeywordLabel for i, j in enumerate(msm.active_set)}\n",
    "    nodename_dict_inv = {v:k for k, v in nodename_dict.items()}\n",
    "    spathg_nodes = [nodename_dict_inv[k] for k in list(subgraph.nodes)]\n",
    "\n",
    "    return spathg_nodes\n",
    "\n",
    "\n",
    "def get_subgraph_around_topic(pathgraph, to_analyze):\n",
    "    \"\"\"\n",
    "    returns sub-graph around a topic with only links into and out of that topic\n",
    "    \"\"\"\n",
    "    neighbors = [to_analyze] + \\\n",
    "                list(pathgraph.successors(to_analyze)) + \\\n",
    "                list(pathgraph.predecessors(to_analyze))\n",
    "    \n",
    "    subgraph = nx.DiGraph()\n",
    "    \n",
    "    subgraph.add_nodes_from(neighbors)\n",
    "    allweights = nx.get_edge_attributes(pathgraph, 'weight')\n",
    "    \n",
    "    for edges in [pathgraph.in_edges(to_analyze), pathgraph.out_edges(to_analyze)]:\n",
    "        for edge in edges:\n",
    "            subgraph.add_edge(*edge, weight=allweights[edge])\n",
    "\n",
    "    sweights = np.array(list(nx.get_edge_attributes(subgraph, 'weight').values())).astype(float)\n",
    "\n",
    "    return subgraph, sweights\n",
    "\n",
    "def plot_small_graph(ax, subgraph, subgraph_weights, probabilities, fruchterman_layout=False):\n",
    "    if fruchterman_layout:\n",
    "        subgraph_pos = nx.fruchterman_reingold_layout(subgraph, k=1e-1)\n",
    "    else:\n",
    "        subgraph_pos = {to_analyze:np.array([0, 0])}\n",
    "        \n",
    "        succ = list(subgraph.successors(to_analyze))\n",
    "        y_succ = np.linspace(-2, 2, len(succ))\n",
    "        subgraph_pos.update({n:np.array([1, y_succ[n_]]) for n_, n in enumerate(succ)})\n",
    "        \n",
    "        predec = list(subgraph.predecessors(to_analyze))\n",
    "        y_predec = np.linspace(-2, 2, len(predec))\n",
    "        subgraph_pos.update({n:np.array([-1, y_predec[n_]]) for n_, n in enumerate(predec)})\n",
    "                                                  \n",
    "    nx.draw_networkx_nodes(subgraph, subgraph_pos, \n",
    "                           node_size=probabilities*10000, \n",
    "                           ax=ax, )\n",
    "    nx.draw_networkx_labels(subgraph, \n",
    "                            {k:v+np.array([0,.2]) for k,v in subgraph_pos.items()}, \n",
    "                            ax=ax,\n",
    "                            labels={n:n for n in list(subgraph.nodes)}, font_size=9)\n",
    "\n",
    "    nx.draw_networkx_edges(subgraph, subgraph_pos, \n",
    "                           node_size=probabilities*10000,\n",
    "                           edge_cmap=edge_cmap, \n",
    "                        edge_color=subgraph_weights, width=2.7, ax=ax);\n",
    "    ax.axis('off')\n",
    "    ax.set_xlim(-1.75, 1.75)\n",
    "    \n",
    "def print_reactive_pathways_through_node(node, _features_df, msm, tpt, n_paths=3, fraction=0.95):\n",
    "    nodename_dict = {i:_features_df.iloc[j].KeywordLabel for i, j in enumerate(msm.active_set)}\n",
    "    paths, capacities = tpt.pathways(fraction)\n",
    "\n",
    "    n_found = 0\n",
    "    for n, (path, cap) in enumerate(zip(paths, capacities)):\n",
    "        pathname_path = [nodename_dict[msm._full2active[i]] for i in path]\n",
    "        if to_analyze in pathname_path:\n",
    "            _printpath = [p if p!= node else p.upper() for p in pathname_path]\n",
    "            print(f'rank: {n}; capacity: {cap}\\npath:{_printpath}')\n",
    "            n_found += 1\n",
    "        if n_found == n_paths:\n",
    "            break\n",
    "            \n",
    "    if n_found < n_paths:\n",
    "        print(f'no more paths through {node} in {100*fraction}% of reactive paths')\n",
    "    return"
   ]
  },
  {
   "cell_type": "markdown",
   "metadata": {},
   "source": [
    "## Observation 1"
   ]
  },
  {
   "cell_type": "markdown",
   "metadata": {},
   "source": [
    "### Qualitative description"
   ]
  },
  {
   "cell_type": "markdown",
   "metadata": {},
   "source": [
    "For women, the main topic that primes the discussion of aid giving is the discussion of the living conditions. By contrast, the most important topic that primes aid giving for men is the discussion of forced labour activity. \n",
    "\n",
    "For women, the most important narrative trajectory leading to the discussion of aid giving is the following one (8.3 % of the total traffic is going through it):\n",
    "- arrival-camp intake procedures-living conditions-aid giving\n",
    "\n",
    "For men, the most important narrative trajectory leading to the discussion of aid giving is the following one (5 % of the total traffic is going through it):\n",
    "- arrival-selections-camp intake procedures-living conditions-forced labor-aid giving\n",
    "\n",
    "Both men and women discuss aid giving in the context of camp living conditions and forced labour, women are more likely to discuss it in the context of camp living conditions. While men are more likely to discuss it in the context of forced labour."
   ]
  },
  {
   "cell_type": "code",
   "execution_count": 6,
   "metadata": {},
   "outputs": [
    {
     "ename": "NameError",
     "evalue": "name 'get_tpt_major_flux' is not defined",
     "output_type": "error",
     "traceback": [
      "\u001b[0;31m---------------------------------------------------------------------------\u001b[0m",
      "\u001b[0;31mNameError\u001b[0m                                 Traceback (most recent call last)",
      "\u001b[0;32m<ipython-input-6-b035df32ad9f>\u001b[0m in \u001b[0;36m<module>\u001b[0;34m\u001b[0m\n\u001b[1;32m     10\u001b[0m \u001b[0;34m\u001b[0m\u001b[0m\n\u001b[1;32m     11\u001b[0m \u001b[0;32mfor\u001b[0m \u001b[0max\u001b[0m\u001b[0;34m,\u001b[0m \u001b[0mname\u001b[0m \u001b[0;32min\u001b[0m \u001b[0mzip\u001b[0m\u001b[0;34m(\u001b[0m\u001b[0maxes\u001b[0m\u001b[0;34m,\u001b[0m \u001b[0mmsms_str\u001b[0m\u001b[0;34m)\u001b[0m\u001b[0;34m:\u001b[0m\u001b[0;34m\u001b[0m\u001b[0;34m\u001b[0m\u001b[0m\n\u001b[0;32m---> 12\u001b[0;31m     \u001b[0mgraph\u001b[0m\u001b[0;34m,\u001b[0m \u001b[0mtpt\u001b[0m\u001b[0;34m,\u001b[0m \u001b[0mmsm\u001b[0m\u001b[0;34m,\u001b[0m \u001b[0m_features_df\u001b[0m \u001b[0;34m=\u001b[0m \u001b[0mget_graphs_msms\u001b[0m\u001b[0;34m(\u001b[0m\u001b[0mname\u001b[0m\u001b[0;34m,\u001b[0m \u001b[0mstory_start\u001b[0m\u001b[0;34m,\u001b[0m \u001b[0mstory_end\u001b[0m\u001b[0;34m)\u001b[0m\u001b[0;34m\u001b[0m\u001b[0;34m\u001b[0m\u001b[0m\n\u001b[0m\u001b[1;32m     13\u001b[0m     \u001b[0mprint\u001b[0m\u001b[0;34m(\u001b[0m\u001b[0mname\u001b[0m\u001b[0;34m)\u001b[0m\u001b[0;34m\u001b[0m\u001b[0;34m\u001b[0m\u001b[0m\n\u001b[1;32m     14\u001b[0m     \u001b[0mprint_reactive_pathways_through_node\u001b[0m\u001b[0;34m(\u001b[0m\u001b[0mto_analyze\u001b[0m\u001b[0;34m,\u001b[0m \u001b[0m_features_df\u001b[0m\u001b[0;34m,\u001b[0m \u001b[0mmsm\u001b[0m\u001b[0;34m,\u001b[0m \u001b[0mtpt\u001b[0m\u001b[0;34m)\u001b[0m\u001b[0;34m\u001b[0m\u001b[0;34m\u001b[0m\u001b[0m\n",
      "\u001b[0;32m<ipython-input-5-c4122191de51>\u001b[0m in \u001b[0;36mget_graphs_msms\u001b[0;34m(msm_stringformat, story_start, story_end, fraction)\u001b[0m\n\u001b[1;32m      6\u001b[0m \u001b[0;34m\u001b[0m\u001b[0m\n\u001b[1;32m      7\u001b[0m     \u001b[0mmsm\u001b[0m \u001b[0;34m=\u001b[0m \u001b[0meval\u001b[0m\u001b[0;34m(\u001b[0m\u001b[0mmsm_stringformat\u001b[0m\u001b[0;34m)\u001b[0m\u001b[0;34m\u001b[0m\u001b[0;34m\u001b[0m\u001b[0m\n\u001b[0;32m----> 8\u001b[0;31m     graph, tpt, pos = get_tpt_major_flux(msm, _features_df, story_start, story_end,\n\u001b[0m\u001b[1;32m      9\u001b[0m                                          fraction=fraction,)\n\u001b[1;32m     10\u001b[0m \u001b[0;34m\u001b[0m\u001b[0m\n",
      "\u001b[0;31mNameError\u001b[0m: name 'get_tpt_major_flux' is not defined"
     ]
    },
    {
     "data": {
      "image/png": "[encoded data removed]",
      "text/plain": [
       "<Figure size 720x288 with 2 Axes>"
      ]
     },
     "metadata": {
      "needs_background": "light"
     },
     "output_type": "display_data"
    }
   ],
   "source": [
    "story_start = 'arrival'\n",
    "story_end = 'departure'\n",
    "to_analyze = 'aid giving'\n",
    "\n",
    "msms_str = ['data_set_1_m', 'data_set_1_w']\n",
    "\n",
    "\n",
    "fig, axes = plt.subplots(1, 2, figsize=(10, 4))\n",
    "\n",
    "\n",
    "for ax, name in zip(axes, msms_str):\n",
    "    graph, tpt, msm, _features_df = get_graphs_msms(name, story_start, story_end)\n",
    "    print(name)\n",
    "    print_reactive_pathways_through_node(to_analyze, _features_df, msm, tpt)\n",
    "    \n",
    "    subgraph, subgraph_weights = get_subgraph_around_topic(graph, to_analyze)\n",
    "\n",
    "    spathg_nodes = downsize_nodename_dict(_features_df, msm, subgraph)\n",
    "    \n",
    "    \n",
    "    plot_small_graph(ax, subgraph, subgraph_weights, msm.pi[spathg_nodes])\n",
    "    ax.set_title(name)\n",
    "    \n",
    "    print()"
   ]
  },
  {
   "cell_type": "code",
   "execution_count": null,
   "metadata": {},
   "outputs": [],
   "source": []
  },
  {
   "cell_type": "code",
   "execution_count": null,
   "metadata": {},
   "outputs": [],
   "source": []
  },
  {
   "cell_type": "markdown",
   "metadata": {},
   "source": [
    "## Observation 2"
   ]
  },
  {
   "cell_type": "markdown",
   "metadata": {},
   "source": [
    "### Qualitative description"
   ]
  },
  {
   "cell_type": "markdown",
   "metadata": {},
   "source": [
    "As above, a key topic that follows the discussion of aid giving is forced labour. However, this has different weight in the narratives of men and women. Men are more likely to discuss forced labour following aid giving. In testimonies of men, more traffic is going through the following pathway (3,6% women versus 6,2% men):\n",
    "\n",
    "-aid giving-forced labor-departure."
   ]
  },
  {
   "cell_type": "code",
   "execution_count": null,
   "metadata": {},
   "outputs": [],
   "source": []
  },
  {
   "cell_type": "markdown",
   "metadata": {},
   "source": [
    "## Observation 3"
   ]
  },
  {
   "cell_type": "markdown",
   "metadata": {},
   "source": [
    "### Qualitative description"
   ]
  },
  {
   "cell_type": "markdown",
   "metadata": {},
   "source": [
    "Similarly to aid giving, women tend to discuss food sharing in the context of living conditions, whereas men discuss it in the context of forced labour. For women, food sharing is most likely to be primed by the discussion of living conditions, for men food sharing tends to be primed by forced labour. In testimonies of women, the major traffic (16,5%) towards food sharing are going through the following two pathways:\n",
    "- arrival-camp intake procedures-living conditions-food and thirst-food sharing\n",
    "- arrival-selections-camp intake procedures-living conditions-food sharing\n",
    "\n",
    "By contrast, in testimonies of men, the major traffic ( 11.33405389131642%) towards food sharing are going through the following pathways:\n",
    "- arrival-selections-camp intake procedures-living conditions-forced labor-food sharing\n",
    "\n",
    "\n"
   ]
  },
  {
   "cell_type": "markdown",
   "metadata": {},
   "source": [
    "### Visualization"
   ]
  },
  {
   "cell_type": "code",
   "execution_count": null,
   "metadata": {},
   "outputs": [],
   "source": [
    "story_start = 'arrival'\n",
    "story_end = 'departure'\n",
    "to_analyze = 'food sharing'\n",
    "\n",
    "msms_str = ['data_set_2_m', 'data_set_2_w']\n",
    "\n",
    "\n",
    "fig, axes = plt.subplots(1, 2, figsize=(10, 4))\n",
    "\n",
    "\n",
    "for ax, name in zip(axes, msms_str):\n",
    "    graph, tpt, msm, _features_df = get_graphs_msms(name, story_start, story_end)\n",
    "    print(name)\n",
    "    print_reactive_pathways_through_node(to_analyze, _features_df, msm, tpt)\n",
    "    \n",
    "    subgraph, subgraph_weights = get_subgraph_around_topic(graph, to_analyze)\n",
    "\n",
    "    spathg_nodes = downsize_nodename_dict(_features_df, msm, subgraph)\n",
    "    \n",
    "    plot_small_graph(ax, subgraph, subgraph_weights, msm.pi[spathg_nodes])\n",
    "    ax.set_title(name)\n",
    "    print()"
   ]
  },
  {
   "cell_type": "code",
   "execution_count": null,
   "metadata": {},
   "outputs": [],
   "source": []
  },
  {
   "cell_type": "code",
   "execution_count": null,
   "metadata": {},
   "outputs": [],
   "source": []
  },
  {
   "cell_type": "markdown",
   "metadata": {},
   "source": [
    "## Observation 4"
   ]
  },
  {
   "cell_type": "markdown",
   "metadata": {},
   "source": [
    "### Qualitative description"
   ]
  },
  {
   "cell_type": "markdown",
   "metadata": {},
   "source": [
    "In testimonies of men and women, different topics are the ones that are most likely to follow food sharing. The topic that is the most likely to follow food sharing in women testimonies is again living conditions. By contrast men tend to discuss forced labour and selection following food sharing."
   ]
  },
  {
   "cell_type": "code",
   "execution_count": null,
   "metadata": {},
   "outputs": [],
   "source": []
  },
  {
   "cell_type": "code",
   "execution_count": null,
   "metadata": {},
   "outputs": [],
   "source": []
  },
  {
   "cell_type": "code",
   "execution_count": null,
   "metadata": {},
   "outputs": [],
   "source": []
  },
  {
   "cell_type": "markdown",
   "metadata": {},
   "source": [
    "## Observation 5"
   ]
  },
  {
   "cell_type": "markdown",
   "metadata": {},
   "source": [
    "### Qualitative description"
   ]
  },
  {
   "cell_type": "markdown",
   "metadata": {},
   "source": [
    "In narratives of women, the discussion of friendship tends to be preceded by the discussion of living environments and housing conditions. Very different amount of traffic is going through the following two narrative pathways :\n",
    "\n",
    "- Women (12.2%):arrival-camp intake procedures-living conditions-friends\n",
    "- Men (5.2%): arrival-selections-camp intake procedures-living conditions-friends\n",
    "\n"
   ]
  },
  {
   "cell_type": "code",
   "execution_count": null,
   "metadata": {},
   "outputs": [],
   "source": [
    "story_start = 'arrival'\n",
    "story_end = 'departure'\n",
    "to_analyze = 'friends'\n",
    "\n",
    "msms_str = ['data_set_2_m', 'data_set_2_w']\n",
    "\n",
    "\n",
    "fig, axes = plt.subplots(1, 2, figsize=(10, 4))\n",
    "\n",
    "\n",
    "for ax, name in zip(axes, msms_str):\n",
    "    graph, tpt, msm, _features_df = get_graphs_msms(name, story_start, story_end)\n",
    "    print(name)\n",
    "    print_reactive_pathways_through_node(to_analyze, _features_df, msm, tpt)\n",
    "    \n",
    "    subgraph, subgraph_weights = get_subgraph_around_topic(graph, to_analyze)\n",
    "\n",
    "    spathg_nodes = downsize_nodename_dict(_features_df, msm, subgraph)\n",
    "    \n",
    "    plot_small_graph(ax, subgraph, subgraph_weights, msm.pi[spathg_nodes])\n",
    "    ax.set_title(name)\n",
    "    print()"
   ]
  },
  {
   "cell_type": "markdown",
   "metadata": {},
   "source": [
    "### Qualitative description"
   ]
  },
  {
   "cell_type": "markdown",
   "metadata": {},
   "source": [
    "In narratives of women, the most immediate topic that follows the discussion of friendship is living conditions; this pattern is very weakly present in testimonies of men.\n"
   ]
  },
  {
   "cell_type": "code",
   "execution_count": null,
   "metadata": {},
   "outputs": [],
   "source": []
  },
  {
   "cell_type": "markdown",
   "metadata": {},
   "source": [
    "## Observation 7"
   ]
  },
  {
   "cell_type": "markdown",
   "metadata": {},
   "source": [
    "## Qualitative description"
   ]
  },
  {
   "cell_type": "markdown",
   "metadata": {},
   "source": [
    "If we look at all possible narrative pathways that can connect arrival to and departure from Birkenau, we  can see that a significant amount of traffic is going through aid giving (4%) and social bonds (3.85%). Their significance can be understood if they are compared to Appel, where 9% of traffic is going through. The amount of traffic going through friendship (0.43%) and food sharing (0.48%) is less significant. I\n",
    "\n",
    "In case of women, more traffic is going through these nodes, with an exception of food sharing:\n",
    "\n",
    "- social bonds: 3.9 %\n",
    "- aid giving: 5 %\n",
    "- friendship: 0.71\n",
    "- food sharing:  0.41 %\n",
    "\n",
    "In case of men, less traffic is going through these nodes:\n",
    "\n",
    "- social bonds: 3 %\n",
    "- aid giving: 4 %\n",
    "- friendship: 0.27\n",
    "- food sharing:  0.53 %"
   ]
  },
  {
   "cell_type": "markdown",
   "metadata": {},
   "source": [
    "#### Total traffic going through them in the complete dataset (men and women):"
   ]
  },
  {
   "cell_type": "code",
   "execution_count": null,
   "metadata": {},
   "outputs": [],
   "source": [
    "story_start = 'arrival'\n",
    "story_end = 'departure'\n",
    "flux = 1\n",
    "flux_complete = calculate_flux(data_set_1_complete,\n",
    "                               features_df.KeywordLabel.to_list(),\n",
    "                               [story_start],[story_end],\n",
    "                               fraction=flux)\n",
    "flux_complete_dataset_2 = calculate_flux(data_set_2_complete,\n",
    "                                         features_df_2.KeywordLabel.to_list(),\n",
    "                                         [story_start],[story_end],\n",
    "                                         fraction=flux)\n"
   ]
  },
  {
   "cell_type": "code",
   "execution_count": null,
   "metadata": {},
   "outputs": [],
   "source": []
  },
  {
   "cell_type": "code",
   "execution_count": null,
   "metadata": {},
   "outputs": [],
   "source": [
    "flux_complete"
   ]
  },
  {
   "cell_type": "code",
   "execution_count": null,
   "metadata": {},
   "outputs": [],
   "source": [
    "\n"
   ]
  },
  {
   "cell_type": "markdown",
   "metadata": {},
   "source": [
    "Calculate the total traffic going through social bonds"
   ]
  },
  {
   "cell_type": "code",
   "execution_count": null,
   "metadata": {},
   "outputs": [],
   "source": [
    "total_social_bonds = []\n",
    "total_aid_giving = []\n",
    "total_appell = []\n",
    "total_friends = []\n",
    "total_food_sharing = []\n",
    "total_escapes = []"
   ]
  },
  {
   "cell_type": "code",
   "execution_count": null,
   "metadata": {},
   "outputs": [],
   "source": [
    "for i,element in enumerate(flux_complete):\n",
    "    if 'social bonds' in element.split('-'):\n",
    "        total_social_bonds.append(flux_complete[element])\n",
    "print(np.array(total_social_bonds).sum())"
   ]
  },
  {
   "cell_type": "markdown",
   "metadata": {},
   "source": [
    "Calculate the total traffic going through aid giving"
   ]
  },
  {
   "cell_type": "code",
   "execution_count": null,
   "metadata": {},
   "outputs": [],
   "source": [
    "for i,element in enumerate(flux_complete):\n",
    "    if 'aid giving' in element.split('-'):\n",
    "        total_aid_giving.append(flux_complete[element])\n",
    "print(np.array(total_aid_giving).sum())"
   ]
  },
  {
   "cell_type": "markdown",
   "metadata": {},
   "source": [
    "Calculate the total traffic going through Appell"
   ]
  },
  {
   "cell_type": "code",
   "execution_count": null,
   "metadata": {},
   "outputs": [],
   "source": [
    "for i,element in enumerate(flux_complete):\n",
    "    if 'Appell' in element.split('-'):\n",
    "        total_appell.append(flux_complete[element])\n",
    "print(np.array(total_appell).sum())"
   ]
  },
  {
   "cell_type": "markdown",
   "metadata": {},
   "source": [
    "Calculate the total traffic going through escape"
   ]
  },
  {
   "cell_type": "code",
   "execution_count": null,
   "metadata": {},
   "outputs": [],
   "source": [
    "for i,element in enumerate(flux_complete):\n",
    "    if 'escapes' in element.split('-'):\n",
    "        total_escapes.append(flux_complete[element])\n",
    "print(np.array(total_escapes).sum())"
   ]
  },
  {
   "cell_type": "markdown",
   "metadata": {},
   "source": [
    "Calculate the total traffic going through friendship"
   ]
  },
  {
   "cell_type": "code",
   "execution_count": null,
   "metadata": {},
   "outputs": [],
   "source": [
    "for i,element in enumerate(flux_complete_dataset_2):\n",
    "    if 'friends' in element.split('-'):\n",
    "        total_friends.append(flux_complete_dataset_2[element])\n",
    "print(np.array(total_friends).sum())"
   ]
  },
  {
   "cell_type": "markdown",
   "metadata": {},
   "source": [
    "Calculate the total traffic going through food sharing"
   ]
  },
  {
   "cell_type": "code",
   "execution_count": null,
   "metadata": {},
   "outputs": [],
   "source": [
    "for i,element in enumerate(flux_complete_dataset_2):\n",
    "    if 'food sharing' in element.split('-'):\n",
    "        total_food_sharing.append(flux_complete_dataset_2[element])\n",
    "print(np.array(total_food_sharing).sum())"
   ]
  },
  {
   "cell_type": "code",
   "execution_count": null,
   "metadata": {},
   "outputs": [],
   "source": []
  },
  {
   "cell_type": "markdown",
   "metadata": {},
   "source": [
    "#### Total traffic going through them in the dataset of women"
   ]
  },
  {
   "cell_type": "code",
   "execution_count": null,
   "metadata": {},
   "outputs": [],
   "source": [
    "story_start = 'arrival'\n",
    "story_end = 'departure'\n",
    "flux = 1\n",
    "flux_w = calculate_flux(data_set_1_w,features_df.KeywordLabel.to_list(),[story_start],[story_end],fraction=flux)\n",
    "flux_w_dataset_2 = calculate_flux(data_set_2_w,features_df_2.KeywordLabel.to_list(),[story_start],[story_end],fraction=flux)\n"
   ]
  },
  {
   "cell_type": "code",
   "execution_count": null,
   "metadata": {},
   "outputs": [],
   "source": [
    "total_social_bonds = []\n",
    "total_aid_giving = []\n",
    "total_appell = []\n",
    "total_friends = []\n",
    "total_food_sharing = []"
   ]
  },
  {
   "cell_type": "markdown",
   "metadata": {},
   "source": [
    "Calculate the total traffic going through social bonds"
   ]
  },
  {
   "cell_type": "code",
   "execution_count": null,
   "metadata": {},
   "outputs": [],
   "source": [
    "for i,element in enumerate(flux_w):\n",
    "    if 'social bonds' in element.split('-'):\n",
    "        total_social_bonds.append(flux_w[element])\n",
    "print(np.array(total_social_bonds).sum())"
   ]
  },
  {
   "cell_type": "markdown",
   "metadata": {},
   "source": [
    "Calculate the total traffic going through aid giving"
   ]
  },
  {
   "cell_type": "code",
   "execution_count": null,
   "metadata": {},
   "outputs": [],
   "source": [
    "for i,element in enumerate(flux_w):\n",
    "    if 'aid giving' in element.split('-'):\n",
    "        total_aid_giving.append(flux_w[element])\n",
    "print(np.array(total_aid_giving).sum())"
   ]
  },
  {
   "cell_type": "markdown",
   "metadata": {},
   "source": [
    "Calculate the total traffic going through friendship"
   ]
  },
  {
   "cell_type": "code",
   "execution_count": null,
   "metadata": {},
   "outputs": [],
   "source": [
    "for i,element in enumerate(flux_w_dataset_2):\n",
    "    if 'friends' in element.split('-'):\n",
    "        total_friends.append(flux_w_dataset_2[element])\n",
    "print(np.array(total_friends).sum())"
   ]
  },
  {
   "cell_type": "markdown",
   "metadata": {},
   "source": [
    "Calculate the total traffic going through food sharing"
   ]
  },
  {
   "cell_type": "code",
   "execution_count": null,
   "metadata": {},
   "outputs": [],
   "source": [
    "for i,element in enumerate(flux_w_dataset_2):\n",
    "    if 'food sharing' in element.split('-'):\n",
    "        total_food_sharing.append(flux_w_dataset_2[element])\n",
    "        print (element)\n",
    "        print (flux_w_dataset_2[element])\n",
    "print(np.array(total_food_sharing).sum())"
   ]
  },
  {
   "cell_type": "markdown",
   "metadata": {},
   "source": [
    "#### Total traffic going through them in the dataset of men"
   ]
  },
  {
   "cell_type": "code",
   "execution_count": null,
   "metadata": {},
   "outputs": [],
   "source": [
    "story_start = 'arrival'\n",
    "story_end = 'departure'\n",
    "flux = 1\n",
    "flux_m = calculate_flux(data_set_1_m,features_df.KeywordLabel.to_list(),[story_start],[story_end],fraction=flux)\n",
    "flux_m_dataset_2 = calculate_flux(data_set_2_m,features_df_2.KeywordLabel.to_list(),[story_start],[story_end],fraction=flux)\n"
   ]
  },
  {
   "cell_type": "code",
   "execution_count": null,
   "metadata": {},
   "outputs": [],
   "source": [
    "total_social_bonds = []\n",
    "total_aid_giving = []\n",
    "total_appell = []\n",
    "total_friends = []\n",
    "total_food_sharing = []\n",
    "\n"
   ]
  },
  {
   "cell_type": "markdown",
   "metadata": {},
   "source": [
    "Calculate the total traffic going through social bonds"
   ]
  },
  {
   "cell_type": "code",
   "execution_count": null,
   "metadata": {},
   "outputs": [],
   "source": [
    "for i,element in enumerate(flux_m):\n",
    "    if 'social bonds' in element.split('-'):\n",
    "        total_social_bonds.append(flux_m[element])\n",
    "print(np.array(total_social_bonds).sum())"
   ]
  },
  {
   "cell_type": "markdown",
   "metadata": {},
   "source": [
    "Calculate the total traffic going through aid giving"
   ]
  },
  {
   "cell_type": "code",
   "execution_count": null,
   "metadata": {},
   "outputs": [],
   "source": [
    "for i,element in enumerate(flux_m):\n",
    "    if 'aid giving' in element.split('-'):\n",
    "        total_aid_giving.append(flux_m[element])\n",
    "print(np.array(total_aid_giving).sum())"
   ]
  },
  {
   "cell_type": "markdown",
   "metadata": {},
   "source": [
    "Calculate the total traffic going through friendship"
   ]
  },
  {
   "cell_type": "code",
   "execution_count": null,
   "metadata": {},
   "outputs": [],
   "source": [
    "for i,element in enumerate(flux_m_dataset_2):\n",
    "    if 'friends' in element.split('-'):\n",
    "        total_friends.append(flux_m_dataset_2[element])\n",
    "print(np.array(total_friends).sum())"
   ]
  },
  {
   "cell_type": "markdown",
   "metadata": {},
   "source": [
    "Calculate the total traffic going through food sharing"
   ]
  },
  {
   "cell_type": "code",
   "execution_count": null,
   "metadata": {},
   "outputs": [],
   "source": [
    "total_food_sharing = []"
   ]
  },
  {
   "cell_type": "code",
   "execution_count": null,
   "metadata": {},
   "outputs": [],
   "source": [
    "for i,element in enumerate(flux_m_dataset_2):\n",
    "    if 'food sharing' in element.split('-'):\n",
    "        print (element)\n",
    "        print (flux_m_dataset_2[element])\n",
    "        total_food_sharing.append(flux_m_dataset_2[element])\n",
    "print(np.array(total_food_sharing).sum())"
   ]
  },
  {
   "cell_type": "markdown",
   "metadata": {},
   "source": [
    "## Observation 8"
   ]
  },
  {
   "cell_type": "markdown",
   "metadata": {},
   "source": [
    "### Qualitative Description"
   ]
  },
  {
   "cell_type": "markdown",
   "metadata": {},
   "source": [
    "In testimonies of women there are important narrative pathways that lead to the discussion of survival explanations and involve social bonds and aid giving as states preceding survival explanations; in testimonies of men such paths have significantly less traffic. We can see a similar pattern with friends and food sharing, though they are less significant."
   ]
  },
  {
   "cell_type": "code",
   "execution_count": null,
   "metadata": {},
   "outputs": [],
   "source": [
    "story_start = 'arrival'\n",
    "story_end = 'survival explanations'\n"
   ]
  },
  {
   "cell_type": "code",
   "execution_count": null,
   "metadata": {},
   "outputs": [],
   "source": [
    "flux = 1\n",
    "flux_w = calculate_flux(data_set_1_w,features_df.KeywordLabel.to_list(),[story_start],[story_end],fraction=flux)\n",
    "print ('\\n')\n",
    "flux_m = calculate_flux(data_set_1_m,features_df.KeywordLabel.to_list(),[story_start],[story_end],fraction=flux)"
   ]
  },
  {
   "cell_type": "markdown",
   "metadata": {},
   "source": [
    "Find social bonds in women narratives"
   ]
  },
  {
   "cell_type": "code",
   "execution_count": null,
   "metadata": {},
   "outputs": [],
   "source": [
    "for element in flux_w:\n",
    "    if 'social bonds' in element.split('-'):\n",
    "        print (element)\n",
    "        print (flux_w[element])\n",
    "        print ('\\n')"
   ]
  },
  {
   "cell_type": "markdown",
   "metadata": {},
   "source": [
    "Find aid giving in women narratives"
   ]
  },
  {
   "cell_type": "code",
   "execution_count": null,
   "metadata": {},
   "outputs": [],
   "source": [
    "for element in flux_w:\n",
    "    if 'aid giving' in element.split('-'):\n",
    "        print (element)\n",
    "        print (flux_w[element])\n",
    "        print ('\\n')"
   ]
  },
  {
   "cell_type": "markdown",
   "metadata": {},
   "source": [
    "Find social bonds in men narratives"
   ]
  },
  {
   "cell_type": "code",
   "execution_count": null,
   "metadata": {},
   "outputs": [],
   "source": [
    "for element in flux_m:\n",
    "    if 'social bonds' in element.split('-'):\n",
    "        print (element)\n",
    "        print (flux_m[element])\n",
    "        print ('\\n')"
   ]
  },
  {
   "cell_type": "markdown",
   "metadata": {},
   "source": [
    "Find aid giving in men narratives"
   ]
  },
  {
   "cell_type": "code",
   "execution_count": null,
   "metadata": {},
   "outputs": [],
   "source": [
    "for element in flux_m:\n",
    "    if 'aid giving' in element.split('-'):\n",
    "        print (element)\n",
    "        print (flux_m[element])\n",
    "        print ('\\n')"
   ]
  },
  {
   "cell_type": "markdown",
   "metadata": {},
   "source": [
    "## Visualize"
   ]
  },
  {
   "cell_type": "markdown",
   "metadata": {},
   "source": [
    "Notice that aid giving and social bonds are \"missing\" from the plot showing men"
   ]
  },
  {
   "cell_type": "code",
   "execution_count": null,
   "metadata": {},
   "outputs": [],
   "source": [
    "flux = 0.48\n",
    "visualize_most_important_paths(data_set_1_w,flux,features_df,story_start,story_end,None)\n",
    "visualize_most_important_paths(data_set_1_m,flux,features_df,story_start,story_end,None)"
   ]
  },
  {
   "cell_type": "code",
   "execution_count": null,
   "metadata": {},
   "outputs": [],
   "source": [
    "story_start = 'arrival'\n",
    "story_end = 'survival explanations'\n",
    "flux = 1\n",
    "flux_w = calculate_flux(data_set_2_w,features_df_2.KeywordLabel.to_list(),[story_start],[story_end],fraction=flux)\n",
    "print ('\\n')\n",
    "flux_m = calculate_flux(data_set_2_m,features_df_2.KeywordLabel.to_list(),[story_start],[story_end],fraction=flux)\n",
    "\n"
   ]
  },
  {
   "cell_type": "markdown",
   "metadata": {},
   "source": [
    "Find friends in women narratives"
   ]
  },
  {
   "cell_type": "code",
   "execution_count": null,
   "metadata": {},
   "outputs": [],
   "source": [
    "for element in flux_w:\n",
    "    if 'friends' in element.split('-'):\n",
    "        print (element)\n",
    "        print (flux_w[element])\n",
    "        print ('\\n')"
   ]
  },
  {
   "cell_type": "markdown",
   "metadata": {},
   "source": [
    "Find food sharing in women narratives"
   ]
  },
  {
   "cell_type": "code",
   "execution_count": null,
   "metadata": {},
   "outputs": [],
   "source": [
    "for element in flux_w:\n",
    "    if 'food sharing' in element.split('-'):\n",
    "        print (element)\n",
    "        print (flux_w[element])\n",
    "        print ('\\n')"
   ]
  },
  {
   "cell_type": "markdown",
   "metadata": {},
   "source": [
    "Find friends in men narratives"
   ]
  },
  {
   "cell_type": "code",
   "execution_count": null,
   "metadata": {},
   "outputs": [],
   "source": [
    "for element in flux_m:\n",
    "    if 'friends' in element.split('-'):\n",
    "        print (element)\n",
    "        print (flux_m[element])\n",
    "        print ('\\n')"
   ]
  },
  {
   "cell_type": "markdown",
   "metadata": {},
   "source": [
    "Find food sharing in men narratives"
   ]
  },
  {
   "cell_type": "code",
   "execution_count": null,
   "metadata": {},
   "outputs": [],
   "source": [
    "for element in flux_m:\n",
    "    if 'food sharing' in element.split('-'):\n",
    "        print (element)\n",
    "        print (flux_m[element])\n",
    "        print ('\\n')"
   ]
  },
  {
   "cell_type": "markdown",
   "metadata": {},
   "source": [
    "## Observation 9"
   ]
  },
  {
   "cell_type": "markdown",
   "metadata": {},
   "source": [
    "### Qualitative description"
   ]
  },
  {
   "cell_type": "markdown",
   "metadata": {},
   "source": [
    "The moment when one particularly needed the help of others was the selection, when the ill and those who were unable to work were selected to be sent to gas chambers. In testimonies we can often read that victims helped each other in these moments (for instance by hiding or holding the ill); yet victims attribute their survival of selections to the help of their peers and friends. This narrative frame corresponds to the following narrative pathways:\n",
    "- selections-social bonds-survival explanations\n",
    "- selections-aid giving-survival explanations\n",
    "\n",
    "These narrative pathways are more significant in testimonies of women than men.\n"
   ]
  },
  {
   "cell_type": "markdown",
   "metadata": {},
   "source": [
    "### Visualization"
   ]
  },
  {
   "cell_type": "code",
   "execution_count": null,
   "metadata": {},
   "outputs": [],
   "source": [
    "story_start = 'selections'\n",
    "story_end = 'survival explanations'\n",
    "flux = 1\n",
    "flux_w = calculate_flux(data_set_1_w,features_df.KeywordLabel.to_list(),[story_start],[story_end],fraction=flux)\n",
    "print ('\\n')\n",
    "flux_m = calculate_flux(data_set_1_m,features_df.KeywordLabel.to_list(),[story_start],[story_end],fraction=flux)"
   ]
  },
  {
   "cell_type": "markdown",
   "metadata": {},
   "source": [
    "Find social bonds as transitionary topic between selection and survival explanation in narratives of women"
   ]
  },
  {
   "cell_type": "code",
   "execution_count": null,
   "metadata": {},
   "outputs": [],
   "source": [
    "for element in flux_w:\n",
    "    if 'social bonds' in element.split('-') and len(element.split('-'))<5:\n",
    "        print (element)\n",
    "        print (flux_w[element])\n",
    "        print ('\\n')"
   ]
  },
  {
   "cell_type": "markdown",
   "metadata": {},
   "source": [
    "Find social bonds as transitionary topic between selection and survival explanation in narratives of men"
   ]
  },
  {
   "cell_type": "code",
   "execution_count": null,
   "metadata": {},
   "outputs": [],
   "source": [
    "for element in flux_m:\n",
    "    if 'social bonds' in element.split('-') and len(element.split('-'))<5:\n",
    "        print (element)\n",
    "        print (flux_m[element])\n",
    "        print ('\\n')"
   ]
  },
  {
   "cell_type": "markdown",
   "metadata": {},
   "source": [
    "Find aid giving as transitionary topic between selection and survival explanation in narratives of women"
   ]
  },
  {
   "cell_type": "code",
   "execution_count": null,
   "metadata": {},
   "outputs": [],
   "source": [
    "for element in flux_w:\n",
    "    if 'aid giving' in element.split('-') and len(element.split('-'))<5:\n",
    "        print (element)\n",
    "        print (flux_w[element])\n",
    "        print ('\\n')"
   ]
  },
  {
   "cell_type": "markdown",
   "metadata": {},
   "source": [
    "Find aid giving as transitionary topic between selection and survival explanation in narratives of men"
   ]
  },
  {
   "cell_type": "code",
   "execution_count": null,
   "metadata": {},
   "outputs": [],
   "source": [
    "for element in flux_m:\n",
    "    if 'aid giving' in element.split('-') and len(element.split('-'))<5:\n",
    "        print (element)\n",
    "        print (flux_m[element])\n",
    "        print ('\\n')"
   ]
  },
  {
   "cell_type": "markdown",
   "metadata": {},
   "source": [
    "## Interpretation"
   ]
  },
  {
   "cell_type": "markdown",
   "metadata": {},
   "source": [
    "The main context of solidarity for women was the barack, i.e. the everyday living environment. By contrast, for men solidarity was rather connected with forced labour and the working environment. Therefore, women and men remember about acts of solidarity in different contexts, which also suggests that they took place in different contexts in the past.\n",
    "\n",
    "We can see a similar pattern with social activity. Women discuss it in the context of the living environment, whereas man discuss it in the context of work environment.\n",
    "\n",
    "Generally, speaking if we look at the amount of traffic going through social activity and solidarity, we can see that in case of  women more traffic is going towards solidarity and social activity. \n",
    "\n",
    "What also illustrates the different role of solidarity and sociability for men and women is that women are likely to attribute their survival to them"
   ]
  },
  {
   "cell_type": "code",
   "execution_count": null,
   "metadata": {},
   "outputs": [],
   "source": []
  }
 ],
 "metadata": {
  "kernelspec": {
   "display_name": "Python 3",
   "language": "python",
   "name": "python3"
  },
  "language_info": {
   "codemirror_mode": {
    "name": "ipython",
    "version": 3
   },
   "file_extension": ".py",
   "mimetype": "text/x-python",
   "name": "python",
   "nbconvert_exporter": "python",
   "pygments_lexer": "ipython3",
   "version": "3.7.2"
  }
 },
 "nbformat": 4,
 "nbformat_minor": 2
}

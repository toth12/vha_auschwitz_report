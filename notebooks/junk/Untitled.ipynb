{
 "cells": [
  {
   "cell_type": "code",
   "execution_count": 1,
   "metadata": {},
   "outputs": [
    {
     "name": "stdout",
     "output_type": "stream",
     "text": [
      "hh\n"
     ]
    }
   ],
   "source": [
    "import sys\n",
    "print ('hh')"
   ]
  },
  {
   "cell_type": "code",
   "execution_count": 2,
   "metadata": {},
   "outputs": [
    {
     "name": "stdout",
     "output_type": "stream",
     "text": [
      "Hello World!\n"
     ]
    }
   ],
   "source": [
    "print('Hello World!')"
   ]
  },
  {
   "cell_type": "markdown",
   "metadata": {},
   "source": [
    "#### convert trajectories using the following approach:\n",
    "In this notebook I'm trying to show the TPT analysis that I was doing. It relies on the segment keyword matrix that I computed in my branch of the project. This all only works on the \"complete\" dataset only right now.\n",
    "\n"
   ]
  },
  {
   "cell_type": "code",
   "execution_count": 3,
   "metadata": {},
   "outputs": [
    {
     "name": "stdout",
     "output_type": "stream",
     "text": [
      "['/Users/gmt28/Documents/Workspace/vha_auschwitz_report_public/vha_auschwitz_report/notebooks', '/Users/gmt28/Documents/Workspace/vha_auschwitz_report_public/vha_auschwitz_report/notebooks', '/Users/gmt28/Documents/Workspace/Docker_Engine/varad/hol', '/miniconda3/lib/python37.zip', '/miniconda3/lib/python3.7', '/miniconda3/lib/python3.7/lib-dynload', '', '/Users/gmt28/.local/lib/python3.7/site-packages', '/miniconda3/lib/python3.7/site-packages', '/miniconda3/lib/python3.7/site-packages/cas_client-1.0.0-py3.7.egg', '/miniconda3/lib/python3.7/site-packages/tox-3.8.1-py3.7.egg', '/miniconda3/lib/python3.7/site-packages/pycryptodome-3.8.0-py3.7-macosx-10.7-x86_64.egg', '/miniconda3/lib/python3.7/site-packages/virtualenv-16.4.3-py3.7.egg', '/miniconda3/lib/python3.7/site-packages/toml-0.10.0-py3.7.egg', '/miniconda3/lib/python3.7/site-packages/py-1.8.0-py3.7.egg', '/miniconda3/lib/python3.7/site-packages/pluggy-0.9.0-py3.7.egg', '/miniconda3/lib/python3.7/site-packages/filelock-3.0.10-py3.7.egg', '/miniconda3/lib/python3.7/site-packages/IPython/extensions', '/var/folders/xs/sj3jhyss5c54vc9k08_ghz39q764f6/T/tmpj6xfcwqh']\n"
     ]
    }
   ],
   "source": [
    "sys.path.remove(\"/Users/gmt28/Documents/Workspace/Docker_Engine/varad\")\n",
    "print(sys.path)"
   ]
  },
  {
   "cell_type": "code",
   "execution_count": null,
   "metadata": {},
   "outputs": [],
   "source": []
  },
  {
   "cell_type": "code",
   "execution_count": null,
   "metadata": {},
   "outputs": [],
   "source": []
  },
  {
   "cell_type": "code",
   "execution_count": null,
   "metadata": {},
   "outputs": [],
   "source": []
  }
 ],
 "metadata": {
  "kernelspec": {
   "display_name": "base",
   "language": "python",
   "name": "base"
  },
  "language_info": {
   "codemirror_mode": {
    "name": "ipython",
    "version": 3
   },
   "file_extension": ".py",
   "mimetype": "text/x-python",
   "name": "python",
   "nbconvert_exporter": "python",
   "pygments_lexer": "ipython3",
   "version": "3.7.2"
  }
 },
 "nbformat": 4,
 "nbformat_minor": 2
}

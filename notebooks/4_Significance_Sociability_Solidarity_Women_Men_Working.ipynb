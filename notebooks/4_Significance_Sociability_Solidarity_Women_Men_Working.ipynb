{
 "cells": [
  {
   "cell_type": "markdown",
   "metadata": {},
   "source": [
    "# Topics of Sociability and Solidarity in Recollections of men and women who worked in Birkenau"
   ]
  },
  {
   "cell_type": "markdown",
   "metadata": {},
   "source": [
    "\n",
    "\n",
    " ### Research Question:"
   ]
  },
  {
   "cell_type": "markdown",
   "metadata": {},
   "source": [
    "Did solidarity and sociability thrive more among women who were forced to work than men who were forced to work? Can we observe the same trend in the working population as in the entire population (i.e. women discuss more solidarity and sociability than men)?"
   ]
  },
  {
   "cell_type": "markdown",
   "metadata": {},
   "source": [
    "### Further point to consider:"
   ]
  },
  {
   "cell_type": "markdown",
   "metadata": {},
   "source": [
    " - Majority of women and men did not work\n",
    " - More or less the same percentage of women and men worked"
   ]
  },
  {
   "cell_type": "code",
   "execution_count": 1,
   "metadata": {},
   "outputs": [],
   "source": [
    "import json\n",
    "import os\n",
    "import constants\n",
    "path = os.getcwd()\n",
    "parent = os.path.abspath(os.path.join(path, os.pardir))\n",
    "with open(parent+'/'+constants.output_data_segment_keyword_matrix + \"metadata_partitions.json\") as read_file:\n",
    "        metadata_partitions = json.load(read_file)\n",
    "        \n",
    "total_number_of_persons = len(metadata_partitions['complete'])"
   ]
  },
  {
   "cell_type": "markdown",
   "metadata": {},
   "source": [
    "Percentage of those women who worked"
   ]
  },
  {
   "cell_type": "code",
   "execution_count": 2,
   "metadata": {},
   "outputs": [
    {
     "data": {
      "text/plain": [
       "23.025027203482047"
      ]
     },
     "execution_count": 2,
     "metadata": {},
     "output_type": "execute_result"
    }
   ],
   "source": [
    "(len(metadata_partitions['work_w']) / len(metadata_partitions['complete_w'])*100)"
   ]
  },
  {
   "cell_type": "markdown",
   "metadata": {},
   "source": [
    "Percentage of those men who worked"
   ]
  },
  {
   "cell_type": "code",
   "execution_count": 3,
   "metadata": {},
   "outputs": [
    {
     "data": {
      "text/plain": [
       "25.87309394982784"
      ]
     },
     "execution_count": 3,
     "metadata": {},
     "output_type": "execute_result"
    }
   ],
   "source": [
    "(len(metadata_partitions['work_m']) / len(metadata_partitions['complete_m'])*100)"
   ]
  },
  {
   "cell_type": "markdown",
   "metadata": {},
   "source": [
    "- In Auschwitz-Birkenau, people had different types of work. It is believed that women tended to do easier jobs; can this explain why they showed more solidarity and sociability towards each other? I.e. for instance, one who does \"translation\" has more energy to be social than one who works on road construction. One who works in the kitchen is more likely to share food, etc. Nevertheless, more or less the same percentage of women and men did the same type of work in our data set. The types of forced labour victims discuss were divided into three categories: easy, medium, hard, and below is the comparison normalized to the total men and women population in the data. (Percentage does not add up since one could report different types of forced labour)"
   ]
  },
  {
   "cell_type": "markdown",
   "metadata": {},
   "source": [
    "Percentage of those men who did hard work:"
   ]
  },
  {
   "cell_type": "code",
   "execution_count": 4,
   "metadata": {},
   "outputs": [
    {
     "data": {
      "text/plain": [
       "14.067879980324644"
      ]
     },
     "execution_count": 4,
     "metadata": {},
     "output_type": "execute_result"
    }
   ],
   "source": [
    "(len(metadata_partitions['hard_m']) / len(metadata_partitions['complete_m'])*100)"
   ]
  },
  {
   "cell_type": "markdown",
   "metadata": {},
   "source": [
    "Percentage of those women who did hard work"
   ]
  },
  {
   "cell_type": "code",
   "execution_count": 5,
   "metadata": {},
   "outputs": [
    {
     "data": {
      "text/plain": [
       "8.857453754080522"
      ]
     },
     "execution_count": 5,
     "metadata": {},
     "output_type": "execute_result"
    }
   ],
   "source": [
    "(len(metadata_partitions['hard_w']) / len(metadata_partitions['complete_w'])*100)"
   ]
  },
  {
   "cell_type": "markdown",
   "metadata": {},
   "source": [
    "Percentage of those men who did medium-hard work:"
   ]
  },
  {
   "cell_type": "code",
   "execution_count": 6,
   "metadata": {},
   "outputs": [
    {
     "data": {
      "text/plain": [
       "14.559763895720609"
      ]
     },
     "execution_count": 6,
     "metadata": {},
     "output_type": "execute_result"
    }
   ],
   "source": [
    "(len(metadata_partitions['medium_m']) / len(metadata_partitions['complete_m'])*100)"
   ]
  },
  {
   "cell_type": "markdown",
   "metadata": {},
   "source": [
    "Percentage of those women who did medium-hard work"
   ]
  },
  {
   "cell_type": "code",
   "execution_count": 7,
   "metadata": {},
   "outputs": [
    {
     "data": {
      "text/plain": [
       "16.517954298150165"
      ]
     },
     "execution_count": 7,
     "metadata": {},
     "output_type": "execute_result"
    }
   ],
   "source": [
    "(len(metadata_partitions['medium_w']) / len(metadata_partitions['complete_w'])*100)"
   ]
  },
  {
   "cell_type": "markdown",
   "metadata": {},
   "source": [
    "Percentage of women who did easy work"
   ]
  },
  {
   "cell_type": "code",
   "execution_count": 8,
   "metadata": {},
   "outputs": [
    {
     "data": {
      "text/plain": [
       "1.6974972796517953"
      ]
     },
     "execution_count": 8,
     "metadata": {},
     "output_type": "execute_result"
    }
   ],
   "source": [
    "(len(metadata_partitions['easy_w']) / len(metadata_partitions['complete_w'])*100)"
   ]
  },
  {
   "cell_type": "markdown",
   "metadata": {},
   "source": [
    "Percentage of men who did easy work"
   ]
  },
  {
   "cell_type": "code",
   "execution_count": 9,
   "metadata": {},
   "outputs": [
    {
     "data": {
      "text/plain": [
       "2.6069847515986226"
      ]
     },
     "execution_count": 9,
     "metadata": {},
     "output_type": "execute_result"
    }
   ],
   "source": [
    "(len(metadata_partitions['easy_m']) / len(metadata_partitions['complete_m'])*100)"
   ]
  },
  {
   "cell_type": "markdown",
   "metadata": {},
   "source": [
    "## Load the relevant data"
   ]
  },
  {
   "cell_type": "markdown",
   "metadata": {},
   "source": [
    "Load the libraries needed to work with the data"
   ]
  },
  {
   "cell_type": "code",
   "execution_count": 10,
   "metadata": {},
   "outputs": [],
   "source": [
    "import constants\n",
    "import pandas as pd\n",
    "import os\n",
    "from IPython.display import display"
   ]
  },
  {
   "cell_type": "markdown",
   "metadata": {},
   "source": [
    "Set up the paths to data"
   ]
  },
  {
   "cell_type": "markdown",
   "metadata": {},
   "source": [
    "Two different datasets were created. In Dataset 1, the topic 'social bonds' include 'friendship' as well; similarly the topic 'aid giving' includes 'food sharing'. In Dataset 2, 'friendship' and 'food sharing' are distinguished, and they are different topics."
   ]
  },
  {
   "cell_type": "markdown",
   "metadata": {},
   "source": [
    "First, load Dataset 1"
   ]
  },
  {
   "cell_type": "code",
   "execution_count": 11,
   "metadata": {},
   "outputs": [],
   "source": [
    "input_directory = constants.output_data_markov_modelling\n",
    "\n",
    "path = os.getcwd()\n",
    "parent = os.path.abspath(os.path.join(path, os.pardir))\n",
    "input_directory = parent +'/'+ constants.output_data_markov_modelling"
   ]
  },
  {
   "cell_type": "code",
   "execution_count": 12,
   "metadata": {},
   "outputs": [],
   "source": [
    "p_work_m_dataset_1 = pd.read_csv(input_directory+'work_m'+'/'+'stationary_probs.csv')\n",
    "\n",
    "p_work_w_dataset_1 = pd.read_csv(input_directory+'work_w'+'/'+'stationary_probs.csv')\n",
    "\n",
    "input_directory = parent +'/'+ constants.output_data_report_statistical_analysis\n",
    "input_file = 'strength_of_association_odds_ratio_work_m_work_w.csv'\n",
    "df_fisher_dataset_1 = pd.read_csv(input_directory+input_file)"
   ]
  },
  {
   "cell_type": "markdown",
   "metadata": {},
   "source": [
    "Second,load Dataset 2"
   ]
  },
  {
   "cell_type": "code",
   "execution_count": 13,
   "metadata": {},
   "outputs": [],
   "source": [
    "input_directory = 'data/output_aid_giving_sociability_expanded/markov_modelling/'\n",
    "\n",
    "path = os.getcwd()\n",
    "parent = os.path.abspath(os.path.join(path, os.pardir))\n",
    "input_directory = parent +'/'+ input_directory "
   ]
  },
  {
   "cell_type": "code",
   "execution_count": 14,
   "metadata": {},
   "outputs": [],
   "source": [
    "p_work_m_dataset_2 = pd.read_csv(input_directory+'work_m'+'/'+'stationary_probs.csv')\n",
    "\n",
    "p_work_w_dataset_2 = pd.read_csv(input_directory+'work_w'+'/'+'stationary_probs.csv')\n",
    "\n",
    "input_directory = \"data/output_aid_giving_sociability_expanded/reports_statistical_analysis/\"\n",
    "input_file = 'strength_of_association_odds_ratio_work_m_work_w.csv'\n",
    "df_fisher_data_2 = pd.read_csv(parent +'/'+input_directory+input_file)"
   ]
  },
  {
   "cell_type": "code",
   "execution_count": 15,
   "metadata": {},
   "outputs": [
    {
     "data": {
      "text/plain": [
       "'data/output_aid_giving_sociability_expanded/reports_statistical_analysis/'"
      ]
     },
     "execution_count": 15,
     "metadata": {},
     "output_type": "execute_result"
    }
   ],
   "source": [
    "input_directory"
   ]
  },
  {
   "cell_type": "code",
   "execution_count": 16,
   "metadata": {},
   "outputs": [],
   "source": [
    "df_fisher_data_2 = pd.read_csv(parent +'/'+input_directory+input_file)"
   ]
  },
  {
   "cell_type": "markdown",
   "metadata": {},
   "source": [
    "### Use menstruation as a checkpoint"
   ]
  },
  {
   "cell_type": "code",
   "execution_count": 37,
   "metadata": {},
   "outputs": [
    {
     "name": "stdout",
     "output_type": "stream",
     "text": [
      "Series([], Name: stationary_prob, dtype: float64)\n"
     ]
    }
   ],
   "source": [
    "mens_m = p_work_m_dataset_1[p_work_m_dataset_1.topic_name=='menstruation']['stationary_prob']\n",
    "print (mens_m)"
   ]
  },
  {
   "cell_type": "code",
   "execution_count": 38,
   "metadata": {},
   "outputs": [
    {
     "name": "stdout",
     "output_type": "stream",
     "text": [
      "0.003090445261359345\n"
     ]
    }
   ],
   "source": [
    "mens_=w = p_work_w_dataset_1[p_work_w_dataset_1.topic_name=='menstruation']['stationary_prob']\n",
    "print (mens_w)"
   ]
  },
  {
   "cell_type": "markdown",
   "metadata": {},
   "source": [
    "## Observation 1"
   ]
  },
  {
   "cell_type": "markdown",
   "metadata": {},
   "source": [
    "## Qualitative description"
   ]
  },
  {
   "cell_type": "markdown",
   "metadata": {},
   "source": [
    "Women who worked are significantly more likely to discuss social bonds and friendship than men who worked. Friendship is supported by Fisher test, but social bonds is not (the difference is not significant)."
   ]
  },
  {
   "cell_type": "markdown",
   "metadata": {},
   "source": [
    "## Quantitative proof"
   ]
  },
  {
   "cell_type": "code",
   "execution_count": 18,
   "metadata": {},
   "outputs": [],
   "source": [
    "social_bonds_working_w = p_work_w_dataset_1[p_work_w_dataset_1.topic_name=='social bonds']['stationary_prob'].values[0]\n",
    "social_bonds_working_m = p_work_m_dataset_1[p_work_m_dataset_1.topic_name=='social bonds']['stationary_prob'].values[0]"
   ]
  },
  {
   "cell_type": "code",
   "execution_count": 19,
   "metadata": {},
   "outputs": [
    {
     "data": {
      "text/plain": [
       "1.2096491819207695"
      ]
     },
     "execution_count": 19,
     "metadata": {},
     "output_type": "execute_result"
    }
   ],
   "source": [
    "social_bonds_working_w / social_bonds_working_m"
   ]
  },
  {
   "cell_type": "markdown",
   "metadata": {},
   "source": [
    "![title](output/markov_modelling/bootstrap/work_w_work_m/social%20bonds.png)"
   ]
  },
  {
   "cell_type": "code",
   "execution_count": 20,
   "metadata": {},
   "outputs": [],
   "source": [
    "friends_w = p_work_w_dataset_2[p_work_w_dataset_2.topic_name=='friends']['stationary_prob'].values[0]\n",
    "friends_m = p_work_m_dataset_2[p_work_m_dataset_2.topic_name=='friends']['stationary_prob'].values[0]"
   ]
  },
  {
   "cell_type": "code",
   "execution_count": 21,
   "metadata": {},
   "outputs": [
    {
     "data": {
      "text/plain": [
       "1.9104007386126982"
      ]
     },
     "execution_count": 21,
     "metadata": {},
     "output_type": "execute_result"
    }
   ],
   "source": [
    "friends_w / friends_m"
   ]
  },
  {
   "cell_type": "markdown",
   "metadata": {},
   "source": [
    "![title](output_aid_giving_sociability_expanded/markov_modelling/bootstrap/work_w_work_m/friends.png) "
   ]
  },
  {
   "cell_type": "markdown",
   "metadata": {},
   "source": [
    "### Comparison with results of Fisher test"
   ]
  },
  {
   "cell_type": "code",
   "execution_count": 22,
   "metadata": {},
   "outputs": [
    {
     "data": {
      "text/html": [
       "<div>\n",
       "<style scoped>\n",
       "    .dataframe tbody tr th:only-of-type {\n",
       "        vertical-align: middle;\n",
       "    }\n",
       "\n",
       "    .dataframe tbody tr th {\n",
       "        vertical-align: top;\n",
       "    }\n",
       "\n",
       "    .dataframe thead th {\n",
       "        text-align: right;\n",
       "    }\n",
       "</style>\n",
       "<table border=\"1\" class=\"dataframe\">\n",
       "  <thead>\n",
       "    <tr style=\"text-align: right;\">\n",
       "      <th></th>\n",
       "      <th>Unnamed: 0</th>\n",
       "      <th>topic_word</th>\n",
       "      <th>p_value</th>\n",
       "      <th>work_m</th>\n",
       "      <th>work_w</th>\n",
       "      <th>count_work_m</th>\n",
       "      <th>count_work_w</th>\n",
       "      <th>significance_Bonferroni_corrected</th>\n",
       "      <th>significance</th>\n",
       "    </tr>\n",
       "  </thead>\n",
       "  <tbody>\n",
       "    <tr>\n",
       "      <th>19</th>\n",
       "      <td>53</td>\n",
       "      <td>friends</td>\n",
       "      <td>0.014452</td>\n",
       "      <td>0.574974</td>\n",
       "      <td>1.739209</td>\n",
       "      <td>27</td>\n",
       "      <td>91</td>\n",
       "      <td>False</td>\n",
       "      <td>True</td>\n",
       "    </tr>\n",
       "  </tbody>\n",
       "</table>\n",
       "</div>"
      ],
      "text/plain": [
       "    Unnamed: 0 topic_word   p_value    work_m    work_w  count_work_m  \\\n",
       "19          53    friends  0.014452  0.574974  1.739209            27   \n",
       "\n",
       "    count_work_w  significance_Bonferroni_corrected  significance  \n",
       "19            91                              False          True  "
      ]
     },
     "metadata": {},
     "output_type": "display_data"
    }
   ],
   "source": [
    "display(df_fisher_data_2[df_fisher_data_2.topic_word==\"friends\"])"
   ]
  },
  {
   "cell_type": "code",
   "execution_count": 23,
   "metadata": {},
   "outputs": [
    {
     "data": {
      "text/html": [
       "<div>\n",
       "<style scoped>\n",
       "    .dataframe tbody tr th:only-of-type {\n",
       "        vertical-align: middle;\n",
       "    }\n",
       "\n",
       "    .dataframe tbody tr th {\n",
       "        vertical-align: top;\n",
       "    }\n",
       "\n",
       "    .dataframe thead th {\n",
       "        text-align: right;\n",
       "    }\n",
       "</style>\n",
       "<table border=\"1\" class=\"dataframe\">\n",
       "  <thead>\n",
       "    <tr style=\"text-align: right;\">\n",
       "      <th></th>\n",
       "      <th>Unnamed: 0</th>\n",
       "      <th>topic_word</th>\n",
       "      <th>p_value</th>\n",
       "      <th>work_m</th>\n",
       "      <th>work_w</th>\n",
       "      <th>count_work_m</th>\n",
       "      <th>count_work_w</th>\n",
       "      <th>significance_Bonferroni_corrected</th>\n",
       "      <th>significance</th>\n",
       "    </tr>\n",
       "  </thead>\n",
       "  <tbody>\n",
       "    <tr>\n",
       "      <th>56</th>\n",
       "      <td>97</td>\n",
       "      <td>social bonds</td>\n",
       "      <td>0.282273</td>\n",
       "      <td>0.876451</td>\n",
       "      <td>1.140965</td>\n",
       "      <td>135</td>\n",
       "      <td>299</td>\n",
       "      <td>False</td>\n",
       "      <td>False</td>\n",
       "    </tr>\n",
       "  </tbody>\n",
       "</table>\n",
       "</div>"
      ],
      "text/plain": [
       "    Unnamed: 0    topic_word   p_value    work_m    work_w  count_work_m  \\\n",
       "56          97  social bonds  0.282273  0.876451  1.140965           135   \n",
       "\n",
       "    count_work_w  significance_Bonferroni_corrected  significance  \n",
       "56           299                              False         False  "
      ]
     },
     "metadata": {},
     "output_type": "display_data"
    }
   ],
   "source": [
    "display(df_fisher_dataset_1[df_fisher_dataset_1.topic_word==\"social bonds\"])"
   ]
  },
  {
   "cell_type": "markdown",
   "metadata": {},
   "source": [
    "The Fisher test does not signal significant difference in terms of social bonds either."
   ]
  },
  {
   "cell_type": "markdown",
   "metadata": {},
   "source": [
    "## Comment:\n",
    "\n",
    "### Tim:\n",
    "- That's due to the p-value > 0.05 right? That's a bit difficult to marry with the Bayesian , statistics that I'm doing with the MSMs... we can discuss it in the paper maybe.\n",
    ", It is well possible that the error estimate from the MSM is not perfect (I've no idea if the same is true for the Fisher test).\n",
    "\n",
    "### Gabor:\n",
    "\n",
    "- that is correct, because of p-value > 0.05"
   ]
  },
  {
   "cell_type": "markdown",
   "metadata": {},
   "source": [
    "## Observation 2"
   ]
  },
  {
   "cell_type": "markdown",
   "metadata": {},
   "source": [
    "## Qualitative description"
   ]
  },
  {
   "cell_type": "markdown",
   "metadata": {},
   "source": [
    "Those women who worked are less likely to discuss acts of solidarity; by 13% working men are more likely to discuss acts of solidarity. This result is not supported by the Fisher test, which signals the contrary. Nevertheless, working women are more likely to talk about food sharing. This is again not supported by the Fisher test; no statistical significance."
   ]
  },
  {
   "cell_type": "markdown",
   "metadata": {},
   "source": [
    "## Quantitative proof"
   ]
  },
  {
   "cell_type": "code",
   "execution_count": 24,
   "metadata": {},
   "outputs": [],
   "source": [
    "aid_giving_w = p_work_w_dataset_1[p_work_w_dataset_1.topic_name=='aid giving']['stationary_prob'].values[0]\n",
    "aid_giving_m = p_work_m_dataset_1[p_work_m_dataset_1.topic_name=='aid giving']['stationary_prob'].values[0]"
   ]
  },
  {
   "cell_type": "code",
   "execution_count": 25,
   "metadata": {},
   "outputs": [
    {
     "data": {
      "text/plain": [
       "1.1314227034370872"
      ]
     },
     "execution_count": 25,
     "metadata": {},
     "output_type": "execute_result"
    }
   ],
   "source": [
    "aid_giving_m / aid_giving_w"
   ]
  },
  {
   "cell_type": "markdown",
   "metadata": {},
   "source": [
    "![title](output/markov_modelling/bootstrap/work_w_work_m/aid%20giving.png)"
   ]
  },
  {
   "cell_type": "code",
   "execution_count": 26,
   "metadata": {},
   "outputs": [],
   "source": [
    "food_sharing_w = p_work_w_dataset_2[p_work_w_dataset_2.topic_name=='food sharing']['stationary_prob'].values[0]\n",
    "food_sharing_m = p_work_m_dataset_2[p_work_m_dataset_2.topic_name=='food sharing']['stationary_prob'].values[0]"
   ]
  },
  {
   "cell_type": "code",
   "execution_count": 27,
   "metadata": {},
   "outputs": [
    {
     "data": {
      "text/plain": [
       "1.618948872767577"
      ]
     },
     "execution_count": 27,
     "metadata": {},
     "output_type": "execute_result"
    }
   ],
   "source": [
    "food_sharing_w / food_sharing_m"
   ]
  },
  {
   "cell_type": "markdown",
   "metadata": {},
   "source": [
    "![title](output_aid_giving_sociability_expanded/markov_modelling/bootstrap/work_w_work_m/food%20sharing.png) "
   ]
  },
  {
   "cell_type": "markdown",
   "metadata": {},
   "source": [
    "### Comparison with results of Fisher test"
   ]
  },
  {
   "cell_type": "code",
   "execution_count": 28,
   "metadata": {},
   "outputs": [
    {
     "data": {
      "text/html": [
       "<div>\n",
       "<style scoped>\n",
       "    .dataframe tbody tr th:only-of-type {\n",
       "        vertical-align: middle;\n",
       "    }\n",
       "\n",
       "    .dataframe tbody tr th {\n",
       "        vertical-align: top;\n",
       "    }\n",
       "\n",
       "    .dataframe thead th {\n",
       "        text-align: right;\n",
       "    }\n",
       "</style>\n",
       "<table border=\"1\" class=\"dataframe\">\n",
       "  <thead>\n",
       "    <tr style=\"text-align: right;\">\n",
       "      <th></th>\n",
       "      <th>Unnamed: 0</th>\n",
       "      <th>topic_word</th>\n",
       "      <th>p_value</th>\n",
       "      <th>work_m</th>\n",
       "      <th>work_w</th>\n",
       "      <th>count_work_m</th>\n",
       "      <th>count_work_w</th>\n",
       "      <th>significance_Bonferroni_corrected</th>\n",
       "      <th>significance</th>\n",
       "    </tr>\n",
       "  </thead>\n",
       "  <tbody>\n",
       "    <tr>\n",
       "      <th>26</th>\n",
       "      <td>8</td>\n",
       "      <td>aid giving</td>\n",
       "      <td>0.047747</td>\n",
       "      <td>0.806092</td>\n",
       "      <td>1.240553</td>\n",
       "      <td>224</td>\n",
       "      <td>507</td>\n",
       "      <td>False</td>\n",
       "      <td>True</td>\n",
       "    </tr>\n",
       "  </tbody>\n",
       "</table>\n",
       "</div>"
      ],
      "text/plain": [
       "    Unnamed: 0  topic_word   p_value    work_m    work_w  count_work_m  \\\n",
       "26           8  aid giving  0.047747  0.806092  1.240553           224   \n",
       "\n",
       "    count_work_w  significance_Bonferroni_corrected  significance  \n",
       "26           507                              False          True  "
      ]
     },
     "metadata": {},
     "output_type": "display_data"
    }
   ],
   "source": [
    "display(df_fisher_dataset_1[df_fisher_dataset_1.topic_word==\"aid giving\"])"
   ]
  },
  {
   "cell_type": "code",
   "execution_count": 29,
   "metadata": {},
   "outputs": [
    {
     "data": {
      "text/html": [
       "<div>\n",
       "<style scoped>\n",
       "    .dataframe tbody tr th:only-of-type {\n",
       "        vertical-align: middle;\n",
       "    }\n",
       "\n",
       "    .dataframe tbody tr th {\n",
       "        vertical-align: top;\n",
       "    }\n",
       "\n",
       "    .dataframe thead th {\n",
       "        text-align: right;\n",
       "    }\n",
       "</style>\n",
       "<table border=\"1\" class=\"dataframe\">\n",
       "  <thead>\n",
       "    <tr style=\"text-align: right;\">\n",
       "      <th></th>\n",
       "      <th>Unnamed: 0</th>\n",
       "      <th>topic_word</th>\n",
       "      <th>p_value</th>\n",
       "      <th>work_m</th>\n",
       "      <th>work_w</th>\n",
       "      <th>count_work_m</th>\n",
       "      <th>count_work_w</th>\n",
       "      <th>significance_Bonferroni_corrected</th>\n",
       "      <th>significance</th>\n",
       "    </tr>\n",
       "  </thead>\n",
       "  <tbody>\n",
       "    <tr>\n",
       "      <th>38</th>\n",
       "      <td>49</td>\n",
       "      <td>food sharing</td>\n",
       "      <td>0.121363</td>\n",
       "      <td>0.736007</td>\n",
       "      <td>1.358683</td>\n",
       "      <td>41</td>\n",
       "      <td>109</td>\n",
       "      <td>False</td>\n",
       "      <td>False</td>\n",
       "    </tr>\n",
       "  </tbody>\n",
       "</table>\n",
       "</div>"
      ],
      "text/plain": [
       "    Unnamed: 0    topic_word   p_value    work_m    work_w  count_work_m  \\\n",
       "38          49  food sharing  0.121363  0.736007  1.358683            41   \n",
       "\n",
       "    count_work_w  significance_Bonferroni_corrected  significance  \n",
       "38           109                              False         False  "
      ]
     },
     "metadata": {},
     "output_type": "display_data"
    }
   ],
   "source": [
    "display(df_fisher_data_2[df_fisher_data_2.topic_word==\"food sharing\"])"
   ]
  },
  {
   "cell_type": "markdown",
   "metadata": {},
   "source": [
    "## Comment:\n",
    "\n",
    "### Tim:\n",
    "- I'm just observing that maybe there's a connection between the order of magnitude of the probability: There seem to be large p-values in the fisher test for topics\n",
    "that are very rare or have stationary probabilities on the order of 0.001 which makes some sense I guess."
   ]
  },
  {
   "cell_type": "markdown",
   "metadata": {},
   "source": [
    "## Interpretation"
   ]
  },
  {
   "cell_type": "markdown",
   "metadata": {},
   "source": [
    "Working women are more likely to discuss social bonds, friendship, as well as food sharing. In this sense, working women and working men follow the general trend (women are more likely to discuss social activity and food sharing). Nevertheless, working women are less likely to address aid giving, which is a deviation from the general trend (there women are slightly more likely to address aid giving).\n"
   ]
  }
 ],
 "metadata": {
  "kernelspec": {
   "display_name": "Python 3",
   "language": "python",
   "name": "python3"
  },
  "language_info": {
   "codemirror_mode": {
    "name": "ipython",
    "version": 3
   },
   "file_extension": ".py",
   "mimetype": "text/x-python",
   "name": "python",
   "nbconvert_exporter": "python",
   "pygments_lexer": "ipython3",
   "version": "3.7.2"
  }
 },
 "nbformat": 4,
 "nbformat_minor": 2
}

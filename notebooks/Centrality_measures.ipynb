{
 "cells": [
  {
   "cell_type": "code",
   "execution_count": 2,
   "metadata": {},
   "outputs": [
    {
     "name": "stdout",
     "output_type": "stream",
     "text": [
      "[0.5 0.5]\n",
      "['0 0.71', '1 0.71']\n"
     ]
    }
   ],
   "source": [
    "%config Completer.use_jedi = False\n",
    "import networkx as nx\n",
    "import numpy as np\n",
    "from pyemma import msm\n",
    "from tables import *\n",
    "import pyemma\n",
    "import pandas as pd\n",
    "P = np.array([[0.9, 0.1], [0.1, 0.9]])\n",
    "G = nx.from_numpy_matrix(P)\n",
    "mm = msm.markov_model(P)\n",
    "print(mm.pi)\n",
    "centrality = nx.eigenvector_centrality(G)\n",
    "print(['%s %0.2f'%(node,centrality[node]) for node in centrality])"
   ]
  },
  {
   "cell_type": "code",
   "execution_count": 3,
   "metadata": {},
   "outputs": [
    {
     "name": "stdout",
     "output_type": "stream",
     "text": [
      "['0 0.43', '1 0.53', '2 0.35', '3 0.64']\n"
     ]
    },
    {
     "data": {
      "image/png": "[encoded data removed]",
      "text/plain": [
       "<Figure size 432x288 with 1 Axes>"
      ]
     },
     "metadata": {},
     "output_type": "display_data"
    }
   ],
   "source": [
    "\n",
    "P = np.array([[0,   0.0, 0.5, 0.5],   # S0 \n",
    "              [1.0, 0.0, 0.0, 0.0],   # S1\n",
    "              [0.0, 0.0, 0.0, 1.0],   # S2\n",
    "              [0,   1.0, 0.0, 0.0]])  # S3\n",
    "gP = nx.from_numpy_array(P, create_using=nx.DiGraph)\n",
    "import matplotlib.pyplot as plt\n",
    "%matplotlib inline\n",
    "\n",
    "def plot_gph(g):\n",
    "    pos = nx.spectral_layout(g)\n",
    "    nx.draw(g, pos, with_labels=True, node_color='orange')\n",
    "    labels = nx.get_edge_attributes(g, 'weight')\n",
    "    nx.draw_networkx_edge_labels(g, pos, edge_labels=labels);\n",
    "\n",
    "plot_gph(gP)\n",
    "centrality = nx.eigenvector_centrality(gP)\n",
    "print(['%s %0.2f'%(node,centrality[node]) for node in centrality])\n",
    "A = nx.adjacency_matrix(gP)"
   ]
  },
  {
   "cell_type": "code",
   "execution_count": 4,
   "metadata": {},
   "outputs": [
    {
     "name": "stdout",
     "output_type": "stream",
     "text": [
      "0.28571428571428575\n"
     ]
    },
    {
     "data": {
      "text/plain": [
       "{0: 0.285714285714286,\n",
       " 1: 0.28571428571428564,\n",
       " 2: 0.14285714285714282,\n",
       " 3: 0.28571428571428564}"
      ]
     },
     "execution_count": 4,
     "metadata": {},
     "output_type": "execute_result"
    }
   ],
   "source": [
    "mm = msm.markov_model(P)\n",
    "print(mm.pi[0])\n",
    "nx.pagerank_numpy(gP, alpha=1)"
   ]
  },
  {
   "cell_type": "code",
   "execution_count": 5,
   "metadata": {},
   "outputs": [],
   "source": [
    "#nature.com/articles/srep16181"
   ]
  },
  {
   "cell_type": "code",
   "execution_count": 6,
   "metadata": {},
   "outputs": [
    {
     "name": "stdout",
     "output_type": "stream",
     "text": [
      "{0: 0.02439720744039067, 1: 0.002262168581768931, 2: 0.002521852253074231, 3: 0.0004094732633648937, 4: 0.0007010643404920396, 5: 0.0001169129026726122, 6: 0.027330235595765185, 7: 0.02653908285100513, 8: 0.00043546837621535623, 9: 0.006788713650595774, 10: 0.0030085379359198446, 11: 0.007652418979988986, 12: 0.002606501435166563, 13: 0.0003158081722546699, 14: 0.0002571035414314351, 15: 0.0022792366023761546, 16: 6.746298826045269e-05, 17: 0.001334043767917232, 18: 0.004284004854034858, 19: 0.03534630301980008, 20: 0.06410896054556182, 21: 0.0002232395450284488, 22: 0.008578054857502368, 23: 8.735758871385457e-05, 24: 0.015967002984321684, 25: 9.600740126534776e-05, 26: 0.003521385224823992, 27: 0.009104968407730512, 28: 0.0008461814301231502, 29: 0.006801077185193617, 30: 0.004687242833862777, 31: 0.0007740304308585152, 32: 0.0045681212721396395, 33: 0.005929445225931055, 34: 0.005113485491170897, 35: 0.024277743919643956, 36: 0.0031095188518155377, 37: 0.00010367063078052502, 38: 0.008854026038362347, 39: 0.0006702080631334718, 40: 0.0036742908433864837, 41: 0.03318422519276788, 42: 0.001497544807012883, 43: 0.00015984537453775203, 44: 0.0066327679707664676, 45: 0.04619771465261833, 46: 0.0006476740923168722, 47: 0.044597006471439195, 48: 0.00666151335154075, 49: 0.0014479955711840823, 50: 0.0005935240557547539, 51: 0.005387300468405403, 52: 0.003490518886317107, 53: 0.000372396403088913, 54: 0.0005534111512515312, 55: 0.03362079695860639, 56: 0.011509293986950152, 57: 0.0008711879623241743, 58: 0.006586534833342805, 59: 0.0006636376059308219, 60: 0.0953216746213466, 61: 0.0011863768532140832, 62: 0.014280518801067418, 63: 0.04106484525815453, 64: 0.011557067397434907, 65: 0.003073465420629174, 66: 0.002926118431495624, 67: 0.0007457972942596156, 68: 0.0010134996762691843, 69: 0.0025496634816244237, 70: 0.036364674868794876, 71: 0.0021810162121104985, 72: 0.003331216131553218, 73: 0.006993006446742064, 74: 0.000132608006636035, 75: 0.0033513259583173296, 76: 0.005914918835215152, 77: 0.0047041328720010215, 78: 0.00010748736046147455, 79: 0.0001321641003265283, 80: 0.00012319495181563277, 81: 0.015644942394909947, 82: 0.007110767100685546, 83: 0.008300454600721124, 84: 0.0022887028590063093, 85: 0.000168380616538049, 86: 0.0029210184522581364, 87: 0.060615767462554614, 88: 0.002122313965527775, 89: 0.014678388395331357, 90: 0.0015445692102425634, 91: 0.01736037495927105, 92: 0.002542488657258272, 93: 0.004089140159568261, 94: 0.005253508660447022, 95: 0.0275466731806716, 96: 0.0015513434164063688, 97: 0.02889842675790642, 98: 0.011663154930878543, 99: 0.00017146166470398996, 100: 0.002097049474525751, 101: 0.019909581639833897, 102: 0.002042209341282598}\n"
     ]
    },
    {
     "data": {
      "text/plain": [
       "0.024397207440390773"
      ]
     },
     "execution_count": 6,
     "metadata": {},
     "output_type": "execute_result"
    }
   ],
   "source": [
    "pm_model = pyemma.load('output/markov_modelling/complete'+'/'+'pyemma_model','simple')\n",
    "P = pm_model.P\n",
    "gP = nx.from_numpy_array(P, create_using=nx.DiGraph)\n",
    "print(nx.pagerank_numpy(gP, alpha=1))\n",
    "pm_model.pi[0]"
   ]
  },
  {
   "cell_type": "code",
   "execution_count": 24,
   "metadata": {},
   "outputs": [
    {
     "name": "stdout",
     "output_type": "stream",
     "text": [
      "90 0.14\n",
      "7 0.14\n"
     ]
    }
   ],
   "source": [
    "pm_model = pyemma.load('output/markov_modelling/complete_m'+'/'+'pyemma_model','simple')\n",
    "P = pm_model.P\n",
    "state_index_m = pd.read_csv('output/markov_modelling/complete_m/state_index.csv')\n",
    "gP = nx.from_numpy_array(P, create_using=nx.DiGraph)\n",
    "social_bond_index = state_index_m[state_index_m.KeywordLabel=='social bonds'].index[0]\n",
    "aid_giving_index = state_index_m[state_index_m.KeywordLabel=='aid giving'].index[0]\n",
    "centrality = nx.eigenvector_centrality(gP,max_iter=10000)\n",
    "print(['%s %0.2f'%(node,centrality[node]) for node in centrality][social_bond_index])\n",
    "print(['%s %0.2f'%(node,centrality[node]) for node in centrality][aid_giving_index])"
   ]
  },
  {
   "cell_type": "code",
   "execution_count": 17,
   "metadata": {},
   "outputs": [
    {
     "name": "stdout",
     "output_type": "stream",
     "text": [
      "90 0.77\n",
      "7 0.80\n"
     ]
    }
   ],
   "source": [
    "gP = nx.from_numpy_array(P, create_using=nx.DiGraph)\n",
    "centrality = nx.closeness_centrality(gP)\n",
    "print(['%s %0.2f'%(node,centrality[node]) for node in centrality][social_bond_index])\n",
    "print(['%s %0.2f'%(node,centrality[node]) for node in centrality][aid_giving_index])"
   ]
  },
  {
   "cell_type": "code",
   "execution_count": 18,
   "metadata": {},
   "outputs": [
    {
     "name": "stdout",
     "output_type": "stream",
     "text": [
      "7 1.52\n",
      "90 1.42\n"
     ]
    }
   ],
   "source": [
    "centrality = nx.degree_centrality(gP)\n",
    "print(['%s %0.2f'%(node,centrality[node]) for node in centrality][aid_giving_index])\n",
    "print(['%s %0.2f'%(node,centrality[node]) for node in centrality][social_bond_index])"
   ]
  },
  {
   "cell_type": "code",
   "execution_count": 25,
   "metadata": {},
   "outputs": [
    {
     "name": "stdout",
     "output_type": "stream",
     "text": [
      "91 0.13\n",
      "7 0.14\n"
     ]
    },
    {
     "name": "stderr",
     "output_type": "stream",
     "text": [
      "/miniconda3/envs/au_env/lib/python3.7/site-packages/ipykernel_launcher.py:3: UserWarning: Boolean Series key will be reindexed to match DataFrame index.\n",
      "  This is separate from the ipykernel package so we can avoid doing imports until\n",
      "/miniconda3/envs/au_env/lib/python3.7/site-packages/ipykernel_launcher.py:4: UserWarning: Boolean Series key will be reindexed to match DataFrame index.\n",
      "  after removing the cwd from sys.path.\n"
     ]
    }
   ],
   "source": [
    "pm_model = pyemma.load('output/markov_modelling/complete_w'+'/'+'pyemma_model','simple')\n",
    "state_index_w = pd.read_csv('output/markov_modelling/complete_w/state_index.csv')\n",
    "social_bond_index = state_index_m[state_index_w.KeywordLabel=='social bonds'].index[0]\n",
    "aid_giving_index = state_index_m[state_index_w.KeywordLabel=='aid giving'].index[0]\n",
    "P = pm_model.P\n",
    "gP = nx.from_numpy_array(P, create_using=nx.DiGraph)\n",
    "centrality = nx.eigenvector_centrality(gP,max_iter=10000)\n",
    "print(['%s %0.2f'%(node,centrality[node]) for node in centrality][social_bond_index])\n",
    "print(['%s %0.2f'%(node,centrality[node]) for node in centrality][aid_giving_index])"
   ]
  },
  {
   "cell_type": "code",
   "execution_count": 20,
   "metadata": {},
   "outputs": [
    {
     "name": "stdout",
     "output_type": "stream",
     "text": [
      "91 1.66\n",
      "7 1.78\n"
     ]
    }
   ],
   "source": [
    "centrality = nx.degree_centrality(gP)\n",
    "print(['%s %0.2f'%(node,centrality[node]) for node in centrality][social_bond_index])\n",
    "print(['%s %0.2f'%(node,centrality[node]) for node in centrality][aid_giving_index])"
   ]
  },
  {
   "cell_type": "code",
   "execution_count": 21,
   "metadata": {},
   "outputs": [
    {
     "name": "stdout",
     "output_type": "stream",
     "text": [
      "91 0.82\n",
      "7 0.89\n"
     ]
    }
   ],
   "source": [
    "gP = nx.from_numpy_array(P, create_using=nx.DiGraph)\n",
    "centrality = nx.nx.closeness_centrality(gP)\n",
    "print(['%s %0.2f'%(node,centrality[node]) for node in centrality][social_bond_index])\n",
    "print(['%s %0.2f'%(node,centrality[node]) for node in centrality][aid_giving_index])"
   ]
  }
 ],
 "metadata": {
  "kernelspec": {
   "display_name": "Python 3",
   "language": "python",
   "name": "python3"
  },
  "language_info": {
   "codemirror_mode": {
    "name": "ipython",
    "version": 3
   },
   "file_extension": ".py",
   "mimetype": "text/x-python",
   "name": "python",
   "nbconvert_exporter": "python",
   "pygments_lexer": "ipython3",
   "version": "3.7.2"
  }
 },
 "nbformat": 4,
 "nbformat_minor": 2
}

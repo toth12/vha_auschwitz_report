{
 "cells": [
  {
   "cell_type": "code",
   "execution_count": 1,
   "metadata": {},
   "outputs": [],
   "source": [
    "import pyemma\n",
    "import tables\n",
    "import numpy as np\n",
    "import pandas as pd\n",
    "import matplotlib.pyplot as plt\n",
    "import json\n",
    "from tqdm.auto import tqdm"
   ]
  },
  {
   "cell_type": "code",
   "execution_count": 2,
   "metadata": {},
   "outputs": [],
   "source": [
    "import sys"
   ]
  },
  {
   "cell_type": "code",
   "execution_count": 3,
   "metadata": {},
   "outputs": [],
   "source": [
    "sys.path.append('/Users/thempel/fustorage/projects/vha_auschwitz_report/')"
   ]
  },
  {
   "cell_type": "code",
   "execution_count": 4,
   "metadata": {},
   "outputs": [],
   "source": [
    "import constants"
   ]
  },
  {
   "cell_type": "code",
   "execution_count": 5,
   "metadata": {},
   "outputs": [],
   "source": [
    "from markov_modelling import markov_utils as mu"
   ]
  },
  {
   "cell_type": "code",
   "execution_count": 6,
   "metadata": {},
   "outputs": [],
   "source": [
    "# Load the input data\n",
    "input_directory = '../' + constants.output_data_segment_keyword_matrix\n",
    "\n",
    "# Read the segment index term matrix\n",
    "data = np.load(input_directory + constants.output_segment_keyword_matrix_data_file.replace('.txt', '.npy'), \n",
    "              allow_pickle=True)\n",
    "# Read the column index (index terms) of the matrix above\n",
    "features_df = pd.read_csv(input_directory + \n",
    "                      constants.output_segment_keyword_matrix_feature_index)\n",
    "\n",
    "# Create the row index  of the matrix above\n",
    "segment_df = pd.read_csv(input_directory + \n",
    "                     constants.output_segment_keyword_matrix_document_index)\n",
    "\n",
    "int_codes = segment_df['IntCode'].to_list()\n",
    "\n",
    "\n",
    "# Set the output directory\n",
    "output_directory_temp = constants.output_data_markov_modelling\n",
    "\n",
    "# Read the metadata partitions\n",
    "with open(input_directory + \"metadata_partitions.json\") as read_file:\n",
    "    metadata_partitions = json.load(read_file)"
   ]
  },
  {
   "cell_type": "code",
   "execution_count": 7,
   "metadata": {},
   "outputs": [],
   "source": [
    "def estimate_pi_error(dtrajs, orig_msm, ntrails=10, conf_interval=0.68, return_samples=False):\n",
    "    \"\"\"\n",
    "    Estimate boostrap error for stationary probability\n",
    "    \n",
    "    :param dtrajs: list of np.array, discrete trajectories\n",
    "    :param orig_msm: pyemma.msm.MarkovModel\n",
    "    Only used for reference of lag time and to incorporate ML \n",
    "    stationary distribution to data frame\n",
    "    :param ntrails: int, the number of bootstrap samples to draw. \n",
    "    :param conf_interval: float 0 < conf_interval < 1\n",
    "    \n",
    "    :return:\n",
    "    pandas.DataFrame instance containing ML MSM pi and bootstrap error\n",
    "    \"\"\"\n",
    "    from pyemma.util.statistics import confidence_interval\n",
    "    \n",
    "    pi_samples = np.zeros((ntrails, orig_msm.nstates))\n",
    "\n",
    "    for trial in tqdm(range(ntrails)):\n",
    "        try:\n",
    "            bs_sample = np.random.choice(len(dtrajs), \n",
    "                 size=len(dtrajs), \n",
    "                replace=True)\n",
    "            dtraj_sample = list(np.array(dtrajs)[bs_sample])\n",
    "\n",
    "            msm = pyemma.msm.estimate_markov_model(dtraj_sample, \n",
    "                                                    lag=orig_msm.lag)\n",
    "\n",
    "            pi_samples[trial, msm.active_set] = msm.pi\n",
    "        except Exception as e: \n",
    "            print(e)\n",
    "            \n",
    "    if return_samples:\n",
    "        return pi_samples\n",
    "    \n",
    "    \n",
    "    std = pi_samples.std(axis=0)\n",
    "    lower_confidence, upper_confidence = confidence_interval(pi_samples, conf_interval)\n",
    "    \n",
    "    probabilities = pd.DataFrame(np.array([orig_msm.active_set, \n",
    "                                           orig_msm.pi, \n",
    "                                           std, \n",
    "                                           lower_confidence, \n",
    "                                           upper_confidence]).T,\n",
    "                    columns=['State', 'StatDist', 'Std', 'LowerConf', 'UpperConf'], )\n",
    "    \n",
    "    # type cast to int\n",
    "    probabilities['State'] = probabilities['State'].astype(int)\n",
    "    \n",
    "    \n",
    "    return probabilities"
   ]
  },
  {
   "cell_type": "code",
   "execution_count": 8,
   "metadata": {},
   "outputs": [
    {
     "data": {
      "application/vnd.jupyter.widget-view+json": {
       "model_id": "5f64d86eac8d455788bf0d9ade7eef27",
       "version_major": 2,
       "version_minor": 0
      },
      "text/plain": [
       "HBox(children=(FloatProgress(value=0.0, max=50.0), HTML(value='')))"
      ]
     },
     "metadata": {},
     "output_type": "display_data"
    },
    {
     "name": "stdout",
     "output_type": "stream",
     "text": [
      "19-12-20 11:13:19 pyemma.msm.estimators.maximum_likelihood_msm.MaximumLikelihoodMSM[1] WARNING  Empty core set while unassigned states (-1) in discrete trajectory. Defining core set automatically; check correctness by calling self.core_set.\n"
     ]
    },
    {
     "name": "stderr",
     "output_type": "stream",
     "text": [
      "/miniconda3/lib/python3.7/site-packages/ipykernel_launcher.py:24: VisibleDeprecationWarning: Creating an ndarray from ragged nested sequences (which is a list-or-tuple of lists-or-tuples-or ndarrays with different lengths or shapes) is deprecated. If you meant to do this, you must specify 'dtype=object' when creating the ndarray\n"
     ]
    },
    {
     "name": "stdout",
     "output_type": "stream",
     "text": [
      "19-12-20 11:13:29 pyemma.msm.estimators.maximum_likelihood_msm.MaximumLikelihoodMSM[2] WARNING  Empty core set while unassigned states (-1) in discrete trajectory. Defining core set automatically; check correctness by calling self.core_set.\n",
      "19-12-20 11:13:38 pyemma.msm.estimators.maximum_likelihood_msm.MaximumLikelihoodMSM[3] WARNING  Empty core set while unassigned states (-1) in discrete trajectory. Defining core set automatically; check correctness by calling self.core_set.\n",
      "19-12-20 11:13:47 pyemma.msm.estimators.maximum_likelihood_msm.MaximumLikelihoodMSM[4] WARNING  Empty core set while unassigned states (-1) in discrete trajectory. Defining core set automatically; check correctness by calling self.core_set.\n",
      "19-12-20 11:13:57 pyemma.msm.estimators.maximum_likelihood_msm.MaximumLikelihoodMSM[5] WARNING  Empty core set while unassigned states (-1) in discrete trajectory. Defining core set automatically; check correctness by calling self.core_set.\n",
      "19-12-20 11:14:07 pyemma.msm.estimators.maximum_likelihood_msm.MaximumLikelihoodMSM[6] WARNING  Empty core set while unassigned states (-1) in discrete trajectory. Defining core set automatically; check correctness by calling self.core_set.\n",
      "19-12-20 11:14:17 pyemma.msm.estimators.maximum_likelihood_msm.MaximumLikelihoodMSM[7] WARNING  Empty core set while unassigned states (-1) in discrete trajectory. Defining core set automatically; check correctness by calling self.core_set.\n",
      "19-12-20 11:14:28 pyemma.msm.estimators.maximum_likelihood_msm.MaximumLikelihoodMSM[8] WARNING  Empty core set while unassigned states (-1) in discrete trajectory. Defining core set automatically; check correctness by calling self.core_set.\n",
      "19-12-20 11:14:37 pyemma.msm.estimators.maximum_likelihood_msm.MaximumLikelihoodMSM[9] WARNING  Empty core set while unassigned states (-1) in discrete trajectory. Defining core set automatically; check correctness by calling self.core_set.\n",
      "19-12-20 11:14:47 pyemma.msm.estimators.maximum_likelihood_msm.MaximumLikelihoodMSM[10] WARNING  Empty core set while unassigned states (-1) in discrete trajectory. Defining core set automatically; check correctness by calling self.core_set.\n",
      "19-12-20 11:14:56 pyemma.msm.estimators.maximum_likelihood_msm.MaximumLikelihoodMSM[11] WARNING  Empty core set while unassigned states (-1) in discrete trajectory. Defining core set automatically; check correctness by calling self.core_set.\n",
      "19-12-20 11:15:06 pyemma.msm.estimators.maximum_likelihood_msm.MaximumLikelihoodMSM[12] WARNING  Empty core set while unassigned states (-1) in discrete trajectory. Defining core set automatically; check correctness by calling self.core_set.\n",
      "19-12-20 11:15:15 pyemma.msm.estimators.maximum_likelihood_msm.MaximumLikelihoodMSM[13] WARNING  Empty core set while unassigned states (-1) in discrete trajectory. Defining core set automatically; check correctness by calling self.core_set.\n",
      "19-12-20 11:15:25 pyemma.msm.estimators.maximum_likelihood_msm.MaximumLikelihoodMSM[14] WARNING  Empty core set while unassigned states (-1) in discrete trajectory. Defining core set automatically; check correctness by calling self.core_set.\n",
      "19-12-20 11:15:34 pyemma.msm.estimators.maximum_likelihood_msm.MaximumLikelihoodMSM[15] WARNING  Empty core set while unassigned states (-1) in discrete trajectory. Defining core set automatically; check correctness by calling self.core_set.\n",
      "19-12-20 11:15:44 pyemma.msm.estimators.maximum_likelihood_msm.MaximumLikelihoodMSM[16] WARNING  Empty core set while unassigned states (-1) in discrete trajectory. Defining core set automatically; check correctness by calling self.core_set.\n",
      "19-12-20 11:15:54 pyemma.msm.estimators.maximum_likelihood_msm.MaximumLikelihoodMSM[17] WARNING  Empty core set while unassigned states (-1) in discrete trajectory. Defining core set automatically; check correctness by calling self.core_set.\n",
      "19-12-20 11:16:03 pyemma.msm.estimators.maximum_likelihood_msm.MaximumLikelihoodMSM[18] WARNING  Empty core set while unassigned states (-1) in discrete trajectory. Defining core set automatically; check correctness by calling self.core_set.\n",
      "19-12-20 11:16:12 pyemma.msm.estimators.maximum_likelihood_msm.MaximumLikelihoodMSM[19] WARNING  Empty core set while unassigned states (-1) in discrete trajectory. Defining core set automatically; check correctness by calling self.core_set.\n",
      "19-12-20 11:16:22 pyemma.msm.estimators.maximum_likelihood_msm.MaximumLikelihoodMSM[20] WARNING  Empty core set while unassigned states (-1) in discrete trajectory. Defining core set automatically; check correctness by calling self.core_set.\n",
      "19-12-20 11:16:31 pyemma.msm.estimators.maximum_likelihood_msm.MaximumLikelihoodMSM[21] WARNING  Empty core set while unassigned states (-1) in discrete trajectory. Defining core set automatically; check correctness by calling self.core_set.\n",
      "19-12-20 11:16:41 pyemma.msm.estimators.maximum_likelihood_msm.MaximumLikelihoodMSM[22] WARNING  Empty core set while unassigned states (-1) in discrete trajectory. Defining core set automatically; check correctness by calling self.core_set.\n",
      "19-12-20 11:16:50 pyemma.msm.estimators.maximum_likelihood_msm.MaximumLikelihoodMSM[23] WARNING  Empty core set while unassigned states (-1) in discrete trajectory. Defining core set automatically; check correctness by calling self.core_set.\n",
      "19-12-20 11:16:59 pyemma.msm.estimators.maximum_likelihood_msm.MaximumLikelihoodMSM[24] WARNING  Empty core set while unassigned states (-1) in discrete trajectory. Defining core set automatically; check correctness by calling self.core_set.\n",
      "19-12-20 11:17:08 pyemma.msm.estimators.maximum_likelihood_msm.MaximumLikelihoodMSM[25] WARNING  Empty core set while unassigned states (-1) in discrete trajectory. Defining core set automatically; check correctness by calling self.core_set.\n",
      "19-12-20 11:17:18 pyemma.msm.estimators.maximum_likelihood_msm.MaximumLikelihoodMSM[26] WARNING  Empty core set while unassigned states (-1) in discrete trajectory. Defining core set automatically; check correctness by calling self.core_set.\n",
      "19-12-20 11:17:27 pyemma.msm.estimators.maximum_likelihood_msm.MaximumLikelihoodMSM[27] WARNING  Empty core set while unassigned states (-1) in discrete trajectory. Defining core set automatically; check correctness by calling self.core_set.\n",
      "19-12-20 11:17:36 pyemma.msm.estimators.maximum_likelihood_msm.MaximumLikelihoodMSM[28] WARNING  Empty core set while unassigned states (-1) in discrete trajectory. Defining core set automatically; check correctness by calling self.core_set.\n",
      "19-12-20 11:17:46 pyemma.msm.estimators.maximum_likelihood_msm.MaximumLikelihoodMSM[29] WARNING  Empty core set while unassigned states (-1) in discrete trajectory. Defining core set automatically; check correctness by calling self.core_set.\n",
      "19-12-20 11:17:55 pyemma.msm.estimators.maximum_likelihood_msm.MaximumLikelihoodMSM[30] WARNING  Empty core set while unassigned states (-1) in discrete trajectory. Defining core set automatically; check correctness by calling self.core_set.\n",
      "19-12-20 11:18:04 pyemma.msm.estimators.maximum_likelihood_msm.MaximumLikelihoodMSM[31] WARNING  Empty core set while unassigned states (-1) in discrete trajectory. Defining core set automatically; check correctness by calling self.core_set.\n",
      "19-12-20 11:18:14 pyemma.msm.estimators.maximum_likelihood_msm.MaximumLikelihoodMSM[32] WARNING  Empty core set while unassigned states (-1) in discrete trajectory. Defining core set automatically; check correctness by calling self.core_set.\n",
      "19-12-20 11:18:23 pyemma.msm.estimators.maximum_likelihood_msm.MaximumLikelihoodMSM[33] WARNING  Empty core set while unassigned states (-1) in discrete trajectory. Defining core set automatically; check correctness by calling self.core_set.\n",
      "19-12-20 11:18:33 pyemma.msm.estimators.maximum_likelihood_msm.MaximumLikelihoodMSM[34] WARNING  Empty core set while unassigned states (-1) in discrete trajectory. Defining core set automatically; check correctness by calling self.core_set.\n",
      "19-12-20 11:18:42 pyemma.msm.estimators.maximum_likelihood_msm.MaximumLikelihoodMSM[35] WARNING  Empty core set while unassigned states (-1) in discrete trajectory. Defining core set automatically; check correctness by calling self.core_set.\n"
     ]
    },
    {
     "name": "stdout",
     "output_type": "stream",
     "text": [
      "19-12-20 11:18:52 pyemma.msm.estimators.maximum_likelihood_msm.MaximumLikelihoodMSM[36] WARNING  Empty core set while unassigned states (-1) in discrete trajectory. Defining core set automatically; check correctness by calling self.core_set.\n",
      "19-12-20 11:19:01 pyemma.msm.estimators.maximum_likelihood_msm.MaximumLikelihoodMSM[37] WARNING  Empty core set while unassigned states (-1) in discrete trajectory. Defining core set automatically; check correctness by calling self.core_set.\n",
      "19-12-20 11:19:10 pyemma.msm.estimators.maximum_likelihood_msm.MaximumLikelihoodMSM[38] WARNING  Empty core set while unassigned states (-1) in discrete trajectory. Defining core set automatically; check correctness by calling self.core_set.\n",
      "19-12-20 11:19:20 pyemma.msm.estimators.maximum_likelihood_msm.MaximumLikelihoodMSM[39] WARNING  Empty core set while unassigned states (-1) in discrete trajectory. Defining core set automatically; check correctness by calling self.core_set.\n",
      "19-12-20 11:19:29 pyemma.msm.estimators.maximum_likelihood_msm.MaximumLikelihoodMSM[40] WARNING  Empty core set while unassigned states (-1) in discrete trajectory. Defining core set automatically; check correctness by calling self.core_set.\n",
      "19-12-20 11:19:38 pyemma.msm.estimators.maximum_likelihood_msm.MaximumLikelihoodMSM[41] WARNING  Empty core set while unassigned states (-1) in discrete trajectory. Defining core set automatically; check correctness by calling self.core_set.\n",
      "19-12-20 11:19:48 pyemma.msm.estimators.maximum_likelihood_msm.MaximumLikelihoodMSM[42] WARNING  Empty core set while unassigned states (-1) in discrete trajectory. Defining core set automatically; check correctness by calling self.core_set.\n",
      "19-12-20 11:19:57 pyemma.msm.estimators.maximum_likelihood_msm.MaximumLikelihoodMSM[43] WARNING  Empty core set while unassigned states (-1) in discrete trajectory. Defining core set automatically; check correctness by calling self.core_set.\n",
      "19-12-20 11:20:07 pyemma.msm.estimators.maximum_likelihood_msm.MaximumLikelihoodMSM[44] WARNING  Empty core set while unassigned states (-1) in discrete trajectory. Defining core set automatically; check correctness by calling self.core_set.\n",
      "19-12-20 11:20:17 pyemma.msm.estimators.maximum_likelihood_msm.MaximumLikelihoodMSM[45] WARNING  Empty core set while unassigned states (-1) in discrete trajectory. Defining core set automatically; check correctness by calling self.core_set.\n",
      "19-12-20 11:20:27 pyemma.msm.estimators.maximum_likelihood_msm.MaximumLikelihoodMSM[46] WARNING  Empty core set while unassigned states (-1) in discrete trajectory. Defining core set automatically; check correctness by calling self.core_set.\n",
      "19-12-20 11:20:36 pyemma.msm.estimators.maximum_likelihood_msm.MaximumLikelihoodMSM[47] WARNING  Empty core set while unassigned states (-1) in discrete trajectory. Defining core set automatically; check correctness by calling self.core_set.\n",
      "19-12-20 11:20:45 pyemma.msm.estimators.maximum_likelihood_msm.MaximumLikelihoodMSM[48] WARNING  Empty core set while unassigned states (-1) in discrete trajectory. Defining core set automatically; check correctness by calling self.core_set.\n",
      "19-12-20 11:20:55 pyemma.msm.estimators.maximum_likelihood_msm.MaximumLikelihoodMSM[49] WARNING  Empty core set while unassigned states (-1) in discrete trajectory. Defining core set automatically; check correctness by calling self.core_set.\n",
      "19-12-20 11:21:04 pyemma.msm.estimators.maximum_likelihood_msm.MaximumLikelihoodMSM[50] WARNING  Empty core set while unassigned states (-1) in discrete trajectory. Defining core set automatically; check correctness by calling self.core_set.\n",
      "\n"
     ]
    },
    {
     "data": {
      "application/vnd.jupyter.widget-view+json": {
       "model_id": "b8f1e6f22b9942239ae13457a4d0f95c",
       "version_major": 2,
       "version_minor": 0
      },
      "text/plain": [
       "HBox(children=(FloatProgress(value=0.0, max=50.0), HTML(value='')))"
      ]
     },
     "metadata": {},
     "output_type": "display_data"
    },
    {
     "name": "stdout",
     "output_type": "stream",
     "text": [
      "19-12-20 11:21:45 pyemma.msm.estimators.maximum_likelihood_msm.MaximumLikelihoodMSM[52] WARNING  Empty core set while unassigned states (-1) in discrete trajectory. Defining core set automatically; check correctness by calling self.core_set.\n",
      "19-12-20 11:22:06 pyemma.msm.estimators.maximum_likelihood_msm.MaximumLikelihoodMSM[53] WARNING  Empty core set while unassigned states (-1) in discrete trajectory. Defining core set automatically; check correctness by calling self.core_set.\n",
      "19-12-20 11:22:28 pyemma.msm.estimators.maximum_likelihood_msm.MaximumLikelihoodMSM[54] WARNING  Empty core set while unassigned states (-1) in discrete trajectory. Defining core set automatically; check correctness by calling self.core_set.\n",
      "19-12-20 11:22:49 pyemma.msm.estimators.maximum_likelihood_msm.MaximumLikelihoodMSM[55] WARNING  Empty core set while unassigned states (-1) in discrete trajectory. Defining core set automatically; check correctness by calling self.core_set.\n",
      "19-12-20 11:23:11 pyemma.msm.estimators.maximum_likelihood_msm.MaximumLikelihoodMSM[56] WARNING  Empty core set while unassigned states (-1) in discrete trajectory. Defining core set automatically; check correctness by calling self.core_set.\n",
      "19-12-20 11:23:32 pyemma.msm.estimators.maximum_likelihood_msm.MaximumLikelihoodMSM[57] WARNING  Empty core set while unassigned states (-1) in discrete trajectory. Defining core set automatically; check correctness by calling self.core_set.\n",
      "19-12-20 11:23:54 pyemma.msm.estimators.maximum_likelihood_msm.MaximumLikelihoodMSM[58] WARNING  Empty core set while unassigned states (-1) in discrete trajectory. Defining core set automatically; check correctness by calling self.core_set.\n",
      "19-12-20 11:24:15 pyemma.msm.estimators.maximum_likelihood_msm.MaximumLikelihoodMSM[59] WARNING  Empty core set while unassigned states (-1) in discrete trajectory. Defining core set automatically; check correctness by calling self.core_set.\n",
      "19-12-20 11:24:36 pyemma.msm.estimators.maximum_likelihood_msm.MaximumLikelihoodMSM[60] WARNING  Empty core set while unassigned states (-1) in discrete trajectory. Defining core set automatically; check correctness by calling self.core_set.\n",
      "19-12-20 11:24:57 pyemma.msm.estimators.maximum_likelihood_msm.MaximumLikelihoodMSM[61] WARNING  Empty core set while unassigned states (-1) in discrete trajectory. Defining core set automatically; check correctness by calling self.core_set.\n",
      "19-12-20 11:25:19 pyemma.msm.estimators.maximum_likelihood_msm.MaximumLikelihoodMSM[62] WARNING  Empty core set while unassigned states (-1) in discrete trajectory. Defining core set automatically; check correctness by calling self.core_set.\n",
      "19-12-20 11:25:40 pyemma.msm.estimators.maximum_likelihood_msm.MaximumLikelihoodMSM[63] WARNING  Empty core set while unassigned states (-1) in discrete trajectory. Defining core set automatically; check correctness by calling self.core_set.\n",
      "19-12-20 11:26:02 pyemma.msm.estimators.maximum_likelihood_msm.MaximumLikelihoodMSM[64] WARNING  Empty core set while unassigned states (-1) in discrete trajectory. Defining core set automatically; check correctness by calling self.core_set.\n",
      "19-12-20 11:26:23 pyemma.msm.estimators.maximum_likelihood_msm.MaximumLikelihoodMSM[65] WARNING  Empty core set while unassigned states (-1) in discrete trajectory. Defining core set automatically; check correctness by calling self.core_set.\n",
      "19-12-20 11:26:44 pyemma.msm.estimators.maximum_likelihood_msm.MaximumLikelihoodMSM[66] WARNING  Empty core set while unassigned states (-1) in discrete trajectory. Defining core set automatically; check correctness by calling self.core_set.\n",
      "19-12-20 11:27:07 pyemma.msm.estimators.maximum_likelihood_msm.MaximumLikelihoodMSM[67] WARNING  Empty core set while unassigned states (-1) in discrete trajectory. Defining core set automatically; check correctness by calling self.core_set.\n",
      "19-12-20 11:27:28 pyemma.msm.estimators.maximum_likelihood_msm.MaximumLikelihoodMSM[68] WARNING  Empty core set while unassigned states (-1) in discrete trajectory. Defining core set automatically; check correctness by calling self.core_set.\n",
      "19-12-20 11:27:49 pyemma.msm.estimators.maximum_likelihood_msm.MaximumLikelihoodMSM[69] WARNING  Empty core set while unassigned states (-1) in discrete trajectory. Defining core set automatically; check correctness by calling self.core_set.\n",
      "19-12-20 11:28:10 pyemma.msm.estimators.maximum_likelihood_msm.MaximumLikelihoodMSM[70] WARNING  Empty core set while unassigned states (-1) in discrete trajectory. Defining core set automatically; check correctness by calling self.core_set.\n",
      "19-12-20 11:28:32 pyemma.msm.estimators.maximum_likelihood_msm.MaximumLikelihoodMSM[71] WARNING  Empty core set while unassigned states (-1) in discrete trajectory. Defining core set automatically; check correctness by calling self.core_set.\n",
      "19-12-20 11:28:53 pyemma.msm.estimators.maximum_likelihood_msm.MaximumLikelihoodMSM[72] WARNING  Empty core set while unassigned states (-1) in discrete trajectory. Defining core set automatically; check correctness by calling self.core_set.\n",
      "19-12-20 11:29:14 pyemma.msm.estimators.maximum_likelihood_msm.MaximumLikelihoodMSM[73] WARNING  Empty core set while unassigned states (-1) in discrete trajectory. Defining core set automatically; check correctness by calling self.core_set.\n",
      "19-12-20 11:29:36 pyemma.msm.estimators.maximum_likelihood_msm.MaximumLikelihoodMSM[74] WARNING  Empty core set while unassigned states (-1) in discrete trajectory. Defining core set automatically; check correctness by calling self.core_set.\n",
      "19-12-20 11:29:57 pyemma.msm.estimators.maximum_likelihood_msm.MaximumLikelihoodMSM[75] WARNING  Empty core set while unassigned states (-1) in discrete trajectory. Defining core set automatically; check correctness by calling self.core_set.\n",
      "19-12-20 11:30:19 pyemma.msm.estimators.maximum_likelihood_msm.MaximumLikelihoodMSM[76] WARNING  Empty core set while unassigned states (-1) in discrete trajectory. Defining core set automatically; check correctness by calling self.core_set.\n",
      "19-12-20 11:30:40 pyemma.msm.estimators.maximum_likelihood_msm.MaximumLikelihoodMSM[77] WARNING  Empty core set while unassigned states (-1) in discrete trajectory. Defining core set automatically; check correctness by calling self.core_set.\n",
      "19-12-20 11:31:01 pyemma.msm.estimators.maximum_likelihood_msm.MaximumLikelihoodMSM[78] WARNING  Empty core set while unassigned states (-1) in discrete trajectory. Defining core set automatically; check correctness by calling self.core_set.\n",
      "19-12-20 11:31:23 pyemma.msm.estimators.maximum_likelihood_msm.MaximumLikelihoodMSM[79] WARNING  Empty core set while unassigned states (-1) in discrete trajectory. Defining core set automatically; check correctness by calling self.core_set.\n",
      "19-12-20 11:31:45 pyemma.msm.estimators.maximum_likelihood_msm.MaximumLikelihoodMSM[80] WARNING  Empty core set while unassigned states (-1) in discrete trajectory. Defining core set automatically; check correctness by calling self.core_set.\n",
      "19-12-20 11:32:06 pyemma.msm.estimators.maximum_likelihood_msm.MaximumLikelihoodMSM[81] WARNING  Empty core set while unassigned states (-1) in discrete trajectory. Defining core set automatically; check correctness by calling self.core_set.\n",
      "19-12-20 11:32:27 pyemma.msm.estimators.maximum_likelihood_msm.MaximumLikelihoodMSM[82] WARNING  Empty core set while unassigned states (-1) in discrete trajectory. Defining core set automatically; check correctness by calling self.core_set.\n",
      "19-12-20 11:32:48 pyemma.msm.estimators.maximum_likelihood_msm.MaximumLikelihoodMSM[83] WARNING  Empty core set while unassigned states (-1) in discrete trajectory. Defining core set automatically; check correctness by calling self.core_set.\n",
      "19-12-20 11:33:10 pyemma.msm.estimators.maximum_likelihood_msm.MaximumLikelihoodMSM[84] WARNING  Empty core set while unassigned states (-1) in discrete trajectory. Defining core set automatically; check correctness by calling self.core_set.\n",
      "19-12-20 11:33:31 pyemma.msm.estimators.maximum_likelihood_msm.MaximumLikelihoodMSM[85] WARNING  Empty core set while unassigned states (-1) in discrete trajectory. Defining core set automatically; check correctness by calling self.core_set.\n"
     ]
    },
    {
     "name": "stdout",
     "output_type": "stream",
     "text": [
      "19-12-20 11:33:53 pyemma.msm.estimators.maximum_likelihood_msm.MaximumLikelihoodMSM[86] WARNING  Empty core set while unassigned states (-1) in discrete trajectory. Defining core set automatically; check correctness by calling self.core_set.\n",
      "19-12-20 11:34:14 pyemma.msm.estimators.maximum_likelihood_msm.MaximumLikelihoodMSM[87] WARNING  Empty core set while unassigned states (-1) in discrete trajectory. Defining core set automatically; check correctness by calling self.core_set.\n",
      "19-12-20 11:34:35 pyemma.msm.estimators.maximum_likelihood_msm.MaximumLikelihoodMSM[88] WARNING  Empty core set while unassigned states (-1) in discrete trajectory. Defining core set automatically; check correctness by calling self.core_set.\n",
      "19-12-20 11:34:57 pyemma.msm.estimators.maximum_likelihood_msm.MaximumLikelihoodMSM[89] WARNING  Empty core set while unassigned states (-1) in discrete trajectory. Defining core set automatically; check correctness by calling self.core_set.\n",
      "19-12-20 11:35:19 pyemma.msm.estimators.maximum_likelihood_msm.MaximumLikelihoodMSM[90] WARNING  Empty core set while unassigned states (-1) in discrete trajectory. Defining core set automatically; check correctness by calling self.core_set.\n",
      "19-12-20 11:35:40 pyemma.msm.estimators.maximum_likelihood_msm.MaximumLikelihoodMSM[91] WARNING  Empty core set while unassigned states (-1) in discrete trajectory. Defining core set automatically; check correctness by calling self.core_set.\n",
      "19-12-20 11:36:01 pyemma.msm.estimators.maximum_likelihood_msm.MaximumLikelihoodMSM[92] WARNING  Empty core set while unassigned states (-1) in discrete trajectory. Defining core set automatically; check correctness by calling self.core_set.\n",
      "19-12-20 11:36:23 pyemma.msm.estimators.maximum_likelihood_msm.MaximumLikelihoodMSM[93] WARNING  Empty core set while unassigned states (-1) in discrete trajectory. Defining core set automatically; check correctness by calling self.core_set.\n",
      "19-12-20 11:36:45 pyemma.msm.estimators.maximum_likelihood_msm.MaximumLikelihoodMSM[94] WARNING  Empty core set while unassigned states (-1) in discrete trajectory. Defining core set automatically; check correctness by calling self.core_set.\n",
      "19-12-20 11:37:06 pyemma.msm.estimators.maximum_likelihood_msm.MaximumLikelihoodMSM[95] WARNING  Empty core set while unassigned states (-1) in discrete trajectory. Defining core set automatically; check correctness by calling self.core_set.\n",
      "19-12-20 11:37:27 pyemma.msm.estimators.maximum_likelihood_msm.MaximumLikelihoodMSM[96] WARNING  Empty core set while unassigned states (-1) in discrete trajectory. Defining core set automatically; check correctness by calling self.core_set.\n",
      "19-12-20 11:37:49 pyemma.msm.estimators.maximum_likelihood_msm.MaximumLikelihoodMSM[97] WARNING  Empty core set while unassigned states (-1) in discrete trajectory. Defining core set automatically; check correctness by calling self.core_set.\n",
      "19-12-20 11:38:10 pyemma.msm.estimators.maximum_likelihood_msm.MaximumLikelihoodMSM[98] WARNING  Empty core set while unassigned states (-1) in discrete trajectory. Defining core set automatically; check correctness by calling self.core_set.\n",
      "19-12-20 11:38:33 pyemma.msm.estimators.maximum_likelihood_msm.MaximumLikelihoodMSM[99] WARNING  Empty core set while unassigned states (-1) in discrete trajectory. Defining core set automatically; check correctness by calling self.core_set.\n",
      "19-12-20 11:38:54 pyemma.msm.estimators.maximum_likelihood_msm.MaximumLikelihoodMSM[100] WARNING  Empty core set while unassigned states (-1) in discrete trajectory. Defining core set automatically; check correctness by calling self.core_set.\n",
      "19-12-20 11:39:16 pyemma.msm.estimators.maximum_likelihood_msm.MaximumLikelihoodMSM[101] WARNING  Empty core set while unassigned states (-1) in discrete trajectory. Defining core set automatically; check correctness by calling self.core_set.\n",
      "\n"
     ]
    }
   ],
   "source": [
    "samples = {}\n",
    "msms = {}\n",
    "for key in ['complete_m', 'complete_w']:\n",
    "    indices = metadata_partitions[key]\n",
    "\n",
    "\n",
    "    input_data_set = np.take(data,indices)\n",
    "    # Make sure that interviews with only one segment are not included\n",
    "    for i in range(0,input_data_set.shape[0]):\n",
    "        assert (input_data_set[i].shape[0]>1)\n",
    "\n",
    "\n",
    "    # Estimate fuzzy trajectories\n",
    "    #empyt = [element[0] for element in input_data_set if element[0].sum()==0]\n",
    "    trajs = mu.estimate_fuzzy_trajectories(input_data_set)\n",
    "\n",
    "    # Estimate the Markov model from the trajectories\n",
    "    msm = mu.estimate_markov_model_from_trajectories(trajs)\n",
    "    \n",
    "    error_est = estimate_pi_error(trajs, msm, return_samples=True, ntrails=50)\n",
    "    \n",
    "    samples[key] = error_est\n",
    "    msms[key] = msm"
   ]
  },
  {
   "cell_type": "code",
   "execution_count": 9,
   "metadata": {},
   "outputs": [],
   "source": [
    "from pyemma.util.statistics import confidence_interval"
   ]
  },
  {
   "cell_type": "code",
   "execution_count": 65,
   "metadata": {},
   "outputs": [
    {
     "data": {
      "text/plain": [
       "Text(0.5,1,'food sharing')"
      ]
     },
     "execution_count": 65,
     "metadata": {},
     "output_type": "execute_result"
    },
    {
     "data": {
      "image/png": "[encoded data removed]",
      "text/plain": [
       "<Figure size 432x288 with 1 Axes>"
      ]
     },
     "metadata": {
      "needs_background": "light"
     },
     "output_type": "display_data"
    }
   ],
   "source": [
    "food_sharing_index = 34\n",
    "for n, k in enumerate(['complete_m', 'complete_w']):\n",
    "    state_samples = samples[k][:, food_sharing_index]\n",
    "    plt.hist(state_samples, bins=20, label=f'sample dist {k}', color=f'C{n}')\n",
    "    \n",
    "    lower_confidence, upper_confidence = confidence_interval(state_samples, 0.68)\n",
    "    plt.vlines(lower_confidence, 0, 10,  color=f'C{n}', linestyle=':', label=f'lower conf {k}')\n",
    "    plt.vlines(upper_confidence, 0, 10,  color=f'C{n}', linestyle='--', label=f'upper conf {k}')\n",
    "    plt.vlines(msms[k].pi[food_sharing_index], 0, 10, color='k', label='ML estimate' if n==1 else None)\n",
    "    \n",
    "plt.legend()\n",
    "plt.title('food sharing')"
   ]
  },
  {
   "cell_type": "code",
   "execution_count": null,
   "metadata": {},
   "outputs": [],
   "source": []
  },
  {
   "cell_type": "code",
   "execution_count": null,
   "metadata": {},
   "outputs": [],
   "source": [
    "### PLEASE IGNORE BELOW!"
   ]
  },
  {
   "cell_type": "code",
   "execution_count": null,
   "metadata": {},
   "outputs": [],
   "source": []
  },
  {
   "cell_type": "code",
   "execution_count": null,
   "metadata": {},
   "outputs": [],
   "source": [
    "msm.nstates"
   ]
  },
  {
   "cell_type": "code",
   "execution_count": null,
   "metadata": {},
   "outputs": [],
   "source": [
    "msms = {}\n",
    "bmsms = {}\n",
    "for l in labels:\n",
    "    msms[l] = pyemma.load(f'../data/output/markov_modelling/{l}/pyemma_model', \n",
    "                 model_name='simple')\n",
    "    bmsms[l] = pyemma.load(f'../data/output/markov_modelling/{l}/pyemma_model_bayes', \n",
    "                 model_name='simple')"
   ]
  },
  {
   "cell_type": "code",
   "execution_count": null,
   "metadata": {},
   "outputs": [],
   "source": []
  },
  {
   "cell_type": "code",
   "execution_count": null,
   "metadata": {},
   "outputs": [],
   "source": [
    "ntrails = 10\n",
    "msmlag=2"
   ]
  },
  {
   "cell_type": "code",
   "execution_count": null,
   "metadata": {},
   "outputs": [],
   "source": []
  },
  {
   "cell_type": "code",
   "execution_count": null,
   "metadata": {},
   "outputs": [],
   "source": [
    "bootstrapping_trajs = {}\n",
    "bootstrapping_asshmms = {}\n",
    "bootstrapping_samples = {}\n",
    "itses = {}\n",
    "pi_samples = {}\n",
    "\n",
    "for partition in tqdm(metadata_partitions):\n",
    "    print(partition)\n",
    "    \n",
    "    indices = metadata_partitions[key]\n",
    "    input_data_set = np.take(data,indices)\n",
    "\n",
    "\n",
    "    # Estimate fuzzy trajectories\n",
    "    dtrajs = mu.estimate_fuzzy_trajectories(input_data_set)\n",
    "    \n",
    "    bootstrapping_samples[partition] = []\n",
    "    itses[partition] = []\n",
    "    pi_samples[partition] = np.zeros((ntrails, np.concatenate(dtrajs).max() + 1))\n",
    "    \n",
    "    \n",
    "\n",
    "    for trial in tqdm(range(ntrails)):\n",
    "        ts = -1\n",
    "        try:\n",
    "            # DTRAJS = ....\n",
    "            \n",
    "            # attention, lagging outside bc of stride\n",
    "            bs_sample = np.random.choice(len(dtrajs), \n",
    "                 size=len(dtrajs), \n",
    "                replace=True)\n",
    "            dtraj_sample = list(np.array(dtrajs)[bs_sample])\n",
    "\n",
    "            msm = pyemma.msm.estimate_markov_model(dtraj_sample, \n",
    "                                                    lag=msmlag)\n",
    "            \n",
    "            itses[partition].append(msm.timescales().max())\n",
    "            #ratematrix = get_ratematrix(association_binding_model, association_binding_model.lag)\n",
    "            pi_samples[partition][trial, :] = msm.pi\n",
    "        except Exception as e: # was exception\n",
    "            print(e)\n",
    "            \n",
    "    break"
   ]
  },
  {
   "cell_type": "code",
   "execution_count": null,
   "metadata": {},
   "outputs": [],
   "source": []
  },
  {
   "cell_type": "code",
   "execution_count": null,
   "metadata": {},
   "outputs": [],
   "source": [
    "msm.active_set.shape"
   ]
  },
  {
   "cell_type": "code",
   "execution_count": null,
   "metadata": {},
   "outputs": [],
   "source": [
    "msm.pi.shape"
   ]
  },
  {
   "cell_type": "code",
   "execution_count": null,
   "metadata": {},
   "outputs": [],
   "source": [
    "lower_confidence.shape"
   ]
  },
  {
   "cell_type": "code",
   "execution_count": null,
   "metadata": {},
   "outputs": [],
   "source": [
    "std.shape"
   ]
  },
  {
   "cell_type": "code",
   "execution_count": null,
   "metadata": {},
   "outputs": [],
   "source": [
    "upper_confidence.shape"
   ]
  },
  {
   "cell_type": "code",
   "execution_count": null,
   "metadata": {},
   "outputs": [],
   "source": [
    "probabilities = pd.DataFrame(np.array([msm.active_set, msm.pi, std, lower_confidence, upper_confidence]).T,\n",
    "                    columns=['State', 'StatDist', 'Std', 'LowerConf', 'UpperConf'], )\n",
    "probabilities['State'] = probabilities['State'].astype(int)\n",
    "probabilities"
   ]
  },
  {
   "cell_type": "code",
   "execution_count": null,
   "metadata": {},
   "outputs": [],
   "source": [
    "probabilities.to_csv('')"
   ]
  },
  {
   "cell_type": "code",
   "execution_count": null,
   "metadata": {},
   "outputs": [],
   "source": []
  },
  {
   "cell_type": "code",
   "execution_count": null,
   "metadata": {},
   "outputs": [],
   "source": [
    "\n",
    "std = pi_samples['complete'].std(axis=0)\n",
    "lower_confidence, upper_confidence = confidence_interval(pi_samples['complete'])\n",
    "plt.plot(msm.pi)\n",
    "plt.plot(lower_confidence)\n",
    "plt.plot(upper_confidence)\n",
    "plt.plot(msm.pi + std)\n",
    "plt.plot(msm.pi - std)"
   ]
  },
  {
   "cell_type": "code",
   "execution_count": null,
   "metadata": {},
   "outputs": [],
   "source": [
    "pi_samples['complete']"
   ]
  },
  {
   "cell_type": "code",
   "execution_count": null,
   "metadata": {},
   "outputs": [],
   "source": [
    "fig, ax = plt.subplots(2, 3, figsize=(10, 4))\n",
    "for state in range(3):\n",
    "    for _n, d in enumerate(drugs):\n",
    "        #print(pi_samples[d][:, state].mean())\n",
    "        ax[0, state].hist(pi_samples[d][:, state], color=f'C{_n}', alpha=.5, \n",
    "                       label=d if state == 0 else None)\n",
    "        ax[0, state].vlines(association_binding_models[d].pi[state], 0, \n",
    "                    ax[0, state].get_ylim()[1], \n",
    "                    color=f'C{_n}', linestyle=':')\n",
    "fig.legend()"
   ]
  },
  {
   "cell_type": "code",
   "execution_count": null,
   "metadata": {},
   "outputs": [],
   "source": []
  }
 ],
 "metadata": {
  "kernelspec": {
   "display_name": "Python 3",
   "language": "python",
   "name": "python3"
  },
  "language_info": {
   "codemirror_mode": {
    "name": "ipython",
    "version": 3
   },
   "file_extension": ".py",
   "mimetype": "text/x-python",
   "name": "python",
   "nbconvert_exporter": "python",
   "pygments_lexer": "ipython3",
   "version": "3.7.2"
  }
 },
 "nbformat": 4,
 "nbformat_minor": 4
}
